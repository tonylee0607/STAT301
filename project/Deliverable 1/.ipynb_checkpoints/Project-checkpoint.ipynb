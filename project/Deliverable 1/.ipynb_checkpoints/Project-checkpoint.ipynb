{
 "cells": [
  {
   "cell_type": "markdown",
   "id": "575b2292-9cde-43d6-937f-29ff638a0d96",
   "metadata": {},
   "source": [
    "# STAT 301 Statistical Modelling for Data Science"
   ]
  },
  {
   "cell_type": "markdown",
   "id": "1d520fa5-cdde-4c12-9d92-a417a33720b4",
   "metadata": {},
   "source": [
    "# Assignment 1: Data and Question(s)"
   ]
  },
  {
   "cell_type": "markdown",
   "id": "dcf530b7-e0f0-4ab0-873f-32f5fb963ff7",
   "metadata": {},
   "source": [
    "### Name: Tony Lee (24689788)"
   ]
  },
  {
   "cell_type": "code",
   "execution_count": 1,
   "id": "e07b830f-2269-4806-95ce-826716abd416",
   "metadata": {
    "tags": []
   },
   "outputs": [
    {
     "name": "stderr",
     "output_type": "stream",
     "text": [
      "── \u001b[1mAttaching core tidyverse packages\u001b[22m ──────────────────────── tidyverse 2.0.0 ──\n",
      "\u001b[32m✔\u001b[39m \u001b[34mdplyr    \u001b[39m 1.1.4     \u001b[32m✔\u001b[39m \u001b[34mpurrr    \u001b[39m 1.0.2\n",
      "\u001b[32m✔\u001b[39m \u001b[34mforcats  \u001b[39m 1.0.0     \u001b[32m✔\u001b[39m \u001b[34mstringr  \u001b[39m 1.5.1\n",
      "\u001b[32m✔\u001b[39m \u001b[34mggplot2  \u001b[39m 3.4.4     \u001b[32m✔\u001b[39m \u001b[34mtibble   \u001b[39m 3.2.1\n",
      "\u001b[32m✔\u001b[39m \u001b[34mlubridate\u001b[39m 1.9.3     \u001b[32m✔\u001b[39m \u001b[34mtidyr    \u001b[39m 1.3.0\n",
      "── \u001b[1mConflicts\u001b[22m ────────────────────────────────────────── tidyverse_conflicts() ──\n",
      "\u001b[31m✖\u001b[39m \u001b[34mdplyr\u001b[39m::\u001b[32mfilter()\u001b[39m masks \u001b[34mstats\u001b[39m::filter()\n",
      "\u001b[31m✖\u001b[39m \u001b[34mdplyr\u001b[39m::\u001b[32mlag()\u001b[39m    masks \u001b[34mstats\u001b[39m::lag()\n",
      "\u001b[36mℹ\u001b[39m Use the conflicted package (\u001b[3m\u001b[34m<http://conflicted.r-lib.org/>\u001b[39m\u001b[23m) to force all conflicts to become errors\n",
      "\n",
      "Attaching package: ‘cowplot’\n",
      "\n",
      "\n",
      "The following object is masked from ‘package:lubridate’:\n",
      "\n",
      "    stamp\n",
      "\n",
      "\n",
      "Registered S3 method overwritten by 'GGally':\n",
      "  method from   \n",
      "  +.gg   ggplot2\n",
      "\n",
      "Loading required package: car\n",
      "\n",
      "Loading required package: carData\n",
      "\n",
      "\n",
      "Attaching package: ‘car’\n",
      "\n",
      "\n",
      "The following object is masked from ‘package:dplyr’:\n",
      "\n",
      "    recode\n",
      "\n",
      "\n",
      "The following object is masked from ‘package:purrr’:\n",
      "\n",
      "    some\n",
      "\n",
      "\n",
      "Loading required package: lmtest\n",
      "\n",
      "Loading required package: zoo\n",
      "\n",
      "\n",
      "Attaching package: ‘zoo’\n",
      "\n",
      "\n",
      "The following objects are masked from ‘package:base’:\n",
      "\n",
      "    as.Date, as.Date.numeric\n",
      "\n",
      "\n",
      "Loading required package: sandwich\n",
      "\n",
      "Loading required package: survival\n",
      "\n"
     ]
    }
   ],
   "source": [
    "# Run this cell before continuing.\n",
    "library(readr)\n",
    "library(tidyverse)\n",
    "library(repr)\n",
    "library(infer)\n",
    "library(dplyr)\n",
    "library(cowplot)\n",
    "library(broom)\n",
    "library(GGally)\n",
    "library(AER)"
   ]
  },
  {
   "cell_type": "markdown",
   "id": "1de826ce-323b-41b7-9d3e-8721a95ca7b5",
   "metadata": {
    "tags": []
   },
   "source": [
    "# Loading the Repositories data"
   ]
  },
  {
   "cell_type": "code",
   "execution_count": 2,
   "id": "5d417912-1ae1-4201-8bf2-289fc27a8566",
   "metadata": {
    "tags": []
   },
   "outputs": [
    {
     "name": "stderr",
     "output_type": "stream",
     "text": [
      "\u001b[1mRows: \u001b[22m\u001b[34m215029\u001b[39m \u001b[1mColumns: \u001b[22m\u001b[34m24\u001b[39m\n",
      "\u001b[36m──\u001b[39m \u001b[1mColumn specification\u001b[22m \u001b[36m────────────────────────────────────────────────────────\u001b[39m\n",
      "\u001b[1mDelimiter:\u001b[22m \",\"\n",
      "\u001b[31mchr\u001b[39m  (8): Name, Description, URL, Homepage, Language, License, Topics, Defau...\n",
      "\u001b[32mdbl\u001b[39m  (5): Size, Stars, Forks, Issues, Watchers\n",
      "\u001b[33mlgl\u001b[39m  (9): Has Issues, Has Projects, Has Downloads, Has Wiki, Has Pages, Has ...\n",
      "\u001b[34mdttm\u001b[39m (2): Created At, Updated At\n",
      "\n",
      "\u001b[36mℹ\u001b[39m Use `spec()` to retrieve the full column specification for this data.\n",
      "\u001b[36mℹ\u001b[39m Specify the column types or set `show_col_types = FALSE` to quiet this message.\n"
     ]
    },
    {
     "data": {
      "text/html": [
       "<table class=\"dataframe\">\n",
       "<caption>A tibble: 6 × 24</caption>\n",
       "<thead>\n",
       "\t<tr><th scope=col>Name</th><th scope=col>Description</th><th scope=col>URL</th><th scope=col>Created At</th><th scope=col>Updated At</th><th scope=col>Homepage</th><th scope=col>Size</th><th scope=col>Stars</th><th scope=col>Forks</th><th scope=col>Issues</th><th scope=col>⋯</th><th scope=col>Has Issues</th><th scope=col>Has Projects</th><th scope=col>Has Downloads</th><th scope=col>Has Wiki</th><th scope=col>Has Pages</th><th scope=col>Has Discussions</th><th scope=col>Is Fork</th><th scope=col>Is Archived</th><th scope=col>Is Template</th><th scope=col>Default Branch</th></tr>\n",
       "\t<tr><th scope=col>&lt;chr&gt;</th><th scope=col>&lt;chr&gt;</th><th scope=col>&lt;chr&gt;</th><th scope=col>&lt;dttm&gt;</th><th scope=col>&lt;dttm&gt;</th><th scope=col>&lt;chr&gt;</th><th scope=col>&lt;dbl&gt;</th><th scope=col>&lt;dbl&gt;</th><th scope=col>&lt;dbl&gt;</th><th scope=col>&lt;dbl&gt;</th><th scope=col>⋯</th><th scope=col>&lt;lgl&gt;</th><th scope=col>&lt;lgl&gt;</th><th scope=col>&lt;lgl&gt;</th><th scope=col>&lt;lgl&gt;</th><th scope=col>&lt;lgl&gt;</th><th scope=col>&lt;lgl&gt;</th><th scope=col>&lt;lgl&gt;</th><th scope=col>&lt;lgl&gt;</th><th scope=col>&lt;lgl&gt;</th><th scope=col>&lt;chr&gt;</th></tr>\n",
       "</thead>\n",
       "<tbody>\n",
       "\t<tr><td>freeCodeCamp               </td><td>freeCodeCamp.org's open-source codebase and curriculum. Learn to code for free.         </td><td>https://github.com/freeCodeCamp/freeCodeCamp             </td><td>2014-12-24 17:49:19</td><td>2023-09-21 11:32:33</td><td>http://contribute.freecodecamp.org/                      </td><td>387451</td><td>374074</td><td>33599</td><td>  248</td><td>⋯</td><td> TRUE</td><td> TRUE</td><td>TRUE</td><td>FALSE</td><td> TRUE</td><td>FALSE</td><td>FALSE</td><td>FALSE</td><td>FALSE</td><td>main  </td></tr>\n",
       "\t<tr><td>free-programming-books     </td><td>:books: Freely available programming books                                              </td><td>https://github.com/EbookFoundation/free-programming-books</td><td>2013-10-11 06:50:37</td><td>2023-09-21 11:09:25</td><td>https://ebookfoundation.github.io/free-programming-books/</td><td> 17087</td><td>298393</td><td>57194</td><td>   46</td><td>⋯</td><td> TRUE</td><td>FALSE</td><td>TRUE</td><td>FALSE</td><td> TRUE</td><td>FALSE</td><td>FALSE</td><td>FALSE</td><td>FALSE</td><td>main  </td></tr>\n",
       "\t<tr><td>awesome                    </td><td>😎 Awesome lists about all kinds of interesting topics                                  </td><td>https://github.com/sindresorhus/awesome                  </td><td>2014-07-11 13:42:37</td><td>2023-09-21 11:18:22</td><td>NA                                                       </td><td>  1441</td><td>269997</td><td>26485</td><td>   61</td><td>⋯</td><td> TRUE</td><td>FALSE</td><td>TRUE</td><td>FALSE</td><td> TRUE</td><td>FALSE</td><td>FALSE</td><td>FALSE</td><td>FALSE</td><td>main  </td></tr>\n",
       "\t<tr><td>996.ICU                    </td><td>Repo for counting stars and contributing. Press F to pay respect to glorious developers.</td><td>https://github.com/996icu/996.ICU                        </td><td>2019-03-26 07:31:14</td><td>2023-09-21 08:09:01</td><td>https://996.icu                                          </td><td>187799</td><td>267901</td><td>21497</td><td>16712</td><td>⋯</td><td>FALSE</td><td>FALSE</td><td>TRUE</td><td>FALSE</td><td>FALSE</td><td>FALSE</td><td>FALSE</td><td> TRUE</td><td>FALSE</td><td>master</td></tr>\n",
       "\t<tr><td>coding-interview-university</td><td>A complete computer science study plan to become a software engineer.                   </td><td>https://github.com/jwasham/coding-interview-university   </td><td>2016-06-06 02:34:12</td><td>2023-09-21 10:54:48</td><td>NA                                                       </td><td> 20998</td><td>265161</td><td>69434</td><td>   56</td><td>⋯</td><td> TRUE</td><td>FALSE</td><td>TRUE</td><td>FALSE</td><td>FALSE</td><td>FALSE</td><td>FALSE</td><td>FALSE</td><td>FALSE</td><td>main  </td></tr>\n",
       "\t<tr><td>public-apis                </td><td>A collective list of free APIs                                                          </td><td>https://github.com/public-apis/public-apis               </td><td>2016-03-20 23:49:42</td><td>2023-09-21 11:22:06</td><td>http://public-apis.org                                   </td><td>  5088</td><td>256615</td><td>29254</td><td>  191</td><td>⋯</td><td> TRUE</td><td>FALSE</td><td>TRUE</td><td>FALSE</td><td>FALSE</td><td>FALSE</td><td>FALSE</td><td>FALSE</td><td>FALSE</td><td>master</td></tr>\n",
       "</tbody>\n",
       "</table>\n"
      ],
      "text/latex": [
       "A tibble: 6 × 24\n",
       "\\begin{tabular}{lllllllllllllllllllll}\n",
       " Name & Description & URL & Created At & Updated At & Homepage & Size & Stars & Forks & Issues & ⋯ & Has Issues & Has Projects & Has Downloads & Has Wiki & Has Pages & Has Discussions & Is Fork & Is Archived & Is Template & Default Branch\\\\\n",
       " <chr> & <chr> & <chr> & <dttm> & <dttm> & <chr> & <dbl> & <dbl> & <dbl> & <dbl> & ⋯ & <lgl> & <lgl> & <lgl> & <lgl> & <lgl> & <lgl> & <lgl> & <lgl> & <lgl> & <chr>\\\\\n",
       "\\hline\n",
       "\t freeCodeCamp                & freeCodeCamp.org's open-source codebase and curriculum. Learn to code for free.          & https://github.com/freeCodeCamp/freeCodeCamp              & 2014-12-24 17:49:19 & 2023-09-21 11:32:33 & http://contribute.freecodecamp.org/                       & 387451 & 374074 & 33599 &   248 & ⋯ &  TRUE &  TRUE & TRUE & FALSE &  TRUE & FALSE & FALSE & FALSE & FALSE & main  \\\\\n",
       "\t free-programming-books      & :books: Freely available programming books                                               & https://github.com/EbookFoundation/free-programming-books & 2013-10-11 06:50:37 & 2023-09-21 11:09:25 & https://ebookfoundation.github.io/free-programming-books/ &  17087 & 298393 & 57194 &    46 & ⋯ &  TRUE & FALSE & TRUE & FALSE &  TRUE & FALSE & FALSE & FALSE & FALSE & main  \\\\\n",
       "\t awesome                     & 😎 Awesome lists about all kinds of interesting topics                                   & https://github.com/sindresorhus/awesome                   & 2014-07-11 13:42:37 & 2023-09-21 11:18:22 & NA                                                        &   1441 & 269997 & 26485 &    61 & ⋯ &  TRUE & FALSE & TRUE & FALSE &  TRUE & FALSE & FALSE & FALSE & FALSE & main  \\\\\n",
       "\t 996.ICU                     & Repo for counting stars and contributing. Press F to pay respect to glorious developers. & https://github.com/996icu/996.ICU                         & 2019-03-26 07:31:14 & 2023-09-21 08:09:01 & https://996.icu                                           & 187799 & 267901 & 21497 & 16712 & ⋯ & FALSE & FALSE & TRUE & FALSE & FALSE & FALSE & FALSE &  TRUE & FALSE & master\\\\\n",
       "\t coding-interview-university & A complete computer science study plan to become a software engineer.                    & https://github.com/jwasham/coding-interview-university    & 2016-06-06 02:34:12 & 2023-09-21 10:54:48 & NA                                                        &  20998 & 265161 & 69434 &    56 & ⋯ &  TRUE & FALSE & TRUE & FALSE & FALSE & FALSE & FALSE & FALSE & FALSE & main  \\\\\n",
       "\t public-apis                 & A collective list of free APIs                                                           & https://github.com/public-apis/public-apis                & 2016-03-20 23:49:42 & 2023-09-21 11:22:06 & http://public-apis.org                                    &   5088 & 256615 & 29254 &   191 & ⋯ &  TRUE & FALSE & TRUE & FALSE & FALSE & FALSE & FALSE & FALSE & FALSE & master\\\\\n",
       "\\end{tabular}\n"
      ],
      "text/markdown": [
       "\n",
       "A tibble: 6 × 24\n",
       "\n",
       "| Name &lt;chr&gt; | Description &lt;chr&gt; | URL &lt;chr&gt; | Created At &lt;dttm&gt; | Updated At &lt;dttm&gt; | Homepage &lt;chr&gt; | Size &lt;dbl&gt; | Stars &lt;dbl&gt; | Forks &lt;dbl&gt; | Issues &lt;dbl&gt; | ⋯ ⋯ | Has Issues &lt;lgl&gt; | Has Projects &lt;lgl&gt; | Has Downloads &lt;lgl&gt; | Has Wiki &lt;lgl&gt; | Has Pages &lt;lgl&gt; | Has Discussions &lt;lgl&gt; | Is Fork &lt;lgl&gt; | Is Archived &lt;lgl&gt; | Is Template &lt;lgl&gt; | Default Branch &lt;chr&gt; |\n",
       "|---|---|---|---|---|---|---|---|---|---|---|---|---|---|---|---|---|---|---|---|---|\n",
       "| freeCodeCamp                | freeCodeCamp.org's open-source codebase and curriculum. Learn to code for free.          | https://github.com/freeCodeCamp/freeCodeCamp              | 2014-12-24 17:49:19 | 2023-09-21 11:32:33 | http://contribute.freecodecamp.org/                       | 387451 | 374074 | 33599 |   248 | ⋯ |  TRUE |  TRUE | TRUE | FALSE |  TRUE | FALSE | FALSE | FALSE | FALSE | main   |\n",
       "| free-programming-books      | :books: Freely available programming books                                               | https://github.com/EbookFoundation/free-programming-books | 2013-10-11 06:50:37 | 2023-09-21 11:09:25 | https://ebookfoundation.github.io/free-programming-books/ |  17087 | 298393 | 57194 |    46 | ⋯ |  TRUE | FALSE | TRUE | FALSE |  TRUE | FALSE | FALSE | FALSE | FALSE | main   |\n",
       "| awesome                     | 😎 Awesome lists about all kinds of interesting topics                                   | https://github.com/sindresorhus/awesome                   | 2014-07-11 13:42:37 | 2023-09-21 11:18:22 | NA                                                        |   1441 | 269997 | 26485 |    61 | ⋯ |  TRUE | FALSE | TRUE | FALSE |  TRUE | FALSE | FALSE | FALSE | FALSE | main   |\n",
       "| 996.ICU                     | Repo for counting stars and contributing. Press F to pay respect to glorious developers. | https://github.com/996icu/996.ICU                         | 2019-03-26 07:31:14 | 2023-09-21 08:09:01 | https://996.icu                                           | 187799 | 267901 | 21497 | 16712 | ⋯ | FALSE | FALSE | TRUE | FALSE | FALSE | FALSE | FALSE |  TRUE | FALSE | master |\n",
       "| coding-interview-university | A complete computer science study plan to become a software engineer.                    | https://github.com/jwasham/coding-interview-university    | 2016-06-06 02:34:12 | 2023-09-21 10:54:48 | NA                                                        |  20998 | 265161 | 69434 |    56 | ⋯ |  TRUE | FALSE | TRUE | FALSE | FALSE | FALSE | FALSE | FALSE | FALSE | main   |\n",
       "| public-apis                 | A collective list of free APIs                                                           | https://github.com/public-apis/public-apis                | 2016-03-20 23:49:42 | 2023-09-21 11:22:06 | http://public-apis.org                                    |   5088 | 256615 | 29254 |   191 | ⋯ |  TRUE | FALSE | TRUE | FALSE | FALSE | FALSE | FALSE | FALSE | FALSE | master |\n",
       "\n"
      ],
      "text/plain": [
       "  Name                       \n",
       "1 freeCodeCamp               \n",
       "2 free-programming-books     \n",
       "3 awesome                    \n",
       "4 996.ICU                    \n",
       "5 coding-interview-university\n",
       "6 public-apis                \n",
       "  Description                                                                             \n",
       "1 freeCodeCamp.org's open-source codebase and curriculum. Learn to code for free.         \n",
       "2 :books: Freely available programming books                                              \n",
       "3 😎 Awesome lists about all kinds of interesting topics                                  \n",
       "4 Repo for counting stars and contributing. Press F to pay respect to glorious developers.\n",
       "5 A complete computer science study plan to become a software engineer.                   \n",
       "6 A collective list of free APIs                                                          \n",
       "  URL                                                       Created At         \n",
       "1 https://github.com/freeCodeCamp/freeCodeCamp              2014-12-24 17:49:19\n",
       "2 https://github.com/EbookFoundation/free-programming-books 2013-10-11 06:50:37\n",
       "3 https://github.com/sindresorhus/awesome                   2014-07-11 13:42:37\n",
       "4 https://github.com/996icu/996.ICU                         2019-03-26 07:31:14\n",
       "5 https://github.com/jwasham/coding-interview-university    2016-06-06 02:34:12\n",
       "6 https://github.com/public-apis/public-apis                2016-03-20 23:49:42\n",
       "  Updated At          Homepage                                                 \n",
       "1 2023-09-21 11:32:33 http://contribute.freecodecamp.org/                      \n",
       "2 2023-09-21 11:09:25 https://ebookfoundation.github.io/free-programming-books/\n",
       "3 2023-09-21 11:18:22 NA                                                       \n",
       "4 2023-09-21 08:09:01 https://996.icu                                          \n",
       "5 2023-09-21 10:54:48 NA                                                       \n",
       "6 2023-09-21 11:22:06 http://public-apis.org                                   \n",
       "  Size   Stars  Forks Issues ⋯ Has Issues Has Projects Has Downloads Has Wiki\n",
       "1 387451 374074 33599   248  ⋯  TRUE       TRUE        TRUE          FALSE   \n",
       "2  17087 298393 57194    46  ⋯  TRUE      FALSE        TRUE          FALSE   \n",
       "3   1441 269997 26485    61  ⋯  TRUE      FALSE        TRUE          FALSE   \n",
       "4 187799 267901 21497 16712  ⋯ FALSE      FALSE        TRUE          FALSE   \n",
       "5  20998 265161 69434    56  ⋯  TRUE      FALSE        TRUE          FALSE   \n",
       "6   5088 256615 29254   191  ⋯  TRUE      FALSE        TRUE          FALSE   \n",
       "  Has Pages Has Discussions Is Fork Is Archived Is Template Default Branch\n",
       "1  TRUE     FALSE           FALSE   FALSE       FALSE       main          \n",
       "2  TRUE     FALSE           FALSE   FALSE       FALSE       main          \n",
       "3  TRUE     FALSE           FALSE   FALSE       FALSE       main          \n",
       "4 FALSE     FALSE           FALSE    TRUE       FALSE       master        \n",
       "5 FALSE     FALSE           FALSE   FALSE       FALSE       main          \n",
       "6 FALSE     FALSE           FALSE   FALSE       FALSE       master        "
      ]
     },
     "metadata": {},
     "output_type": "display_data"
    }
   ],
   "source": [
    "repository_data <- read_csv(\"repositories.csv\")\n",
    "head(repository_data)"
   ]
  },
  {
   "cell_type": "markdown",
   "id": "e5c2a804-1a94-4650-9374-1d1adf97a3e4",
   "metadata": {},
   "source": [
    "### There are total 215029 observations and 24 different variables in this dataset."
   ]
  },
  {
   "cell_type": "markdown",
   "id": "e9b7eed7-5cae-49cb-a1e0-60e1f24ce195",
   "metadata": {
    "tags": []
   },
   "source": [
    "# Data of Most Popular Github Repositories "
   ]
  },
  {
   "cell_type": "markdown",
   "id": "4aabb829-bcd3-4e9e-a563-46caf2530948",
   "metadata": {},
   "source": [
    "In this Project, we will use a real world dataset from over 215k top projects by star with over 167 stars. The repository data set (`repositories.csv`) comes with an R package called `repository_data`. This dataset contains information about repositories posted on the GitHub website. It includes detailed information such as the specific address of a repository or background information related to it. The dataset provides details on the number of times an individual has accessed the repository, the number of likes or times it has been forked, as well as the creation and update dates of the repository. This information aids in understanding trends and effects related to the repositories.\n",
    "\n",
    "\n",
    "The dataset contains data on information of repositories from dataset, Among many variables available we will use the following:\n",
    "\n",
    "- `Name`: The name of the GitHub repository\n",
    "\n",
    "- `Description`: A brief textual description that summarizes the purpose or focus of the repository\n",
    "\n",
    "- `URL`: The URL or web address that links to the GitHub repository, which is a unique identifier for the repository\n",
    "\n",
    "- `Created At`: The date and time when the repository was initially created on GitHub, in ISO 8601 format\n",
    "\n",
    "- `Updated At`: The date and time of the most recent update or modification to the repository, in ISO 8601 format\n",
    "\n",
    "- `Homepage`: The URL to the homepage or landing page associated with the repository, providing additional information or resources\n",
    "\n",
    "- `Size`: The size of the repository in bytes, indicating the total storage space used by the repository's files and data\n",
    "\n",
    "- `Stars`: The number of stars or likes that the repository has received from other GitHub users, indicating its popularity or interest\n",
    "\n",
    "- `Forks`: The number of times the repository has been forked by other GitHub users\n",
    "\n",
    "- `Issues`: The total number of open issues\n",
    "\n",
    "- `Watchers`: The number of GitHub users who are \"watching\" or monitoring the repository for updates and changes\n",
    "\n",
    "- `Language`: The primary programming language\n",
    "\n",
    "- `License`: Information about the software license using a license identifier\n",
    "\n",
    "- `Topics`: A list of topics or tags associated with the repository, helping users discover related projects and topics of interest\n",
    "\n",
    "- `Has Issues`: A boolean value indicating whether the repository has an issue tracker enabled or not.\n",
    "\n",
    "- `Has Projects`: A boolean value indicating whether the repository uses GitHub Projects to manage and organize tasks and work items\n",
    "\n",
    "- `Has Downloads`: A boolean value indicating whether the repository offers downloadable files or assets to users\n",
    "\n",
    "- `Has Wiki`: A boolean value indicating whether the repository has an associated wiki with additional documentation and information\n",
    "\n",
    "- `Has Pages`: A boolean value indicating whether the repository has GitHub Pages enabled, allowing the creation of a website associated with the repository\n",
    "\n",
    "- `Has Discussions`: A boolean value indicating whether the repository has GitHub Discussions enabled, allowing community discussions and collaboration\n",
    "\n",
    "- `Is Fork`: A boolean value indicating whether the repository is a fork of another repository. In this case, it's false, meaning it is not a fork\n",
    "\n",
    "- `Is Archived`: A boolean value indicating whether the repository is archived. Archived repositories are typically read-only and are no longer actively maintained \n",
    "\n",
    "- `Is Template`: A boolean value indicating whether the repository is set up as a template\n",
    "\n",
    "- `Default Branch`: The name of the default branch\n",
    " \n",
    "\n"
   ]
  },
  {
   "cell_type": "markdown",
   "id": "79f9c868-e0ca-4038-9003-62d410ced61c",
   "metadata": {},
   "source": [
    "# Question"
   ]
  },
  {
   "cell_type": "markdown",
   "id": "deee7d61-634a-4153-bdbe-18cf602e006f",
   "metadata": {
    "tags": []
   },
   "source": [
    "> \"Is there a correlation between the number of Forks a GitHub repository has and its number of Stars and Issues? Additionally, is there an interaction effect between the Stars and Issues variables?\""
   ]
  },
  {
   "cell_type": "markdown",
   "id": "4f57f472-6bf7-4bc5-b0dc-151672e92513",
   "metadata": {},
   "source": [
    "#### Response Variable (Y):\n",
    "- `Forks`: Represents the number of times the repository has been forked by other users on GitHub. Definition of fork is the process of copying a repository from other user's account to another, allowing them to freely use with any changes without affecting the original. A high number of forks can represent a project's utility, popularity, or the collaborative quality it has generated.\n",
    "\n",
    "#### Explanatory Variables (X):\n",
    "- `Stars`: Indicates the number of stars or likes that the repository has received on GitHub. Stars are a way for users to mark a repository as a favorite, showing appreciation or a bookmark for interesting projects. It can reflect the popularity or quality of the repository's content among the GitHub community.\n",
    "\n",
    "- `Issues`: Counts the number of issues that have been reported in the repository. Issues are a great way for the community to track tasks, enhancements, and bugs associated with the repository.\n",
    "\n",
    "\n",
    "The question aims to explore the associations between the number of Stars and Issues a GitHub repository has and the likelihood of the repository being forked. The focus is on inference to understand if and how the explanatory variables of Stars and Issues are associated with the response variable of Forks. Moreover, the analysis aims to investigate whether there is an interaction effect where the combination of Stars and Issues has a different impact on Forks than what would be expected based on their individual associations."
   ]
  },
  {
   "cell_type": "markdown",
   "id": "4a3b1e98-6ed7-44ce-9049-89f2e46ade87",
   "metadata": {},
   "source": [
    "# Exploratory Data Analysis"
   ]
  },
  {
   "cell_type": "markdown",
   "id": "92f9446a-c13a-43dd-8138-6188e0bf7f15",
   "metadata": {},
   "source": [
    "## Wrangling Data"
   ]
  },
  {
   "cell_type": "code",
   "execution_count": 20,
   "id": "21a477e8-db52-427d-9563-9b204d47a8f9",
   "metadata": {
    "tags": []
   },
   "outputs": [
    {
     "name": "stderr",
     "output_type": "stream",
     "text": [
      "\u001b[1mRows: \u001b[22m\u001b[34m215029\u001b[39m \u001b[1mColumns: \u001b[22m\u001b[34m24\u001b[39m\n",
      "\u001b[36m──\u001b[39m \u001b[1mColumn specification\u001b[22m \u001b[36m────────────────────────────────────────────────────────\u001b[39m\n",
      "\u001b[1mDelimiter:\u001b[22m \",\"\n",
      "\u001b[31mchr\u001b[39m  (8): Name, Description, URL, Homepage, Language, License, Topics, Defau...\n",
      "\u001b[32mdbl\u001b[39m  (5): Size, Stars, Forks, Issues, Watchers\n",
      "\u001b[33mlgl\u001b[39m  (9): Has Issues, Has Projects, Has Downloads, Has Wiki, Has Pages, Has ...\n",
      "\u001b[34mdttm\u001b[39m (2): Created At, Updated At\n",
      "\n",
      "\u001b[36mℹ\u001b[39m Use `spec()` to retrieve the full column specification for this data.\n",
      "\u001b[36mℹ\u001b[39m Specify the column types or set `show_col_types = FALSE` to quiet this message.\n"
     ]
    },
    {
     "data": {
      "text/html": [
       "<table class=\"dataframe\">\n",
       "<caption>A tibble: 6 × 6</caption>\n",
       "<thead>\n",
       "\t<tr><th scope=col>Name</th><th scope=col>Forks</th><th scope=col>Stars</th><th scope=col>Issues</th><th scope=col>Has Issues</th><th scope=col>Is Fork</th></tr>\n",
       "\t<tr><th scope=col>&lt;chr&gt;</th><th scope=col>&lt;dbl&gt;</th><th scope=col>&lt;dbl&gt;</th><th scope=col>&lt;dbl&gt;</th><th scope=col>&lt;lgl&gt;</th><th scope=col>&lt;lgl&gt;</th></tr>\n",
       "</thead>\n",
       "<tbody>\n",
       "\t<tr><td>freeCodeCamp               </td><td>33599</td><td>374074</td><td>248</td><td>TRUE</td><td>FALSE</td></tr>\n",
       "\t<tr><td>free-programming-books     </td><td>57194</td><td>298393</td><td> 46</td><td>TRUE</td><td>FALSE</td></tr>\n",
       "\t<tr><td>awesome                    </td><td>26485</td><td>269997</td><td> 61</td><td>TRUE</td><td>FALSE</td></tr>\n",
       "\t<tr><td>coding-interview-university</td><td>69434</td><td>265161</td><td> 56</td><td>TRUE</td><td>FALSE</td></tr>\n",
       "\t<tr><td>public-apis                </td><td>29254</td><td>256615</td><td>191</td><td>TRUE</td><td>FALSE</td></tr>\n",
       "\t<tr><td>developer-roadmap          </td><td>34927</td><td>251416</td><td>643</td><td>TRUE</td><td>FALSE</td></tr>\n",
       "</tbody>\n",
       "</table>\n"
      ],
      "text/latex": [
       "A tibble: 6 × 6\n",
       "\\begin{tabular}{llllll}\n",
       " Name & Forks & Stars & Issues & Has Issues & Is Fork\\\\\n",
       " <chr> & <dbl> & <dbl> & <dbl> & <lgl> & <lgl>\\\\\n",
       "\\hline\n",
       "\t freeCodeCamp                & 33599 & 374074 & 248 & TRUE & FALSE\\\\\n",
       "\t free-programming-books      & 57194 & 298393 &  46 & TRUE & FALSE\\\\\n",
       "\t awesome                     & 26485 & 269997 &  61 & TRUE & FALSE\\\\\n",
       "\t coding-interview-university & 69434 & 265161 &  56 & TRUE & FALSE\\\\\n",
       "\t public-apis                 & 29254 & 256615 & 191 & TRUE & FALSE\\\\\n",
       "\t developer-roadmap           & 34927 & 251416 & 643 & TRUE & FALSE\\\\\n",
       "\\end{tabular}\n"
      ],
      "text/markdown": [
       "\n",
       "A tibble: 6 × 6\n",
       "\n",
       "| Name &lt;chr&gt; | Forks &lt;dbl&gt; | Stars &lt;dbl&gt; | Issues &lt;dbl&gt; | Has Issues &lt;lgl&gt; | Is Fork &lt;lgl&gt; |\n",
       "|---|---|---|---|---|---|\n",
       "| freeCodeCamp                | 33599 | 374074 | 248 | TRUE | FALSE |\n",
       "| free-programming-books      | 57194 | 298393 |  46 | TRUE | FALSE |\n",
       "| awesome                     | 26485 | 269997 |  61 | TRUE | FALSE |\n",
       "| coding-interview-university | 69434 | 265161 |  56 | TRUE | FALSE |\n",
       "| public-apis                 | 29254 | 256615 | 191 | TRUE | FALSE |\n",
       "| developer-roadmap           | 34927 | 251416 | 643 | TRUE | FALSE |\n",
       "\n"
      ],
      "text/plain": [
       "  Name                        Forks Stars  Issues Has Issues Is Fork\n",
       "1 freeCodeCamp                33599 374074 248    TRUE       FALSE  \n",
       "2 free-programming-books      57194 298393  46    TRUE       FALSE  \n",
       "3 awesome                     26485 269997  61    TRUE       FALSE  \n",
       "4 coding-interview-university 69434 265161  56    TRUE       FALSE  \n",
       "5 public-apis                 29254 256615 191    TRUE       FALSE  \n",
       "6 developer-roadmap           34927 251416 643    TRUE       FALSE  "
      ]
     },
     "metadata": {},
     "output_type": "display_data"
    }
   ],
   "source": [
    "data_set <- read_csv(\"repositories.csv\") %>%\n",
    "            select(Name, Forks, Stars, Issues, `Has Issues`, `Is Fork`) %>%\n",
    "            filter(`Has Issues` == TRUE, `Is Fork` == FALSE)\n",
    "\n",
    "head(data_set)"
   ]
  },
  {
   "cell_type": "markdown",
   "id": "775488e0-1b9b-4403-a21e-d5d522a1e1f6",
   "metadata": {},
   "source": [
    "In this case, we can filter that the repositories are monitored by tracker."
   ]
  },
  {
   "cell_type": "markdown",
   "id": "5ba2f199-3771-4e79-a30c-82a5f1a9146a",
   "metadata": {},
   "source": [
    "# Visualization"
   ]
  },
  {
   "cell_type": "code",
   "execution_count": null,
   "id": "db0e8c34-a52b-4915-ab49-7a7065bca689",
   "metadata": {},
   "outputs": [],
   "source": []
  }
 ],
 "metadata": {
  "kernelspec": {
   "display_name": "R",
   "language": "R",
   "name": "ir"
  },
  "language_info": {
   "codemirror_mode": "r",
   "file_extension": ".r",
   "mimetype": "text/x-r-source",
   "name": "R",
   "pygments_lexer": "r",
   "version": "4.2.3"
  }
 },
 "nbformat": 4,
 "nbformat_minor": 5
}
