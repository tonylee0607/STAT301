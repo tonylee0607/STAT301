{
 "cells": [
  {
   "cell_type": "markdown",
   "metadata": {
    "deletable": false,
    "editable": false,
    "nbgrader": {
     "cell_type": "markdown",
     "checksum": "c2bbf2d1aa462330a0a3a18e2c82f559",
     "grade": false,
     "grade_id": "cell-f1e1d845873036f4",
     "locked": true,
     "schema_version": 3,
     "solution": false,
     "task": false
    }
   },
   "source": [
    "# Tutorial 1: Introduction to Statistical Modelling and A/B Testing "
   ]
  },
  {
   "cell_type": "markdown",
   "metadata": {
    "deletable": false,
    "editable": false,
    "nbgrader": {
     "cell_type": "markdown",
     "checksum": "179f0e3212588759d0b759ab9c6a1ca1",
     "grade": false,
     "grade_id": "cell-82d9926086d47a80",
     "locked": true,
     "schema_version": 3,
     "solution": false,
     "task": false
    }
   },
   "source": [
    "## Learning Objectives\n",
    "\n",
    "After completing this week's worksheet and tutorial work, you will be able to:\n",
    "\n",
    "1. Describe the goals of hypothesis testing, in particular difference in means tests related to A/B testing.\n",
    "2. Give an example of a problem that requires A/B testing.\n",
    "3. List methods used to test difference in means between two populations.\n",
    "4. Interpret the results of hypothesis tests.\n",
    "5. Explain the relation between type I and type II errors, power and sample size in 2-sample hypothesis testing.\n",
    "6. Write a computer script to perform difference in means hypothesis testing and compute errors, power and p-values."
   ]
  },
  {
   "cell_type": "code",
   "execution_count": 1,
   "metadata": {
    "deletable": false,
    "editable": false,
    "nbgrader": {
     "cell_type": "code",
     "checksum": "ae94d4ef67eb6acd2af686470d162fde",
     "grade": false,
     "grade_id": "cell-a2a153352bc44a68",
     "locked": true,
     "schema_version": 3,
     "solution": false,
     "task": false
    },
    "tags": []
   },
   "outputs": [
    {
     "name": "stderr",
     "output_type": "stream",
     "text": [
      "── \u001b[1mAttaching core tidyverse packages\u001b[22m ──────────────────────── tidyverse 2.0.0 ──\n",
      "\u001b[32m✔\u001b[39m \u001b[34mdplyr    \u001b[39m 1.1.4     \u001b[32m✔\u001b[39m \u001b[34mreadr    \u001b[39m 2.1.4\n",
      "\u001b[32m✔\u001b[39m \u001b[34mforcats  \u001b[39m 1.0.0     \u001b[32m✔\u001b[39m \u001b[34mstringr  \u001b[39m 1.5.1\n",
      "\u001b[32m✔\u001b[39m \u001b[34mggplot2  \u001b[39m 3.4.4     \u001b[32m✔\u001b[39m \u001b[34mtibble   \u001b[39m 3.2.1\n",
      "\u001b[32m✔\u001b[39m \u001b[34mlubridate\u001b[39m 1.9.3     \u001b[32m✔\u001b[39m \u001b[34mtidyr    \u001b[39m 1.3.0\n",
      "\u001b[32m✔\u001b[39m \u001b[34mpurrr    \u001b[39m 1.0.2     \n",
      "── \u001b[1mConflicts\u001b[22m ────────────────────────────────────────── tidyverse_conflicts() ──\n",
      "\u001b[31m✖\u001b[39m \u001b[34mdplyr\u001b[39m::\u001b[32mfilter()\u001b[39m masks \u001b[34mstats\u001b[39m::filter()\n",
      "\u001b[31m✖\u001b[39m \u001b[34mdplyr\u001b[39m::\u001b[32mlag()\u001b[39m    masks \u001b[34mstats\u001b[39m::lag()\n",
      "\u001b[36mℹ\u001b[39m Use the conflicted package (\u001b[3m\u001b[34m<http://conflicted.r-lib.org/>\u001b[39m\u001b[23m) to force all conflicts to become errors\n",
      "\n",
      "Attaching package: ‘cowplot’\n",
      "\n",
      "\n",
      "The following object is masked from ‘package:lubridate’:\n",
      "\n",
      "    stamp\n",
      "\n",
      "\n",
      "\n",
      "Attaching package: ‘testthat’\n",
      "\n",
      "\n",
      "The following object is masked from ‘package:dplyr’:\n",
      "\n",
      "    matches\n",
      "\n",
      "\n",
      "The following object is masked from ‘package:purrr’:\n",
      "\n",
      "    is_null\n",
      "\n",
      "\n",
      "The following objects are masked from ‘package:readr’:\n",
      "\n",
      "    edition_get, local_edition\n",
      "\n",
      "\n",
      "The following object is masked from ‘package:tidyr’:\n",
      "\n",
      "    matches\n",
      "\n",
      "\n"
     ]
    }
   ],
   "source": [
    "# Run this cell before continuing.\n",
    "library(tidyverse)\n",
    "library(infer)\n",
    "library(broom)\n",
    "library(cowplot)\n",
    "library(binom)\n",
    "source(\"tests_tutorial_01.R\")"
   ]
  },
  {
   "cell_type": "markdown",
   "metadata": {
    "deletable": false,
    "editable": false,
    "nbgrader": {
     "cell_type": "markdown",
     "checksum": "da53f9ff6cb303688d14e07bb12b20b5",
     "grade": false,
     "grade_id": "cell-8a0e4c973d199032",
     "locked": true,
     "schema_version": 3,
     "solution": false,
     "task": false
    }
   },
   "source": [
    "## 1. Analysis of an A/B Testing Paper\n",
    "\n",
    "In Worksheet 1, we reviewed key concepts of hypothesis tests to test the difference between two population means and discussed their relation to A/B testing. In this tutorial, you will review concepts related to the difference between two proportions, also seen before in STAT 201.\n",
    "\n",
    "In this exercise, we will work with the paper [\"Improving Library User Experience with A/B Testing: Principles and Process\"](https://quod.lib.umich.edu/w/weave/12535642.0001.101?view=text;rgn=main) by Young (2014). This paper presents a case study where A/B testing is applied with different webpage designs. The primary aim is to compare user interactions to determine which one statistically improves the navigation experience by increasing the homepage click-through rate. The experiment was conducted using the web analytics software Google Analytics and Crazy Egg. The data from the paper can be found [here](https://scholarworks.montana.edu/xmlui/handle/1/3507).\n",
    "\n",
    "The setup was done on the **Interact** category in the Montana State University's library webpage (more information can be found in the section *Step 1* in the paper). The experimental treatments (as explained and shown in *Step 4* in the paper) are the following: **Interact** (the control treatment), **Connect**, **Learn**, **Help**, and **Services**. The response variable is what we call the **click-through rate**, i.e., ratio of users that click on a specific link to the total number of users who view the page (a proportion that goes from 0 to 1).\n",
    "\n",
    "We have already processed the data for you. Firstly, we load the Crazy Egg data from the web."
   ]
  },
  {
   "cell_type": "code",
   "execution_count": 2,
   "metadata": {
    "deletable": false,
    "editable": false,
    "nbgrader": {
     "cell_type": "code",
     "checksum": "ff90740cbc64550585f723451ddcc836",
     "grade": false,
     "grade_id": "cell-63b8c78459dc81f1",
     "locked": true,
     "schema_version": 3,
     "solution": false,
     "task": false
    },
    "tags": []
   },
   "outputs": [
    {
     "name": "stderr",
     "output_type": "stream",
     "text": [
      "\u001b[1mRows: \u001b[22m\u001b[34m5\u001b[39m \u001b[1mColumns: \u001b[22m\u001b[34m5\u001b[39m\n",
      "\u001b[36m──\u001b[39m \u001b[1mColumn specification\u001b[22m \u001b[36m────────────────────────────────────────────────────────\u001b[39m\n",
      "\u001b[1mDelimiter:\u001b[22m \",\"\n",
      "\u001b[31mchr\u001b[39m (1): webpage\n",
      "\u001b[32mdbl\u001b[39m (4): clicks, home_page_clicks, adjusted_clicks, target_clicks\n",
      "\n",
      "\u001b[36mℹ\u001b[39m Use `spec()` to retrieve the full column specification for this data.\n",
      "\u001b[36mℹ\u001b[39m Specify the column types or set `show_col_types = FALSE` to quiet this message.\n"
     ]
    },
    {
     "data": {
      "text/html": [
       "<table class=\"dataframe\">\n",
       "<caption>A tibble: 5 × 3</caption>\n",
       "<thead>\n",
       "\t<tr><th scope=col>webpage</th><th scope=col>adjusted_clicks</th><th scope=col>target_clicks</th></tr>\n",
       "\t<tr><th scope=col>&lt;chr&gt;</th><th scope=col>&lt;dbl&gt;</th><th scope=col>&lt;dbl&gt;</th></tr>\n",
       "</thead>\n",
       "<tbody>\n",
       "\t<tr><td>Interact</td><td>2423</td><td>42</td></tr>\n",
       "\t<tr><td>Connect </td><td>1504</td><td>53</td></tr>\n",
       "\t<tr><td>Learn   </td><td>1569</td><td>21</td></tr>\n",
       "\t<tr><td>Help    </td><td>1595</td><td>38</td></tr>\n",
       "\t<tr><td>Services</td><td>1299</td><td>45</td></tr>\n",
       "</tbody>\n",
       "</table>\n"
      ],
      "text/latex": [
       "A tibble: 5 × 3\n",
       "\\begin{tabular}{lll}\n",
       " webpage & adjusted\\_clicks & target\\_clicks\\\\\n",
       " <chr> & <dbl> & <dbl>\\\\\n",
       "\\hline\n",
       "\t Interact & 2423 & 42\\\\\n",
       "\t Connect  & 1504 & 53\\\\\n",
       "\t Learn    & 1569 & 21\\\\\n",
       "\t Help     & 1595 & 38\\\\\n",
       "\t Services & 1299 & 45\\\\\n",
       "\\end{tabular}\n"
      ],
      "text/markdown": [
       "\n",
       "A tibble: 5 × 3\n",
       "\n",
       "| webpage &lt;chr&gt; | adjusted_clicks &lt;dbl&gt; | target_clicks &lt;dbl&gt; |\n",
       "|---|---|---|\n",
       "| Interact | 2423 | 42 |\n",
       "| Connect  | 1504 | 53 |\n",
       "| Learn    | 1569 | 21 |\n",
       "| Help     | 1595 | 38 |\n",
       "| Services | 1299 | 45 |\n",
       "\n"
      ],
      "text/plain": [
       "  webpage  adjusted_clicks target_clicks\n",
       "1 Interact 2423            42           \n",
       "2 Connect  1504            53           \n",
       "3 Learn    1569            21           \n",
       "4 Help     1595            38           \n",
       "5 Services 1299            45           "
      ]
     },
     "metadata": {},
     "output_type": "display_data"
    }
   ],
   "source": [
    "click_through <- \n",
    "    read_csv(\"data/click_through.csv\") %>% \n",
    "    select(webpage, adjusted_clicks, target_clicks)\n",
    "\n",
    "head(click_through)"
   ]
  },
  {
   "cell_type": "markdown",
   "metadata": {
    "deletable": false,
    "editable": false,
    "nbgrader": {
     "cell_type": "markdown",
     "checksum": "1afbf354ec7f668253fab92fa3ed8322",
     "grade": false,
     "grade_id": "cell-6c537789fff51e16",
     "locked": true,
     "schema_version": 3,
     "solution": false,
     "task": false
    }
   },
   "source": [
    "**Question 1.0**\n",
    "<br>{points: 1}\n",
    "\n",
    "The `adjusted_clicks` in the data frame `click_through` are the total clicks we will use to compute the click-through rate by treatment, where `target_clicks` are what we could define as **“successes”**. Compute the corresponding click-through rate by row by dividing `target_clicks` over `adjusted_clicks`. Add it as a new column in the data frame called `click_rate`. Then, reorder the experimental treatments (i.e., factor levels) in descending order by click-through rate.\n",
    "\n",
    "*Fill out those parts indicated with `...`, uncomment the corresponding code in the cell below, and run it.*"
   ]
  },
  {
   "cell_type": "code",
   "execution_count": 3,
   "metadata": {
    "deletable": false,
    "nbgrader": {
     "cell_type": "code",
     "checksum": "a6ee1e43545735cc4d8832fba17b9223",
     "grade": false,
     "grade_id": "cell-84902e751c5c2aa3",
     "locked": false,
     "schema_version": 3,
     "solution": true,
     "task": false
    },
    "tags": []
   },
   "outputs": [
    {
     "data": {
      "text/html": [
       "<table class=\"dataframe\">\n",
       "<caption>A tibble: 5 × 4</caption>\n",
       "<thead>\n",
       "\t<tr><th scope=col>webpage</th><th scope=col>adjusted_clicks</th><th scope=col>target_clicks</th><th scope=col>click_rate</th></tr>\n",
       "\t<tr><th scope=col>&lt;fct&gt;</th><th scope=col>&lt;dbl&gt;</th><th scope=col>&lt;dbl&gt;</th><th scope=col>&lt;dbl&gt;</th></tr>\n",
       "</thead>\n",
       "<tbody>\n",
       "\t<tr><td>Interact</td><td>2423</td><td>42</td><td>0.01733388</td></tr>\n",
       "\t<tr><td>Connect </td><td>1504</td><td>53</td><td>0.03523936</td></tr>\n",
       "\t<tr><td>Learn   </td><td>1569</td><td>21</td><td>0.01338432</td></tr>\n",
       "\t<tr><td>Help    </td><td>1595</td><td>38</td><td>0.02382445</td></tr>\n",
       "\t<tr><td>Services</td><td>1299</td><td>45</td><td>0.03464203</td></tr>\n",
       "</tbody>\n",
       "</table>\n"
      ],
      "text/latex": [
       "A tibble: 5 × 4\n",
       "\\begin{tabular}{llll}\n",
       " webpage & adjusted\\_clicks & target\\_clicks & click\\_rate\\\\\n",
       " <fct> & <dbl> & <dbl> & <dbl>\\\\\n",
       "\\hline\n",
       "\t Interact & 2423 & 42 & 0.01733388\\\\\n",
       "\t Connect  & 1504 & 53 & 0.03523936\\\\\n",
       "\t Learn    & 1569 & 21 & 0.01338432\\\\\n",
       "\t Help     & 1595 & 38 & 0.02382445\\\\\n",
       "\t Services & 1299 & 45 & 0.03464203\\\\\n",
       "\\end{tabular}\n"
      ],
      "text/markdown": [
       "\n",
       "A tibble: 5 × 4\n",
       "\n",
       "| webpage &lt;fct&gt; | adjusted_clicks &lt;dbl&gt; | target_clicks &lt;dbl&gt; | click_rate &lt;dbl&gt; |\n",
       "|---|---|---|---|\n",
       "| Interact | 2423 | 42 | 0.01733388 |\n",
       "| Connect  | 1504 | 53 | 0.03523936 |\n",
       "| Learn    | 1569 | 21 | 0.01338432 |\n",
       "| Help     | 1595 | 38 | 0.02382445 |\n",
       "| Services | 1299 | 45 | 0.03464203 |\n",
       "\n"
      ],
      "text/plain": [
       "  webpage  adjusted_clicks target_clicks click_rate\n",
       "1 Interact 2423            42            0.01733388\n",
       "2 Connect  1504            53            0.03523936\n",
       "3 Learn    1569            21            0.01338432\n",
       "4 Help     1595            38            0.02382445\n",
       "5 Services 1299            45            0.03464203"
      ]
     },
     "metadata": {},
     "output_type": "display_data"
    },
    {
     "data": {
      "text/html": [
       "<style>\n",
       ".list-inline {list-style: none; margin:0; padding: 0}\n",
       ".list-inline>li {display: inline-block}\n",
       ".list-inline>li:not(:last-child)::after {content: \"\\00b7\"; padding: 0 .5ex}\n",
       "</style>\n",
       "<ol class=list-inline><li>'Connect'</li><li>'Services'</li><li>'Help'</li><li>'Interact'</li><li>'Learn'</li></ol>\n"
      ],
      "text/latex": [
       "\\begin{enumerate*}\n",
       "\\item 'Connect'\n",
       "\\item 'Services'\n",
       "\\item 'Help'\n",
       "\\item 'Interact'\n",
       "\\item 'Learn'\n",
       "\\end{enumerate*}\n"
      ],
      "text/markdown": [
       "1. 'Connect'\n",
       "2. 'Services'\n",
       "3. 'Help'\n",
       "4. 'Interact'\n",
       "5. 'Learn'\n",
       "\n",
       "\n"
      ],
      "text/plain": [
       "[1] \"Connect\"  \"Services\" \"Help\"     \"Interact\" \"Learn\"   "
      ]
     },
     "metadata": {},
     "output_type": "display_data"
    }
   ],
   "source": [
    "# click_through <- \n",
    "#     ... %>% \n",
    "#     mutate(click_rate = ...) %>% \n",
    "#     mutate(webpage = fct_reorder(..., desc(...)))\n",
    "\n",
    "# your code here\n",
    "click_through <- \n",
    "    click_through %>% \n",
    "    mutate(click_rate = target_clicks / adjusted_clicks) %>% \n",
    "    mutate(webpage = fct_reorder(webpage, desc(click_rate)))\n",
    "\n",
    "click_through\n",
    "levels(click_through$webpage)"
   ]
  },
  {
   "cell_type": "code",
   "execution_count": 4,
   "metadata": {
    "deletable": false,
    "editable": false,
    "nbgrader": {
     "cell_type": "code",
     "checksum": "8bd204c8657f188bbb17df071a424fd4",
     "grade": true,
     "grade_id": "cell-1fbf41f936a624e5",
     "locked": true,
     "points": 1,
     "schema_version": 3,
     "solution": false,
     "task": false
    },
    "tags": []
   },
   "outputs": [
    {
     "name": "stdout",
     "output_type": "stream",
     "text": [
      "\u001b[32mTest passed\u001b[39m 🥇\n",
      "\u001b[32mTest passed\u001b[39m 🎉\n",
      "\u001b[32mTest passed\u001b[39m 🥳\n",
      "\u001b[32mTest passed\u001b[39m 🥇\n",
      "\u001b[32mTest passed\u001b[39m 🌈\n",
      "[1] \"Success!\"\n"
     ]
    }
   ],
   "source": [
    "test_1.0()"
   ]
  },
  {
   "cell_type": "markdown",
   "metadata": {
    "deletable": false,
    "editable": false,
    "nbgrader": {
     "cell_type": "markdown",
     "checksum": "9a23e1a572aa06b6e90d81b1110a5254",
     "grade": false,
     "grade_id": "cell-2c6561413b54d3c4",
     "locked": true,
     "schema_version": 3,
     "solution": false,
     "task": false
    }
   },
   "source": [
    "**Question 1.1**\n",
    "<br>{points: 1}\n",
    "\n",
    "The sampled click-through rates in the data frame `click_through` are estimates of population proportions. Hence, it is possible to obtain confidence intervals by relying on the Central Limit Theorem. Obtain the 95% confidence interval for each population click rate and store the lower and upper bounds in two new columns `click_through`: `lower_ci` and `upper_ci`.\n",
    "\n",
    "*Fill out those parts indicated with `...`, uncomment the corresponding code in the cell below, and run it.*"
   ]
  },
  {
   "cell_type": "code",
   "execution_count": 5,
   "metadata": {
    "deletable": false,
    "nbgrader": {
     "cell_type": "code",
     "checksum": "22bdf8aaa0952552d6e02a9c533abd35",
     "grade": false,
     "grade_id": "cell-a27d500f0b4c420e",
     "locked": false,
     "schema_version": 3,
     "solution": true,
     "task": false
    },
    "tags": []
   },
   "outputs": [
    {
     "data": {
      "text/html": [
       "<table class=\"dataframe\">\n",
       "<caption>A tibble: 5 × 6</caption>\n",
       "<thead>\n",
       "\t<tr><th scope=col>webpage</th><th scope=col>adjusted_clicks</th><th scope=col>target_clicks</th><th scope=col>click_rate</th><th scope=col>lower_ci</th><th scope=col>upper_ci</th></tr>\n",
       "\t<tr><th scope=col>&lt;fct&gt;</th><th scope=col>&lt;dbl&gt;</th><th scope=col>&lt;dbl&gt;</th><th scope=col>&lt;dbl&gt;</th><th scope=col>&lt;dbl&gt;</th><th scope=col>&lt;dbl&gt;</th></tr>\n",
       "</thead>\n",
       "<tbody>\n",
       "\t<tr><td>Interact</td><td>2423</td><td>42</td><td>0.01733388</td><td>0.012137247</td><td>0.02253052</td></tr>\n",
       "\t<tr><td>Connect </td><td>1504</td><td>53</td><td>0.03523936</td><td>0.025920819</td><td>0.04455790</td></tr>\n",
       "\t<tr><td>Learn   </td><td>1569</td><td>21</td><td>0.01338432</td><td>0.007698296</td><td>0.01907035</td></tr>\n",
       "\t<tr><td>Help    </td><td>1595</td><td>38</td><td>0.02382445</td><td>0.016340290</td><td>0.03130861</td></tr>\n",
       "\t<tr><td>Services</td><td>1299</td><td>45</td><td>0.03464203</td><td>0.024697385</td><td>0.04458668</td></tr>\n",
       "</tbody>\n",
       "</table>\n"
      ],
      "text/latex": [
       "A tibble: 5 × 6\n",
       "\\begin{tabular}{llllll}\n",
       " webpage & adjusted\\_clicks & target\\_clicks & click\\_rate & lower\\_ci & upper\\_ci\\\\\n",
       " <fct> & <dbl> & <dbl> & <dbl> & <dbl> & <dbl>\\\\\n",
       "\\hline\n",
       "\t Interact & 2423 & 42 & 0.01733388 & 0.012137247 & 0.02253052\\\\\n",
       "\t Connect  & 1504 & 53 & 0.03523936 & 0.025920819 & 0.04455790\\\\\n",
       "\t Learn    & 1569 & 21 & 0.01338432 & 0.007698296 & 0.01907035\\\\\n",
       "\t Help     & 1595 & 38 & 0.02382445 & 0.016340290 & 0.03130861\\\\\n",
       "\t Services & 1299 & 45 & 0.03464203 & 0.024697385 & 0.04458668\\\\\n",
       "\\end{tabular}\n"
      ],
      "text/markdown": [
       "\n",
       "A tibble: 5 × 6\n",
       "\n",
       "| webpage &lt;fct&gt; | adjusted_clicks &lt;dbl&gt; | target_clicks &lt;dbl&gt; | click_rate &lt;dbl&gt; | lower_ci &lt;dbl&gt; | upper_ci &lt;dbl&gt; |\n",
       "|---|---|---|---|---|---|\n",
       "| Interact | 2423 | 42 | 0.01733388 | 0.012137247 | 0.02253052 |\n",
       "| Connect  | 1504 | 53 | 0.03523936 | 0.025920819 | 0.04455790 |\n",
       "| Learn    | 1569 | 21 | 0.01338432 | 0.007698296 | 0.01907035 |\n",
       "| Help     | 1595 | 38 | 0.02382445 | 0.016340290 | 0.03130861 |\n",
       "| Services | 1299 | 45 | 0.03464203 | 0.024697385 | 0.04458668 |\n",
       "\n"
      ],
      "text/plain": [
       "  webpage  adjusted_clicks target_clicks click_rate lower_ci    upper_ci  \n",
       "1 Interact 2423            42            0.01733388 0.012137247 0.02253052\n",
       "2 Connect  1504            53            0.03523936 0.025920819 0.04455790\n",
       "3 Learn    1569            21            0.01338432 0.007698296 0.01907035\n",
       "4 Help     1595            38            0.02382445 0.016340290 0.03130861\n",
       "5 Services 1299            45            0.03464203 0.024697385 0.04458668"
      ]
     },
     "metadata": {},
     "output_type": "display_data"
    }
   ],
   "source": [
    "# click_through <- \n",
    "#     click_through %>% \n",
    "#     ...(lower_ci = ...,\n",
    "#            upper_ci = ...)\n",
    "\n",
    "# your code here\n",
    "click_through <- \n",
    "    click_through %>% \n",
    "    mutate(lower_ci = click_rate - qnorm(0.975) * sqrt(click_rate * (1 - click_rate) / adjusted_clicks),\n",
    "           upper_ci = click_rate + qnorm(0.975) * sqrt(click_rate * (1 - click_rate) / adjusted_clicks))\n",
    "\n",
    "click_through"
   ]
  },
  {
   "cell_type": "code",
   "execution_count": 6,
   "metadata": {
    "deletable": false,
    "editable": false,
    "nbgrader": {
     "cell_type": "code",
     "checksum": "de73496f4b32e4aae4f823efa6004fce",
     "grade": true,
     "grade_id": "cell-c70d7b2c2aa8f378",
     "locked": true,
     "points": 1,
     "schema_version": 3,
     "solution": false,
     "task": false
    },
    "tags": []
   },
   "outputs": [
    {
     "name": "stdout",
     "output_type": "stream",
     "text": [
      "\u001b[32mTest passed\u001b[39m 😀\n",
      "\u001b[32mTest passed\u001b[39m 🌈\n",
      "\u001b[32mTest passed\u001b[39m 😸\n",
      "\u001b[32mTest passed\u001b[39m 🎉\n",
      "\u001b[32mTest passed\u001b[39m 🥇\n",
      "[1] \"Success!\"\n"
     ]
    }
   ],
   "source": [
    "test_1.1()"
   ]
  },
  {
   "cell_type": "markdown",
   "metadata": {
    "deletable": false,
    "editable": false,
    "nbgrader": {
     "cell_type": "markdown",
     "checksum": "3bf2ddb8d30777676b6c6938fcede1cf",
     "grade": false,
     "grade_id": "cell-a283262115be27b8",
     "locked": true,
     "schema_version": 3,
     "solution": false,
     "task": false
    }
   },
   "source": [
    "**Question 1.2**\n",
    "<br>{points: 1}\n",
    "\n",
    "Let's create an effective visualization for the point estimate click_rate and the confidence intervals you obtained above. The `ggplot()` object's name shoud be `CIs_click_through_rates`.\n",
    "\n",
    "*Fill out those parts indicated with `...`, uncomment the corresponding code in the cell below, and run it.*"
   ]
  },
  {
   "cell_type": "code",
   "execution_count": 7,
   "metadata": {
    "deletable": false,
    "nbgrader": {
     "cell_type": "code",
     "checksum": "c4bb81baf5333a8a2b7c1575acb578cd",
     "grade": false,
     "grade_id": "cell-41b3cbbf1bc49165",
     "locked": false,
     "schema_version": 3,
     "solution": true,
     "task": false
    },
    "tags": []
   },
   "outputs": [
    {
     "data": {
      "application/pdf": "[encoded data removed]",
      "image/jpeg": "[encoded data removed]",
      "image/png": "[encoded data removed]",
      "image/svg+xml": [
       "<?xml version=\"1.0\" encoding=\"UTF-8\"?>\n",
       "<svg xmlns=\"http://www.w3.org/2000/svg\" xmlns:xlink=\"http://www.w3.org/1999/xlink\" width=\"504\" height=\"504\" viewBox=\"0 0 504 504\">\n",
       "<defs>\n",
       "<g>\n",
       "<g id=\"glyph-0-0\">\n",
       "<path d=\"M 9.09375 -6.0625 C 9.09375 -4.894531 8.984375 -3.914062 8.765625 -3.125 C 8.546875 -2.332031 8.242188 -1.691406 7.859375 -1.203125 C 7.484375 -0.710938 7.035156 -0.359375 6.515625 -0.140625 C 6.003906 0.0664062 5.457031 0.171875 4.875 0.171875 C 4.28125 0.171875 3.726562 0.0664062 3.21875 -0.140625 C 2.707031 -0.359375 2.265625 -0.707031 1.890625 -1.1875 C 1.515625 -1.675781 1.21875 -2.316406 1 -3.109375 C 0.789062 -3.898438 0.6875 -4.882812 0.6875 -6.0625 C 0.6875 -7.28125 0.789062 -8.285156 1 -9.078125 C 1.21875 -9.878906 1.515625 -10.515625 1.890625 -10.984375 C 2.273438 -11.460938 2.722656 -11.796875 3.234375 -11.984375 C 3.753906 -12.179688 4.316406 -12.28125 4.921875 -12.28125 C 5.503906 -12.28125 6.046875 -12.179688 6.546875 -11.984375 C 7.054688 -11.796875 7.5 -11.460938 7.875 -10.984375 C 8.25 -10.515625 8.546875 -9.878906 8.765625 -9.078125 C 8.984375 -8.285156 9.09375 -7.28125 9.09375 -6.0625 Z M 7.53125 -6.0625 C 7.53125 -7.019531 7.472656 -7.816406 7.359375 -8.453125 C 7.242188 -9.097656 7.070312 -9.609375 6.84375 -9.984375 C 6.625 -10.367188 6.351562 -10.640625 6.03125 -10.796875 C 5.707031 -10.953125 5.335938 -11.03125 4.921875 -11.03125 C 4.484375 -11.03125 4.097656 -10.945312 3.765625 -10.78125 C 3.429688 -10.625 3.148438 -10.351562 2.921875 -9.96875 C 2.703125 -9.59375 2.535156 -9.082031 2.421875 -8.4375 C 2.304688 -7.800781 2.25 -7.007812 2.25 -6.0625 C 2.25 -5.132812 2.304688 -4.347656 2.421875 -3.703125 C 2.546875 -3.066406 2.71875 -2.554688 2.9375 -2.171875 C 3.164062 -1.785156 3.441406 -1.507812 3.765625 -1.34375 C 4.097656 -1.175781 4.472656 -1.09375 4.890625 -1.09375 C 5.296875 -1.09375 5.660156 -1.175781 5.984375 -1.34375 C 6.316406 -1.507812 6.59375 -1.785156 6.8125 -2.171875 C 7.039062 -2.554688 7.21875 -3.066406 7.34375 -3.703125 C 7.46875 -4.347656 7.53125 -5.132812 7.53125 -6.0625 Z M 7.53125 -6.0625 \"/>\n",
       "</g>\n",
       "<g id=\"glyph-0-1\">\n",
       "<path d=\"M 1.609375 0 L 1.609375 -1.875 L 3.28125 -1.875 L 3.28125 0 Z M 1.609375 0 \"/>\n",
       "</g>\n",
       "<g id=\"glyph-0-2\">\n",
       "<path d=\"M 1.34375 0 L 1.34375 -1.3125 L 4.421875 -1.3125 L 4.421875 -10.625 L 1.6875 -8.671875 L 1.6875 -10.140625 L 4.546875 -12.109375 L 5.984375 -12.109375 L 5.984375 -1.3125 L 8.921875 -1.3125 L 8.921875 0 Z M 1.34375 0 \"/>\n",
       "</g>\n",
       "<g id=\"glyph-0-3\">\n",
       "<path d=\"M 0.890625 0 L 0.890625 -1.09375 C 1.179688 -1.757812 1.535156 -2.347656 1.953125 -2.859375 C 2.367188 -3.378906 2.8125 -3.84375 3.28125 -4.25 C 3.75 -4.664062 4.207031 -5.050781 4.65625 -5.40625 C 5.113281 -5.757812 5.523438 -6.113281 5.890625 -6.46875 C 6.253906 -6.832031 6.550781 -7.207031 6.78125 -7.59375 C 7.007812 -7.976562 7.125 -8.421875 7.125 -8.921875 C 7.125 -9.265625 7.070312 -9.566406 6.96875 -9.828125 C 6.863281 -10.085938 6.710938 -10.304688 6.515625 -10.484375 C 6.328125 -10.660156 6.09375 -10.789062 5.8125 -10.875 C 5.539062 -10.96875 5.238281 -11.015625 4.90625 -11.015625 C 4.601562 -11.015625 4.316406 -10.96875 4.046875 -10.875 C 3.773438 -10.789062 3.53125 -10.660156 3.3125 -10.484375 C 3.101562 -10.316406 2.929688 -10.101562 2.796875 -9.84375 C 2.660156 -9.59375 2.570312 -9.300781 2.53125 -8.96875 L 0.953125 -9.109375 C 1.003906 -9.546875 1.125 -9.957031 1.3125 -10.34375 C 1.5 -10.726562 1.757812 -11.0625 2.09375 -11.34375 C 2.425781 -11.632812 2.828125 -11.863281 3.296875 -12.03125 C 3.765625 -12.195312 4.300781 -12.28125 4.90625 -12.28125 C 5.507812 -12.28125 6.046875 -12.207031 6.515625 -12.0625 C 6.984375 -11.925781 7.378906 -11.71875 7.703125 -11.4375 C 8.035156 -11.15625 8.285156 -10.804688 8.453125 -10.390625 C 8.628906 -9.984375 8.71875 -9.507812 8.71875 -8.96875 C 8.71875 -8.5625 8.640625 -8.175781 8.484375 -7.8125 C 8.335938 -7.445312 8.144531 -7.097656 7.90625 -6.765625 C 7.664062 -6.429688 7.382812 -6.109375 7.0625 -5.796875 C 6.738281 -5.484375 6.398438 -5.179688 6.046875 -4.890625 C 5.703125 -4.597656 5.351562 -4.304688 5 -4.015625 C 4.644531 -3.722656 4.3125 -3.429688 4 -3.140625 C 3.6875 -2.847656 3.40625 -2.550781 3.15625 -2.25 C 2.914062 -1.945312 2.722656 -1.632812 2.578125 -1.3125 L 8.90625 -1.3125 L 8.90625 0 Z M 0.890625 0 \"/>\n",
       "</g>\n",
       "<g id=\"glyph-0-4\">\n",
       "<path d=\"M 9.015625 -3.34375 C 9.015625 -2.789062 8.921875 -2.296875 8.734375 -1.859375 C 8.554688 -1.421875 8.296875 -1.050781 7.953125 -0.75 C 7.609375 -0.445312 7.175781 -0.21875 6.65625 -0.0625 C 6.144531 0.09375 5.5625 0.171875 4.90625 0.171875 C 4.15625 0.171875 3.519531 0.078125 3 -0.109375 C 2.488281 -0.296875 2.066406 -0.539062 1.734375 -0.84375 C 1.410156 -1.15625 1.164062 -1.503906 1 -1.890625 C 0.832031 -2.285156 0.722656 -2.691406 0.671875 -3.109375 L 2.265625 -3.25 C 2.316406 -2.9375 2.398438 -2.644531 2.515625 -2.375 C 2.640625 -2.113281 2.804688 -1.890625 3.015625 -1.703125 C 3.234375 -1.515625 3.492188 -1.367188 3.796875 -1.265625 C 4.109375 -1.160156 4.476562 -1.109375 4.90625 -1.109375 C 5.6875 -1.109375 6.296875 -1.300781 6.734375 -1.6875 C 7.179688 -2.070312 7.40625 -2.640625 7.40625 -3.390625 C 7.40625 -3.835938 7.304688 -4.195312 7.109375 -4.46875 C 6.910156 -4.738281 6.660156 -4.945312 6.359375 -5.09375 C 6.066406 -5.25 5.75 -5.351562 5.40625 -5.40625 C 5.0625 -5.457031 4.742188 -5.484375 4.453125 -5.484375 L 3.578125 -5.484375 L 3.578125 -6.828125 L 4.421875 -6.828125 C 4.710938 -6.828125 5.015625 -6.859375 5.328125 -6.921875 C 5.640625 -6.984375 5.925781 -7.09375 6.1875 -7.25 C 6.445312 -7.40625 6.660156 -7.617188 6.828125 -7.890625 C 7.003906 -8.160156 7.09375 -8.503906 7.09375 -8.921875 C 7.09375 -9.566406 6.898438 -10.078125 6.515625 -10.453125 C 6.128906 -10.828125 5.5625 -11.015625 4.8125 -11.015625 C 4.132812 -11.015625 3.582031 -10.835938 3.15625 -10.484375 C 2.738281 -10.140625 2.5 -9.648438 2.4375 -9.015625 L 0.875 -9.125 C 0.9375 -9.664062 1.082031 -10.128906 1.3125 -10.515625 C 1.539062 -10.910156 1.832031 -11.238281 2.1875 -11.5 C 2.539062 -11.757812 2.941406 -11.953125 3.390625 -12.078125 C 3.847656 -12.210938 4.332031 -12.28125 4.84375 -12.28125 C 5.507812 -12.28125 6.085938 -12.195312 6.578125 -12.03125 C 7.066406 -11.863281 7.460938 -11.632812 7.765625 -11.34375 C 8.078125 -11.050781 8.304688 -10.707031 8.453125 -10.3125 C 8.597656 -9.925781 8.671875 -9.515625 8.671875 -9.078125 C 8.671875 -8.722656 8.625 -8.390625 8.53125 -8.078125 C 8.4375 -7.773438 8.285156 -7.5 8.078125 -7.25 C 7.867188 -7 7.601562 -6.785156 7.28125 -6.609375 C 6.96875 -6.429688 6.585938 -6.300781 6.140625 -6.21875 L 6.140625 -6.171875 C 6.628906 -6.117188 7.050781 -6.007812 7.40625 -5.84375 C 7.769531 -5.675781 8.066406 -5.46875 8.296875 -5.21875 C 8.535156 -4.96875 8.710938 -4.679688 8.828125 -4.359375 C 8.953125 -4.035156 9.015625 -3.695312 9.015625 -3.34375 Z M 9.015625 -3.34375 \"/>\n",
       "</g>\n",
       "<g id=\"glyph-0-5\">\n",
       "<path d=\"M 7.5625 -2.734375 L 7.5625 0 L 6.109375 0 L 6.109375 -2.734375 L 0.40625 -2.734375 L 0.40625 -3.9375 L 5.9375 -12.109375 L 7.5625 -12.109375 L 7.5625 -3.953125 L 9.265625 -3.953125 L 9.265625 -2.734375 Z M 6.109375 -10.359375 C 6.097656 -10.328125 6.066406 -10.269531 6.015625 -10.1875 C 5.972656 -10.101562 5.921875 -10.007812 5.859375 -9.90625 C 5.804688 -9.8125 5.75 -9.707031 5.6875 -9.59375 C 5.625 -9.488281 5.570312 -9.40625 5.53125 -9.34375 L 2.4375 -4.765625 C 2.40625 -4.722656 2.359375 -4.660156 2.296875 -4.578125 C 2.242188 -4.503906 2.1875 -4.429688 2.125 -4.359375 C 2.070312 -4.285156 2.015625 -4.207031 1.953125 -4.125 C 1.898438 -4.050781 1.859375 -3.992188 1.828125 -3.953125 L 6.109375 -3.953125 Z M 6.109375 -10.359375 \"/>\n",
       "</g>\n",
       "<g id=\"glyph-0-6\">\n",
       "<path d=\"M 6.796875 -10.9375 C 6.109375 -10.9375 5.5 -10.820312 4.96875 -10.59375 C 4.445312 -10.363281 4.003906 -10.035156 3.640625 -9.609375 C 3.285156 -9.191406 3.015625 -8.6875 2.828125 -8.09375 C 2.648438 -7.5 2.5625 -6.835938 2.5625 -6.109375 C 2.5625 -5.378906 2.660156 -4.710938 2.859375 -4.109375 C 3.054688 -3.503906 3.335938 -2.984375 3.703125 -2.546875 C 4.078125 -2.117188 4.53125 -1.78125 5.0625 -1.53125 C 5.601562 -1.289062 6.207031 -1.171875 6.875 -1.171875 C 7.34375 -1.171875 7.769531 -1.234375 8.15625 -1.359375 C 8.539062 -1.484375 8.890625 -1.65625 9.203125 -1.875 C 9.515625 -2.101562 9.789062 -2.367188 10.03125 -2.671875 C 10.28125 -2.984375 10.503906 -3.320312 10.703125 -3.6875 L 12.03125 -3.03125 C 11.8125 -2.570312 11.539062 -2.144531 11.21875 -1.75 C 10.90625 -1.363281 10.53125 -1.023438 10.09375 -0.734375 C 9.664062 -0.453125 9.175781 -0.226562 8.625 -0.0625 C 8.082031 0.09375 7.472656 0.171875 6.796875 0.171875 C 5.816406 0.171875 4.957031 0.015625 4.21875 -0.296875 C 3.488281 -0.609375 2.875 -1.039062 2.375 -1.59375 C 1.875 -2.15625 1.5 -2.816406 1.25 -3.578125 C 1.007812 -4.347656 0.890625 -5.191406 0.890625 -6.109375 C 0.890625 -7.054688 1.019531 -7.910156 1.28125 -8.671875 C 1.539062 -9.429688 1.921875 -10.078125 2.421875 -10.609375 C 2.921875 -11.148438 3.535156 -11.5625 4.265625 -11.84375 C 5.003906 -12.132812 5.84375 -12.28125 6.78125 -12.28125 C 8.070312 -12.28125 9.148438 -12.023438 10.015625 -11.515625 C 10.878906 -11.015625 11.515625 -10.269531 11.921875 -9.28125 L 10.375 -8.765625 C 10.257812 -9.054688 10.101562 -9.332031 9.90625 -9.59375 C 9.707031 -9.851562 9.460938 -10.082031 9.171875 -10.28125 C 8.878906 -10.476562 8.535156 -10.632812 8.140625 -10.75 C 7.753906 -10.875 7.304688 -10.9375 6.796875 -10.9375 Z M 6.796875 -10.9375 \"/>\n",
       "</g>\n",
       "<g id=\"glyph-0-7\">\n",
       "<path d=\"M 9.046875 -4.65625 C 9.046875 -3.03125 8.6875 -1.816406 7.96875 -1.015625 C 7.25 -0.222656 6.210938 0.171875 4.859375 0.171875 C 4.210938 0.171875 3.632812 0.078125 3.125 -0.109375 C 2.613281 -0.304688 2.179688 -0.601562 1.828125 -1 C 1.472656 -1.40625 1.203125 -1.910156 1.015625 -2.515625 C 0.828125 -3.117188 0.734375 -3.832031 0.734375 -4.65625 C 0.734375 -7.863281 2.125 -9.46875 4.90625 -9.46875 C 5.625 -9.46875 6.242188 -9.363281 6.765625 -9.15625 C 7.296875 -8.957031 7.726562 -8.65625 8.0625 -8.25 C 8.394531 -7.851562 8.640625 -7.351562 8.796875 -6.75 C 8.960938 -6.15625 9.046875 -5.457031 9.046875 -4.65625 Z M 7.421875 -4.65625 C 7.421875 -5.375 7.363281 -5.96875 7.25 -6.4375 C 7.144531 -6.90625 6.984375 -7.28125 6.765625 -7.5625 C 6.546875 -7.84375 6.28125 -8.039062 5.96875 -8.15625 C 5.664062 -8.269531 5.320312 -8.328125 4.9375 -8.328125 C 4.539062 -8.328125 4.179688 -8.265625 3.859375 -8.140625 C 3.546875 -8.023438 3.273438 -7.828125 3.046875 -7.546875 C 2.828125 -7.265625 2.65625 -6.890625 2.53125 -6.421875 C 2.414062 -5.953125 2.359375 -5.363281 2.359375 -4.65625 C 2.359375 -3.9375 2.421875 -3.335938 2.546875 -2.859375 C 2.671875 -2.390625 2.84375 -2.015625 3.0625 -1.734375 C 3.289062 -1.453125 3.550781 -1.253906 3.84375 -1.140625 C 4.144531 -1.023438 4.476562 -0.96875 4.84375 -0.96875 C 5.226562 -0.96875 5.582031 -1.023438 5.90625 -1.140625 C 6.226562 -1.253906 6.5 -1.445312 6.71875 -1.71875 C 6.945312 -2 7.117188 -2.378906 7.234375 -2.859375 C 7.359375 -3.335938 7.421875 -3.9375 7.421875 -4.65625 Z M 7.421875 -4.65625 \"/>\n",
       "</g>\n",
       "<g id=\"glyph-0-8\">\n",
       "<path d=\"M 7.09375 0 L 7.09375 -5.890625 C 7.09375 -6.347656 7.054688 -6.726562 6.984375 -7.03125 C 6.921875 -7.332031 6.8125 -7.578125 6.65625 -7.765625 C 6.507812 -7.953125 6.316406 -8.082031 6.078125 -8.15625 C 5.835938 -8.226562 5.535156 -8.265625 5.171875 -8.265625 C 4.804688 -8.265625 4.472656 -8.203125 4.171875 -8.078125 C 3.878906 -7.953125 3.628906 -7.765625 3.421875 -7.515625 C 3.210938 -7.273438 3.050781 -6.972656 2.9375 -6.609375 C 2.820312 -6.253906 2.765625 -5.847656 2.765625 -5.390625 L 2.765625 0 L 1.21875 0 L 1.21875 -7.3125 C 1.21875 -7.507812 1.21875 -7.710938 1.21875 -7.921875 C 1.21875 -8.140625 1.210938 -8.34375 1.203125 -8.53125 C 1.191406 -8.726562 1.179688 -8.894531 1.171875 -9.03125 C 1.171875 -9.164062 1.171875 -9.253906 1.171875 -9.296875 L 2.625 -9.296875 C 2.632812 -9.265625 2.640625 -9.1875 2.640625 -9.0625 C 2.648438 -8.9375 2.660156 -8.789062 2.671875 -8.625 C 2.679688 -8.46875 2.6875 -8.300781 2.6875 -8.125 C 2.695312 -7.957031 2.703125 -7.816406 2.703125 -7.703125 L 2.71875 -7.703125 C 2.875 -7.972656 3.039062 -8.21875 3.21875 -8.4375 C 3.394531 -8.65625 3.597656 -8.835938 3.828125 -8.984375 C 4.066406 -9.140625 4.335938 -9.257812 4.640625 -9.34375 C 4.941406 -9.425781 5.296875 -9.46875 5.703125 -9.46875 C 6.210938 -9.46875 6.648438 -9.40625 7.015625 -9.28125 C 7.390625 -9.15625 7.695312 -8.957031 7.9375 -8.6875 C 8.1875 -8.425781 8.363281 -8.085938 8.46875 -7.671875 C 8.582031 -7.253906 8.640625 -6.757812 8.640625 -6.1875 L 8.640625 0 Z M 7.09375 0 \"/>\n",
       "</g>\n",
       "<g id=\"glyph-0-9\">\n",
       "<path d=\"M 2.375 -4.328125 C 2.375 -3.835938 2.421875 -3.382812 2.515625 -2.96875 C 2.617188 -2.5625 2.773438 -2.210938 2.984375 -1.921875 C 3.191406 -1.628906 3.457031 -1.398438 3.78125 -1.234375 C 4.113281 -1.066406 4.507812 -0.984375 4.96875 -0.984375 C 5.632812 -0.984375 6.171875 -1.117188 6.578125 -1.390625 C 6.984375 -1.660156 7.253906 -2 7.390625 -2.40625 L 8.75 -2.03125 C 8.65625 -1.769531 8.519531 -1.507812 8.34375 -1.25 C 8.164062 -0.988281 7.929688 -0.753906 7.640625 -0.546875 C 7.347656 -0.335938 6.984375 -0.164062 6.546875 -0.03125 C 6.109375 0.101562 5.582031 0.171875 4.96875 0.171875 C 3.59375 0.171875 2.546875 -0.234375 1.828125 -1.046875 C 1.109375 -1.867188 0.75 -3.085938 0.75 -4.703125 C 0.75 -5.578125 0.859375 -6.316406 1.078125 -6.921875 C 1.296875 -7.523438 1.59375 -8.015625 1.96875 -8.390625 C 2.34375 -8.765625 2.78125 -9.035156 3.28125 -9.203125 C 3.789062 -9.378906 4.332031 -9.46875 4.90625 -9.46875 C 5.6875 -9.46875 6.335938 -9.34375 6.859375 -9.09375 C 7.378906 -8.84375 7.796875 -8.492188 8.109375 -8.046875 C 8.429688 -7.597656 8.660156 -7.070312 8.796875 -6.46875 C 8.929688 -5.875 9 -5.226562 9 -4.53125 L 9 -4.328125 Z M 7.40625 -5.5 C 7.320312 -6.476562 7.070312 -7.191406 6.65625 -7.640625 C 6.25 -8.097656 5.65625 -8.328125 4.875 -8.328125 C 4.625 -8.328125 4.351562 -8.285156 4.0625 -8.203125 C 3.78125 -8.117188 3.519531 -7.96875 3.28125 -7.75 C 3.039062 -7.539062 2.835938 -7.253906 2.671875 -6.890625 C 2.503906 -6.523438 2.410156 -6.0625 2.390625 -5.5 Z M 7.40625 -5.5 \"/>\n",
       "</g>\n",
       "<g id=\"glyph-0-10\">\n",
       "<path d=\"M 2.359375 -4.6875 C 2.359375 -4.15625 2.394531 -3.664062 2.46875 -3.21875 C 2.550781 -2.769531 2.679688 -2.382812 2.859375 -2.0625 C 3.046875 -1.738281 3.289062 -1.488281 3.59375 -1.3125 C 3.894531 -1.132812 4.265625 -1.046875 4.703125 -1.046875 C 5.253906 -1.046875 5.710938 -1.191406 6.078125 -1.484375 C 6.453125 -1.785156 6.679688 -2.25 6.765625 -2.875 L 8.328125 -2.765625 C 8.273438 -2.378906 8.160156 -2.007812 7.984375 -1.65625 C 7.816406 -1.300781 7.585938 -0.988281 7.296875 -0.71875 C 7.003906 -0.445312 6.644531 -0.226562 6.21875 -0.0625 C 5.789062 0.09375 5.300781 0.171875 4.75 0.171875 C 4.019531 0.171875 3.398438 0.0507812 2.890625 -0.1875 C 2.378906 -0.4375 1.960938 -0.773438 1.640625 -1.203125 C 1.328125 -1.640625 1.097656 -2.148438 0.953125 -2.734375 C 0.816406 -3.328125 0.75 -3.96875 0.75 -4.65625 C 0.75 -5.28125 0.800781 -5.832031 0.90625 -6.3125 C 1.007812 -6.789062 1.148438 -7.207031 1.328125 -7.5625 C 1.515625 -7.914062 1.734375 -8.210938 1.984375 -8.453125 C 2.242188 -8.703125 2.519531 -8.898438 2.8125 -9.046875 C 3.101562 -9.191406 3.410156 -9.296875 3.734375 -9.359375 C 4.066406 -9.429688 4.398438 -9.46875 4.734375 -9.46875 C 5.253906 -9.46875 5.71875 -9.394531 6.125 -9.25 C 6.53125 -9.101562 6.878906 -8.90625 7.171875 -8.65625 C 7.472656 -8.414062 7.710938 -8.125 7.890625 -7.78125 C 8.078125 -7.445312 8.207031 -7.082031 8.28125 -6.6875 L 6.6875 -6.578125 C 6.613281 -7.085938 6.410156 -7.492188 6.078125 -7.796875 C 5.753906 -8.097656 5.289062 -8.25 4.6875 -8.25 C 4.25 -8.25 3.878906 -8.175781 3.578125 -8.03125 C 3.285156 -7.882812 3.046875 -7.664062 2.859375 -7.375 C 2.679688 -7.082031 2.550781 -6.710938 2.46875 -6.265625 C 2.394531 -5.816406 2.359375 -5.289062 2.359375 -4.6875 Z M 2.359375 -4.6875 \"/>\n",
       "</g>\n",
       "<g id=\"glyph-0-11\">\n",
       "<path d=\"M 4.765625 -0.0625 C 4.523438 0 4.28125 0.046875 4.03125 0.078125 C 3.789062 0.117188 3.515625 0.140625 3.203125 0.140625 C 1.960938 0.140625 1.34375 -0.5625 1.34375 -1.96875 L 1.34375 -8.171875 L 0.265625 -8.171875 L 0.265625 -9.296875 L 1.40625 -9.296875 L 1.859375 -11.375 L 2.890625 -11.375 L 2.890625 -9.296875 L 4.609375 -9.296875 L 4.609375 -8.171875 L 2.890625 -8.171875 L 2.890625 -2.296875 C 2.890625 -1.847656 2.960938 -1.535156 3.109375 -1.359375 C 3.253906 -1.179688 3.503906 -1.09375 3.859375 -1.09375 C 4.015625 -1.09375 4.160156 -1.101562 4.296875 -1.125 C 4.441406 -1.144531 4.597656 -1.175781 4.765625 -1.21875 Z M 4.765625 -0.0625 \"/>\n",
       "</g>\n",
       "<g id=\"glyph-0-12\">\n",
       "<path d=\"M 10.921875 -3.34375 C 10.921875 -2.832031 10.820312 -2.359375 10.625 -1.921875 C 10.425781 -1.492188 10.117188 -1.125 9.703125 -0.8125 C 9.296875 -0.507812 8.78125 -0.269531 8.15625 -0.09375 C 7.53125 0.0820312 6.785156 0.171875 5.921875 0.171875 C 4.421875 0.171875 3.25 -0.0859375 2.40625 -0.609375 C 1.5625 -1.140625 1.023438 -1.90625 0.796875 -2.90625 L 2.390625 -3.21875 C 2.472656 -2.90625 2.59375 -2.617188 2.75 -2.359375 C 2.914062 -2.097656 3.140625 -1.875 3.421875 -1.6875 C 3.710938 -1.507812 4.066406 -1.367188 4.484375 -1.265625 C 4.898438 -1.160156 5.398438 -1.109375 5.984375 -1.109375 C 6.472656 -1.109375 6.921875 -1.148438 7.328125 -1.234375 C 7.734375 -1.316406 8.082031 -1.441406 8.375 -1.609375 C 8.664062 -1.785156 8.890625 -2.007812 9.046875 -2.28125 C 9.210938 -2.550781 9.296875 -2.875 9.296875 -3.25 C 9.296875 -3.644531 9.207031 -3.96875 9.03125 -4.21875 C 8.851562 -4.46875 8.597656 -4.671875 8.265625 -4.828125 C 7.941406 -4.984375 7.550781 -5.113281 7.09375 -5.21875 C 6.644531 -5.332031 6.144531 -5.453125 5.59375 -5.578125 C 5.257812 -5.660156 4.921875 -5.742188 4.578125 -5.828125 C 4.242188 -5.921875 3.921875 -6.023438 3.609375 -6.140625 C 3.296875 -6.265625 3 -6.410156 2.71875 -6.578125 C 2.445312 -6.742188 2.207031 -6.941406 2 -7.171875 C 1.800781 -7.410156 1.644531 -7.679688 1.53125 -7.984375 C 1.414062 -8.285156 1.359375 -8.640625 1.359375 -9.046875 C 1.359375 -9.617188 1.472656 -10.109375 1.703125 -10.515625 C 1.941406 -10.929688 2.265625 -11.269531 2.671875 -11.53125 C 3.085938 -11.789062 3.578125 -11.976562 4.140625 -12.09375 C 4.703125 -12.21875 5.3125 -12.28125 5.96875 -12.28125 C 6.71875 -12.28125 7.359375 -12.222656 7.890625 -12.109375 C 8.421875 -11.992188 8.867188 -11.816406 9.234375 -11.578125 C 9.597656 -11.347656 9.890625 -11.054688 10.109375 -10.703125 C 10.335938 -10.359375 10.515625 -9.957031 10.640625 -9.5 L 9.03125 -9.21875 C 8.945312 -9.507812 8.828125 -9.769531 8.671875 -10 C 8.523438 -10.226562 8.328125 -10.421875 8.078125 -10.578125 C 7.835938 -10.734375 7.539062 -10.847656 7.1875 -10.921875 C 6.832031 -11.003906 6.414062 -11.046875 5.9375 -11.046875 C 5.382812 -11.046875 4.914062 -10.992188 4.53125 -10.890625 C 4.144531 -10.796875 3.835938 -10.660156 3.609375 -10.484375 C 3.378906 -10.316406 3.210938 -10.113281 3.109375 -9.875 C 3.015625 -9.644531 2.96875 -9.394531 2.96875 -9.125 C 2.96875 -8.769531 3.054688 -8.472656 3.234375 -8.234375 C 3.410156 -8.003906 3.65625 -7.8125 3.96875 -7.65625 C 4.28125 -7.507812 4.640625 -7.382812 5.046875 -7.28125 C 5.453125 -7.175781 5.882812 -7.070312 6.34375 -6.96875 C 6.707031 -6.882812 7.070312 -6.796875 7.4375 -6.703125 C 7.8125 -6.617188 8.164062 -6.515625 8.5 -6.390625 C 8.84375 -6.265625 9.160156 -6.117188 9.453125 -5.953125 C 9.753906 -5.785156 10.015625 -5.582031 10.234375 -5.34375 C 10.453125 -5.101562 10.617188 -4.816406 10.734375 -4.484375 C 10.859375 -4.160156 10.921875 -3.78125 10.921875 -3.34375 Z M 10.921875 -3.34375 \"/>\n",
       "</g>\n",
       "<g id=\"glyph-0-13\">\n",
       "<path d=\"M 1.21875 0 L 1.21875 -7.125 C 1.21875 -7.320312 1.21875 -7.519531 1.21875 -7.71875 C 1.21875 -7.925781 1.210938 -8.125 1.203125 -8.3125 C 1.191406 -8.5 1.179688 -8.675781 1.171875 -8.84375 C 1.171875 -9.007812 1.171875 -9.160156 1.171875 -9.296875 L 2.625 -9.296875 C 2.632812 -9.160156 2.640625 -9.007812 2.640625 -8.84375 C 2.648438 -8.675781 2.660156 -8.503906 2.671875 -8.328125 C 2.679688 -8.148438 2.6875 -7.976562 2.6875 -7.8125 C 2.695312 -7.644531 2.703125 -7.503906 2.703125 -7.390625 L 2.734375 -7.390625 C 2.835938 -7.742188 2.953125 -8.050781 3.078125 -8.3125 C 3.203125 -8.582031 3.347656 -8.800781 3.515625 -8.96875 C 3.679688 -9.132812 3.878906 -9.257812 4.109375 -9.34375 C 4.335938 -9.425781 4.613281 -9.46875 4.9375 -9.46875 C 5.0625 -9.46875 5.179688 -9.457031 5.296875 -9.4375 C 5.410156 -9.414062 5.5 -9.394531 5.5625 -9.375 L 5.5625 -7.96875 C 5.457031 -7.988281 5.335938 -8.003906 5.203125 -8.015625 C 5.066406 -8.035156 4.910156 -8.046875 4.734375 -8.046875 C 4.378906 -8.046875 4.078125 -7.960938 3.828125 -7.796875 C 3.585938 -7.640625 3.382812 -7.421875 3.21875 -7.140625 C 3.0625 -6.859375 2.945312 -6.519531 2.875 -6.125 C 2.800781 -5.738281 2.765625 -5.3125 2.765625 -4.84375 L 2.765625 0 Z M 1.21875 0 \"/>\n",
       "</g>\n",
       "<g id=\"glyph-0-14\">\n",
       "<path d=\"M 5.265625 0 L 3.4375 0 L 0.0625 -9.296875 L 1.703125 -9.296875 L 3.75 -3.25 C 3.789062 -3.125 3.835938 -2.96875 3.890625 -2.78125 C 3.953125 -2.601562 4.007812 -2.414062 4.0625 -2.21875 C 4.125 -2.03125 4.175781 -1.84375 4.21875 -1.65625 C 4.269531 -1.476562 4.3125 -1.332031 4.34375 -1.21875 C 4.382812 -1.332031 4.429688 -1.476562 4.484375 -1.65625 C 4.535156 -1.84375 4.585938 -2.03125 4.640625 -2.21875 C 4.703125 -2.40625 4.757812 -2.585938 4.8125 -2.765625 C 4.875 -2.953125 4.929688 -3.109375 4.984375 -3.234375 L 7.09375 -9.296875 L 8.734375 -9.296875 Z M 5.265625 0 \"/>\n",
       "</g>\n",
       "<g id=\"glyph-0-15\">\n",
       "<path d=\"M 1.171875 -11.265625 L 1.171875 -12.75 L 2.71875 -12.75 L 2.71875 -11.265625 Z M 1.171875 0 L 1.171875 -9.296875 L 2.71875 -9.296875 L 2.71875 0 Z M 1.171875 0 \"/>\n",
       "</g>\n",
       "<g id=\"glyph-0-16\">\n",
       "<path d=\"M 8.15625 -2.5625 C 8.15625 -2.132812 8.070312 -1.75 7.90625 -1.40625 C 7.738281 -1.0625 7.492188 -0.773438 7.171875 -0.546875 C 6.847656 -0.316406 6.453125 -0.140625 5.984375 -0.015625 C 5.523438 0.109375 4.992188 0.171875 4.390625 0.171875 C 3.847656 0.171875 3.359375 0.128906 2.921875 0.046875 C 2.492188 -0.0351562 2.117188 -0.164062 1.796875 -0.34375 C 1.472656 -0.53125 1.195312 -0.773438 0.96875 -1.078125 C 0.75 -1.378906 0.585938 -1.75 0.484375 -2.1875 L 1.859375 -2.453125 C 1.984375 -1.953125 2.253906 -1.582031 2.671875 -1.34375 C 3.085938 -1.113281 3.660156 -1 4.390625 -1 C 4.722656 -1 5.023438 -1.019531 5.296875 -1.0625 C 5.578125 -1.113281 5.816406 -1.195312 6.015625 -1.3125 C 6.222656 -1.425781 6.378906 -1.570312 6.484375 -1.75 C 6.597656 -1.9375 6.65625 -2.171875 6.65625 -2.453125 C 6.65625 -2.734375 6.585938 -2.960938 6.453125 -3.140625 C 6.328125 -3.316406 6.144531 -3.460938 5.90625 -3.578125 C 5.675781 -3.703125 5.390625 -3.804688 5.046875 -3.890625 C 4.710938 -3.984375 4.347656 -4.085938 3.953125 -4.203125 C 3.578125 -4.296875 3.207031 -4.398438 2.84375 -4.515625 C 2.476562 -4.640625 2.144531 -4.800781 1.84375 -5 C 1.550781 -5.195312 1.3125 -5.441406 1.125 -5.734375 C 0.945312 -6.023438 0.859375 -6.394531 0.859375 -6.84375 C 0.859375 -7.6875 1.160156 -8.328125 1.765625 -8.765625 C 2.367188 -9.210938 3.25 -9.4375 4.40625 -9.4375 C 5.425781 -9.4375 6.238281 -9.253906 6.84375 -8.890625 C 7.445312 -8.535156 7.832031 -7.960938 8 -7.171875 L 6.609375 -7 C 6.554688 -7.238281 6.457031 -7.4375 6.3125 -7.59375 C 6.175781 -7.757812 6.007812 -7.890625 5.8125 -7.984375 C 5.625 -8.085938 5.40625 -8.160156 5.15625 -8.203125 C 4.914062 -8.242188 4.664062 -8.265625 4.40625 -8.265625 C 3.707031 -8.265625 3.191406 -8.160156 2.859375 -7.953125 C 2.523438 -7.742188 2.359375 -7.425781 2.359375 -7 C 2.359375 -6.738281 2.421875 -6.523438 2.546875 -6.359375 C 2.671875 -6.203125 2.84375 -6.066406 3.0625 -5.953125 C 3.28125 -5.847656 3.546875 -5.753906 3.859375 -5.671875 C 4.171875 -5.585938 4.507812 -5.5 4.875 -5.40625 C 5.125 -5.34375 5.375 -5.273438 5.625 -5.203125 C 5.882812 -5.128906 6.132812 -5.039062 6.375 -4.9375 C 6.625 -4.84375 6.851562 -4.726562 7.0625 -4.59375 C 7.28125 -4.457031 7.46875 -4.296875 7.625 -4.109375 C 7.789062 -3.921875 7.921875 -3.695312 8.015625 -3.4375 C 8.109375 -3.1875 8.15625 -2.894531 8.15625 -2.5625 Z M 8.15625 -2.5625 \"/>\n",
       "</g>\n",
       "<g id=\"glyph-0-17\">\n",
       "<path d=\"M 9.625 0 L 9.625 -5.609375 L 3.078125 -5.609375 L 3.078125 0 L 1.4375 0 L 1.4375 -12.109375 L 3.078125 -12.109375 L 3.078125 -6.984375 L 9.625 -6.984375 L 9.625 -12.109375 L 11.265625 -12.109375 L 11.265625 0 Z M 9.625 0 \"/>\n",
       "</g>\n",
       "<g id=\"glyph-0-18\">\n",
       "<path d=\"M 1.1875 0 L 1.1875 -12.75 L 2.734375 -12.75 L 2.734375 0 Z M 1.1875 0 \"/>\n",
       "</g>\n",
       "<g id=\"glyph-0-19\">\n",
       "<path d=\"M 9.046875 -4.6875 C 9.046875 -3.988281 8.988281 -3.335938 8.875 -2.734375 C 8.757812 -2.140625 8.566406 -1.628906 8.296875 -1.203125 C 8.035156 -0.773438 7.6875 -0.4375 7.25 -0.1875 C 6.8125 0.0507812 6.269531 0.171875 5.625 0.171875 C 4.957031 0.171875 4.375 0.046875 3.875 -0.203125 C 3.382812 -0.453125 3.003906 -0.863281 2.734375 -1.4375 L 2.703125 -1.4375 C 2.703125 -1.425781 2.703125 -1.375 2.703125 -1.28125 C 2.710938 -1.195312 2.71875 -1.082031 2.71875 -0.9375 C 2.71875 -0.800781 2.71875 -0.648438 2.71875 -0.484375 C 2.726562 -0.316406 2.734375 -0.148438 2.734375 0.015625 L 2.734375 3.65625 L 1.1875 3.65625 L 1.1875 -7.390625 C 1.1875 -7.617188 1.179688 -7.832031 1.171875 -8.03125 C 1.171875 -8.238281 1.164062 -8.425781 1.15625 -8.59375 C 1.15625 -8.769531 1.148438 -8.914062 1.140625 -9.03125 C 1.140625 -9.15625 1.140625 -9.242188 1.140625 -9.296875 L 2.625 -9.296875 C 2.632812 -9.273438 2.640625 -9.210938 2.640625 -9.109375 C 2.648438 -9.003906 2.660156 -8.878906 2.671875 -8.734375 C 2.679688 -8.585938 2.691406 -8.429688 2.703125 -8.265625 C 2.710938 -8.109375 2.71875 -7.953125 2.71875 -7.796875 L 2.75 -7.796875 C 2.894531 -8.097656 3.054688 -8.351562 3.234375 -8.5625 C 3.421875 -8.769531 3.628906 -8.941406 3.859375 -9.078125 C 4.097656 -9.210938 4.359375 -9.304688 4.640625 -9.359375 C 4.929688 -9.421875 5.257812 -9.453125 5.625 -9.453125 C 6.269531 -9.453125 6.8125 -9.335938 7.25 -9.109375 C 7.6875 -8.878906 8.035156 -8.554688 8.296875 -8.140625 C 8.566406 -7.734375 8.757812 -7.234375 8.875 -6.640625 C 8.988281 -6.054688 9.046875 -5.40625 9.046875 -4.6875 Z M 7.421875 -4.65625 C 7.421875 -5.226562 7.382812 -5.738281 7.3125 -6.1875 C 7.25 -6.632812 7.128906 -7.007812 6.953125 -7.3125 C 6.785156 -7.625 6.5625 -7.859375 6.28125 -8.015625 C 6.007812 -8.179688 5.660156 -8.265625 5.234375 -8.265625 C 4.890625 -8.265625 4.566406 -8.210938 4.265625 -8.109375 C 3.960938 -8.015625 3.695312 -7.828125 3.46875 -7.546875 C 3.238281 -7.273438 3.054688 -6.898438 2.921875 -6.421875 C 2.796875 -5.941406 2.734375 -5.3125 2.734375 -4.53125 C 2.734375 -3.875 2.785156 -3.316406 2.890625 -2.859375 C 3.003906 -2.410156 3.164062 -2.046875 3.375 -1.765625 C 3.582031 -1.484375 3.835938 -1.28125 4.140625 -1.15625 C 4.453125 -1.03125 4.8125 -0.96875 5.21875 -0.96875 C 5.644531 -0.96875 6 -1.050781 6.28125 -1.21875 C 6.5625 -1.382812 6.785156 -1.625 6.953125 -1.9375 C 7.128906 -2.25 7.25 -2.632812 7.3125 -3.09375 C 7.382812 -3.550781 7.421875 -4.070312 7.421875 -4.65625 Z M 7.421875 -4.65625 \"/>\n",
       "</g>\n",
       "<g id=\"glyph-0-20\">\n",
       "<path d=\"M 1.625 0 L 1.625 -12.109375 L 3.265625 -12.109375 L 3.265625 0 Z M 1.625 0 \"/>\n",
       "</g>\n",
       "<g id=\"glyph-0-21\">\n",
       "<path d=\"M 3.5625 0.171875 C 2.625 0.171875 1.921875 -0.0703125 1.453125 -0.5625 C 0.984375 -1.0625 0.75 -1.738281 0.75 -2.59375 C 0.75 -3.207031 0.863281 -3.707031 1.09375 -4.09375 C 1.320312 -4.488281 1.625 -4.796875 2 -5.015625 C 2.375 -5.242188 2.800781 -5.398438 3.28125 -5.484375 C 3.769531 -5.578125 4.265625 -5.628906 4.765625 -5.640625 L 6.84375 -5.671875 L 6.84375 -6.171875 C 6.84375 -6.554688 6.800781 -6.882812 6.71875 -7.15625 C 6.644531 -7.425781 6.523438 -7.644531 6.359375 -7.8125 C 6.191406 -7.976562 5.984375 -8.097656 5.734375 -8.171875 C 5.484375 -8.253906 5.191406 -8.296875 4.859375 -8.296875 C 4.554688 -8.296875 4.285156 -8.269531 4.046875 -8.21875 C 3.804688 -8.175781 3.597656 -8.097656 3.421875 -7.984375 C 3.242188 -7.878906 3.097656 -7.726562 2.984375 -7.53125 C 2.878906 -7.34375 2.8125 -7.101562 2.78125 -6.8125 L 1.15625 -6.953125 C 1.21875 -7.328125 1.328125 -7.664062 1.484375 -7.96875 C 1.648438 -8.269531 1.878906 -8.53125 2.171875 -8.75 C 2.460938 -8.976562 2.828125 -9.15625 3.265625 -9.28125 C 3.710938 -9.40625 4.253906 -9.46875 4.890625 -9.46875 C 6.054688 -9.46875 6.929688 -9.195312 7.515625 -8.65625 C 8.109375 -8.125 8.40625 -7.351562 8.40625 -6.34375 L 8.40625 -2.34375 C 8.40625 -1.882812 8.460938 -1.535156 8.578125 -1.296875 C 8.703125 -1.066406 8.9375 -0.953125 9.28125 -0.953125 C 9.363281 -0.953125 9.445312 -0.957031 9.53125 -0.96875 C 9.625 -0.976562 9.707031 -0.992188 9.78125 -1.015625 L 9.78125 -0.046875 C 9.59375 -0.00390625 9.398438 0.0234375 9.203125 0.046875 C 9.015625 0.0664062 8.8125 0.078125 8.59375 0.078125 C 8.300781 0.078125 8.050781 0.0390625 7.84375 -0.03125 C 7.632812 -0.101562 7.460938 -0.21875 7.328125 -0.375 C 7.191406 -0.539062 7.085938 -0.738281 7.015625 -0.96875 C 6.953125 -1.195312 6.910156 -1.46875 6.890625 -1.78125 L 6.84375 -1.78125 C 6.675781 -1.476562 6.492188 -1.207031 6.296875 -0.96875 C 6.097656 -0.726562 5.867188 -0.523438 5.609375 -0.359375 C 5.347656 -0.191406 5.046875 -0.0625 4.703125 0.03125 C 4.367188 0.125 3.988281 0.171875 3.5625 0.171875 Z M 3.90625 -0.984375 C 4.394531 -0.984375 4.820312 -1.070312 5.1875 -1.25 C 5.5625 -1.4375 5.867188 -1.671875 6.109375 -1.953125 C 6.359375 -2.234375 6.539062 -2.539062 6.65625 -2.875 C 6.78125 -3.207031 6.84375 -3.523438 6.84375 -3.828125 L 6.84375 -4.59375 L 5.15625 -4.546875 C 4.78125 -4.546875 4.421875 -4.519531 4.078125 -4.46875 C 3.734375 -4.425781 3.429688 -4.332031 3.171875 -4.1875 C 2.921875 -4.039062 2.71875 -3.835938 2.5625 -3.578125 C 2.414062 -3.328125 2.34375 -2.988281 2.34375 -2.5625 C 2.34375 -2.0625 2.476562 -1.671875 2.75 -1.390625 C 3.019531 -1.117188 3.40625 -0.984375 3.90625 -0.984375 Z M 3.90625 -0.984375 \"/>\n",
       "</g>\n",
       "<g id=\"glyph-0-22\">\n",
       "<path d=\"M 1.4375 0 L 1.4375 -12.109375 L 3.078125 -12.109375 L 3.078125 -1.34375 L 9.203125 -1.34375 L 9.203125 0 Z M 1.4375 0 \"/>\n",
       "</g>\n",
       "<g id=\"glyph-1-0\">\n",
       "<path d=\"M 16.828125 0 L 13.078125 0 L 11.015625 -8.75 C 10.953125 -9.019531 10.882812 -9.335938 10.8125 -9.703125 C 10.738281 -10.066406 10.671875 -10.421875 10.609375 -10.765625 C 10.523438 -11.160156 10.453125 -11.566406 10.390625 -11.984375 C 10.304688 -11.566406 10.226562 -11.15625 10.15625 -10.75 C 10.113281 -10.582031 10.070312 -10.40625 10.03125 -10.21875 C 10 -10.039062 9.960938 -9.863281 9.921875 -9.6875 C 9.890625 -9.507812 9.859375 -9.34375 9.828125 -9.1875 C 9.796875 -9.03125 9.757812 -8.882812 9.71875 -8.75 L 7.6875 0 L 3.921875 0 L 0.015625 -15.140625 L 3.234375 -15.140625 L 5.125 -6.71875 C 5.226562 -6.257812 5.328125 -5.804688 5.421875 -5.359375 C 5.515625 -4.910156 5.601562 -4.515625 5.6875 -4.171875 C 5.769531 -3.765625 5.847656 -3.375 5.921875 -3 C 6.023438 -3.53125 6.128906 -4.046875 6.234375 -4.546875 C 6.273438 -4.753906 6.320312 -4.972656 6.375 -5.203125 C 6.425781 -5.429688 6.472656 -5.65625 6.515625 -5.875 C 6.554688 -6.101562 6.597656 -6.316406 6.640625 -6.515625 C 6.691406 -6.722656 6.738281 -6.910156 6.78125 -7.078125 L 8.640625 -15.140625 L 12.1875 -15.140625 L 14.109375 -7.078125 C 14.148438 -6.910156 14.191406 -6.71875 14.234375 -6.5 C 14.273438 -6.289062 14.316406 -6.070312 14.359375 -5.84375 C 14.398438 -5.625 14.441406 -5.398438 14.484375 -5.171875 C 14.535156 -4.941406 14.578125 -4.722656 14.609375 -4.515625 C 14.691406 -4.015625 14.78125 -3.507812 14.875 -3 C 14.957031 -3.394531 15.046875 -3.8125 15.140625 -4.25 C 15.210938 -4.613281 15.300781 -5.015625 15.40625 -5.453125 C 15.507812 -5.890625 15.609375 -6.3125 15.703125 -6.71875 L 17.53125 -15.140625 L 20.75 -15.140625 Z M 16.828125 0 \"/>\n",
       "</g>\n",
       "<g id=\"glyph-1-1\">\n",
       "<path d=\"M 6.296875 0.21875 C 5.453125 0.21875 4.695312 0.09375 4.03125 -0.15625 C 3.363281 -0.40625 2.789062 -0.78125 2.3125 -1.28125 C 1.84375 -1.789062 1.484375 -2.425781 1.234375 -3.1875 C 0.984375 -3.945312 0.859375 -4.835938 0.859375 -5.859375 C 0.859375 -6.972656 1.003906 -7.910156 1.296875 -8.671875 C 1.597656 -9.429688 2 -10.046875 2.5 -10.515625 C 3.007812 -10.984375 3.59375 -11.320312 4.25 -11.53125 C 4.914062 -11.738281 5.613281 -11.84375 6.34375 -11.84375 C 7.257812 -11.84375 8.039062 -11.679688 8.6875 -11.359375 C 9.332031 -11.035156 9.863281 -10.585938 10.28125 -10.015625 C 10.695312 -9.441406 11 -8.753906 11.1875 -7.953125 C 11.382812 -7.160156 11.484375 -6.28125 11.484375 -5.3125 L 11.484375 -5.234375 L 4.03125 -5.234375 C 4.03125 -4.742188 4.070312 -4.289062 4.15625 -3.875 C 4.238281 -3.457031 4.375 -3.09375 4.5625 -2.78125 C 4.757812 -2.476562 5.015625 -2.238281 5.328125 -2.0625 C 5.640625 -1.894531 6.015625 -1.8125 6.453125 -1.8125 C 6.972656 -1.8125 7.398438 -1.921875 7.734375 -2.140625 C 8.078125 -2.367188 8.320312 -2.71875 8.46875 -3.1875 L 11.3125 -2.9375 C 11.1875 -2.613281 11.003906 -2.265625 10.765625 -1.890625 C 10.535156 -1.515625 10.226562 -1.171875 9.84375 -0.859375 C 9.457031 -0.546875 8.972656 -0.285156 8.390625 -0.078125 C 7.816406 0.117188 7.117188 0.21875 6.296875 0.21875 Z M 6.296875 -9.9375 C 5.984375 -9.9375 5.691406 -9.882812 5.421875 -9.78125 C 5.160156 -9.675781 4.929688 -9.507812 4.734375 -9.28125 C 4.535156 -9.0625 4.375 -8.769531 4.25 -8.40625 C 4.132812 -8.050781 4.066406 -7.625 4.046875 -7.125 L 8.5625 -7.125 C 8.5 -8.0625 8.269531 -8.765625 7.875 -9.234375 C 7.488281 -9.703125 6.960938 -9.9375 6.296875 -9.9375 Z M 6.296875 -9.9375 \"/>\n",
       "</g>\n",
       "<g id=\"glyph-1-2\">\n",
       "<path d=\"M 12.53125 -5.859375 C 12.53125 -4.972656 12.441406 -4.160156 12.265625 -3.421875 C 12.097656 -2.679688 11.832031 -2.039062 11.46875 -1.5 C 11.101562 -0.957031 10.640625 -0.535156 10.078125 -0.234375 C 9.515625 0.0664062 8.847656 0.21875 8.078125 0.21875 C 7.734375 0.21875 7.390625 0.179688 7.046875 0.109375 C 6.703125 0.0351562 6.375 -0.0820312 6.0625 -0.25 C 5.757812 -0.414062 5.476562 -0.628906 5.21875 -0.890625 C 4.957031 -1.160156 4.738281 -1.488281 4.5625 -1.875 L 4.53125 -1.875 C 4.53125 -1.71875 4.523438 -1.539062 4.515625 -1.34375 C 4.503906 -1.15625 4.488281 -0.96875 4.46875 -0.78125 C 4.457031 -0.601562 4.441406 -0.441406 4.421875 -0.296875 C 4.410156 -0.160156 4.398438 -0.0625 4.390625 0 L 1.453125 0 C 1.472656 -0.25 1.488281 -0.601562 1.5 -1.0625 C 1.519531 -1.53125 1.53125 -2.0625 1.53125 -2.65625 L 1.53125 -15.9375 L 4.5625 -15.9375 L 4.5625 -11.5 C 4.5625 -11.269531 4.554688 -11.046875 4.546875 -10.828125 C 4.546875 -10.609375 4.539062 -10.40625 4.53125 -10.21875 C 4.519531 -10 4.515625 -9.796875 4.515625 -9.609375 L 4.5625 -9.609375 C 4.925781 -10.410156 5.425781 -10.984375 6.0625 -11.328125 C 6.695312 -11.671875 7.429688 -11.84375 8.265625 -11.84375 C 9.015625 -11.84375 9.65625 -11.691406 10.1875 -11.390625 C 10.726562 -11.097656 11.171875 -10.679688 11.515625 -10.140625 C 11.867188 -9.609375 12.125 -8.976562 12.28125 -8.25 C 12.445312 -7.519531 12.53125 -6.722656 12.53125 -5.859375 Z M 9.390625 -5.859375 C 9.390625 -7.171875 9.195312 -8.144531 8.8125 -8.78125 C 8.425781 -9.425781 7.828125 -9.75 7.015625 -9.75 C 6.703125 -9.75 6.394531 -9.6875 6.09375 -9.5625 C 5.800781 -9.4375 5.535156 -9.222656 5.296875 -8.921875 C 5.054688 -8.617188 4.863281 -8.207031 4.71875 -7.6875 C 4.582031 -7.175781 4.515625 -6.535156 4.515625 -5.765625 C 4.515625 -5.003906 4.582031 -4.367188 4.71875 -3.859375 C 4.863281 -3.359375 5.050781 -2.957031 5.28125 -2.65625 C 5.507812 -2.363281 5.773438 -2.15625 6.078125 -2.03125 C 6.378906 -1.90625 6.6875 -1.84375 7 -1.84375 C 7.757812 -1.84375 8.347656 -2.160156 8.765625 -2.796875 C 9.179688 -3.429688 9.390625 -4.453125 9.390625 -5.859375 Z M 9.390625 -5.859375 \"/>\n",
       "</g>\n",
       "<g id=\"glyph-1-3\">\n",
       "<path d=\"M 12.53125 -5.859375 C 12.53125 -4.984375 12.441406 -4.171875 12.265625 -3.421875 C 12.097656 -2.679688 11.832031 -2.039062 11.46875 -1.5 C 11.101562 -0.96875 10.640625 -0.546875 10.078125 -0.234375 C 9.515625 0.0664062 8.847656 0.21875 8.078125 0.21875 C 7.734375 0.21875 7.390625 0.179688 7.046875 0.109375 C 6.710938 0.0351562 6.390625 -0.078125 6.078125 -0.234375 C 5.773438 -0.398438 5.488281 -0.613281 5.21875 -0.875 C 4.957031 -1.132812 4.738281 -1.457031 4.5625 -1.84375 L 4.484375 -1.84375 C 4.492188 -1.8125 4.5 -1.722656 4.5 -1.578125 C 4.507812 -1.429688 4.519531 -1.265625 4.53125 -1.078125 C 4.539062 -0.890625 4.546875 -0.6875 4.546875 -0.46875 C 4.554688 -0.257812 4.5625 -0.0664062 4.5625 0.109375 L 4.5625 4.5625 L 1.53125 4.5625 L 1.53125 -8.953125 C 1.53125 -9.546875 1.519531 -10.070312 1.5 -10.53125 C 1.488281 -11 1.472656 -11.363281 1.453125 -11.625 L 4.390625 -11.625 C 4.398438 -11.570312 4.410156 -11.472656 4.421875 -11.328125 C 4.441406 -11.191406 4.457031 -11.03125 4.46875 -10.84375 C 4.476562 -10.65625 4.488281 -10.457031 4.5 -10.25 C 4.507812 -10.050781 4.515625 -9.878906 4.515625 -9.734375 L 4.5625 -9.734375 C 4.925781 -10.492188 5.425781 -11.039062 6.0625 -11.375 C 6.695312 -11.707031 7.429688 -11.875 8.265625 -11.875 C 9.003906 -11.875 9.640625 -11.722656 10.171875 -11.421875 C 10.710938 -11.117188 11.15625 -10.703125 11.5 -10.171875 C 11.851562 -9.640625 12.113281 -9.003906 12.28125 -8.265625 C 12.445312 -7.535156 12.53125 -6.734375 12.53125 -5.859375 Z M 9.390625 -5.859375 C 9.390625 -7.191406 9.1875 -8.175781 8.78125 -8.8125 C 8.382812 -9.457031 7.789062 -9.78125 7 -9.78125 C 6.695312 -9.78125 6.394531 -9.71875 6.09375 -9.59375 C 5.800781 -9.46875 5.535156 -9.25 5.296875 -8.9375 C 5.066406 -8.632812 4.878906 -8.226562 4.734375 -7.71875 C 4.585938 -7.207031 4.515625 -6.5625 4.515625 -5.78125 C 4.515625 -5.019531 4.582031 -4.382812 4.71875 -3.875 C 4.863281 -3.375 5.050781 -2.972656 5.28125 -2.671875 C 5.519531 -2.367188 5.785156 -2.15625 6.078125 -2.03125 C 6.367188 -1.90625 6.664062 -1.84375 6.96875 -1.84375 C 7.351562 -1.84375 7.695312 -1.921875 8 -2.078125 C 8.300781 -2.234375 8.550781 -2.472656 8.75 -2.796875 C 8.957031 -3.117188 9.113281 -3.535156 9.21875 -4.046875 C 9.332031 -4.554688 9.390625 -5.160156 9.390625 -5.859375 Z M 9.390625 -5.859375 \"/>\n",
       "</g>\n",
       "<g id=\"glyph-1-4\">\n",
       "<path d=\"M 4.21875 0.21875 C 3.664062 0.21875 3.164062 0.140625 2.71875 -0.015625 C 2.28125 -0.171875 1.90625 -0.394531 1.59375 -0.6875 C 1.289062 -0.988281 1.054688 -1.359375 0.890625 -1.796875 C 0.722656 -2.234375 0.640625 -2.726562 0.640625 -3.28125 C 0.640625 -3.96875 0.757812 -4.546875 1 -5.015625 C 1.238281 -5.484375 1.566406 -5.863281 1.984375 -6.15625 C 2.398438 -6.445312 2.882812 -6.660156 3.4375 -6.796875 C 4 -6.929688 4.597656 -7 5.234375 -7 L 7.734375 -7.046875 L 7.734375 -7.640625 C 7.734375 -8.054688 7.695312 -8.40625 7.625 -8.6875 C 7.550781 -8.976562 7.441406 -9.210938 7.296875 -9.390625 C 7.148438 -9.566406 6.972656 -9.691406 6.765625 -9.765625 C 6.554688 -9.847656 6.3125 -9.890625 6.03125 -9.890625 C 5.78125 -9.890625 5.554688 -9.863281 5.359375 -9.8125 C 5.171875 -9.757812 5.003906 -9.671875 4.859375 -9.546875 C 4.710938 -9.421875 4.59375 -9.25 4.5 -9.03125 C 4.414062 -8.820312 4.351562 -8.554688 4.3125 -8.234375 L 1.171875 -8.390625 C 1.253906 -8.898438 1.410156 -9.363281 1.640625 -9.78125 C 1.867188 -10.195312 2.1875 -10.554688 2.59375 -10.859375 C 3 -11.171875 3.492188 -11.410156 4.078125 -11.578125 C 4.671875 -11.753906 5.367188 -11.84375 6.171875 -11.84375 C 6.890625 -11.84375 7.53125 -11.75 8.09375 -11.5625 C 8.664062 -11.382812 9.144531 -11.117188 9.53125 -10.765625 C 9.925781 -10.410156 10.226562 -9.972656 10.4375 -9.453125 C 10.644531 -8.941406 10.75 -8.347656 10.75 -7.671875 L 10.75 -3.4375 C 10.75 -3.164062 10.757812 -2.921875 10.78125 -2.703125 C 10.8125 -2.492188 10.859375 -2.3125 10.921875 -2.15625 C 10.992188 -2.007812 11.09375 -1.898438 11.21875 -1.828125 C 11.34375 -1.753906 11.503906 -1.71875 11.703125 -1.71875 C 11.929688 -1.71875 12.15625 -1.738281 12.375 -1.78125 L 12.375 -0.15625 C 12.195312 -0.113281 12.035156 -0.0703125 11.890625 -0.03125 C 11.742188 0 11.597656 0.0234375 11.453125 0.046875 C 11.316406 0.078125 11.164062 0.0976562 11 0.109375 C 10.84375 0.117188 10.65625 0.125 10.4375 0.125 C 9.675781 0.125 9.113281 -0.0546875 8.75 -0.421875 C 8.394531 -0.796875 8.179688 -1.347656 8.109375 -2.078125 L 8.046875 -2.078125 C 7.640625 -1.347656 7.125 -0.78125 6.5 -0.375 C 5.875 0.0195312 5.113281 0.21875 4.21875 0.21875 Z M 7.734375 -5.375 L 6.1875 -5.359375 C 5.863281 -5.347656 5.554688 -5.320312 5.265625 -5.28125 C 4.972656 -5.238281 4.71875 -5.15625 4.5 -5.03125 C 4.28125 -4.90625 4.109375 -4.722656 3.984375 -4.484375 C 3.859375 -4.253906 3.796875 -3.9375 3.796875 -3.53125 C 3.796875 -2.976562 3.921875 -2.566406 4.171875 -2.296875 C 4.429688 -2.023438 4.769531 -1.890625 5.1875 -1.890625 C 5.570312 -1.890625 5.921875 -1.972656 6.234375 -2.140625 C 6.554688 -2.304688 6.828125 -2.519531 7.046875 -2.78125 C 7.265625 -3.050781 7.429688 -3.363281 7.546875 -3.71875 C 7.671875 -4.070312 7.734375 -4.429688 7.734375 -4.796875 Z M 7.734375 -5.375 \"/>\n",
       "</g>\n",
       "<g id=\"glyph-1-5\">\n",
       "<path d=\"M 6.40625 4.65625 C 5.632812 4.65625 4.957031 4.578125 4.375 4.421875 C 3.789062 4.273438 3.289062 4.0625 2.875 3.78125 C 2.46875 3.507812 2.140625 3.179688 1.890625 2.796875 C 1.648438 2.410156 1.484375 1.988281 1.390625 1.53125 L 4.40625 1.1875 C 4.507812 1.644531 4.738281 2.003906 5.09375 2.265625 C 5.445312 2.535156 5.910156 2.671875 6.484375 2.671875 C 6.847656 2.671875 7.175781 2.617188 7.46875 2.515625 C 7.769531 2.421875 8.023438 2.253906 8.234375 2.015625 C 8.441406 1.773438 8.601562 1.457031 8.71875 1.0625 C 8.84375 0.664062 8.90625 0.179688 8.90625 -0.390625 C 8.90625 -0.597656 8.90625 -0.804688 8.90625 -1.015625 C 8.90625 -1.222656 8.910156 -1.410156 8.921875 -1.578125 C 8.921875 -1.773438 8.921875 -1.96875 8.921875 -2.15625 L 8.90625 -2.15625 C 8.550781 -1.40625 8.054688 -0.859375 7.421875 -0.515625 C 6.796875 -0.179688 6.046875 -0.015625 5.171875 -0.015625 C 4.429688 -0.015625 3.789062 -0.160156 3.25 -0.453125 C 2.71875 -0.742188 2.273438 -1.148438 1.921875 -1.671875 C 1.578125 -2.191406 1.320312 -2.8125 1.15625 -3.53125 C 0.988281 -4.25 0.90625 -5.039062 0.90625 -5.90625 C 0.90625 -6.800781 0.992188 -7.613281 1.171875 -8.34375 C 1.347656 -9.070312 1.617188 -9.695312 1.984375 -10.21875 C 2.359375 -10.738281 2.828125 -11.140625 3.390625 -11.421875 C 3.953125 -11.703125 4.617188 -11.84375 5.390625 -11.84375 C 6.160156 -11.84375 6.851562 -11.675781 7.46875 -11.34375 C 8.082031 -11.019531 8.5625 -10.488281 8.90625 -9.75 L 8.953125 -9.75 C 8.953125 -9.90625 8.957031 -10.082031 8.96875 -10.28125 C 8.976562 -10.476562 8.988281 -10.664062 9 -10.84375 C 9.019531 -11.03125 9.039062 -11.191406 9.0625 -11.328125 C 9.082031 -11.472656 9.097656 -11.570312 9.109375 -11.625 L 11.96875 -11.625 C 11.957031 -11.363281 11.941406 -11 11.921875 -10.53125 C 11.910156 -10.070312 11.90625 -9.539062 11.90625 -8.9375 L 11.90625 -0.359375 C 11.90625 0.484375 11.78125 1.21875 11.53125 1.84375 C 11.289062 2.476562 10.9375 3.003906 10.46875 3.421875 C 10 3.835938 9.421875 4.144531 8.734375 4.34375 C 8.054688 4.550781 7.28125 4.65625 6.40625 4.65625 Z M 8.921875 -5.96875 C 8.921875 -6.695312 8.847656 -7.304688 8.703125 -7.796875 C 8.566406 -8.285156 8.382812 -8.675781 8.15625 -8.96875 C 7.925781 -9.257812 7.660156 -9.46875 7.359375 -9.59375 C 7.066406 -9.71875 6.769531 -9.78125 6.46875 -9.78125 C 6.082031 -9.78125 5.738281 -9.703125 5.4375 -9.546875 C 5.144531 -9.398438 4.894531 -9.164062 4.6875 -8.84375 C 4.476562 -8.53125 4.316406 -8.128906 4.203125 -7.640625 C 4.097656 -7.160156 4.046875 -6.582031 4.046875 -5.90625 C 4.046875 -4.65625 4.242188 -3.707031 4.640625 -3.0625 C 5.046875 -2.425781 5.648438 -2.109375 6.453125 -2.109375 C 6.742188 -2.109375 7.035156 -2.164062 7.328125 -2.28125 C 7.628906 -2.40625 7.898438 -2.613281 8.140625 -2.90625 C 8.378906 -3.207031 8.566406 -3.601562 8.703125 -4.09375 C 8.847656 -4.59375 8.921875 -5.21875 8.921875 -5.96875 Z M 8.921875 -5.96875 \"/>\n",
       "</g>\n",
       "<g id=\"glyph-2-0\">\n",
       "<path d=\"M -2.28125 -8.546875 C -2.28125 -9.140625 -2.363281 -9.648438 -2.53125 -10.078125 C -2.695312 -10.515625 -2.914062 -10.890625 -3.1875 -11.203125 C -3.457031 -11.523438 -3.765625 -11.789062 -4.109375 -12 C -4.453125 -12.21875 -4.800781 -12.394531 -5.15625 -12.53125 L -4.109375 -15.28125 C -3.566406 -15.0625 -3.035156 -14.769531 -2.515625 -14.40625 C -1.992188 -14.050781 -1.53125 -13.601562 -1.125 -13.0625 C -0.726562 -12.53125 -0.40625 -11.894531 -0.15625 -11.15625 C 0.09375 -10.414062 0.21875 -9.546875 0.21875 -8.546875 C 0.21875 -7.234375 0.0234375 -6.097656 -0.359375 -5.140625 C -0.753906 -4.179688 -1.300781 -3.382812 -2 -2.75 C -2.695312 -2.125 -3.523438 -1.660156 -4.484375 -1.359375 C -5.453125 -1.054688 -6.503906 -0.90625 -7.640625 -0.90625 C -8.816406 -0.90625 -9.878906 -1.054688 -10.828125 -1.359375 C -11.785156 -1.660156 -12.597656 -2.117188 -13.265625 -2.734375 C -13.941406 -3.347656 -14.457031 -4.125 -14.8125 -5.0625 C -15.175781 -6.007812 -15.359375 -7.125 -15.359375 -8.40625 C -15.359375 -9.394531 -15.253906 -10.257812 -15.046875 -11 C -14.835938 -11.738281 -14.546875 -12.378906 -14.171875 -12.921875 C -13.796875 -13.460938 -13.351562 -13.910156 -12.84375 -14.265625 C -12.332031 -14.617188 -11.769531 -14.894531 -11.15625 -15.09375 L -10.390625 -12.296875 C -10.710938 -12.203125 -11.019531 -12.050781 -11.3125 -11.84375 C -11.613281 -11.632812 -11.878906 -11.367188 -12.109375 -11.046875 C -12.335938 -10.734375 -12.519531 -10.359375 -12.65625 -9.921875 C -12.800781 -9.492188 -12.875 -9.007812 -12.875 -8.46875 C -12.875 -7.695312 -12.75 -7.035156 -12.5 -6.484375 C -12.25 -5.929688 -11.894531 -5.476562 -11.4375 -5.125 C -10.976562 -4.769531 -10.425781 -4.507812 -9.78125 -4.34375 C -9.144531 -4.175781 -8.429688 -4.09375 -7.640625 -4.09375 C -6.847656 -4.09375 -6.125 -4.175781 -5.46875 -4.34375 C -4.8125 -4.507812 -4.25 -4.769531 -3.78125 -5.125 C -3.3125 -5.488281 -2.941406 -5.953125 -2.671875 -6.515625 C -2.410156 -7.078125 -2.28125 -7.753906 -2.28125 -8.546875 Z M -2.28125 -8.546875 \"/>\n",
       "</g>\n",
       "<g id=\"glyph-2-1\">\n",
       "<path d=\"M 0 -1.53125 L -15.9375 -1.53125 L -15.9375 -4.5625 L 0 -4.5625 Z M 0 -1.53125 \"/>\n",
       "</g>\n",
       "<g id=\"glyph-2-2\">\n",
       "<path d=\"M -13.71875 -1.53125 L -15.9375 -1.53125 L -15.9375 -4.5625 L -13.71875 -4.5625 Z M 0 -1.53125 L -11.625 -1.53125 L -11.625 -4.5625 L 0 -4.5625 Z M 0 -1.53125 \"/>\n",
       "</g>\n",
       "<g id=\"glyph-2-3\">\n",
       "<path d=\"M 0.21875 -6.375 C 0.21875 -5.457031 0.078125 -4.648438 -0.203125 -3.953125 C -0.492188 -3.265625 -0.898438 -2.691406 -1.421875 -2.234375 C -1.953125 -1.773438 -2.582031 -1.429688 -3.3125 -1.203125 C -4.050781 -0.972656 -4.863281 -0.859375 -5.75 -0.859375 C -6.71875 -0.859375 -7.578125 -0.984375 -8.328125 -1.234375 C -9.085938 -1.484375 -9.722656 -1.84375 -10.234375 -2.3125 C -10.753906 -2.789062 -11.148438 -3.375 -11.421875 -4.0625 C -11.703125 -4.757812 -11.84375 -5.546875 -11.84375 -6.421875 C -11.84375 -7.171875 -11.738281 -7.835938 -11.53125 -8.421875 C -11.332031 -9.003906 -11.054688 -9.507812 -10.703125 -9.9375 C -10.359375 -10.363281 -9.953125 -10.707031 -9.484375 -10.96875 C -9.015625 -11.226562 -8.503906 -11.40625 -7.953125 -11.5 L -7.8125 -8.46875 C -8.40625 -8.382812 -8.878906 -8.171875 -9.234375 -7.828125 C -9.585938 -7.484375 -9.765625 -6.992188 -9.765625 -6.359375 C -9.765625 -5.546875 -9.429688 -4.953125 -8.765625 -4.578125 C -8.097656 -4.210938 -7.128906 -4.03125 -5.859375 -4.03125 C -3.179688 -4.03125 -1.84375 -4.820312 -1.84375 -6.40625 C -1.84375 -6.976562 -2.023438 -7.457031 -2.390625 -7.84375 C -2.753906 -8.226562 -3.289062 -8.46875 -4 -8.5625 L -3.875 -11.59375 C -3.332031 -11.519531 -2.816406 -11.351562 -2.328125 -11.09375 C -1.835938 -10.84375 -1.40625 -10.5 -1.03125 -10.0625 C -0.65625 -9.632812 -0.351562 -9.113281 -0.125 -8.5 C 0.101562 -7.882812 0.21875 -7.175781 0.21875 -6.375 Z M 0.21875 -6.375 \"/>\n",
       "</g>\n",
       "<g id=\"glyph-2-4\">\n",
       "<path d=\"M 0 -8.953125 L -5.265625 -5.859375 L -4.359375 -4.5625 L 0 -4.5625 L 0 -1.53125 L -15.9375 -1.53125 L -15.9375 -4.5625 L -6.8125 -4.5625 L -11.625 -8.703125 L -11.625 -11.953125 L -7.09375 -7.859375 L 0 -12.25 Z M 0 -8.953125 \"/>\n",
       "</g>\n",
       "<g id=\"glyph-2-5\">\n",
       "</g>\n",
       "<g id=\"glyph-2-6\">\n",
       "<path d=\"M 0 -11.875 L -5.75 -8.359375 L -5.75 -4.640625 L 0 -4.640625 L 0 -1.46875 L -15.140625 -1.46875 L -15.140625 -9.03125 C -15.140625 -9.976562 -15.03125 -10.800781 -14.8125 -11.5 C -14.601562 -12.207031 -14.300781 -12.796875 -13.90625 -13.265625 C -13.519531 -13.742188 -13.050781 -14.097656 -12.5 -14.328125 C -11.945312 -14.566406 -11.320312 -14.6875 -10.625 -14.6875 C -10.0625 -14.6875 -9.546875 -14.601562 -9.078125 -14.4375 C -8.609375 -14.269531 -8.1875 -14.035156 -7.8125 -13.734375 C -7.445312 -13.429688 -7.140625 -13.078125 -6.890625 -12.671875 C -6.648438 -12.265625 -6.472656 -11.820312 -6.359375 -11.34375 L 0 -15.4375 Z M -10.5 -11.5 C -11.238281 -11.5 -11.785156 -11.253906 -12.140625 -10.765625 C -12.492188 -10.285156 -12.671875 -9.597656 -12.671875 -8.703125 L -12.671875 -4.640625 L -8.203125 -4.640625 L -8.203125 -8.78125 C -8.203125 -9.257812 -8.257812 -9.664062 -8.375 -10 C -8.488281 -10.34375 -8.644531 -10.625 -8.84375 -10.84375 C -9.050781 -11.0625 -9.289062 -11.222656 -9.5625 -11.328125 C -9.84375 -11.441406 -10.15625 -11.5 -10.5 -11.5 Z M -10.5 -11.5 \"/>\n",
       "</g>\n",
       "<g id=\"glyph-2-7\">\n",
       "<path d=\"M 0.21875 -4.21875 C 0.21875 -3.664062 0.140625 -3.164062 -0.015625 -2.71875 C -0.171875 -2.28125 -0.394531 -1.90625 -0.6875 -1.59375 C -0.988281 -1.289062 -1.359375 -1.054688 -1.796875 -0.890625 C -2.234375 -0.722656 -2.726562 -0.640625 -3.28125 -0.640625 C -3.96875 -0.640625 -4.546875 -0.757812 -5.015625 -1 C -5.484375 -1.238281 -5.863281 -1.566406 -6.15625 -1.984375 C -6.445312 -2.398438 -6.660156 -2.882812 -6.796875 -3.4375 C -6.929688 -4 -7 -4.597656 -7 -5.234375 L -7.046875 -7.734375 L -7.640625 -7.734375 C -8.054688 -7.734375 -8.40625 -7.695312 -8.6875 -7.625 C -8.976562 -7.550781 -9.210938 -7.441406 -9.390625 -7.296875 C -9.566406 -7.148438 -9.691406 -6.972656 -9.765625 -6.765625 C -9.847656 -6.554688 -9.890625 -6.3125 -9.890625 -6.03125 C -9.890625 -5.78125 -9.863281 -5.554688 -9.8125 -5.359375 C -9.757812 -5.171875 -9.671875 -5.003906 -9.546875 -4.859375 C -9.421875 -4.710938 -9.25 -4.59375 -9.03125 -4.5 C -8.820312 -4.414062 -8.554688 -4.351562 -8.234375 -4.3125 L -8.390625 -1.171875 C -8.898438 -1.253906 -9.363281 -1.410156 -9.78125 -1.640625 C -10.195312 -1.867188 -10.554688 -2.1875 -10.859375 -2.59375 C -11.171875 -3 -11.410156 -3.492188 -11.578125 -4.078125 C -11.753906 -4.671875 -11.84375 -5.367188 -11.84375 -6.171875 C -11.84375 -6.890625 -11.75 -7.53125 -11.5625 -8.09375 C -11.382812 -8.664062 -11.117188 -9.144531 -10.765625 -9.53125 C -10.410156 -9.925781 -9.972656 -10.226562 -9.453125 -10.4375 C -8.941406 -10.644531 -8.347656 -10.75 -7.671875 -10.75 L -3.4375 -10.75 C -3.164062 -10.75 -2.921875 -10.757812 -2.703125 -10.78125 C -2.492188 -10.8125 -2.3125 -10.859375 -2.15625 -10.921875 C -2.007812 -10.992188 -1.898438 -11.09375 -1.828125 -11.21875 C -1.753906 -11.34375 -1.71875 -11.503906 -1.71875 -11.703125 C -1.71875 -11.929688 -1.738281 -12.15625 -1.78125 -12.375 L -0.15625 -12.375 C -0.113281 -12.195312 -0.0703125 -12.035156 -0.03125 -11.890625 C 0 -11.742188 0.0234375 -11.597656 0.046875 -11.453125 C 0.078125 -11.316406 0.0976562 -11.164062 0.109375 -11 C 0.117188 -10.84375 0.125 -10.65625 0.125 -10.4375 C 0.125 -9.675781 -0.0546875 -9.113281 -0.421875 -8.75 C -0.796875 -8.394531 -1.347656 -8.179688 -2.078125 -8.109375 L -2.078125 -8.046875 C -1.347656 -7.640625 -0.78125 -7.125 -0.375 -6.5 C 0.0195312 -5.875 0.21875 -5.113281 0.21875 -4.21875 Z M -5.375 -7.734375 L -5.359375 -6.1875 C -5.347656 -5.863281 -5.320312 -5.554688 -5.28125 -5.265625 C -5.238281 -4.972656 -5.15625 -4.71875 -5.03125 -4.5 C -4.90625 -4.28125 -4.722656 -4.109375 -4.484375 -3.984375 C -4.253906 -3.859375 -3.9375 -3.796875 -3.53125 -3.796875 C -2.976562 -3.796875 -2.566406 -3.921875 -2.296875 -4.171875 C -2.023438 -4.429688 -1.890625 -4.769531 -1.890625 -5.1875 C -1.890625 -5.570312 -1.972656 -5.921875 -2.140625 -6.234375 C -2.304688 -6.554688 -2.519531 -6.828125 -2.78125 -7.046875 C -3.050781 -7.265625 -3.363281 -7.429688 -3.71875 -7.546875 C -4.070312 -7.671875 -4.429688 -7.734375 -4.796875 -7.734375 Z M -5.375 -7.734375 \"/>\n",
       "</g>\n",
       "<g id=\"glyph-2-8\">\n",
       "<path d=\"M 0.1875 -4.515625 C 0.1875 -3.628906 -0.0507812 -2.941406 -0.53125 -2.453125 C -1.007812 -1.972656 -1.742188 -1.734375 -2.734375 -1.734375 L -9.578125 -1.734375 L -9.578125 -0.265625 L -11.625 -0.265625 L -11.625 -1.890625 L -14.359375 -2.84375 L -14.359375 -4.734375 L -11.625 -4.734375 L -11.625 -6.921875 L -9.578125 -6.921875 L -9.578125 -4.734375 L -3.546875 -4.734375 C -2.984375 -4.734375 -2.566406 -4.835938 -2.296875 -5.046875 C -2.023438 -5.265625 -1.890625 -5.597656 -1.890625 -6.046875 C -1.890625 -6.234375 -1.90625 -6.398438 -1.9375 -6.546875 C -1.96875 -6.703125 -2.003906 -6.875 -2.046875 -7.0625 L -0.171875 -7.0625 C -0.046875 -6.6875 0.0390625 -6.289062 0.09375 -5.875 C 0.15625 -5.457031 0.1875 -5.003906 0.1875 -4.515625 Z M 0.1875 -4.515625 \"/>\n",
       "</g>\n",
       "<g id=\"glyph-2-9\">\n",
       "<path d=\"M 0.21875 -6.296875 C 0.21875 -5.453125 0.09375 -4.695312 -0.15625 -4.03125 C -0.40625 -3.363281 -0.78125 -2.789062 -1.28125 -2.3125 C -1.789062 -1.84375 -2.425781 -1.484375 -3.1875 -1.234375 C -3.945312 -0.984375 -4.835938 -0.859375 -5.859375 -0.859375 C -6.972656 -0.859375 -7.910156 -1.003906 -8.671875 -1.296875 C -9.429688 -1.597656 -10.046875 -2 -10.515625 -2.5 C -10.984375 -3.007812 -11.320312 -3.59375 -11.53125 -4.25 C -11.738281 -4.914062 -11.84375 -5.613281 -11.84375 -6.34375 C -11.84375 -7.257812 -11.679688 -8.039062 -11.359375 -8.6875 C -11.035156 -9.332031 -10.585938 -9.863281 -10.015625 -10.28125 C -9.441406 -10.695312 -8.753906 -11 -7.953125 -11.1875 C -7.160156 -11.382812 -6.28125 -11.484375 -5.3125 -11.484375 L -5.234375 -11.484375 L -5.234375 -4.03125 C -4.742188 -4.03125 -4.289062 -4.070312 -3.875 -4.15625 C -3.457031 -4.238281 -3.09375 -4.375 -2.78125 -4.5625 C -2.476562 -4.757812 -2.238281 -5.015625 -2.0625 -5.328125 C -1.894531 -5.640625 -1.8125 -6.015625 -1.8125 -6.453125 C -1.8125 -6.972656 -1.921875 -7.398438 -2.140625 -7.734375 C -2.367188 -8.078125 -2.71875 -8.320312 -3.1875 -8.46875 L -2.9375 -11.3125 C -2.613281 -11.1875 -2.265625 -11.003906 -1.890625 -10.765625 C -1.515625 -10.535156 -1.171875 -10.226562 -0.859375 -9.84375 C -0.546875 -9.457031 -0.285156 -8.972656 -0.078125 -8.390625 C 0.117188 -7.816406 0.21875 -7.117188 0.21875 -6.296875 Z M -9.9375 -6.296875 C -9.9375 -5.984375 -9.882812 -5.691406 -9.78125 -5.421875 C -9.675781 -5.160156 -9.507812 -4.929688 -9.28125 -4.734375 C -9.0625 -4.535156 -8.769531 -4.375 -8.40625 -4.25 C -8.050781 -4.132812 -7.625 -4.066406 -7.125 -4.046875 L -7.125 -8.5625 C -8.0625 -8.5 -8.765625 -8.269531 -9.234375 -7.875 C -9.703125 -7.488281 -9.9375 -6.960938 -9.9375 -6.296875 Z M -9.9375 -6.296875 \"/>\n",
       "</g>\n",
       "<g id=\"glyph-3-0\">\n",
       "<path d=\"M 10.25 -2.734375 C 10.96875 -2.734375 11.582031 -2.832031 12.09375 -3.03125 C 12.613281 -3.238281 13.066406 -3.503906 13.453125 -3.828125 C 13.835938 -4.148438 14.15625 -4.519531 14.40625 -4.9375 C 14.65625 -5.351562 14.863281 -5.769531 15.03125 -6.1875 L 18.34375 -4.9375 C 18.082031 -4.28125 17.734375 -3.640625 17.296875 -3.015625 C 16.867188 -2.390625 16.332031 -1.832031 15.6875 -1.34375 C 15.039062 -0.863281 14.273438 -0.472656 13.390625 -0.171875 C 12.503906 0.117188 11.457031 0.265625 10.25 0.265625 C 8.675781 0.265625 7.3125 0.03125 6.15625 -0.4375 C 5.007812 -0.90625 4.054688 -1.554688 3.296875 -2.390625 C 2.546875 -3.234375 1.988281 -4.234375 1.625 -5.390625 C 1.257812 -6.546875 1.078125 -7.804688 1.078125 -9.171875 C 1.078125 -10.585938 1.257812 -11.863281 1.625 -13 C 1.988281 -14.144531 2.539062 -15.117188 3.28125 -15.921875 C 4.019531 -16.734375 4.953125 -17.351562 6.078125 -17.78125 C 7.210938 -18.21875 8.546875 -18.4375 10.078125 -18.4375 C 11.265625 -18.4375 12.300781 -18.3125 13.1875 -18.0625 C 14.082031 -17.8125 14.851562 -17.460938 15.5 -17.015625 C 16.15625 -16.566406 16.691406 -16.035156 17.109375 -15.421875 C 17.535156 -14.804688 17.867188 -14.128906 18.109375 -13.390625 L 14.765625 -12.46875 C 14.640625 -12.851562 14.453125 -13.222656 14.203125 -13.578125 C 13.953125 -13.941406 13.632812 -14.257812 13.25 -14.53125 C 12.875 -14.800781 12.425781 -15.019531 11.90625 -15.1875 C 11.394531 -15.363281 10.8125 -15.453125 10.15625 -15.453125 C 9.238281 -15.453125 8.445312 -15.300781 7.78125 -15 C 7.125 -14.707031 6.582031 -14.285156 6.15625 -13.734375 C 5.726562 -13.179688 5.410156 -12.519531 5.203125 -11.75 C 5.003906 -10.976562 4.90625 -10.117188 4.90625 -9.171875 C 4.90625 -8.222656 5.003906 -7.351562 5.203125 -6.5625 C 5.410156 -5.78125 5.726562 -5.101562 6.15625 -4.53125 C 6.59375 -3.96875 7.144531 -3.523438 7.8125 -3.203125 C 8.488281 -2.890625 9.300781 -2.734375 10.25 -2.734375 Z M 10.25 -2.734375 \"/>\n",
       "</g>\n",
       "<g id=\"glyph-3-1\">\n",
       "<path d=\"M 1.84375 0 L 1.84375 -19.140625 L 5.46875 -19.140625 L 5.46875 0 Z M 1.84375 0 \"/>\n",
       "</g>\n",
       "<g id=\"glyph-3-2\">\n",
       "<path d=\"M 1.84375 -16.46875 L 1.84375 -19.140625 L 5.46875 -19.140625 L 5.46875 -16.46875 Z M 1.84375 0 L 1.84375 -13.953125 L 5.46875 -13.953125 L 5.46875 0 Z M 1.84375 0 \"/>\n",
       "</g>\n",
       "<g id=\"glyph-3-3\">\n",
       "<path d=\"M 7.65625 0.265625 C 6.550781 0.265625 5.582031 0.09375 4.75 -0.25 C 3.914062 -0.601562 3.222656 -1.09375 2.671875 -1.71875 C 2.128906 -2.34375 1.71875 -3.09375 1.4375 -3.96875 C 1.164062 -4.851562 1.03125 -5.828125 1.03125 -6.890625 C 1.03125 -8.054688 1.179688 -9.09375 1.484375 -10 C 1.785156 -10.90625 2.21875 -11.671875 2.78125 -12.296875 C 3.351562 -12.921875 4.050781 -13.394531 4.875 -13.71875 C 5.707031 -14.039062 6.648438 -14.203125 7.703125 -14.203125 C 8.609375 -14.203125 9.410156 -14.082031 10.109375 -13.84375 C 10.816406 -13.601562 11.421875 -13.273438 11.921875 -12.859375 C 12.429688 -12.441406 12.84375 -11.945312 13.15625 -11.375 C 13.46875 -10.8125 13.6875 -10.203125 13.8125 -9.546875 L 10.15625 -9.375 C 10.050781 -10.082031 9.789062 -10.648438 9.375 -11.078125 C 8.96875 -11.503906 8.390625 -11.71875 7.640625 -11.71875 C 6.660156 -11.71875 5.945312 -11.316406 5.5 -10.515625 C 5.050781 -9.722656 4.828125 -8.566406 4.828125 -7.046875 C 4.828125 -3.828125 5.78125 -2.21875 7.6875 -2.21875 C 8.375 -2.21875 8.945312 -2.429688 9.40625 -2.859375 C 9.875 -3.296875 10.164062 -3.945312 10.28125 -4.8125 L 13.90625 -4.640625 C 13.820312 -3.992188 13.628906 -3.375 13.328125 -2.78125 C 13.023438 -2.195312 12.613281 -1.675781 12.09375 -1.21875 C 11.570312 -0.769531 10.941406 -0.410156 10.203125 -0.140625 C 9.460938 0.128906 8.613281 0.265625 7.65625 0.265625 Z M 7.65625 0.265625 \"/>\n",
       "</g>\n",
       "<g id=\"glyph-3-4\">\n",
       "<path d=\"M 10.75 0 L 7.03125 -6.3125 L 5.46875 -5.234375 L 5.46875 0 L 1.84375 0 L 1.84375 -19.140625 L 5.46875 -19.140625 L 5.46875 -8.171875 L 10.4375 -13.953125 L 14.34375 -13.953125 L 9.4375 -8.515625 L 14.71875 0 Z M 10.75 0 \"/>\n",
       "</g>\n",
       "<g id=\"glyph-3-5\">\n",
       "</g>\n",
       "<g id=\"glyph-3-6\">\n",
       "<path d=\"M 14.25 0 L 10.03125 -6.890625 L 5.5625 -6.890625 L 5.5625 0 L 1.765625 0 L 1.765625 -18.171875 L 10.84375 -18.171875 C 11.976562 -18.171875 12.96875 -18.039062 13.8125 -17.78125 C 14.65625 -17.53125 15.359375 -17.171875 15.921875 -16.703125 C 16.492188 -16.234375 16.921875 -15.664062 17.203125 -15 C 17.484375 -14.332031 17.625 -13.582031 17.625 -12.75 C 17.625 -12.070312 17.519531 -11.453125 17.3125 -10.890625 C 17.113281 -10.328125 16.835938 -9.828125 16.484375 -9.390625 C 16.128906 -8.953125 15.707031 -8.582031 15.21875 -8.28125 C 14.726562 -7.988281 14.191406 -7.773438 13.609375 -7.640625 L 18.53125 0 Z M 13.796875 -12.59375 C 13.796875 -13.476562 13.503906 -14.132812 12.921875 -14.5625 C 12.347656 -15 11.519531 -15.21875 10.4375 -15.21875 L 5.5625 -15.21875 L 5.5625 -9.84375 L 10.546875 -9.84375 C 11.109375 -9.84375 11.59375 -9.910156 12 -10.046875 C 12.414062 -10.179688 12.753906 -10.367188 13.015625 -10.609375 C 13.273438 -10.859375 13.46875 -11.148438 13.59375 -11.484375 C 13.726562 -11.816406 13.796875 -12.1875 13.796875 -12.59375 Z M 13.796875 -12.59375 \"/>\n",
       "</g>\n",
       "<g id=\"glyph-3-7\">\n",
       "<path d=\"M 5.0625 0.265625 C 4.394531 0.265625 3.796875 0.171875 3.265625 -0.015625 C 2.734375 -0.203125 2.28125 -0.472656 1.90625 -0.828125 C 1.539062 -1.179688 1.257812 -1.617188 1.0625 -2.140625 C 0.875 -2.671875 0.78125 -3.273438 0.78125 -3.953125 C 0.78125 -4.773438 0.921875 -5.46875 1.203125 -6.03125 C 1.492188 -6.59375 1.890625 -7.046875 2.390625 -7.390625 C 2.890625 -7.742188 3.472656 -8 4.140625 -8.15625 C 4.804688 -8.3125 5.519531 -8.394531 6.28125 -8.40625 L 9.28125 -8.453125 L 9.28125 -9.171875 C 9.28125 -9.671875 9.234375 -10.09375 9.140625 -10.4375 C 9.054688 -10.78125 8.925781 -11.054688 8.75 -11.265625 C 8.582031 -11.484375 8.367188 -11.632812 8.109375 -11.71875 C 7.859375 -11.8125 7.570312 -11.859375 7.25 -11.859375 C 6.945312 -11.859375 6.675781 -11.828125 6.4375 -11.765625 C 6.195312 -11.710938 5.988281 -11.609375 5.8125 -11.453125 C 5.644531 -11.304688 5.507812 -11.101562 5.40625 -10.84375 C 5.300781 -10.59375 5.226562 -10.273438 5.1875 -9.890625 L 1.40625 -10.0625 C 1.507812 -10.675781 1.695312 -11.234375 1.96875 -11.734375 C 2.25 -12.242188 2.628906 -12.679688 3.109375 -13.046875 C 3.597656 -13.421875 4.195312 -13.707031 4.90625 -13.90625 C 5.613281 -14.101562 6.445312 -14.203125 7.40625 -14.203125 C 8.269531 -14.203125 9.039062 -14.09375 9.71875 -13.875 C 10.394531 -13.664062 10.96875 -13.347656 11.4375 -12.921875 C 11.914062 -12.492188 12.28125 -11.972656 12.53125 -11.359375 C 12.78125 -10.742188 12.90625 -10.023438 12.90625 -9.203125 L 12.90625 -4.125 C 12.90625 -3.800781 12.921875 -3.507812 12.953125 -3.25 C 12.984375 -2.988281 13.035156 -2.769531 13.109375 -2.59375 C 13.191406 -2.414062 13.304688 -2.28125 13.453125 -2.1875 C 13.609375 -2.101562 13.804688 -2.0625 14.046875 -2.0625 C 14.328125 -2.0625 14.597656 -2.085938 14.859375 -2.140625 L 14.859375 -0.1875 C 14.640625 -0.132812 14.441406 -0.0820312 14.265625 -0.03125 C 14.097656 0.0078125 13.925781 0.0390625 13.75 0.0625 C 13.582031 0.09375 13.398438 0.113281 13.203125 0.125 C 13.015625 0.144531 12.789062 0.15625 12.53125 0.15625 C 11.625 0.15625 10.953125 -0.0664062 10.515625 -0.515625 C 10.078125 -0.960938 9.816406 -1.617188 9.734375 -2.484375 L 9.65625 -2.484375 C 9.175781 -1.617188 8.554688 -0.941406 7.796875 -0.453125 C 7.046875 0.0234375 6.132812 0.265625 5.0625 0.265625 Z M 9.28125 -6.453125 L 7.421875 -6.4375 C 7.035156 -6.414062 6.664062 -6.378906 6.3125 -6.328125 C 5.96875 -6.285156 5.664062 -6.1875 5.40625 -6.03125 C 5.144531 -5.882812 4.9375 -5.671875 4.78125 -5.390625 C 4.625 -5.109375 4.546875 -4.722656 4.546875 -4.234375 C 4.546875 -3.566406 4.695312 -3.070312 5 -2.75 C 5.3125 -2.425781 5.722656 -2.265625 6.234375 -2.265625 C 6.691406 -2.265625 7.109375 -2.363281 7.484375 -2.5625 C 7.867188 -2.757812 8.191406 -3.019531 8.453125 -3.34375 C 8.710938 -3.664062 8.914062 -4.035156 9.0625 -4.453125 C 9.207031 -4.878906 9.28125 -5.3125 9.28125 -5.75 Z M 9.28125 -6.453125 \"/>\n",
       "</g>\n",
       "<g id=\"glyph-3-8\">\n",
       "<path d=\"M 5.421875 0.234375 C 4.347656 0.234375 3.523438 -0.0546875 2.953125 -0.640625 C 2.378906 -1.222656 2.09375 -2.101562 2.09375 -3.28125 L 2.09375 -11.5 L 0.328125 -11.5 L 0.328125 -13.953125 L 2.265625 -13.953125 L 3.40625 -17.21875 L 5.671875 -17.21875 L 5.671875 -13.953125 L 8.3125 -13.953125 L 8.3125 -11.5 L 5.671875 -11.5 L 5.671875 -4.25 C 5.671875 -3.570312 5.800781 -3.070312 6.0625 -2.75 C 6.320312 -2.425781 6.722656 -2.265625 7.265625 -2.265625 C 7.484375 -2.265625 7.679688 -2.28125 7.859375 -2.3125 C 8.046875 -2.351562 8.25 -2.398438 8.46875 -2.453125 L 8.46875 -0.203125 C 8.019531 -0.0546875 7.546875 0.0507812 7.046875 0.125 C 6.554688 0.195312 6.015625 0.234375 5.421875 0.234375 Z M 5.421875 0.234375 \"/>\n",
       "</g>\n",
       "<g id=\"glyph-3-9\">\n",
       "<path d=\"M 7.5625 0.265625 C 6.550781 0.265625 5.644531 0.117188 4.84375 -0.171875 C 4.039062 -0.472656 3.351562 -0.925781 2.78125 -1.53125 C 2.21875 -2.144531 1.785156 -2.910156 1.484375 -3.828125 C 1.179688 -4.742188 1.03125 -5.816406 1.03125 -7.046875 C 1.03125 -8.367188 1.207031 -9.484375 1.5625 -10.390625 C 1.925781 -11.304688 2.410156 -12.046875 3.015625 -12.609375 C 3.617188 -13.179688 4.316406 -13.585938 5.109375 -13.828125 C 5.898438 -14.078125 6.734375 -14.203125 7.609375 -14.203125 C 8.703125 -14.203125 9.640625 -14.007812 10.421875 -13.625 C 11.203125 -13.25 11.84375 -12.71875 12.34375 -12.03125 C 12.84375 -11.34375 13.207031 -10.519531 13.4375 -9.5625 C 13.664062 -8.601562 13.78125 -7.539062 13.78125 -6.375 L 13.78125 -6.28125 L 4.828125 -6.28125 C 4.828125 -5.695312 4.878906 -5.148438 4.984375 -4.640625 C 5.085938 -4.140625 5.253906 -3.707031 5.484375 -3.34375 C 5.722656 -2.976562 6.023438 -2.691406 6.390625 -2.484375 C 6.765625 -2.273438 7.210938 -2.171875 7.734375 -2.171875 C 8.367188 -2.171875 8.890625 -2.304688 9.296875 -2.578125 C 9.703125 -2.847656 9.988281 -3.265625 10.15625 -3.828125 L 13.578125 -3.53125 C 13.421875 -3.132812 13.203125 -2.710938 12.921875 -2.265625 C 12.640625 -1.816406 12.265625 -1.40625 11.796875 -1.03125 C 11.335938 -0.664062 10.757812 -0.359375 10.0625 -0.109375 C 9.375 0.140625 8.539062 0.265625 7.5625 0.265625 Z M 7.5625 -11.921875 C 7.1875 -11.921875 6.835938 -11.859375 6.515625 -11.734375 C 6.191406 -11.609375 5.910156 -11.410156 5.671875 -11.140625 C 5.441406 -10.867188 5.253906 -10.519531 5.109375 -10.09375 C 4.960938 -9.664062 4.878906 -9.148438 4.859375 -8.546875 L 10.28125 -8.546875 C 10.207031 -9.671875 9.929688 -10.515625 9.453125 -11.078125 C 8.984375 -11.640625 8.351562 -11.921875 7.5625 -11.921875 Z M 7.5625 -11.921875 \"/>\n",
       "</g>\n",
       "<g id=\"glyph-3-10\">\n",
       "<path d=\"M 13.609375 -4.078125 C 13.609375 -3.398438 13.46875 -2.796875 13.1875 -2.265625 C 12.90625 -1.734375 12.5 -1.28125 11.96875 -0.90625 C 11.4375 -0.53125 10.78125 -0.238281 10 -0.03125 C 9.226562 0.164062 8.347656 0.265625 7.359375 0.265625 C 6.472656 0.265625 5.671875 0.195312 4.953125 0.0625 C 4.242188 -0.0625 3.617188 -0.269531 3.078125 -0.5625 C 2.546875 -0.863281 2.097656 -1.25 1.734375 -1.71875 C 1.378906 -2.195312 1.109375 -2.785156 0.921875 -3.484375 L 4.109375 -3.953125 C 4.210938 -3.566406 4.351562 -3.253906 4.53125 -3.015625 C 4.71875 -2.773438 4.941406 -2.585938 5.203125 -2.453125 C 5.472656 -2.328125 5.785156 -2.242188 6.140625 -2.203125 C 6.492188 -2.160156 6.898438 -2.140625 7.359375 -2.140625 C 7.773438 -2.140625 8.160156 -2.160156 8.515625 -2.203125 C 8.867188 -2.253906 9.175781 -2.335938 9.4375 -2.453125 C 9.707031 -2.566406 9.914062 -2.726562 10.0625 -2.9375 C 10.207031 -3.15625 10.28125 -3.421875 10.28125 -3.734375 C 10.28125 -4.097656 10.171875 -4.382812 9.953125 -4.59375 C 9.742188 -4.800781 9.457031 -4.972656 9.09375 -5.109375 C 8.726562 -5.242188 8.296875 -5.359375 7.796875 -5.453125 C 7.304688 -5.554688 6.785156 -5.671875 6.234375 -5.796875 C 5.640625 -5.929688 5.0625 -6.085938 4.5 -6.265625 C 3.9375 -6.441406 3.429688 -6.6875 2.984375 -7 C 2.535156 -7.3125 2.171875 -7.703125 1.890625 -8.171875 C 1.617188 -8.648438 1.484375 -9.257812 1.484375 -10 C 1.484375 -10.65625 1.609375 -11.242188 1.859375 -11.765625 C 2.117188 -12.285156 2.5 -12.726562 3 -13.09375 C 3.5 -13.457031 4.113281 -13.734375 4.84375 -13.921875 C 5.582031 -14.117188 6.429688 -14.21875 7.390625 -14.21875 C 8.140625 -14.21875 8.84375 -14.144531 9.5 -14 C 10.15625 -13.863281 10.738281 -13.640625 11.25 -13.328125 C 11.769531 -13.023438 12.203125 -12.640625 12.546875 -12.171875 C 12.898438 -11.703125 13.144531 -11.128906 13.28125 -10.453125 L 10.0625 -10.125 C 10.007812 -10.457031 9.90625 -10.734375 9.75 -10.953125 C 9.59375 -11.171875 9.398438 -11.34375 9.171875 -11.46875 C 8.941406 -11.601562 8.675781 -11.691406 8.375 -11.734375 C 8.070312 -11.785156 7.742188 -11.8125 7.390625 -11.8125 C 6.523438 -11.8125 5.878906 -11.703125 5.453125 -11.484375 C 5.023438 -11.265625 4.8125 -10.894531 4.8125 -10.375 C 4.8125 -10.0625 4.898438 -9.804688 5.078125 -9.609375 C 5.253906 -9.421875 5.503906 -9.265625 5.828125 -9.140625 C 6.148438 -9.023438 6.53125 -8.921875 6.96875 -8.828125 C 7.414062 -8.734375 7.898438 -8.625 8.421875 -8.5 C 9.066406 -8.363281 9.695312 -8.203125 10.3125 -8.015625 C 10.9375 -7.828125 11.492188 -7.570312 11.984375 -7.25 C 12.472656 -6.925781 12.863281 -6.507812 13.15625 -6 C 13.457031 -5.5 13.609375 -4.859375 13.609375 -4.078125 Z M 13.609375 -4.078125 \"/>\n",
       "</g>\n",
       "<g id=\"glyph-3-11\">\n",
       "<path d=\"M 5.625 -3.28125 L 8.3125 -13.953125 L 12.203125 -13.953125 L 14.859375 -3.28125 L 17.234375 -13.953125 L 20.59375 -13.953125 L 16.921875 0 L 13.09375 0 L 10.28125 -11.375 L 7.359375 0 L 3.53125 0 L -0.078125 -13.953125 L 3.328125 -13.953125 Z M 5.625 -3.28125 \"/>\n",
       "</g>\n",
       "<g id=\"glyph-3-12\">\n",
       "<path d=\"M 5.421875 -11.171875 C 5.910156 -12.234375 6.523438 -13.003906 7.265625 -13.484375 C 8.003906 -13.960938 8.882812 -14.203125 9.90625 -14.203125 C 10.75 -14.203125 11.457031 -14.066406 12.03125 -13.796875 C 12.613281 -13.523438 13.085938 -13.144531 13.453125 -12.65625 C 13.816406 -12.175781 14.082031 -11.609375 14.25 -10.953125 C 14.414062 -10.304688 14.5 -9.601562 14.5 -8.84375 L 14.5 0 L 10.875 0 L 10.875 -7.8125 C 10.875 -8.351562 10.832031 -8.847656 10.75 -9.296875 C 10.664062 -9.753906 10.523438 -10.144531 10.328125 -10.46875 C 10.128906 -10.789062 9.867188 -11.039062 9.546875 -11.21875 C 9.234375 -11.394531 8.847656 -11.484375 8.390625 -11.484375 C 7.953125 -11.484375 7.554688 -11.382812 7.203125 -11.1875 C 6.847656 -11 6.539062 -10.726562 6.28125 -10.375 C 6.019531 -10.019531 5.816406 -9.59375 5.671875 -9.09375 C 5.535156 -8.601562 5.46875 -8.0625 5.46875 -7.46875 L 5.46875 0 L 1.84375 0 L 1.84375 -19.140625 L 5.46875 -19.140625 L 5.46875 -13.90625 C 5.46875 -13.632812 5.460938 -13.359375 5.453125 -13.078125 C 5.441406 -12.796875 5.429688 -12.53125 5.421875 -12.28125 C 5.410156 -12.039062 5.398438 -11.820312 5.390625 -11.625 C 5.378906 -11.425781 5.367188 -11.273438 5.359375 -11.171875 Z M 5.421875 -11.171875 \"/>\n",
       "</g>\n",
       "<g id=\"glyph-3-13\">\n",
       "<path d=\"M 13.703125 -9.375 C 13.703125 -6.144531 13.113281 -3.726562 11.9375 -2.125 C 10.757812 -0.53125 9.085938 0.265625 6.921875 0.265625 C 6.140625 0.265625 5.4375 0.179688 4.8125 0.015625 C 4.1875 -0.148438 3.640625 -0.40625 3.171875 -0.75 C 2.710938 -1.09375 2.320312 -1.535156 2 -2.078125 C 1.675781 -2.617188 1.421875 -3.265625 1.234375 -4.015625 L 4.640625 -4.484375 C 4.816406 -3.835938 5.097656 -3.359375 5.484375 -3.046875 C 5.878906 -2.742188 6.375 -2.59375 6.96875 -2.59375 C 7.457031 -2.59375 7.894531 -2.707031 8.28125 -2.9375 C 8.664062 -3.164062 8.992188 -3.515625 9.265625 -3.984375 C 9.546875 -4.460938 9.757812 -5.066406 9.90625 -5.796875 C 10.0625 -6.523438 10.140625 -7.382812 10.140625 -8.375 C 9.972656 -8.03125 9.742188 -7.726562 9.453125 -7.46875 C 9.171875 -7.21875 8.851562 -7.003906 8.5 -6.828125 C 8.144531 -6.660156 7.765625 -6.53125 7.359375 -6.4375 C 6.953125 -6.351562 6.546875 -6.3125 6.140625 -6.3125 C 5.347656 -6.3125 4.628906 -6.445312 3.984375 -6.71875 C 3.335938 -7 2.785156 -7.398438 2.328125 -7.921875 C 1.878906 -8.453125 1.53125 -9.085938 1.28125 -9.828125 C 1.039062 -10.578125 0.921875 -11.421875 0.921875 -12.359375 C 0.921875 -13.316406 1.0625 -14.171875 1.34375 -14.921875 C 1.632812 -15.679688 2.050781 -16.320312 2.59375 -16.84375 C 3.132812 -17.363281 3.796875 -17.757812 4.578125 -18.03125 C 5.367188 -18.300781 6.265625 -18.4375 7.265625 -18.4375 C 8.304688 -18.4375 9.226562 -18.257812 10.03125 -17.90625 C 10.84375 -17.550781 11.519531 -17 12.0625 -16.25 C 12.601562 -15.507812 13.007812 -14.566406 13.28125 -13.421875 C 13.5625 -12.285156 13.703125 -10.9375 13.703125 -9.375 Z M 9.875 -11.90625 C 9.875 -12.425781 9.816406 -12.910156 9.703125 -13.359375 C 9.585938 -13.816406 9.410156 -14.207031 9.171875 -14.53125 C 8.941406 -14.863281 8.660156 -15.125 8.328125 -15.3125 C 7.992188 -15.5 7.609375 -15.59375 7.171875 -15.59375 C 6.765625 -15.59375 6.398438 -15.519531 6.078125 -15.375 C 5.765625 -15.226562 5.492188 -15.007812 5.265625 -14.71875 C 5.046875 -14.4375 4.878906 -14.09375 4.765625 -13.6875 C 4.648438 -13.289062 4.59375 -12.835938 4.59375 -12.328125 C 4.59375 -11.859375 4.644531 -11.414062 4.75 -11 C 4.863281 -10.59375 5.023438 -10.238281 5.234375 -9.9375 C 5.453125 -9.644531 5.722656 -9.414062 6.046875 -9.25 C 6.378906 -9.082031 6.757812 -9 7.1875 -9 C 7.519531 -9 7.847656 -9.054688 8.171875 -9.171875 C 8.492188 -9.296875 8.78125 -9.476562 9.03125 -9.71875 C 9.28125 -9.957031 9.484375 -10.257812 9.640625 -10.625 C 9.796875 -10.988281 9.875 -11.414062 9.875 -11.90625 Z M 9.875 -11.90625 \"/>\n",
       "</g>\n",
       "<g id=\"glyph-3-14\">\n",
       "<path d=\"M 13.953125 -6.046875 C 13.953125 -5.140625 13.804688 -4.300781 13.515625 -3.53125 C 13.234375 -2.757812 12.804688 -2.09375 12.234375 -1.53125 C 11.671875 -0.96875 10.96875 -0.523438 10.125 -0.203125 C 9.289062 0.109375 8.320312 0.265625 7.21875 0.265625 C 6.207031 0.265625 5.320312 0.140625 4.5625 -0.109375 C 3.8125 -0.359375 3.175781 -0.695312 2.65625 -1.125 C 2.132812 -1.5625 1.722656 -2.070312 1.421875 -2.65625 C 1.128906 -3.238281 0.925781 -3.863281 0.8125 -4.53125 L 4.4375 -4.828125 C 4.5 -4.546875 4.59375 -4.269531 4.71875 -4 C 4.84375 -3.738281 5.015625 -3.503906 5.234375 -3.296875 C 5.460938 -3.085938 5.738281 -2.921875 6.0625 -2.796875 C 6.394531 -2.679688 6.796875 -2.625 7.265625 -2.625 C 8.160156 -2.625 8.875 -2.910156 9.40625 -3.484375 C 9.945312 -4.054688 10.21875 -4.882812 10.21875 -5.96875 C 10.21875 -6.445312 10.148438 -6.878906 10.015625 -7.265625 C 9.890625 -7.660156 9.703125 -7.992188 9.453125 -8.265625 C 9.210938 -8.535156 8.910156 -8.742188 8.546875 -8.890625 C 8.191406 -9.035156 7.789062 -9.109375 7.34375 -9.109375 C 6.738281 -9.109375 6.242188 -8.992188 5.859375 -8.765625 C 5.472656 -8.546875 5.144531 -8.269531 4.875 -7.9375 L 1.34375 -7.9375 L 1.96875 -18.171875 L 12.890625 -18.171875 L 12.890625 -15.46875 L 5.265625 -15.46875 L 4.96875 -10.875 C 5.320312 -11.195312 5.773438 -11.472656 6.328125 -11.703125 C 6.878906 -11.929688 7.519531 -12.046875 8.25 -12.046875 C 9.144531 -12.046875 9.941406 -11.898438 10.640625 -11.609375 C 11.347656 -11.316406 11.945312 -10.90625 12.4375 -10.375 C 12.925781 -9.851562 13.300781 -9.222656 13.5625 -8.484375 C 13.820312 -7.753906 13.953125 -6.941406 13.953125 -6.046875 Z M 13.953125 -6.046875 \"/>\n",
       "</g>\n",
       "<g id=\"glyph-3-15\">\n",
       "<path d=\"M 22.78125 -5.5625 C 22.78125 -4.488281 22.660156 -3.582031 22.421875 -2.84375 C 22.179688 -2.101562 21.851562 -1.507812 21.4375 -1.0625 C 21.03125 -0.613281 20.546875 -0.289062 19.984375 -0.09375 C 19.429688 0.101562 18.84375 0.203125 18.21875 0.203125 C 17.570312 0.203125 16.972656 0.101562 16.421875 -0.09375 C 15.867188 -0.289062 15.382812 -0.613281 14.96875 -1.0625 C 14.5625 -1.507812 14.238281 -2.101562 14 -2.84375 C 13.769531 -3.582031 13.65625 -4.488281 13.65625 -5.5625 C 13.65625 -6.695312 13.769531 -7.632812 14 -8.375 C 14.238281 -9.125 14.5625 -9.71875 14.96875 -10.15625 C 15.382812 -10.601562 15.875 -10.914062 16.4375 -11.09375 C 17.007812 -11.269531 17.617188 -11.359375 18.265625 -11.359375 C 18.890625 -11.359375 19.472656 -11.269531 20.015625 -11.09375 C 20.566406 -10.914062 21.046875 -10.601562 21.453125 -10.15625 C 21.867188 -9.71875 22.191406 -9.125 22.421875 -8.375 C 22.660156 -7.632812 22.78125 -6.695312 22.78125 -5.5625 Z M 7.125 0 L 4.46875 0 L 16.328125 -18.171875 L 19.015625 -18.171875 Z M 5.265625 -18.375 C 5.878906 -18.375 6.460938 -18.285156 7.015625 -18.109375 C 7.566406 -17.929688 8.046875 -17.625 8.453125 -17.1875 C 8.867188 -16.75 9.195312 -16.15625 9.4375 -15.40625 C 9.675781 -14.664062 9.796875 -13.726562 9.796875 -12.59375 C 9.796875 -11.519531 9.675781 -10.613281 9.4375 -9.875 C 9.195312 -9.132812 8.867188 -8.535156 8.453125 -8.078125 C 8.035156 -7.628906 7.546875 -7.304688 6.984375 -7.109375 C 6.429688 -6.910156 5.835938 -6.8125 5.203125 -6.8125 C 4.566406 -6.8125 3.972656 -6.910156 3.421875 -7.109375 C 2.867188 -7.304688 2.382812 -7.628906 1.96875 -8.078125 C 1.5625 -8.523438 1.238281 -9.117188 1 -9.859375 C 0.769531 -10.597656 0.65625 -11.507812 0.65625 -12.59375 C 0.65625 -13.726562 0.769531 -14.664062 1 -15.40625 C 1.238281 -16.15625 1.5625 -16.75 1.96875 -17.1875 C 2.382812 -17.625 2.875 -17.929688 3.4375 -18.109375 C 4 -18.285156 4.609375 -18.375 5.265625 -18.375 Z M 20.015625 -5.5625 C 20.015625 -6.3125 19.976562 -6.929688 19.90625 -7.421875 C 19.832031 -7.910156 19.722656 -8.300781 19.578125 -8.59375 C 19.429688 -8.882812 19.25 -9.085938 19.03125 -9.203125 C 18.8125 -9.316406 18.554688 -9.375 18.265625 -9.375 C 17.953125 -9.375 17.679688 -9.316406 17.453125 -9.203125 C 17.222656 -9.085938 17.035156 -8.882812 16.890625 -8.59375 C 16.742188 -8.300781 16.632812 -7.90625 16.5625 -7.40625 C 16.488281 -6.914062 16.453125 -6.300781 16.453125 -5.5625 C 16.453125 -4.84375 16.484375 -4.242188 16.546875 -3.765625 C 16.617188 -3.296875 16.726562 -2.910156 16.875 -2.609375 C 17.03125 -2.316406 17.21875 -2.109375 17.4375 -1.984375 C 17.664062 -1.867188 17.9375 -1.8125 18.25 -1.8125 C 18.53125 -1.8125 18.78125 -1.867188 19 -1.984375 C 19.21875 -2.109375 19.398438 -2.316406 19.546875 -2.609375 C 19.703125 -2.898438 19.816406 -3.285156 19.890625 -3.765625 C 19.972656 -4.242188 20.015625 -4.84375 20.015625 -5.5625 Z M 7 -12.59375 C 7 -13.332031 6.960938 -13.941406 6.890625 -14.421875 C 6.816406 -14.910156 6.707031 -15.300781 6.5625 -15.59375 C 6.414062 -15.882812 6.234375 -16.085938 6.015625 -16.203125 C 5.804688 -16.316406 5.554688 -16.375 5.265625 -16.375 C 4.941406 -16.375 4.664062 -16.3125 4.4375 -16.1875 C 4.207031 -16.070312 4.019531 -15.867188 3.875 -15.578125 C 3.726562 -15.296875 3.617188 -14.910156 3.546875 -14.421875 C 3.472656 -13.929688 3.4375 -13.320312 3.4375 -12.59375 C 3.4375 -11.875 3.472656 -11.269531 3.546875 -10.78125 C 3.617188 -10.300781 3.726562 -9.914062 3.875 -9.625 C 4.019531 -9.332031 4.203125 -9.125 4.421875 -9 C 4.648438 -8.875 4.921875 -8.8125 5.234375 -8.8125 C 5.523438 -8.8125 5.78125 -8.875 6 -9 C 6.21875 -9.125 6.398438 -9.332031 6.546875 -9.625 C 6.703125 -9.914062 6.816406 -10.300781 6.890625 -10.78125 C 6.960938 -11.269531 7 -11.875 7 -12.59375 Z M 7 -12.59375 \"/>\n",
       "</g>\n",
       "<g id=\"glyph-3-16\">\n",
       "<path d=\"M 1.765625 0 L 1.765625 -18.171875 L 5.5625 -18.171875 L 5.5625 0 Z M 1.765625 0 \"/>\n",
       "</g>\n",
       "</g>\n",
       "<clipPath id=\"clip-0\">\n",
       "<path clip-rule=\"nonzero\" d=\"M 69.152344 34.957031 L 498.523438 34.957031 L 498.523438 452.847656 L 69.152344 452.847656 Z M 69.152344 34.957031 \"/>\n",
       "</clipPath>\n",
       "<clipPath id=\"clip-1\">\n",
       "<path clip-rule=\"nonzero\" d=\"M 69.152344 358 L 498.523438 358 L 498.523438 359 L 69.152344 359 Z M 69.152344 358 \"/>\n",
       "</clipPath>\n",
       "<clipPath id=\"clip-2\">\n",
       "<path clip-rule=\"nonzero\" d=\"M 69.152344 255 L 498.523438 255 L 498.523438 256 L 69.152344 256 Z M 69.152344 255 \"/>\n",
       "</clipPath>\n",
       "<clipPath id=\"clip-3\">\n",
       "<path clip-rule=\"nonzero\" d=\"M 69.152344 152 L 498.523438 152 L 498.523438 153 L 69.152344 153 Z M 69.152344 152 \"/>\n",
       "</clipPath>\n",
       "<clipPath id=\"clip-4\">\n",
       "<path clip-rule=\"nonzero\" d=\"M 69.152344 49 L 498.523438 49 L 498.523438 50 L 69.152344 50 Z M 69.152344 49 \"/>\n",
       "</clipPath>\n",
       "<clipPath id=\"clip-5\">\n",
       "<path clip-rule=\"nonzero\" d=\"M 69.152344 409 L 498.523438 409 L 498.523438 411 L 69.152344 411 Z M 69.152344 409 \"/>\n",
       "</clipPath>\n",
       "<clipPath id=\"clip-6\">\n",
       "<path clip-rule=\"nonzero\" d=\"M 69.152344 306 L 498.523438 306 L 498.523438 308 L 69.152344 308 Z M 69.152344 306 \"/>\n",
       "</clipPath>\n",
       "<clipPath id=\"clip-7\">\n",
       "<path clip-rule=\"nonzero\" d=\"M 69.152344 203 L 498.523438 203 L 498.523438 205 L 69.152344 205 Z M 69.152344 203 \"/>\n",
       "</clipPath>\n",
       "<clipPath id=\"clip-8\">\n",
       "<path clip-rule=\"nonzero\" d=\"M 69.152344 100 L 498.523438 100 L 498.523438 102 L 69.152344 102 Z M 69.152344 100 \"/>\n",
       "</clipPath>\n",
       "<clipPath id=\"clip-9\">\n",
       "<path clip-rule=\"nonzero\" d=\"M 118 34.957031 L 120 34.957031 L 120 452.847656 L 118 452.847656 Z M 118 34.957031 \"/>\n",
       "</clipPath>\n",
       "<clipPath id=\"clip-10\">\n",
       "<path clip-rule=\"nonzero\" d=\"M 200 34.957031 L 202 34.957031 L 202 452.847656 L 200 452.847656 Z M 200 34.957031 \"/>\n",
       "</clipPath>\n",
       "<clipPath id=\"clip-11\">\n",
       "<path clip-rule=\"nonzero\" d=\"M 283 34.957031 L 285 34.957031 L 285 452.847656 L 283 452.847656 Z M 283 34.957031 \"/>\n",
       "</clipPath>\n",
       "<clipPath id=\"clip-12\">\n",
       "<path clip-rule=\"nonzero\" d=\"M 365 34.957031 L 367 34.957031 L 367 452.847656 L 365 452.847656 Z M 365 34.957031 \"/>\n",
       "</clipPath>\n",
       "<clipPath id=\"clip-13\">\n",
       "<path clip-rule=\"nonzero\" d=\"M 448 34.957031 L 450 34.957031 L 450 452.847656 L 448 452.847656 Z M 448 34.957031 \"/>\n",
       "</clipPath>\n",
       "</defs>\n",
       "<rect x=\"-50.4\" y=\"-50.4\" width=\"604.8\" height=\"604.8\" fill=\"rgb(100%, 100%, 100%)\" fill-opacity=\"1\"/>\n",
       "<rect x=\"-50.4\" y=\"-50.4\" width=\"604.8\" height=\"604.8\" fill=\"rgb(100%, 100%, 100%)\" fill-opacity=\"1\"/>\n",
       "<path fill=\"none\" stroke-width=\"1.066978\" stroke-linecap=\"round\" stroke-linejoin=\"round\" stroke=\"rgb(100%, 100%, 100%)\" stroke-opacity=\"1\" stroke-miterlimit=\"10\" d=\"M 0 504 L 504 504 L 504 0 L 0 0 Z M 0 504 \"/>\n",
       "<g clip-path=\"url(#clip-0)\">\n",
       "<path fill-rule=\"nonzero\" fill=\"rgb(92.156863%, 92.156863%, 92.156863%)\" fill-opacity=\"1\" d=\"M 69.152344 452.847656 L 498.523438 452.847656 L 498.523438 34.957031 L 69.152344 34.957031 Z M 69.152344 452.847656 \"/>\n",
       "</g>\n",
       "<g clip-path=\"url(#clip-1)\">\n",
       "<path fill=\"none\" stroke-width=\"0.533489\" stroke-linecap=\"butt\" stroke-linejoin=\"round\" stroke=\"rgb(100%, 100%, 100%)\" stroke-opacity=\"1\" stroke-miterlimit=\"10\" d=\"M 69.152344 358.65625 L 498.519531 358.65625 \"/>\n",
       "</g>\n",
       "<g clip-path=\"url(#clip-2)\">\n",
       "<path fill=\"none\" stroke-width=\"0.533489\" stroke-linecap=\"butt\" stroke-linejoin=\"round\" stroke=\"rgb(100%, 100%, 100%)\" stroke-opacity=\"1\" stroke-miterlimit=\"10\" d=\"M 69.152344 255.671875 L 498.519531 255.671875 \"/>\n",
       "</g>\n",
       "<g clip-path=\"url(#clip-3)\">\n",
       "<path fill=\"none\" stroke-width=\"0.533489\" stroke-linecap=\"butt\" stroke-linejoin=\"round\" stroke=\"rgb(100%, 100%, 100%)\" stroke-opacity=\"1\" stroke-miterlimit=\"10\" d=\"M 69.152344 152.683594 L 498.519531 152.683594 \"/>\n",
       "</g>\n",
       "<g clip-path=\"url(#clip-4)\">\n",
       "<path fill=\"none\" stroke-width=\"0.533489\" stroke-linecap=\"butt\" stroke-linejoin=\"round\" stroke=\"rgb(100%, 100%, 100%)\" stroke-opacity=\"1\" stroke-miterlimit=\"10\" d=\"M 69.152344 49.699219 L 498.519531 49.699219 \"/>\n",
       "</g>\n",
       "<g clip-path=\"url(#clip-5)\">\n",
       "<path fill=\"none\" stroke-width=\"1.066978\" stroke-linecap=\"butt\" stroke-linejoin=\"round\" stroke=\"rgb(100%, 100%, 100%)\" stroke-opacity=\"1\" stroke-miterlimit=\"10\" d=\"M 69.152344 410.148438 L 498.519531 410.148438 \"/>\n",
       "</g>\n",
       "<g clip-path=\"url(#clip-6)\">\n",
       "<path fill=\"none\" stroke-width=\"1.066978\" stroke-linecap=\"butt\" stroke-linejoin=\"round\" stroke=\"rgb(100%, 100%, 100%)\" stroke-opacity=\"1\" stroke-miterlimit=\"10\" d=\"M 69.152344 307.164062 L 498.519531 307.164062 \"/>\n",
       "</g>\n",
       "<g clip-path=\"url(#clip-7)\">\n",
       "<path fill=\"none\" stroke-width=\"1.066978\" stroke-linecap=\"butt\" stroke-linejoin=\"round\" stroke=\"rgb(100%, 100%, 100%)\" stroke-opacity=\"1\" stroke-miterlimit=\"10\" d=\"M 69.152344 204.175781 L 498.519531 204.175781 \"/>\n",
       "</g>\n",
       "<g clip-path=\"url(#clip-8)\">\n",
       "<path fill=\"none\" stroke-width=\"1.066978\" stroke-linecap=\"butt\" stroke-linejoin=\"round\" stroke=\"rgb(100%, 100%, 100%)\" stroke-opacity=\"1\" stroke-miterlimit=\"10\" d=\"M 69.152344 101.191406 L 498.519531 101.191406 \"/>\n",
       "</g>\n",
       "<g clip-path=\"url(#clip-9)\">\n",
       "<path fill=\"none\" stroke-width=\"1.066978\" stroke-linecap=\"butt\" stroke-linejoin=\"round\" stroke=\"rgb(100%, 100%, 100%)\" stroke-opacity=\"1\" stroke-miterlimit=\"10\" d=\"M 118.695312 452.847656 L 118.695312 34.957031 \"/>\n",
       "</g>\n",
       "<g clip-path=\"url(#clip-10)\">\n",
       "<path fill=\"none\" stroke-width=\"1.066978\" stroke-linecap=\"butt\" stroke-linejoin=\"round\" stroke=\"rgb(100%, 100%, 100%)\" stroke-opacity=\"1\" stroke-miterlimit=\"10\" d=\"M 201.265625 452.847656 L 201.265625 34.957031 \"/>\n",
       "</g>\n",
       "<g clip-path=\"url(#clip-11)\">\n",
       "<path fill=\"none\" stroke-width=\"1.066978\" stroke-linecap=\"butt\" stroke-linejoin=\"round\" stroke=\"rgb(100%, 100%, 100%)\" stroke-opacity=\"1\" stroke-miterlimit=\"10\" d=\"M 283.835938 452.847656 L 283.835938 34.957031 \"/>\n",
       "</g>\n",
       "<g clip-path=\"url(#clip-12)\">\n",
       "<path fill=\"none\" stroke-width=\"1.066978\" stroke-linecap=\"butt\" stroke-linejoin=\"round\" stroke=\"rgb(100%, 100%, 100%)\" stroke-opacity=\"1\" stroke-miterlimit=\"10\" d=\"M 366.40625 452.847656 L 366.40625 34.957031 \"/>\n",
       "</g>\n",
       "<g clip-path=\"url(#clip-13)\">\n",
       "<path fill=\"none\" stroke-width=\"1.066978\" stroke-linecap=\"butt\" stroke-linejoin=\"round\" stroke=\"rgb(100%, 100%, 100%)\" stroke-opacity=\"1\" stroke-miterlimit=\"10\" d=\"M 448.976562 452.847656 L 448.976562 34.957031 \"/>\n",
       "</g>\n",
       "<path fill-rule=\"nonzero\" fill=\"rgb(0%, 0%, 0%)\" fill-opacity=\"1\" stroke-width=\"0.708661\" stroke-linecap=\"round\" stroke-linejoin=\"round\" stroke=\"rgb(0%, 0%, 0%)\" stroke-opacity=\"1\" stroke-miterlimit=\"10\" d=\"M 368.363281 334.621094 C 368.363281 337.226562 364.453125 337.226562 364.453125 334.621094 C 364.453125 332.015625 368.363281 332.015625 368.363281 334.621094 \"/>\n",
       "<path fill-rule=\"nonzero\" fill=\"rgb(0%, 0%, 0%)\" fill-opacity=\"1\" stroke-width=\"0.708661\" stroke-linecap=\"round\" stroke-linejoin=\"round\" stroke=\"rgb(0%, 0%, 0%)\" stroke-opacity=\"1\" stroke-miterlimit=\"10\" d=\"M 120.648438 150.21875 C 120.648438 152.824219 116.738281 152.824219 116.738281 150.21875 C 116.738281 147.613281 120.648438 147.613281 120.648438 150.21875 \"/>\n",
       "<path fill-rule=\"nonzero\" fill=\"rgb(0%, 0%, 0%)\" fill-opacity=\"1\" stroke-width=\"0.708661\" stroke-linecap=\"round\" stroke-linejoin=\"round\" stroke=\"rgb(0%, 0%, 0%)\" stroke-opacity=\"1\" stroke-miterlimit=\"10\" d=\"M 450.933594 375.296875 C 450.933594 377.902344 447.023438 377.902344 447.023438 375.296875 C 447.023438 372.691406 450.933594 372.691406 450.933594 375.296875 \"/>\n",
       "<path fill-rule=\"nonzero\" fill=\"rgb(0%, 0%, 0%)\" fill-opacity=\"1\" stroke-width=\"0.708661\" stroke-linecap=\"round\" stroke-linejoin=\"round\" stroke=\"rgb(0%, 0%, 0%)\" stroke-opacity=\"1\" stroke-miterlimit=\"10\" d=\"M 285.789062 267.777344 C 285.789062 270.382812 281.878906 270.382812 281.878906 267.777344 C 281.878906 265.171875 285.789062 265.171875 285.789062 267.777344 \"/>\n",
       "<path fill-rule=\"nonzero\" fill=\"rgb(0%, 0%, 0%)\" fill-opacity=\"1\" stroke-width=\"0.708661\" stroke-linecap=\"round\" stroke-linejoin=\"round\" stroke=\"rgb(0%, 0%, 0%)\" stroke-opacity=\"1\" stroke-miterlimit=\"10\" d=\"M 203.21875 156.371094 C 203.21875 158.976562 199.308594 158.976562 199.308594 156.371094 C 199.308594 153.765625 203.21875 153.765625 203.21875 156.371094 \"/>\n",
       "<path fill=\"none\" stroke-width=\"1.066978\" stroke-linecap=\"butt\" stroke-linejoin=\"round\" stroke=\"rgb(0%, 0%, 0%)\" stroke-opacity=\"1\" stroke-miterlimit=\"10\" d=\"M 362.277344 281.101562 L 370.535156 281.101562 \"/>\n",
       "<path fill=\"none\" stroke-width=\"1.066978\" stroke-linecap=\"butt\" stroke-linejoin=\"round\" stroke=\"rgb(0%, 0%, 0%)\" stroke-opacity=\"1\" stroke-miterlimit=\"10\" d=\"M 366.40625 281.101562 L 366.40625 388.140625 \"/>\n",
       "<path fill=\"none\" stroke-width=\"1.066978\" stroke-linecap=\"butt\" stroke-linejoin=\"round\" stroke=\"rgb(0%, 0%, 0%)\" stroke-opacity=\"1\" stroke-miterlimit=\"10\" d=\"M 362.277344 388.140625 L 370.535156 388.140625 \"/>\n",
       "<path fill=\"none\" stroke-width=\"1.066978\" stroke-linecap=\"butt\" stroke-linejoin=\"round\" stroke=\"rgb(0%, 0%, 0%)\" stroke-opacity=\"1\" stroke-miterlimit=\"10\" d=\"M 114.566406 54.25 L 122.820312 54.25 \"/>\n",
       "<path fill=\"none\" stroke-width=\"1.066978\" stroke-linecap=\"butt\" stroke-linejoin=\"round\" stroke=\"rgb(0%, 0%, 0%)\" stroke-opacity=\"1\" stroke-miterlimit=\"10\" d=\"M 118.695312 54.25 L 118.695312 246.1875 \"/>\n",
       "<path fill=\"none\" stroke-width=\"1.066978\" stroke-linecap=\"butt\" stroke-linejoin=\"round\" stroke=\"rgb(0%, 0%, 0%)\" stroke-opacity=\"1\" stroke-miterlimit=\"10\" d=\"M 114.566406 246.1875 L 122.820312 246.1875 \"/>\n",
       "<path fill=\"none\" stroke-width=\"1.066978\" stroke-linecap=\"butt\" stroke-linejoin=\"round\" stroke=\"rgb(0%, 0%, 0%)\" stroke-opacity=\"1\" stroke-miterlimit=\"10\" d=\"M 444.847656 316.738281 L 453.105469 316.738281 \"/>\n",
       "<path fill=\"none\" stroke-width=\"1.066978\" stroke-linecap=\"butt\" stroke-linejoin=\"round\" stroke=\"rgb(0%, 0%, 0%)\" stroke-opacity=\"1\" stroke-miterlimit=\"10\" d=\"M 448.976562 316.738281 L 448.976562 433.855469 \"/>\n",
       "<path fill=\"none\" stroke-width=\"1.066978\" stroke-linecap=\"butt\" stroke-linejoin=\"round\" stroke=\"rgb(0%, 0%, 0%)\" stroke-opacity=\"1\" stroke-miterlimit=\"10\" d=\"M 444.847656 433.855469 L 453.105469 433.855469 \"/>\n",
       "<path fill=\"none\" stroke-width=\"1.066978\" stroke-linecap=\"butt\" stroke-linejoin=\"round\" stroke=\"rgb(0%, 0%, 0%)\" stroke-opacity=\"1\" stroke-miterlimit=\"10\" d=\"M 279.707031 190.699219 L 287.964844 190.699219 \"/>\n",
       "<path fill=\"none\" stroke-width=\"1.066978\" stroke-linecap=\"butt\" stroke-linejoin=\"round\" stroke=\"rgb(0%, 0%, 0%)\" stroke-opacity=\"1\" stroke-miterlimit=\"10\" d=\"M 283.835938 190.699219 L 283.835938 344.851562 \"/>\n",
       "<path fill=\"none\" stroke-width=\"1.066978\" stroke-linecap=\"butt\" stroke-linejoin=\"round\" stroke=\"rgb(0%, 0%, 0%)\" stroke-opacity=\"1\" stroke-miterlimit=\"10\" d=\"M 279.707031 344.851562 L 287.964844 344.851562 \"/>\n",
       "<path fill=\"none\" stroke-width=\"1.066978\" stroke-linecap=\"butt\" stroke-linejoin=\"round\" stroke=\"rgb(0%, 0%, 0%)\" stroke-opacity=\"1\" stroke-miterlimit=\"10\" d=\"M 197.136719 53.953125 L 205.394531 53.953125 \"/>\n",
       "<path fill=\"none\" stroke-width=\"1.066978\" stroke-linecap=\"butt\" stroke-linejoin=\"round\" stroke=\"rgb(0%, 0%, 0%)\" stroke-opacity=\"1\" stroke-miterlimit=\"10\" d=\"M 201.265625 53.953125 L 201.265625 258.785156 \"/>\n",
       "<path fill=\"none\" stroke-width=\"1.066978\" stroke-linecap=\"butt\" stroke-linejoin=\"round\" stroke=\"rgb(0%, 0%, 0%)\" stroke-opacity=\"1\" stroke-miterlimit=\"10\" d=\"M 197.136719 258.785156 L 205.394531 258.785156 \"/>\n",
       "<g fill=\"rgb(30.196078%, 30.196078%, 30.196078%)\" fill-opacity=\"1\">\n",
       "<use xlink:href=\"#glyph-0-0\" x=\"29.21875\" y=\"416.580078\"/>\n",
       "<use xlink:href=\"#glyph-0-1\" x=\"39.21875\" y=\"416.580078\"/>\n",
       "<use xlink:href=\"#glyph-0-0\" x=\"44.21875\" y=\"416.580078\"/>\n",
       "<use xlink:href=\"#glyph-0-2\" x=\"54.21875\" y=\"416.580078\"/>\n",
       "</g>\n",
       "<g fill=\"rgb(30.196078%, 30.196078%, 30.196078%)\" fill-opacity=\"1\">\n",
       "<use xlink:href=\"#glyph-0-0\" x=\"29.21875\" y=\"313.595703\"/>\n",
       "<use xlink:href=\"#glyph-0-1\" x=\"39.21875\" y=\"313.595703\"/>\n",
       "<use xlink:href=\"#glyph-0-0\" x=\"44.21875\" y=\"313.595703\"/>\n",
       "<use xlink:href=\"#glyph-0-3\" x=\"54.21875\" y=\"313.595703\"/>\n",
       "</g>\n",
       "<g fill=\"rgb(30.196078%, 30.196078%, 30.196078%)\" fill-opacity=\"1\">\n",
       "<use xlink:href=\"#glyph-0-0\" x=\"29.21875\" y=\"210.607422\"/>\n",
       "<use xlink:href=\"#glyph-0-1\" x=\"39.21875\" y=\"210.607422\"/>\n",
       "<use xlink:href=\"#glyph-0-0\" x=\"44.21875\" y=\"210.607422\"/>\n",
       "<use xlink:href=\"#glyph-0-4\" x=\"54.21875\" y=\"210.607422\"/>\n",
       "</g>\n",
       "<g fill=\"rgb(30.196078%, 30.196078%, 30.196078%)\" fill-opacity=\"1\">\n",
       "<use xlink:href=\"#glyph-0-0\" x=\"29.21875\" y=\"107.623047\"/>\n",
       "<use xlink:href=\"#glyph-0-1\" x=\"39.21875\" y=\"107.623047\"/>\n",
       "<use xlink:href=\"#glyph-0-0\" x=\"44.21875\" y=\"107.623047\"/>\n",
       "<use xlink:href=\"#glyph-0-5\" x=\"54.21875\" y=\"107.623047\"/>\n",
       "</g>\n",
       "<path fill=\"none\" stroke-width=\"1.066978\" stroke-linecap=\"butt\" stroke-linejoin=\"round\" stroke=\"rgb(20%, 20%, 20%)\" stroke-opacity=\"1\" stroke-miterlimit=\"10\" d=\"M 66.410156 410.148438 L 69.152344 410.148438 \"/>\n",
       "<path fill=\"none\" stroke-width=\"1.066978\" stroke-linecap=\"butt\" stroke-linejoin=\"round\" stroke=\"rgb(20%, 20%, 20%)\" stroke-opacity=\"1\" stroke-miterlimit=\"10\" d=\"M 66.410156 307.164062 L 69.152344 307.164062 \"/>\n",
       "<path fill=\"none\" stroke-width=\"1.066978\" stroke-linecap=\"butt\" stroke-linejoin=\"round\" stroke=\"rgb(20%, 20%, 20%)\" stroke-opacity=\"1\" stroke-miterlimit=\"10\" d=\"M 66.410156 204.175781 L 69.152344 204.175781 \"/>\n",
       "<path fill=\"none\" stroke-width=\"1.066978\" stroke-linecap=\"butt\" stroke-linejoin=\"round\" stroke=\"rgb(20%, 20%, 20%)\" stroke-opacity=\"1\" stroke-miterlimit=\"10\" d=\"M 66.410156 101.191406 L 69.152344 101.191406 \"/>\n",
       "<path fill=\"none\" stroke-width=\"1.066978\" stroke-linecap=\"butt\" stroke-linejoin=\"round\" stroke=\"rgb(20%, 20%, 20%)\" stroke-opacity=\"1\" stroke-miterlimit=\"10\" d=\"M 118.695312 455.589844 L 118.695312 452.847656 \"/>\n",
       "<path fill=\"none\" stroke-width=\"1.066978\" stroke-linecap=\"butt\" stroke-linejoin=\"round\" stroke=\"rgb(20%, 20%, 20%)\" stroke-opacity=\"1\" stroke-miterlimit=\"10\" d=\"M 201.265625 455.589844 L 201.265625 452.847656 \"/>\n",
       "<path fill=\"none\" stroke-width=\"1.066978\" stroke-linecap=\"butt\" stroke-linejoin=\"round\" stroke=\"rgb(20%, 20%, 20%)\" stroke-opacity=\"1\" stroke-miterlimit=\"10\" d=\"M 283.835938 455.589844 L 283.835938 452.847656 \"/>\n",
       "<path fill=\"none\" stroke-width=\"1.066978\" stroke-linecap=\"butt\" stroke-linejoin=\"round\" stroke=\"rgb(20%, 20%, 20%)\" stroke-opacity=\"1\" stroke-miterlimit=\"10\" d=\"M 366.40625 455.589844 L 366.40625 452.847656 \"/>\n",
       "<path fill=\"none\" stroke-width=\"1.066978\" stroke-linecap=\"butt\" stroke-linejoin=\"round\" stroke=\"rgb(20%, 20%, 20%)\" stroke-opacity=\"1\" stroke-miterlimit=\"10\" d=\"M 448.976562 455.589844 L 448.976562 452.847656 \"/>\n",
       "<g fill=\"rgb(30.196078%, 30.196078%, 30.196078%)\" fill-opacity=\"1\">\n",
       "<use xlink:href=\"#glyph-0-6\" x=\"85.195312\" y=\"470.712891\"/>\n",
       "<use xlink:href=\"#glyph-0-7\" x=\"98.195312\" y=\"470.712891\"/>\n",
       "<use xlink:href=\"#glyph-0-8\" x=\"108.195312\" y=\"470.712891\"/>\n",
       "<use xlink:href=\"#glyph-0-8\" x=\"118.195312\" y=\"470.712891\"/>\n",
       "<use xlink:href=\"#glyph-0-9\" x=\"128.195312\" y=\"470.712891\"/>\n",
       "<use xlink:href=\"#glyph-0-10\" x=\"138.195312\" y=\"470.712891\"/>\n",
       "<use xlink:href=\"#glyph-0-11\" x=\"147.195312\" y=\"470.712891\"/>\n",
       "</g>\n",
       "<g fill=\"rgb(30.196078%, 30.196078%, 30.196078%)\" fill-opacity=\"1\">\n",
       "<use xlink:href=\"#glyph-0-12\" x=\"166.765625\" y=\"470.712891\"/>\n",
       "<use xlink:href=\"#glyph-0-9\" x=\"178.765625\" y=\"470.712891\"/>\n",
       "<use xlink:href=\"#glyph-0-13\" x=\"188.765625\" y=\"470.712891\"/>\n",
       "<use xlink:href=\"#glyph-0-14\" x=\"194.765625\" y=\"470.712891\"/>\n",
       "<use xlink:href=\"#glyph-0-15\" x=\"203.765625\" y=\"470.712891\"/>\n",
       "<use xlink:href=\"#glyph-0-10\" x=\"207.765625\" y=\"470.712891\"/>\n",
       "<use xlink:href=\"#glyph-0-9\" x=\"216.765625\" y=\"470.712891\"/>\n",
       "<use xlink:href=\"#glyph-0-16\" x=\"226.765625\" y=\"470.712891\"/>\n",
       "</g>\n",
       "<g fill=\"rgb(30.196078%, 30.196078%, 30.196078%)\" fill-opacity=\"1\">\n",
       "<use xlink:href=\"#glyph-0-17\" x=\"265.335938\" y=\"470.712891\"/>\n",
       "<use xlink:href=\"#glyph-0-9\" x=\"278.335938\" y=\"470.712891\"/>\n",
       "<use xlink:href=\"#glyph-0-18\" x=\"288.335938\" y=\"470.712891\"/>\n",
       "<use xlink:href=\"#glyph-0-19\" x=\"292.335938\" y=\"470.712891\"/>\n",
       "</g>\n",
       "<g fill=\"rgb(30.196078%, 30.196078%, 30.196078%)\" fill-opacity=\"1\">\n",
       "<use xlink:href=\"#glyph-0-20\" x=\"336.40625\" y=\"470.712891\"/>\n",
       "<use xlink:href=\"#glyph-0-8\" x=\"341.40625\" y=\"470.712891\"/>\n",
       "<use xlink:href=\"#glyph-0-11\" x=\"351.40625\" y=\"470.712891\"/>\n",
       "<use xlink:href=\"#glyph-0-9\" x=\"356.40625\" y=\"470.712891\"/>\n",
       "<use xlink:href=\"#glyph-0-13\" x=\"366.40625\" y=\"470.712891\"/>\n",
       "<use xlink:href=\"#glyph-0-21\" x=\"372.40625\" y=\"470.712891\"/>\n",
       "<use xlink:href=\"#glyph-0-10\" x=\"382.40625\" y=\"470.712891\"/>\n",
       "<use xlink:href=\"#glyph-0-11\" x=\"391.40625\" y=\"470.712891\"/>\n",
       "</g>\n",
       "<g fill=\"rgb(30.196078%, 30.196078%, 30.196078%)\" fill-opacity=\"1\">\n",
       "<use xlink:href=\"#glyph-0-22\" x=\"425.976562\" y=\"470.712891\"/>\n",
       "<use xlink:href=\"#glyph-0-9\" x=\"435.976562\" y=\"470.712891\"/>\n",
       "<use xlink:href=\"#glyph-0-21\" x=\"445.976562\" y=\"470.712891\"/>\n",
       "<use xlink:href=\"#glyph-0-13\" x=\"455.976562\" y=\"470.712891\"/>\n",
       "<use xlink:href=\"#glyph-0-8\" x=\"461.976562\" y=\"470.712891\"/>\n",
       "</g>\n",
       "<g fill=\"rgb(0%, 0%, 0%)\" fill-opacity=\"1\">\n",
       "<use xlink:href=\"#glyph-1-0\" x=\"236.335938\" y=\"493.435547\"/>\n",
       "<use xlink:href=\"#glyph-1-1\" x=\"256.335938\" y=\"493.435547\"/>\n",
       "<use xlink:href=\"#glyph-1-2\" x=\"268.335938\" y=\"493.435547\"/>\n",
       "<use xlink:href=\"#glyph-1-3\" x=\"281.335938\" y=\"493.435547\"/>\n",
       "<use xlink:href=\"#glyph-1-4\" x=\"294.335938\" y=\"493.435547\"/>\n",
       "<use xlink:href=\"#glyph-1-5\" x=\"306.335938\" y=\"493.435547\"/>\n",
       "<use xlink:href=\"#glyph-1-1\" x=\"319.335938\" y=\"493.435547\"/>\n",
       "</g>\n",
       "<g fill=\"rgb(0%, 0%, 0%)\" fill-opacity=\"1\">\n",
       "<use xlink:href=\"#glyph-2-0\" x=\"21.396484\" y=\"296.402344\"/>\n",
       "<use xlink:href=\"#glyph-2-1\" x=\"21.396484\" y=\"280.402344\"/>\n",
       "<use xlink:href=\"#glyph-2-2\" x=\"21.396484\" y=\"274.402344\"/>\n",
       "<use xlink:href=\"#glyph-2-3\" x=\"21.396484\" y=\"268.402344\"/>\n",
       "<use xlink:href=\"#glyph-2-4\" x=\"21.396484\" y=\"256.402344\"/>\n",
       "<use xlink:href=\"#glyph-2-5\" x=\"21.396484\" y=\"244.402344\"/>\n",
       "<use xlink:href=\"#glyph-2-6\" x=\"21.396484\" y=\"238.402344\"/>\n",
       "<use xlink:href=\"#glyph-2-7\" x=\"21.396484\" y=\"222.402344\"/>\n",
       "<use xlink:href=\"#glyph-2-8\" x=\"21.396484\" y=\"210.402344\"/>\n",
       "<use xlink:href=\"#glyph-2-9\" x=\"21.396484\" y=\"203.402344\"/>\n",
       "</g>\n",
       "<g fill=\"rgb(0%, 0%, 0%)\" fill-opacity=\"1\">\n",
       "<use xlink:href=\"#glyph-3-0\" x=\"69.152344\" y=\"24.378906\"/>\n",
       "<use xlink:href=\"#glyph-3-1\" x=\"88.152344\" y=\"24.378906\"/>\n",
       "<use xlink:href=\"#glyph-3-2\" x=\"95.152344\" y=\"24.378906\"/>\n",
       "<use xlink:href=\"#glyph-3-3\" x=\"102.152344\" y=\"24.378906\"/>\n",
       "<use xlink:href=\"#glyph-3-4\" x=\"117.152344\" y=\"24.378906\"/>\n",
       "<use xlink:href=\"#glyph-3-5\" x=\"132.152344\" y=\"24.378906\"/>\n",
       "<use xlink:href=\"#glyph-3-6\" x=\"139.152344\" y=\"24.378906\"/>\n",
       "<use xlink:href=\"#glyph-3-7\" x=\"158.152344\" y=\"24.378906\"/>\n",
       "<use xlink:href=\"#glyph-3-8\" x=\"173.152344\" y=\"24.378906\"/>\n",
       "<use xlink:href=\"#glyph-3-9\" x=\"182.152344\" y=\"24.378906\"/>\n",
       "<use xlink:href=\"#glyph-3-10\" x=\"197.152344\" y=\"24.378906\"/>\n",
       "<use xlink:href=\"#glyph-3-5\" x=\"212.152344\" y=\"24.378906\"/>\n",
       "<use xlink:href=\"#glyph-3-11\" x=\"219.152344\" y=\"24.378906\"/>\n",
       "<use xlink:href=\"#glyph-3-2\" x=\"240.152344\" y=\"24.378906\"/>\n",
       "<use xlink:href=\"#glyph-3-8\" x=\"247.152344\" y=\"24.378906\"/>\n",
       "<use xlink:href=\"#glyph-3-12\" x=\"256.152344\" y=\"24.378906\"/>\n",
       "<use xlink:href=\"#glyph-3-5\" x=\"272.152344\" y=\"24.378906\"/>\n",
       "<use xlink:href=\"#glyph-3-13\" x=\"279.152344\" y=\"24.378906\"/>\n",
       "<use xlink:href=\"#glyph-3-14\" x=\"294.152344\" y=\"24.378906\"/>\n",
       "<use xlink:href=\"#glyph-3-15\" x=\"309.152344\" y=\"24.378906\"/>\n",
       "<use xlink:href=\"#glyph-3-5\" x=\"332.152344\" y=\"24.378906\"/>\n",
       "<use xlink:href=\"#glyph-3-0\" x=\"339.152344\" y=\"24.378906\"/>\n",
       "<use xlink:href=\"#glyph-3-16\" x=\"358.152344\" y=\"24.378906\"/>\n",
       "</g>\n",
       "</svg>\n"
      ],
      "text/plain": [
       "plot without title"
      ]
     },
     "metadata": {
      "application/pdf": {
       "height": 420,
       "width": 420
      },
      "image/jpeg": {
       "height": 420,
       "width": 420
      },
      "image/png": {
       "height": 420,
       "width": 420
      },
      "image/svg+xml": {
       "height": 420,
       "isolated": true,
       "width": 420
      }
     },
     "output_type": "display_data"
    }
   ],
   "source": [
    "# Plotting click-through rates as points with 95% confidence intervals.\n",
    "# CIs_click_through_rates <- \n",
    "#   click_through %>% \n",
    "#   ggplot(aes(..., ...)) +\n",
    "#   ...() +\n",
    "#   geom_errorbar(aes(ymin = ..., ymax = ...), width = 0.1) +\n",
    "#   theme(\n",
    "#     text = element_text(size = 22),\n",
    "#     plot.title = element_text(face = \"bold\"),\n",
    "#     axis.title = element_text(face = \"bold\")\n",
    "#   ) +\n",
    "#   ggtitle(...) +\n",
    "#   xlab(...) +\n",
    "#   ylab(...)\n",
    "\n",
    "# your code here\n",
    "CIs_click_through_rates <- \n",
    "  click_through %>% \n",
    "  ggplot(aes(webpage, click_rate)) +\n",
    "  geom_point() +\n",
    "  geom_errorbar(aes(ymin = lower_ci, ymax = upper_ci), width = 0.1) +\n",
    "  theme(\n",
    "    text = element_text(size = 22),\n",
    "    plot.title = element_text(face = \"bold\"),\n",
    "    axis.title = element_text(face = \"bold\")\n",
    "  ) +\n",
    "  ggtitle(\"Click Rates with 95% CI\") +\n",
    "  xlab(\"Webpage\") +\n",
    "  ylab(\"Click Rate\")\n",
    "\n",
    "CIs_click_through_rates"
   ]
  },
  {
   "cell_type": "code",
   "execution_count": 8,
   "metadata": {
    "deletable": false,
    "editable": false,
    "nbgrader": {
     "cell_type": "code",
     "checksum": "0883ce716744c663a0e362e6b0c8081e",
     "grade": true,
     "grade_id": "cell-062200921c05e43f",
     "locked": true,
     "points": 1,
     "schema_version": 3,
     "solution": false,
     "task": false
    },
    "tags": []
   },
   "outputs": [
    {
     "name": "stdout",
     "output_type": "stream",
     "text": [
      "\u001b[32mTest passed\u001b[39m 🎊\n",
      "\u001b[32mTest passed\u001b[39m 😸\n",
      "\u001b[32mTest passed\u001b[39m 😸\n",
      "\u001b[32mTest passed\u001b[39m 🎊\n",
      "\u001b[32mTest passed\u001b[39m 😸\n",
      "\u001b[32mTest passed\u001b[39m 🥇\n",
      "\u001b[32mTest passed\u001b[39m 🌈\n",
      "\u001b[32mTest passed\u001b[39m 🥇\n",
      "[1] \"Success!\"\n"
     ]
    }
   ],
   "source": [
    "test_1.2()"
   ]
  },
  {
   "cell_type": "markdown",
   "metadata": {
    "deletable": false,
    "editable": false,
    "nbgrader": {
     "cell_type": "markdown",
     "checksum": "33449c07bbe63d07e546561af8d26b57",
     "grade": false,
     "grade_id": "cell-bdcee83be072fc15",
     "locked": true,
     "schema_version": 3,
     "solution": false,
     "task": false
    }
   },
   "source": [
    "**Question 1.3**\n",
    "<br>{points: 1}\n",
    "\n",
    "Based on the findings in the plot `CIs_click_through_rates`, what can we statistically conclude from these confidence intervals?\n",
    "\n",
    "**A.** We can see that treatment **Connect** has the largest click-through rate among the five treatments. It is statistically larger than the control treatment **Interact**.\n",
    "\n",
    "**B.** We cannot state that treatment **Connect** is statistically larger than treatment **Services** since their confidence intervals overlap. However, we can state that these two treatments are statistically larger than the control treatment **Interact** and **Learn** given that their corresponding confidence intervals do not overlap.\n",
    "\n",
    "*Assign your answer to an object called `answer1.3`. Your answer should be one of `\"A\"` or `\"B\"` surrounded by quotes.*"
   ]
  },
  {
   "cell_type": "code",
   "execution_count": 9,
   "metadata": {
    "deletable": false,
    "nbgrader": {
     "cell_type": "code",
     "checksum": "a5339c1f9b052ffdcd21ddc38abcf911",
     "grade": false,
     "grade_id": "cell-314d32111def21c7",
     "locked": false,
     "schema_version": 3,
     "solution": true,
     "task": false
    },
    "tags": []
   },
   "outputs": [],
   "source": [
    "# answer1.3 <- \n",
    "\n",
    "# your code here\n",
    "answer1.3 <- \"B\""
   ]
  },
  {
   "cell_type": "code",
   "execution_count": 10,
   "metadata": {
    "deletable": false,
    "editable": false,
    "nbgrader": {
     "cell_type": "code",
     "checksum": "1f9761e8e63628577fa0547e416a0b01",
     "grade": true,
     "grade_id": "cell-772a2e6ece3841c1",
     "locked": true,
     "points": 1,
     "schema_version": 3,
     "solution": false,
     "task": false
    },
    "tags": []
   },
   "outputs": [
    {
     "name": "stdout",
     "output_type": "stream",
     "text": [
      "\u001b[32mTest passed\u001b[39m 🎉\n",
      "\u001b[32mTest passed\u001b[39m 😸\n",
      "\u001b[32mTest passed\u001b[39m 🌈\n",
      "[1] \"Success!\"\n"
     ]
    }
   ],
   "source": [
    "test_1.3()"
   ]
  },
  {
   "cell_type": "markdown",
   "metadata": {
    "deletable": false,
    "editable": false,
    "nbgrader": {
     "cell_type": "markdown",
     "checksum": "784d55b4af4e7b215f7416a7fa662d1e",
     "grade": false,
     "grade_id": "cell-690cc2c5994c6b30",
     "locked": true,
     "schema_version": 3,
     "solution": false,
     "task": false
    }
   },
   "source": [
    "**Question 1.4**\n",
    "<br>{points: 1}\n",
    "\n",
    "Recall that the click-through rates by treatment are proportions that go from 0 to 1. We want to compare whether the rate of a given treatment is larger than the rate corresponding to another one. Suppose we rely on the Central Limit Theorem and assume that our sample sizes are large enough. What is the specific analysis we need to perform?\n",
    "\n",
    "**A.** One-sample $z$-test. \n",
    "\n",
    "**B.** One-sample $t$-test.\n",
    "\n",
    "**C.** Two-sample $z$-test.\n",
    "\n",
    "**D.** Two-sample $t$-test.\n",
    "\n",
    "**E.** Two-way ANOVA.\n",
    "\n",
    "*Assign your answer to an object called `answer1.4`. Your answer should be one of `\"A\"`, `\"B\"`, `\"C\"`, `\"D\"`, or `\"E\"` surrounded by quotes.*"
   ]
  },
  {
   "cell_type": "code",
   "execution_count": 11,
   "metadata": {
    "deletable": false,
    "nbgrader": {
     "cell_type": "code",
     "checksum": "f94f3fe02b15720c43898cb34ce350b1",
     "grade": false,
     "grade_id": "cell-4a49471cf41f1f67",
     "locked": false,
     "schema_version": 3,
     "solution": true,
     "task": false
    },
    "tags": []
   },
   "outputs": [],
   "source": [
    "# answer1.4 <- \n",
    "\n",
    "# your code here\n",
    "answer1.4 <- \"C\""
   ]
  },
  {
   "cell_type": "code",
   "execution_count": 12,
   "metadata": {
    "deletable": false,
    "editable": false,
    "nbgrader": {
     "cell_type": "code",
     "checksum": "07c1a359d16fc4826a2428cc2d9e33b5",
     "grade": true,
     "grade_id": "cell-e76acfb5401abd0f",
     "locked": true,
     "points": 1,
     "schema_version": 3,
     "solution": false,
     "task": false
    },
    "tags": []
   },
   "outputs": [
    {
     "name": "stdout",
     "output_type": "stream",
     "text": [
      "\u001b[32mTest passed\u001b[39m 🎉\n",
      "\u001b[32mTest passed\u001b[39m 😸\n",
      "\u001b[32mTest passed\u001b[39m 🎊\n",
      "[1] \"Success!\"\n"
     ]
    }
   ],
   "source": [
    "test_1.4()"
   ]
  },
  {
   "cell_type": "markdown",
   "metadata": {
    "deletable": false,
    "editable": false,
    "nbgrader": {
     "cell_type": "markdown",
     "checksum": "beb1d09aca00dc6d8082573175e22dba",
     "grade": false,
     "grade_id": "cell-4b98156347b21735",
     "locked": true,
     "schema_version": 3,
     "solution": false,
     "task": false
    }
   },
   "source": [
    "**Question 1.5**\n",
    "<br>{points: 1}\n",
    "\n",
    "Let $p_A$ and $p_B$ be the click-through rates of two given treatments **A** and **B**, respectively. Suppose you want to assess whether the click-through rate of treatment **A** is larger than the one corresponding to treatment **B**. What is the set of hypotheses we are testing in this case?\n",
    "\n",
    "**A.** $H_0: p_A = p_B$ vs. $H_1: p_A > p_B$\n",
    "\n",
    "**B.** $H_0: p_A > p_B$ vs. $H_1: p_A < p_B$\n",
    "\n",
    "**C.** $H_0: p_A = p_B$ vs. $H_1: p_A \\neq p_B$\n",
    "\n",
    "**D.** $H_0: p_A = p_B$ vs. $H_1: p_A < p_B$\n",
    "\n",
    "*Assign your answer to an object called `answer1.5`. Your answer should be one of `\"A\"`, `\"B\"`, `\"C\"`, or `\"D\"` surrounded by quotes.*"
   ]
  },
  {
   "cell_type": "code",
   "execution_count": 13,
   "metadata": {
    "deletable": false,
    "nbgrader": {
     "cell_type": "code",
     "checksum": "9838b23ad0726b9ca95fe2d0f18a758e",
     "grade": false,
     "grade_id": "cell-1b95fba9a44c72e9",
     "locked": false,
     "schema_version": 3,
     "solution": true,
     "task": false
    },
    "tags": []
   },
   "outputs": [],
   "source": [
    "# answer1.5 <- \n",
    "\n",
    "# your code here\n",
    "answer1.5 <- \"A\""
   ]
  },
  {
   "cell_type": "code",
   "execution_count": 14,
   "metadata": {
    "deletable": false,
    "editable": false,
    "nbgrader": {
     "cell_type": "code",
     "checksum": "21eb18a79459433ac57d892199c0892b",
     "grade": true,
     "grade_id": "cell-6fa8808a79a82d33",
     "locked": true,
     "points": 1,
     "schema_version": 3,
     "solution": false,
     "task": false
    },
    "tags": []
   },
   "outputs": [
    {
     "name": "stdout",
     "output_type": "stream",
     "text": [
      "\u001b[32mTest passed\u001b[39m 🌈\n",
      "\u001b[32mTest passed\u001b[39m 😀\n",
      "\u001b[32mTest passed\u001b[39m 😀\n",
      "[1] \"Success!\"\n"
     ]
    }
   ],
   "source": [
    "test_1.5()"
   ]
  },
  {
   "cell_type": "markdown",
   "metadata": {
    "deletable": false,
    "editable": false,
    "nbgrader": {
     "cell_type": "markdown",
     "checksum": "9504e2343fdb8dd8ce2c7d7aa8eca4a1",
     "grade": false,
     "grade_id": "cell-e362f03b9d1a63a9",
     "locked": true,
     "schema_version": 3,
     "solution": false,
     "task": false
    }
   },
   "source": [
    "**Question 1.6**\n",
    "<br>{points: 1}\n",
    "\n",
    "Perform pairwise frequentist hypothesis test analyses to assess statistically significant differences between all the experimental treatments. This will require control for multiple comparisons. You can use the Bonferroni correction along with the function `pairwise.prop.test()`. Create an object named `pairwise_comparisons`. \n",
    "\n",
    "> **Heads-up:** Given the answer in **Question 1.6**, rows in `pairwise_comparisons` will correspond to treatment **A** and columns to treatment **B**.\n",
    "\n",
    "*Fill out those parts indicated with `...`, uncomment the corresponding code in the cell below, and run it.*"
   ]
  },
  {
   "cell_type": "code",
   "execution_count": 15,
   "metadata": {
    "deletable": false,
    "nbgrader": {
     "cell_type": "code",
     "checksum": "5d39df1541a2c08da7542adf88a546f4",
     "grade": false,
     "grade_id": "cell-b02a02d1ffacef41",
     "locked": false,
     "schema_version": 3,
     "solution": true,
     "task": false
    }
   },
   "outputs": [
    {
     "data": {
      "text/plain": [
       "\n",
       "\tPairwise comparisons using Pairwise comparison of proportions \n",
       "\n",
       "data:  successes out of trials \n",
       "\n",
       "         Interact Connect Learn  Help  \n",
       "Connect  0.0057   -       -      -     \n",
       "Learn    1.0000   0.0013  -      -     \n",
       "Help     1.0000   0.7594  0.4144 -     \n",
       "Services 0.0129   1.0000  0.0026 1.0000\n",
       "\n",
       "P value adjustment method: bonferroni "
      ]
     },
     "metadata": {},
     "output_type": "display_data"
    }
   ],
   "source": [
    "# Assigning numbers of \"successes\" from data frame `click_through`\n",
    "# successes <- click_through$...\n",
    "\n",
    "# Assigning numbers of \"trials\" from data frame `click_through`\n",
    "# trials <- click_through$...\n",
    "\n",
    "# Putting labels on vector cells\n",
    "# names(successes) <- click_through$webpage\n",
    "# names(trials) <- click_through$webpage\n",
    "\n",
    "# pairwise_comparisons <- pairwise.prop.test(x = ...,\n",
    "#   n = ....,\n",
    "#   p.adjust.method = ..., \n",
    "#   alternative = ...,\n",
    "# )\n",
    "\n",
    "# your code here\n",
    "\n",
    "# Assigning numbers of \"successes\" from data frame `click_through`\n",
    "successes <- click_through$target_clicks\n",
    "\n",
    "# Assigning numbers of \"trials\" from data frame `click_through`\n",
    "trials <- click_through$adjusted_clicks\n",
    "\n",
    "# Putting labels on vector cells\n",
    "names(successes) <- click_through$webpage\n",
    "names(trials) <- click_through$webpage\n",
    "\n",
    "pairwise_comparisons <- pairwise.prop.test(x = successes,\n",
    "  n = trials,\n",
    "  p.adjust.method = \"bonferroni\", \n",
    "  alternative = \"two.sided\",\n",
    ")\n",
    "\n",
    "pairwise_comparisons"
   ]
  },
  {
   "cell_type": "code",
   "execution_count": 16,
   "metadata": {
    "deletable": false,
    "editable": false,
    "nbgrader": {
     "cell_type": "code",
     "checksum": "aa3ba5eaa704119e6adc845fabe2e995",
     "grade": true,
     "grade_id": "cell-19c172b9d9dea3d5",
     "locked": true,
     "points": 1,
     "schema_version": 3,
     "solution": false,
     "task": false
    }
   },
   "outputs": [
    {
     "name": "stdout",
     "output_type": "stream",
     "text": [
      "\u001b[32mTest passed\u001b[39m 😸\n",
      "\u001b[32mTest passed\u001b[39m 🎉\n",
      "\u001b[32mTest passed\u001b[39m 🎊\n",
      "\u001b[32mTest passed\u001b[39m 🌈\n",
      "\u001b[32mTest passed\u001b[39m 🎉\n",
      "[1] \"Success!\"\n"
     ]
    }
   ],
   "source": [
    "test_1.6()"
   ]
  },
  {
   "cell_type": "markdown",
   "metadata": {
    "deletable": false,
    "editable": false,
    "nbgrader": {
     "cell_type": "markdown",
     "checksum": "f3181bde10df1c40d0ccb4ddfa2ae61c",
     "grade": false,
     "grade_id": "cell-e322c432c68a60e8",
     "locked": true,
     "schema_version": 3,
     "solution": false,
     "task": false
    }
   },
   "source": [
    "**Question 1.7**\n",
    "<br>{points: 1}\n",
    "\n",
    "Based on your results in **Question 1.6**, using $\\alpha = 0.05$, indicate what experimental treatments have a significantly larger click-through rate than the control **Interact**.\n",
    "\n",
    "**A.** Connect.\n",
    "\n",
    "**B.** Learn.\n",
    "\n",
    "**C.** Help.\n",
    "\n",
    "**D.** Services.\n",
    "\n",
    "*Assign your answers to the object `answer1.7`. Your answer has to be a single string indicating the correct treatment labels **in alphabetical order** and surrounded by quotes (e.g., `\"ABCD\"` indicates you are selecting the four options).*"
   ]
  },
  {
   "cell_type": "code",
   "execution_count": 17,
   "metadata": {
    "deletable": false,
    "nbgrader": {
     "cell_type": "code",
     "checksum": "1c3fe5dce5d1c82c0250df6b5a87dfab",
     "grade": false,
     "grade_id": "cell-8200f9e61e2c939b",
     "locked": false,
     "schema_version": 3,
     "solution": true,
     "task": false
    }
   },
   "outputs": [],
   "source": [
    "# answer1.7 <- \n",
    "\n",
    "# your code here\n",
    "answer1.7 <- \"AD\""
   ]
  },
  {
   "cell_type": "code",
   "execution_count": 18,
   "metadata": {
    "deletable": false,
    "editable": false,
    "nbgrader": {
     "cell_type": "code",
     "checksum": "5e9ac2b5d6d649e2f0c946737ee22d44",
     "grade": true,
     "grade_id": "cell-8dcfca69365d2a13",
     "locked": true,
     "points": 1,
     "schema_version": 3,
     "solution": false,
     "task": false
    }
   },
   "outputs": [
    {
     "name": "stdout",
     "output_type": "stream",
     "text": [
      "\u001b[32mTest passed\u001b[39m 🥇\n",
      "\u001b[32mTest passed\u001b[39m 🌈\n",
      "\u001b[32mTest passed\u001b[39m 😸\n",
      "[1] \"Success! You've finished week 1!!\"\n"
     ]
    }
   ],
   "source": [
    "test_1.7()"
   ]
  },
  {
   "cell_type": "markdown",
   "metadata": {
    "deletable": false,
    "editable": false,
    "nbgrader": {
     "cell_type": "markdown",
     "checksum": "de454a984c336bda59306f3c18cff039",
     "grade": false,
     "grade_id": "cell-b71652c72a001c12",
     "locked": true,
     "schema_version": 3,
     "solution": false,
     "task": false
    }
   },
   "source": [
    "**Question 1.8**\n",
    "<br>{points: 1}\n",
    "\n",
    "a) In one or two sentences, explain why a Bonferroni correction is needed to assess the significance of the pairwise the test performed in **Question 1.7**.\n",
    "\n",
    "b) In one or two sentences, explain how to implement a Bonferroni correction in this case."
   ]
  },
  {
   "cell_type": "markdown",
   "metadata": {
    "deletable": false,
    "nbgrader": {
     "cell_type": "markdown",
     "checksum": "4c75af71e710a06802c3b0f033538f1b",
     "grade": true,
     "grade_id": "cell-1f021334bf7674f3",
     "locked": false,
     "points": 1,
     "schema_version": 3,
     "solution": true,
     "task": false
    }
   },
   "source": [
    "a) A Bonferroni correction is needed to assess the significance of the pairwise test because it controls the familywise error rate, which is the probability of making one or more false discoveries when performing multiple hypotheses tests.\n",
    "\n",
    "b) To implement a Bonferroni correction in this case, I divide the desired significant level (e.g., 0.05) by the number of comparisons being made. For each individual test, I tried to compare its p-value against this adjusted Alpha to determine significance."
   ]
  },
  {
   "cell_type": "code",
   "execution_count": null,
   "metadata": {},
   "outputs": [],
   "source": []
  }
 ],
 "metadata": {
  "jupytext": {
   "formats": "ipynb,Rmd"
  },
  "kernelspec": {
   "display_name": "R",
   "language": "R",
   "name": "ir"
  },
  "language_info": {
   "codemirror_mode": "r",
   "file_extension": ".r",
   "mimetype": "text/x-r-source",
   "name": "R",
   "pygments_lexer": "r",
   "version": "4.2.3"
  }
 },
 "nbformat": 4,
 "nbformat_minor": 4
}
