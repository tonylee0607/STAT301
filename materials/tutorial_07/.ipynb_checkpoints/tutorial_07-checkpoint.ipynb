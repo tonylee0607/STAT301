{
 "cells": [
  {
   "cell_type": "markdown",
   "metadata": {
    "deletable": false,
    "editable": false,
    "nbgrader": {
     "cell_type": "markdown",
     "checksum": "04ce4b2a70add7b1b34c1dc9b8329326",
     "grade": false,
     "grade_id": "cell-f1e1d845873036f4",
     "locked": true,
     "schema_version": 3,
     "solution": false,
     "task": false
    }
   },
   "source": [
    "# Tutorial 7: Model Evaluation and Model Selection"
   ]
  },
  {
   "cell_type": "markdown",
   "metadata": {
    "deletable": false,
    "editable": false,
    "nbgrader": {
     "cell_type": "markdown",
     "checksum": "90c5778757b86e6aa2177ebfaab7f614",
     "grade": false,
     "grade_id": "cell-82d9926086d47a80",
     "locked": true,
     "schema_version": 3,
     "solution": false,
     "task": false
    }
   },
   "source": [
    "#### Lecture and Tutorial Learning Goals:\n",
    "After completing this week's lecture and tutorial work, you will be able to:\n",
    "\n",
    "1. List model metrics that are suitable for evaluation of a statistical model developed to make inference about the data-generating mechanism (e.g., $R^2$, $\\text{AIC}$, Likelihood ratio test/$F$-test), their strengths and limitations, as well as how they are calculated.\n",
    "2. Write a computer script to calculate these model metrics. Interpret and communicate the results from that computer script.\n",
    "3. Explain a variable selection method based on:\n",
    "    - $F$-test to compare nested models.\n",
    "    - RSS for models of equal size\n",
    "    - Adjusted $R^2$ for models of different sizes"
   ]
  },
  {
   "cell_type": "code",
   "execution_count": 1,
   "metadata": {
    "deletable": false,
    "editable": false,
    "nbgrader": {
     "cell_type": "code",
     "checksum": "049f5b181c8cba658955ed573f8c4c58",
     "grade": false,
     "grade_id": "cell-a2a153352bc44a68",
     "locked": true,
     "schema_version": 3,
     "solution": false,
     "task": false
    },
    "tags": []
   },
   "outputs": [
    {
     "name": "stderr",
     "output_type": "stream",
     "text": [
      "── \u001b[1mAttaching core tidyverse packages\u001b[22m ──────────────────────── tidyverse 2.0.0 ──\n",
      "\u001b[32m✔\u001b[39m \u001b[34mdplyr    \u001b[39m 1.1.4     \u001b[32m✔\u001b[39m \u001b[34mreadr    \u001b[39m 2.1.4\n",
      "\u001b[32m✔\u001b[39m \u001b[34mforcats  \u001b[39m 1.0.0     \u001b[32m✔\u001b[39m \u001b[34mstringr  \u001b[39m 1.5.1\n",
      "\u001b[32m✔\u001b[39m \u001b[34mggplot2  \u001b[39m 3.4.4     \u001b[32m✔\u001b[39m \u001b[34mtibble   \u001b[39m 3.2.1\n",
      "\u001b[32m✔\u001b[39m \u001b[34mlubridate\u001b[39m 1.9.3     \u001b[32m✔\u001b[39m \u001b[34mtidyr    \u001b[39m 1.3.0\n",
      "\u001b[32m✔\u001b[39m \u001b[34mpurrr    \u001b[39m 1.0.2     \n",
      "── \u001b[1mConflicts\u001b[22m ────────────────────────────────────────── tidyverse_conflicts() ──\n",
      "\u001b[31m✖\u001b[39m \u001b[34mdplyr\u001b[39m::\u001b[32mfilter()\u001b[39m masks \u001b[34mstats\u001b[39m::filter()\n",
      "\u001b[31m✖\u001b[39m \u001b[34mdplyr\u001b[39m::\u001b[32mlag()\u001b[39m    masks \u001b[34mstats\u001b[39m::lag()\n",
      "\u001b[36mℹ\u001b[39m Use the conflicted package (\u001b[3m\u001b[34m<http://conflicted.r-lib.org/>\u001b[39m\u001b[23m) to force all conflicts to become errors\n",
      "\n",
      "Attaching package: ‘gridExtra’\n",
      "\n",
      "\n",
      "The following object is masked from ‘package:dplyr’:\n",
      "\n",
      "    combine\n",
      "\n",
      "\n",
      "\n",
      "Attaching package: ‘mltools’\n",
      "\n",
      "\n",
      "The following object is masked from ‘package:tidyr’:\n",
      "\n",
      "    replace_na\n",
      "\n",
      "\n",
      "\n",
      "Attaching package: ‘testthat’\n",
      "\n",
      "\n",
      "The following object is masked from ‘package:dplyr’:\n",
      "\n",
      "    matches\n",
      "\n",
      "\n",
      "The following object is masked from ‘package:purrr’:\n",
      "\n",
      "    is_null\n",
      "\n",
      "\n",
      "The following objects are masked from ‘package:readr’:\n",
      "\n",
      "    edition_get, local_edition\n",
      "\n",
      "\n",
      "The following object is masked from ‘package:tidyr’:\n",
      "\n",
      "    matches\n",
      "\n",
      "\n"
     ]
    }
   ],
   "source": [
    "# Run this cell before continuing.\n",
    "library(tidyverse)\n",
    "library(repr)\n",
    "library(digest)\n",
    "library(infer)\n",
    "library(gridExtra)\n",
    "library(faraway)\n",
    "library(broom)\n",
    "library(leaps)\n",
    "library(mltools)\n",
    "source(\"tests_tutorial_07.R\")"
   ]
  },
  {
   "cell_type": "markdown",
   "metadata": {
    "deletable": false,
    "editable": false,
    "nbgrader": {
     "cell_type": "markdown",
     "checksum": "e75543fba6e00d97b98b3fffa5f2c09f",
     "grade": false,
     "grade_id": "cell-93ac8765d809417c",
     "locked": true,
     "schema_version": 3,
     "solution": false,
     "task": false
    },
    "tags": []
   },
   "source": [
    "## Can we predict protein from mRNA?\n",
    "\n",
    "In worksheet_07 you studied the significance of `mrna` and analyzed the goodness-of-fit of some models. However, there are other models that can be compared. For example, are interactions terms needed or is it equivalent to consider an additive model? "
   ]
  },
  {
   "cell_type": "markdown",
   "metadata": {
    "deletable": false,
    "editable": false,
    "nbgrader": {
     "cell_type": "markdown",
     "checksum": "76c9c8ad5318480e67f9d80f4ae641ba",
     "grade": false,
     "grade_id": "cell-58724295b3683c74",
     "locked": true,
     "schema_version": 3,
     "solution": false,
     "task": false
    },
    "tags": []
   },
   "source": [
    "Consider the following models using a dataset with 3 randomly selected genes:\n",
    "\n",
    "- model.1: $\\text{prot}_t=\\beta_0 + \\varepsilon_t$ \n",
    "\n",
    "- model.2:  $\\text{prot}_t=\\beta_0 + \\beta_1 \\text{mrna}_{t} + \\varepsilon_t$ \n",
    "\n",
    "- model.3:  $\\text{prot}_t=\\beta_0 + \\beta_2 \\text{gene2}_{t} + \\beta_3 \\text{gene3}_{t} + \\varepsilon_t$ \n",
    "\n",
    "- model.4:  $\\text{prot}_t=\\beta_0 + \\beta_1 \\text{mrna}_{t} + \\beta_2 \\text{gene2}_{t} + \\beta_3 \\text{gene3}_{t} + \\varepsilon_t$ \n",
    "\n",
    "- model.5:  $\\text{prot}_t=\\beta_0 + \\beta_1 \\text{mrna}_{t} + \\beta_2 \\text{gene2}_{t} + \\beta_3 \\text{gene3}_{t} + \\beta_4 \\text{gene2}_{t}\\text{mrna}_{t} + \\beta_5 \\text{gene3}_{t}\\text{mrna}_{t} + \\varepsilon_t$ "
   ]
  },
  {
   "cell_type": "code",
   "execution_count": 2,
   "metadata": {
    "deletable": false,
    "editable": false,
    "nbgrader": {
     "cell_type": "code",
     "checksum": "670a8b9ab5427255445e5543e0daf4df",
     "grade": false,
     "grade_id": "cell-616b8ab2f1452495",
     "locked": true,
     "schema_version": 3,
     "solution": false,
     "task": false
    },
    "tags": []
   },
   "outputs": [
    {
     "name": "stdout",
     "output_type": "stream",
     "text": [
      "'data.frame':\t16704 obs. of  4 variables:\n",
      " $ gene  : Factor w/ 1392 levels \"ENSG00000000419\",..: 1 2 3 4 5 6 7 8 9 10 ...\n",
      " $ tissue: Factor w/ 12 levels \"adrenal.gland\",..: 12 12 12 12 12 12 12 12 12 12 ...\n",
      " $ prot  : num  9.97e-06 3.63e-05 1.69e-05 6.75e-05 5.55e-05 ...\n",
      " $ mrna  : num  3.44e-05 1.42e-05 1.92e-05 3.64e-05 3.89e-05 ...\n"
     ]
    },
    {
     "data": {
      "text/html": [
       "<table class=\"dataframe\">\n",
       "<caption>A data.frame: 3 × 4</caption>\n",
       "<thead>\n",
       "\t<tr><th></th><th scope=col>gene</th><th scope=col>tissue</th><th scope=col>prot</th><th scope=col>mrna</th></tr>\n",
       "\t<tr><th></th><th scope=col>&lt;fct&gt;</th><th scope=col>&lt;fct&gt;</th><th scope=col>&lt;dbl&gt;</th><th scope=col>&lt;dbl&gt;</th></tr>\n",
       "</thead>\n",
       "<tbody>\n",
       "\t<tr><th scope=row>1</th><td>ENSG00000000419</td><td>uterus</td><td>9.966484e-06</td><td>3.44e-05</td></tr>\n",
       "\t<tr><th scope=row>3</th><td>ENSG00000000971</td><td>uterus</td><td>3.633516e-05</td><td>1.42e-05</td></tr>\n",
       "\t<tr><th scope=row>5</th><td>ENSG00000001084</td><td>uterus</td><td>1.693588e-05</td><td>1.92e-05</td></tr>\n",
       "</tbody>\n",
       "</table>\n"
      ],
      "text/latex": [
       "A data.frame: 3 × 4\n",
       "\\begin{tabular}{r|llll}\n",
       "  & gene & tissue & prot & mrna\\\\\n",
       "  & <fct> & <fct> & <dbl> & <dbl>\\\\\n",
       "\\hline\n",
       "\t1 & ENSG00000000419 & uterus & 9.966484e-06 & 3.44e-05\\\\\n",
       "\t3 & ENSG00000000971 & uterus & 3.633516e-05 & 1.42e-05\\\\\n",
       "\t5 & ENSG00000001084 & uterus & 1.693588e-05 & 1.92e-05\\\\\n",
       "\\end{tabular}\n"
      ],
      "text/markdown": [
       "\n",
       "A data.frame: 3 × 4\n",
       "\n",
       "| <!--/--> | gene &lt;fct&gt; | tissue &lt;fct&gt; | prot &lt;dbl&gt; | mrna &lt;dbl&gt; |\n",
       "|---|---|---|---|---|\n",
       "| 1 | ENSG00000000419 | uterus | 9.966484e-06 | 3.44e-05 |\n",
       "| 3 | ENSG00000000971 | uterus | 3.633516e-05 | 1.42e-05 |\n",
       "| 5 | ENSG00000001084 | uterus | 1.693588e-05 | 1.92e-05 |\n",
       "\n"
      ],
      "text/plain": [
       "  gene            tissue prot         mrna    \n",
       "1 ENSG00000000419 uterus 9.966484e-06 3.44e-05\n",
       "3 ENSG00000000971 uterus 3.633516e-05 1.42e-05\n",
       "5 ENSG00000001084 uterus 1.693588e-05 1.92e-05"
      ]
     },
     "metadata": {},
     "output_type": "display_data"
    },
    {
     "data": {
      "text/html": [
       "<table class=\"dataframe\">\n",
       "<caption>A data.frame: 3 × 4</caption>\n",
       "<thead>\n",
       "\t<tr><th></th><th scope=col>gene</th><th scope=col>tissue</th><th scope=col>prot</th><th scope=col>mrna</th></tr>\n",
       "\t<tr><th></th><th scope=col>&lt;fct&gt;</th><th scope=col>&lt;fct&gt;</th><th scope=col>&lt;dbl&gt;</th><th scope=col>&lt;dbl&gt;</th></tr>\n",
       "</thead>\n",
       "<tbody>\n",
       "\t<tr><th scope=row>57882</th><td>ENSG00000262246</td><td>esophagus</td><td>3.337902e-05</td><td>6.90e-06</td></tr>\n",
       "\t<tr><th scope=row>57886</th><td>ENSG00000269190</td><td>esophagus</td><td>3.703505e-06</td><td>7.80e-06</td></tr>\n",
       "\t<tr><th scope=row>57888</th><td>ENSG00000272325</td><td>esophagus</td><td>2.574201e-05</td><td>1.35e-05</td></tr>\n",
       "</tbody>\n",
       "</table>\n"
      ],
      "text/latex": [
       "A data.frame: 3 × 4\n",
       "\\begin{tabular}{r|llll}\n",
       "  & gene & tissue & prot & mrna\\\\\n",
       "  & <fct> & <fct> & <dbl> & <dbl>\\\\\n",
       "\\hline\n",
       "\t57882 & ENSG00000262246 & esophagus & 3.337902e-05 & 6.90e-06\\\\\n",
       "\t57886 & ENSG00000269190 & esophagus & 3.703505e-06 & 7.80e-06\\\\\n",
       "\t57888 & ENSG00000272325 & esophagus & 2.574201e-05 & 1.35e-05\\\\\n",
       "\\end{tabular}\n"
      ],
      "text/markdown": [
       "\n",
       "A data.frame: 3 × 4\n",
       "\n",
       "| <!--/--> | gene &lt;fct&gt; | tissue &lt;fct&gt; | prot &lt;dbl&gt; | mrna &lt;dbl&gt; |\n",
       "|---|---|---|---|---|\n",
       "| 57882 | ENSG00000262246 | esophagus | 3.337902e-05 | 6.90e-06 |\n",
       "| 57886 | ENSG00000269190 | esophagus | 3.703505e-06 | 7.80e-06 |\n",
       "| 57888 | ENSG00000272325 | esophagus | 2.574201e-05 | 1.35e-05 |\n",
       "\n"
      ],
      "text/plain": [
       "      gene            tissue    prot         mrna    \n",
       "57882 ENSG00000262246 esophagus 3.337902e-05 6.90e-06\n",
       "57886 ENSG00000269190 esophagus 3.703505e-06 7.80e-06\n",
       "57888 ENSG00000272325 esophagus 2.574201e-05 1.35e-05"
      ]
     },
     "metadata": {},
     "output_type": "display_data"
    }
   ],
   "source": [
    "# Read and take a look at the data.\n",
    "dat_bio <- read.csv(\"data/nature_dat.csv\", row.names = 1, stringsAsFactors=TRUE)\n",
    "str(dat_bio)\n",
    "head(dat_bio,3)\n",
    "tail(dat_bio,3)"
   ]
  },
  {
   "cell_type": "code",
   "execution_count": 3,
   "metadata": {
    "deletable": false,
    "editable": false,
    "nbgrader": {
     "cell_type": "code",
     "checksum": "fd6ba13bf520cc907cda42e60d0cc87e",
     "grade": false,
     "grade_id": "cell-e4e36c63c003122c",
     "locked": true,
     "schema_version": 3,
     "solution": false,
     "task": false
    },
    "tags": []
   },
   "outputs": [],
   "source": [
    "#run this cell\n",
    "set.seed(561)\n",
    "dat_3genes <- dat_bio  %>%  \n",
    "         subset(gene %in% sample(gene,3)) "
   ]
  },
  {
   "cell_type": "markdown",
   "metadata": {
    "deletable": false,
    "editable": false,
    "nbgrader": {
     "cell_type": "markdown",
     "checksum": "d7826afed0a12b6b00a85c3e9c1d1b6c",
     "grade": false,
     "grade_id": "cell-6c722e3a372a3114",
     "locked": true,
     "schema_version": 3,
     "solution": false,
     "task": false
    },
    "tags": []
   },
   "source": [
    "**Question 1.0**\n",
    "<br>{points: 1}\n",
    "\n",
    "Test if the model with interaction terms (`model.5`) is significantly different from an additive one (`model.4`). Note that both models have `mrna` but the full model assumes that the change in protein levels per unit change in mRNA levels is different for each gene.\n",
    "\n",
    "Store your results in an object called `Ftest_3genes_add_full`.\n",
    "\n",
    "*Write your own code and run it.*"
   ]
  },
  {
   "cell_type": "code",
   "execution_count": 4,
   "metadata": {
    "deletable": false,
    "nbgrader": {
     "cell_type": "code",
     "checksum": "e4f65db77490141a616c042ae8dd4d5c",
     "grade": false,
     "grade_id": "cell-2d5e8281caac870d",
     "locked": false,
     "schema_version": 3,
     "solution": true,
     "task": false
    },
    "tags": []
   },
   "outputs": [
    {
     "data": {
      "text/html": [
       "<table class=\"dataframe\">\n",
       "<caption>A anova: 2 × 6</caption>\n",
       "<thead>\n",
       "\t<tr><th></th><th scope=col>Res.Df</th><th scope=col>RSS</th><th scope=col>Df</th><th scope=col>Sum of Sq</th><th scope=col>F</th><th scope=col>Pr(&gt;F)</th></tr>\n",
       "\t<tr><th></th><th scope=col>&lt;dbl&gt;</th><th scope=col>&lt;dbl&gt;</th><th scope=col>&lt;dbl&gt;</th><th scope=col>&lt;dbl&gt;</th><th scope=col>&lt;dbl&gt;</th><th scope=col>&lt;dbl&gt;</th></tr>\n",
       "</thead>\n",
       "<tbody>\n",
       "\t<tr><th scope=row>1</th><td>32</td><td>1.035355e-07</td><td>NA</td><td>          NA</td><td>       NA</td><td>       NA</td></tr>\n",
       "\t<tr><th scope=row>2</th><td>30</td><td>9.887768e-08</td><td> 2</td><td>4.657826e-09</td><td>0.7066043</td><td>0.5013423</td></tr>\n",
       "</tbody>\n",
       "</table>\n"
      ],
      "text/latex": [
       "A anova: 2 × 6\n",
       "\\begin{tabular}{r|llllll}\n",
       "  & Res.Df & RSS & Df & Sum of Sq & F & Pr(>F)\\\\\n",
       "  & <dbl> & <dbl> & <dbl> & <dbl> & <dbl> & <dbl>\\\\\n",
       "\\hline\n",
       "\t1 & 32 & 1.035355e-07 & NA &           NA &        NA &        NA\\\\\n",
       "\t2 & 30 & 9.887768e-08 &  2 & 4.657826e-09 & 0.7066043 & 0.5013423\\\\\n",
       "\\end{tabular}\n"
      ],
      "text/markdown": [
       "\n",
       "A anova: 2 × 6\n",
       "\n",
       "| <!--/--> | Res.Df &lt;dbl&gt; | RSS &lt;dbl&gt; | Df &lt;dbl&gt; | Sum of Sq &lt;dbl&gt; | F &lt;dbl&gt; | Pr(&gt;F) &lt;dbl&gt; |\n",
       "|---|---|---|---|---|---|---|\n",
       "| 1 | 32 | 1.035355e-07 | NA |           NA |        NA |        NA |\n",
       "| 2 | 30 | 9.887768e-08 |  2 | 4.657826e-09 | 0.7066043 | 0.5013423 |\n",
       "\n"
      ],
      "text/plain": [
       "  Res.Df RSS          Df Sum of Sq    F         Pr(>F)   \n",
       "1 32     1.035355e-07 NA           NA        NA        NA\n",
       "2 30     9.887768e-08  2 4.657826e-09 0.7066043 0.5013423"
      ]
     },
     "metadata": {},
     "output_type": "display_data"
    }
   ],
   "source": [
    "#[write your code here]\n",
    "#Ftest_3genes_add_full\n",
    "\n",
    "# your code here\n",
    "\n",
    "model_4 <- lm(prot ~ mrna + gene ,data = dat_3genes)\n",
    "\n",
    "model_5 <- lm(prot ~ mrna * gene, data = dat_3genes)\n",
    "\n",
    "Ftest_3genes_add_full <- anova(model_4, model_5)\n",
    "Ftest_3genes_add_full"
   ]
  },
  {
   "cell_type": "code",
   "execution_count": 5,
   "metadata": {
    "deletable": false,
    "editable": false,
    "nbgrader": {
     "cell_type": "code",
     "checksum": "f1fb11b3274586f0b9d7d887c5c73bb8",
     "grade": true,
     "grade_id": "cell-9520504e5a91abed",
     "locked": true,
     "points": 1,
     "schema_version": 3,
     "solution": false,
     "task": false
    },
    "tags": []
   },
   "outputs": [
    {
     "name": "stdout",
     "output_type": "stream",
     "text": [
      "\u001b[32mTest passed\u001b[39m 🌈\n",
      "\u001b[32mTest passed\u001b[39m 🥇\n",
      "[1] \"Success!\"\n"
     ]
    }
   ],
   "source": [
    "test_1.0()"
   ]
  },
  {
   "cell_type": "markdown",
   "metadata": {
    "deletable": false,
    "editable": false,
    "nbgrader": {
     "cell_type": "markdown",
     "checksum": "43a49f718713b9a7c2c49408b89c68af",
     "grade": false,
     "grade_id": "cell-633de4d02e393e13",
     "locked": true,
     "schema_version": 3,
     "solution": false,
     "task": false
    },
    "tags": []
   },
   "source": [
    "**Question 1.1**\n",
    "<br>{points: 1}\n",
    "\n",
    "Using a significance level $\\alpha = 0.05$ and the results in `Ftest_3genes_add_full`, in plain words, what is the conclusion from the results of the test run in **Question 1.0**?\n",
    "\n",
    "**A.** We reject the null hypothesis; thus, the *full* model is significatly better than the *reduced* model.\n",
    "\n",
    "**B.** We fail to reject the null hypothesis; thus, there is not enough evidence that the *full* model with additional interaction terms is better than the additive (reduced) model.\n",
    "\n",
    "**C.** We accept the alternative hypothesis; thus, the *full* model is significantly better than the *reduced* model.\n",
    "\n",
    "**D.** We do not accept the alternative hypothesis; thus, the *full* model with additional interaction terms is not better than the *reduced* model.\n",
    "\n",
    "*Assign your answer to an object called `answer1.1`. Your answer should be one of `\"A\"`, `\"B\"`, `\"C\"`, or `\"D\"` surrounded by quotes.*"
   ]
  },
  {
   "cell_type": "code",
   "execution_count": 6,
   "metadata": {
    "deletable": false,
    "nbgrader": {
     "cell_type": "code",
     "checksum": "c654b0916955f810231633dfe148c244",
     "grade": false,
     "grade_id": "cell-672ea5acf3fcd97f",
     "locked": false,
     "schema_version": 3,
     "solution": true,
     "task": false
    },
    "tags": []
   },
   "outputs": [],
   "source": [
    "# answer1.1 <- \n",
    "\n",
    "# your code here\n",
    "answer1.1 <- \"B\""
   ]
  },
  {
   "cell_type": "code",
   "execution_count": 7,
   "metadata": {
    "deletable": false,
    "editable": false,
    "nbgrader": {
     "cell_type": "code",
     "checksum": "811ec81626a1926884a1ae32ec0524ce",
     "grade": true,
     "grade_id": "cell-f510cd4a1479fd83",
     "locked": true,
     "points": 1,
     "schema_version": 3,
     "solution": false,
     "task": false
    },
    "tags": []
   },
   "outputs": [
    {
     "name": "stdout",
     "output_type": "stream",
     "text": [
      "\u001b[32mTest passed\u001b[39m 🎉\n",
      "\u001b[32mTest passed\u001b[39m 🥇\n",
      "\u001b[32mTest passed\u001b[39m 🥳\n",
      "[1] \"You are doing great!\"\n"
     ]
    }
   ],
   "source": [
    "test_1.1()"
   ]
  },
  {
   "cell_type": "markdown",
   "metadata": {
    "deletable": false,
    "editable": false,
    "nbgrader": {
     "cell_type": "markdown",
     "checksum": "80f37c7b193be99f1e6e0e2b6e3d619d",
     "grade": false,
     "grade_id": "cell-73ad156d14319434",
     "locked": true,
     "schema_version": 3,
     "solution": false,
     "task": false
    },
    "tags": []
   },
   "source": [
    "#### Assessing mRNA in the additive model\n",
    "\n",
    "As a final test, let's examine the significance of `mrna` in the additive model."
   ]
  },
  {
   "cell_type": "markdown",
   "metadata": {
    "deletable": false,
    "editable": false,
    "nbgrader": {
     "cell_type": "markdown",
     "checksum": "c01f6dded74091da16a61fbeb0d5633f",
     "grade": false,
     "grade_id": "cell-95e74ec3f56b4208",
     "locked": true,
     "schema_version": 3,
     "solution": false,
     "task": false
    },
    "tags": []
   },
   "source": [
    "**Question 1.2**\n",
    "<br>{points: 2}\n",
    "\n",
    "Compare the additive model with mRNA as an input and distinct intercepts per gene  (`model.4`) with a model without `mrna` and only the categorical variable `gene` as input variable (`model.3`). Note that the second model predicts protein levels with the average protein level within each gene!!\n",
    "\n",
    "Use the function `tidy()` to obtain a summary of the additive model. Include the corresponding asymptotic 90% confidence intervals. Store the results in an object called `add_mrna_results`.\n",
    "\n",
    "Use the function `anova()` to compare these models and store the results in an object called `Ftest_3genes_add_mrna`.\n",
    "\n",
    "*Fill out those parts indicated with `...`, uncomment the corresponding code in the cell below, and run it.*"
   ]
  },
  {
   "cell_type": "code",
   "execution_count": 8,
   "metadata": {
    "deletable": false,
    "nbgrader": {
     "cell_type": "code",
     "checksum": "1f1ed5b3084ea542d7c91d7e7a1ed206",
     "grade": false,
     "grade_id": "cell-620823d0f6deab4f",
     "locked": false,
     "schema_version": 3,
     "solution": true,
     "task": false
    },
    "tags": []
   },
   "outputs": [
    {
     "data": {
      "text/html": [
       "<table class=\"dataframe\">\n",
       "<caption>A tibble: 4 × 7</caption>\n",
       "<thead>\n",
       "\t<tr><th scope=col>term</th><th scope=col>estimate</th><th scope=col>std.error</th><th scope=col>statistic</th><th scope=col>p.value</th><th scope=col>conf.low</th><th scope=col>conf.high</th></tr>\n",
       "\t<tr><th scope=col>&lt;chr&gt;</th><th scope=col>&lt;dbl&gt;</th><th scope=col>&lt;dbl&gt;</th><th scope=col>&lt;dbl&gt;</th><th scope=col>&lt;dbl&gt;</th><th scope=col>&lt;dbl&gt;</th><th scope=col>&lt;dbl&gt;</th></tr>\n",
       "</thead>\n",
       "<tbody>\n",
       "\t<tr><td>(Intercept)        </td><td>-2.970840e-05</td><td>4.091307e-05</td><td>-0.7261349</td><td>0.4730341541</td><td>-9.901059e-05</td><td>3.959378e-05</td></tr>\n",
       "\t<tr><td>mrna               </td><td> 6.043032e-01</td><td>4.144523e-01</td><td> 1.4580767</td><td>0.1545649197</td><td>-9.773283e-02</td><td>1.306339e+00</td></tr>\n",
       "\t<tr><td>geneENSG00000143553</td><td> 3.446627e-05</td><td>3.617459e-05</td><td> 0.9527759</td><td>0.3478455325</td><td>-2.680945e-05</td><td>9.574200e-05</td></tr>\n",
       "\t<tr><td>geneENSG00000168497</td><td> 1.220579e-04</td><td>3.297606e-05</td><td> 3.7014098</td><td>0.0008038126</td><td> 6.620014e-05</td><td>1.779157e-04</td></tr>\n",
       "</tbody>\n",
       "</table>\n"
      ],
      "text/latex": [
       "A tibble: 4 × 7\n",
       "\\begin{tabular}{lllllll}\n",
       " term & estimate & std.error & statistic & p.value & conf.low & conf.high\\\\\n",
       " <chr> & <dbl> & <dbl> & <dbl> & <dbl> & <dbl> & <dbl>\\\\\n",
       "\\hline\n",
       "\t (Intercept)         & -2.970840e-05 & 4.091307e-05 & -0.7261349 & 0.4730341541 & -9.901059e-05 & 3.959378e-05\\\\\n",
       "\t mrna                &  6.043032e-01 & 4.144523e-01 &  1.4580767 & 0.1545649197 & -9.773283e-02 & 1.306339e+00\\\\\n",
       "\t geneENSG00000143553 &  3.446627e-05 & 3.617459e-05 &  0.9527759 & 0.3478455325 & -2.680945e-05 & 9.574200e-05\\\\\n",
       "\t geneENSG00000168497 &  1.220579e-04 & 3.297606e-05 &  3.7014098 & 0.0008038126 &  6.620014e-05 & 1.779157e-04\\\\\n",
       "\\end{tabular}\n"
      ],
      "text/markdown": [
       "\n",
       "A tibble: 4 × 7\n",
       "\n",
       "| term &lt;chr&gt; | estimate &lt;dbl&gt; | std.error &lt;dbl&gt; | statistic &lt;dbl&gt; | p.value &lt;dbl&gt; | conf.low &lt;dbl&gt; | conf.high &lt;dbl&gt; |\n",
       "|---|---|---|---|---|---|---|\n",
       "| (Intercept)         | -2.970840e-05 | 4.091307e-05 | -0.7261349 | 0.4730341541 | -9.901059e-05 | 3.959378e-05 |\n",
       "| mrna                |  6.043032e-01 | 4.144523e-01 |  1.4580767 | 0.1545649197 | -9.773283e-02 | 1.306339e+00 |\n",
       "| geneENSG00000143553 |  3.446627e-05 | 3.617459e-05 |  0.9527759 | 0.3478455325 | -2.680945e-05 | 9.574200e-05 |\n",
       "| geneENSG00000168497 |  1.220579e-04 | 3.297606e-05 |  3.7014098 | 0.0008038126 |  6.620014e-05 | 1.779157e-04 |\n",
       "\n"
      ],
      "text/plain": [
       "  term                estimate      std.error    statistic  p.value     \n",
       "1 (Intercept)         -2.970840e-05 4.091307e-05 -0.7261349 0.4730341541\n",
       "2 mrna                 6.043032e-01 4.144523e-01  1.4580767 0.1545649197\n",
       "3 geneENSG00000143553  3.446627e-05 3.617459e-05  0.9527759 0.3478455325\n",
       "4 geneENSG00000168497  1.220579e-04 3.297606e-05  3.7014098 0.0008038126\n",
       "  conf.low      conf.high   \n",
       "1 -9.901059e-05 3.959378e-05\n",
       "2 -9.773283e-02 1.306339e+00\n",
       "3 -2.680945e-05 9.574200e-05\n",
       "4  6.620014e-05 1.779157e-04"
      ]
     },
     "metadata": {},
     "output_type": "display_data"
    },
    {
     "data": {
      "text/html": [
       "<table class=\"dataframe\">\n",
       "<caption>A anova: 2 × 6</caption>\n",
       "<thead>\n",
       "\t<tr><th></th><th scope=col>Res.Df</th><th scope=col>RSS</th><th scope=col>Df</th><th scope=col>Sum of Sq</th><th scope=col>F</th><th scope=col>Pr(&gt;F)</th></tr>\n",
       "\t<tr><th></th><th scope=col>&lt;dbl&gt;</th><th scope=col>&lt;dbl&gt;</th><th scope=col>&lt;dbl&gt;</th><th scope=col>&lt;dbl&gt;</th><th scope=col>&lt;dbl&gt;</th><th scope=col>&lt;dbl&gt;</th></tr>\n",
       "</thead>\n",
       "<tbody>\n",
       "\t<tr><th scope=row>1</th><td>32</td><td>1.035355e-07</td><td>NA</td><td>         NA</td><td>      NA</td><td>       NA</td></tr>\n",
       "\t<tr><th scope=row>2</th><td>33</td><td>1.104141e-07</td><td>-1</td><td>-6.8786e-09</td><td>2.125988</td><td>0.1545649</td></tr>\n",
       "</tbody>\n",
       "</table>\n"
      ],
      "text/latex": [
       "A anova: 2 × 6\n",
       "\\begin{tabular}{r|llllll}\n",
       "  & Res.Df & RSS & Df & Sum of Sq & F & Pr(>F)\\\\\n",
       "  & <dbl> & <dbl> & <dbl> & <dbl> & <dbl> & <dbl>\\\\\n",
       "\\hline\n",
       "\t1 & 32 & 1.035355e-07 & NA &          NA &       NA &        NA\\\\\n",
       "\t2 & 33 & 1.104141e-07 & -1 & -6.8786e-09 & 2.125988 & 0.1545649\\\\\n",
       "\\end{tabular}\n"
      ],
      "text/markdown": [
       "\n",
       "A anova: 2 × 6\n",
       "\n",
       "| <!--/--> | Res.Df &lt;dbl&gt; | RSS &lt;dbl&gt; | Df &lt;dbl&gt; | Sum of Sq &lt;dbl&gt; | F &lt;dbl&gt; | Pr(&gt;F) &lt;dbl&gt; |\n",
       "|---|---|---|---|---|---|---|\n",
       "| 1 | 32 | 1.035355e-07 | NA |          NA |       NA |        NA |\n",
       "| 2 | 33 | 1.104141e-07 | -1 | -6.8786e-09 | 2.125988 | 0.1545649 |\n",
       "\n"
      ],
      "text/plain": [
       "  Res.Df RSS          Df Sum of Sq   F        Pr(>F)   \n",
       "1 32     1.035355e-07 NA          NA       NA        NA\n",
       "2 33     1.104141e-07 -1 -6.8786e-09 2.125988 0.1545649"
      ]
     },
     "metadata": {},
     "output_type": "display_data"
    }
   ],
   "source": [
    "#[write your code here]\n",
    "\n",
    "#add_mrna_results <- ...\n",
    "#Ftest_3genes_add_mrna <- ...\n",
    "\n",
    "# your code here\n",
    "full_model <- lm(prot ~ mrna + gene ,data = dat_3genes)\n",
    "red_model <- lm(prot ~ gene ,data = dat_3genes)\n",
    "\n",
    "add_mrna_results <- tidy(full_model, conf.int = TRUE, conf.level = 0.90)\n",
    "add_mrna_results\n",
    "\n",
    "Ftest_3genes_add_mrna <- anova(full_model, red_model)\n",
    "Ftest_3genes_add_mrna                               "
   ]
  },
  {
   "cell_type": "code",
   "execution_count": 9,
   "metadata": {
    "deletable": false,
    "editable": false,
    "nbgrader": {
     "cell_type": "code",
     "checksum": "2700f1df14ee1375ee05dd2f6f323e26",
     "grade": true,
     "grade_id": "cell-9b6acf3241aeeb8e",
     "locked": true,
     "points": 2,
     "schema_version": 3,
     "solution": false,
     "task": false
    },
    "tags": []
   },
   "outputs": [
    {
     "name": "stdout",
     "output_type": "stream",
     "text": [
      "\u001b[32mTest passed\u001b[39m 🥇\n",
      "\u001b[32mTest passed\u001b[39m 😸\n",
      "\u001b[32mTest passed\u001b[39m 🎉\n",
      "\u001b[32mTest passed\u001b[39m 🥇\n",
      "\u001b[32mTest passed\u001b[39m 😸\n",
      "\u001b[32mTest passed\u001b[39m 😸\n",
      "\u001b[32mTest passed\u001b[39m 😀\n",
      "\u001b[32mTest passed\u001b[39m 🎉\n",
      "\u001b[32mTest passed\u001b[39m 😀\n",
      "\u001b[32mTest passed\u001b[39m 😀\n",
      "[1] \"Success!\"\n",
      "\u001b[32mTest passed\u001b[39m 🎊\n",
      "\u001b[32mTest passed\u001b[39m 🎊\n",
      "[1] \"Success!\"\n"
     ]
    }
   ],
   "source": [
    "test_1.2.0()\n",
    "test_1.2.1()"
   ]
  },
  {
   "cell_type": "markdown",
   "metadata": {
    "deletable": false,
    "editable": false,
    "nbgrader": {
     "cell_type": "markdown",
     "checksum": "eab9d791c2502a60fcec95ab41a6e6e1",
     "grade": false,
     "grade_id": "cell-2278371543391218",
     "locked": true,
     "schema_version": 3,
     "solution": false,
     "task": false
    },
    "tags": []
   },
   "source": [
    "**Question 1.3**\n",
    "<br>{points: 2}\n",
    "\n",
    "Compare the $p$-value for `mrna` in `add_mrna_results` with that reported in `Ftest_3genes_add_mrna`. What do you observe? Indicate the null hypotheses tested in each case and explain the results."
   ]
  },
  {
   "cell_type": "markdown",
   "metadata": {
    "deletable": false,
    "nbgrader": {
     "cell_type": "markdown",
     "checksum": "f0f24c741ebf551d2ce4b09f3b6a0e1f",
     "grade": true,
     "grade_id": "cell-46d78ce68383a2a1",
     "locked": false,
     "points": 2,
     "schema_version": 3,
     "solution": true,
     "task": false
    },
    "tags": []
   },
   "source": [
    "> *Your explanation of the results goes here.*\n",
    "\n",
    "The p-value for mRNA in the \"add_mrna_results\" is 0.1545649197, which is the same as the p-value that is reported in the \"Ftest_3genes_add_mrna\" for comparing the models, which is 0.1545649. These p-values indicate that mRNA variable does not significantly improve the fit of model 4. Since the p-value is greater than 0.10 and a significance level of 0.10, I can interpret that this mRNA variable not being a statistically significant predictor."
   ]
  },
  {
   "cell_type": "markdown",
   "metadata": {
    "deletable": false,
    "editable": false,
    "nbgrader": {
     "cell_type": "markdown",
     "checksum": "0253b0195de4d848fa6f63bb98de0d1a",
     "grade": false,
     "grade_id": "cell-c096bd3acbd91392",
     "locked": true,
     "schema_version": 3,
     "solution": false,
     "task": false
    }
   },
   "source": [
    "**Question 1.4**\n",
    "<br>{points: 1}\n",
    "\n",
    "Using a **significance level $\\alpha = 0.10$** and the results in `add_mrna_results`, which of the following claims is correct? \n",
    "\n",
    "**A.** The `model.4` that includes `mrna` is significatly different from `model.3`.\n",
    "\n",
    "**B.** There is not enough evidence that the `model.4` that includes `mrna` as a predictor is significatly better than `model.3`.\n",
    "\n",
    "**C.** The `model.4` that includes `mrna` as a predictor is equivalent to `model.3` since the coefficient for `mrna` is not significantly different from zero.\n",
    "\n",
    "**D.** The variable `mrna` is essencial to predict protein levels.\n",
    "\n",
    "*Assign your answer to an object called `answer1.4`. Your answer should be one of `\"A\"`, `\"B\"`, `\"C\"`, or `\"D\"` surrounded by quotes.*"
   ]
  },
  {
   "cell_type": "code",
   "execution_count": 10,
   "metadata": {
    "deletable": false,
    "nbgrader": {
     "cell_type": "code",
     "checksum": "f923f45f08e4b5253c508a2fbf301563",
     "grade": false,
     "grade_id": "cell-526e7a36d70d7656",
     "locked": false,
     "schema_version": 3,
     "solution": true,
     "task": false
    },
    "tags": []
   },
   "outputs": [],
   "source": [
    "# answer1.4 <- \n",
    "\n",
    "# your code here\n",
    "answer1.4 <- \"B\""
   ]
  },
  {
   "cell_type": "code",
   "execution_count": 11,
   "metadata": {
    "deletable": false,
    "editable": false,
    "nbgrader": {
     "cell_type": "code",
     "checksum": "a19dd2e3dcbac430d9aa8d65e9044296",
     "grade": true,
     "grade_id": "cell-eaee9f2280c396a0",
     "locked": true,
     "points": 1,
     "schema_version": 3,
     "solution": false,
     "task": false
    },
    "tags": []
   },
   "outputs": [
    {
     "name": "stdout",
     "output_type": "stream",
     "text": [
      "\u001b[32mTest passed\u001b[39m 🥇\n",
      "\u001b[32mTest passed\u001b[39m 🌈\n",
      "\u001b[32mTest passed\u001b[39m 🎊\n",
      "[1] \"Success!\"\n"
     ]
    }
   ],
   "source": [
    "test_1.4()"
   ]
  },
  {
   "cell_type": "markdown",
   "metadata": {
    "deletable": false,
    "editable": false,
    "nbgrader": {
     "cell_type": "markdown",
     "checksum": "e2766e39287ee322f07995a4504db3f0",
     "grade": false,
     "grade_id": "cell-1aacaa45a46be49a",
     "locked": true,
     "schema_version": 3,
     "solution": false,
     "task": false
    }
   },
   "source": [
    "**Question 1.5**\n",
    "<br>{points: 4}\n",
    "\n",
    "a) We can use the adjusted $R^2$ to compare the goodness-of-fit of `model.5` and `model.4` to conclude which one fits the data better. Use the function `glance()` to obtain these values and discuss the results obtained. \n",
    "\n",
    "b) Compare the $R^2$ for both models and explain why that of `model.5` is larger."
   ]
  },
  {
   "cell_type": "code",
   "execution_count": 12,
   "metadata": {
    "deletable": false,
    "nbgrader": {
     "cell_type": "code",
     "checksum": "798c513b8a42b7ab0cc50bfead4cb95f",
     "grade": false,
     "grade_id": "cell-8949d93baadc071a",
     "locked": false,
     "schema_version": 3,
     "solution": true,
     "task": false
    },
    "tags": []
   },
   "outputs": [
    {
     "data": {
      "text/html": [
       "<table class=\"dataframe\">\n",
       "<caption>A tibble: 1 × 12</caption>\n",
       "<thead>\n",
       "\t<tr><th scope=col>r.squared</th><th scope=col>adj.r.squared</th><th scope=col>sigma</th><th scope=col>statistic</th><th scope=col>p.value</th><th scope=col>df</th><th scope=col>logLik</th><th scope=col>AIC</th><th scope=col>BIC</th><th scope=col>deviance</th><th scope=col>df.residual</th><th scope=col>nobs</th></tr>\n",
       "\t<tr><th scope=col>&lt;dbl&gt;</th><th scope=col>&lt;dbl&gt;</th><th scope=col>&lt;dbl&gt;</th><th scope=col>&lt;dbl&gt;</th><th scope=col>&lt;dbl&gt;</th><th scope=col>&lt;dbl&gt;</th><th scope=col>&lt;dbl&gt;</th><th scope=col>&lt;dbl&gt;</th><th scope=col>&lt;dbl&gt;</th><th scope=col>&lt;dbl&gt;</th><th scope=col>&lt;int&gt;</th><th scope=col>&lt;int&gt;</th></tr>\n",
       "</thead>\n",
       "<tbody>\n",
       "\t<tr><td>0.4142025</td><td>0.3592839</td><td>5.688132e-05</td><td>7.542127</td><td>0.0005944789</td><td>3</td><td>302.9219</td><td>-595.8438</td><td>-587.9262</td><td>1.035355e-07</td><td>32</td><td>36</td></tr>\n",
       "</tbody>\n",
       "</table>\n"
      ],
      "text/latex": [
       "A tibble: 1 × 12\n",
       "\\begin{tabular}{llllllllllll}\n",
       " r.squared & adj.r.squared & sigma & statistic & p.value & df & logLik & AIC & BIC & deviance & df.residual & nobs\\\\\n",
       " <dbl> & <dbl> & <dbl> & <dbl> & <dbl> & <dbl> & <dbl> & <dbl> & <dbl> & <dbl> & <int> & <int>\\\\\n",
       "\\hline\n",
       "\t 0.4142025 & 0.3592839 & 5.688132e-05 & 7.542127 & 0.0005944789 & 3 & 302.9219 & -595.8438 & -587.9262 & 1.035355e-07 & 32 & 36\\\\\n",
       "\\end{tabular}\n"
      ],
      "text/markdown": [
       "\n",
       "A tibble: 1 × 12\n",
       "\n",
       "| r.squared &lt;dbl&gt; | adj.r.squared &lt;dbl&gt; | sigma &lt;dbl&gt; | statistic &lt;dbl&gt; | p.value &lt;dbl&gt; | df &lt;dbl&gt; | logLik &lt;dbl&gt; | AIC &lt;dbl&gt; | BIC &lt;dbl&gt; | deviance &lt;dbl&gt; | df.residual &lt;int&gt; | nobs &lt;int&gt; |\n",
       "|---|---|---|---|---|---|---|---|---|---|---|---|\n",
       "| 0.4142025 | 0.3592839 | 5.688132e-05 | 7.542127 | 0.0005944789 | 3 | 302.9219 | -595.8438 | -587.9262 | 1.035355e-07 | 32 | 36 |\n",
       "\n"
      ],
      "text/plain": [
       "  r.squared adj.r.squared sigma        statistic p.value      df logLik  \n",
       "1 0.4142025 0.3592839     5.688132e-05 7.542127  0.0005944789 3  302.9219\n",
       "  AIC       BIC       deviance     df.residual nobs\n",
       "1 -595.8438 -587.9262 1.035355e-07 32          36  "
      ]
     },
     "metadata": {},
     "output_type": "display_data"
    },
    {
     "data": {
      "text/html": [
       "<table class=\"dataframe\">\n",
       "<caption>A tibble: 1 × 12</caption>\n",
       "<thead>\n",
       "\t<tr><th scope=col>r.squared</th><th scope=col>adj.r.squared</th><th scope=col>sigma</th><th scope=col>statistic</th><th scope=col>p.value</th><th scope=col>df</th><th scope=col>logLik</th><th scope=col>AIC</th><th scope=col>BIC</th><th scope=col>deviance</th><th scope=col>df.residual</th><th scope=col>nobs</th></tr>\n",
       "\t<tr><th scope=col>&lt;dbl&gt;</th><th scope=col>&lt;dbl&gt;</th><th scope=col>&lt;dbl&gt;</th><th scope=col>&lt;dbl&gt;</th><th scope=col>&lt;dbl&gt;</th><th scope=col>&lt;dbl&gt;</th><th scope=col>&lt;dbl&gt;</th><th scope=col>&lt;dbl&gt;</th><th scope=col>&lt;dbl&gt;</th><th scope=col>&lt;dbl&gt;</th><th scope=col>&lt;int&gt;</th><th scope=col>&lt;int&gt;</th></tr>\n",
       "</thead>\n",
       "<tbody>\n",
       "\t<tr><td>0.4405562</td><td>0.3473155</td><td>5.741013e-05</td><td>4.724937</td><td>0.002663059</td><td>5</td><td>303.7504</td><td>-593.5009</td><td>-582.4162</td><td>9.887768e-08</td><td>30</td><td>36</td></tr>\n",
       "</tbody>\n",
       "</table>\n"
      ],
      "text/latex": [
       "A tibble: 1 × 12\n",
       "\\begin{tabular}{llllllllllll}\n",
       " r.squared & adj.r.squared & sigma & statistic & p.value & df & logLik & AIC & BIC & deviance & df.residual & nobs\\\\\n",
       " <dbl> & <dbl> & <dbl> & <dbl> & <dbl> & <dbl> & <dbl> & <dbl> & <dbl> & <dbl> & <int> & <int>\\\\\n",
       "\\hline\n",
       "\t 0.4405562 & 0.3473155 & 5.741013e-05 & 4.724937 & 0.002663059 & 5 & 303.7504 & -593.5009 & -582.4162 & 9.887768e-08 & 30 & 36\\\\\n",
       "\\end{tabular}\n"
      ],
      "text/markdown": [
       "\n",
       "A tibble: 1 × 12\n",
       "\n",
       "| r.squared &lt;dbl&gt; | adj.r.squared &lt;dbl&gt; | sigma &lt;dbl&gt; | statistic &lt;dbl&gt; | p.value &lt;dbl&gt; | df &lt;dbl&gt; | logLik &lt;dbl&gt; | AIC &lt;dbl&gt; | BIC &lt;dbl&gt; | deviance &lt;dbl&gt; | df.residual &lt;int&gt; | nobs &lt;int&gt; |\n",
       "|---|---|---|---|---|---|---|---|---|---|---|---|\n",
       "| 0.4405562 | 0.3473155 | 5.741013e-05 | 4.724937 | 0.002663059 | 5 | 303.7504 | -593.5009 | -582.4162 | 9.887768e-08 | 30 | 36 |\n",
       "\n"
      ],
      "text/plain": [
       "  r.squared adj.r.squared sigma        statistic p.value     df logLik  \n",
       "1 0.4405562 0.3473155     5.741013e-05 4.724937  0.002663059 5  303.7504\n",
       "  AIC       BIC       deviance     df.residual nobs\n",
       "1 -593.5009 -582.4162 9.887768e-08 30          36  "
      ]
     },
     "metadata": {},
     "output_type": "display_data"
    },
    {
     "data": {
      "text/html": [
       "0.414202460935328"
      ],
      "text/latex": [
       "0.414202460935328"
      ],
      "text/markdown": [
       "0.414202460935328"
      ],
      "text/plain": [
       "[1] 0.4142025"
      ]
     },
     "metadata": {},
     "output_type": "display_data"
    },
    {
     "data": {
      "text/html": [
       "0.44055615767589"
      ],
      "text/latex": [
       "0.44055615767589"
      ],
      "text/markdown": [
       "0.44055615767589"
      ],
      "text/plain": [
       "[1] 0.4405562"
      ]
     },
     "metadata": {},
     "output_type": "display_data"
    }
   ],
   "source": [
    "# Your code and numerical results go here. We will grade this cell manually\n",
    "\n",
    "# your code here\n",
    "# Part A\n",
    "model.4 <- glance(model_4)\n",
    "model.5 <- glance(model_5)\n",
    "\n",
    "model.4\n",
    "model.5\n",
    "\n",
    "# Part B\n",
    "\n",
    "adjusted_r_squared_model_4 <- glance(model_4)$r.squared\n",
    "adjusted_r_squared_model_5 <- glance(model_5)$r.squared\n",
    "\n",
    "adjusted_r_squared_model_4\n",
    "adjusted_r_squared_model_5"
   ]
  },
  {
   "cell_type": "markdown",
   "metadata": {
    "deletable": false,
    "nbgrader": {
     "cell_type": "markdown",
     "checksum": "0959dcbbe4b562e5053fff0e9504dfd1",
     "grade": true,
     "grade_id": "cell-f810ee382faddccf",
     "locked": false,
     "points": 4,
     "schema_version": 3,
     "solution": true,
     "task": false
    },
    "tags": []
   },
   "source": [
    "> *Your explanation of the results goes here.*\n",
    "\n",
    "Model 5 has a higher $R^2$ value compared to Model 4, which could be attributed to the inclusion of interaction terms between categorical variable of gene(especially 2 and 3) and mRNA. These interaction terms might be capturing additional variance in the protein levels. Therefore model 5 has more higher $R^2$ than model 4."
   ]
  },
  {
   "cell_type": "markdown",
   "metadata": {
    "deletable": false,
    "editable": false,
    "nbgrader": {
     "cell_type": "markdown",
     "checksum": "e14d0a248c46554caf6cdd33a4274afc",
     "grade": false,
     "grade_id": "cell-780f1094bba1bb0f",
     "locked": true,
     "schema_version": 3,
     "solution": false,
     "task": false
    },
    "tags": []
   },
   "source": [
    "# 2. Model selection\n",
    "\n",
    "In this section you will use the **backward selection** algorithm to construct a generative model. \n",
    "\n",
    "> Note that the choice of which algorithm to use in each case was arbitrary and you can play with these algorithms and try other choices!"
   ]
  },
  {
   "cell_type": "markdown",
   "metadata": {
    "deletable": false,
    "editable": false,
    "nbgrader": {
     "cell_type": "markdown",
     "checksum": "23c54e57b3d4bd9e3eee868770609def",
     "grade": false,
     "grade_id": "cell-5db1ec8ab7f6c357",
     "locked": true,
     "schema_version": 3,
     "solution": false,
     "task": false
    },
    "tags": []
   },
   "source": [
    "Let us start by loading the dataset to be used throughout this tutorial. We will use the dataset `fat` from the library `faraway`. You can find detailed information about it in [Johnson (1996)](https://www.tandfonline.com/doi/full/10.1080/10691898.1996.11910505). This dataset contains the percentage of body fat and a whole variety of body measurements (continuous variables) of 252 men. We will use the variable `brozek` as the response variable and a subset 14 variables to build different models. \n",
    "\n",
    "The response variable `brozek` is the percent of body fat using Brozek's equation:\n",
    "\n",
    "$$\\texttt{brozek} = \\frac{457}{\\texttt{density}} - 414.2,$$\n",
    "\n",
    "where body `density` is measured in $\\text{g}/\\text{cm}^3$.\n",
    "\n",
    "The 14 input variables are:\n",
    "\n",
    "- `age`: Age in $\\text{years}$.\n",
    "- `weight`: Weight in $\\text{lb}$.\n",
    "- `height`: Height in $\\text{in}$.\n",
    "- `adipos`: Adiposity index in $\\text{kg}/\\text{m}^2$.\n",
    "\n",
    "$$\\texttt{adipos} = \\frac{\\texttt{weight}}{\\texttt{height}^2}$$\n",
    "\n",
    "- `neck`: Neck circumference in $\\text{cm}$.\n",
    "- `chest`: Chest circumference in $\\text{cm}$.\n",
    "- `abdom`: Abdomen circumference at the umbilicus and level with the iliac crest in $\\text{cm}$.\n",
    "- `hip`: Hip circumference in $\\text{cm}$.\n",
    "- `thigh`: Thigh circumference in $\\text{cm}$.\n",
    "- `knee`: Knee circumference in $\\text{cm}$.\n",
    "- `ankle`: Ankle circumference in $\\text{cm}$.\n",
    "- `biceps`: Extended biceps circumference in $\\text{cm}$.\n",
    "- `forearm`: Forearm circumference in $\\text{cm}$.\n",
    "- `wrist`: Wrist circumference distal to the styloid processes in $\\text{cm}$.\n",
    "\n",
    "Run the code below to create the working data frame called `fat_sample`."
   ]
  },
  {
   "cell_type": "code",
   "execution_count": 13,
   "metadata": {
    "deletable": false,
    "editable": false,
    "nbgrader": {
     "cell_type": "code",
     "checksum": "7565e74c203a8b63c5e873aec7837799",
     "grade": false,
     "grade_id": "cell-03998f31dc8342ba",
     "locked": true,
     "schema_version": 3,
     "solution": false,
     "task": false
    },
    "tags": []
   },
   "outputs": [
    {
     "data": {
      "text/html": [
       "<table class=\"dataframe\">\n",
       "<caption>A data.frame: 3 × 15</caption>\n",
       "<thead>\n",
       "\t<tr><th></th><th scope=col>brozek</th><th scope=col>age</th><th scope=col>weight</th><th scope=col>height</th><th scope=col>adipos</th><th scope=col>neck</th><th scope=col>chest</th><th scope=col>abdom</th><th scope=col>hip</th><th scope=col>thigh</th><th scope=col>knee</th><th scope=col>ankle</th><th scope=col>biceps</th><th scope=col>forearm</th><th scope=col>wrist</th></tr>\n",
       "\t<tr><th></th><th scope=col>&lt;dbl&gt;</th><th scope=col>&lt;int&gt;</th><th scope=col>&lt;dbl&gt;</th><th scope=col>&lt;dbl&gt;</th><th scope=col>&lt;dbl&gt;</th><th scope=col>&lt;dbl&gt;</th><th scope=col>&lt;dbl&gt;</th><th scope=col>&lt;dbl&gt;</th><th scope=col>&lt;dbl&gt;</th><th scope=col>&lt;dbl&gt;</th><th scope=col>&lt;dbl&gt;</th><th scope=col>&lt;dbl&gt;</th><th scope=col>&lt;dbl&gt;</th><th scope=col>&lt;dbl&gt;</th><th scope=col>&lt;dbl&gt;</th></tr>\n",
       "</thead>\n",
       "<tbody>\n",
       "\t<tr><th scope=row>1</th><td>12.6</td><td>23</td><td>154.25</td><td>67.75</td><td>23.7</td><td>36.2</td><td>93.1</td><td>85.2</td><td>94.5</td><td>59.0</td><td>37.3</td><td>21.9</td><td>32.0</td><td>27.4</td><td>17.1</td></tr>\n",
       "\t<tr><th scope=row>2</th><td> 6.9</td><td>22</td><td>173.25</td><td>72.25</td><td>23.4</td><td>38.5</td><td>93.6</td><td>83.0</td><td>98.7</td><td>58.7</td><td>37.3</td><td>23.4</td><td>30.5</td><td>28.9</td><td>18.2</td></tr>\n",
       "\t<tr><th scope=row>3</th><td>24.6</td><td>22</td><td>154.00</td><td>66.25</td><td>24.7</td><td>34.0</td><td>95.8</td><td>87.9</td><td>99.2</td><td>59.6</td><td>38.9</td><td>24.0</td><td>28.8</td><td>25.2</td><td>16.6</td></tr>\n",
       "</tbody>\n",
       "</table>\n"
      ],
      "text/latex": [
       "A data.frame: 3 × 15\n",
       "\\begin{tabular}{r|lllllllllllllll}\n",
       "  & brozek & age & weight & height & adipos & neck & chest & abdom & hip & thigh & knee & ankle & biceps & forearm & wrist\\\\\n",
       "  & <dbl> & <int> & <dbl> & <dbl> & <dbl> & <dbl> & <dbl> & <dbl> & <dbl> & <dbl> & <dbl> & <dbl> & <dbl> & <dbl> & <dbl>\\\\\n",
       "\\hline\n",
       "\t1 & 12.6 & 23 & 154.25 & 67.75 & 23.7 & 36.2 & 93.1 & 85.2 & 94.5 & 59.0 & 37.3 & 21.9 & 32.0 & 27.4 & 17.1\\\\\n",
       "\t2 &  6.9 & 22 & 173.25 & 72.25 & 23.4 & 38.5 & 93.6 & 83.0 & 98.7 & 58.7 & 37.3 & 23.4 & 30.5 & 28.9 & 18.2\\\\\n",
       "\t3 & 24.6 & 22 & 154.00 & 66.25 & 24.7 & 34.0 & 95.8 & 87.9 & 99.2 & 59.6 & 38.9 & 24.0 & 28.8 & 25.2 & 16.6\\\\\n",
       "\\end{tabular}\n"
      ],
      "text/markdown": [
       "\n",
       "A data.frame: 3 × 15\n",
       "\n",
       "| <!--/--> | brozek &lt;dbl&gt; | age &lt;int&gt; | weight &lt;dbl&gt; | height &lt;dbl&gt; | adipos &lt;dbl&gt; | neck &lt;dbl&gt; | chest &lt;dbl&gt; | abdom &lt;dbl&gt; | hip &lt;dbl&gt; | thigh &lt;dbl&gt; | knee &lt;dbl&gt; | ankle &lt;dbl&gt; | biceps &lt;dbl&gt; | forearm &lt;dbl&gt; | wrist &lt;dbl&gt; |\n",
       "|---|---|---|---|---|---|---|---|---|---|---|---|---|---|---|---|\n",
       "| 1 | 12.6 | 23 | 154.25 | 67.75 | 23.7 | 36.2 | 93.1 | 85.2 | 94.5 | 59.0 | 37.3 | 21.9 | 32.0 | 27.4 | 17.1 |\n",
       "| 2 |  6.9 | 22 | 173.25 | 72.25 | 23.4 | 38.5 | 93.6 | 83.0 | 98.7 | 58.7 | 37.3 | 23.4 | 30.5 | 28.9 | 18.2 |\n",
       "| 3 | 24.6 | 22 | 154.00 | 66.25 | 24.7 | 34.0 | 95.8 | 87.9 | 99.2 | 59.6 | 38.9 | 24.0 | 28.8 | 25.2 | 16.6 |\n",
       "\n"
      ],
      "text/plain": [
       "  brozek age weight height adipos neck chest abdom hip  thigh knee ankle biceps\n",
       "1 12.6   23  154.25 67.75  23.7   36.2 93.1  85.2  94.5 59.0  37.3 21.9  32.0  \n",
       "2  6.9   22  173.25 72.25  23.4   38.5 93.6  83.0  98.7 58.7  37.3 23.4  30.5  \n",
       "3 24.6   22  154.00 66.25  24.7   34.0 95.8  87.9  99.2 59.6  38.9 24.0  28.8  \n",
       "  forearm wrist\n",
       "1 27.4    17.1 \n",
       "2 28.9    18.2 \n",
       "3 25.2    16.6 "
      ]
     },
     "metadata": {},
     "output_type": "display_data"
    }
   ],
   "source": [
    "# run this cell\n",
    "\n",
    "fat_sample <- fat %>%\n",
    "  select(\n",
    "    brozek, age, weight, height, adipos, neck, chest, abdom,\n",
    "    hip, thigh, knee, ankle, biceps, forearm, wrist\n",
    "  )\n",
    "\n",
    "head(fat_sample,3)"
   ]
  },
  {
   "cell_type": "markdown",
   "metadata": {
    "deletable": false,
    "editable": false,
    "nbgrader": {
     "cell_type": "markdown",
     "checksum": "0ff3785d791913bc000a680e1f41a971",
     "grade": false,
     "grade_id": "cell-5dcb4d940b3e62e9",
     "locked": true,
     "schema_version": 3,
     "solution": false,
     "task": false
    },
    "tags": []
   },
   "source": [
    "### Selecting a generative model\n",
    "\n",
    "Although many potential input variables are available in the dataset, not all may be relevant to explain the variation of the response variable. The *subset* algorithms learned in the lecture can be used to select a subset of variable to build generative models. \n",
    "\n",
    "Generative models are built and trained to examine the association between the response and the input variables. \n",
    "\n",
    "Since the same data can not be used to select and to make inference, we need 2 different datasets: a *selection* set and a *training* set. If two independent datasets are not available to select and build a generative model, we can use the data in hand and split it to create these datasets. \n",
    "\n",
    "> using the same data to select and estimate violates the assumptions of the analysis and invalidate inference results. This problem is known as a *post-inference* problem and will be further discuss in future lectures. \n",
    "\n",
    "In the following questions, we will use the *backward* selection algorithm and the *adjusted* $R^2$ to select a smaller model. "
   ]
  },
  {
   "cell_type": "markdown",
   "metadata": {
    "deletable": false,
    "editable": false,
    "nbgrader": {
     "cell_type": "markdown",
     "checksum": "d97be6b08f10914bbc8b5c1a98910052",
     "grade": false,
     "grade_id": "cell-36a56e9d55bdb89f",
     "locked": true,
     "schema_version": 3,
     "solution": false,
     "task": false
    },
    "tags": []
   },
   "source": [
    "**Question 2.0**\n",
    "<br>{points: 1}\n",
    "\n",
    "Let's start by randomly splitting `fat_sample` in two sets on a 70-30% basis: `training_fat` (70% of the data) and `second_set_fat` (the remaining 30%). The selection will be done using the `second_set_fat` dataset and the model will be built using the `training_fat` data.\n",
    "\n",
    "Follow the next 3 steps to complete the code below:\n",
    "\n",
    "1. Create an `ID` column in `fat_sample` (i.e., `fat_sample$ID`) with the row number corresponding to each man in the sample.\n",
    "\n",
    "2. Use the function `sample_n()` to create `training_fat` (sampling *without* replacement) with 70\\% of the observations coming from `fat_sample`.\n",
    "\n",
    "3. Use `anti_join()` with `fat_sample` and `training_fat` to create `second_set_fat` by column `ID`.\n",
    "\n",
    "4. Remove the variable `ID` used to split the data\n",
    "\n",
    "*Fill out those parts indicated with `...`, uncomment the corresponding code in the cell below, and run it.*"
   ]
  },
  {
   "cell_type": "code",
   "execution_count": 14,
   "metadata": {
    "deletable": false,
    "nbgrader": {
     "cell_type": "code",
     "checksum": "5f31f55c1e2cdbc6b3e88c57fdb3857e",
     "grade": false,
     "grade_id": "cell-88095657b7ef5e0d",
     "locked": false,
     "schema_version": 3,
     "solution": true,
     "task": false
    },
    "tags": []
   },
   "outputs": [
    {
     "data": {
      "text/html": [
       "<table class=\"dataframe\">\n",
       "<caption>A data.frame: 6 × 15</caption>\n",
       "<thead>\n",
       "\t<tr><th></th><th scope=col>brozek</th><th scope=col>age</th><th scope=col>weight</th><th scope=col>height</th><th scope=col>adipos</th><th scope=col>neck</th><th scope=col>chest</th><th scope=col>abdom</th><th scope=col>hip</th><th scope=col>thigh</th><th scope=col>knee</th><th scope=col>ankle</th><th scope=col>biceps</th><th scope=col>forearm</th><th scope=col>wrist</th></tr>\n",
       "\t<tr><th></th><th scope=col>&lt;dbl&gt;</th><th scope=col>&lt;int&gt;</th><th scope=col>&lt;dbl&gt;</th><th scope=col>&lt;dbl&gt;</th><th scope=col>&lt;dbl&gt;</th><th scope=col>&lt;dbl&gt;</th><th scope=col>&lt;dbl&gt;</th><th scope=col>&lt;dbl&gt;</th><th scope=col>&lt;dbl&gt;</th><th scope=col>&lt;dbl&gt;</th><th scope=col>&lt;dbl&gt;</th><th scope=col>&lt;dbl&gt;</th><th scope=col>&lt;dbl&gt;</th><th scope=col>&lt;dbl&gt;</th><th scope=col>&lt;dbl&gt;</th></tr>\n",
       "</thead>\n",
       "<tbody>\n",
       "\t<tr><th scope=row>159</th><td>12.8</td><td>30</td><td>136.50</td><td>68.75</td><td>20.3</td><td>35.9</td><td> 88.7</td><td> 76.6</td><td> 89.8</td><td>50.1</td><td>34.8</td><td>21.8</td><td>27.0</td><td>34.9</td><td>16.9</td></tr>\n",
       "\t<tr><th scope=row>207</th><td>31.7</td><td>44</td><td>166.00</td><td>65.50</td><td>27.2</td><td>39.1</td><td>100.6</td><td> 93.9</td><td>100.1</td><td>58.9</td><td>37.6</td><td>21.4</td><td>33.1</td><td>29.5</td><td>17.3</td></tr>\n",
       "\t<tr><th scope=row>179</th><td>22.0</td><td>38</td><td>187.25</td><td>69.25</td><td>27.5</td><td>38.0</td><td>102.7</td><td> 92.7</td><td>101.9</td><td>64.7</td><td>39.5</td><td>24.7</td><td>34.8</td><td>30.3</td><td>18.1</td></tr>\n",
       "\t<tr><th scope=row>14</th><td>20.8</td><td>30</td><td>205.25</td><td>71.25</td><td>28.5</td><td>39.4</td><td>104.1</td><td>101.8</td><td>108.6</td><td>66.0</td><td>41.5</td><td>23.7</td><td>36.9</td><td>31.6</td><td>18.8</td></tr>\n",
       "\t<tr><th scope=row>195</th><td>22.3</td><td>42</td><td>162.75</td><td>72.75</td><td>21.6</td><td>35.4</td><td> 92.2</td><td> 85.6</td><td> 96.5</td><td>60.2</td><td>38.9</td><td>22.4</td><td>31.7</td><td>27.1</td><td>17.1</td></tr>\n",
       "\t<tr><th scope=row>170</th><td>16.5</td><td>35</td><td>172.75</td><td>69.50</td><td>25.2</td><td>37.6</td><td> 99.1</td><td> 90.8</td><td> 98.1</td><td>60.1</td><td>39.1</td><td>23.4</td><td>32.5</td><td>29.8</td><td>17.4</td></tr>\n",
       "</tbody>\n",
       "</table>\n"
      ],
      "text/latex": [
       "A data.frame: 6 × 15\n",
       "\\begin{tabular}{r|lllllllllllllll}\n",
       "  & brozek & age & weight & height & adipos & neck & chest & abdom & hip & thigh & knee & ankle & biceps & forearm & wrist\\\\\n",
       "  & <dbl> & <int> & <dbl> & <dbl> & <dbl> & <dbl> & <dbl> & <dbl> & <dbl> & <dbl> & <dbl> & <dbl> & <dbl> & <dbl> & <dbl>\\\\\n",
       "\\hline\n",
       "\t159 & 12.8 & 30 & 136.50 & 68.75 & 20.3 & 35.9 &  88.7 &  76.6 &  89.8 & 50.1 & 34.8 & 21.8 & 27.0 & 34.9 & 16.9\\\\\n",
       "\t207 & 31.7 & 44 & 166.00 & 65.50 & 27.2 & 39.1 & 100.6 &  93.9 & 100.1 & 58.9 & 37.6 & 21.4 & 33.1 & 29.5 & 17.3\\\\\n",
       "\t179 & 22.0 & 38 & 187.25 & 69.25 & 27.5 & 38.0 & 102.7 &  92.7 & 101.9 & 64.7 & 39.5 & 24.7 & 34.8 & 30.3 & 18.1\\\\\n",
       "\t14 & 20.8 & 30 & 205.25 & 71.25 & 28.5 & 39.4 & 104.1 & 101.8 & 108.6 & 66.0 & 41.5 & 23.7 & 36.9 & 31.6 & 18.8\\\\\n",
       "\t195 & 22.3 & 42 & 162.75 & 72.75 & 21.6 & 35.4 &  92.2 &  85.6 &  96.5 & 60.2 & 38.9 & 22.4 & 31.7 & 27.1 & 17.1\\\\\n",
       "\t170 & 16.5 & 35 & 172.75 & 69.50 & 25.2 & 37.6 &  99.1 &  90.8 &  98.1 & 60.1 & 39.1 & 23.4 & 32.5 & 29.8 & 17.4\\\\\n",
       "\\end{tabular}\n"
      ],
      "text/markdown": [
       "\n",
       "A data.frame: 6 × 15\n",
       "\n",
       "| <!--/--> | brozek &lt;dbl&gt; | age &lt;int&gt; | weight &lt;dbl&gt; | height &lt;dbl&gt; | adipos &lt;dbl&gt; | neck &lt;dbl&gt; | chest &lt;dbl&gt; | abdom &lt;dbl&gt; | hip &lt;dbl&gt; | thigh &lt;dbl&gt; | knee &lt;dbl&gt; | ankle &lt;dbl&gt; | biceps &lt;dbl&gt; | forearm &lt;dbl&gt; | wrist &lt;dbl&gt; |\n",
       "|---|---|---|---|---|---|---|---|---|---|---|---|---|---|---|---|\n",
       "| 159 | 12.8 | 30 | 136.50 | 68.75 | 20.3 | 35.9 |  88.7 |  76.6 |  89.8 | 50.1 | 34.8 | 21.8 | 27.0 | 34.9 | 16.9 |\n",
       "| 207 | 31.7 | 44 | 166.00 | 65.50 | 27.2 | 39.1 | 100.6 |  93.9 | 100.1 | 58.9 | 37.6 | 21.4 | 33.1 | 29.5 | 17.3 |\n",
       "| 179 | 22.0 | 38 | 187.25 | 69.25 | 27.5 | 38.0 | 102.7 |  92.7 | 101.9 | 64.7 | 39.5 | 24.7 | 34.8 | 30.3 | 18.1 |\n",
       "| 14 | 20.8 | 30 | 205.25 | 71.25 | 28.5 | 39.4 | 104.1 | 101.8 | 108.6 | 66.0 | 41.5 | 23.7 | 36.9 | 31.6 | 18.8 |\n",
       "| 195 | 22.3 | 42 | 162.75 | 72.75 | 21.6 | 35.4 |  92.2 |  85.6 |  96.5 | 60.2 | 38.9 | 22.4 | 31.7 | 27.1 | 17.1 |\n",
       "| 170 | 16.5 | 35 | 172.75 | 69.50 | 25.2 | 37.6 |  99.1 |  90.8 |  98.1 | 60.1 | 39.1 | 23.4 | 32.5 | 29.8 | 17.4 |\n",
       "\n"
      ],
      "text/plain": [
       "    brozek age weight height adipos neck chest abdom hip   thigh knee ankle\n",
       "159 12.8   30  136.50 68.75  20.3   35.9  88.7  76.6  89.8 50.1  34.8 21.8 \n",
       "207 31.7   44  166.00 65.50  27.2   39.1 100.6  93.9 100.1 58.9  37.6 21.4 \n",
       "179 22.0   38  187.25 69.25  27.5   38.0 102.7  92.7 101.9 64.7  39.5 24.7 \n",
       "14  20.8   30  205.25 71.25  28.5   39.4 104.1 101.8 108.6 66.0  41.5 23.7 \n",
       "195 22.3   42  162.75 72.75  21.6   35.4  92.2  85.6  96.5 60.2  38.9 22.4 \n",
       "170 16.5   35  172.75 69.50  25.2   37.6  99.1  90.8  98.1 60.1  39.1 23.4 \n",
       "    biceps forearm wrist\n",
       "159 27.0   34.9    16.9 \n",
       "207 33.1   29.5    17.3 \n",
       "179 34.8   30.3    18.1 \n",
       "14  36.9   31.6    18.8 \n",
       "195 31.7   27.1    17.1 \n",
       "170 32.5   29.8    17.4 "
      ]
     },
     "metadata": {},
     "output_type": "display_data"
    },
    {
     "data": {
      "text/html": [
       "176"
      ],
      "text/latex": [
       "176"
      ],
      "text/markdown": [
       "176"
      ],
      "text/plain": [
       "[1] 176"
      ]
     },
     "metadata": {},
     "output_type": "display_data"
    },
    {
     "data": {
      "text/html": [
       "<table class=\"dataframe\">\n",
       "<caption>A data.frame: 6 × 15</caption>\n",
       "<thead>\n",
       "\t<tr><th></th><th scope=col>brozek</th><th scope=col>age</th><th scope=col>weight</th><th scope=col>height</th><th scope=col>adipos</th><th scope=col>neck</th><th scope=col>chest</th><th scope=col>abdom</th><th scope=col>hip</th><th scope=col>thigh</th><th scope=col>knee</th><th scope=col>ankle</th><th scope=col>biceps</th><th scope=col>forearm</th><th scope=col>wrist</th></tr>\n",
       "\t<tr><th></th><th scope=col>&lt;dbl&gt;</th><th scope=col>&lt;int&gt;</th><th scope=col>&lt;dbl&gt;</th><th scope=col>&lt;dbl&gt;</th><th scope=col>&lt;dbl&gt;</th><th scope=col>&lt;dbl&gt;</th><th scope=col>&lt;dbl&gt;</th><th scope=col>&lt;dbl&gt;</th><th scope=col>&lt;dbl&gt;</th><th scope=col>&lt;dbl&gt;</th><th scope=col>&lt;dbl&gt;</th><th scope=col>&lt;dbl&gt;</th><th scope=col>&lt;dbl&gt;</th><th scope=col>&lt;dbl&gt;</th><th scope=col>&lt;dbl&gt;</th></tr>\n",
       "</thead>\n",
       "<tbody>\n",
       "\t<tr><th scope=row>2</th><td> 6.9</td><td>22</td><td>173.25</td><td>72.25</td><td>23.4</td><td>38.5</td><td> 93.6</td><td>83.0</td><td> 98.7</td><td>58.7</td><td>37.3</td><td>23.4</td><td>30.5</td><td>28.9</td><td>18.2</td></tr>\n",
       "\t<tr><th scope=row>3</th><td>24.6</td><td>22</td><td>154.00</td><td>66.25</td><td>24.7</td><td>34.0</td><td> 95.8</td><td>87.9</td><td> 99.2</td><td>59.6</td><td>38.9</td><td>24.0</td><td>28.8</td><td>25.2</td><td>16.6</td></tr>\n",
       "\t<tr><th scope=row>10</th><td>12.0</td><td>23</td><td>198.25</td><td>73.50</td><td>25.8</td><td>42.1</td><td> 99.6</td><td>88.6</td><td>104.1</td><td>63.1</td><td>41.7</td><td>25.0</td><td>35.6</td><td>30.0</td><td>19.2</td></tr>\n",
       "\t<tr><th scope=row>12</th><td> 8.5</td><td>27</td><td>216.00</td><td>76.00</td><td>26.3</td><td>39.4</td><td>103.6</td><td>90.9</td><td>107.7</td><td>66.2</td><td>39.2</td><td>25.9</td><td>37.2</td><td>30.2</td><td>19.0</td></tr>\n",
       "\t<tr><th scope=row>15</th><td>21.7</td><td>35</td><td>187.75</td><td>69.50</td><td>27.4</td><td>40.5</td><td>101.3</td><td>96.4</td><td>100.1</td><td>69.0</td><td>39.0</td><td>23.1</td><td>36.1</td><td>30.5</td><td>18.2</td></tr>\n",
       "\t<tr><th scope=row>18</th><td>22.4</td><td>32</td><td>209.25</td><td>71.00</td><td>29.2</td><td>42.1</td><td>107.6</td><td>97.5</td><td>107.0</td><td>66.9</td><td>40.0</td><td>24.4</td><td>38.2</td><td>31.6</td><td>19.3</td></tr>\n",
       "</tbody>\n",
       "</table>\n"
      ],
      "text/latex": [
       "A data.frame: 6 × 15\n",
       "\\begin{tabular}{r|lllllllllllllll}\n",
       "  & brozek & age & weight & height & adipos & neck & chest & abdom & hip & thigh & knee & ankle & biceps & forearm & wrist\\\\\n",
       "  & <dbl> & <int> & <dbl> & <dbl> & <dbl> & <dbl> & <dbl> & <dbl> & <dbl> & <dbl> & <dbl> & <dbl> & <dbl> & <dbl> & <dbl>\\\\\n",
       "\\hline\n",
       "\t2 &  6.9 & 22 & 173.25 & 72.25 & 23.4 & 38.5 &  93.6 & 83.0 &  98.7 & 58.7 & 37.3 & 23.4 & 30.5 & 28.9 & 18.2\\\\\n",
       "\t3 & 24.6 & 22 & 154.00 & 66.25 & 24.7 & 34.0 &  95.8 & 87.9 &  99.2 & 59.6 & 38.9 & 24.0 & 28.8 & 25.2 & 16.6\\\\\n",
       "\t10 & 12.0 & 23 & 198.25 & 73.50 & 25.8 & 42.1 &  99.6 & 88.6 & 104.1 & 63.1 & 41.7 & 25.0 & 35.6 & 30.0 & 19.2\\\\\n",
       "\t12 &  8.5 & 27 & 216.00 & 76.00 & 26.3 & 39.4 & 103.6 & 90.9 & 107.7 & 66.2 & 39.2 & 25.9 & 37.2 & 30.2 & 19.0\\\\\n",
       "\t15 & 21.7 & 35 & 187.75 & 69.50 & 27.4 & 40.5 & 101.3 & 96.4 & 100.1 & 69.0 & 39.0 & 23.1 & 36.1 & 30.5 & 18.2\\\\\n",
       "\t18 & 22.4 & 32 & 209.25 & 71.00 & 29.2 & 42.1 & 107.6 & 97.5 & 107.0 & 66.9 & 40.0 & 24.4 & 38.2 & 31.6 & 19.3\\\\\n",
       "\\end{tabular}\n"
      ],
      "text/markdown": [
       "\n",
       "A data.frame: 6 × 15\n",
       "\n",
       "| <!--/--> | brozek &lt;dbl&gt; | age &lt;int&gt; | weight &lt;dbl&gt; | height &lt;dbl&gt; | adipos &lt;dbl&gt; | neck &lt;dbl&gt; | chest &lt;dbl&gt; | abdom &lt;dbl&gt; | hip &lt;dbl&gt; | thigh &lt;dbl&gt; | knee &lt;dbl&gt; | ankle &lt;dbl&gt; | biceps &lt;dbl&gt; | forearm &lt;dbl&gt; | wrist &lt;dbl&gt; |\n",
       "|---|---|---|---|---|---|---|---|---|---|---|---|---|---|---|---|\n",
       "| 2 |  6.9 | 22 | 173.25 | 72.25 | 23.4 | 38.5 |  93.6 | 83.0 |  98.7 | 58.7 | 37.3 | 23.4 | 30.5 | 28.9 | 18.2 |\n",
       "| 3 | 24.6 | 22 | 154.00 | 66.25 | 24.7 | 34.0 |  95.8 | 87.9 |  99.2 | 59.6 | 38.9 | 24.0 | 28.8 | 25.2 | 16.6 |\n",
       "| 10 | 12.0 | 23 | 198.25 | 73.50 | 25.8 | 42.1 |  99.6 | 88.6 | 104.1 | 63.1 | 41.7 | 25.0 | 35.6 | 30.0 | 19.2 |\n",
       "| 12 |  8.5 | 27 | 216.00 | 76.00 | 26.3 | 39.4 | 103.6 | 90.9 | 107.7 | 66.2 | 39.2 | 25.9 | 37.2 | 30.2 | 19.0 |\n",
       "| 15 | 21.7 | 35 | 187.75 | 69.50 | 27.4 | 40.5 | 101.3 | 96.4 | 100.1 | 69.0 | 39.0 | 23.1 | 36.1 | 30.5 | 18.2 |\n",
       "| 18 | 22.4 | 32 | 209.25 | 71.00 | 29.2 | 42.1 | 107.6 | 97.5 | 107.0 | 66.9 | 40.0 | 24.4 | 38.2 | 31.6 | 19.3 |\n",
       "\n"
      ],
      "text/plain": [
       "   brozek age weight height adipos neck chest abdom hip   thigh knee ankle\n",
       "2   6.9   22  173.25 72.25  23.4   38.5  93.6 83.0   98.7 58.7  37.3 23.4 \n",
       "3  24.6   22  154.00 66.25  24.7   34.0  95.8 87.9   99.2 59.6  38.9 24.0 \n",
       "10 12.0   23  198.25 73.50  25.8   42.1  99.6 88.6  104.1 63.1  41.7 25.0 \n",
       "12  8.5   27  216.00 76.00  26.3   39.4 103.6 90.9  107.7 66.2  39.2 25.9 \n",
       "15 21.7   35  187.75 69.50  27.4   40.5 101.3 96.4  100.1 69.0  39.0 23.1 \n",
       "18 22.4   32  209.25 71.00  29.2   42.1 107.6 97.5  107.0 66.9  40.0 24.4 \n",
       "   biceps forearm wrist\n",
       "2  30.5   28.9    18.2 \n",
       "3  28.8   25.2    16.6 \n",
       "10 35.6   30.0    19.2 \n",
       "12 37.2   30.2    19.0 \n",
       "15 36.1   30.5    18.2 \n",
       "18 38.2   31.6    19.3 "
      ]
     },
     "metadata": {},
     "output_type": "display_data"
    },
    {
     "data": {
      "text/html": [
       "76"
      ],
      "text/latex": [
       "76"
      ],
      "text/markdown": [
       "76"
      ],
      "text/plain": [
       "[1] 76"
      ]
     },
     "metadata": {},
     "output_type": "display_data"
    }
   ],
   "source": [
    "set.seed(123) # DO NOT CHANGE!\n",
    "\n",
    "# fat_sample$ID <- rownames(fat_sample)\n",
    "# training_fat <- ...(..., size = nrow(fat_sample) * 0.70,\n",
    "#   replace = ...\n",
    "# )\n",
    "\n",
    "# second_set_fat <- anti_join(...,\n",
    "#   ...,\n",
    "#   by = ...\n",
    "# )\n",
    "\n",
    "# training_fat <- training_fat  %>% select(-\"ID\")\n",
    "# second_set_fat <- second_set_fat %>% select(-\"ID\")\n",
    "\n",
    "# head(training_fat)\n",
    "# nrow(training_fat)\n",
    "\n",
    "# head(second_set_fat)\n",
    "# nrow(second_set_fat)\n",
    "\n",
    "# your code here\n",
    "fat_sample$ID <- rownames(fat_sample)\n",
    "\n",
    "training_fat <- sample_n(fat_sample, size = nrow(fat_sample) * 0.70,\n",
    "  replace = FALSE\n",
    ")\n",
    "\n",
    "second_set_fat <- anti_join(fat_sample,\n",
    "  training_fat,\n",
    "  by = \"ID\"\n",
    ")\n",
    "\n",
    "training_fat <- training_fat  %>% select(-\"ID\")\n",
    "second_set_fat <- second_set_fat %>% select(-\"ID\")\n",
    "\n",
    "head(training_fat)\n",
    "nrow(training_fat)\n",
    "\n",
    "head(second_set_fat)\n",
    "nrow(second_set_fat)"
   ]
  },
  {
   "cell_type": "code",
   "execution_count": 15,
   "metadata": {
    "deletable": false,
    "editable": false,
    "nbgrader": {
     "cell_type": "code",
     "checksum": "205bb8c19193b79ccc376f7458714fdb",
     "grade": true,
     "grade_id": "cell-a648a9e5540d72b0",
     "locked": true,
     "points": 1,
     "schema_version": 3,
     "solution": false,
     "task": false
    },
    "tags": []
   },
   "outputs": [
    {
     "name": "stdout",
     "output_type": "stream",
     "text": [
      "\u001b[32mTest passed\u001b[39m 🥇\n",
      "\u001b[32mTest passed\u001b[39m 🥇\n",
      "\u001b[32mTest passed\u001b[39m 🎉\n",
      "\u001b[32mTest passed\u001b[39m 🥇\n",
      "\u001b[32mTest passed\u001b[39m 🎊\n",
      "\u001b[32mTest passed\u001b[39m 🥇\n",
      "\u001b[32mTest passed\u001b[39m 😀\n",
      "\u001b[32mTest passed\u001b[39m 🥳\n",
      "[1] \"Success!\"\n",
      "\u001b[32mTest passed\u001b[39m 😀\n",
      "\u001b[32mTest passed\u001b[39m 🥳\n",
      "\u001b[32mTest passed\u001b[39m 🥇\n",
      "\u001b[32mTest passed\u001b[39m 🥇\n",
      "\u001b[32mTest passed\u001b[39m 😀\n",
      "\u001b[32mTest passed\u001b[39m 🎊\n",
      "\u001b[32mTest passed\u001b[39m 🎊\n",
      "\u001b[32mTest passed\u001b[39m 🥳\n",
      "[1] \"Success!\"\n"
     ]
    }
   ],
   "source": [
    "test_2.0()"
   ]
  },
  {
   "cell_type": "markdown",
   "metadata": {
    "deletable": false,
    "editable": false,
    "nbgrader": {
     "cell_type": "markdown",
     "checksum": "5046160daadcab1ec6c1647042e78b79",
     "grade": false,
     "grade_id": "cell-78e3bba87f64f63a",
     "locked": true,
     "schema_version": 3,
     "solution": false,
     "task": false
    },
    "tags": []
   },
   "source": [
    "**Question 2.1**\n",
    "<br>{points: 1}\n",
    "\n",
    "Using only the extra data in `second_set_fat`, select a reduced LR using the **backward selection** algorithm. Recall that this method is implemented in the function `regsubsets()` from library `leaps`.\n",
    "\n",
    "The function `regsubsets()` identifies various subsets of input variables selected for models of different sizes. The argument `x` of `regsubsets()` is analogous to `formula` in `lm()`. \n",
    "\n",
    "Create one object using `regsubsets()`with `second_set_fat` and call it `fat_backward_sel`. We will use `fat_bwd_summary_df` to check the results.\n",
    "\n",
    "**Maintain any ordering of columns seen in `second_set_fat`**\n",
    "\n",
    "*Fill out those parts indicated with `...`, uncomment the corresponding code in the cell below, and run it.*"
   ]
  },
  {
   "cell_type": "code",
   "execution_count": 16,
   "metadata": {
    "deletable": false,
    "nbgrader": {
     "cell_type": "code",
     "checksum": "e620348547a3cedcfd5d90fe3b596bb5",
     "grade": false,
     "grade_id": "cell-9dab19aa23c8ddf6",
     "locked": false,
     "schema_version": 3,
     "solution": true,
     "task": false
    },
    "tags": []
   },
   "outputs": [
    {
     "data": {
      "text/plain": [
       "Subset selection object\n",
       "Call: regsubsets.formula(x = brozek ~ ., nvmax = 14, data = second_set_fat, \n",
       "    method = \"backward\", )\n",
       "14 Variables  (and intercept)\n",
       "        Forced in Forced out\n",
       "age         FALSE      FALSE\n",
       "weight      FALSE      FALSE\n",
       "height      FALSE      FALSE\n",
       "adipos      FALSE      FALSE\n",
       "neck        FALSE      FALSE\n",
       "chest       FALSE      FALSE\n",
       "abdom       FALSE      FALSE\n",
       "hip         FALSE      FALSE\n",
       "thigh       FALSE      FALSE\n",
       "knee        FALSE      FALSE\n",
       "ankle       FALSE      FALSE\n",
       "biceps      FALSE      FALSE\n",
       "forearm     FALSE      FALSE\n",
       "wrist       FALSE      FALSE\n",
       "1 subsets of each size up to 14\n",
       "Selection Algorithm: backward"
      ]
     },
     "metadata": {},
     "output_type": "display_data"
    }
   ],
   "source": [
    "# fat_backward_sel <- ...(\n",
    "#   x=..., \n",
    "#   nvmax=...,\n",
    "#   data=...,\n",
    "#   method=...,\n",
    "# )\n",
    "# fat_backward_sel\n",
    "\n",
    "#fat_bwd_summary <- summary(fat_backward_sel)\n",
    "\n",
    "#fat_bwd_summary_df <- data.frame(\n",
    "#    n_input_variables = 1:14,\n",
    "#    RSQ = fat_bwd_summary$rsq,\n",
    "#    RSS = fat_bwd_summary$rss,\n",
    "#    ADJ.R2 = fat_bwd_summary$adjr2\n",
    "#)\n",
    "\n",
    "# your code here\n",
    "fat_backward_sel <- regsubsets(\n",
    "  x=brozek ~ ., \n",
    "  nvmax= 14,\n",
    "  data= second_set_fat,\n",
    "  method= \"backward\",\n",
    ")\n",
    "fat_backward_sel\n",
    "\n",
    "fat_bwd_summary <- summary(fat_backward_sel)\n",
    "\n",
    "fat_bwd_summary_df <- data.frame(\n",
    "   n_input_variables = 1:14,\n",
    "   RSQ = fat_bwd_summary$rsq,\n",
    "   RSS = fat_bwd_summary$rss,\n",
    "   ADJ.R2 = fat_bwd_summary$adjr2\n",
    ")"
   ]
  },
  {
   "cell_type": "code",
   "execution_count": 17,
   "metadata": {
    "deletable": false,
    "editable": false,
    "nbgrader": {
     "cell_type": "code",
     "checksum": "4050e053469faec8c42a80963fd28c93",
     "grade": true,
     "grade_id": "cell-1834e0983d6a1794",
     "locked": true,
     "points": 1,
     "schema_version": 3,
     "solution": false,
     "task": false
    },
    "tags": []
   },
   "outputs": [
    {
     "name": "stdout",
     "output_type": "stream",
     "text": [
      "\u001b[32mTest passed\u001b[39m 🥇\n",
      "\u001b[32mTest passed\u001b[39m 🌈\n",
      "\u001b[32mTest passed\u001b[39m 🥳\n",
      "\u001b[32mTest passed\u001b[39m 🎊\n",
      "\u001b[32mTest passed\u001b[39m 🎉\n",
      "\u001b[32mTest passed\u001b[39m 🎊\n",
      "\u001b[32mTest passed\u001b[39m 🥳\n",
      "[1] \"Success!\"\n"
     ]
    }
   ],
   "source": [
    "test_2.1()"
   ]
  },
  {
   "cell_type": "markdown",
   "metadata": {
    "deletable": false,
    "editable": false,
    "nbgrader": {
     "cell_type": "markdown",
     "checksum": "295442c7f109b6b3413fdc4d601f81bf",
     "grade": false,
     "grade_id": "cell-afd9a48edcdcaab0",
     "locked": true,
     "schema_version": 3,
     "solution": false,
     "task": false
    },
    "tags": []
   },
   "source": [
    "**Question 2.2**\n",
    "<br>{points: 1}\n",
    "\n",
    "The *backward* subset algorithm selected the best model of each size. Results of the 14 models selected are stored in `fat_bwd_summary`. \n",
    "\n",
    "Use the *adjusted* $R^2$ of these 14 models, stored in `fat_bwd_summary_df`, to select the best generative model and indicate which input variables are in the selected model.\n",
    "\n",
    "**A.** `age`.\n",
    "\n",
    "**B.** `weight`.\n",
    "\n",
    "**C.** `height`.\n",
    "\n",
    "**D.** `adipos`.\n",
    "\n",
    "**E.**  `neck`.\n",
    "\n",
    "**F.**  `chest`.\n",
    "\n",
    "**G.**  `abdom`.\n",
    "\n",
    "**H.**  `hip`.\n",
    "\n",
    "**I.**  `thigh`.\n",
    "\n",
    "**J.**  `knee`.\n",
    "\n",
    "**K.**  `ankle`.\n",
    "\n",
    "**L.**  `biceps`.\n",
    "\n",
    "**M.**  `forearm`.\n",
    "\n",
    "**N.**  `wrist`.\n",
    "\n",
    "*Assign your answers to the object `answer2.2`. Your answers have to be included in a single string indicating the correct options **in alphabetical order** and surrounded by quotes.*"
   ]
  },
  {
   "cell_type": "code",
   "execution_count": 18,
   "metadata": {
    "deletable": false,
    "editable": false,
    "nbgrader": {
     "cell_type": "code",
     "checksum": "7261f0d665286dfc3c98f0b19e5501f3",
     "grade": false,
     "grade_id": "cell-45de567764bea01e",
     "locked": true,
     "schema_version": 3,
     "solution": false,
     "task": false
    },
    "tags": []
   },
   "outputs": [
    {
     "data": {
      "text/html": [
       "<table class=\"dataframe\">\n",
       "<caption>A data.frame: 14 × 4</caption>\n",
       "<thead>\n",
       "\t<tr><th scope=col>n_input_variables</th><th scope=col>RSQ</th><th scope=col>RSS</th><th scope=col>ADJ.R2</th></tr>\n",
       "\t<tr><th scope=col>&lt;int&gt;</th><th scope=col>&lt;dbl&gt;</th><th scope=col>&lt;dbl&gt;</th><th scope=col>&lt;dbl&gt;</th></tr>\n",
       "</thead>\n",
       "<tbody>\n",
       "\t<tr><td> 1</td><td>0.7056632</td><td>1265.7132</td><td>0.7016856</td></tr>\n",
       "\t<tr><td> 2</td><td>0.7483765</td><td>1082.0366</td><td>0.7414827</td></tr>\n",
       "\t<tr><td> 3</td><td>0.7558217</td><td>1050.0206</td><td>0.7456476</td></tr>\n",
       "\t<tr><td> 4</td><td>0.7689972</td><td> 993.3629</td><td>0.7559830</td></tr>\n",
       "\t<tr><td> 5</td><td>0.7744243</td><td> 970.0253</td><td>0.7583117</td></tr>\n",
       "\t<tr><td> 6</td><td>0.7801016</td><td> 945.6115</td><td>0.7609800</td></tr>\n",
       "\t<tr><td> 7</td><td>0.7831325</td><td> 932.5782</td><td>0.7608079</td></tr>\n",
       "\t<tr><td> 8</td><td>0.7852861</td><td> 923.3172</td><td>0.7596486</td></tr>\n",
       "\t<tr><td> 9</td><td>0.7866684</td><td> 917.3727</td><td>0.7575778</td></tr>\n",
       "\t<tr><td>10</td><td>0.7869944</td><td> 915.9709</td><td>0.7542243</td></tr>\n",
       "\t<tr><td>11</td><td>0.7872443</td><td> 914.8965</td><td>0.7506769</td></tr>\n",
       "\t<tr><td>12</td><td>0.7873460</td><td> 914.4592</td><td>0.7468404</td></tr>\n",
       "\t<tr><td>13</td><td>0.7874156</td><td> 914.1596</td><td>0.7428415</td></tr>\n",
       "\t<tr><td>14</td><td>0.7874264</td><td> 914.1132</td><td>0.7386390</td></tr>\n",
       "</tbody>\n",
       "</table>\n"
      ],
      "text/latex": [
       "A data.frame: 14 × 4\n",
       "\\begin{tabular}{llll}\n",
       " n\\_input\\_variables & RSQ & RSS & ADJ.R2\\\\\n",
       " <int> & <dbl> & <dbl> & <dbl>\\\\\n",
       "\\hline\n",
       "\t  1 & 0.7056632 & 1265.7132 & 0.7016856\\\\\n",
       "\t  2 & 0.7483765 & 1082.0366 & 0.7414827\\\\\n",
       "\t  3 & 0.7558217 & 1050.0206 & 0.7456476\\\\\n",
       "\t  4 & 0.7689972 &  993.3629 & 0.7559830\\\\\n",
       "\t  5 & 0.7744243 &  970.0253 & 0.7583117\\\\\n",
       "\t  6 & 0.7801016 &  945.6115 & 0.7609800\\\\\n",
       "\t  7 & 0.7831325 &  932.5782 & 0.7608079\\\\\n",
       "\t  8 & 0.7852861 &  923.3172 & 0.7596486\\\\\n",
       "\t  9 & 0.7866684 &  917.3727 & 0.7575778\\\\\n",
       "\t 10 & 0.7869944 &  915.9709 & 0.7542243\\\\\n",
       "\t 11 & 0.7872443 &  914.8965 & 0.7506769\\\\\n",
       "\t 12 & 0.7873460 &  914.4592 & 0.7468404\\\\\n",
       "\t 13 & 0.7874156 &  914.1596 & 0.7428415\\\\\n",
       "\t 14 & 0.7874264 &  914.1132 & 0.7386390\\\\\n",
       "\\end{tabular}\n"
      ],
      "text/markdown": [
       "\n",
       "A data.frame: 14 × 4\n",
       "\n",
       "| n_input_variables &lt;int&gt; | RSQ &lt;dbl&gt; | RSS &lt;dbl&gt; | ADJ.R2 &lt;dbl&gt; |\n",
       "|---|---|---|---|\n",
       "|  1 | 0.7056632 | 1265.7132 | 0.7016856 |\n",
       "|  2 | 0.7483765 | 1082.0366 | 0.7414827 |\n",
       "|  3 | 0.7558217 | 1050.0206 | 0.7456476 |\n",
       "|  4 | 0.7689972 |  993.3629 | 0.7559830 |\n",
       "|  5 | 0.7744243 |  970.0253 | 0.7583117 |\n",
       "|  6 | 0.7801016 |  945.6115 | 0.7609800 |\n",
       "|  7 | 0.7831325 |  932.5782 | 0.7608079 |\n",
       "|  8 | 0.7852861 |  923.3172 | 0.7596486 |\n",
       "|  9 | 0.7866684 |  917.3727 | 0.7575778 |\n",
       "| 10 | 0.7869944 |  915.9709 | 0.7542243 |\n",
       "| 11 | 0.7872443 |  914.8965 | 0.7506769 |\n",
       "| 12 | 0.7873460 |  914.4592 | 0.7468404 |\n",
       "| 13 | 0.7874156 |  914.1596 | 0.7428415 |\n",
       "| 14 | 0.7874264 |  914.1132 | 0.7386390 |\n",
       "\n"
      ],
      "text/plain": [
       "   n_input_variables RSQ       RSS       ADJ.R2   \n",
       "1   1                0.7056632 1265.7132 0.7016856\n",
       "2   2                0.7483765 1082.0366 0.7414827\n",
       "3   3                0.7558217 1050.0206 0.7456476\n",
       "4   4                0.7689972  993.3629 0.7559830\n",
       "5   5                0.7744243  970.0253 0.7583117\n",
       "6   6                0.7801016  945.6115 0.7609800\n",
       "7   7                0.7831325  932.5782 0.7608079\n",
       "8   8                0.7852861  923.3172 0.7596486\n",
       "9   9                0.7866684  917.3727 0.7575778\n",
       "10 10                0.7869944  915.9709 0.7542243\n",
       "11 11                0.7872443  914.8965 0.7506769\n",
       "12 12                0.7873460  914.4592 0.7468404\n",
       "13 13                0.7874156  914.1596 0.7428415\n",
       "14 14                0.7874264  914.1132 0.7386390"
      ]
     },
     "metadata": {},
     "output_type": "display_data"
    },
    {
     "data": {
      "text/plain": [
       "Subset selection object\n",
       "Call: regsubsets.formula(x = brozek ~ ., nvmax = 14, data = second_set_fat, \n",
       "    method = \"backward\", )\n",
       "14 Variables  (and intercept)\n",
       "        Forced in Forced out\n",
       "age         FALSE      FALSE\n",
       "weight      FALSE      FALSE\n",
       "height      FALSE      FALSE\n",
       "adipos      FALSE      FALSE\n",
       "neck        FALSE      FALSE\n",
       "chest       FALSE      FALSE\n",
       "abdom       FALSE      FALSE\n",
       "hip         FALSE      FALSE\n",
       "thigh       FALSE      FALSE\n",
       "knee        FALSE      FALSE\n",
       "ankle       FALSE      FALSE\n",
       "biceps      FALSE      FALSE\n",
       "forearm     FALSE      FALSE\n",
       "wrist       FALSE      FALSE\n",
       "1 subsets of each size up to 14\n",
       "Selection Algorithm: backward\n",
       "          age weight height adipos neck chest abdom hip thigh knee ankle biceps\n",
       "1  ( 1 )  \" \" \" \"    \" \"    \" \"    \" \"  \" \"   \"*\"   \" \" \" \"   \" \"  \" \"   \" \"   \n",
       "2  ( 1 )  \" \" \" \"    \" \"    \" \"    \" \"  \" \"   \"*\"   \" \" \" \"   \" \"  \" \"   \" \"   \n",
       "3  ( 1 )  \" \" \"*\"    \" \"    \" \"    \" \"  \" \"   \"*\"   \" \" \" \"   \" \"  \" \"   \" \"   \n",
       "4  ( 1 )  \" \" \"*\"    \" \"    \" \"    \" \"  \" \"   \"*\"   \" \" \" \"   \" \"  \" \"   \" \"   \n",
       "5  ( 1 )  \" \" \"*\"    \" \"    \" \"    \" \"  \" \"   \"*\"   \" \" \"*\"   \" \"  \" \"   \" \"   \n",
       "6  ( 1 )  \" \" \"*\"    \" \"    \" \"    \" \"  \"*\"   \"*\"   \" \" \"*\"   \" \"  \" \"   \" \"   \n",
       "7  ( 1 )  \" \" \"*\"    \" \"    \" \"    \" \"  \"*\"   \"*\"   \" \" \"*\"   \"*\"  \" \"   \" \"   \n",
       "8  ( 1 )  \" \" \"*\"    \" \"    \" \"    \" \"  \"*\"   \"*\"   \" \" \"*\"   \"*\"  \"*\"   \" \"   \n",
       "9  ( 1 )  \" \" \"*\"    \" \"    \" \"    \" \"  \"*\"   \"*\"   \" \" \"*\"   \"*\"  \"*\"   \"*\"   \n",
       "10  ( 1 ) \" \" \"*\"    \" \"    \" \"    \"*\"  \"*\"   \"*\"   \" \" \"*\"   \"*\"  \"*\"   \"*\"   \n",
       "11  ( 1 ) \" \" \"*\"    \" \"    \"*\"    \"*\"  \"*\"   \"*\"   \" \" \"*\"   \"*\"  \"*\"   \"*\"   \n",
       "12  ( 1 ) \" \" \"*\"    \"*\"    \"*\"    \"*\"  \"*\"   \"*\"   \" \" \"*\"   \"*\"  \"*\"   \"*\"   \n",
       "13  ( 1 ) \" \" \"*\"    \"*\"    \"*\"    \"*\"  \"*\"   \"*\"   \"*\" \"*\"   \"*\"  \"*\"   \"*\"   \n",
       "14  ( 1 ) \"*\" \"*\"    \"*\"    \"*\"    \"*\"  \"*\"   \"*\"   \"*\" \"*\"   \"*\"  \"*\"   \"*\"   \n",
       "          forearm wrist\n",
       "1  ( 1 )  \" \"     \" \"  \n",
       "2  ( 1 )  \" \"     \"*\"  \n",
       "3  ( 1 )  \" \"     \"*\"  \n",
       "4  ( 1 )  \"*\"     \"*\"  \n",
       "5  ( 1 )  \"*\"     \"*\"  \n",
       "6  ( 1 )  \"*\"     \"*\"  \n",
       "7  ( 1 )  \"*\"     \"*\"  \n",
       "8  ( 1 )  \"*\"     \"*\"  \n",
       "9  ( 1 )  \"*\"     \"*\"  \n",
       "10  ( 1 ) \"*\"     \"*\"  \n",
       "11  ( 1 ) \"*\"     \"*\"  \n",
       "12  ( 1 ) \"*\"     \"*\"  \n",
       "13  ( 1 ) \"*\"     \"*\"  \n",
       "14  ( 1 ) \"*\"     \"*\"  "
      ]
     },
     "metadata": {},
     "output_type": "display_data"
    }
   ],
   "source": [
    "#Run this cell before continuing to examine the results\n",
    "\n",
    "fat_bwd_summary_df\n",
    "\n",
    "fat_bwd_summary "
   ]
  },
  {
   "cell_type": "code",
   "execution_count": 19,
   "metadata": {
    "deletable": false,
    "nbgrader": {
     "cell_type": "code",
     "checksum": "40740c833fd0404a782c1282b8bffb54",
     "grade": false,
     "grade_id": "cell-6cebf1be4cc59565",
     "locked": false,
     "schema_version": 3,
     "solution": true,
     "task": false
    },
    "tags": []
   },
   "outputs": [],
   "source": [
    "# answer2.2 <- \n",
    "\n",
    "# your code here\n",
    "answer2.2 <- \"BFGIMN\""
   ]
  },
  {
   "cell_type": "code",
   "execution_count": 20,
   "metadata": {
    "deletable": false,
    "editable": false,
    "nbgrader": {
     "cell_type": "code",
     "checksum": "47dbc102d3b3a6b9319f41c24b6985c6",
     "grade": true,
     "grade_id": "cell-1cf2ff609e71bfe7",
     "locked": true,
     "points": 1,
     "schema_version": 3,
     "solution": false,
     "task": false
    },
    "tags": []
   },
   "outputs": [
    {
     "name": "stdout",
     "output_type": "stream",
     "text": [
      "\u001b[32mTest passed\u001b[39m 😸\n",
      "\u001b[32mTest passed\u001b[39m 😀\n",
      "\u001b[32mTest passed\u001b[39m 😀\n",
      "[1] \"Success!\"\n"
     ]
    }
   ],
   "source": [
    "test_2.2()"
   ]
  },
  {
   "cell_type": "markdown",
   "metadata": {
    "deletable": false,
    "editable": false,
    "nbgrader": {
     "cell_type": "markdown",
     "checksum": "e5950487d130eddcb387cd4cf99e66bd",
     "grade": false,
     "grade_id": "cell-2f834801ab2b709d",
     "locked": true,
     "schema_version": 3,
     "solution": false,
     "task": false
    },
    "tags": []
   },
   "source": [
    "**Question 2.3**\n",
    "<br>{points: 1}\n",
    "\n",
    "Now that you have selected a subset of input variables, use the independent dataset `training_fat` to build and evaluate a *generative* model. \n",
    "\n",
    "Use `lm` to fit the selected model using `training_fat`, and store the results in an object called `fat_bwd_generative`. \n",
    "\n",
    "> Enter the selected variables in the **same order** as they are in `training_fat`. This is not statistically needed, it's only needed to autograde this question.\n",
    "\n",
    "*Fill out those parts indicated with `...`, uncomment the corresponding code in the cell below, and run it.*"
   ]
  },
  {
   "cell_type": "code",
   "execution_count": 21,
   "metadata": {
    "deletable": false,
    "nbgrader": {
     "cell_type": "code",
     "checksum": "f7786bd61b2e160051fe8a5944654e74",
     "grade": false,
     "grade_id": "cell-b903605318ff9e7d",
     "locked": false,
     "schema_version": 3,
     "solution": true,
     "task": false
    },
    "tags": []
   },
   "outputs": [
    {
     "data": {
      "text/html": [
       "<table class=\"dataframe\">\n",
       "<caption>A tibble: 7 × 5</caption>\n",
       "<thead>\n",
       "\t<tr><th scope=col>term</th><th scope=col>estimate</th><th scope=col>std.error</th><th scope=col>statistic</th><th scope=col>p.value</th></tr>\n",
       "\t<tr><th scope=col>&lt;chr&gt;</th><th scope=col>&lt;dbl&gt;</th><th scope=col>&lt;dbl&gt;</th><th scope=col>&lt;dbl&gt;</th><th scope=col>&lt;dbl&gt;</th></tr>\n",
       "</thead>\n",
       "<tbody>\n",
       "\t<tr><td>(Intercept)</td><td>-32.51458479</td><td>10.38304228</td><td>-3.1315085</td><td>2.049848e-03</td></tr>\n",
       "\t<tr><td>weight     </td><td> -0.14506942</td><td> 0.03764632</td><td>-3.8534817</td><td>1.651536e-04</td></tr>\n",
       "\t<tr><td>chest      </td><td> -0.08493173</td><td> 0.10825800</td><td>-0.7845308</td><td>4.338270e-01</td></tr>\n",
       "\t<tr><td>abdom      </td><td>  0.99561100</td><td> 0.08419590</td><td>11.8249345</td><td>6.786360e-24</td></tr>\n",
       "\t<tr><td>thigh      </td><td>  0.06942613</td><td> 0.12823325</td><td> 0.5414051</td><td>5.889414e-01</td></tr>\n",
       "\t<tr><td>forearm    </td><td>  0.37500665</td><td> 0.19325103</td><td> 1.9405157</td><td>5.398121e-02</td></tr>\n",
       "\t<tr><td>wrist      </td><td> -1.15394226</td><td> 0.50349596</td><td>-2.2918600</td><td>2.314744e-02</td></tr>\n",
       "</tbody>\n",
       "</table>\n"
      ],
      "text/latex": [
       "A tibble: 7 × 5\n",
       "\\begin{tabular}{lllll}\n",
       " term & estimate & std.error & statistic & p.value\\\\\n",
       " <chr> & <dbl> & <dbl> & <dbl> & <dbl>\\\\\n",
       "\\hline\n",
       "\t (Intercept) & -32.51458479 & 10.38304228 & -3.1315085 & 2.049848e-03\\\\\n",
       "\t weight      &  -0.14506942 &  0.03764632 & -3.8534817 & 1.651536e-04\\\\\n",
       "\t chest       &  -0.08493173 &  0.10825800 & -0.7845308 & 4.338270e-01\\\\\n",
       "\t abdom       &   0.99561100 &  0.08419590 & 11.8249345 & 6.786360e-24\\\\\n",
       "\t thigh       &   0.06942613 &  0.12823325 &  0.5414051 & 5.889414e-01\\\\\n",
       "\t forearm     &   0.37500665 &  0.19325103 &  1.9405157 & 5.398121e-02\\\\\n",
       "\t wrist       &  -1.15394226 &  0.50349596 & -2.2918600 & 2.314744e-02\\\\\n",
       "\\end{tabular}\n"
      ],
      "text/markdown": [
       "\n",
       "A tibble: 7 × 5\n",
       "\n",
       "| term &lt;chr&gt; | estimate &lt;dbl&gt; | std.error &lt;dbl&gt; | statistic &lt;dbl&gt; | p.value &lt;dbl&gt; |\n",
       "|---|---|---|---|---|\n",
       "| (Intercept) | -32.51458479 | 10.38304228 | -3.1315085 | 2.049848e-03 |\n",
       "| weight      |  -0.14506942 |  0.03764632 | -3.8534817 | 1.651536e-04 |\n",
       "| chest       |  -0.08493173 |  0.10825800 | -0.7845308 | 4.338270e-01 |\n",
       "| abdom       |   0.99561100 |  0.08419590 | 11.8249345 | 6.786360e-24 |\n",
       "| thigh       |   0.06942613 |  0.12823325 |  0.5414051 | 5.889414e-01 |\n",
       "| forearm     |   0.37500665 |  0.19325103 |  1.9405157 | 5.398121e-02 |\n",
       "| wrist       |  -1.15394226 |  0.50349596 | -2.2918600 | 2.314744e-02 |\n",
       "\n"
      ],
      "text/plain": [
       "  term        estimate     std.error   statistic  p.value     \n",
       "1 (Intercept) -32.51458479 10.38304228 -3.1315085 2.049848e-03\n",
       "2 weight       -0.14506942  0.03764632 -3.8534817 1.651536e-04\n",
       "3 chest        -0.08493173  0.10825800 -0.7845308 4.338270e-01\n",
       "4 abdom         0.99561100  0.08419590 11.8249345 6.786360e-24\n",
       "5 thigh         0.06942613  0.12823325  0.5414051 5.889414e-01\n",
       "6 forearm       0.37500665  0.19325103  1.9405157 5.398121e-02\n",
       "7 wrist        -1.15394226  0.50349596 -2.2918600 2.314744e-02"
      ]
     },
     "metadata": {},
     "output_type": "display_data"
    }
   ],
   "source": [
    "# fat_bwd_generative <- ...(...,\n",
    "#   ...\n",
    "# )\n",
    "\n",
    "# tidy(fat_bwd_generative)\n",
    "\n",
    "# your code here\n",
    "fat_bwd_generative <- lm(brozek ~ weight + chest + abdom + thigh + forearm + wrist,\n",
    "  data = training_fat\n",
    ")\n",
    "\n",
    "tidy(fat_bwd_generative)"
   ]
  },
  {
   "cell_type": "code",
   "execution_count": 22,
   "metadata": {
    "deletable": false,
    "editable": false,
    "nbgrader": {
     "cell_type": "code",
     "checksum": "7359bd255da61317482f710128be1385",
     "grade": true,
     "grade_id": "cell-79c41ee8723c1697",
     "locked": true,
     "points": 1,
     "schema_version": 3,
     "solution": false,
     "task": false
    },
    "tags": []
   },
   "outputs": [
    {
     "name": "stdout",
     "output_type": "stream",
     "text": [
      "\u001b[32mTest passed\u001b[39m 🥇\n",
      "\u001b[32mTest passed\u001b[39m 🥇\n",
      "[1] \"Success!\"\n"
     ]
    }
   ],
   "source": [
    "test_2.3()"
   ]
  },
  {
   "cell_type": "markdown",
   "metadata": {
    "deletable": false,
    "editable": false,
    "nbgrader": {
     "cell_type": "markdown",
     "checksum": "777448920f7a213d68372f574f4e7440",
     "grade": false,
     "grade_id": "cell-9df046a01453d22d",
     "locked": true,
     "schema_version": 3,
     "solution": false,
     "task": false
    },
    "tags": []
   },
   "source": [
    "**Question 2.4**\n",
    "<br>{points: 1}\n",
    "\n",
    "Compute the coefficient of determination $R^2$ to evaluate the goodness of fit of the model.\n",
    "\n",
    "> Note that the evaluation is also based on data from `training_fat`\n",
    "\n",
    "*Assign your answer to the object `answer2.4`. Your answer is a numeric object*"
   ]
  },
  {
   "cell_type": "code",
   "execution_count": 23,
   "metadata": {
    "deletable": false,
    "jp-MarkdownHeadingCollapsed": true,
    "nbgrader": {
     "cell_type": "code",
     "checksum": "1bfa4e87c48d0f1663dbe1b57f3f1695",
     "grade": false,
     "grade_id": "cell-785ec8fc3e384cfe",
     "locked": false,
     "schema_version": 3,
     "solution": true,
     "task": false
    },
    "tags": []
   },
   "outputs": [
    {
     "data": {
      "text/html": [
       "0.726855460416247"
      ],
      "text/latex": [
       "0.726855460416247"
      ],
      "text/markdown": [
       "0.726855460416247"
      ],
      "text/plain": [
       "[1] 0.7268555"
      ]
     },
     "metadata": {},
     "output_type": "display_data"
    }
   ],
   "source": [
    "# *Your code goes here.*\n",
    "\n",
    "# your code here\n",
    "answer2.4 <- glance(fat_bwd_generative)$r.squared\n",
    "answer2.4"
   ]
  },
  {
   "cell_type": "code",
   "execution_count": 24,
   "metadata": {
    "deletable": false,
    "editable": false,
    "nbgrader": {
     "cell_type": "code",
     "checksum": "a0b74b744901bf21f21445225d749898",
     "grade": true,
     "grade_id": "cell-4cd732f72421bbbd",
     "locked": true,
     "points": 1,
     "schema_version": 3,
     "solution": false,
     "task": false
    },
    "tags": []
   },
   "outputs": [
    {
     "name": "stdout",
     "output_type": "stream",
     "text": [
      "\u001b[32mTest passed\u001b[39m 😸\n",
      "\u001b[32mTest passed\u001b[39m 🥳\n",
      "[1] \"Success!\"\n"
     ]
    }
   ],
   "source": [
    "test_2.4()"
   ]
  },
  {
   "cell_type": "markdown",
   "metadata": {
    "deletable": false,
    "editable": false,
    "nbgrader": {
     "cell_type": "markdown",
     "checksum": "ddb69f0046c0818f1ca28c8d085e09c9",
     "grade": false,
     "grade_id": "cell-e70fc3de3b0c3210",
     "locked": true,
     "schema_version": 3,
     "solution": false,
     "task": false
    },
    "tags": []
   },
   "source": [
    "**Question 2.5**\n",
    "<br>{points: 1}\n",
    "\n",
    "Interpret the coefficient of determination $R^2$ computed in **Question 2.4** and comment on the goodness-of-fit of the selected model."
   ]
  },
  {
   "cell_type": "markdown",
   "metadata": {
    "deletable": false,
    "nbgrader": {
     "cell_type": "markdown",
     "checksum": "2cafc9bfd902d43f58f936c84a3cd1b7",
     "grade": true,
     "grade_id": "cell-eda9e018dea0aa5f",
     "locked": false,
     "points": 1,
     "schema_version": 3,
     "solution": true,
     "task": false
    },
    "tags": []
   },
   "source": [
    "> *Your answer goes here.*\n",
    "\n",
    "The value of the coefficient of determination $R^2$ is approximately 0.7268 and it suggests that the model explains about 72.68% of the variance in the response variable. This indicates a relatively good fit of the model to the data, meaning that the predictors included in the model provide an explanation for the variation in body fat. However, in other words, it also implies that there is almost 27% of the variance that the model does not be explained."
   ]
  },
  {
   "cell_type": "markdown",
   "metadata": {
    "deletable": false,
    "editable": false,
    "nbgrader": {
     "cell_type": "markdown",
     "checksum": "61b98872493eb8f50c6ec0d26781f84a",
     "grade": false,
     "grade_id": "cell-d9c0ea56110e917e",
     "locked": true,
     "schema_version": 3,
     "solution": false,
     "task": false
    },
    "tags": []
   },
   "source": [
    "**Question 2.6**\n",
    "<br>{points: 2}\n",
    "\n",
    "Previous research has shown that while weight can be highly variable during the day and even across days, body circumference measurements (e.g., abdominal circumference) are more stable and better predictors of body fat. Using the results from **Question 2.3**, corroborate if the abdominal circumference, `abdom` is statistically (linearly) associated with the percent of body fat measured by `brozek` (at a significance level of 0.01). \n",
    "\n",
    "In your answer, include an interpretation of the estimated coefficients as well as the results of the $t$-tests reported using `tidy()`."
   ]
  },
  {
   "cell_type": "code",
   "execution_count": 25,
   "metadata": {
    "tags": []
   },
   "outputs": [
    {
     "data": {
      "text/html": [
       "<table class=\"dataframe\">\n",
       "<caption>A tibble: 1 × 5</caption>\n",
       "<thead>\n",
       "\t<tr><th scope=col>term</th><th scope=col>estimate</th><th scope=col>std.error</th><th scope=col>statistic</th><th scope=col>p.value</th></tr>\n",
       "\t<tr><th scope=col>&lt;chr&gt;</th><th scope=col>&lt;dbl&gt;</th><th scope=col>&lt;dbl&gt;</th><th scope=col>&lt;dbl&gt;</th><th scope=col>&lt;dbl&gt;</th></tr>\n",
       "</thead>\n",
       "<tbody>\n",
       "\t<tr><td>abdom</td><td>0.995611</td><td>0.0841959</td><td>11.82493</td><td>6.78636e-24</td></tr>\n",
       "</tbody>\n",
       "</table>\n"
      ],
      "text/latex": [
       "A tibble: 1 × 5\n",
       "\\begin{tabular}{lllll}\n",
       " term & estimate & std.error & statistic & p.value\\\\\n",
       " <chr> & <dbl> & <dbl> & <dbl> & <dbl>\\\\\n",
       "\\hline\n",
       "\t abdom & 0.995611 & 0.0841959 & 11.82493 & 6.78636e-24\\\\\n",
       "\\end{tabular}\n"
      ],
      "text/markdown": [
       "\n",
       "A tibble: 1 × 5\n",
       "\n",
       "| term &lt;chr&gt; | estimate &lt;dbl&gt; | std.error &lt;dbl&gt; | statistic &lt;dbl&gt; | p.value &lt;dbl&gt; |\n",
       "|---|---|---|---|---|\n",
       "| abdom | 0.995611 | 0.0841959 | 11.82493 | 6.78636e-24 |\n",
       "\n"
      ],
      "text/plain": [
       "  term  estimate std.error statistic p.value    \n",
       "1 abdom 0.995611 0.0841959 11.82493  6.78636e-24"
      ]
     },
     "metadata": {},
     "output_type": "display_data"
    }
   ],
   "source": [
    "tidy_model <- tidy(fat_bwd_generative) |>\n",
    "              filter(term == \"abdom\")\n",
    "tidy_model"
   ]
  },
  {
   "cell_type": "markdown",
   "metadata": {
    "deletable": false,
    "nbgrader": {
     "cell_type": "markdown",
     "checksum": "cfd3b746c10549ec946c6a2277889c67",
     "grade": true,
     "grade_id": "cell-5ad112504dc133dd",
     "locked": false,
     "points": 2,
     "schema_version": 3,
     "solution": true,
     "task": false
    },
    "tags": []
   },
   "source": [
    "> *Your answer goes here.*\n",
    "\n",
    "The regression coefficient for abdominal circumference (abdom) is approximately 0.995611 and this indicates a strong linear relationship between the two variables (close to positive 1), suggesting that the abdominal circumference has significant effects on the percentage of body fat, which is statistically significant with a very low p-value of 6.78636e-24. This means that abdominal circumference is a significant predictor of body fat percentage at a significance level of 0.01, explaining a part of the variation in body fat percentage measured by brozek."
   ]
  },
  {
   "cell_type": "code",
   "execution_count": null,
   "metadata": {},
   "outputs": [],
   "source": []
  }
 ],
 "metadata": {
  "jupytext": {
   "formats": "ipynb,Rmd"
  },
  "kernelspec": {
   "display_name": "R",
   "language": "R",
   "name": "ir"
  },
  "language_info": {
   "codemirror_mode": "r",
   "file_extension": ".r",
   "mimetype": "text/x-r-source",
   "name": "R",
   "pygments_lexer": "r",
   "version": "4.2.3"
  },
  "latex_envs": {
   "LaTeX_envs_menu_present": true,
   "autoclose": false,
   "autocomplete": true,
   "bibliofile": "biblio.bib",
   "cite_by": "apalike",
   "current_citInitial": 1,
   "eqLabelWithNumbers": true,
   "eqNumInitial": 1,
   "hotkeys": {
    "equation": "Ctrl-E",
    "itemize": "Ctrl-I"
   },
   "labels_anchors": false,
   "latex_user_defs": false,
   "report_style_numbering": false,
   "user_envs_cfg": false
  }
 },
 "nbformat": 4,
 "nbformat_minor": 4
}
