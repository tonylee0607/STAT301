{
 "cells": [
  {
   "cell_type": "markdown",
   "metadata": {
    "deletable": false,
    "editable": false,
    "nbgrader": {
     "cell_type": "markdown",
     "checksum": "c0014df4f844e33ab58143bb5e201251",
     "grade": false,
     "grade_id": "cell-abfe05c13b28f3fb",
     "locked": true,
     "schema_version": 3,
     "solution": false,
     "task": false
    },
    "slideshow": {
     "slide_type": "slide"
    },
    "tags": []
   },
   "source": [
    "# STAT 301: Statistical Modelling for Data Science \n",
    "\n",
    "\n",
    "# <font color=red> Confounding Factors\n",
    "    \n",
    "## Gabriela Cohen Freue"
   ]
  },
  {
   "cell_type": "markdown",
   "metadata": {
    "deletable": false,
    "editable": false,
    "nbgrader": {
     "cell_type": "markdown",
     "checksum": "54c1d8418dcb9d131263ced1972df11e",
     "grade": false,
     "grade_id": "cell-81cf925059a39173",
     "locked": true,
     "schema_version": 3,
     "solution": false,
     "task": false
    },
    "slideshow": {
     "slide_type": "slide"
    },
    "tags": []
   },
   "source": [
    "## Last class ...\n",
    "\n",
    "- we discuss usual assumptions of LR and how to check them\n",
    "\n",
    "- we examined the problem of confounding factors through a simulation study"
   ]
  },
  {
   "cell_type": "markdown",
   "metadata": {
    "deletable": false,
    "editable": false,
    "nbgrader": {
     "cell_type": "markdown",
     "checksum": "43178f3610a1c6e91232e562ac8bebb7",
     "grade": false,
     "grade_id": "cell-1d166852b3220b9e",
     "locked": true,
     "schema_version": 3,
     "solution": false,
     "task": false
    },
    "tags": []
   },
   "source": [
    "## Today ....\n",
    "\n",
    "I'll introduce a new case study:\n",
    "\n",
    "### <font color=\"blue\"> Can we predict protein from mRNA levels?? </font>\n",
    "\n",
    "We'll use this case study in the next few weeks. Answers to questions will be evaluated through iClickers."
   ]
  },
  {
   "cell_type": "markdown",
   "metadata": {
    "deletable": false,
    "editable": false,
    "nbgrader": {
     "cell_type": "markdown",
     "checksum": "a8d04ec158a40bedbcb9a412cbf9d57a",
     "grade": false,
     "grade_id": "cell-d411b71d06d27831",
     "locked": true,
     "schema_version": 3,
     "solution": false,
     "task": false
    },
    "tags": []
   },
   "source": [
    "## Case study: relation between mRNA and protein levels\n",
    "\n",
    "The picture illustrates what is known as the Central Dogma of Biology\n",
    "\n",
    "<center>\n",
    "<img src=\"img/prot_gene.png\" width=500>\n",
    "</center>"
   ]
  },
  {
   "cell_type": "markdown",
   "metadata": {
    "deletable": false,
    "editable": false,
    "nbgrader": {
     "cell_type": "markdown",
     "checksum": "aec0d4615aadc335055c29f81a8469ad",
     "grade": false,
     "grade_id": "cell-73c3136ab4c3af30",
     "locked": true,
     "schema_version": 3,
     "solution": false,
     "task": false
    },
    "tags": []
   },
   "source": [
    "Despite expectations of a high correlation between mRNA and protein levels, experimental results have shown very low correlation values.\n",
    "\n",
    "In 2014, a research group claimed to find a \"predictive model\", which can be used to predict protein from mRNA!!\n",
    "\n",
    "> Wilhelm, M. et al. Mass-spectrometry-based draft of the human proteome. Nature 509, 582–587 (2014)\n",
    "\n",
    "> Paper from my research group: Fortelny N, Overall CM, Pavlidis P, Freue GVC. Can we predict protein from mRNA levels? Nature. 2017 Jul 26;547(7664):E19-E20. doi: 10.1038/nature22293.\n",
    "\n",
    "We'll use data from this group submitted to the Journal to examine this problem"
   ]
  },
  {
   "cell_type": "markdown",
   "metadata": {
    "deletable": false,
    "editable": false,
    "nbgrader": {
     "cell_type": "markdown",
     "checksum": "fc168b80a72327613736cabfffa8c707",
     "grade": false,
     "grade_id": "cell-ab65cd02b9e145ab",
     "locked": true,
     "schema_version": 3,
     "solution": false,
     "task": false
    },
    "tags": []
   },
   "source": [
    "### Claim\n",
    "\n",
    "Using the median ratio of protein to mRNA levels per gene as a proxy for translation rates, our data show that [...] ***it now becomes possible to predict protein abundance in any given tissue with good accuracy from the measured mRNA abundance***\n",
    "\n",
    "<center>\n",
    "<img src=\"img/nature_res.png\" width=500>\n",
    "</center>"
   ]
  },
  {
   "cell_type": "markdown",
   "metadata": {
    "deletable": false,
    "editable": false,
    "nbgrader": {
     "cell_type": "markdown",
     "checksum": "f35461dea2f04ea357cfa173d7a10b22",
     "grade": false,
     "grade_id": "cell-93535b8312494a0c",
     "locked": true,
     "schema_version": 3,
     "solution": false,
     "task": false
    },
    "tags": []
   },
   "source": [
    "In the paper, the authors estimated the relation between protein and mRNA levels *per gene*, and used those estimated models to predict protein levels *per gene*.\n",
    "\n",
    "> it will be important at a later phase of the analysis to note that models are *gene-specific*\n",
    "\n",
    "**Gene-specific models**: for each gene they estimated the following model (for simplicity we do not use a subscript $g$)  \n",
    "\n",
    "$$\\text{prot}_{t} = \\beta_1 \\; \\times \\text{mrna}_{t} + \\varepsilon_t$$ \n",
    "\n",
    "where $\\hat{\\beta}_1 = median_t(\\text{prot}_{t}/\\text{mrna}_{t})$\n",
    "\n",
    "> prot$_{t}$ and mrna$_{t}$ are the protein and mRNA levels of a gene $g$ in tissue $t$, respectively"
   ]
  },
  {
   "cell_type": "markdown",
   "metadata": {
    "deletable": false,
    "editable": false,
    "nbgrader": {
     "cell_type": "markdown",
     "checksum": "e31833da413bb1d9c3cbe8887de2e986",
     "grade": false,
     "grade_id": "cell-b9c1e1fde9b5d604",
     "locked": true,
     "schema_version": 3,
     "solution": false,
     "task": false
    },
    "tags": []
   },
   "source": [
    "**Question 1**\n",
    "\n",
    "Is this a LR model:\n",
    "\n",
    "- **A** TRUE\n",
    "\n",
    "- **B** FALSE"
   ]
  },
  {
   "cell_type": "markdown",
   "metadata": {
    "deletable": false,
    "editable": false,
    "nbgrader": {
     "cell_type": "markdown",
     "checksum": "7b3eb77661ec24c684804be1f8a32eff",
     "grade": false,
     "grade_id": "cell-d1ddcb315195db54",
     "locked": true,
     "schema_version": 3,
     "solution": false,
     "task": false
    },
    "tags": []
   },
   "source": [
    "<font color=\"blue\"> **Note that these models do not contain an intercept! and they were not estimated by LS.**</font> \n",
    "    \n",
    "While in general different models and estimation methods can be used to analyze the same data, it is important to evaluate the results according to the assumptions and the methodology used. \n",
    "    \n",
    "> The evaluation and interpretation of the results in the paper were not appropriate\n",
    "    \n",
    "*Let's take a look at the data.*"
   ]
  },
  {
   "cell_type": "markdown",
   "metadata": {
    "deletable": false,
    "editable": false,
    "nbgrader": {
     "cell_type": "markdown",
     "checksum": "cab234644383022014bed85de5078c26",
     "grade": false,
     "grade_id": "cell-e0ef634cb868a8b6",
     "locked": true,
     "schema_version": 3,
     "solution": false,
     "task": false
    },
    "slideshow": {
     "slide_type": "slide"
    },
    "tags": []
   },
   "source": [
    "### <font color=\"blue\"> This a simple linear regression!! </font>\n",
    "\n",
    "... even if the estimated ratio of the $g$-th gene, $\\hat{r}_g$, is *not* estimated by LS"
   ]
  },
  {
   "cell_type": "markdown",
   "metadata": {
    "deletable": false,
    "editable": false,
    "nbgrader": {
     "cell_type": "markdown",
     "checksum": "feb7ed8dec2340bed17bf325cb1cb4eb",
     "grade": false,
     "grade_id": "cell-e6fe4c2abef9cbb6",
     "locked": true,
     "schema_version": 3,
     "solution": false,
     "task": false
    },
    "slideshow": {
     "slide_type": "slide"
    },
    "tags": []
   },
   "source": [
    "**A.** LR with 1 continuous variable (SLR per gene): `lm(protein~mrna, data=dat_G1)`\n",
    "\n",
    "> models the relation between protein and mRNA separately for each gene \n",
    "\n",
    "\n",
    "**B.** LR with 1 categorical and 1 continuous, without interaction (additive): `lm(protein~gene+mrna,dat_3genes)`\n",
    "\n",
    "> assumes that the relation between mRNA and protein levels is the same for all genes but allows different predictions for different genes\n",
    "\n",
    "**C.** LR with 1 categorical and 1 continuous, *plus* interactions: `lm(protein~gene * mrna,dat_3genes)`\n",
    "\n",
    "> we allowed the relation between protein and mRNA to depend on gene\n",
    "\n",
    "> Wilhelm et al.: \"translation rate is a fundamental, encoded (constant) *characteristic of a transcript [gene]*\""
   ]
  },
  {
   "cell_type": "code",
   "execution_count": 1,
   "metadata": {
    "deletable": false,
    "editable": false,
    "nbgrader": {
     "cell_type": "code",
     "checksum": "33aa712e9b5c47c85800c76e0f41deec",
     "grade": false,
     "grade_id": "cell-6b08fa9c34b476b1",
     "locked": true,
     "schema_version": 3,
     "solution": false,
     "task": false
    },
    "tags": []
   },
   "outputs": [
    {
     "name": "stderr",
     "output_type": "stream",
     "text": [
      "── \u001b[1mAttaching core tidyverse packages\u001b[22m ──────────────────────── tidyverse 2.0.0 ──\n",
      "\u001b[32m✔\u001b[39m \u001b[34mdplyr    \u001b[39m 1.1.4     \u001b[32m✔\u001b[39m \u001b[34mreadr    \u001b[39m 2.1.4\n",
      "\u001b[32m✔\u001b[39m \u001b[34mforcats  \u001b[39m 1.0.0     \u001b[32m✔\u001b[39m \u001b[34mstringr  \u001b[39m 1.5.1\n",
      "\u001b[32m✔\u001b[39m \u001b[34mggplot2  \u001b[39m 3.4.4     \u001b[32m✔\u001b[39m \u001b[34mtibble   \u001b[39m 3.2.1\n",
      "\u001b[32m✔\u001b[39m \u001b[34mlubridate\u001b[39m 1.9.3     \u001b[32m✔\u001b[39m \u001b[34mtidyr    \u001b[39m 1.3.0\n",
      "\u001b[32m✔\u001b[39m \u001b[34mpurrr    \u001b[39m 1.0.2     \n",
      "── \u001b[1mConflicts\u001b[22m ────────────────────────────────────────── tidyverse_conflicts() ──\n",
      "\u001b[31m✖\u001b[39m \u001b[34mdplyr\u001b[39m::\u001b[32mfilter()\u001b[39m masks \u001b[34mstats\u001b[39m::filter()\n",
      "\u001b[31m✖\u001b[39m \u001b[34mdplyr\u001b[39m::\u001b[32mlag()\u001b[39m    masks \u001b[34mstats\u001b[39m::lag()\n",
      "\u001b[36mℹ\u001b[39m Use the conflicted package (\u001b[3m\u001b[34m<http://conflicted.r-lib.org/>\u001b[39m\u001b[23m) to force all conflicts to become errors\n",
      "\n",
      "Attaching package: ‘cowplot’\n",
      "\n",
      "\n",
      "The following object is masked from ‘package:lubridate’:\n",
      "\n",
      "    stamp\n",
      "\n",
      "\n"
     ]
    }
   ],
   "source": [
    "library(tidyverse)\n",
    "library(repr)\n",
    "library(ggplot2)\n",
    "library(cowplot)\n",
    "library(moderndive)\n",
    "library(broom)\n",
    "\n",
    "prot_mrna_dat <- read.csv(\"data/nature_dat.csv\", row.names = 1, stringsAsFactors= TRUE)"
   ]
  },
  {
   "cell_type": "markdown",
   "metadata": {
    "deletable": false,
    "editable": false,
    "nbgrader": {
     "cell_type": "markdown",
     "checksum": "478024f1650a2822581c32ec6d883e8e",
     "grade": false,
     "grade_id": "cell-ff11669f0318b4c4",
     "locked": true,
     "schema_version": 3,
     "solution": false,
     "task": false
    },
    "tags": []
   },
   "source": [
    "### A quick glance at the data:\n",
    "\n",
    "**Question 2**\n",
    "\n",
    "For how many genes with protein and mRNA values are included in the data?\n",
    "\n",
    "- **A** 4824 were measured but some have missing values\n",
    "\n",
    "- **B** 4824 were measured without any missing value\n",
    "\n",
    "- **C** 12 genes were measured for each sample\n",
    "\n",
    "- **D** 57,888 genes "
   ]
  },
  {
   "cell_type": "markdown",
   "metadata": {
    "deletable": false,
    "editable": false,
    "nbgrader": {
     "cell_type": "markdown",
     "checksum": "9385a4f9de8ca2ce80ad0169790ec164",
     "grade": false,
     "grade_id": "cell-3c1985548286640e",
     "locked": true,
     "schema_version": 3,
     "solution": false,
     "task": false
    },
    "tags": []
   },
   "source": [
    "## Subset to examine different questions\n",
    "\n",
    "We first randomly select 3 genes with complete data (no missing values) to examine some questions related to this problem"
   ]
  },
  {
   "cell_type": "code",
   "execution_count": 2,
   "metadata": {
    "deletable": false,
    "editable": false,
    "nbgrader": {
     "cell_type": "code",
     "checksum": "6fed1fd25b91787eb421c5c66fee2f5d",
     "grade": false,
     "grade_id": "cell-cd07fa5c931a3bec",
     "locked": true,
     "schema_version": 3,
     "solution": false,
     "task": false
    },
    "tags": []
   },
   "outputs": [],
   "source": [
    "set.seed(561)\n",
    "dat_3genes <- prot_mrna_dat  %>% subset(values.av == 12)  %>% \n",
    "         subset(gene %in% sample(gene,3)) "
   ]
  },
  {
   "cell_type": "code",
   "execution_count": 3,
   "metadata": {
    "deletable": false,
    "editable": false,
    "nbgrader": {
     "cell_type": "code",
     "checksum": "31d5a112ca174710b3beb8aaa881c00b",
     "grade": false,
     "grade_id": "cell-5c0c814098732a8f",
     "locked": true,
     "schema_version": 3,
     "solution": false,
     "task": false
    },
    "tags": []
   },
   "outputs": [
    {
     "data": {
      "text/html": [
       "<table class=\"dataframe\">\n",
       "<caption>A data.frame: 36 × 5</caption>\n",
       "<thead>\n",
       "\t<tr><th></th><th scope=col>gene</th><th scope=col>values.av</th><th scope=col>tissue</th><th scope=col>prot</th><th scope=col>mrna</th></tr>\n",
       "\t<tr><th></th><th scope=col>&lt;fct&gt;</th><th scope=col>&lt;int&gt;</th><th scope=col>&lt;fct&gt;</th><th scope=col>&lt;dbl&gt;</th><th scope=col>&lt;dbl&gt;</th></tr>\n",
       "</thead>\n",
       "<tbody>\n",
       "\t<tr><th scope=row>585</th><td>ENSG00000085733</td><td>12</td><td>uterus        </td><td>1.648298e-06</td><td>0.0001278</td></tr>\n",
       "\t<tr><th scope=row>2751</th><td>ENSG00000143553</td><td>12</td><td>uterus        </td><td>8.067373e-06</td><td>0.0000279</td></tr>\n",
       "\t<tr><th scope=row>3717</th><td>ENSG00000168497</td><td>12</td><td>uterus        </td><td>1.537497e-04</td><td>0.0000415</td></tr>\n",
       "\t<tr><th scope=row>5409</th><td>ENSG00000085733</td><td>12</td><td>kidney        </td><td>1.349573e-05</td><td>0.0000673</td></tr>\n",
       "\t<tr><th scope=row>7575</th><td>ENSG00000143553</td><td>12</td><td>kidney        </td><td>5.304285e-06</td><td>0.0000247</td></tr>\n",
       "\t<tr><th scope=row>8541</th><td>ENSG00000168497</td><td>12</td><td>kidney        </td><td>1.917933e-05</td><td>0.0000202</td></tr>\n",
       "\t<tr><th scope=row>10233</th><td>ENSG00000085733</td><td>12</td><td>testis        </td><td>4.069264e-05</td><td>0.0000862</td></tr>\n",
       "\t<tr><th scope=row>12399</th><td>ENSG00000143553</td><td>12</td><td>testis        </td><td>2.388999e-05</td><td>0.0000220</td></tr>\n",
       "\t<tr><th scope=row>13365</th><td>ENSG00000168497</td><td>12</td><td>testis        </td><td>3.222980e-06</td><td>0.0000054</td></tr>\n",
       "\t<tr><th scope=row>15057</th><td>ENSG00000085733</td><td>12</td><td>pancreas      </td><td>9.279162e-06</td><td>0.0000358</td></tr>\n",
       "\t<tr><th scope=row>17223</th><td>ENSG00000143553</td><td>12</td><td>pancreas      </td><td>1.552106e-05</td><td>0.0000083</td></tr>\n",
       "\t<tr><th scope=row>18189</th><td>ENSG00000168497</td><td>12</td><td>pancreas      </td><td>9.198034e-05</td><td>0.0000102</td></tr>\n",
       "\t<tr><th scope=row>19881</th><td>ENSG00000085733</td><td>12</td><td>stomach       </td><td>2.254923e-05</td><td>0.0001167</td></tr>\n",
       "\t<tr><th scope=row>22047</th><td>ENSG00000143553</td><td>12</td><td>stomach       </td><td>1.028691e-05</td><td>0.0000172</td></tr>\n",
       "\t<tr><th scope=row>23013</th><td>ENSG00000168497</td><td>12</td><td>stomach       </td><td>1.060785e-04</td><td>0.0000111</td></tr>\n",
       "\t<tr><th scope=row>24705</th><td>ENSG00000085733</td><td>12</td><td>prostate      </td><td>6.259907e-06</td><td>0.0000931</td></tr>\n",
       "\t<tr><th scope=row>26871</th><td>ENSG00000143553</td><td>12</td><td>prostate      </td><td>1.975671e-05</td><td>0.0000268</td></tr>\n",
       "\t<tr><th scope=row>27837</th><td>ENSG00000168497</td><td>12</td><td>prostate      </td><td>3.192744e-04</td><td>0.0000285</td></tr>\n",
       "\t<tr><th scope=row>29529</th><td>ENSG00000085733</td><td>12</td><td>ovary         </td><td>8.225857e-05</td><td>0.0001345</td></tr>\n",
       "\t<tr><th scope=row>31695</th><td>ENSG00000143553</td><td>12</td><td>ovary         </td><td>2.151890e-05</td><td>0.0000276</td></tr>\n",
       "\t<tr><th scope=row>32661</th><td>ENSG00000168497</td><td>12</td><td>ovary         </td><td>2.306761e-04</td><td>0.0000455</td></tr>\n",
       "\t<tr><th scope=row>34353</th><td>ENSG00000085733</td><td>12</td><td>thyroid.gland </td><td>5.948111e-07</td><td>0.0000885</td></tr>\n",
       "\t<tr><th scope=row>36519</th><td>ENSG00000143553</td><td>12</td><td>thyroid.gland </td><td>2.493561e-06</td><td>0.0000281</td></tr>\n",
       "\t<tr><th scope=row>37485</th><td>ENSG00000168497</td><td>12</td><td>thyroid.gland </td><td>9.230082e-05</td><td>0.0000745</td></tr>\n",
       "\t<tr><th scope=row>39177</th><td>ENSG00000085733</td><td>12</td><td>adrenal.gland </td><td>2.461557e-05</td><td>0.0001172</td></tr>\n",
       "\t<tr><th scope=row>41343</th><td>ENSG00000143553</td><td>12</td><td>adrenal.gland </td><td>2.360148e-05</td><td>0.0000300</td></tr>\n",
       "\t<tr><th scope=row>42309</th><td>ENSG00000168497</td><td>12</td><td>adrenal.gland </td><td>3.169199e-05</td><td>0.0000242</td></tr>\n",
       "\t<tr><th scope=row>44001</th><td>ENSG00000085733</td><td>12</td><td>salivary.gland</td><td>6.050506e-05</td><td>0.0000661</td></tr>\n",
       "\t<tr><th scope=row>46167</th><td>ENSG00000143553</td><td>12</td><td>salivary.gland</td><td>6.710906e-05</td><td>0.0000166</td></tr>\n",
       "\t<tr><th scope=row>47133</th><td>ENSG00000168497</td><td>12</td><td>salivary.gland</td><td>1.122272e-05</td><td>0.0000045</td></tr>\n",
       "\t<tr><th scope=row>48825</th><td>ENSG00000085733</td><td>12</td><td>spleen        </td><td>1.854525e-05</td><td>0.0000661</td></tr>\n",
       "\t<tr><th scope=row>50991</th><td>ENSG00000143553</td><td>12</td><td>spleen        </td><td>2.135926e-05</td><td>0.0000245</td></tr>\n",
       "\t<tr><th scope=row>51957</th><td>ENSG00000168497</td><td>12</td><td>spleen        </td><td>1.213953e-04</td><td>0.0000958</td></tr>\n",
       "\t<tr><th scope=row>53649</th><td>ENSG00000085733</td><td>12</td><td>esophagus     </td><td>1.872389e-05</td><td>0.0000857</td></tr>\n",
       "\t<tr><th scope=row>55815</th><td>ENSG00000143553</td><td>12</td><td>esophagus     </td><td>8.538928e-06</td><td>0.0000282</td></tr>\n",
       "\t<tr><th scope=row>56781</th><td>ENSG00000168497</td><td>12</td><td>esophagus     </td><td>1.734338e-04</td><td>0.0000457</td></tr>\n",
       "</tbody>\n",
       "</table>\n"
      ],
      "text/latex": [
       "A data.frame: 36 × 5\n",
       "\\begin{tabular}{r|lllll}\n",
       "  & gene & values.av & tissue & prot & mrna\\\\\n",
       "  & <fct> & <int> & <fct> & <dbl> & <dbl>\\\\\n",
       "\\hline\n",
       "\t585 & ENSG00000085733 & 12 & uterus         & 1.648298e-06 & 0.0001278\\\\\n",
       "\t2751 & ENSG00000143553 & 12 & uterus         & 8.067373e-06 & 0.0000279\\\\\n",
       "\t3717 & ENSG00000168497 & 12 & uterus         & 1.537497e-04 & 0.0000415\\\\\n",
       "\t5409 & ENSG00000085733 & 12 & kidney         & 1.349573e-05 & 0.0000673\\\\\n",
       "\t7575 & ENSG00000143553 & 12 & kidney         & 5.304285e-06 & 0.0000247\\\\\n",
       "\t8541 & ENSG00000168497 & 12 & kidney         & 1.917933e-05 & 0.0000202\\\\\n",
       "\t10233 & ENSG00000085733 & 12 & testis         & 4.069264e-05 & 0.0000862\\\\\n",
       "\t12399 & ENSG00000143553 & 12 & testis         & 2.388999e-05 & 0.0000220\\\\\n",
       "\t13365 & ENSG00000168497 & 12 & testis         & 3.222980e-06 & 0.0000054\\\\\n",
       "\t15057 & ENSG00000085733 & 12 & pancreas       & 9.279162e-06 & 0.0000358\\\\\n",
       "\t17223 & ENSG00000143553 & 12 & pancreas       & 1.552106e-05 & 0.0000083\\\\\n",
       "\t18189 & ENSG00000168497 & 12 & pancreas       & 9.198034e-05 & 0.0000102\\\\\n",
       "\t19881 & ENSG00000085733 & 12 & stomach        & 2.254923e-05 & 0.0001167\\\\\n",
       "\t22047 & ENSG00000143553 & 12 & stomach        & 1.028691e-05 & 0.0000172\\\\\n",
       "\t23013 & ENSG00000168497 & 12 & stomach        & 1.060785e-04 & 0.0000111\\\\\n",
       "\t24705 & ENSG00000085733 & 12 & prostate       & 6.259907e-06 & 0.0000931\\\\\n",
       "\t26871 & ENSG00000143553 & 12 & prostate       & 1.975671e-05 & 0.0000268\\\\\n",
       "\t27837 & ENSG00000168497 & 12 & prostate       & 3.192744e-04 & 0.0000285\\\\\n",
       "\t29529 & ENSG00000085733 & 12 & ovary          & 8.225857e-05 & 0.0001345\\\\\n",
       "\t31695 & ENSG00000143553 & 12 & ovary          & 2.151890e-05 & 0.0000276\\\\\n",
       "\t32661 & ENSG00000168497 & 12 & ovary          & 2.306761e-04 & 0.0000455\\\\\n",
       "\t34353 & ENSG00000085733 & 12 & thyroid.gland  & 5.948111e-07 & 0.0000885\\\\\n",
       "\t36519 & ENSG00000143553 & 12 & thyroid.gland  & 2.493561e-06 & 0.0000281\\\\\n",
       "\t37485 & ENSG00000168497 & 12 & thyroid.gland  & 9.230082e-05 & 0.0000745\\\\\n",
       "\t39177 & ENSG00000085733 & 12 & adrenal.gland  & 2.461557e-05 & 0.0001172\\\\\n",
       "\t41343 & ENSG00000143553 & 12 & adrenal.gland  & 2.360148e-05 & 0.0000300\\\\\n",
       "\t42309 & ENSG00000168497 & 12 & adrenal.gland  & 3.169199e-05 & 0.0000242\\\\\n",
       "\t44001 & ENSG00000085733 & 12 & salivary.gland & 6.050506e-05 & 0.0000661\\\\\n",
       "\t46167 & ENSG00000143553 & 12 & salivary.gland & 6.710906e-05 & 0.0000166\\\\\n",
       "\t47133 & ENSG00000168497 & 12 & salivary.gland & 1.122272e-05 & 0.0000045\\\\\n",
       "\t48825 & ENSG00000085733 & 12 & spleen         & 1.854525e-05 & 0.0000661\\\\\n",
       "\t50991 & ENSG00000143553 & 12 & spleen         & 2.135926e-05 & 0.0000245\\\\\n",
       "\t51957 & ENSG00000168497 & 12 & spleen         & 1.213953e-04 & 0.0000958\\\\\n",
       "\t53649 & ENSG00000085733 & 12 & esophagus      & 1.872389e-05 & 0.0000857\\\\\n",
       "\t55815 & ENSG00000143553 & 12 & esophagus      & 8.538928e-06 & 0.0000282\\\\\n",
       "\t56781 & ENSG00000168497 & 12 & esophagus      & 1.734338e-04 & 0.0000457\\\\\n",
       "\\end{tabular}\n"
      ],
      "text/markdown": [
       "\n",
       "A data.frame: 36 × 5\n",
       "\n",
       "| <!--/--> | gene &lt;fct&gt; | values.av &lt;int&gt; | tissue &lt;fct&gt; | prot &lt;dbl&gt; | mrna &lt;dbl&gt; |\n",
       "|---|---|---|---|---|---|\n",
       "| 585 | ENSG00000085733 | 12 | uterus         | 1.648298e-06 | 0.0001278 |\n",
       "| 2751 | ENSG00000143553 | 12 | uterus         | 8.067373e-06 | 0.0000279 |\n",
       "| 3717 | ENSG00000168497 | 12 | uterus         | 1.537497e-04 | 0.0000415 |\n",
       "| 5409 | ENSG00000085733 | 12 | kidney         | 1.349573e-05 | 0.0000673 |\n",
       "| 7575 | ENSG00000143553 | 12 | kidney         | 5.304285e-06 | 0.0000247 |\n",
       "| 8541 | ENSG00000168497 | 12 | kidney         | 1.917933e-05 | 0.0000202 |\n",
       "| 10233 | ENSG00000085733 | 12 | testis         | 4.069264e-05 | 0.0000862 |\n",
       "| 12399 | ENSG00000143553 | 12 | testis         | 2.388999e-05 | 0.0000220 |\n",
       "| 13365 | ENSG00000168497 | 12 | testis         | 3.222980e-06 | 0.0000054 |\n",
       "| 15057 | ENSG00000085733 | 12 | pancreas       | 9.279162e-06 | 0.0000358 |\n",
       "| 17223 | ENSG00000143553 | 12 | pancreas       | 1.552106e-05 | 0.0000083 |\n",
       "| 18189 | ENSG00000168497 | 12 | pancreas       | 9.198034e-05 | 0.0000102 |\n",
       "| 19881 | ENSG00000085733 | 12 | stomach        | 2.254923e-05 | 0.0001167 |\n",
       "| 22047 | ENSG00000143553 | 12 | stomach        | 1.028691e-05 | 0.0000172 |\n",
       "| 23013 | ENSG00000168497 | 12 | stomach        | 1.060785e-04 | 0.0000111 |\n",
       "| 24705 | ENSG00000085733 | 12 | prostate       | 6.259907e-06 | 0.0000931 |\n",
       "| 26871 | ENSG00000143553 | 12 | prostate       | 1.975671e-05 | 0.0000268 |\n",
       "| 27837 | ENSG00000168497 | 12 | prostate       | 3.192744e-04 | 0.0000285 |\n",
       "| 29529 | ENSG00000085733 | 12 | ovary          | 8.225857e-05 | 0.0001345 |\n",
       "| 31695 | ENSG00000143553 | 12 | ovary          | 2.151890e-05 | 0.0000276 |\n",
       "| 32661 | ENSG00000168497 | 12 | ovary          | 2.306761e-04 | 0.0000455 |\n",
       "| 34353 | ENSG00000085733 | 12 | thyroid.gland  | 5.948111e-07 | 0.0000885 |\n",
       "| 36519 | ENSG00000143553 | 12 | thyroid.gland  | 2.493561e-06 | 0.0000281 |\n",
       "| 37485 | ENSG00000168497 | 12 | thyroid.gland  | 9.230082e-05 | 0.0000745 |\n",
       "| 39177 | ENSG00000085733 | 12 | adrenal.gland  | 2.461557e-05 | 0.0001172 |\n",
       "| 41343 | ENSG00000143553 | 12 | adrenal.gland  | 2.360148e-05 | 0.0000300 |\n",
       "| 42309 | ENSG00000168497 | 12 | adrenal.gland  | 3.169199e-05 | 0.0000242 |\n",
       "| 44001 | ENSG00000085733 | 12 | salivary.gland | 6.050506e-05 | 0.0000661 |\n",
       "| 46167 | ENSG00000143553 | 12 | salivary.gland | 6.710906e-05 | 0.0000166 |\n",
       "| 47133 | ENSG00000168497 | 12 | salivary.gland | 1.122272e-05 | 0.0000045 |\n",
       "| 48825 | ENSG00000085733 | 12 | spleen         | 1.854525e-05 | 0.0000661 |\n",
       "| 50991 | ENSG00000143553 | 12 | spleen         | 2.135926e-05 | 0.0000245 |\n",
       "| 51957 | ENSG00000168497 | 12 | spleen         | 1.213953e-04 | 0.0000958 |\n",
       "| 53649 | ENSG00000085733 | 12 | esophagus      | 1.872389e-05 | 0.0000857 |\n",
       "| 55815 | ENSG00000143553 | 12 | esophagus      | 8.538928e-06 | 0.0000282 |\n",
       "| 56781 | ENSG00000168497 | 12 | esophagus      | 1.734338e-04 | 0.0000457 |\n",
       "\n"
      ],
      "text/plain": [
       "      gene            values.av tissue         prot         mrna     \n",
       "585   ENSG00000085733 12        uterus         1.648298e-06 0.0001278\n",
       "2751  ENSG00000143553 12        uterus         8.067373e-06 0.0000279\n",
       "3717  ENSG00000168497 12        uterus         1.537497e-04 0.0000415\n",
       "5409  ENSG00000085733 12        kidney         1.349573e-05 0.0000673\n",
       "7575  ENSG00000143553 12        kidney         5.304285e-06 0.0000247\n",
       "8541  ENSG00000168497 12        kidney         1.917933e-05 0.0000202\n",
       "10233 ENSG00000085733 12        testis         4.069264e-05 0.0000862\n",
       "12399 ENSG00000143553 12        testis         2.388999e-05 0.0000220\n",
       "13365 ENSG00000168497 12        testis         3.222980e-06 0.0000054\n",
       "15057 ENSG00000085733 12        pancreas       9.279162e-06 0.0000358\n",
       "17223 ENSG00000143553 12        pancreas       1.552106e-05 0.0000083\n",
       "18189 ENSG00000168497 12        pancreas       9.198034e-05 0.0000102\n",
       "19881 ENSG00000085733 12        stomach        2.254923e-05 0.0001167\n",
       "22047 ENSG00000143553 12        stomach        1.028691e-05 0.0000172\n",
       "23013 ENSG00000168497 12        stomach        1.060785e-04 0.0000111\n",
       "24705 ENSG00000085733 12        prostate       6.259907e-06 0.0000931\n",
       "26871 ENSG00000143553 12        prostate       1.975671e-05 0.0000268\n",
       "27837 ENSG00000168497 12        prostate       3.192744e-04 0.0000285\n",
       "29529 ENSG00000085733 12        ovary          8.225857e-05 0.0001345\n",
       "31695 ENSG00000143553 12        ovary          2.151890e-05 0.0000276\n",
       "32661 ENSG00000168497 12        ovary          2.306761e-04 0.0000455\n",
       "34353 ENSG00000085733 12        thyroid.gland  5.948111e-07 0.0000885\n",
       "36519 ENSG00000143553 12        thyroid.gland  2.493561e-06 0.0000281\n",
       "37485 ENSG00000168497 12        thyroid.gland  9.230082e-05 0.0000745\n",
       "39177 ENSG00000085733 12        adrenal.gland  2.461557e-05 0.0001172\n",
       "41343 ENSG00000143553 12        adrenal.gland  2.360148e-05 0.0000300\n",
       "42309 ENSG00000168497 12        adrenal.gland  3.169199e-05 0.0000242\n",
       "44001 ENSG00000085733 12        salivary.gland 6.050506e-05 0.0000661\n",
       "46167 ENSG00000143553 12        salivary.gland 6.710906e-05 0.0000166\n",
       "47133 ENSG00000168497 12        salivary.gland 1.122272e-05 0.0000045\n",
       "48825 ENSG00000085733 12        spleen         1.854525e-05 0.0000661\n",
       "50991 ENSG00000143553 12        spleen         2.135926e-05 0.0000245\n",
       "51957 ENSG00000168497 12        spleen         1.213953e-04 0.0000958\n",
       "53649 ENSG00000085733 12        esophagus      1.872389e-05 0.0000857\n",
       "55815 ENSG00000143553 12        esophagus      8.538928e-06 0.0000282\n",
       "56781 ENSG00000168497 12        esophagus      1.734338e-04 0.0000457"
      ]
     },
     "metadata": {},
     "output_type": "display_data"
    }
   ],
   "source": [
    "dat_3genes"
   ]
  },
  {
   "cell_type": "markdown",
   "metadata": {
    "deletable": false,
    "editable": false,
    "nbgrader": {
     "cell_type": "markdown",
     "checksum": "d86b16871361e81e0eb63c2fc6b2ac97",
     "grade": false,
     "grade_id": "cell-ee11d5e00250bfb3",
     "locked": true,
     "schema_version": 3,
     "solution": false,
     "task": false
    },
    "tags": []
   },
   "source": [
    "**Question 3**\n",
    "\n",
    "In how many tissues were each gene measured?\n",
    "\n",
    "- **A** 12 genes per tissue\n",
    "\n",
    "- **B** 12 tissues per genes\n",
    "\n",
    "- **C** 3 tissues per gene\n",
    "\n",
    "- **D** 36 tissues per gene"
   ]
  },
  {
   "cell_type": "markdown",
   "metadata": {
    "deletable": false,
    "editable": false,
    "nbgrader": {
     "cell_type": "markdown",
     "checksum": "f6e07ff907429417eb71fed4917b5244",
     "grade": false,
     "grade_id": "cell-1203935f3f8bfd18",
     "locked": true,
     "schema_version": 3,
     "solution": false,
     "task": false
    },
    "tags": []
   },
   "source": [
    "## SLR: can we predict protein from mRNA (separately for each gene)? \n",
    "\n",
    "**Question 4**\n",
    "\n",
    "The authors emphasized the importance of estimating *gene-specific* models to predict protein levels from mRNA levels. Which model do you think would be appropriate to address this question??\n",
    "\n",
    "- **A** `dat_3genes %>% lm(prot ~ mrna, data = .) %>% tidy()`\n",
    "\n",
    "- **B** `dat_3genes %>% group_by(gene) %>% do(model=tidy(lm(prot ~ mrna, data = .))) %>% pull()`\n",
    "\n",
    "- **C** `dat_3genes %>% lm(prot ~ mrna + gene, data = .) %>% tidy()`"
   ]
  },
  {
   "cell_type": "markdown",
   "metadata": {
    "deletable": false,
    "editable": false,
    "nbgrader": {
     "cell_type": "markdown",
     "checksum": "6697fa9515be7fc29f6a8a20e3b08dc3",
     "grade": false,
     "grade_id": "cell-3a4a0edea9888ab8",
     "locked": true,
     "schema_version": 3,
     "solution": false,
     "task": false
    },
    "tags": []
   },
   "source": [
    "**Question 5**\n",
    "\n",
    "The following 2 codes can be used to estimate gene-specific models for the 3 selected genes. Which of the following statement is FALSE??\n",
    "\n",
    "`dat_3genes %>% group_by(gene) %>% do(model=tidy(lm(prot ~ mrna, data = .))) %>% pull()`\n",
    "\n",
    "vs\n",
    "\n",
    "`dat_3genes %>% lm(prot ~ mrna * gene, data = .) %>% tidy()`\n",
    "\n",
    "\n",
    "- **A** both codes give us equivalent information, just different output format\n",
    "\n",
    "- **B** both codes give us the same estimates for the coefficients of 3 LRs but different SEs\n",
    "\n",
    "- **C** these models are not appropriate, we need to fit an additive model: `dat_3genes %>% lm(prot ~ mrna + gene, data = .)`\n",
    "\n",
    "- **D** both codes can be used to predict protein levels using *gene-specific* models\n"
   ]
  },
  {
   "cell_type": "markdown",
   "metadata": {
    "deletable": false,
    "editable": false,
    "nbgrader": {
     "cell_type": "markdown",
     "checksum": "0ff9b53d6d5078f5042834a089aea7cb",
     "grade": false,
     "grade_id": "cell-3e89f661013ff33b",
     "locked": true,
     "schema_version": 3,
     "solution": false,
     "task": false
    },
    "tags": []
   },
   "source": [
    "### Visualization"
   ]
  },
  {
   "cell_type": "code",
   "execution_count": null,
   "metadata": {
    "deletable": false,
    "editable": false,
    "nbgrader": {
     "cell_type": "code",
     "checksum": "fd7b8c5e2793c4fab70326bbcae44281",
     "grade": false,
     "grade_id": "cell-e7c21c80c53fe9b3",
     "locked": true,
     "schema_version": 3,
     "solution": false,
     "task": false
    },
    "tags": []
   },
   "outputs": [],
   "source": [
    "plot_A <- dat_3genes %>% ggplot(aes(mrna,prot, color = gene)) +\n",
    "    geom_point() + \n",
    "    geom_smooth(method = lm, se = FALSE, linewidth = 1.5,fullrange=TRUE)\n",
    "\n",
    "plot_B <- dat_3genes %>% ggplot(aes(mrna,prot, color = gene)) +\n",
    "    geom_point() + \n",
    "    geom_parallel_slopes(fullrange=TRUE, se= FALSE, linewidth = 1.5)\n",
    "\n",
    "plot_all <- plot_grid(\n",
    "  plot_A + theme(legend.position=\"none\"),\n",
    "  plot_B  + theme(legend.position=\"none\"),\n",
    "  align = 'vh',\n",
    "  labels = c(\"A\", \"B\"),\n",
    "  vjust = -1,\n",
    "  nrow = 1\n",
    ")\n",
    "\n",
    "# extract a legend \n",
    "legend_all <- get_legend(plot_A + \n",
    "    guides(color = guide_legend(nrow = 1)) +\n",
    "    theme(legend.position = \"bottom\")\n",
    ")\n",
    "\n",
    "plot_all <- plot_grid(plot_all, legend_all, ncol = 1, rel_heights = c(1, .1))"
   ]
  },
  {
   "cell_type": "code",
   "execution_count": null,
   "metadata": {
    "deletable": false,
    "editable": false,
    "nbgrader": {
     "cell_type": "code",
     "checksum": "e3eef6221278a1db4700161327c5e99a",
     "grade": false,
     "grade_id": "cell-ca159723cc11890b",
     "locked": true,
     "schema_version": 3,
     "solution": false,
     "task": false
    },
    "tags": []
   },
   "outputs": [],
   "source": [
    "plot_all"
   ]
  },
  {
   "cell_type": "markdown",
   "metadata": {
    "deletable": false,
    "editable": false,
    "nbgrader": {
     "cell_type": "markdown",
     "checksum": "a16ce7ef30d07669e4d8135022a84c30",
     "grade": false,
     "grade_id": "cell-82d5f13eff9a29fd",
     "locked": true,
     "schema_version": 3,
     "solution": false,
     "task": false
    },
    "tags": []
   },
   "source": [
    "**Question 6**\n",
    "\n",
    "Plot A corresponds to a model with interaction terms and can be estimated with the following code: \n",
    "\n",
    "`dat_3genes %>% lm(prot ~ mrna * gene, data = .) %>% tidy()`\n",
    "\n",
    "This model can be used to answer the authors' question because:\n",
    "\n",
    "- **A** it estimates the change in protein level per unit change in mRNA level, separately per each gene\n",
    "\n",
    "- **B** it estimates the change in protein level per unit change in mRNA level, holding everything else constant\n",
    "\n",
    "- **C** it estimates the change in protein level per unit change in mRNA level, on average for all genes"
   ]
  },
  {
   "cell_type": "markdown",
   "metadata": {
    "deletable": false,
    "editable": false,
    "nbgrader": {
     "cell_type": "markdown",
     "checksum": "7d4b598168c41ad4071c5f986c28a307",
     "grade": false,
     "grade_id": "cell-04d0164075cefc39",
     "locked": true,
     "schema_version": 3,
     "solution": false,
     "task": false
    },
    "tags": []
   },
   "source": [
    "**Question 7**\n",
    "\n",
    "Plot B corresponds to an additive model and can be estimated with the following code: \n",
    "\n",
    "`dat_3genes %>% lm(prot ~ mrna + gene, data = .) %>% tidy()`\n",
    "\n",
    "- **A** TRUE\n",
    "\n",
    "- **B** FALSE"
   ]
  },
  {
   "cell_type": "markdown",
   "metadata": {
    "deletable": false,
    "editable": false,
    "nbgrader": {
     "cell_type": "markdown",
     "checksum": "f5223464875892076f9783446eaf676d",
     "grade": false,
     "grade_id": "cell-e654a540d6e38a6e",
     "locked": true,
     "schema_version": 3,
     "solution": false,
     "task": false
    },
    "tags": []
   },
   "source": [
    "**Question 8**\n",
    "\n",
    "Which of the following statements is correct??\n",
    "\n",
    "- **A** The model in plot A was fitted using 3 dummy variables, one per gene\n",
    "\n",
    "- **B** The model in plot A was fitted using 2 dummy variables\n",
    "\n",
    "- **C** The model in plot A was fitted using more dummy variables than that in plot B because the slopes are different\n",
    "\n",
    "- **D** I have no idea what dummy variable is!!"
   ]
  }
 ],
 "metadata": {
  "kernelspec": {
   "display_name": "R",
   "language": "R",
   "name": "ir"
  },
  "language_info": {
   "codemirror_mode": "r",
   "file_extension": ".r",
   "mimetype": "text/x-r-source",
   "name": "R",
   "pygments_lexer": "r",
   "version": "4.2.3"
  }
 },
 "nbformat": 4,
 "nbformat_minor": 4
}
