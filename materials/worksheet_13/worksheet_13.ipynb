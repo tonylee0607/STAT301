{
 "cells": [
  {
   "cell_type": "markdown",
   "metadata": {
    "deletable": false,
    "editable": false,
    "nbgrader": {
     "cell_type": "markdown",
     "checksum": "80e3857fe7041b8f62451b62c246063c",
     "grade": false,
     "grade_id": "cell-f1e1d845873036f4",
     "locked": true,
     "schema_version": 3,
     "solution": false,
     "task": false
    }
   },
   "source": [
    "# Worksheet 13: Classifiers as an Important Class of Predictive Models"
   ]
  },
  {
   "cell_type": "markdown",
   "metadata": {
    "deletable": false,
    "editable": false,
    "nbgrader": {
     "cell_type": "markdown",
     "checksum": "cca84cb3ce52ad19008100efebf7400a",
     "grade": false,
     "grade_id": "cell-82d9926086d47a80",
     "locked": true,
     "schema_version": 3,
     "solution": false,
     "task": false
    }
   },
   "source": [
    "#### Lecture and Tutorial Learning Goals:\n",
    "After completing this week's lecture and tutorial work, you will be able to:\n",
    "\n",
    "1. Give an example of a research question that requires a predictive model to predict classes on new observations.\n",
    "2. Explain the trade-offs between model-based and non-model based approaches, and describe situations where each might be the preferred approach.\n",
    "3. Write a computer script to perform model selection using ridge and LASSO regressions to fit a logistic regression useful for predictive modeling.\n",
    "4. List model metrics that are suitable to evaluate predicted classes given by a predictive model with binary responses (e.g., Accuracy, Precision, Sensitivity, Specificity, Cohen's kappa).\n",
    "5. Write a computer script to compute these model metrics. Interpret and communicate the results from that computer script."
   ]
  },
  {
   "cell_type": "code",
   "execution_count": 1,
   "metadata": {
    "deletable": false,
    "editable": false,
    "nbgrader": {
     "cell_type": "code",
     "checksum": "48ff8e497b26b4f5aad0b5058b971432",
     "grade": false,
     "grade_id": "cell-a2a153352bc44a68",
     "locked": true,
     "schema_version": 3,
     "solution": false,
     "task": false
    },
    "tags": []
   },
   "outputs": [
    {
     "name": "stderr",
     "output_type": "stream",
     "text": [
      "── \u001b[1mAttaching core tidyverse packages\u001b[22m ──────────────────────── tidyverse 2.0.0 ──\n",
      "\u001b[32m✔\u001b[39m \u001b[34mdplyr    \u001b[39m 1.1.4     \u001b[32m✔\u001b[39m \u001b[34mreadr    \u001b[39m 2.1.4\n",
      "\u001b[32m✔\u001b[39m \u001b[34mforcats  \u001b[39m 1.0.0     \u001b[32m✔\u001b[39m \u001b[34mstringr  \u001b[39m 1.5.1\n",
      "\u001b[32m✔\u001b[39m \u001b[34mggplot2  \u001b[39m 3.4.4     \u001b[32m✔\u001b[39m \u001b[34mtibble   \u001b[39m 3.2.1\n",
      "\u001b[32m✔\u001b[39m \u001b[34mlubridate\u001b[39m 1.9.3     \u001b[32m✔\u001b[39m \u001b[34mtidyr    \u001b[39m 1.3.0\n",
      "\u001b[32m✔\u001b[39m \u001b[34mpurrr    \u001b[39m 1.0.2     \n",
      "── \u001b[1mConflicts\u001b[22m ────────────────────────────────────────── tidyverse_conflicts() ──\n",
      "\u001b[31m✖\u001b[39m \u001b[34mdplyr\u001b[39m::\u001b[32mfilter()\u001b[39m masks \u001b[34mstats\u001b[39m::filter()\n",
      "\u001b[31m✖\u001b[39m \u001b[34mdplyr\u001b[39m::\u001b[32mlag()\u001b[39m    masks \u001b[34mstats\u001b[39m::lag()\n",
      "\u001b[36mℹ\u001b[39m Use the conflicted package (\u001b[3m\u001b[34m<http://conflicted.r-lib.org/>\u001b[39m\u001b[23m) to force all conflicts to become errors\n",
      "\n",
      "Attaching package: ‘gridExtra’\n",
      "\n",
      "\n",
      "The following object is masked from ‘package:dplyr’:\n",
      "\n",
      "    combine\n",
      "\n",
      "\n",
      "Loading required package: lattice\n",
      "\n",
      "\n",
      "Attaching package: ‘caret’\n",
      "\n",
      "\n",
      "The following object is masked from ‘package:purrr’:\n",
      "\n",
      "    lift\n",
      "\n",
      "\n",
      "Type 'citation(\"pROC\")' for a citation.\n",
      "\n",
      "\n",
      "Attaching package: ‘pROC’\n",
      "\n",
      "\n",
      "The following objects are masked from ‘package:stats’:\n",
      "\n",
      "    cov, smooth, var\n",
      "\n",
      "\n",
      "\n",
      "Attaching package: ‘boot’\n",
      "\n",
      "\n",
      "The following object is masked from ‘package:lattice’:\n",
      "\n",
      "    melanoma\n",
      "\n",
      "\n",
      "Loading required package: Matrix\n",
      "\n",
      "\n",
      "Attaching package: ‘Matrix’\n",
      "\n",
      "\n",
      "The following objects are masked from ‘package:tidyr’:\n",
      "\n",
      "    expand, pack, unpack\n",
      "\n",
      "\n",
      "Loaded glmnet 4.1-8\n",
      "\n",
      "\n",
      "Attaching package: ‘testthat’\n",
      "\n",
      "\n",
      "The following object is masked from ‘package:dplyr’:\n",
      "\n",
      "    matches\n",
      "\n",
      "\n",
      "The following object is masked from ‘package:purrr’:\n",
      "\n",
      "    is_null\n",
      "\n",
      "\n",
      "The following objects are masked from ‘package:readr’:\n",
      "\n",
      "    edition_get, local_edition\n",
      "\n",
      "\n",
      "The following object is masked from ‘package:tidyr’:\n",
      "\n",
      "    matches\n",
      "\n",
      "\n"
     ]
    }
   ],
   "source": [
    "# Run this cell before continuing.\n",
    "library(tidyverse)\n",
    "library(repr)\n",
    "library(infer)\n",
    "library(gridExtra)\n",
    "library(caret)\n",
    "library(pROC)\n",
    "library(boot)\n",
    "library(glmnet)\n",
    "source(\"tests_worksheet_13.R\")"
   ]
  },
  {
   "cell_type": "markdown",
   "metadata": {
    "deletable": false,
    "editable": false,
    "jp-MarkdownHeadingCollapsed": true,
    "nbgrader": {
     "cell_type": "markdown",
     "checksum": "cd5a7e3af167bf4e4a6abe6d668b4476",
     "grade": false,
     "grade_id": "cell-d49da5ef86c90dee",
     "locked": true,
     "schema_version": 3,
     "solution": false,
     "task": false
    },
    "tags": []
   },
   "source": [
    "## Predicting classes\n",
    "\n",
    "In previous weeks, we have focused more on the inferential aspects of the models. This week, we are switching our focus to prediction since in many situations the inference is not a priority. \n",
    "\n",
    "When diagnosing a disease, a doctor obtains the patient's medical history and some contextual information (e.g., profession, age, has the patient travelled abroad? etc.), wich combined with some tests results, allows the doctor to make a diagnosis. \n",
    "\n",
    "A priori, the patient doesn't care how exactly the doctor made the diagnosis. For example, did the doctor give more importance to the patient's age? or maybe to the result of a blood test? or even a complex combination of those two? Whatever! As long as the diagnosis is correct.\n",
    "\n",
    "However, to analyze whether the doctor's process (or *model*) to make the diagnosis is reliable, we must consider different aspects. For example,\n",
    "\n",
    "- Is the doctor able to positively diagnose a high percentage of sick patients? (*sensitivity*)\n",
    "- Is the doctor able to correctly identify a high percentage of non-sick patients? (*specificity*)\n",
    "- If the doctor says that a patient is sick, is there a high chance that the patient is sick? (*precision*)\n",
    "- Considering all the doctor's positive and negative diagnoses, is the doctor right in most cases? (*accuracy*)\n",
    "\n",
    "At first glance, looking at all these aspects might look redundant. But let's try to understand why it is not. \n",
    "\n",
    "For example, \n",
    "\n",
    "- If the doctors always said a patient was sick, all the sick patients would be diagnosed. Therefore, the doctor would have great *sensitivity*. However, this doesn't seem very helpful, right? This would be reflected by the doctor's precision.\n",
    "- On the other hand, if the doctor only diagnoses patients as sick if there's overwhelming evidence, then the *precision* would be quite high. However, the *sensitivity* would be low, i.e., many sick patients wouldn't be diagnosed.\n",
    "- Imagine a very rare disease. Say 1 case in 100K people. If the doctor always says that the patient is not sick of that disease, then the accuracy will still be pretty high because the part he is getting wrong is quite small. Nonetheless, quite important! \n",
    "\n",
    "We are going to define these metrics later in the worksheet; this is just a motivation to show you that, for classification problems, only one metric might not be enough to give you the whole picture. "
   ]
  },
  {
   "cell_type": "markdown",
   "metadata": {
    "deletable": false,
    "editable": false,
    "nbgrader": {
     "cell_type": "markdown",
     "checksum": "9d39779c4637560218a3aaf385a417e3",
     "grade": false,
     "grade_id": "cell-9be71f65643c5906",
     "locked": true,
     "schema_version": 3,
     "solution": false,
     "task": false
    },
    "tags": []
   },
   "source": [
    "## 1. Prediction in Logistic Regression\n",
    "\n",
    "In the previous week, we introduced logistic regression as a generative model for binary responses. We have already used this model for inferential purposes. Nonetheless, this model can also be used for predictions, i.e., using an estimated logistic model (via a training set) to classify new observations from a test set. \n",
    "\n",
    "To check prediction accuracy in classification, we cannot use metrics such as the **Root Mean Squared Error (R-MSE)** as in ordinary least squares (OLS) regression (check `worksheet_09` and `tutorial_09`). Therefore, this worksheet will introduce new metrics meant for logistic regression."
   ]
  },
  {
   "cell_type": "markdown",
   "metadata": {
    "deletable": false,
    "editable": false,
    "nbgrader": {
     "cell_type": "markdown",
     "checksum": "d38f4e0983e73bb19952302f676a7ed7",
     "grade": false,
     "grade_id": "cell-de7ac4434bc7a15a",
     "locked": true,
     "schema_version": 3,
     "solution": false,
     "task": false
    }
   },
   "source": [
    "#### Dataset\n",
    "\n",
    "For this worksheet, we will use the data frame `breast_cancer`. It is the Wisconsin Diagnostic Breast Cancer dataset ([Mangasarian et al., 1995](http://ubc.summon.serialssolutions.com/2.0.0/link/0/eLvHCXMwlV1Nb9QwEB2xPSA4tHQLohRKDoDgsDSJndiRKlApVBx74PNk2bGDKui2jbf8Ff4uM46tbpZKFZdIO55NvNLLeLx-8waAla_z2UpMEAZXtlZKzllZGSk7WTBdtDa3ts6N61aoOnUqjSGWZaAJhkN9zJfML7dHCi-yfnt-MaPmUXTIGjtpTGAi2cDr-rKkvFsPbQwYBpyafxsvQMTDbPEOVxE5yQSH8iZKHH2iKv4TrsMadLQBKk03kU9WagPHAo___7vuwXpMT7ODAU-bcMvNp3A7seOnsJG6QGQxKEzh7pKk4RQ2o91nL6Oi9ast-LN_qvufb94RAX6xvxc-ZIPtkFDXj23vB_rfiR-b9dxmx_3ZdUO_T_TYgFtsfIXHtuOBinaK84wD9-Hz0YdPhx9nsSPEDPeBJWmp6pJ3VS1tzlvR8Ua6WljWlm3RaMkMs52R1jmJWGu4a6wwtugaaauGtQWaH8Da_GzuHkJWVlpwbgpthKOz3aZsmeRWC9mJxnG7DS8STNT5IPyhaMOEO0xF_WkUZ4qrSuTomEB0k-MzgpiK3UXx4un_F_9DX3qvDjCPw2yPMbxfcCPwLXrd6lgngdMmqa5lx6cJqyoiNTzQLz3xeRq4YWZbAYxXXgGJ27CT8K5iZPOqJEFAUnl8dP2XduDOUPVPjObHsLboL92TIGmxCxPx9TteMcDshnf0L2aRR50)). It has a **binary** response `target`: whether the tumour is `benign` or `malignant`. Hence, the binary response $Y_i$ is mathematically set as:\n",
    "\n",
    "$$\n",
    "Y_i =\n",
    "\\begin{cases}\n",
    "1 \\; \\; \\; \\; \\mbox{if the $i$th tumour is malignant},\\\\\n",
    "0 \\; \\; \\; \\; \t\\mbox{otherwise.}\n",
    "\\end{cases}\n",
    "$$\n",
    "\n",
    "The data frame `breast_cancer` contains 569 observations from a digitized image of a breast mass' fine needle aspirate (FNA). The dataset details 30 real-valued characteristics (i.e., continuous input variables) plus the binary response and ID number. **We will only work with 16 input variables**."
   ]
  },
  {
   "cell_type": "code",
   "execution_count": 2,
   "metadata": {
    "deletable": false,
    "editable": false,
    "nbgrader": {
     "cell_type": "code",
     "checksum": "5e57a241e0369bef028403a44ff65a5c",
     "grade": false,
     "grade_id": "cell-58d728f83cde45d6",
     "locked": true,
     "schema_version": 3,
     "solution": false,
     "task": false
    },
    "tags": []
   },
   "outputs": [
    {
     "name": "stderr",
     "output_type": "stream",
     "text": [
      "\u001b[1mRows: \u001b[22m\u001b[34m569\u001b[39m \u001b[1mColumns: \u001b[22m\u001b[34m32\u001b[39m\n",
      "\u001b[36m──\u001b[39m \u001b[1mColumn specification\u001b[22m \u001b[36m────────────────────────────────────────────────────────\u001b[39m\n",
      "\u001b[1mDelimiter:\u001b[22m \",\"\n",
      "\u001b[31mchr\u001b[39m  (1): target\n",
      "\u001b[32mdbl\u001b[39m (31): ID, mean_radius, mean_texture, mean_perimeter, mean_area, mean_smo...\n",
      "\n",
      "\u001b[36mℹ\u001b[39m Use `spec()` to retrieve the full column specification for this data.\n",
      "\u001b[36mℹ\u001b[39m Specify the column types or set `show_col_types = FALSE` to quiet this message.\n"
     ]
    }
   ],
   "source": [
    "breast_cancer <- read_csv(\"data/breast_cancer.csv\") %>%\n",
    "  select(-c(\n",
    "    mean_area, area_error, concavity_error, concave_points_error, worst_radius, worst_texture, worst_perimeter,\n",
    "    worst_area, worst_smoothness, worst_compactness, worst_concavity, worst_concave_points, worst_symmetry,\n",
    "    worst_fractal_dimension\n",
    "  ))"
   ]
  },
  {
   "cell_type": "code",
   "execution_count": 3,
   "metadata": {
    "tags": []
   },
   "outputs": [
    {
     "data": {
      "text/html": [
       "<table class=\"dataframe\">\n",
       "<caption>A tibble: 6 × 18</caption>\n",
       "<thead>\n",
       "\t<tr><th scope=col>ID</th><th scope=col>mean_radius</th><th scope=col>mean_texture</th><th scope=col>mean_perimeter</th><th scope=col>mean_smoothness</th><th scope=col>mean_compactness</th><th scope=col>mean_concavity</th><th scope=col>mean_concave_points</th><th scope=col>mean_symmetry</th><th scope=col>mean_fractal_dimension</th><th scope=col>radius_error</th><th scope=col>texture_error</th><th scope=col>perimeter_error</th><th scope=col>smoothness_error</th><th scope=col>compactness_error</th><th scope=col>symmetry_error</th><th scope=col>fractal_dimension_error</th><th scope=col>target</th></tr>\n",
       "\t<tr><th scope=col>&lt;dbl&gt;</th><th scope=col>&lt;dbl&gt;</th><th scope=col>&lt;dbl&gt;</th><th scope=col>&lt;dbl&gt;</th><th scope=col>&lt;dbl&gt;</th><th scope=col>&lt;dbl&gt;</th><th scope=col>&lt;dbl&gt;</th><th scope=col>&lt;dbl&gt;</th><th scope=col>&lt;dbl&gt;</th><th scope=col>&lt;dbl&gt;</th><th scope=col>&lt;dbl&gt;</th><th scope=col>&lt;dbl&gt;</th><th scope=col>&lt;dbl&gt;</th><th scope=col>&lt;dbl&gt;</th><th scope=col>&lt;dbl&gt;</th><th scope=col>&lt;dbl&gt;</th><th scope=col>&lt;dbl&gt;</th><th scope=col>&lt;chr&gt;</th></tr>\n",
       "</thead>\n",
       "<tbody>\n",
       "\t<tr><td>0</td><td>17.99</td><td>10.38</td><td>122.80</td><td>0.11840</td><td>0.27760</td><td>0.3001</td><td>0.14710</td><td>0.2419</td><td>0.07871</td><td>1.0950</td><td>0.9053</td><td>8.589</td><td>0.006399</td><td>0.04904</td><td>0.03003</td><td>0.006193</td><td>malignant</td></tr>\n",
       "\t<tr><td>1</td><td>20.57</td><td>17.77</td><td>132.90</td><td>0.08474</td><td>0.07864</td><td>0.0869</td><td>0.07017</td><td>0.1812</td><td>0.05667</td><td>0.5435</td><td>0.7339</td><td>3.398</td><td>0.005225</td><td>0.01308</td><td>0.01389</td><td>0.003532</td><td>malignant</td></tr>\n",
       "\t<tr><td>2</td><td>19.69</td><td>21.25</td><td>130.00</td><td>0.10960</td><td>0.15990</td><td>0.1974</td><td>0.12790</td><td>0.2069</td><td>0.05999</td><td>0.7456</td><td>0.7869</td><td>4.585</td><td>0.006150</td><td>0.04006</td><td>0.02250</td><td>0.004571</td><td>malignant</td></tr>\n",
       "\t<tr><td>3</td><td>11.42</td><td>20.38</td><td> 77.58</td><td>0.14250</td><td>0.28390</td><td>0.2414</td><td>0.10520</td><td>0.2597</td><td>0.09744</td><td>0.4956</td><td>1.1560</td><td>3.445</td><td>0.009110</td><td>0.07458</td><td>0.05963</td><td>0.009208</td><td>malignant</td></tr>\n",
       "\t<tr><td>4</td><td>20.29</td><td>14.34</td><td>135.10</td><td>0.10030</td><td>0.13280</td><td>0.1980</td><td>0.10430</td><td>0.1809</td><td>0.05883</td><td>0.7572</td><td>0.7813</td><td>5.438</td><td>0.011490</td><td>0.02461</td><td>0.01756</td><td>0.005115</td><td>malignant</td></tr>\n",
       "\t<tr><td>5</td><td>12.45</td><td>15.70</td><td> 82.57</td><td>0.12780</td><td>0.17000</td><td>0.1578</td><td>0.08089</td><td>0.2087</td><td>0.07613</td><td>0.3345</td><td>0.8902</td><td>2.217</td><td>0.007510</td><td>0.03345</td><td>0.02165</td><td>0.005082</td><td>malignant</td></tr>\n",
       "</tbody>\n",
       "</table>\n"
      ],
      "text/latex": [
       "A tibble: 6 × 18\n",
       "\\begin{tabular}{llllllllllllllllll}\n",
       " ID & mean\\_radius & mean\\_texture & mean\\_perimeter & mean\\_smoothness & mean\\_compactness & mean\\_concavity & mean\\_concave\\_points & mean\\_symmetry & mean\\_fractal\\_dimension & radius\\_error & texture\\_error & perimeter\\_error & smoothness\\_error & compactness\\_error & symmetry\\_error & fractal\\_dimension\\_error & target\\\\\n",
       " <dbl> & <dbl> & <dbl> & <dbl> & <dbl> & <dbl> & <dbl> & <dbl> & <dbl> & <dbl> & <dbl> & <dbl> & <dbl> & <dbl> & <dbl> & <dbl> & <dbl> & <chr>\\\\\n",
       "\\hline\n",
       "\t 0 & 17.99 & 10.38 & 122.80 & 0.11840 & 0.27760 & 0.3001 & 0.14710 & 0.2419 & 0.07871 & 1.0950 & 0.9053 & 8.589 & 0.006399 & 0.04904 & 0.03003 & 0.006193 & malignant\\\\\n",
       "\t 1 & 20.57 & 17.77 & 132.90 & 0.08474 & 0.07864 & 0.0869 & 0.07017 & 0.1812 & 0.05667 & 0.5435 & 0.7339 & 3.398 & 0.005225 & 0.01308 & 0.01389 & 0.003532 & malignant\\\\\n",
       "\t 2 & 19.69 & 21.25 & 130.00 & 0.10960 & 0.15990 & 0.1974 & 0.12790 & 0.2069 & 0.05999 & 0.7456 & 0.7869 & 4.585 & 0.006150 & 0.04006 & 0.02250 & 0.004571 & malignant\\\\\n",
       "\t 3 & 11.42 & 20.38 &  77.58 & 0.14250 & 0.28390 & 0.2414 & 0.10520 & 0.2597 & 0.09744 & 0.4956 & 1.1560 & 3.445 & 0.009110 & 0.07458 & 0.05963 & 0.009208 & malignant\\\\\n",
       "\t 4 & 20.29 & 14.34 & 135.10 & 0.10030 & 0.13280 & 0.1980 & 0.10430 & 0.1809 & 0.05883 & 0.7572 & 0.7813 & 5.438 & 0.011490 & 0.02461 & 0.01756 & 0.005115 & malignant\\\\\n",
       "\t 5 & 12.45 & 15.70 &  82.57 & 0.12780 & 0.17000 & 0.1578 & 0.08089 & 0.2087 & 0.07613 & 0.3345 & 0.8902 & 2.217 & 0.007510 & 0.03345 & 0.02165 & 0.005082 & malignant\\\\\n",
       "\\end{tabular}\n"
      ],
      "text/markdown": [
       "\n",
       "A tibble: 6 × 18\n",
       "\n",
       "| ID &lt;dbl&gt; | mean_radius &lt;dbl&gt; | mean_texture &lt;dbl&gt; | mean_perimeter &lt;dbl&gt; | mean_smoothness &lt;dbl&gt; | mean_compactness &lt;dbl&gt; | mean_concavity &lt;dbl&gt; | mean_concave_points &lt;dbl&gt; | mean_symmetry &lt;dbl&gt; | mean_fractal_dimension &lt;dbl&gt; | radius_error &lt;dbl&gt; | texture_error &lt;dbl&gt; | perimeter_error &lt;dbl&gt; | smoothness_error &lt;dbl&gt; | compactness_error &lt;dbl&gt; | symmetry_error &lt;dbl&gt; | fractal_dimension_error &lt;dbl&gt; | target &lt;chr&gt; |\n",
       "|---|---|---|---|---|---|---|---|---|---|---|---|---|---|---|---|---|---|\n",
       "| 0 | 17.99 | 10.38 | 122.80 | 0.11840 | 0.27760 | 0.3001 | 0.14710 | 0.2419 | 0.07871 | 1.0950 | 0.9053 | 8.589 | 0.006399 | 0.04904 | 0.03003 | 0.006193 | malignant |\n",
       "| 1 | 20.57 | 17.77 | 132.90 | 0.08474 | 0.07864 | 0.0869 | 0.07017 | 0.1812 | 0.05667 | 0.5435 | 0.7339 | 3.398 | 0.005225 | 0.01308 | 0.01389 | 0.003532 | malignant |\n",
       "| 2 | 19.69 | 21.25 | 130.00 | 0.10960 | 0.15990 | 0.1974 | 0.12790 | 0.2069 | 0.05999 | 0.7456 | 0.7869 | 4.585 | 0.006150 | 0.04006 | 0.02250 | 0.004571 | malignant |\n",
       "| 3 | 11.42 | 20.38 |  77.58 | 0.14250 | 0.28390 | 0.2414 | 0.10520 | 0.2597 | 0.09744 | 0.4956 | 1.1560 | 3.445 | 0.009110 | 0.07458 | 0.05963 | 0.009208 | malignant |\n",
       "| 4 | 20.29 | 14.34 | 135.10 | 0.10030 | 0.13280 | 0.1980 | 0.10430 | 0.1809 | 0.05883 | 0.7572 | 0.7813 | 5.438 | 0.011490 | 0.02461 | 0.01756 | 0.005115 | malignant |\n",
       "| 5 | 12.45 | 15.70 |  82.57 | 0.12780 | 0.17000 | 0.1578 | 0.08089 | 0.2087 | 0.07613 | 0.3345 | 0.8902 | 2.217 | 0.007510 | 0.03345 | 0.02165 | 0.005082 | malignant |\n",
       "\n"
      ],
      "text/plain": [
       "  ID mean_radius mean_texture mean_perimeter mean_smoothness mean_compactness\n",
       "1 0  17.99       10.38        122.80         0.11840         0.27760         \n",
       "2 1  20.57       17.77        132.90         0.08474         0.07864         \n",
       "3 2  19.69       21.25        130.00         0.10960         0.15990         \n",
       "4 3  11.42       20.38         77.58         0.14250         0.28390         \n",
       "5 4  20.29       14.34        135.10         0.10030         0.13280         \n",
       "6 5  12.45       15.70         82.57         0.12780         0.17000         \n",
       "  mean_concavity mean_concave_points mean_symmetry mean_fractal_dimension\n",
       "1 0.3001         0.14710             0.2419        0.07871               \n",
       "2 0.0869         0.07017             0.1812        0.05667               \n",
       "3 0.1974         0.12790             0.2069        0.05999               \n",
       "4 0.2414         0.10520             0.2597        0.09744               \n",
       "5 0.1980         0.10430             0.1809        0.05883               \n",
       "6 0.1578         0.08089             0.2087        0.07613               \n",
       "  radius_error texture_error perimeter_error smoothness_error compactness_error\n",
       "1 1.0950       0.9053        8.589           0.006399         0.04904          \n",
       "2 0.5435       0.7339        3.398           0.005225         0.01308          \n",
       "3 0.7456       0.7869        4.585           0.006150         0.04006          \n",
       "4 0.4956       1.1560        3.445           0.009110         0.07458          \n",
       "5 0.7572       0.7813        5.438           0.011490         0.02461          \n",
       "6 0.3345       0.8902        2.217           0.007510         0.03345          \n",
       "  symmetry_error fractal_dimension_error target   \n",
       "1 0.03003        0.006193                malignant\n",
       "2 0.01389        0.003532                malignant\n",
       "3 0.02250        0.004571                malignant\n",
       "4 0.05963        0.009208                malignant\n",
       "5 0.01756        0.005115                malignant\n",
       "6 0.02165        0.005082                malignant"
      ]
     },
     "metadata": {},
     "output_type": "display_data"
    }
   ],
   "source": [
    "head(breast_cancer)"
   ]
  },
  {
   "cell_type": "markdown",
   "metadata": {
    "deletable": false,
    "editable": false,
    "nbgrader": {
     "cell_type": "markdown",
     "checksum": "5b7e3b26814916217264ca9444ca2938",
     "grade": false,
     "grade_id": "cell-fed4931d39f05ba2",
     "locked": true,
     "schema_version": 3,
     "solution": false,
     "task": false
    }
   },
   "source": [
    "**Question 1.0**\n",
    "<br>{points: 1}\n",
    "\n",
    "Replace the levels `benign` and `malignant` for `target` in the dataset `breast_cancer_train` with the numerical values `1` and `0`, respectively.\n",
    "\n",
    "*Fill out those parts indicated with `...`, uncomment the corresponding code in the cell below, and run it.*"
   ]
  },
  {
   "cell_type": "code",
   "execution_count": 4,
   "metadata": {
    "deletable": false,
    "nbgrader": {
     "cell_type": "code",
     "checksum": "dc82bacbaeb57af9c96e8bfa5d5ef699",
     "grade": false,
     "grade_id": "cell-86a9d67fa594ae9e",
     "locked": false,
     "schema_version": 3,
     "solution": true,
     "task": false
    },
    "tags": []
   },
   "outputs": [
    {
     "data": {
      "text/html": [
       "<table class=\"dataframe\">\n",
       "<caption>A tibble: 6 × 18</caption>\n",
       "<thead>\n",
       "\t<tr><th scope=col>ID</th><th scope=col>mean_radius</th><th scope=col>mean_texture</th><th scope=col>mean_perimeter</th><th scope=col>mean_smoothness</th><th scope=col>mean_compactness</th><th scope=col>mean_concavity</th><th scope=col>mean_concave_points</th><th scope=col>mean_symmetry</th><th scope=col>mean_fractal_dimension</th><th scope=col>radius_error</th><th scope=col>texture_error</th><th scope=col>perimeter_error</th><th scope=col>smoothness_error</th><th scope=col>compactness_error</th><th scope=col>symmetry_error</th><th scope=col>fractal_dimension_error</th><th scope=col>target</th></tr>\n",
       "\t<tr><th scope=col>&lt;dbl&gt;</th><th scope=col>&lt;dbl&gt;</th><th scope=col>&lt;dbl&gt;</th><th scope=col>&lt;dbl&gt;</th><th scope=col>&lt;dbl&gt;</th><th scope=col>&lt;dbl&gt;</th><th scope=col>&lt;dbl&gt;</th><th scope=col>&lt;dbl&gt;</th><th scope=col>&lt;dbl&gt;</th><th scope=col>&lt;dbl&gt;</th><th scope=col>&lt;dbl&gt;</th><th scope=col>&lt;dbl&gt;</th><th scope=col>&lt;dbl&gt;</th><th scope=col>&lt;dbl&gt;</th><th scope=col>&lt;dbl&gt;</th><th scope=col>&lt;dbl&gt;</th><th scope=col>&lt;dbl&gt;</th><th scope=col>&lt;dbl&gt;</th></tr>\n",
       "</thead>\n",
       "<tbody>\n",
       "\t<tr><td>0</td><td>17.99</td><td>10.38</td><td>122.80</td><td>0.11840</td><td>0.27760</td><td>0.3001</td><td>0.14710</td><td>0.2419</td><td>0.07871</td><td>1.0950</td><td>0.9053</td><td>8.589</td><td>0.006399</td><td>0.04904</td><td>0.03003</td><td>0.006193</td><td>1</td></tr>\n",
       "\t<tr><td>1</td><td>20.57</td><td>17.77</td><td>132.90</td><td>0.08474</td><td>0.07864</td><td>0.0869</td><td>0.07017</td><td>0.1812</td><td>0.05667</td><td>0.5435</td><td>0.7339</td><td>3.398</td><td>0.005225</td><td>0.01308</td><td>0.01389</td><td>0.003532</td><td>1</td></tr>\n",
       "\t<tr><td>2</td><td>19.69</td><td>21.25</td><td>130.00</td><td>0.10960</td><td>0.15990</td><td>0.1974</td><td>0.12790</td><td>0.2069</td><td>0.05999</td><td>0.7456</td><td>0.7869</td><td>4.585</td><td>0.006150</td><td>0.04006</td><td>0.02250</td><td>0.004571</td><td>1</td></tr>\n",
       "\t<tr><td>3</td><td>11.42</td><td>20.38</td><td> 77.58</td><td>0.14250</td><td>0.28390</td><td>0.2414</td><td>0.10520</td><td>0.2597</td><td>0.09744</td><td>0.4956</td><td>1.1560</td><td>3.445</td><td>0.009110</td><td>0.07458</td><td>0.05963</td><td>0.009208</td><td>1</td></tr>\n",
       "\t<tr><td>4</td><td>20.29</td><td>14.34</td><td>135.10</td><td>0.10030</td><td>0.13280</td><td>0.1980</td><td>0.10430</td><td>0.1809</td><td>0.05883</td><td>0.7572</td><td>0.7813</td><td>5.438</td><td>0.011490</td><td>0.02461</td><td>0.01756</td><td>0.005115</td><td>1</td></tr>\n",
       "\t<tr><td>5</td><td>12.45</td><td>15.70</td><td> 82.57</td><td>0.12780</td><td>0.17000</td><td>0.1578</td><td>0.08089</td><td>0.2087</td><td>0.07613</td><td>0.3345</td><td>0.8902</td><td>2.217</td><td>0.007510</td><td>0.03345</td><td>0.02165</td><td>0.005082</td><td>1</td></tr>\n",
       "</tbody>\n",
       "</table>\n"
      ],
      "text/latex": [
       "A tibble: 6 × 18\n",
       "\\begin{tabular}{llllllllllllllllll}\n",
       " ID & mean\\_radius & mean\\_texture & mean\\_perimeter & mean\\_smoothness & mean\\_compactness & mean\\_concavity & mean\\_concave\\_points & mean\\_symmetry & mean\\_fractal\\_dimension & radius\\_error & texture\\_error & perimeter\\_error & smoothness\\_error & compactness\\_error & symmetry\\_error & fractal\\_dimension\\_error & target\\\\\n",
       " <dbl> & <dbl> & <dbl> & <dbl> & <dbl> & <dbl> & <dbl> & <dbl> & <dbl> & <dbl> & <dbl> & <dbl> & <dbl> & <dbl> & <dbl> & <dbl> & <dbl> & <dbl>\\\\\n",
       "\\hline\n",
       "\t 0 & 17.99 & 10.38 & 122.80 & 0.11840 & 0.27760 & 0.3001 & 0.14710 & 0.2419 & 0.07871 & 1.0950 & 0.9053 & 8.589 & 0.006399 & 0.04904 & 0.03003 & 0.006193 & 1\\\\\n",
       "\t 1 & 20.57 & 17.77 & 132.90 & 0.08474 & 0.07864 & 0.0869 & 0.07017 & 0.1812 & 0.05667 & 0.5435 & 0.7339 & 3.398 & 0.005225 & 0.01308 & 0.01389 & 0.003532 & 1\\\\\n",
       "\t 2 & 19.69 & 21.25 & 130.00 & 0.10960 & 0.15990 & 0.1974 & 0.12790 & 0.2069 & 0.05999 & 0.7456 & 0.7869 & 4.585 & 0.006150 & 0.04006 & 0.02250 & 0.004571 & 1\\\\\n",
       "\t 3 & 11.42 & 20.38 &  77.58 & 0.14250 & 0.28390 & 0.2414 & 0.10520 & 0.2597 & 0.09744 & 0.4956 & 1.1560 & 3.445 & 0.009110 & 0.07458 & 0.05963 & 0.009208 & 1\\\\\n",
       "\t 4 & 20.29 & 14.34 & 135.10 & 0.10030 & 0.13280 & 0.1980 & 0.10430 & 0.1809 & 0.05883 & 0.7572 & 0.7813 & 5.438 & 0.011490 & 0.02461 & 0.01756 & 0.005115 & 1\\\\\n",
       "\t 5 & 12.45 & 15.70 &  82.57 & 0.12780 & 0.17000 & 0.1578 & 0.08089 & 0.2087 & 0.07613 & 0.3345 & 0.8902 & 2.217 & 0.007510 & 0.03345 & 0.02165 & 0.005082 & 1\\\\\n",
       "\\end{tabular}\n"
      ],
      "text/markdown": [
       "\n",
       "A tibble: 6 × 18\n",
       "\n",
       "| ID &lt;dbl&gt; | mean_radius &lt;dbl&gt; | mean_texture &lt;dbl&gt; | mean_perimeter &lt;dbl&gt; | mean_smoothness &lt;dbl&gt; | mean_compactness &lt;dbl&gt; | mean_concavity &lt;dbl&gt; | mean_concave_points &lt;dbl&gt; | mean_symmetry &lt;dbl&gt; | mean_fractal_dimension &lt;dbl&gt; | radius_error &lt;dbl&gt; | texture_error &lt;dbl&gt; | perimeter_error &lt;dbl&gt; | smoothness_error &lt;dbl&gt; | compactness_error &lt;dbl&gt; | symmetry_error &lt;dbl&gt; | fractal_dimension_error &lt;dbl&gt; | target &lt;dbl&gt; |\n",
       "|---|---|---|---|---|---|---|---|---|---|---|---|---|---|---|---|---|---|\n",
       "| 0 | 17.99 | 10.38 | 122.80 | 0.11840 | 0.27760 | 0.3001 | 0.14710 | 0.2419 | 0.07871 | 1.0950 | 0.9053 | 8.589 | 0.006399 | 0.04904 | 0.03003 | 0.006193 | 1 |\n",
       "| 1 | 20.57 | 17.77 | 132.90 | 0.08474 | 0.07864 | 0.0869 | 0.07017 | 0.1812 | 0.05667 | 0.5435 | 0.7339 | 3.398 | 0.005225 | 0.01308 | 0.01389 | 0.003532 | 1 |\n",
       "| 2 | 19.69 | 21.25 | 130.00 | 0.10960 | 0.15990 | 0.1974 | 0.12790 | 0.2069 | 0.05999 | 0.7456 | 0.7869 | 4.585 | 0.006150 | 0.04006 | 0.02250 | 0.004571 | 1 |\n",
       "| 3 | 11.42 | 20.38 |  77.58 | 0.14250 | 0.28390 | 0.2414 | 0.10520 | 0.2597 | 0.09744 | 0.4956 | 1.1560 | 3.445 | 0.009110 | 0.07458 | 0.05963 | 0.009208 | 1 |\n",
       "| 4 | 20.29 | 14.34 | 135.10 | 0.10030 | 0.13280 | 0.1980 | 0.10430 | 0.1809 | 0.05883 | 0.7572 | 0.7813 | 5.438 | 0.011490 | 0.02461 | 0.01756 | 0.005115 | 1 |\n",
       "| 5 | 12.45 | 15.70 |  82.57 | 0.12780 | 0.17000 | 0.1578 | 0.08089 | 0.2087 | 0.07613 | 0.3345 | 0.8902 | 2.217 | 0.007510 | 0.03345 | 0.02165 | 0.005082 | 1 |\n",
       "\n"
      ],
      "text/plain": [
       "  ID mean_radius mean_texture mean_perimeter mean_smoothness mean_compactness\n",
       "1 0  17.99       10.38        122.80         0.11840         0.27760         \n",
       "2 1  20.57       17.77        132.90         0.08474         0.07864         \n",
       "3 2  19.69       21.25        130.00         0.10960         0.15990         \n",
       "4 3  11.42       20.38         77.58         0.14250         0.28390         \n",
       "5 4  20.29       14.34        135.10         0.10030         0.13280         \n",
       "6 5  12.45       15.70         82.57         0.12780         0.17000         \n",
       "  mean_concavity mean_concave_points mean_symmetry mean_fractal_dimension\n",
       "1 0.3001         0.14710             0.2419        0.07871               \n",
       "2 0.0869         0.07017             0.1812        0.05667               \n",
       "3 0.1974         0.12790             0.2069        0.05999               \n",
       "4 0.2414         0.10520             0.2597        0.09744               \n",
       "5 0.1980         0.10430             0.1809        0.05883               \n",
       "6 0.1578         0.08089             0.2087        0.07613               \n",
       "  radius_error texture_error perimeter_error smoothness_error compactness_error\n",
       "1 1.0950       0.9053        8.589           0.006399         0.04904          \n",
       "2 0.5435       0.7339        3.398           0.005225         0.01308          \n",
       "3 0.7456       0.7869        4.585           0.006150         0.04006          \n",
       "4 0.4956       1.1560        3.445           0.009110         0.07458          \n",
       "5 0.7572       0.7813        5.438           0.011490         0.02461          \n",
       "6 0.3345       0.8902        2.217           0.007510         0.03345          \n",
       "  symmetry_error fractal_dimension_error target\n",
       "1 0.03003        0.006193                1     \n",
       "2 0.01389        0.003532                1     \n",
       "3 0.02250        0.004571                1     \n",
       "4 0.05963        0.009208                1     \n",
       "5 0.01756        0.005115                1     \n",
       "6 0.02165        0.005082                1     "
      ]
     },
     "metadata": {},
     "output_type": "display_data"
    }
   ],
   "source": [
    "# breast_cancer <- \n",
    "#     breast_cancer %>% \n",
    "#     ...(... = ...(..., 1, 0))\n",
    "\n",
    "# your code here\n",
    "breast_cancer <- \n",
    "    breast_cancer %>% \n",
    "    mutate(target = if_else(target == \"malignant\", 1, 0))\n",
    "\n",
    "head(breast_cancer)"
   ]
  },
  {
   "cell_type": "code",
   "execution_count": 5,
   "metadata": {
    "deletable": false,
    "editable": false,
    "nbgrader": {
     "cell_type": "code",
     "checksum": "7d536288cf07603e6e0c5a051a8f6b04",
     "grade": true,
     "grade_id": "cell-6e2885a75ccc8ce2",
     "locked": true,
     "points": 1,
     "schema_version": 3,
     "solution": false,
     "task": false
    },
    "tags": []
   },
   "outputs": [
    {
     "name": "stdout",
     "output_type": "stream",
     "text": [
      "\u001b[32mTest passed\u001b[39m 🥇\n",
      "\u001b[32mTest passed\u001b[39m 🎊\n",
      "\u001b[32mTest passed\u001b[39m 🥇\n",
      "\u001b[32mTest passed\u001b[39m 😀\n",
      "\u001b[32mTest passed\u001b[39m 🥳\n",
      "[1] \"Success!\"\n"
     ]
    }
   ],
   "source": [
    "test_1.0()"
   ]
  },
  {
   "cell_type": "markdown",
   "metadata": {
    "deletable": false,
    "editable": false,
    "nbgrader": {
     "cell_type": "markdown",
     "checksum": "db3c36afb4a8517bb536810b71e40124",
     "grade": false,
     "grade_id": "cell-eaf6ea583cad0ee1",
     "locked": true,
     "schema_version": 3,
     "solution": false,
     "task": false
    }
   },
   "source": [
    "**Question 1.1**\n",
    "<br>{points: 2}\n",
    "\n",
    "Since we will work with predictive modelling, let us use the *holdout method* in `breast_cancer` to produce two datasets: one for training and another for testing. Therefore, start by randomly splitting `breast_cancer` in two sets on a 70-30% basis: `breast_cancer_train` (70% of the data) and `breast_cancer_test` (the remaining 30%). You can do the following:\n",
    "\n",
    "1. Use the function [`slice_sample()`](https://dplyr.tidyverse.org/reference/slice.html) to create `breast_cancer_train` (sampling without replacement) with 70\\% of the observations coming from `breast_cancer`.\n",
    "2. Use [`anti_join()`](https://dplyr.tidyverse.org/reference/filter-joins.html) with `breast_cancer` and `breast_cancer_train` to create `breast_cancer_test` by column `ID`.\n",
    "\n",
    "*Fill out those parts indicated with `...`, uncomment the corresponding code in the cell below, and run it.*"
   ]
  },
  {
   "cell_type": "code",
   "execution_count": 6,
   "metadata": {
    "deletable": false,
    "nbgrader": {
     "cell_type": "code",
     "checksum": "f7c9bef3e6234a36db92c27241730e5d",
     "grade": false,
     "grade_id": "cell-8c999de0b7705de1",
     "locked": false,
     "schema_version": 3,
     "solution": true,
     "task": false
    },
    "tags": []
   },
   "outputs": [
    {
     "data": {
      "text/html": [
       "<table class=\"dataframe\">\n",
       "<caption>A tibble: 6 × 18</caption>\n",
       "<thead>\n",
       "\t<tr><th scope=col>ID</th><th scope=col>mean_radius</th><th scope=col>mean_texture</th><th scope=col>mean_perimeter</th><th scope=col>mean_smoothness</th><th scope=col>mean_compactness</th><th scope=col>mean_concavity</th><th scope=col>mean_concave_points</th><th scope=col>mean_symmetry</th><th scope=col>mean_fractal_dimension</th><th scope=col>radius_error</th><th scope=col>texture_error</th><th scope=col>perimeter_error</th><th scope=col>smoothness_error</th><th scope=col>compactness_error</th><th scope=col>symmetry_error</th><th scope=col>fractal_dimension_error</th><th scope=col>target</th></tr>\n",
       "\t<tr><th scope=col>&lt;dbl&gt;</th><th scope=col>&lt;dbl&gt;</th><th scope=col>&lt;dbl&gt;</th><th scope=col>&lt;dbl&gt;</th><th scope=col>&lt;dbl&gt;</th><th scope=col>&lt;dbl&gt;</th><th scope=col>&lt;dbl&gt;</th><th scope=col>&lt;dbl&gt;</th><th scope=col>&lt;dbl&gt;</th><th scope=col>&lt;dbl&gt;</th><th scope=col>&lt;dbl&gt;</th><th scope=col>&lt;dbl&gt;</th><th scope=col>&lt;dbl&gt;</th><th scope=col>&lt;dbl&gt;</th><th scope=col>&lt;dbl&gt;</th><th scope=col>&lt;dbl&gt;</th><th scope=col>&lt;dbl&gt;</th><th scope=col>&lt;dbl&gt;</th></tr>\n",
       "</thead>\n",
       "<tbody>\n",
       "\t<tr><td>203</td><td>13.810</td><td>23.75</td><td> 91.56</td><td>0.13230</td><td>0.17680</td><td>0.15580</td><td>0.09176</td><td>0.2251</td><td>0.07421</td><td>0.5648</td><td>1.9300</td><td>3.909</td><td>0.008824</td><td>0.031080</td><td>0.01998</td><td>0.004506</td><td>1</td></tr>\n",
       "\t<tr><td>208</td><td>13.110</td><td>22.54</td><td> 87.02</td><td>0.10020</td><td>0.14830</td><td>0.08705</td><td>0.05102</td><td>0.1850</td><td>0.07310</td><td>0.1931</td><td>0.9223</td><td>1.491</td><td>0.005251</td><td>0.030410</td><td>0.02514</td><td>0.004198</td><td>0</td></tr>\n",
       "\t<tr><td>476</td><td>14.200</td><td>20.53</td><td> 92.41</td><td>0.08931</td><td>0.11080</td><td>0.05063</td><td>0.03058</td><td>0.1506</td><td>0.06009</td><td>0.3478</td><td>1.0180</td><td>2.749</td><td>0.004107</td><td>0.032880</td><td>0.01610</td><td>0.002744</td><td>0</td></tr>\n",
       "\t<tr><td> 50</td><td>11.760</td><td>21.60</td><td> 74.72</td><td>0.08637</td><td>0.04966</td><td>0.01657</td><td>0.01115</td><td>0.1495</td><td>0.05888</td><td>0.4062</td><td>1.2100</td><td>2.635</td><td>0.005857</td><td>0.009758</td><td>0.02406</td><td>0.001769</td><td>0</td></tr>\n",
       "\t<tr><td>257</td><td>15.320</td><td>17.27</td><td>103.20</td><td>0.13350</td><td>0.22840</td><td>0.24480</td><td>0.12420</td><td>0.2398</td><td>0.07596</td><td>0.6592</td><td>1.0590</td><td>4.061</td><td>0.010150</td><td>0.045880</td><td>0.01884</td><td>0.008660</td><td>1</td></tr>\n",
       "\t<tr><td>524</td><td> 9.847</td><td>15.68</td><td> 63.00</td><td>0.09492</td><td>0.08419</td><td>0.02330</td><td>0.02416</td><td>0.1387</td><td>0.06891</td><td>0.2498</td><td>1.2160</td><td>1.976</td><td>0.008732</td><td>0.020420</td><td>0.01824</td><td>0.003494</td><td>0</td></tr>\n",
       "</tbody>\n",
       "</table>\n"
      ],
      "text/latex": [
       "A tibble: 6 × 18\n",
       "\\begin{tabular}{llllllllllllllllll}\n",
       " ID & mean\\_radius & mean\\_texture & mean\\_perimeter & mean\\_smoothness & mean\\_compactness & mean\\_concavity & mean\\_concave\\_points & mean\\_symmetry & mean\\_fractal\\_dimension & radius\\_error & texture\\_error & perimeter\\_error & smoothness\\_error & compactness\\_error & symmetry\\_error & fractal\\_dimension\\_error & target\\\\\n",
       " <dbl> & <dbl> & <dbl> & <dbl> & <dbl> & <dbl> & <dbl> & <dbl> & <dbl> & <dbl> & <dbl> & <dbl> & <dbl> & <dbl> & <dbl> & <dbl> & <dbl> & <dbl>\\\\\n",
       "\\hline\n",
       "\t 203 & 13.810 & 23.75 &  91.56 & 0.13230 & 0.17680 & 0.15580 & 0.09176 & 0.2251 & 0.07421 & 0.5648 & 1.9300 & 3.909 & 0.008824 & 0.031080 & 0.01998 & 0.004506 & 1\\\\\n",
       "\t 208 & 13.110 & 22.54 &  87.02 & 0.10020 & 0.14830 & 0.08705 & 0.05102 & 0.1850 & 0.07310 & 0.1931 & 0.9223 & 1.491 & 0.005251 & 0.030410 & 0.02514 & 0.004198 & 0\\\\\n",
       "\t 476 & 14.200 & 20.53 &  92.41 & 0.08931 & 0.11080 & 0.05063 & 0.03058 & 0.1506 & 0.06009 & 0.3478 & 1.0180 & 2.749 & 0.004107 & 0.032880 & 0.01610 & 0.002744 & 0\\\\\n",
       "\t  50 & 11.760 & 21.60 &  74.72 & 0.08637 & 0.04966 & 0.01657 & 0.01115 & 0.1495 & 0.05888 & 0.4062 & 1.2100 & 2.635 & 0.005857 & 0.009758 & 0.02406 & 0.001769 & 0\\\\\n",
       "\t 257 & 15.320 & 17.27 & 103.20 & 0.13350 & 0.22840 & 0.24480 & 0.12420 & 0.2398 & 0.07596 & 0.6592 & 1.0590 & 4.061 & 0.010150 & 0.045880 & 0.01884 & 0.008660 & 1\\\\\n",
       "\t 524 &  9.847 & 15.68 &  63.00 & 0.09492 & 0.08419 & 0.02330 & 0.02416 & 0.1387 & 0.06891 & 0.2498 & 1.2160 & 1.976 & 0.008732 & 0.020420 & 0.01824 & 0.003494 & 0\\\\\n",
       "\\end{tabular}\n"
      ],
      "text/markdown": [
       "\n",
       "A tibble: 6 × 18\n",
       "\n",
       "| ID &lt;dbl&gt; | mean_radius &lt;dbl&gt; | mean_texture &lt;dbl&gt; | mean_perimeter &lt;dbl&gt; | mean_smoothness &lt;dbl&gt; | mean_compactness &lt;dbl&gt; | mean_concavity &lt;dbl&gt; | mean_concave_points &lt;dbl&gt; | mean_symmetry &lt;dbl&gt; | mean_fractal_dimension &lt;dbl&gt; | radius_error &lt;dbl&gt; | texture_error &lt;dbl&gt; | perimeter_error &lt;dbl&gt; | smoothness_error &lt;dbl&gt; | compactness_error &lt;dbl&gt; | symmetry_error &lt;dbl&gt; | fractal_dimension_error &lt;dbl&gt; | target &lt;dbl&gt; |\n",
       "|---|---|---|---|---|---|---|---|---|---|---|---|---|---|---|---|---|---|\n",
       "| 203 | 13.810 | 23.75 |  91.56 | 0.13230 | 0.17680 | 0.15580 | 0.09176 | 0.2251 | 0.07421 | 0.5648 | 1.9300 | 3.909 | 0.008824 | 0.031080 | 0.01998 | 0.004506 | 1 |\n",
       "| 208 | 13.110 | 22.54 |  87.02 | 0.10020 | 0.14830 | 0.08705 | 0.05102 | 0.1850 | 0.07310 | 0.1931 | 0.9223 | 1.491 | 0.005251 | 0.030410 | 0.02514 | 0.004198 | 0 |\n",
       "| 476 | 14.200 | 20.53 |  92.41 | 0.08931 | 0.11080 | 0.05063 | 0.03058 | 0.1506 | 0.06009 | 0.3478 | 1.0180 | 2.749 | 0.004107 | 0.032880 | 0.01610 | 0.002744 | 0 |\n",
       "|  50 | 11.760 | 21.60 |  74.72 | 0.08637 | 0.04966 | 0.01657 | 0.01115 | 0.1495 | 0.05888 | 0.4062 | 1.2100 | 2.635 | 0.005857 | 0.009758 | 0.02406 | 0.001769 | 0 |\n",
       "| 257 | 15.320 | 17.27 | 103.20 | 0.13350 | 0.22840 | 0.24480 | 0.12420 | 0.2398 | 0.07596 | 0.6592 | 1.0590 | 4.061 | 0.010150 | 0.045880 | 0.01884 | 0.008660 | 1 |\n",
       "| 524 |  9.847 | 15.68 |  63.00 | 0.09492 | 0.08419 | 0.02330 | 0.02416 | 0.1387 | 0.06891 | 0.2498 | 1.2160 | 1.976 | 0.008732 | 0.020420 | 0.01824 | 0.003494 | 0 |\n",
       "\n"
      ],
      "text/plain": [
       "  ID  mean_radius mean_texture mean_perimeter mean_smoothness mean_compactness\n",
       "1 203 13.810      23.75         91.56         0.13230         0.17680         \n",
       "2 208 13.110      22.54         87.02         0.10020         0.14830         \n",
       "3 476 14.200      20.53         92.41         0.08931         0.11080         \n",
       "4  50 11.760      21.60         74.72         0.08637         0.04966         \n",
       "5 257 15.320      17.27        103.20         0.13350         0.22840         \n",
       "6 524  9.847      15.68         63.00         0.09492         0.08419         \n",
       "  mean_concavity mean_concave_points mean_symmetry mean_fractal_dimension\n",
       "1 0.15580        0.09176             0.2251        0.07421               \n",
       "2 0.08705        0.05102             0.1850        0.07310               \n",
       "3 0.05063        0.03058             0.1506        0.06009               \n",
       "4 0.01657        0.01115             0.1495        0.05888               \n",
       "5 0.24480        0.12420             0.2398        0.07596               \n",
       "6 0.02330        0.02416             0.1387        0.06891               \n",
       "  radius_error texture_error perimeter_error smoothness_error compactness_error\n",
       "1 0.5648       1.9300        3.909           0.008824         0.031080         \n",
       "2 0.1931       0.9223        1.491           0.005251         0.030410         \n",
       "3 0.3478       1.0180        2.749           0.004107         0.032880         \n",
       "4 0.4062       1.2100        2.635           0.005857         0.009758         \n",
       "5 0.6592       1.0590        4.061           0.010150         0.045880         \n",
       "6 0.2498       1.2160        1.976           0.008732         0.020420         \n",
       "  symmetry_error fractal_dimension_error target\n",
       "1 0.01998        0.004506                1     \n",
       "2 0.02514        0.004198                0     \n",
       "3 0.01610        0.002744                0     \n",
       "4 0.02406        0.001769                0     \n",
       "5 0.01884        0.008660                1     \n",
       "6 0.01824        0.003494                0     "
      ]
     },
     "metadata": {},
     "output_type": "display_data"
    },
    {
     "data": {
      "text/html": [
       "398"
      ],
      "text/latex": [
       "398"
      ],
      "text/markdown": [
       "398"
      ],
      "text/plain": [
       "[1] 398"
      ]
     },
     "metadata": {},
     "output_type": "display_data"
    }
   ],
   "source": [
    "set.seed(20211130) # Do not change this\n",
    "\n",
    "# breast_cancer_train <- \n",
    "#     ... %>% \n",
    "#     ...(prop = ...)\n",
    "\n",
    "# breast_cancer_test <- \n",
    "#     ... %>% \n",
    "#     ...(..., by = \"ID\")\n",
    "\n",
    "# your code here\n",
    "breast_cancer_train <- \n",
    "    breast_cancer %>% \n",
    "    slice_sample(prop = 0.70)\n",
    "\n",
    "breast_cancer_test <- \n",
    "    breast_cancer %>% \n",
    "    anti_join(breast_cancer_train, by = \"ID\")\n",
    "\n",
    "\n",
    "head(breast_cancer_train)\n",
    "nrow(breast_cancer_train)"
   ]
  },
  {
   "cell_type": "code",
   "execution_count": 7,
   "metadata": {
    "deletable": false,
    "editable": false,
    "nbgrader": {
     "cell_type": "code",
     "checksum": "e808d48568666d9860f1b31c5d867617",
     "grade": true,
     "grade_id": "cell-9990adb5e3448aca",
     "locked": true,
     "points": 1,
     "schema_version": 3,
     "solution": false,
     "task": false
    },
    "tags": []
   },
   "outputs": [
    {
     "name": "stdout",
     "output_type": "stream",
     "text": [
      "\u001b[32mTest passed\u001b[39m 🥇\n",
      "\u001b[32mTest passed\u001b[39m 🎊\n",
      "\u001b[32mTest passed\u001b[39m 😀\n",
      "\u001b[32mTest passed\u001b[39m 😸\n",
      "\u001b[32mTest passed\u001b[39m 🎉\n",
      "[1] \"Success!\"\n"
     ]
    }
   ],
   "source": [
    "test_1.1_partI()"
   ]
  },
  {
   "cell_type": "code",
   "execution_count": 8,
   "metadata": {
    "deletable": false,
    "editable": false,
    "nbgrader": {
     "cell_type": "code",
     "checksum": "38200b4806f86a7c72daadcd413e49de",
     "grade": true,
     "grade_id": "cell-e1748249da4b53b1",
     "locked": true,
     "points": 1,
     "schema_version": 3,
     "solution": false,
     "task": false
    },
    "tags": []
   },
   "outputs": [
    {
     "name": "stdout",
     "output_type": "stream",
     "text": [
      "\u001b[32mTest passed\u001b[39m 🥳\n",
      "\u001b[32mTest passed\u001b[39m 😸\n",
      "\u001b[32mTest passed\u001b[39m 🌈\n",
      "\u001b[32mTest passed\u001b[39m 🥇\n",
      "\u001b[32mTest passed\u001b[39m 😸\n",
      "[1] \"Success!\"\n"
     ]
    }
   ],
   "source": [
    "test_1.1_partII()"
   ]
  },
  {
   "cell_type": "code",
   "execution_count": 9,
   "metadata": {
    "deletable": false,
    "editable": false,
    "nbgrader": {
     "cell_type": "code",
     "checksum": "b52b631ede24612bc0816164d2b0ccf3",
     "grade": false,
     "grade_id": "cell-a94a43ef4039f9fc",
     "locked": true,
     "schema_version": 3,
     "solution": false,
     "task": false
    },
    "tags": []
   },
   "outputs": [],
   "source": [
    "# Run this cell to remove the variable \"ID\"\n",
    "\n",
    "breast_cancer_train <- breast_cancer_train  %>% select(-ID)\n",
    "breast_cancer_test <- breast_cancer_test  %>% select(-ID)"
   ]
  },
  {
   "cell_type": "markdown",
   "metadata": {
    "deletable": false,
    "editable": false,
    "nbgrader": {
     "cell_type": "markdown",
     "checksum": "dab68b03e5f43d04d2989d5fedb13112",
     "grade": false,
     "grade_id": "cell-8395793c47962a29",
     "locked": true,
     "schema_version": 3,
     "solution": false,
     "task": false
    }
   },
   "source": [
    "**Question 1.2**\n",
    "<br>{points: 1}\n",
    "\n",
    "Using the `glm` function, fit a logistic regression model. The model's response will be `target` and the rest of the variables will be inputs. Call the resulting object `breast_cancer_logistic_model`.\n",
    "\n",
    "**Note**: You need to write most of this code cell. Go back to `worksheet_12` if you don't recall how to fit a logistic model.\n",
    "\n",
    "*Fill out those parts indicated with `...`, uncomment the corresponding code in the cell below, and run it.*"
   ]
  },
  {
   "cell_type": "code",
   "execution_count": 10,
   "metadata": {
    "deletable": false,
    "nbgrader": {
     "cell_type": "code",
     "checksum": "856e2c25a4175df72d7425e8bcb6d145",
     "grade": false,
     "grade_id": "cell-5bc9c77c17efb184",
     "locked": false,
     "schema_version": 3,
     "solution": true,
     "task": false
    },
    "tags": []
   },
   "outputs": [
    {
     "name": "stderr",
     "output_type": "stream",
     "text": [
      "Warning message:\n",
      "“glm.fit: fitted probabilities numerically 0 or 1 occurred”\n"
     ]
    },
    {
     "data": {
      "text/plain": [
       "\n",
       "Call:\n",
       "glm(formula = target ~ ., family = binomial, data = breast_cancer_train)\n",
       "\n",
       "Deviance Residuals: \n",
       "     Min        1Q    Median        3Q       Max  \n",
       "-1.94258  -0.06390  -0.01147   0.00045   2.64793  \n",
       "\n",
       "Coefficients:\n",
       "                          Estimate Std. Error z value Pr(>|z|)    \n",
       "(Intercept)               -59.9473    16.5680  -3.618 0.000297 ***\n",
       "mean_radius                -2.0510     5.8792  -0.349 0.727201    \n",
       "mean_texture                0.5276     0.1226   4.302 1.69e-05 ***\n",
       "mean_perimeter              0.5281     0.9127   0.579 0.562828    \n",
       "mean_smoothness            73.4586    61.3718   1.197 0.231328    \n",
       "mean_compactness          -57.8241    44.6190  -1.296 0.194991    \n",
       "mean_concavity             33.6475    13.4299   2.505 0.012231 *  \n",
       "mean_concave_points        51.4914    47.9337   1.074 0.282724    \n",
       "mean_symmetry              13.2485    22.0960   0.600 0.548780    \n",
       "mean_fractal_dimension    355.6678   183.7044   1.936 0.052857 .  \n",
       "radius_error               16.4094    10.5608   1.554 0.120230    \n",
       "texture_error              -1.0776     0.9945  -1.084 0.278549    \n",
       "perimeter_error            -0.9215     1.5556  -0.592 0.553602    \n",
       "smoothness_error          -81.8367   149.2007  -0.549 0.583348    \n",
       "compactness_error          54.4709    54.8200   0.994 0.320402    \n",
       "symmetry_error            -22.7419    64.3640  -0.353 0.723839    \n",
       "fractal_dimension_error -1157.1363   478.7277  -2.417 0.015644 *  \n",
       "---\n",
       "Signif. codes:  0 ‘***’ 0.001 ‘**’ 0.01 ‘*’ 0.05 ‘.’ 0.1 ‘ ’ 1\n",
       "\n",
       "(Dispersion parameter for binomial family taken to be 1)\n",
       "\n",
       "    Null deviance: 514.995  on 397  degrees of freedom\n",
       "Residual deviance:  70.561  on 381  degrees of freedom\n",
       "AIC: 104.56\n",
       "\n",
       "Number of Fisher Scoring iterations: 9\n"
      ]
     },
     "metadata": {},
     "output_type": "display_data"
    }
   ],
   "source": [
    "# breast_cancer_logistic_model <- \n",
    "#     ...\n",
    "\n",
    "# your code here\n",
    "breast_cancer_logistic_model <- \n",
    "    glm(\n",
    "        formula = target ~ .,\n",
    "        data = breast_cancer_train,\n",
    "        family = binomial)\n",
    "\n",
    "summary(breast_cancer_logistic_model)"
   ]
  },
  {
   "cell_type": "code",
   "execution_count": 11,
   "metadata": {
    "deletable": false,
    "editable": false,
    "nbgrader": {
     "cell_type": "code",
     "checksum": "100e091e4e6ef44edc1be1f303a72f3b",
     "grade": true,
     "grade_id": "cell-4f91f421a400af8f",
     "locked": true,
     "points": 0,
     "schema_version": 3,
     "solution": false,
     "task": false
    },
    "tags": []
   },
   "outputs": [
    {
     "name": "stdout",
     "output_type": "stream",
     "text": [
      "\u001b[32mTest passed\u001b[39m 🥇\n",
      "\u001b[32mTest passed\u001b[39m 🎉\n",
      "\u001b[32mTest passed\u001b[39m 🥇\n",
      "[1] \"Success!\"\n"
     ]
    }
   ],
   "source": [
    "test_1.2()"
   ]
  },
  {
   "cell_type": "markdown",
   "metadata": {
    "deletable": false,
    "editable": false,
    "nbgrader": {
     "cell_type": "markdown",
     "checksum": "382867326f4f0aea6ede899b0313f739",
     "grade": false,
     "grade_id": "cell-d4109b007e5a8d2f",
     "locked": true,
     "schema_version": 3,
     "solution": false,
     "task": false
    }
   },
   "source": [
    "### 1.1 Error in classification\n",
    "\n",
    "We know that the predicted value of the logistic regression is a predicted probability $\\hat{p}_i$\n",
    "\n",
    "> or the predicted odds or log-odds \n",
    "\n",
    "The predicted probability can be used to predict a class. For example, if the predicted probability of having cancer is 0.8, you can predict that the patient has cancer. These models are also known as *classifiers* since you use them to predict a *class*.\n",
    "\n",
    "For example: \n",
    "\n",
    "$$\n",
    "\\hat{Y}_i =\n",
    "\\begin{cases}\n",
    "1 \\; \\; \\; \\; \\mbox{if $\\hat{p}_i \\geq 0.5$},\\\\\n",
    "0 \\; \\; \\; \\; \\mbox{if $\\hat{p}_i < 0.5$.}\n",
    "\\end{cases}\n",
    "$$\n",
    "\n",
    "where $0.5$ is a threshold used to predict the classes.\n",
    "\n",
    "Of course, this is only a prediction and the patient may not actually have cancer. The difference between the actual and the predicted class is the *error* of the classifier."
   ]
  },
  {
   "cell_type": "markdown",
   "metadata": {
    "deletable": false,
    "editable": false,
    "nbgrader": {
     "cell_type": "markdown",
     "checksum": "ac4be507dafba58f12773615fca788f2",
     "grade": false,
     "grade_id": "cell-e60940adfc8e4698",
     "locked": true,
     "schema_version": 3,
     "solution": false,
     "task": false
    }
   },
   "source": [
    "**Question 1.3**\n",
    "<br>{points: 1}\n",
    "\n",
    "Let’s start by checking our misclassification error rate in the training data. \n",
    "\n",
    "Your job is to create a function with two input arguments: `y` (the actual class of the data points) and `p.hat` (the predicted probability). \n",
    "\n",
    "- using $0.5$ as a cut-off, the function predicts the class of each observation based on the predicted probabilty `p.hat`\n",
    "\n",
    "- the predicted class is then compared to the actual class to calculate the proportion of misclassification in the sample. \n",
    "\n",
    "> note that a different cutoff can be used depending on the context of the problem\n",
    "\n",
    "Use the created function with response variable `target` from `breast_cancer_train` and the (in-sample) predicted values from the model. Store the output in an object named `error_rate_train`.\n",
    "\n",
    "\n",
    "*Fill out those parts indicated with `...`, uncomment the corresponding code in the cell below, and run it.*"
   ]
  },
  {
   "cell_type": "code",
   "execution_count": 12,
   "metadata": {
    "deletable": false,
    "nbgrader": {
     "cell_type": "code",
     "checksum": "a71d26aff3f9b55e8312fe7f4d61b3ea",
     "grade": false,
     "grade_id": "cell-4d6160f58cf93adb",
     "locked": false,
     "schema_version": 3,
     "solution": true,
     "task": false
    },
    "tags": []
   },
   "outputs": [
    {
     "data": {
      "text/html": [
       "0.0326633165829146"
      ],
      "text/latex": [
       "0.0326633165829146"
      ],
      "text/markdown": [
       "0.0326633165829146"
      ],
      "text/plain": [
       "[1] 0.03266332"
      ]
     },
     "metadata": {},
     "output_type": "display_data"
    }
   ],
   "source": [
    "# misclassification_rate <- function(y, p.hat){\n",
    "#     y_hat <- round(..., 0)\n",
    "#     error_rate <- ...(abs(... - ...))\n",
    "#     return(error_rate)\n",
    "# }\n",
    "\n",
    "# error_rate_train <- \n",
    "#     misclassification_rate(\n",
    "#         ..., \n",
    "#         ...)\n",
    "\n",
    "# your code here\n",
    "misclassification_rate <- function(y, p.hat){\n",
    "    y_hat <- round(p.hat, 0)\n",
    "    error_rate <- mean(abs(y_hat - y))\n",
    "    return(error_rate)\n",
    "}\n",
    "\n",
    "error_rate_train <- \n",
    "    misclassification_rate(\n",
    "        breast_cancer_train$target, \n",
    "        predict(breast_cancer_logistic_model, newdata = breast_cancer_train, type = \"response\"))\n",
    "\n",
    "error_rate_train"
   ]
  },
  {
   "cell_type": "code",
   "execution_count": 13,
   "metadata": {
    "deletable": false,
    "editable": false,
    "nbgrader": {
     "cell_type": "code",
     "checksum": "045e623f2258fe476d9b5aba2714e5e1",
     "grade": true,
     "grade_id": "cell-e46b12ee4d9228f0",
     "locked": true,
     "points": 1,
     "schema_version": 3,
     "solution": false,
     "task": false
    },
    "tags": []
   },
   "outputs": [
    {
     "name": "stdout",
     "output_type": "stream",
     "text": [
      "\u001b[32mTest passed\u001b[39m 🎉\n",
      "\u001b[32mTest passed\u001b[39m 🥇\n",
      "\u001b[32mTest passed\u001b[39m 😸\n",
      "[1] \"Success!\"\n"
     ]
    }
   ],
   "source": [
    "test_1.3()"
   ]
  },
  {
   "cell_type": "markdown",
   "metadata": {
    "deletable": false,
    "editable": false,
    "nbgrader": {
     "cell_type": "markdown",
     "checksum": "5300368712d3d906679b9cb822774de6",
     "grade": false,
     "grade_id": "cell-ea385eb9ec9dcf9f",
     "locked": true,
     "schema_version": 3,
     "solution": false,
     "task": false
    }
   },
   "source": [
    "**Question 1.4**\n",
    "<br>{points: 1}\n",
    "\n",
    "The training error rate you calculated in the previous exercise will probably underestimate the out-of-sample error (i.e., the error of data never seen by your model). The parameters were estimated based on that same data!! \n",
    "\n",
    "We can estimate the *out-of-sample* error rate by using cross-validation. Use the function `cv.glm`, from the package `boot`, to conduct a 10-fold cross-validation. The arguments of this function are:\n",
    "\n",
    "- `glmfit`: the trained model that will be used to predict\n",
    "\n",
    "- `data`: the (test) data you want to predict (not to train the model)\n",
    "\n",
    "- `K`: number of folds for cross-validation\n",
    "\n",
    "- `cost`: function to measure error. For this question, use `misclassification_rate`. \n",
    "\n",
    "**Note**: note that in this question the test and the training set used are the same since you are computing the confusion matrix for predictions of the training set.\n",
    "\n",
    "Store the output of the `cv.glm` in an object called `cv_logistic`."
   ]
  },
  {
   "cell_type": "code",
   "execution_count": 14,
   "metadata": {
    "deletable": false,
    "nbgrader": {
     "cell_type": "code",
     "checksum": "b9dc4c2913875fc5c6bfd94b27a7e7ec",
     "grade": false,
     "grade_id": "cell-f4a194e828eea4df",
     "locked": false,
     "schema_version": 3,
     "solution": true,
     "task": false
    },
    "tags": []
   },
   "outputs": [
    {
     "name": "stderr",
     "output_type": "stream",
     "text": [
      "Warning message:\n",
      "“glm.fit: fitted probabilities numerically 0 or 1 occurred”\n",
      "Warning message:\n",
      "“glm.fit: fitted probabilities numerically 0 or 1 occurred”\n",
      "Warning message:\n",
      "“glm.fit: fitted probabilities numerically 0 or 1 occurred”\n",
      "Warning message:\n",
      "“glm.fit: fitted probabilities numerically 0 or 1 occurred”\n",
      "Warning message:\n",
      "“glm.fit: fitted probabilities numerically 0 or 1 occurred”\n",
      "Warning message:\n",
      "“glm.fit: fitted probabilities numerically 0 or 1 occurred”\n",
      "Warning message:\n",
      "“glm.fit: fitted probabilities numerically 0 or 1 occurred”\n",
      "Warning message:\n",
      "“glm.fit: fitted probabilities numerically 0 or 1 occurred”\n",
      "Warning message:\n",
      "“glm.fit: fitted probabilities numerically 0 or 1 occurred”\n",
      "Warning message:\n",
      "“glm.fit: fitted probabilities numerically 0 or 1 occurred”\n"
     ]
    },
    {
     "data": {
      "text/html": [
       "0.0552763819095477"
      ],
      "text/latex": [
       "0.0552763819095477"
      ],
      "text/markdown": [
       "0.0552763819095477"
      ],
      "text/plain": [
       "[1] 0.05527638"
      ]
     },
     "metadata": {},
     "output_type": "display_data"
    }
   ],
   "source": [
    "set.seed(20211130) # do not change this\n",
    "\n",
    "# cv_logistic <- \n",
    "#     cv.glm(\n",
    "#         glmfit = ..., \n",
    "#         data = ..., \n",
    "#         K = ..., \n",
    "#         cost = ...)\n",
    "\n",
    "# your code here\n",
    "cv_logistic <- \n",
    "    cv.glm(\n",
    "        glmfit = breast_cancer_logistic_model, \n",
    "        data = breast_cancer_train, \n",
    "        K = 10, \n",
    "        cost = misclassification_rate)\n",
    "\n",
    "\n",
    "cv_logistic$delta[1]"
   ]
  },
  {
   "cell_type": "code",
   "execution_count": 15,
   "metadata": {
    "deletable": false,
    "editable": false,
    "nbgrader": {
     "cell_type": "code",
     "checksum": "2e4f0e6db4cd0fbb1a1c121b28b59ae6",
     "grade": true,
     "grade_id": "cell-c5371c7c365a75df",
     "locked": true,
     "points": 1,
     "schema_version": 3,
     "solution": false,
     "task": false
    },
    "tags": []
   },
   "outputs": [
    {
     "name": "stdout",
     "output_type": "stream",
     "text": [
      "\u001b[32mTest passed\u001b[39m 😸\n",
      "\u001b[32mTest passed\u001b[39m 🌈\n",
      "\u001b[32mTest passed\u001b[39m 🥇\n",
      "[1] \"Success!\"\n"
     ]
    }
   ],
   "source": [
    "test_1.4()"
   ]
  },
  {
   "cell_type": "markdown",
   "metadata": {
    "deletable": false,
    "editable": false,
    "nbgrader": {
     "cell_type": "markdown",
     "checksum": "242fc8224a98fe0c680211aa6a25db21",
     "grade": false,
     "grade_id": "cell-6eff54123ce5757f",
     "locked": true,
     "schema_version": 3,
     "solution": false,
     "task": false
    }
   },
   "source": [
    "**Question 1.5**\n",
    "<br>{points: 1}\n",
    "\n",
    "True or false?\n",
    "\n",
    "The training error is less than the 10-fold cross validation error.\n",
    "\n",
    "_Assign your answer to an object called `answer1.5`. Your answer should be either \"true\" or \"false\", surrounded by quotes._"
   ]
  },
  {
   "cell_type": "code",
   "execution_count": 16,
   "metadata": {
    "deletable": false,
    "nbgrader": {
     "cell_type": "code",
     "checksum": "5f6e2dbdd24ff99974ae83712a0b5ab7",
     "grade": false,
     "grade_id": "cell-ffd3a4810d740603",
     "locked": false,
     "schema_version": 3,
     "solution": true,
     "task": false
    },
    "tags": []
   },
   "outputs": [],
   "source": [
    "# answer1.5 <- ...\n",
    "\n",
    "# your code here\n",
    "answer1.5 <- \"true\""
   ]
  },
  {
   "cell_type": "code",
   "execution_count": 17,
   "metadata": {
    "deletable": false,
    "editable": false,
    "nbgrader": {
     "cell_type": "code",
     "checksum": "c9e89a65eaa9e92a892d349df976537b",
     "grade": true,
     "grade_id": "cell-e1815efdf47ce9cc",
     "locked": true,
     "points": 1,
     "schema_version": 3,
     "solution": false,
     "task": false
    },
    "tags": []
   },
   "outputs": [
    {
     "name": "stdout",
     "output_type": "stream",
     "text": [
      "\u001b[32mTest passed\u001b[39m 😸\n",
      "\u001b[32mTest passed\u001b[39m 🥇\n",
      "\u001b[32mTest passed\u001b[39m 🎉\n",
      "[1] \"Success!\"\n"
     ]
    }
   ],
   "source": [
    "test_1.5()"
   ]
  },
  {
   "cell_type": "markdown",
   "metadata": {
    "deletable": false,
    "editable": false,
    "nbgrader": {
     "cell_type": "markdown",
     "checksum": "00ae9ff8d71da578af1ef6a446a36b26",
     "grade": false,
     "grade_id": "cell-353018c79aafc398",
     "locked": true,
     "schema_version": 3,
     "solution": false,
     "task": false
    }
   },
   "source": [
    "**Question 1.6**\n",
    "<br>{points: 1}\n",
    "\n",
    "True or false?\n",
    "\n",
    "The training error will **always** be lower than the cross-validation error. \n",
    "\n",
    "_Assign your answer to an object called `answer1.6`. Your answer should be either \"true\" or \"false\", surrounded by quotes._"
   ]
  },
  {
   "cell_type": "code",
   "execution_count": 18,
   "metadata": {
    "deletable": false,
    "nbgrader": {
     "cell_type": "code",
     "checksum": "70682530a0b4ce4f28c638fcbaa39e4e",
     "grade": false,
     "grade_id": "cell-a78dae1a647d3f20",
     "locked": false,
     "schema_version": 3,
     "solution": true,
     "task": false
    },
    "tags": []
   },
   "outputs": [],
   "source": [
    "# answer1.6 <- ...\n",
    "\n",
    "# your code here\n",
    "answer1.6 <- \"false\""
   ]
  },
  {
   "cell_type": "code",
   "execution_count": 19,
   "metadata": {
    "deletable": false,
    "editable": false,
    "nbgrader": {
     "cell_type": "code",
     "checksum": "98a640fcd64807ab8338028fbf261106",
     "grade": true,
     "grade_id": "cell-7096aa86b0682792",
     "locked": true,
     "points": 1,
     "schema_version": 3,
     "solution": false,
     "task": false
    },
    "tags": []
   },
   "outputs": [
    {
     "name": "stdout",
     "output_type": "stream",
     "text": [
      "\u001b[32mTest passed\u001b[39m 🥇\n",
      "\u001b[32mTest passed\u001b[39m 🎉\n",
      "\u001b[32mTest passed\u001b[39m 🥇\n",
      "[1] \"Success!\"\n"
     ]
    }
   ],
   "source": [
    "test_1.6()"
   ]
  },
  {
   "cell_type": "markdown",
   "metadata": {
    "deletable": false,
    "editable": false,
    "nbgrader": {
     "cell_type": "markdown",
     "checksum": "baeab973e25383acf2cc9cc1a901598c",
     "grade": false,
     "grade_id": "cell-091e7009ad626655",
     "locked": true,
     "schema_version": 3,
     "solution": false,
     "task": false
    }
   },
   "source": [
    "### 1.2 Prediction Performance\n",
    "\n",
    "Classifiers can be evaluated using different metrics that compare the actual *versus* the predicted classes in absolute or relative values. \n",
    "\n",
    "#### Confusion Matrix\n",
    "\n",
    "The confusion matrix shows you the types of errors made by the model. \n",
    "\n",
    "|  Predicted \\ Actual | Success | Failure |\n",
    "| :-------------: |:-------------:| :-----:|\n",
    "| **Success** | $\\text{TP}$ | $\\text{FP}$ |\n",
    "| **Failure** | $\\text{FN}$ | $$\\text{TN}$$ |\n",
    "\n",
    "\n",
    "This matrix has the following case counts:\n",
    "\n",
    "- **True positive ($\\text{TP}$):** the number of observations **correctly predicted as `1`** (*Malignant*) using the threshold. \n",
    "\n",
    "\n",
    "- **False positive ($\\text{FP}$):** the number observations **incorrectly predicted as `1`** (*Malignant*) when they are in fact 0.\n",
    "\n",
    "\n",
    "- **True negative ($\\text{TN}$):** the number of observations in **correctly predicted as `0`** (*Benign*).\n",
    "\n",
    "\n",
    "- **False negative ($\\text{FN}$):** the number of observations in  **incorrectly predicted as `0`** (*Benign*) when in fact they are 1. \n",
    "\n",
    "> The confusion matrix is usually calculated based on *test* data since that is the primary goal of prediction. \n",
    "\n",
    "Luckily for us, the `confusionMatrix()` function from the package `caret` gives us the confusion matrix and other quantities to evaluate classifier. \n",
    "\n",
    "#### Sensitivity and Specificity\n",
    "\n",
    "While the previous measures are all absolute error counts, we can also define relative measures:\n",
    "\n",
    "\n",
    "- **Sensitivity ($\\text{SN}$):** the number of **correct** success predictions divided by the total number of real successes ($\\text{S}$), in other words, it is the estimated probability of predicting 1 given that the true class is 1.\n",
    "$$\\text{SN} = \\frac{\\text{TP}}{\\text{TP} + \\text{FN}} = \\frac{\\text{TP}}{\\text{S}}$$\n",
    "    - *Example: the probability that a blood test is positive for a sick  patient.*\n",
    "\n",
    "\n",
    "- **Specificity ($\\text{SP}$):** the number of **correct** failure predictions divided by the total number of real failures ($\\text{F}$). In other words, it is the estimated probability of predicting 0 given that the true class is 0.\n",
    "$$\\text{SP} = \\frac{\\text{TN}}{\\text{TN} + \\text{FP}} = \\frac{\\text{TN}}{\\text{F}}$$\n",
    "    - *Example: the probability that a blood test is negative for a healthy  patient.*\n",
    "    \n",
    "#### Other common measures\n",
    "\n",
    "- **Precision ($\\text{PR}$):** the number of **correct** success predictions divided by the total number of predicted successes.\n",
    "$$\\text{PR} = \\frac{\\text{TP}}{\\text{TP} + \\text{FP}}$$\n",
    "    - *Example: the probability that a patient is sick if the blood test is positive.*\n",
    "\n",
    "\n",
    "- **Accuracy ($\\text{ACC}$):** the number of **correct** predictions (both success and failure) divided by the total number of observations ($n$).\n",
    "$$\\text{ACC} = \\frac{\\text{TP} + \\text{TN}}{n}$$\n",
    "    - *Example: the probability that the blood test correctly classifies the patient.*\n",
    "\n",
    "\n",
    "- **Cohen's Kappa ($\\kappa$):** It is another accuracy metric adjusted by how often the predictions and actual classification coincide just by chance. We compute it as:\n",
    "\n",
    "$$\\kappa = \\frac{\\text{ACC} - \\text{AGG}}{1 - \\text{AGG}}.$$\n",
    "\n",
    "For $\\kappa$, the random agreement is defined as\n",
    "\n",
    "$$\\text{AGG} = \\frac{\\text{TP} + \\text{FP}}{n} \\times \\frac{\\text{TP} + \\text{FN}}{n} + \\frac{\\text{FN} + \\text{TN}}{n} \\times \\frac{\\text{FP} + \\text{TN}}{n}.$$\n",
    "\n",
    "> **Heads-up:** All the metrics above (except $\\kappa$) have a range between $0$ and $1$, where values close to $1$ indicate good predictive performance. \n",
    "\n",
    "> In the case of $\\kappa$, it ranges between $-1$ and $1$ where values close to $1$ indicate good predictive performance."
   ]
  },
  {
   "cell_type": "markdown",
   "metadata": {
    "deletable": false,
    "editable": false,
    "nbgrader": {
     "cell_type": "markdown",
     "checksum": "a054aaf8acaf25681369e9fbfd8d80a2",
     "grade": false,
     "grade_id": "cell-fca83dfe4c59358d",
     "locked": true,
     "schema_version": 3,
     "solution": false,
     "task": false
    }
   },
   "source": [
    "**Question 1.7**\n",
    "<br>{points: 1}\n",
    "\n",
    "To compute the confusion matrix for the classifier built from the estimated logistic regression `breast_cancer_logistic_model`, we need to obtain predicted classes. \n",
    "\n",
    "Use the `predict` function to obtain the predicted classes for the training set `breast_cancer_train` and store them in a variable called `breast_cancer_pred_class`.\n",
    "\n",
    "*Fill out those parts indicated with `...`, uncomment the corresponding code in the cell below, and run it.*"
   ]
  },
  {
   "cell_type": "code",
   "execution_count": 20,
   "metadata": {
    "deletable": false,
    "nbgrader": {
     "cell_type": "code",
     "checksum": "1d03c10ad3dc19d05d55dd40a64772c8",
     "grade": false,
     "grade_id": "cell-7768de07001d0afa",
     "locked": false,
     "schema_version": 3,
     "solution": true,
     "task": false
    },
    "tags": []
   },
   "outputs": [
    {
     "data": {
      "text/html": [
       "<style>\n",
       ".dl-inline {width: auto; margin:0; padding: 0}\n",
       ".dl-inline>dt, .dl-inline>dd {float: none; width: auto; display: inline-block}\n",
       ".dl-inline>dt::after {content: \":\\0020\"; padding-right: .5ex}\n",
       ".dl-inline>dt:not(:first-of-type) {padding-left: .5ex}\n",
       "</style><dl class=dl-inline><dt>1</dt><dd>1</dd><dt>2</dt><dd>1</dd><dt>3</dt><dd>0</dd><dt>4</dt><dd>0</dd><dt>5</dt><dd>1</dd><dt>6</dt><dd>0</dd><dt>7</dt><dd>0</dd><dt>8</dt><dd>0</dd><dt>9</dt><dd>0</dd><dt>10</dt><dd>1</dd></dl>\n"
      ],
      "text/latex": [
       "\\begin{description*}\n",
       "\\item[1] 1\n",
       "\\item[2] 1\n",
       "\\item[3] 0\n",
       "\\item[4] 0\n",
       "\\item[5] 1\n",
       "\\item[6] 0\n",
       "\\item[7] 0\n",
       "\\item[8] 0\n",
       "\\item[9] 0\n",
       "\\item[10] 1\n",
       "\\end{description*}\n"
      ],
      "text/markdown": [
       "1\n",
       ":   12\n",
       ":   13\n",
       ":   04\n",
       ":   05\n",
       ":   16\n",
       ":   07\n",
       ":   08\n",
       ":   09\n",
       ":   010\n",
       ":   1\n",
       "\n"
      ],
      "text/plain": [
       " 1  2  3  4  5  6  7  8  9 10 \n",
       " 1  1  0  0  1  0  0  0  0  1 "
      ]
     },
     "metadata": {},
     "output_type": "display_data"
    }
   ],
   "source": [
    "# breast_cancer_pred_class <- \n",
    "#   ...\n",
    "\n",
    "# your code here\n",
    "breast_cancer_pred_class <- \n",
    "  predict(breast_cancer_logistic_model, newdata = breast_cancer_train, type = \"response\") |>\n",
    "  round(0)\n",
    "\n",
    "head(breast_cancer_pred_class, 10)"
   ]
  },
  {
   "cell_type": "code",
   "execution_count": 21,
   "metadata": {
    "deletable": false,
    "editable": false,
    "nbgrader": {
     "cell_type": "code",
     "checksum": "0c59ecf0ce4aef3347ceb311679faf61",
     "grade": true,
     "grade_id": "cell-539c1d4e1a835857",
     "locked": true,
     "points": 1,
     "schema_version": 3,
     "solution": false,
     "task": false
    },
    "tags": []
   },
   "outputs": [
    {
     "name": "stdout",
     "output_type": "stream",
     "text": [
      "\u001b[32mTest passed\u001b[39m 😸\n",
      "\u001b[32mTest passed\u001b[39m 🥳\n",
      "\u001b[32mTest passed\u001b[39m 😀\n",
      "[1] \"Success!\"\n"
     ]
    }
   ],
   "source": [
    "test_1.7()"
   ]
  },
  {
   "cell_type": "markdown",
   "metadata": {
    "deletable": false,
    "editable": false,
    "nbgrader": {
     "cell_type": "markdown",
     "checksum": "a9ec6ccafeb27f9605b894234cb3f327",
     "grade": false,
     "grade_id": "cell-a5f9a1545e253124",
     "locked": true,
     "schema_version": 3,
     "solution": false,
     "task": false
    }
   },
   "source": [
    "**Question 1.8**\n",
    "<br>{points: 1}\n",
    "\n",
    "The arguments of the `confusionMatrix()` function are:\n",
    "\n",
    "- `data`: factor with the predicted classes (use `as.factor()`).\n",
    "- `reference`: factor with the real classes (use `as.factor()`).\n",
    "- `positive`: the level considered positive (as a character). \n",
    "\n",
    "Store the output of `confusionMatrix` in an object called `breast_cancer_confusion_matrix`.\n",
    "\n",
    "*Fill out those parts indicated with `...`, uncomment the corresponding code in the cell below, and run it.*"
   ]
  },
  {
   "cell_type": "code",
   "execution_count": 22,
   "metadata": {
    "deletable": false,
    "nbgrader": {
     "cell_type": "code",
     "checksum": "0b12119f721997dca332974178f048c7",
     "grade": false,
     "grade_id": "cell-1f7718031c8b6b7a",
     "locked": false,
     "schema_version": 3,
     "solution": true,
     "task": false
    },
    "tags": []
   },
   "outputs": [
    {
     "data": {
      "text/plain": [
       "Confusion Matrix and Statistics\n",
       "\n",
       "          Reference\n",
       "Prediction   0   1\n",
       "         0 254   8\n",
       "         1   5 131\n",
       "                                          \n",
       "               Accuracy : 0.9673          \n",
       "                 95% CI : (0.9448, 0.9825)\n",
       "    No Information Rate : 0.6508          \n",
       "    P-Value [Acc > NIR] : <2e-16          \n",
       "                                          \n",
       "                  Kappa : 0.9278          \n",
       "                                          \n",
       " Mcnemar's Test P-Value : 0.5791          \n",
       "                                          \n",
       "            Sensitivity : 0.9424          \n",
       "            Specificity : 0.9807          \n",
       "         Pos Pred Value : 0.9632          \n",
       "         Neg Pred Value : 0.9695          \n",
       "             Prevalence : 0.3492          \n",
       "         Detection Rate : 0.3291          \n",
       "   Detection Prevalence : 0.3417          \n",
       "      Balanced Accuracy : 0.9616          \n",
       "                                          \n",
       "       'Positive' Class : 1               \n",
       "                                          "
      ]
     },
     "metadata": {},
     "output_type": "display_data"
    }
   ],
   "source": [
    "# breast_cancer_confusion_matrix <- \n",
    "#     ...(\n",
    "#     data = as.factor(...),\n",
    "#     reference = as.factor(...),\n",
    "#     positive = ...\n",
    "# )\n",
    "\n",
    "# your code here\n",
    "breast_cancer_confusion_matrix <- \n",
    "    confusionMatrix(\n",
    "    data = as.factor(breast_cancer_pred_class), \n",
    "    reference = as.factor(breast_cancer_train$target),\n",
    "    positive = \"1\"\n",
    ")\n",
    "\n",
    "breast_cancer_confusion_matrix"
   ]
  },
  {
   "cell_type": "code",
   "execution_count": 23,
   "metadata": {
    "deletable": false,
    "editable": false,
    "nbgrader": {
     "cell_type": "code",
     "checksum": "ec298f0ecd49a297939ced7167235fe0",
     "grade": true,
     "grade_id": "cell-1496d3f3bc0c04c0",
     "locked": true,
     "points": 1,
     "schema_version": 3,
     "solution": false,
     "task": false
    },
    "tags": []
   },
   "outputs": [
    {
     "name": "stdout",
     "output_type": "stream",
     "text": [
      "\u001b[32mTest passed\u001b[39m 😸\n",
      "\u001b[32mTest passed\u001b[39m 🥇\n",
      "[1] \"Success!\"\n"
     ]
    }
   ],
   "source": [
    "test_1.8()"
   ]
  },
  {
   "cell_type": "markdown",
   "metadata": {
    "deletable": false,
    "editable": false,
    "nbgrader": {
     "cell_type": "markdown",
     "checksum": "7853041d751a5ffce0d7c57dfdead5cf",
     "grade": false,
     "grade_id": "cell-c87768c9e94a0d70",
     "locked": true,
     "schema_version": 3,
     "solution": false,
     "task": false
    }
   },
   "source": [
    "#### Threshold\n",
    "\n",
    "Note that the *sensitivity* (or *specificity*) of our model depends on the threshold used to predict the classes. \n",
    "\n",
    "So far, we have predicted $\\hat{y}_i = 1$ if the predicted probability, $\\hat{p}_i$, was higher than 50%. But we can also use other values, like 30%, 10%, or 90%. "
   ]
  },
  {
   "cell_type": "markdown",
   "metadata": {
    "deletable": false,
    "editable": false,
    "nbgrader": {
     "cell_type": "markdown",
     "checksum": "1c23706d06aa4962634e68c35a87207e",
     "grade": false,
     "grade_id": "cell-a570194a8c7fd1ce",
     "locked": true,
     "schema_version": 3,
     "solution": false,
     "task": false
    }
   },
   "source": [
    "**Question 1.9**\n",
    "<br>{points: 1}\n",
    "\n",
    "What do you expect to happen if you decrease the threshold from 0.5 to 0.4.\n",
    "\n",
    "A. Both the specificity and sensitivity would stay the same.\n",
    "\n",
    "B. Both the specificity and sensitivity would increase.\n",
    "\n",
    "C. Both the specificity and sensitivity would decrease.\n",
    "\n",
    "D. The specificity would increase and sensitivity would decrease.\n",
    "\n",
    "E. The specificity would decrease and sensitivity would increase.\n",
    "\n",
    "F. There's no way to tell. \n",
    "\n",
    "_Assign your answer to an object called `answer1.9`. Your answer should be a single character surrounded by quotes._"
   ]
  },
  {
   "cell_type": "code",
   "execution_count": 24,
   "metadata": {
    "deletable": false,
    "nbgrader": {
     "cell_type": "code",
     "checksum": "2ba7f7dc010d837e1bd6b45f8a096f8b",
     "grade": false,
     "grade_id": "cell-64b6aa4cd25e1098",
     "locked": false,
     "schema_version": 3,
     "solution": true,
     "task": false
    },
    "tags": []
   },
   "outputs": [],
   "source": [
    "# answer1.9 <- ...\n",
    "\n",
    "# your code here\n",
    "answer1.9 <- \"E\"\n"
   ]
  },
  {
   "cell_type": "code",
   "execution_count": 25,
   "metadata": {
    "deletable": false,
    "editable": false,
    "nbgrader": {
     "cell_type": "code",
     "checksum": "7677df4561646f5a6480d0e29bc5b86a",
     "grade": true,
     "grade_id": "cell-6314e62308714c43",
     "locked": true,
     "points": 1,
     "schema_version": 3,
     "solution": false,
     "task": false
    },
    "tags": []
   },
   "outputs": [
    {
     "name": "stdout",
     "output_type": "stream",
     "text": [
      "\u001b[32mTest passed\u001b[39m 🎉\n",
      "\u001b[32mTest passed\u001b[39m 🎉\n",
      "\u001b[32mTest passed\u001b[39m 😀\n",
      "[1] \"Success!\"\n"
     ]
    }
   ],
   "source": [
    "test_1.9()"
   ]
  },
  {
   "cell_type": "markdown",
   "metadata": {
    "deletable": false,
    "editable": false,
    "nbgrader": {
     "cell_type": "markdown",
     "checksum": "7fb81cceb99a70ac7f4a322ce7f2ea02",
     "grade": false,
     "grade_id": "cell-1ff747717d880769",
     "locked": true,
     "schema_version": 3,
     "solution": false,
     "task": false
    }
   },
   "source": [
    "**Question 1.10**\n",
    "<br>{points: 1}\n",
    "\n",
    "Let's change our confusion matrix from the previous question by adjusting the threshold to $p_0 = 0.3$. \n",
    "\n",
    "\n",
    "1. Update your predictions using the new threshold and store it in an object named `breast_cancer_pred_class_threshold_0.3`.\n",
    "\n",
    "\n",
    "2. Use the `confusionMatrix` function to obtain the confusion matrix and associated quantities. Save the output in an object named `confusion_matrix_threshold_0.3`.\n",
    "\n",
    "\n",
    "*Fill out those parts indicated with `...`, uncomment the corresponding code in the cell below, and run it.*"
   ]
  },
  {
   "cell_type": "code",
   "execution_count": 26,
   "metadata": {
    "deletable": false,
    "nbgrader": {
     "cell_type": "code",
     "checksum": "79f735743e045187c00d90e804845c2e",
     "grade": false,
     "grade_id": "cell-95fcb9bdb826b4af",
     "locked": false,
     "schema_version": 3,
     "solution": true,
     "task": false
    },
    "tags": []
   },
   "outputs": [
    {
     "data": {
      "text/plain": [
       "Confusion Matrix and Statistics\n",
       "\n",
       "          Reference\n",
       "Prediction   0   1\n",
       "         0 249   5\n",
       "         1  10 134\n",
       "                                          \n",
       "               Accuracy : 0.9623          \n",
       "                 95% CI : (0.9386, 0.9788)\n",
       "    No Information Rate : 0.6508          \n",
       "    P-Value [Acc > NIR] : <2e-16          \n",
       "                                          \n",
       "                  Kappa : 0.9178          \n",
       "                                          \n",
       " Mcnemar's Test P-Value : 0.3017          \n",
       "                                          \n",
       "            Sensitivity : 0.9640          \n",
       "            Specificity : 0.9614          \n",
       "         Pos Pred Value : 0.9306          \n",
       "         Neg Pred Value : 0.9803          \n",
       "             Prevalence : 0.3492          \n",
       "         Detection Rate : 0.3367          \n",
       "   Detection Prevalence : 0.3618          \n",
       "      Balanced Accuracy : 0.9627          \n",
       "                                          \n",
       "       'Positive' Class : 1               \n",
       "                                          "
      ]
     },
     "metadata": {},
     "output_type": "display_data"
    }
   ],
   "source": [
    "# p_0 <- ...\n",
    "\n",
    "# breast_cancer_pred_class_threshold_0.3 <- \n",
    "#   as.interger(...(..., type = ...) > ...)\n",
    "\n",
    "# confusion_matrix_threshold_0.3 <- \n",
    "#     ...(\n",
    "#     ...,\n",
    "#     ...,\n",
    "#     ...)\n",
    "\n",
    "#confusion_matrix_threshold_0.3\n",
    "\n",
    "# your code here\n",
    "p_0 <- 0.3\n",
    "\n",
    "breast_cancer_pred_class_threshold_0.3 <- \n",
    "  as.integer(predict(breast_cancer_logistic_model, newdata = breast_cancer_train, type = \"response\") > p_0)\n",
    "\n",
    "confusion_matrix_threshold_0.3 <- \n",
    "    confusionMatrix(\n",
    "    data = as.factor(breast_cancer_pred_class_threshold_0.3), \n",
    "    reference = as.factor(breast_cancer_train$target),\n",
    "    positive = \"1\")\n",
    "\n",
    "\n",
    "confusion_matrix_threshold_0.3"
   ]
  },
  {
   "cell_type": "code",
   "execution_count": 27,
   "metadata": {
    "deletable": false,
    "editable": false,
    "nbgrader": {
     "cell_type": "code",
     "checksum": "72ef2d02b83cbd1cee910945b00b4369",
     "grade": true,
     "grade_id": "cell-8e3d1d7c2330d231",
     "locked": true,
     "points": 1,
     "schema_version": 3,
     "solution": false,
     "task": false
    },
    "tags": []
   },
   "outputs": [
    {
     "name": "stdout",
     "output_type": "stream",
     "text": [
      "\u001b[32mTest passed\u001b[39m 🎊\n",
      "\u001b[32mTest passed\u001b[39m 🥇\n",
      "[1] \"Success!\"\n"
     ]
    }
   ],
   "source": [
    "test_1.10()"
   ]
  },
  {
   "cell_type": "markdown",
   "metadata": {
    "deletable": false,
    "editable": false,
    "nbgrader": {
     "cell_type": "markdown",
     "checksum": "617f47c2d817340fd49485268182a1ca",
     "grade": false,
     "grade_id": "cell-0e7c36595100dcbd",
     "locked": true,
     "schema_version": 3,
     "solution": false,
     "task": false
    }
   },
   "source": [
    "Was this what you expected?"
   ]
  },
  {
   "cell_type": "markdown",
   "metadata": {
    "deletable": false,
    "editable": false,
    "nbgrader": {
     "cell_type": "markdown",
     "checksum": "947435c0579c2966eb6e800e412c2cfd",
     "grade": false,
     "grade_id": "cell-66dceddef862ac64",
     "locked": true,
     "schema_version": 3,
     "solution": false,
     "task": false
    }
   },
   "source": [
    "### AUC and ROC \n",
    "\n",
    "A limitation of the approach taken in the previous question is that the evaluation of the classifier depends critically on the threshold $p_0$, but the most appropriate choice of $p_0$ may not be clear. \n",
    "\n",
    "Alternatively, we can evaluate the predictive performance of a given classifier for all possible value of $p_0 \\in [0, 1]$. The resulting curve is known as the *receiver operating characteristic* (ROC) curve. \n",
    "\n",
    "The *area under the curve* (AUC) measures the classification ability of the classifier. The AUC goes from $0$ to $1$. \n",
    "\n",
    "> the higher the AUC, the better predictive performance!!\n",
    "\n",
    "![](https://upload.wikimedia.org/wikipedia/commons/thumb/1/13/Roc_curve.svg/440px-Roc_curve.svg.png)"
   ]
  },
  {
   "cell_type": "markdown",
   "metadata": {
    "deletable": false,
    "editable": false,
    "nbgrader": {
     "cell_type": "markdown",
     "checksum": "6090317bcb983b153f316fd255e94e2b",
     "grade": false,
     "grade_id": "cell-8a0b3b07c1e2b569",
     "locked": true,
     "schema_version": 3,
     "solution": false,
     "task": false
    }
   },
   "source": [
    "**Question 1.11**\n",
    "<br>{points: 1}\n",
    "\n",
    "The package `pROC`, via its function `roc()`, plots ROC curves. You need to specify the real observed classes in the argument `response` and the predictions in `predictor`. \n",
    "\n",
    "Using `breast_cancer_train` create the ROC curve for `breast_cancer_logistic_model` and call it `ROC_full_log`. Then, use `plot()` to display it.\n",
    "\n",
    "*Fill out those parts indicated with `...`, uncomment the corresponding code in the cell below, and run it.*"
   ]
  },
  {
   "cell_type": "code",
   "execution_count": 28,
   "metadata": {
    "deletable": false,
    "nbgrader": {
     "cell_type": "code",
     "checksum": "1d43630a578c8fc49760f80951e8e29e",
     "grade": false,
     "grade_id": "cell-bd64b06b49b63a19",
     "locked": false,
     "schema_version": 3,
     "solution": true,
     "task": false
    },
    "tags": []
   },
   "outputs": [
    {
     "name": "stderr",
     "output_type": "stream",
     "text": [
      "Setting levels: control = 0, case = 1\n",
      "\n",
      "Setting direction: controls < cases\n",
      "\n"
     ]
    },
    {
     "data": {
      "application/pdf": "[encoded data removed]",
      "image/jpeg": "[encoded data removed]",
      "image/png": "[encoded data removed]",
      "image/svg+xml": [
       "<?xml version=\"1.0\" encoding=\"UTF-8\"?>\n",
       "<svg xmlns=\"http://www.w3.org/2000/svg\" xmlns:xlink=\"http://www.w3.org/1999/xlink\" width=\"576\" height=\"576\" viewBox=\"0 0 576 576\">\n",
       "<defs>\n",
       "<g>\n",
       "<g id=\"glyph-0-0\">\n",
       "<path d=\"M 7.765625 0 L 5.46875 -3.765625 L 3.03125 -3.765625 L 3.03125 0 L 0.96875 0 L 0.96875 -9.90625 L 5.921875 -9.90625 C 6.535156 -9.90625 7.070312 -9.835938 7.53125 -9.703125 C 8 -9.566406 8.382812 -9.367188 8.6875 -9.109375 C 9 -8.859375 9.226562 -8.550781 9.375 -8.1875 C 9.53125 -7.820312 9.609375 -7.410156 9.609375 -6.953125 C 9.609375 -6.585938 9.550781 -6.25 9.4375 -5.9375 C 9.332031 -5.632812 9.179688 -5.363281 8.984375 -5.125 C 8.796875 -4.882812 8.566406 -4.679688 8.296875 -4.515625 C 8.035156 -4.359375 7.742188 -4.242188 7.421875 -4.171875 L 10.109375 0 Z M 7.53125 -6.875 C 7.53125 -7.351562 7.367188 -7.707031 7.046875 -7.9375 C 6.734375 -8.175781 6.285156 -8.296875 5.703125 -8.296875 L 3.03125 -8.296875 L 3.03125 -5.375 L 5.75 -5.375 C 6.0625 -5.375 6.328125 -5.410156 6.546875 -5.484375 C 6.773438 -5.554688 6.957031 -5.660156 7.09375 -5.796875 C 7.238281 -5.929688 7.347656 -6.085938 7.421875 -6.265625 C 7.492188 -6.453125 7.53125 -6.65625 7.53125 -6.875 Z M 7.53125 -6.875 \"/>\n",
       "</g>\n",
       "<g id=\"glyph-0-1\">\n",
       "<path d=\"M 10.59375 -5 C 10.59375 -4.226562 10.476562 -3.523438 10.25 -2.890625 C 10.019531 -2.253906 9.6875 -1.710938 9.25 -1.265625 C 8.820312 -0.816406 8.296875 -0.46875 7.671875 -0.21875 C 7.054688 0.0195312 6.359375 0.140625 5.578125 0.140625 C 4.742188 0.140625 4.015625 0.015625 3.390625 -0.234375 C 2.773438 -0.492188 2.257812 -0.851562 1.84375 -1.3125 C 1.425781 -1.769531 1.113281 -2.3125 0.90625 -2.9375 C 0.695312 -3.570312 0.59375 -4.257812 0.59375 -5 C 0.59375 -5.769531 0.703125 -6.46875 0.921875 -7.09375 C 1.140625 -7.71875 1.457031 -8.25 1.875 -8.6875 C 2.300781 -9.125 2.820312 -9.460938 3.4375 -9.703125 C 4.0625 -9.941406 4.78125 -10.0625 5.59375 -10.0625 C 6.394531 -10.0625 7.109375 -9.941406 7.734375 -9.703125 C 8.359375 -9.460938 8.878906 -9.117188 9.296875 -8.671875 C 9.722656 -8.234375 10.046875 -7.703125 10.265625 -7.078125 C 10.484375 -6.460938 10.59375 -5.769531 10.59375 -5 Z M 8.484375 -5 C 8.484375 -5.519531 8.421875 -5.988281 8.296875 -6.40625 C 8.171875 -6.832031 7.984375 -7.191406 7.734375 -7.484375 C 7.492188 -7.785156 7.191406 -8.015625 6.828125 -8.171875 C 6.472656 -8.335938 6.0625 -8.421875 5.59375 -8.421875 C 5.113281 -8.421875 4.691406 -8.335938 4.328125 -8.171875 C 3.960938 -8.015625 3.65625 -7.785156 3.40625 -7.484375 C 3.164062 -7.191406 2.984375 -6.832031 2.859375 -6.40625 C 2.742188 -5.988281 2.6875 -5.519531 2.6875 -5 C 2.6875 -4.488281 2.742188 -4.015625 2.859375 -3.578125 C 2.984375 -3.148438 3.164062 -2.78125 3.40625 -2.46875 C 3.65625 -2.164062 3.960938 -1.925781 4.328125 -1.75 C 4.691406 -1.570312 5.109375 -1.484375 5.578125 -1.484375 C 6.085938 -1.484375 6.523438 -1.570312 6.890625 -1.75 C 7.253906 -1.925781 7.550781 -2.171875 7.78125 -2.484375 C 8.019531 -2.796875 8.195312 -3.164062 8.3125 -3.59375 C 8.425781 -4.019531 8.484375 -4.488281 8.484375 -5 Z M 8.484375 -5 \"/>\n",
       "</g>\n",
       "<g id=\"glyph-0-2\">\n",
       "<path d=\"M 5.59375 -1.484375 C 5.976562 -1.484375 6.3125 -1.539062 6.59375 -1.65625 C 6.882812 -1.769531 7.132812 -1.914062 7.34375 -2.09375 C 7.550781 -2.269531 7.722656 -2.46875 7.859375 -2.6875 C 7.992188 -2.914062 8.109375 -3.144531 8.203125 -3.375 L 10.015625 -2.6875 C 9.867188 -2.332031 9.675781 -1.984375 9.4375 -1.640625 C 9.207031 -1.296875 8.914062 -0.992188 8.5625 -0.734375 C 8.207031 -0.472656 7.785156 -0.257812 7.296875 -0.09375 C 6.816406 0.0625 6.25 0.140625 5.59375 0.140625 C 4.738281 0.140625 3.992188 0.015625 3.359375 -0.234375 C 2.734375 -0.492188 2.210938 -0.851562 1.796875 -1.3125 C 1.390625 -1.769531 1.085938 -2.3125 0.890625 -2.9375 C 0.691406 -3.570312 0.59375 -4.257812 0.59375 -5 C 0.59375 -5.769531 0.691406 -6.46875 0.890625 -7.09375 C 1.085938 -7.71875 1.390625 -8.25 1.796875 -8.6875 C 2.203125 -9.125 2.710938 -9.460938 3.328125 -9.703125 C 3.941406 -9.941406 4.664062 -10.0625 5.5 -10.0625 C 6.144531 -10.0625 6.707031 -9.992188 7.1875 -9.859375 C 7.675781 -9.722656 8.097656 -9.53125 8.453125 -9.28125 C 8.804688 -9.03125 9.097656 -8.738281 9.328125 -8.40625 C 9.566406 -8.070312 9.753906 -7.703125 9.890625 -7.296875 L 8.046875 -6.796875 C 7.984375 -7.015625 7.882812 -7.21875 7.75 -7.40625 C 7.613281 -7.601562 7.441406 -7.773438 7.234375 -7.921875 C 7.023438 -8.078125 6.78125 -8.195312 6.5 -8.28125 C 6.21875 -8.375 5.898438 -8.421875 5.546875 -8.421875 C 5.046875 -8.421875 4.613281 -8.335938 4.25 -8.171875 C 3.882812 -8.015625 3.585938 -7.785156 3.359375 -7.484375 C 3.128906 -7.191406 2.957031 -6.832031 2.84375 -6.40625 C 2.738281 -5.988281 2.6875 -5.519531 2.6875 -5 C 2.6875 -4.488281 2.738281 -4.015625 2.84375 -3.578125 C 2.957031 -3.148438 3.128906 -2.78125 3.359375 -2.46875 C 3.597656 -2.164062 3.898438 -1.925781 4.265625 -1.75 C 4.628906 -1.570312 5.070312 -1.484375 5.59375 -1.484375 Z M 5.59375 -1.484375 \"/>\n",
       "</g>\n",
       "<g id=\"glyph-0-3\">\n",
       "</g>\n",
       "<g id=\"glyph-0-4\">\n",
       "<path d=\"M 2.875 -7.609375 L 2.875 -3.34375 C 2.875 -3.039062 2.894531 -2.765625 2.9375 -2.515625 C 2.988281 -2.273438 3.066406 -2.066406 3.171875 -1.890625 C 3.273438 -1.710938 3.410156 -1.578125 3.578125 -1.484375 C 3.753906 -1.390625 3.96875 -1.34375 4.21875 -1.34375 C 4.457031 -1.34375 4.671875 -1.394531 4.859375 -1.5 C 5.054688 -1.601562 5.222656 -1.75 5.359375 -1.9375 C 5.503906 -2.132812 5.613281 -2.367188 5.6875 -2.640625 C 5.769531 -2.910156 5.8125 -3.207031 5.8125 -3.53125 L 5.8125 -7.609375 L 7.796875 -7.609375 L 7.796875 -1.703125 C 7.796875 -1.546875 7.796875 -1.378906 7.796875 -1.203125 C 7.796875 -1.023438 7.800781 -0.859375 7.8125 -0.703125 C 7.820312 -0.546875 7.828125 -0.40625 7.828125 -0.28125 C 7.835938 -0.15625 7.84375 -0.0625 7.84375 0 L 5.96875 0 C 5.957031 -0.0507812 5.945312 -0.140625 5.9375 -0.265625 C 5.925781 -0.390625 5.914062 -0.523438 5.90625 -0.671875 C 5.90625 -0.828125 5.898438 -0.976562 5.890625 -1.125 C 5.878906 -1.28125 5.875 -1.410156 5.875 -1.515625 L 5.84375 -1.515625 C 5.582031 -0.929688 5.25 -0.507812 4.84375 -0.25 C 4.4375 0.0078125 3.953125 0.140625 3.390625 0.140625 C 2.941406 0.140625 2.554688 0.0664062 2.234375 -0.078125 C 1.921875 -0.234375 1.660156 -0.441406 1.453125 -0.703125 C 1.253906 -0.960938 1.109375 -1.269531 1.015625 -1.625 C 0.929688 -1.976562 0.890625 -2.363281 0.890625 -2.78125 L 0.890625 -7.609375 Z M 2.875 -7.609375 \"/>\n",
       "</g>\n",
       "<g id=\"glyph-0-5\">\n",
       "<path d=\"M 1 0 L 1 -5.828125 C 1 -5.992188 1 -6.164062 1 -6.34375 C 1 -6.53125 0.992188 -6.707031 0.984375 -6.875 C 0.984375 -7.039062 0.976562 -7.1875 0.96875 -7.3125 C 0.96875 -7.445312 0.960938 -7.546875 0.953125 -7.609375 L 2.828125 -7.609375 C 2.835938 -7.554688 2.847656 -7.457031 2.859375 -7.3125 C 2.867188 -7.175781 2.878906 -7.023438 2.890625 -6.859375 C 2.898438 -6.703125 2.90625 -6.539062 2.90625 -6.375 C 2.914062 -6.21875 2.921875 -6.085938 2.921875 -5.984375 L 2.953125 -5.984375 C 3.054688 -6.265625 3.15625 -6.515625 3.25 -6.734375 C 3.34375 -6.953125 3.457031 -7.132812 3.59375 -7.28125 C 3.726562 -7.4375 3.890625 -7.554688 4.078125 -7.640625 C 4.265625 -7.722656 4.5 -7.765625 4.78125 -7.765625 C 4.894531 -7.765625 5.007812 -7.753906 5.125 -7.734375 C 5.238281 -7.710938 5.328125 -7.6875 5.390625 -7.65625 L 5.390625 -6 C 5.265625 -6.03125 5.132812 -6.054688 5 -6.078125 C 4.875 -6.097656 4.722656 -6.109375 4.546875 -6.109375 C 4.054688 -6.109375 3.671875 -5.90625 3.390625 -5.5 C 3.117188 -5.101562 2.984375 -4.515625 2.984375 -3.734375 L 2.984375 0 Z M 1 0 \"/>\n",
       "</g>\n",
       "<g id=\"glyph-0-6\">\n",
       "<path d=\"M 3.96875 -1.59375 L 5.875 -7.609375 L 7.953125 -7.609375 L 5.140625 0 L 2.78125 0 L 0.0625 -7.609375 L 2.140625 -7.609375 Z M 3.96875 -1.59375 \"/>\n",
       "</g>\n",
       "<g id=\"glyph-0-7\">\n",
       "<path d=\"M 4.125 0.140625 C 3.570312 0.140625 3.078125 0.0625 2.640625 -0.09375 C 2.203125 -0.257812 1.828125 -0.507812 1.515625 -0.84375 C 1.210938 -1.175781 0.976562 -1.585938 0.8125 -2.078125 C 0.644531 -2.578125 0.5625 -3.164062 0.5625 -3.84375 C 0.5625 -4.570312 0.65625 -5.179688 0.84375 -5.671875 C 1.039062 -6.171875 1.304688 -6.570312 1.640625 -6.875 C 1.972656 -7.1875 2.351562 -7.410156 2.78125 -7.546875 C 3.21875 -7.679688 3.675781 -7.75 4.15625 -7.75 C 4.75 -7.75 5.257812 -7.644531 5.6875 -7.4375 C 6.113281 -7.226562 6.460938 -6.9375 6.734375 -6.5625 C 7.003906 -6.1875 7.203125 -5.738281 7.328125 -5.21875 C 7.453125 -4.695312 7.515625 -4.117188 7.515625 -3.484375 L 7.515625 -3.421875 L 2.640625 -3.421875 C 2.640625 -3.109375 2.664062 -2.8125 2.71875 -2.53125 C 2.78125 -2.257812 2.875 -2.023438 3 -1.828125 C 3.125 -1.628906 3.285156 -1.472656 3.484375 -1.359375 C 3.691406 -1.242188 3.9375 -1.1875 4.21875 -1.1875 C 4.5625 -1.1875 4.84375 -1.257812 5.0625 -1.40625 C 5.289062 -1.550781 5.453125 -1.78125 5.546875 -2.09375 L 7.40625 -1.921875 C 7.320312 -1.710938 7.203125 -1.484375 7.046875 -1.234375 C 6.898438 -0.992188 6.695312 -0.769531 6.4375 -0.5625 C 6.1875 -0.363281 5.875 -0.195312 5.5 -0.0625 C 5.125 0.0703125 4.664062 0.140625 4.125 0.140625 Z M 4.125 -6.5 C 3.914062 -6.5 3.722656 -6.460938 3.546875 -6.390625 C 3.378906 -6.328125 3.226562 -6.222656 3.09375 -6.078125 C 2.96875 -5.929688 2.863281 -5.738281 2.78125 -5.5 C 2.707031 -5.269531 2.664062 -4.988281 2.65625 -4.65625 L 5.609375 -4.65625 C 5.566406 -5.269531 5.414062 -5.726562 5.15625 -6.03125 C 4.90625 -6.34375 4.5625 -6.5 4.125 -6.5 Z M 4.125 -6.5 \"/>\n",
       "</g>\n",
       "<g id=\"glyph-0-8\">\n",
       "<path d=\"M 7.421875 -2.21875 C 7.421875 -1.851562 7.34375 -1.523438 7.1875 -1.234375 C 7.039062 -0.941406 6.820312 -0.691406 6.53125 -0.484375 C 6.238281 -0.285156 5.878906 -0.128906 5.453125 -0.015625 C 5.035156 0.0859375 4.554688 0.140625 4.015625 0.140625 C 3.535156 0.140625 3.097656 0.101562 2.703125 0.03125 C 2.316406 -0.0390625 1.976562 -0.15625 1.6875 -0.3125 C 1.394531 -0.476562 1.148438 -0.6875 0.953125 -0.9375 C 0.753906 -1.195312 0.601562 -1.519531 0.5 -1.90625 L 2.25 -2.15625 C 2.300781 -1.945312 2.375 -1.773438 2.46875 -1.640625 C 2.570312 -1.515625 2.695312 -1.414062 2.84375 -1.34375 C 2.988281 -1.269531 3.15625 -1.222656 3.34375 -1.203125 C 3.539062 -1.179688 3.765625 -1.171875 4.015625 -1.171875 C 4.242188 -1.171875 4.453125 -1.179688 4.640625 -1.203125 C 4.835938 -1.234375 5.003906 -1.28125 5.140625 -1.34375 C 5.285156 -1.40625 5.398438 -1.492188 5.484375 -1.609375 C 5.566406 -1.722656 5.609375 -1.867188 5.609375 -2.046875 C 5.609375 -2.234375 5.550781 -2.382812 5.4375 -2.5 C 5.320312 -2.625 5.160156 -2.71875 4.953125 -2.78125 C 4.753906 -2.851562 4.519531 -2.914062 4.25 -2.96875 C 3.988281 -3.03125 3.703125 -3.097656 3.390625 -3.171875 C 3.078125 -3.234375 2.765625 -3.3125 2.453125 -3.40625 C 2.140625 -3.507812 1.863281 -3.644531 1.625 -3.8125 C 1.382812 -3.988281 1.1875 -4.207031 1.03125 -4.46875 C 0.882812 -4.726562 0.8125 -5.054688 0.8125 -5.453125 C 0.8125 -5.816406 0.878906 -6.140625 1.015625 -6.421875 C 1.160156 -6.703125 1.367188 -6.941406 1.640625 -7.140625 C 1.910156 -7.335938 2.242188 -7.488281 2.640625 -7.59375 C 3.046875 -7.707031 3.507812 -7.765625 4.03125 -7.765625 C 4.445312 -7.765625 4.832031 -7.722656 5.1875 -7.640625 C 5.539062 -7.566406 5.859375 -7.445312 6.140625 -7.28125 C 6.421875 -7.113281 6.65625 -6.898438 6.84375 -6.640625 C 7.03125 -6.378906 7.164062 -6.066406 7.25 -5.703125 L 5.5 -5.515625 C 5.457031 -5.703125 5.394531 -5.851562 5.3125 -5.96875 C 5.226562 -6.09375 5.125 -6.1875 5 -6.25 C 4.875 -6.320312 4.726562 -6.367188 4.5625 -6.390625 C 4.40625 -6.421875 4.226562 -6.4375 4.03125 -6.4375 C 3.5625 -6.4375 3.207031 -6.375 2.96875 -6.25 C 2.738281 -6.132812 2.625 -5.9375 2.625 -5.65625 C 2.625 -5.488281 2.671875 -5.351562 2.765625 -5.25 C 2.859375 -5.144531 2.992188 -5.054688 3.171875 -4.984375 C 3.347656 -4.921875 3.554688 -4.863281 3.796875 -4.8125 C 4.046875 -4.757812 4.3125 -4.703125 4.59375 -4.640625 C 4.945312 -4.554688 5.289062 -4.460938 5.625 -4.359375 C 5.96875 -4.265625 6.269531 -4.128906 6.53125 -3.953125 C 6.800781 -3.773438 7.015625 -3.546875 7.171875 -3.265625 C 7.335938 -2.992188 7.421875 -2.644531 7.421875 -2.21875 Z M 7.421875 -2.21875 \"/>\n",
       "</g>\n",
       "<g id=\"glyph-0-9\">\n",
       "<path d=\"M 3.328125 -6.28125 L 3.328125 0 L 1.359375 0 L 1.359375 -6.28125 L 0.25 -6.28125 L 0.25 -7.609375 L 1.359375 -7.609375 L 1.359375 -8.40625 C 1.359375 -8.695312 1.390625 -8.960938 1.453125 -9.203125 C 1.523438 -9.453125 1.644531 -9.664062 1.8125 -9.84375 C 1.988281 -10.03125 2.21875 -10.175781 2.5 -10.28125 C 2.789062 -10.382812 3.148438 -10.4375 3.578125 -10.4375 C 3.796875 -10.4375 4.015625 -10.425781 4.234375 -10.40625 C 4.453125 -10.382812 4.648438 -10.359375 4.828125 -10.328125 L 4.828125 -9.046875 C 4.742188 -9.066406 4.644531 -9.082031 4.53125 -9.09375 C 4.425781 -9.101562 4.332031 -9.109375 4.25 -9.109375 C 4.0625 -9.109375 3.90625 -9.085938 3.78125 -9.046875 C 3.664062 -9.015625 3.570312 -8.960938 3.5 -8.890625 C 3.4375 -8.816406 3.390625 -8.722656 3.359375 -8.609375 C 3.335938 -8.492188 3.328125 -8.359375 3.328125 -8.203125 L 3.328125 -7.609375 L 4.828125 -7.609375 L 4.828125 -6.28125 Z M 3.328125 -6.28125 \"/>\n",
       "</g>\n",
       "<g id=\"glyph-0-10\">\n",
       "<path d=\"M 8.234375 -3.8125 C 8.234375 -3.226562 8.148438 -2.691406 7.984375 -2.203125 C 7.828125 -1.722656 7.585938 -1.304688 7.265625 -0.953125 C 6.941406 -0.609375 6.535156 -0.335938 6.046875 -0.140625 C 5.566406 0.046875 5.007812 0.140625 4.375 0.140625 C 3.75 0.140625 3.195312 0.046875 2.71875 -0.140625 C 2.25 -0.335938 1.851562 -0.609375 1.53125 -0.953125 C 1.21875 -1.304688 0.976562 -1.722656 0.8125 -2.203125 C 0.644531 -2.691406 0.5625 -3.226562 0.5625 -3.8125 C 0.5625 -4.375 0.640625 -4.894531 0.796875 -5.375 C 0.953125 -5.863281 1.1875 -6.28125 1.5 -6.625 C 1.820312 -6.976562 2.222656 -7.253906 2.703125 -7.453125 C 3.191406 -7.648438 3.757812 -7.75 4.40625 -7.75 C 5.09375 -7.75 5.675781 -7.648438 6.15625 -7.453125 C 6.644531 -7.253906 7.039062 -6.976562 7.34375 -6.625 C 7.65625 -6.28125 7.878906 -5.867188 8.015625 -5.390625 C 8.160156 -4.910156 8.234375 -4.382812 8.234375 -3.8125 Z M 6.171875 -3.8125 C 6.171875 -4.71875 6.019531 -5.375 5.71875 -5.78125 C 5.425781 -6.1875 5 -6.390625 4.4375 -6.390625 C 3.851562 -6.390625 3.40625 -6.179688 3.09375 -5.765625 C 2.789062 -5.359375 2.640625 -4.707031 2.640625 -3.8125 C 2.640625 -3.351562 2.679688 -2.957031 2.765625 -2.625 C 2.847656 -2.300781 2.960938 -2.035156 3.109375 -1.828125 C 3.253906 -1.617188 3.429688 -1.460938 3.640625 -1.359375 C 3.859375 -1.253906 4.09375 -1.203125 4.34375 -1.203125 C 4.632812 -1.203125 4.894531 -1.253906 5.125 -1.359375 C 5.351562 -1.460938 5.546875 -1.617188 5.703125 -1.828125 C 5.859375 -2.035156 5.972656 -2.300781 6.046875 -2.625 C 6.128906 -2.957031 6.171875 -3.351562 6.171875 -3.8125 Z M 6.171875 -3.8125 \"/>\n",
       "</g>\n",
       "<g id=\"glyph-0-11\">\n",
       "<path d=\"M 9.75 -2.828125 C 9.75 -2.328125 9.644531 -1.894531 9.4375 -1.53125 C 9.238281 -1.175781 8.960938 -0.882812 8.609375 -0.65625 C 8.265625 -0.425781 7.859375 -0.257812 7.390625 -0.15625 C 6.929688 -0.0507812 6.441406 0 5.921875 0 L 0.96875 0 L 0.96875 -9.90625 L 5.5 -9.90625 C 6.082031 -9.90625 6.601562 -9.851562 7.0625 -9.75 C 7.519531 -9.65625 7.90625 -9.503906 8.21875 -9.296875 C 8.53125 -9.085938 8.769531 -8.828125 8.9375 -8.515625 C 9.101562 -8.203125 9.1875 -7.835938 9.1875 -7.421875 C 9.1875 -6.859375 9.03125 -6.382812 8.71875 -6 C 8.40625 -5.613281 7.925781 -5.351562 7.28125 -5.21875 C 8.082031 -5.125 8.691406 -4.867188 9.109375 -4.453125 C 9.535156 -4.046875 9.75 -3.503906 9.75 -2.828125 Z M 7.09375 -7.140625 C 7.09375 -7.585938 6.945312 -7.90625 6.65625 -8.09375 C 6.375 -8.28125 5.957031 -8.375 5.40625 -8.375 L 3.03125 -8.375 L 3.03125 -5.921875 L 5.421875 -5.921875 C 6.003906 -5.921875 6.425781 -6.019531 6.6875 -6.21875 C 6.957031 -6.425781 7.09375 -6.734375 7.09375 -7.140625 Z M 7.671875 -2.984375 C 7.671875 -3.253906 7.617188 -3.476562 7.515625 -3.65625 C 7.410156 -3.832031 7.265625 -3.972656 7.078125 -4.078125 C 6.898438 -4.179688 6.691406 -4.253906 6.453125 -4.296875 C 6.210938 -4.347656 5.953125 -4.375 5.671875 -4.375 L 3.03125 -4.375 L 3.03125 -1.546875 L 5.75 -1.546875 C 6.019531 -1.546875 6.269531 -1.566406 6.5 -1.609375 C 6.738281 -1.648438 6.941406 -1.722656 7.109375 -1.828125 C 7.285156 -1.941406 7.421875 -2.09375 7.515625 -2.28125 C 7.617188 -2.46875 7.671875 -2.703125 7.671875 -2.984375 Z M 7.671875 -2.984375 \"/>\n",
       "</g>\n",
       "<g id=\"glyph-0-12\">\n",
       "<path d=\"M 2.765625 0.140625 C 2.398438 0.140625 2.070312 0.09375 1.78125 0 C 1.488281 -0.101562 1.242188 -0.253906 1.046875 -0.453125 C 0.847656 -0.648438 0.691406 -0.890625 0.578125 -1.171875 C 0.472656 -1.460938 0.421875 -1.789062 0.421875 -2.15625 C 0.421875 -2.601562 0.5 -2.976562 0.65625 -3.28125 C 0.8125 -3.59375 1.023438 -3.84375 1.296875 -4.03125 C 1.566406 -4.21875 1.882812 -4.351562 2.25 -4.4375 C 2.625 -4.53125 3.015625 -4.582031 3.421875 -4.59375 L 5.0625 -4.609375 L 5.0625 -5 C 5.0625 -5.28125 5.035156 -5.507812 4.984375 -5.6875 C 4.941406 -5.875 4.875 -6.023438 4.78125 -6.140625 C 4.6875 -6.265625 4.566406 -6.347656 4.421875 -6.390625 C 4.285156 -6.441406 4.128906 -6.46875 3.953125 -6.46875 C 3.785156 -6.46875 3.632812 -6.453125 3.5 -6.421875 C 3.375 -6.390625 3.265625 -6.332031 3.171875 -6.25 C 3.078125 -6.164062 3 -6.054688 2.9375 -5.921875 C 2.882812 -5.785156 2.847656 -5.609375 2.828125 -5.390625 L 0.765625 -5.5 C 0.816406 -5.832031 0.914062 -6.132812 1.0625 -6.40625 C 1.21875 -6.675781 1.425781 -6.910156 1.6875 -7.109375 C 1.957031 -7.316406 2.285156 -7.472656 2.671875 -7.578125 C 3.054688 -7.691406 3.507812 -7.75 4.03125 -7.75 C 4.507812 -7.75 4.929688 -7.691406 5.296875 -7.578125 C 5.671875 -7.460938 5.988281 -7.285156 6.25 -7.046875 C 6.507812 -6.816406 6.707031 -6.53125 6.84375 -6.1875 C 6.976562 -5.851562 7.046875 -5.460938 7.046875 -5.015625 L 7.046875 -2.25 C 7.046875 -2.070312 7.050781 -1.910156 7.0625 -1.765625 C 7.082031 -1.628906 7.113281 -1.507812 7.15625 -1.40625 C 7.195312 -1.3125 7.257812 -1.238281 7.34375 -1.1875 C 7.425781 -1.144531 7.535156 -1.125 7.671875 -1.125 C 7.816406 -1.125 7.960938 -1.140625 8.109375 -1.171875 L 8.109375 -0.09375 C 7.984375 -0.0703125 7.875 -0.046875 7.78125 -0.015625 C 7.6875 0.00390625 7.59375 0.0195312 7.5 0.03125 C 7.40625 0.0507812 7.304688 0.0625 7.203125 0.0625 C 7.097656 0.0703125 6.976562 0.078125 6.84375 0.078125 C 6.34375 0.078125 5.972656 -0.0390625 5.734375 -0.28125 C 5.492188 -0.519531 5.351562 -0.878906 5.3125 -1.359375 L 5.265625 -1.359375 C 5.003906 -0.878906 4.664062 -0.507812 4.25 -0.25 C 3.84375 0.0078125 3.347656 0.140625 2.765625 0.140625 Z M 5.0625 -3.53125 L 4.046875 -3.515625 C 3.835938 -3.503906 3.640625 -3.484375 3.453125 -3.453125 C 3.265625 -3.429688 3.097656 -3.378906 2.953125 -3.296875 C 2.804688 -3.210938 2.691406 -3.09375 2.609375 -2.9375 C 2.523438 -2.78125 2.484375 -2.570312 2.484375 -2.3125 C 2.484375 -1.945312 2.566406 -1.675781 2.734375 -1.5 C 2.898438 -1.320312 3.117188 -1.234375 3.390625 -1.234375 C 3.648438 -1.234375 3.878906 -1.285156 4.078125 -1.390625 C 4.285156 -1.503906 4.460938 -1.648438 4.609375 -1.828125 C 4.753906 -2.003906 4.863281 -2.207031 4.9375 -2.4375 C 5.019531 -2.664062 5.0625 -2.898438 5.0625 -3.140625 Z M 5.0625 -3.53125 \"/>\n",
       "</g>\n",
       "<g id=\"glyph-0-13\">\n",
       "<path d=\"M 2.953125 0.125 C 2.367188 0.125 1.921875 -0.03125 1.609375 -0.34375 C 1.296875 -0.664062 1.140625 -1.144531 1.140625 -1.78125 L 1.140625 -6.28125 L 0.171875 -6.28125 L 0.171875 -7.609375 L 1.234375 -7.609375 L 1.859375 -9.390625 L 3.09375 -9.390625 L 3.09375 -7.609375 L 4.53125 -7.609375 L 4.53125 -6.28125 L 3.09375 -6.28125 L 3.09375 -2.328125 C 3.09375 -1.953125 3.160156 -1.675781 3.296875 -1.5 C 3.441406 -1.320312 3.660156 -1.234375 3.953125 -1.234375 C 4.078125 -1.234375 4.1875 -1.242188 4.28125 -1.265625 C 4.382812 -1.285156 4.5 -1.3125 4.625 -1.34375 L 4.625 -0.109375 C 4.375 -0.0351562 4.113281 0.0195312 3.84375 0.0625 C 3.570312 0.101562 3.273438 0.125 2.953125 0.125 Z M 2.953125 0.125 \"/>\n",
       "</g>\n",
       "<g id=\"glyph-0-14\">\n",
       "<path d=\"M 5.9375 0 L 5.9375 -4.265625 C 5.9375 -4.566406 5.910156 -4.835938 5.859375 -5.078125 C 5.816406 -5.328125 5.738281 -5.539062 5.625 -5.71875 C 5.519531 -5.894531 5.378906 -6.03125 5.203125 -6.125 C 5.035156 -6.226562 4.828125 -6.28125 4.578125 -6.28125 C 4.335938 -6.28125 4.117188 -6.222656 3.921875 -6.109375 C 3.734375 -6.003906 3.566406 -5.851562 3.421875 -5.65625 C 3.285156 -5.46875 3.175781 -5.238281 3.09375 -4.96875 C 3.019531 -4.695312 2.984375 -4.398438 2.984375 -4.078125 L 2.984375 0 L 1 0 L 1 -5.90625 C 1 -6.070312 1 -6.238281 1 -6.40625 C 1 -6.582031 0.992188 -6.75 0.984375 -6.90625 C 0.984375 -7.0625 0.976562 -7.203125 0.96875 -7.328125 C 0.96875 -7.453125 0.960938 -7.546875 0.953125 -7.609375 L 2.828125 -7.609375 C 2.835938 -7.554688 2.847656 -7.46875 2.859375 -7.34375 C 2.867188 -7.21875 2.878906 -7.078125 2.890625 -6.921875 C 2.898438 -6.773438 2.90625 -6.625 2.90625 -6.46875 C 2.914062 -6.320312 2.921875 -6.195312 2.921875 -6.09375 L 2.953125 -6.09375 C 3.222656 -6.675781 3.554688 -7.097656 3.953125 -7.359375 C 4.359375 -7.628906 4.84375 -7.765625 5.40625 -7.765625 C 5.863281 -7.765625 6.25 -7.6875 6.5625 -7.53125 C 6.882812 -7.382812 7.144531 -7.175781 7.34375 -6.90625 C 7.539062 -6.644531 7.679688 -6.335938 7.765625 -5.984375 C 7.859375 -5.628906 7.90625 -5.242188 7.90625 -4.828125 L 7.90625 0 Z M 5.9375 0 \"/>\n",
       "</g>\n",
       "<g id=\"glyph-0-15\">\n",
       "<path d=\"M 4.171875 0.140625 C 3.566406 0.140625 3.035156 0.046875 2.578125 -0.140625 C 2.128906 -0.328125 1.753906 -0.59375 1.453125 -0.9375 C 1.160156 -1.28125 0.9375 -1.691406 0.78125 -2.171875 C 0.632812 -2.648438 0.5625 -3.179688 0.5625 -3.765625 C 0.5625 -4.398438 0.644531 -4.960938 0.8125 -5.453125 C 0.976562 -5.953125 1.210938 -6.367188 1.515625 -6.703125 C 1.828125 -7.046875 2.207031 -7.304688 2.65625 -7.484375 C 3.113281 -7.660156 3.628906 -7.75 4.203125 -7.75 C 4.691406 -7.75 5.128906 -7.679688 5.515625 -7.546875 C 5.898438 -7.421875 6.226562 -7.242188 6.5 -7.015625 C 6.78125 -6.785156 7.003906 -6.515625 7.171875 -6.203125 C 7.347656 -5.898438 7.46875 -5.570312 7.53125 -5.21875 L 5.546875 -5.109375 C 5.484375 -5.503906 5.335938 -5.816406 5.109375 -6.046875 C 4.890625 -6.273438 4.578125 -6.390625 4.171875 -6.390625 C 3.640625 -6.390625 3.25 -6.171875 3 -5.734375 C 2.757812 -5.296875 2.640625 -4.664062 2.640625 -3.84375 C 2.640625 -2.082031 3.15625 -1.203125 4.1875 -1.203125 C 4.5625 -1.203125 4.875 -1.320312 5.125 -1.5625 C 5.382812 -1.800781 5.546875 -2.15625 5.609375 -2.625 L 7.59375 -2.53125 C 7.539062 -2.175781 7.429688 -1.835938 7.265625 -1.515625 C 7.097656 -1.203125 6.875 -0.921875 6.59375 -0.671875 C 6.3125 -0.421875 5.96875 -0.222656 5.5625 -0.078125 C 5.15625 0.0664062 4.691406 0.140625 4.171875 0.140625 Z M 4.171875 0.140625 \"/>\n",
       "</g>\n",
       "<g id=\"glyph-0-16\">\n",
       "<path d=\"M 9.796875 -5.03125 C 9.796875 -4.207031 9.671875 -3.476562 9.421875 -2.84375 C 9.171875 -2.21875 8.832031 -1.691406 8.40625 -1.265625 C 7.976562 -0.847656 7.46875 -0.53125 6.875 -0.3125 C 6.289062 -0.101562 5.65625 0 4.96875 0 L 0.96875 0 L 0.96875 -9.90625 L 4.546875 -9.90625 C 5.316406 -9.90625 6.019531 -9.804688 6.65625 -9.609375 C 7.300781 -9.421875 7.859375 -9.128906 8.328125 -8.734375 C 8.796875 -8.335938 9.15625 -7.832031 9.40625 -7.21875 C 9.664062 -6.601562 9.796875 -5.875 9.796875 -5.03125 Z M 7.703125 -5.03125 C 7.703125 -5.601562 7.625 -6.09375 7.46875 -6.5 C 7.3125 -6.914062 7.09375 -7.253906 6.8125 -7.515625 C 6.53125 -7.785156 6.191406 -7.984375 5.796875 -8.109375 C 5.410156 -8.242188 4.984375 -8.3125 4.515625 -8.3125 L 3.03125 -8.3125 L 3.03125 -1.609375 L 4.796875 -1.609375 C 5.210938 -1.609375 5.597656 -1.679688 5.953125 -1.828125 C 6.304688 -1.972656 6.613281 -2.1875 6.875 -2.46875 C 7.132812 -2.757812 7.335938 -3.117188 7.484375 -3.546875 C 7.628906 -3.972656 7.703125 -4.46875 7.703125 -5.03125 Z M 7.703125 -5.03125 \"/>\n",
       "</g>\n",
       "<g id=\"glyph-1-0\">\n",
       "<path d=\"M 7.453125 -2.28125 C 7.453125 -1.9375 7.382812 -1.613281 7.25 -1.3125 C 7.113281 -1.019531 6.90625 -0.765625 6.625 -0.546875 C 6.34375 -0.335938 5.988281 -0.171875 5.5625 -0.046875 C 5.132812 0.0664062 4.628906 0.125 4.046875 0.125 C 3.015625 0.125 2.210938 -0.0546875 1.640625 -0.421875 C 1.066406 -0.785156 0.703125 -1.304688 0.546875 -1.984375 L 1.625 -2.203125 C 1.6875 -1.984375 1.769531 -1.785156 1.875 -1.609375 C 1.988281 -1.429688 2.140625 -1.28125 2.328125 -1.15625 C 2.523438 -1.03125 2.765625 -0.929688 3.046875 -0.859375 C 3.335938 -0.785156 3.679688 -0.75 4.078125 -0.75 C 4.410156 -0.75 4.71875 -0.773438 5 -0.828125 C 5.28125 -0.890625 5.519531 -0.976562 5.71875 -1.09375 C 5.914062 -1.21875 6.066406 -1.367188 6.171875 -1.546875 C 6.285156 -1.734375 6.34375 -1.957031 6.34375 -2.21875 C 6.34375 -2.488281 6.28125 -2.707031 6.15625 -2.875 C 6.039062 -3.039062 5.867188 -3.175781 5.640625 -3.28125 C 5.421875 -3.394531 5.15625 -3.488281 4.84375 -3.5625 C 4.539062 -3.644531 4.203125 -3.726562 3.828125 -3.8125 C 3.585938 -3.863281 3.351562 -3.914062 3.125 -3.96875 C 2.894531 -4.03125 2.671875 -4.101562 2.453125 -4.1875 C 2.242188 -4.269531 2.046875 -4.367188 1.859375 -4.484375 C 1.671875 -4.597656 1.507812 -4.734375 1.375 -4.890625 C 1.238281 -5.054688 1.128906 -5.242188 1.046875 -5.453125 C 0.972656 -5.660156 0.9375 -5.898438 0.9375 -6.171875 C 0.9375 -6.554688 1.015625 -6.890625 1.171875 -7.171875 C 1.328125 -7.453125 1.546875 -7.679688 1.828125 -7.859375 C 2.109375 -8.046875 2.441406 -8.175781 2.828125 -8.25 C 3.210938 -8.332031 3.625 -8.375 4.0625 -8.375 C 4.570312 -8.375 5.007812 -8.332031 5.375 -8.25 C 5.738281 -8.175781 6.046875 -8.054688 6.296875 -7.890625 C 6.546875 -7.734375 6.742188 -7.535156 6.890625 -7.296875 C 7.046875 -7.066406 7.171875 -6.796875 7.265625 -6.484375 L 6.15625 -6.28125 C 6.101562 -6.488281 6.023438 -6.671875 5.921875 -6.828125 C 5.816406 -6.984375 5.679688 -7.113281 5.515625 -7.21875 C 5.347656 -7.320312 5.144531 -7.398438 4.90625 -7.453125 C 4.664062 -7.503906 4.382812 -7.53125 4.0625 -7.53125 C 3.675781 -7.53125 3.351562 -7.492188 3.09375 -7.421875 C 2.832031 -7.359375 2.625 -7.269531 2.46875 -7.15625 C 2.3125 -7.039062 2.195312 -6.898438 2.125 -6.734375 C 2.050781 -6.578125 2.015625 -6.410156 2.015625 -6.234375 C 2.015625 -5.984375 2.078125 -5.78125 2.203125 -5.625 C 2.328125 -5.46875 2.492188 -5.332031 2.703125 -5.21875 C 2.921875 -5.113281 3.164062 -5.023438 3.4375 -4.953125 C 3.71875 -4.890625 4.015625 -4.820312 4.328125 -4.75 C 4.578125 -4.695312 4.828125 -4.640625 5.078125 -4.578125 C 5.335938 -4.515625 5.582031 -4.441406 5.8125 -4.359375 C 6.039062 -4.273438 6.253906 -4.175781 6.453125 -4.0625 C 6.648438 -3.945312 6.820312 -3.804688 6.96875 -3.640625 C 7.125 -3.484375 7.242188 -3.289062 7.328125 -3.0625 C 7.410156 -2.84375 7.453125 -2.582031 7.453125 -2.28125 Z M 7.453125 -2.28125 \"/>\n",
       "</g>\n",
       "<g id=\"glyph-1-1\">\n",
       "<path d=\"M 6.171875 -3.203125 C 6.171875 -2.722656 6.128906 -2.28125 6.046875 -1.875 C 5.972656 -1.46875 5.84375 -1.113281 5.65625 -0.8125 C 5.476562 -0.519531 5.238281 -0.289062 4.9375 -0.125 C 4.644531 0.0390625 4.28125 0.125 3.84375 0.125 C 3.382812 0.125 2.984375 0.0351562 2.640625 -0.140625 C 2.304688 -0.316406 2.050781 -0.597656 1.875 -0.984375 L 1.84375 -0.984375 C 1.84375 -0.972656 1.84375 -0.9375 1.84375 -0.875 C 1.851562 -0.8125 1.859375 -0.734375 1.859375 -0.640625 C 1.859375 -0.546875 1.859375 -0.441406 1.859375 -0.328125 C 1.859375 -0.210938 1.859375 -0.0976562 1.859375 0.015625 L 1.859375 2.484375 L 0.8125 2.484375 L 0.8125 -5.046875 C 0.8125 -5.203125 0.804688 -5.347656 0.796875 -5.484375 C 0.796875 -5.628906 0.796875 -5.757812 0.796875 -5.875 C 0.796875 -5.988281 0.789062 -6.082031 0.78125 -6.15625 C 0.78125 -6.238281 0.78125 -6.300781 0.78125 -6.34375 L 1.796875 -6.34375 C 1.796875 -6.332031 1.796875 -6.289062 1.796875 -6.21875 C 1.804688 -6.144531 1.8125 -6.054688 1.8125 -5.953125 C 1.820312 -5.859375 1.832031 -5.753906 1.84375 -5.640625 C 1.851562 -5.523438 1.859375 -5.421875 1.859375 -5.328125 L 1.875 -5.328125 C 1.96875 -5.523438 2.078125 -5.691406 2.203125 -5.828125 C 2.328125 -5.972656 2.46875 -6.09375 2.625 -6.1875 C 2.789062 -6.28125 2.972656 -6.347656 3.171875 -6.390625 C 3.367188 -6.429688 3.59375 -6.453125 3.84375 -6.453125 C 4.28125 -6.453125 4.644531 -6.375 4.9375 -6.21875 C 5.238281 -6.0625 5.476562 -5.84375 5.65625 -5.5625 C 5.84375 -5.28125 5.972656 -4.9375 6.046875 -4.53125 C 6.128906 -4.132812 6.171875 -3.691406 6.171875 -3.203125 Z M 5.0625 -3.171875 C 5.0625 -3.566406 5.035156 -3.914062 4.984375 -4.21875 C 4.941406 -4.519531 4.863281 -4.773438 4.75 -4.984375 C 4.632812 -5.203125 4.476562 -5.363281 4.28125 -5.46875 C 4.09375 -5.582031 3.851562 -5.640625 3.5625 -5.640625 C 3.332031 -5.640625 3.113281 -5.601562 2.90625 -5.53125 C 2.695312 -5.46875 2.515625 -5.34375 2.359375 -5.15625 C 2.210938 -4.96875 2.09375 -4.707031 2 -4.375 C 1.90625 -4.050781 1.859375 -3.625 1.859375 -3.09375 C 1.859375 -2.644531 1.894531 -2.265625 1.96875 -1.953125 C 2.050781 -1.640625 2.160156 -1.390625 2.296875 -1.203125 C 2.441406 -1.015625 2.617188 -0.875 2.828125 -0.78125 C 3.035156 -0.695312 3.28125 -0.65625 3.5625 -0.65625 C 3.851562 -0.65625 4.09375 -0.710938 4.28125 -0.828125 C 4.476562 -0.941406 4.632812 -1.101562 4.75 -1.3125 C 4.863281 -1.53125 4.941406 -1.796875 4.984375 -2.109375 C 5.035156 -2.421875 5.0625 -2.773438 5.0625 -3.171875 Z M 5.0625 -3.171875 \"/>\n",
       "</g>\n",
       "<g id=\"glyph-1-2\">\n",
       "<path d=\"M 1.625 -2.953125 C 1.625 -2.617188 1.65625 -2.3125 1.71875 -2.03125 C 1.789062 -1.75 1.894531 -1.507812 2.03125 -1.3125 C 2.175781 -1.113281 2.359375 -0.957031 2.578125 -0.84375 C 2.804688 -0.726562 3.078125 -0.671875 3.390625 -0.671875 C 3.847656 -0.671875 4.210938 -0.757812 4.484375 -0.9375 C 4.765625 -1.125 4.953125 -1.359375 5.046875 -1.640625 L 5.96875 -1.390625 C 5.90625 -1.210938 5.8125 -1.035156 5.6875 -0.859375 C 5.570312 -0.679688 5.414062 -0.519531 5.21875 -0.375 C 5.019531 -0.226562 4.769531 -0.109375 4.46875 -0.015625 C 4.164062 0.078125 3.804688 0.125 3.390625 0.125 C 2.453125 0.125 1.738281 -0.15625 1.25 -0.71875 C 0.757812 -1.28125 0.515625 -2.113281 0.515625 -3.21875 C 0.515625 -3.8125 0.585938 -4.3125 0.734375 -4.71875 C 0.878906 -5.132812 1.082031 -5.46875 1.34375 -5.71875 C 1.601562 -5.976562 1.90625 -6.164062 2.25 -6.28125 C 2.59375 -6.394531 2.957031 -6.453125 3.34375 -6.453125 C 3.875 -6.453125 4.316406 -6.363281 4.671875 -6.1875 C 5.035156 -6.019531 5.320312 -5.785156 5.53125 -5.484375 C 5.75 -5.179688 5.90625 -4.820312 6 -4.40625 C 6.09375 -4 6.140625 -3.5625 6.140625 -3.09375 L 6.140625 -2.953125 Z M 5.046875 -3.75 C 4.992188 -4.425781 4.828125 -4.914062 4.546875 -5.21875 C 4.265625 -5.519531 3.859375 -5.671875 3.328125 -5.671875 C 3.148438 -5.671875 2.960938 -5.644531 2.765625 -5.59375 C 2.578125 -5.539062 2.398438 -5.441406 2.234375 -5.296875 C 2.078125 -5.148438 1.941406 -4.953125 1.828125 -4.703125 C 1.710938 -4.453125 1.644531 -4.132812 1.625 -3.75 Z M 5.046875 -3.75 \"/>\n",
       "</g>\n",
       "<g id=\"glyph-1-3\">\n",
       "<path d=\"M 1.609375 -3.203125 C 1.609375 -2.835938 1.632812 -2.5 1.6875 -2.1875 C 1.738281 -1.882812 1.828125 -1.625 1.953125 -1.40625 C 2.078125 -1.1875 2.242188 -1.015625 2.453125 -0.890625 C 2.660156 -0.773438 2.914062 -0.71875 3.21875 -0.71875 C 3.59375 -0.71875 3.90625 -0.816406 4.15625 -1.015625 C 4.40625 -1.222656 4.5625 -1.535156 4.625 -1.953125 L 5.6875 -1.890625 C 5.644531 -1.628906 5.566406 -1.375 5.453125 -1.125 C 5.335938 -0.882812 5.175781 -0.671875 4.96875 -0.484375 C 4.769531 -0.304688 4.523438 -0.160156 4.234375 -0.046875 C 3.953125 0.0664062 3.617188 0.125 3.234375 0.125 C 2.742188 0.125 2.320312 0.0390625 1.96875 -0.125 C 1.625 -0.300781 1.34375 -0.535156 1.125 -0.828125 C 0.90625 -1.117188 0.75 -1.460938 0.65625 -1.859375 C 0.5625 -2.265625 0.515625 -2.703125 0.515625 -3.171875 C 0.515625 -3.597656 0.546875 -3.972656 0.609375 -4.296875 C 0.679688 -4.628906 0.78125 -4.914062 0.90625 -5.15625 C 1.039062 -5.40625 1.191406 -5.613281 1.359375 -5.78125 C 1.535156 -5.945312 1.722656 -6.078125 1.921875 -6.171875 C 2.117188 -6.273438 2.328125 -6.347656 2.546875 -6.390625 C 2.773438 -6.429688 3.003906 -6.453125 3.234375 -6.453125 C 3.585938 -6.453125 3.898438 -6.40625 4.171875 -6.3125 C 4.453125 -6.21875 4.691406 -6.082031 4.890625 -5.90625 C 5.097656 -5.738281 5.265625 -5.539062 5.390625 -5.3125 C 5.515625 -5.082031 5.601562 -4.832031 5.65625 -4.5625 L 4.5625 -4.484375 C 4.507812 -4.835938 4.367188 -5.113281 4.140625 -5.3125 C 3.921875 -5.519531 3.609375 -5.625 3.203125 -5.625 C 2.898438 -5.625 2.644531 -5.570312 2.4375 -5.46875 C 2.238281 -5.375 2.078125 -5.226562 1.953125 -5.03125 C 1.828125 -4.832031 1.738281 -4.578125 1.6875 -4.265625 C 1.632812 -3.960938 1.609375 -3.609375 1.609375 -3.203125 Z M 1.609375 -3.203125 \"/>\n",
       "</g>\n",
       "<g id=\"glyph-1-4\">\n",
       "<path d=\"M 0.796875 -7.6875 L 0.796875 -8.703125 L 1.859375 -8.703125 L 1.859375 -7.6875 Z M 0.796875 0 L 0.796875 -6.34375 L 1.859375 -6.34375 L 1.859375 0 Z M 0.796875 0 \"/>\n",
       "</g>\n",
       "<g id=\"glyph-1-5\">\n",
       "<path d=\"M 2.109375 -5.578125 L 2.109375 0 L 1.0625 0 L 1.0625 -5.578125 L 0.171875 -5.578125 L 0.171875 -6.34375 L 1.0625 -6.34375 L 1.0625 -7.0625 C 1.0625 -7.289062 1.082031 -7.503906 1.125 -7.703125 C 1.164062 -7.898438 1.242188 -8.070312 1.359375 -8.21875 C 1.472656 -8.363281 1.628906 -8.476562 1.828125 -8.5625 C 2.035156 -8.644531 2.296875 -8.6875 2.609375 -8.6875 C 2.734375 -8.6875 2.863281 -8.679688 3 -8.671875 C 3.132812 -8.660156 3.253906 -8.640625 3.359375 -8.609375 L 3.359375 -7.8125 C 3.285156 -7.820312 3.203125 -7.832031 3.109375 -7.84375 C 3.023438 -7.851562 2.953125 -7.859375 2.890625 -7.859375 C 2.734375 -7.859375 2.601562 -7.835938 2.5 -7.796875 C 2.394531 -7.753906 2.316406 -7.691406 2.265625 -7.609375 C 2.210938 -7.523438 2.171875 -7.425781 2.140625 -7.3125 C 2.117188 -7.195312 2.109375 -7.0625 2.109375 -6.90625 L 2.109375 -6.34375 L 3.359375 -6.34375 L 3.359375 -5.578125 Z M 2.109375 -5.578125 \"/>\n",
       "</g>\n",
       "<g id=\"glyph-1-6\">\n",
       "<path d=\"M 3.25 -0.046875 C 3.082031 -0.00390625 2.914062 0.0234375 2.75 0.046875 C 2.59375 0.078125 2.40625 0.09375 2.1875 0.09375 C 1.34375 0.09375 0.921875 -0.382812 0.921875 -1.34375 L 0.921875 -5.578125 L 0.1875 -5.578125 L 0.1875 -6.34375 L 0.953125 -6.34375 L 1.265625 -7.765625 L 1.96875 -7.765625 L 1.96875 -6.34375 L 3.140625 -6.34375 L 3.140625 -5.578125 L 1.96875 -5.578125 L 1.96875 -1.578125 C 1.96875 -1.265625 2.015625 -1.046875 2.109375 -0.921875 C 2.210938 -0.804688 2.390625 -0.75 2.640625 -0.75 C 2.742188 -0.75 2.84375 -0.753906 2.9375 -0.765625 C 3.03125 -0.785156 3.132812 -0.804688 3.25 -0.828125 Z M 3.25 -0.046875 \"/>\n",
       "</g>\n",
       "<g id=\"glyph-1-7\">\n",
       "<path d=\"M 3.546875 0 C 3.390625 0.382812 3.234375 0.726562 3.078125 1.03125 C 2.929688 1.34375 2.757812 1.601562 2.5625 1.8125 C 2.375 2.03125 2.160156 2.195312 1.921875 2.3125 C 1.691406 2.425781 1.425781 2.484375 1.125 2.484375 C 0.988281 2.484375 0.863281 2.476562 0.75 2.46875 C 0.632812 2.46875 0.515625 2.453125 0.390625 2.421875 L 0.390625 1.640625 C 0.460938 1.648438 0.546875 1.65625 0.640625 1.65625 C 0.734375 1.664062 0.816406 1.671875 0.890625 1.671875 C 1.191406 1.671875 1.472656 1.554688 1.734375 1.328125 C 2.003906 1.097656 2.238281 0.726562 2.4375 0.21875 L 2.546875 -0.03125 L 0.03125 -6.34375 L 1.15625 -6.34375 L 2.484375 -2.84375 C 2.523438 -2.726562 2.578125 -2.582031 2.640625 -2.40625 C 2.703125 -2.238281 2.757812 -2.066406 2.8125 -1.890625 C 2.875 -1.710938 2.925781 -1.550781 2.96875 -1.40625 C 3.019531 -1.269531 3.050781 -1.1875 3.0625 -1.15625 C 3.070312 -1.195312 3.097656 -1.28125 3.140625 -1.40625 C 3.191406 -1.53125 3.242188 -1.671875 3.296875 -1.828125 C 3.359375 -1.984375 3.414062 -2.140625 3.46875 -2.296875 C 3.53125 -2.460938 3.582031 -2.601562 3.625 -2.71875 L 4.859375 -6.34375 L 5.984375 -6.34375 Z M 3.546875 0 \"/>\n",
       "</g>\n",
       "<g id=\"glyph-1-8\">\n",
       "<path d=\"M 0.921875 0 L 0.921875 -0.890625 L 3.015625 -0.890625 L 3.015625 -7.25 L 1.15625 -5.921875 L 1.15625 -6.921875 L 3.109375 -8.25 L 4.078125 -8.25 L 4.078125 -0.890625 L 6.09375 -0.890625 L 6.09375 0 Z M 0.921875 0 \"/>\n",
       "</g>\n",
       "<g id=\"glyph-1-9\">\n",
       "<path d=\"M 1.09375 0 L 1.09375 -1.28125 L 2.234375 -1.28125 L 2.234375 0 Z M 1.09375 0 \"/>\n",
       "</g>\n",
       "<g id=\"glyph-1-10\">\n",
       "<path d=\"M 6.203125 -4.125 C 6.203125 -3.332031 6.125 -2.664062 5.96875 -2.125 C 5.820312 -1.582031 5.617188 -1.144531 5.359375 -0.8125 C 5.097656 -0.476562 4.789062 -0.238281 4.4375 -0.09375 C 4.09375 0.0507812 3.722656 0.125 3.328125 0.125 C 2.921875 0.125 2.539062 0.0507812 2.1875 -0.09375 C 1.84375 -0.238281 1.539062 -0.476562 1.28125 -0.8125 C 1.03125 -1.144531 0.832031 -1.582031 0.6875 -2.125 C 0.539062 -2.664062 0.46875 -3.332031 0.46875 -4.125 C 0.46875 -4.957031 0.539062 -5.644531 0.6875 -6.1875 C 0.832031 -6.738281 1.035156 -7.175781 1.296875 -7.5 C 1.554688 -7.820312 1.859375 -8.046875 2.203125 -8.171875 C 2.554688 -8.304688 2.941406 -8.375 3.359375 -8.375 C 3.753906 -8.375 4.125 -8.304688 4.46875 -8.171875 C 4.8125 -8.046875 5.113281 -7.820312 5.375 -7.5 C 5.632812 -7.175781 5.835938 -6.738281 5.984375 -6.1875 C 6.128906 -5.644531 6.203125 -4.957031 6.203125 -4.125 Z M 5.140625 -4.125 C 5.140625 -4.78125 5.097656 -5.328125 5.015625 -5.765625 C 4.941406 -6.203125 4.828125 -6.550781 4.671875 -6.8125 C 4.515625 -7.070312 4.328125 -7.253906 4.109375 -7.359375 C 3.890625 -7.472656 3.640625 -7.53125 3.359375 -7.53125 C 3.054688 -7.53125 2.789062 -7.472656 2.5625 -7.359375 C 2.34375 -7.253906 2.15625 -7.070312 2 -6.8125 C 1.84375 -6.550781 1.722656 -6.203125 1.640625 -5.765625 C 1.566406 -5.328125 1.53125 -4.78125 1.53125 -4.125 C 1.53125 -3.5 1.570312 -2.96875 1.65625 -2.53125 C 1.738281 -2.09375 1.851562 -1.742188 2 -1.484375 C 2.15625 -1.222656 2.34375 -1.035156 2.5625 -0.921875 C 2.789062 -0.804688 3.046875 -0.75 3.328125 -0.75 C 3.609375 -0.75 3.859375 -0.804688 4.078125 -0.921875 C 4.304688 -1.035156 4.492188 -1.222656 4.640625 -1.484375 C 4.796875 -1.742188 4.914062 -2.09375 5 -2.53125 C 5.09375 -2.96875 5.140625 -3.5 5.140625 -4.125 Z M 5.140625 -4.125 \"/>\n",
       "</g>\n",
       "<g id=\"glyph-1-11\">\n",
       "<path d=\"M 6.15625 -2.296875 C 6.15625 -1.953125 6.097656 -1.628906 5.984375 -1.328125 C 5.867188 -1.035156 5.695312 -0.78125 5.46875 -0.5625 C 5.25 -0.351562 4.957031 -0.1875 4.59375 -0.0625 C 4.238281 0.0625 3.820312 0.125 3.34375 0.125 C 2.851562 0.125 2.429688 0.0625 2.078125 -0.0625 C 1.722656 -0.1875 1.429688 -0.351562 1.203125 -0.5625 C 0.972656 -0.78125 0.800781 -1.035156 0.6875 -1.328125 C 0.570312 -1.617188 0.515625 -1.941406 0.515625 -2.296875 C 0.515625 -2.597656 0.5625 -2.863281 0.65625 -3.09375 C 0.75 -3.332031 0.875 -3.535156 1.03125 -3.703125 C 1.1875 -3.867188 1.363281 -4.003906 1.5625 -4.109375 C 1.757812 -4.210938 1.960938 -4.28125 2.171875 -4.3125 L 2.171875 -4.34375 C 1.941406 -4.394531 1.734375 -4.476562 1.546875 -4.59375 C 1.367188 -4.71875 1.21875 -4.863281 1.09375 -5.03125 C 0.96875 -5.207031 0.875 -5.398438 0.8125 -5.609375 C 0.75 -5.816406 0.71875 -6.035156 0.71875 -6.265625 C 0.71875 -6.554688 0.769531 -6.828125 0.875 -7.078125 C 0.988281 -7.335938 1.15625 -7.5625 1.375 -7.75 C 1.59375 -7.945312 1.863281 -8.097656 2.1875 -8.203125 C 2.507812 -8.316406 2.882812 -8.375 3.3125 -8.375 C 3.757812 -8.375 4.148438 -8.316406 4.484375 -8.203125 C 4.816406 -8.097656 5.085938 -7.945312 5.296875 -7.75 C 5.515625 -7.550781 5.675781 -7.320312 5.78125 -7.0625 C 5.894531 -6.8125 5.953125 -6.539062 5.953125 -6.25 C 5.953125 -6.019531 5.914062 -5.800781 5.84375 -5.59375 C 5.78125 -5.394531 5.6875 -5.207031 5.5625 -5.03125 C 5.445312 -4.863281 5.296875 -4.71875 5.109375 -4.59375 C 4.929688 -4.476562 4.722656 -4.398438 4.484375 -4.359375 L 4.484375 -4.328125 C 4.722656 -4.285156 4.941406 -4.210938 5.140625 -4.109375 C 5.347656 -4.015625 5.523438 -3.878906 5.671875 -3.703125 C 5.816406 -3.535156 5.929688 -3.332031 6.015625 -3.09375 C 6.109375 -2.863281 6.15625 -2.597656 6.15625 -2.296875 Z M 4.859375 -6.1875 C 4.859375 -6.394531 4.828125 -6.582031 4.765625 -6.75 C 4.710938 -6.925781 4.625 -7.078125 4.5 -7.203125 C 4.382812 -7.328125 4.226562 -7.421875 4.03125 -7.484375 C 3.84375 -7.554688 3.601562 -7.59375 3.3125 -7.59375 C 3.039062 -7.59375 2.804688 -7.554688 2.609375 -7.484375 C 2.421875 -7.421875 2.265625 -7.328125 2.140625 -7.203125 C 2.015625 -7.078125 1.925781 -6.925781 1.875 -6.75 C 1.820312 -6.582031 1.796875 -6.394531 1.796875 -6.1875 C 1.796875 -6.03125 1.816406 -5.863281 1.859375 -5.6875 C 1.898438 -5.519531 1.976562 -5.363281 2.09375 -5.21875 C 2.207031 -5.082031 2.363281 -4.96875 2.5625 -4.875 C 2.757812 -4.78125 3.015625 -4.734375 3.328125 -4.734375 C 3.660156 -4.734375 3.925781 -4.78125 4.125 -4.875 C 4.332031 -4.96875 4.488281 -5.082031 4.59375 -5.21875 C 4.695312 -5.363281 4.765625 -5.519531 4.796875 -5.6875 C 4.835938 -5.863281 4.859375 -6.03125 4.859375 -6.1875 Z M 5.0625 -2.40625 C 5.0625 -2.601562 5.03125 -2.796875 4.96875 -2.984375 C 4.914062 -3.171875 4.820312 -3.332031 4.6875 -3.46875 C 4.5625 -3.613281 4.382812 -3.726562 4.15625 -3.8125 C 3.9375 -3.90625 3.65625 -3.953125 3.3125 -3.953125 C 3.007812 -3.953125 2.75 -3.90625 2.53125 -3.8125 C 2.3125 -3.726562 2.132812 -3.613281 2 -3.46875 C 1.863281 -3.320312 1.765625 -3.15625 1.703125 -2.96875 C 1.640625 -2.78125 1.609375 -2.582031 1.609375 -2.375 C 1.609375 -2.125 1.640625 -1.894531 1.703125 -1.6875 C 1.765625 -1.476562 1.863281 -1.296875 2 -1.140625 C 2.132812 -0.992188 2.3125 -0.878906 2.53125 -0.796875 C 2.757812 -0.710938 3.035156 -0.671875 3.359375 -0.671875 C 3.671875 -0.671875 3.9375 -0.710938 4.15625 -0.796875 C 4.375 -0.878906 4.550781 -0.992188 4.6875 -1.140625 C 4.820312 -1.296875 4.914062 -1.476562 4.96875 -1.6875 C 5.03125 -1.90625 5.0625 -2.144531 5.0625 -2.40625 Z M 5.0625 -2.40625 \"/>\n",
       "</g>\n",
       "<g id=\"glyph-1-12\">\n",
       "<path d=\"M 6.140625 -2.703125 C 6.140625 -2.285156 6.082031 -1.90625 5.96875 -1.5625 C 5.851562 -1.21875 5.679688 -0.921875 5.453125 -0.671875 C 5.234375 -0.421875 4.957031 -0.222656 4.625 -0.078125 C 4.289062 0.0546875 3.910156 0.125 3.484375 0.125 C 3.003906 0.125 2.582031 0.03125 2.21875 -0.15625 C 1.863281 -0.34375 1.566406 -0.609375 1.328125 -0.953125 C 1.085938 -1.296875 0.90625 -1.71875 0.78125 -2.21875 C 0.664062 -2.726562 0.609375 -3.300781 0.609375 -3.9375 C 0.609375 -4.675781 0.675781 -5.320312 0.8125 -5.875 C 0.945312 -6.425781 1.140625 -6.882812 1.390625 -7.25 C 1.648438 -7.625 1.960938 -7.90625 2.328125 -8.09375 C 2.691406 -8.28125 3.101562 -8.375 3.5625 -8.375 C 3.84375 -8.375 4.101562 -8.34375 4.34375 -8.28125 C 4.59375 -8.226562 4.816406 -8.132812 5.015625 -8 C 5.222656 -7.875 5.398438 -7.703125 5.546875 -7.484375 C 5.703125 -7.273438 5.828125 -7.015625 5.921875 -6.703125 L 4.90625 -6.515625 C 4.800781 -6.867188 4.628906 -7.125 4.390625 -7.28125 C 4.148438 -7.445312 3.867188 -7.53125 3.546875 -7.53125 C 3.265625 -7.53125 3.003906 -7.457031 2.765625 -7.3125 C 2.535156 -7.175781 2.335938 -6.972656 2.171875 -6.703125 C 2.003906 -6.429688 1.875 -6.085938 1.78125 -5.671875 C 1.695312 -5.265625 1.65625 -4.789062 1.65625 -4.25 C 1.851562 -4.601562 2.125 -4.875 2.46875 -5.0625 C 2.8125 -5.25 3.207031 -5.34375 3.65625 -5.34375 C 4.03125 -5.34375 4.367188 -5.28125 4.671875 -5.15625 C 4.984375 -5.03125 5.25 -4.851562 5.46875 -4.625 C 5.6875 -4.40625 5.851562 -4.128906 5.96875 -3.796875 C 6.082031 -3.472656 6.140625 -3.109375 6.140625 -2.703125 Z M 5.078125 -2.65625 C 5.078125 -2.9375 5.039062 -3.191406 4.96875 -3.421875 C 4.894531 -3.660156 4.785156 -3.859375 4.640625 -4.015625 C 4.503906 -4.179688 4.332031 -4.304688 4.125 -4.390625 C 3.925781 -4.484375 3.6875 -4.53125 3.40625 -4.53125 C 3.21875 -4.53125 3.023438 -4.5 2.828125 -4.4375 C 2.628906 -4.382812 2.453125 -4.289062 2.296875 -4.15625 C 2.140625 -4.03125 2.007812 -3.863281 1.90625 -3.65625 C 1.8125 -3.457031 1.765625 -3.207031 1.765625 -2.90625 C 1.765625 -2.601562 1.800781 -2.316406 1.875 -2.046875 C 1.957031 -1.785156 2.070312 -1.554688 2.21875 -1.359375 C 2.363281 -1.171875 2.539062 -1.019531 2.75 -0.90625 C 2.957031 -0.789062 3.191406 -0.734375 3.453125 -0.734375 C 3.703125 -0.734375 3.925781 -0.773438 4.125 -0.859375 C 4.332031 -0.953125 4.503906 -1.082031 4.640625 -1.25 C 4.785156 -1.414062 4.894531 -1.613281 4.96875 -1.84375 C 5.039062 -2.082031 5.078125 -2.351562 5.078125 -2.65625 Z M 5.078125 -2.65625 \"/>\n",
       "</g>\n",
       "<g id=\"glyph-1-13\">\n",
       "<path d=\"M 5.15625 -1.875 L 5.15625 0 L 4.171875 0 L 4.171875 -1.875 L 0.28125 -1.875 L 0.28125 -2.6875 L 4.0625 -8.25 L 5.15625 -8.25 L 5.15625 -2.703125 L 6.328125 -2.703125 L 6.328125 -1.875 Z M 4.171875 -7.0625 C 4.160156 -7.039062 4.140625 -7.003906 4.109375 -6.953125 C 4.078125 -6.898438 4.039062 -6.835938 4 -6.765625 C 3.957031 -6.691406 3.914062 -6.617188 3.875 -6.546875 C 3.84375 -6.472656 3.8125 -6.414062 3.78125 -6.375 L 1.65625 -3.25 C 1.632812 -3.21875 1.601562 -3.175781 1.5625 -3.125 C 1.53125 -3.070312 1.492188 -3.019531 1.453125 -2.96875 C 1.421875 -2.914062 1.382812 -2.863281 1.34375 -2.8125 C 1.300781 -2.769531 1.269531 -2.734375 1.25 -2.703125 L 4.171875 -2.703125 Z M 4.171875 -7.0625 \"/>\n",
       "</g>\n",
       "<g id=\"glyph-1-14\">\n",
       "<path d=\"M 0.609375 0 L 0.609375 -0.75 C 0.804688 -1.207031 1.046875 -1.609375 1.328125 -1.953125 C 1.617188 -2.304688 1.921875 -2.625 2.234375 -2.90625 C 2.554688 -3.1875 2.867188 -3.445312 3.171875 -3.6875 C 3.484375 -3.9375 3.765625 -4.179688 4.015625 -4.421875 C 4.265625 -4.660156 4.46875 -4.910156 4.625 -5.171875 C 4.78125 -5.441406 4.859375 -5.742188 4.859375 -6.078125 C 4.859375 -6.316406 4.820312 -6.523438 4.75 -6.703125 C 4.675781 -6.878906 4.570312 -7.023438 4.4375 -7.140625 C 4.3125 -7.265625 4.15625 -7.359375 3.96875 -7.421875 C 3.78125 -7.484375 3.578125 -7.515625 3.359375 -7.515625 C 3.140625 -7.515625 2.9375 -7.484375 2.75 -7.421875 C 2.570312 -7.367188 2.410156 -7.28125 2.265625 -7.15625 C 2.117188 -7.039062 2 -6.894531 1.90625 -6.71875 C 1.8125 -6.550781 1.753906 -6.351562 1.734375 -6.125 L 0.65625 -6.21875 C 0.6875 -6.507812 0.765625 -6.785156 0.890625 -7.046875 C 1.023438 -7.316406 1.203125 -7.550781 1.421875 -7.75 C 1.648438 -7.945312 1.921875 -8.097656 2.234375 -8.203125 C 2.554688 -8.316406 2.929688 -8.375 3.359375 -8.375 C 3.765625 -8.375 4.125 -8.328125 4.4375 -8.234375 C 4.757812 -8.140625 5.03125 -7.992188 5.25 -7.796875 C 5.476562 -7.609375 5.648438 -7.375 5.765625 -7.09375 C 5.878906 -6.8125 5.9375 -6.488281 5.9375 -6.125 C 5.9375 -5.84375 5.882812 -5.578125 5.78125 -5.328125 C 5.6875 -5.078125 5.554688 -4.835938 5.390625 -4.609375 C 5.222656 -4.378906 5.03125 -4.160156 4.8125 -3.953125 C 4.59375 -3.742188 4.363281 -3.535156 4.125 -3.328125 C 3.894531 -3.128906 3.65625 -2.929688 3.40625 -2.734375 C 3.164062 -2.535156 2.9375 -2.335938 2.71875 -2.140625 C 2.507812 -1.941406 2.320312 -1.738281 2.15625 -1.53125 C 1.988281 -1.332031 1.859375 -1.117188 1.765625 -0.890625 L 6.078125 -0.890625 L 6.078125 0 Z M 0.609375 0 \"/>\n",
       "</g>\n",
       "<g id=\"glyph-1-15\">\n",
       "<path d=\"M 6.84375 0 L 5.890625 -2.421875 L 2.140625 -2.421875 L 1.1875 0 L 0.03125 0 L 3.390625 -8.25 L 4.671875 -8.25 L 7.984375 0 Z M 4.5 -6.015625 C 4.4375 -6.171875 4.375 -6.328125 4.3125 -6.484375 C 4.257812 -6.648438 4.210938 -6.796875 4.171875 -6.921875 C 4.128906 -7.054688 4.09375 -7.164062 4.0625 -7.25 C 4.03125 -7.34375 4.015625 -7.394531 4.015625 -7.40625 C 4.003906 -7.394531 3.984375 -7.34375 3.953125 -7.25 C 3.929688 -7.15625 3.894531 -7.039062 3.84375 -6.90625 C 3.800781 -6.78125 3.75 -6.632812 3.6875 -6.46875 C 3.632812 -6.3125 3.582031 -6.15625 3.53125 -6 L 2.46875 -3.28125 L 5.5625 -3.28125 Z M 4.5 -6.015625 \"/>\n",
       "</g>\n",
       "<g id=\"glyph-1-16\">\n",
       "<path d=\"M 4.28125 0.125 C 3.832031 0.125 3.40625 0.0625 3 -0.0625 C 2.59375 -0.1875 2.234375 -0.375 1.921875 -0.625 C 1.617188 -0.882812 1.375 -1.207031 1.1875 -1.59375 C 1.007812 -1.988281 0.921875 -2.457031 0.921875 -3 L 0.921875 -8.25 L 2.046875 -8.25 L 2.046875 -3.09375 C 2.046875 -2.675781 2.097656 -2.320312 2.203125 -2.03125 C 2.316406 -1.738281 2.472656 -1.5 2.671875 -1.3125 C 2.878906 -1.132812 3.117188 -1.003906 3.390625 -0.921875 C 3.660156 -0.835938 3.957031 -0.796875 4.28125 -0.796875 C 4.601562 -0.796875 4.90625 -0.835938 5.1875 -0.921875 C 5.46875 -1.003906 5.71875 -1.140625 5.9375 -1.328125 C 6.15625 -1.515625 6.320312 -1.757812 6.4375 -2.0625 C 6.5625 -2.363281 6.625 -2.734375 6.625 -3.171875 L 6.625 -8.25 L 7.734375 -8.25 L 7.734375 -3.109375 C 7.734375 -2.554688 7.644531 -2.078125 7.46875 -1.671875 C 7.289062 -1.265625 7.046875 -0.925781 6.734375 -0.65625 C 6.421875 -0.394531 6.050781 -0.195312 5.625 -0.0625 C 5.207031 0.0625 4.757812 0.125 4.28125 0.125 Z M 4.28125 0.125 \"/>\n",
       "</g>\n",
       "<g id=\"glyph-1-17\">\n",
       "<path d=\"M 4.640625 -7.46875 C 4.171875 -7.46875 3.753906 -7.390625 3.390625 -7.234375 C 3.035156 -7.078125 2.734375 -6.851562 2.484375 -6.5625 C 2.242188 -6.269531 2.0625 -5.921875 1.9375 -5.515625 C 1.8125 -5.109375 1.75 -4.660156 1.75 -4.171875 C 1.75 -3.671875 1.816406 -3.210938 1.953125 -2.796875 C 2.085938 -2.390625 2.28125 -2.035156 2.53125 -1.734375 C 2.78125 -1.441406 3.085938 -1.210938 3.453125 -1.046875 C 3.816406 -0.878906 4.226562 -0.796875 4.6875 -0.796875 C 5.007812 -0.796875 5.300781 -0.835938 5.5625 -0.921875 C 5.820312 -1.015625 6.054688 -1.132812 6.265625 -1.28125 C 6.484375 -1.4375 6.675781 -1.617188 6.84375 -1.828125 C 7.019531 -2.035156 7.171875 -2.265625 7.296875 -2.515625 L 8.203125 -2.0625 C 8.054688 -1.75 7.875 -1.457031 7.65625 -1.1875 C 7.4375 -0.925781 7.179688 -0.695312 6.890625 -0.5 C 6.597656 -0.3125 6.265625 -0.160156 5.890625 -0.046875 C 5.515625 0.0664062 5.097656 0.125 4.640625 0.125 C 3.972656 0.125 3.382812 0.0195312 2.875 -0.1875 C 2.375 -0.40625 1.953125 -0.707031 1.609375 -1.09375 C 1.273438 -1.476562 1.023438 -1.929688 0.859375 -2.453125 C 0.691406 -2.972656 0.609375 -3.546875 0.609375 -4.171875 C 0.609375 -4.816406 0.695312 -5.394531 0.875 -5.90625 C 1.050781 -6.425781 1.3125 -6.867188 1.65625 -7.234375 C 2 -7.597656 2.421875 -7.878906 2.921875 -8.078125 C 3.421875 -8.273438 3.988281 -8.375 4.625 -8.375 C 5.507812 -8.375 6.242188 -8.203125 6.828125 -7.859375 C 7.421875 -7.515625 7.859375 -7.003906 8.140625 -6.328125 L 7.078125 -5.984375 C 6.992188 -6.179688 6.882812 -6.367188 6.75 -6.546875 C 6.625 -6.722656 6.457031 -6.878906 6.25 -7.015625 C 6.050781 -7.148438 5.816406 -7.257812 5.546875 -7.34375 C 5.285156 -7.425781 4.984375 -7.46875 4.640625 -7.46875 Z M 4.640625 -7.46875 \"/>\n",
       "</g>\n",
       "<g id=\"glyph-1-18\">\n",
       "<path d=\"M 1.09375 -5.125 L 1.09375 -6.34375 L 2.234375 -6.34375 L 2.234375 -5.125 Z M 1.09375 0 L 1.09375 -1.21875 L 2.234375 -1.21875 L 2.234375 0 Z M 1.09375 0 \"/>\n",
       "</g>\n",
       "<g id=\"glyph-1-19\">\n",
       "</g>\n",
       "<g id=\"glyph-1-20\">\n",
       "<path d=\"M 6.109375 -4.296875 C 6.109375 -3.554688 6.035156 -2.910156 5.890625 -2.359375 C 5.753906 -1.804688 5.554688 -1.347656 5.296875 -0.984375 C 5.046875 -0.617188 4.734375 -0.34375 4.359375 -0.15625 C 3.992188 0.03125 3.582031 0.125 3.125 0.125 C 2.800781 0.125 2.507812 0.0859375 2.25 0.015625 C 2 -0.046875 1.773438 -0.144531 1.578125 -0.28125 C 1.378906 -0.414062 1.207031 -0.59375 1.0625 -0.8125 C 0.925781 -1.03125 0.816406 -1.296875 0.734375 -1.609375 L 1.734375 -1.765625 C 1.847656 -1.410156 2.019531 -1.148438 2.25 -0.984375 C 2.488281 -0.816406 2.785156 -0.734375 3.140625 -0.734375 C 3.421875 -0.734375 3.675781 -0.800781 3.90625 -0.9375 C 4.144531 -1.070312 4.347656 -1.273438 4.515625 -1.546875 C 4.679688 -1.816406 4.8125 -2.15625 4.90625 -2.5625 C 5 -2.96875 5.050781 -3.441406 5.0625 -3.984375 C 4.976562 -3.796875 4.863281 -3.628906 4.71875 -3.484375 C 4.582031 -3.347656 4.421875 -3.226562 4.234375 -3.125 C 4.054688 -3.03125 3.859375 -2.953125 3.640625 -2.890625 C 3.429688 -2.835938 3.222656 -2.8125 3.015625 -2.8125 C 2.640625 -2.8125 2.300781 -2.878906 2 -3.015625 C 1.695312 -3.148438 1.4375 -3.335938 1.21875 -3.578125 C 1.007812 -3.828125 0.847656 -4.117188 0.734375 -4.453125 C 0.617188 -4.796875 0.5625 -5.179688 0.5625 -5.609375 C 0.5625 -6.023438 0.625 -6.40625 0.75 -6.75 C 0.875 -7.09375 1.050781 -7.382812 1.28125 -7.625 C 1.519531 -7.875 1.804688 -8.0625 2.140625 -8.1875 C 2.484375 -8.3125 2.875 -8.375 3.3125 -8.375 C 4.226562 -8.375 4.921875 -8.035156 5.390625 -7.359375 C 5.867188 -6.679688 6.109375 -5.660156 6.109375 -4.296875 Z M 4.953125 -5.3125 C 4.953125 -5.613281 4.914062 -5.898438 4.84375 -6.171875 C 4.769531 -6.441406 4.660156 -6.675781 4.515625 -6.875 C 4.378906 -7.070312 4.207031 -7.226562 4 -7.34375 C 3.789062 -7.46875 3.550781 -7.53125 3.28125 -7.53125 C 3.019531 -7.53125 2.785156 -7.484375 2.578125 -7.390625 C 2.378906 -7.296875 2.207031 -7.164062 2.0625 -7 C 1.925781 -6.832031 1.820312 -6.628906 1.75 -6.390625 C 1.675781 -6.160156 1.640625 -5.898438 1.640625 -5.609375 C 1.640625 -5.328125 1.671875 -5.066406 1.734375 -4.828125 C 1.804688 -4.585938 1.910156 -4.378906 2.046875 -4.203125 C 2.179688 -4.035156 2.347656 -3.898438 2.546875 -3.796875 C 2.753906 -3.703125 2.992188 -3.65625 3.265625 -3.65625 C 3.460938 -3.65625 3.660156 -3.6875 3.859375 -3.75 C 4.054688 -3.8125 4.234375 -3.910156 4.390625 -4.046875 C 4.554688 -4.191406 4.691406 -4.367188 4.796875 -4.578125 C 4.898438 -4.785156 4.953125 -5.03125 4.953125 -5.3125 Z M 4.953125 -5.3125 \"/>\n",
       "</g>\n",
       "<g id=\"glyph-2-0\">\n",
       "<path d=\"M -2.28125 -7.453125 C -1.9375 -7.453125 -1.613281 -7.382812 -1.3125 -7.25 C -1.019531 -7.113281 -0.765625 -6.90625 -0.546875 -6.625 C -0.335938 -6.34375 -0.171875 -5.988281 -0.046875 -5.5625 C 0.0664062 -5.132812 0.125 -4.628906 0.125 -4.046875 C 0.125 -3.015625 -0.0546875 -2.210938 -0.421875 -1.640625 C -0.785156 -1.066406 -1.304688 -0.703125 -1.984375 -0.546875 L -2.203125 -1.625 C -1.984375 -1.6875 -1.785156 -1.769531 -1.609375 -1.875 C -1.429688 -1.988281 -1.28125 -2.140625 -1.15625 -2.328125 C -1.03125 -2.523438 -0.929688 -2.765625 -0.859375 -3.046875 C -0.785156 -3.335938 -0.75 -3.679688 -0.75 -4.078125 C -0.75 -4.410156 -0.773438 -4.71875 -0.828125 -5 C -0.890625 -5.28125 -0.976562 -5.519531 -1.09375 -5.71875 C -1.21875 -5.914062 -1.367188 -6.066406 -1.546875 -6.171875 C -1.734375 -6.285156 -1.957031 -6.34375 -2.21875 -6.34375 C -2.488281 -6.34375 -2.707031 -6.28125 -2.875 -6.15625 C -3.039062 -6.039062 -3.175781 -5.867188 -3.28125 -5.640625 C -3.394531 -5.421875 -3.488281 -5.15625 -3.5625 -4.84375 C -3.644531 -4.539062 -3.726562 -4.203125 -3.8125 -3.828125 C -3.863281 -3.585938 -3.914062 -3.351562 -3.96875 -3.125 C -4.03125 -2.894531 -4.101562 -2.671875 -4.1875 -2.453125 C -4.269531 -2.242188 -4.367188 -2.046875 -4.484375 -1.859375 C -4.597656 -1.671875 -4.734375 -1.507812 -4.890625 -1.375 C -5.054688 -1.238281 -5.242188 -1.128906 -5.453125 -1.046875 C -5.660156 -0.972656 -5.898438 -0.9375 -6.171875 -0.9375 C -6.554688 -0.9375 -6.890625 -1.015625 -7.171875 -1.171875 C -7.453125 -1.328125 -7.679688 -1.546875 -7.859375 -1.828125 C -8.046875 -2.109375 -8.175781 -2.441406 -8.25 -2.828125 C -8.332031 -3.210938 -8.375 -3.625 -8.375 -4.0625 C -8.375 -4.570312 -8.332031 -5.007812 -8.25 -5.375 C -8.175781 -5.738281 -8.054688 -6.046875 -7.890625 -6.296875 C -7.734375 -6.546875 -7.535156 -6.742188 -7.296875 -6.890625 C -7.066406 -7.046875 -6.796875 -7.171875 -6.484375 -7.265625 L -6.28125 -6.15625 C -6.488281 -6.101562 -6.671875 -6.023438 -6.828125 -5.921875 C -6.984375 -5.816406 -7.113281 -5.679688 -7.21875 -5.515625 C -7.320312 -5.347656 -7.398438 -5.144531 -7.453125 -4.90625 C -7.503906 -4.664062 -7.53125 -4.382812 -7.53125 -4.0625 C -7.53125 -3.675781 -7.492188 -3.351562 -7.421875 -3.09375 C -7.359375 -2.832031 -7.269531 -2.625 -7.15625 -2.46875 C -7.039062 -2.3125 -6.898438 -2.195312 -6.734375 -2.125 C -6.578125 -2.050781 -6.410156 -2.015625 -6.234375 -2.015625 C -5.984375 -2.015625 -5.78125 -2.078125 -5.625 -2.203125 C -5.46875 -2.328125 -5.332031 -2.492188 -5.21875 -2.703125 C -5.113281 -2.921875 -5.023438 -3.164062 -4.953125 -3.4375 C -4.890625 -3.71875 -4.820312 -4.015625 -4.75 -4.328125 C -4.695312 -4.578125 -4.640625 -4.828125 -4.578125 -5.078125 C -4.515625 -5.335938 -4.441406 -5.582031 -4.359375 -5.8125 C -4.273438 -6.039062 -4.175781 -6.253906 -4.0625 -6.453125 C -3.945312 -6.648438 -3.804688 -6.820312 -3.640625 -6.96875 C -3.484375 -7.125 -3.289062 -7.242188 -3.0625 -7.328125 C -2.84375 -7.410156 -2.582031 -7.453125 -2.28125 -7.453125 Z M -2.28125 -7.453125 \"/>\n",
       "</g>\n",
       "<g id=\"glyph-2-1\">\n",
       "<path d=\"M -2.953125 -1.625 C -2.617188 -1.625 -2.3125 -1.65625 -2.03125 -1.71875 C -1.75 -1.789062 -1.507812 -1.894531 -1.3125 -2.03125 C -1.113281 -2.175781 -0.957031 -2.359375 -0.84375 -2.578125 C -0.726562 -2.804688 -0.671875 -3.078125 -0.671875 -3.390625 C -0.671875 -3.847656 -0.757812 -4.210938 -0.9375 -4.484375 C -1.125 -4.765625 -1.359375 -4.953125 -1.640625 -5.046875 L -1.390625 -5.96875 C -1.210938 -5.90625 -1.035156 -5.8125 -0.859375 -5.6875 C -0.679688 -5.570312 -0.519531 -5.414062 -0.375 -5.21875 C -0.226562 -5.019531 -0.109375 -4.769531 -0.015625 -4.46875 C 0.078125 -4.164062 0.125 -3.804688 0.125 -3.390625 C 0.125 -2.453125 -0.15625 -1.738281 -0.71875 -1.25 C -1.28125 -0.757812 -2.113281 -0.515625 -3.21875 -0.515625 C -3.8125 -0.515625 -4.3125 -0.585938 -4.71875 -0.734375 C -5.132812 -0.878906 -5.46875 -1.082031 -5.71875 -1.34375 C -5.976562 -1.601562 -6.164062 -1.90625 -6.28125 -2.25 C -6.394531 -2.59375 -6.453125 -2.957031 -6.453125 -3.34375 C -6.453125 -3.875 -6.363281 -4.316406 -6.1875 -4.671875 C -6.019531 -5.035156 -5.785156 -5.320312 -5.484375 -5.53125 C -5.179688 -5.75 -4.820312 -5.90625 -4.40625 -6 C -4 -6.09375 -3.5625 -6.140625 -3.09375 -6.140625 L -2.953125 -6.140625 Z M -3.75 -5.046875 C -4.425781 -4.992188 -4.914062 -4.828125 -5.21875 -4.546875 C -5.519531 -4.265625 -5.671875 -3.859375 -5.671875 -3.328125 C -5.671875 -3.148438 -5.644531 -2.960938 -5.59375 -2.765625 C -5.539062 -2.578125 -5.441406 -2.398438 -5.296875 -2.234375 C -5.148438 -2.078125 -4.953125 -1.941406 -4.703125 -1.828125 C -4.453125 -1.710938 -4.132812 -1.644531 -3.75 -1.625 Z M -3.75 -5.046875 \"/>\n",
       "</g>\n",
       "<g id=\"glyph-2-2\">\n",
       "<path d=\"M 0 -4.828125 L -4.015625 -4.828125 C -4.328125 -4.828125 -4.585938 -4.804688 -4.796875 -4.765625 C -5.003906 -4.722656 -5.171875 -4.648438 -5.296875 -4.546875 C -5.421875 -4.441406 -5.507812 -4.304688 -5.5625 -4.140625 C -5.613281 -3.972656 -5.640625 -3.769531 -5.640625 -3.53125 C -5.640625 -3.28125 -5.59375 -3.050781 -5.5 -2.84375 C -5.414062 -2.644531 -5.289062 -2.472656 -5.125 -2.328125 C -4.957031 -2.191406 -4.753906 -2.082031 -4.515625 -2 C -4.273438 -1.925781 -3.992188 -1.890625 -3.671875 -1.890625 L 0 -1.890625 L 0 -0.828125 L -4.984375 -0.828125 C -5.117188 -0.828125 -5.257812 -0.828125 -5.40625 -0.828125 C -5.550781 -0.828125 -5.6875 -0.820312 -5.8125 -0.8125 C -5.945312 -0.8125 -6.0625 -0.804688 -6.15625 -0.796875 C -6.25 -0.796875 -6.3125 -0.796875 -6.34375 -0.796875 L -6.34375 -1.796875 C -6.320312 -1.796875 -6.265625 -1.796875 -6.171875 -1.796875 C -6.085938 -1.804688 -5.988281 -1.8125 -5.875 -1.8125 C -5.769531 -1.820312 -5.660156 -1.828125 -5.546875 -1.828125 C -5.429688 -1.835938 -5.332031 -1.84375 -5.25 -1.84375 L -5.25 -1.859375 C -5.4375 -1.960938 -5.601562 -2.070312 -5.75 -2.1875 C -5.90625 -2.3125 -6.03125 -2.453125 -6.125 -2.609375 C -6.226562 -2.773438 -6.304688 -2.957031 -6.359375 -3.15625 C -6.421875 -3.363281 -6.453125 -3.609375 -6.453125 -3.890625 C -6.453125 -4.234375 -6.410156 -4.53125 -6.328125 -4.78125 C -6.242188 -5.039062 -6.109375 -5.253906 -5.921875 -5.421875 C -5.742188 -5.585938 -5.515625 -5.707031 -5.234375 -5.78125 C -4.953125 -5.851562 -4.613281 -5.890625 -4.21875 -5.890625 L 0 -5.890625 Z M 0 -4.828125 \"/>\n",
       "</g>\n",
       "<g id=\"glyph-2-3\">\n",
       "<path d=\"M -1.75 -5.5625 C -1.457031 -5.5625 -1.191406 -5.503906 -0.953125 -5.390625 C -0.722656 -5.273438 -0.53125 -5.109375 -0.375 -4.890625 C -0.21875 -4.671875 -0.09375 -4.398438 0 -4.078125 C 0.0820312 -3.765625 0.125 -3.40625 0.125 -3 C 0.125 -2.625 0.09375 -2.289062 0.03125 -2 C -0.0195312 -1.707031 -0.109375 -1.445312 -0.234375 -1.21875 C -0.359375 -1 -0.523438 -0.8125 -0.734375 -0.65625 C -0.941406 -0.507812 -1.191406 -0.398438 -1.484375 -0.328125 L -1.671875 -1.265625 C -1.328125 -1.359375 -1.078125 -1.546875 -0.921875 -1.828125 C -0.765625 -2.109375 -0.6875 -2.5 -0.6875 -3 C -0.6875 -3.21875 -0.703125 -3.421875 -0.734375 -3.609375 C -0.765625 -3.804688 -0.816406 -3.972656 -0.890625 -4.109375 C -0.972656 -4.242188 -1.078125 -4.347656 -1.203125 -4.421875 C -1.328125 -4.503906 -1.484375 -4.546875 -1.671875 -4.546875 C -1.859375 -4.546875 -2.015625 -4.5 -2.140625 -4.40625 C -2.265625 -4.3125 -2.367188 -4.1875 -2.453125 -4.03125 C -2.535156 -3.875 -2.601562 -3.679688 -2.65625 -3.453125 C -2.71875 -3.222656 -2.785156 -2.972656 -2.859375 -2.703125 C -2.929688 -2.441406 -3.007812 -2.1875 -3.09375 -1.9375 C -3.175781 -1.6875 -3.28125 -1.460938 -3.40625 -1.265625 C -3.539062 -1.066406 -3.707031 -0.90625 -3.90625 -0.78125 C -4.113281 -0.65625 -4.367188 -0.59375 -4.671875 -0.59375 C -5.242188 -0.59375 -5.679688 -0.796875 -5.984375 -1.203125 C -6.285156 -1.617188 -6.4375 -2.21875 -6.4375 -3 C -6.4375 -3.707031 -6.3125 -4.265625 -6.0625 -4.671875 C -5.820312 -5.085938 -5.429688 -5.347656 -4.890625 -5.453125 L -4.765625 -4.5 C -4.929688 -4.46875 -5.066406 -4.40625 -5.171875 -4.3125 C -5.285156 -4.21875 -5.378906 -4.101562 -5.453125 -3.96875 C -5.523438 -3.84375 -5.570312 -3.695312 -5.59375 -3.53125 C -5.625 -3.363281 -5.640625 -3.1875 -5.640625 -3 C -5.640625 -2.53125 -5.566406 -2.179688 -5.421875 -1.953125 C -5.273438 -1.722656 -5.054688 -1.609375 -4.765625 -1.609375 C -4.597656 -1.609375 -4.457031 -1.648438 -4.34375 -1.734375 C -4.226562 -1.816406 -4.132812 -1.929688 -4.0625 -2.078125 C -3.988281 -2.234375 -3.921875 -2.414062 -3.859375 -2.625 C -3.804688 -2.84375 -3.75 -3.078125 -3.6875 -3.328125 C -3.644531 -3.492188 -3.597656 -3.664062 -3.546875 -3.84375 C -3.492188 -4.019531 -3.429688 -4.191406 -3.359375 -4.359375 C -3.296875 -4.523438 -3.21875 -4.679688 -3.125 -4.828125 C -3.039062 -4.972656 -2.929688 -5.097656 -2.796875 -5.203125 C -2.671875 -5.316406 -2.519531 -5.40625 -2.34375 -5.46875 C -2.175781 -5.53125 -1.976562 -5.5625 -1.75 -5.5625 Z M -1.75 -5.5625 \"/>\n",
       "</g>\n",
       "<g id=\"glyph-2-4\">\n",
       "<path d=\"M -7.6875 -0.796875 L -8.703125 -0.796875 L -8.703125 -1.859375 L -7.6875 -1.859375 Z M 0 -0.796875 L -6.34375 -0.796875 L -6.34375 -1.859375 L 0 -1.859375 Z M 0 -0.796875 \"/>\n",
       "</g>\n",
       "<g id=\"glyph-2-5\">\n",
       "<path d=\"M -0.046875 -3.25 C -0.00390625 -3.082031 0.0234375 -2.914062 0.046875 -2.75 C 0.078125 -2.59375 0.09375 -2.40625 0.09375 -2.1875 C 0.09375 -1.34375 -0.382812 -0.921875 -1.34375 -0.921875 L -5.578125 -0.921875 L -5.578125 -0.1875 L -6.34375 -0.1875 L -6.34375 -0.953125 L -7.765625 -1.265625 L -7.765625 -1.96875 L -6.34375 -1.96875 L -6.34375 -3.140625 L -5.578125 -3.140625 L -5.578125 -1.96875 L -1.578125 -1.96875 C -1.265625 -1.96875 -1.046875 -2.015625 -0.921875 -2.109375 C -0.804688 -2.210938 -0.75 -2.390625 -0.75 -2.640625 C -0.75 -2.742188 -0.753906 -2.84375 -0.765625 -2.9375 C -0.785156 -3.03125 -0.804688 -3.132812 -0.828125 -3.25 Z M -0.046875 -3.25 \"/>\n",
       "</g>\n",
       "<g id=\"glyph-2-6\">\n",
       "<path d=\"M 0 -3.59375 L 0 -2.34375 L -6.34375 -0.046875 L -6.34375 -1.171875 L -2.21875 -2.5625 C -2.132812 -2.59375 -2.03125 -2.625 -1.90625 -2.65625 C -1.78125 -2.695312 -1.648438 -2.734375 -1.515625 -2.765625 C -1.378906 -2.804688 -1.25 -2.84375 -1.125 -2.875 C -1.007812 -2.914062 -0.910156 -2.945312 -0.828125 -2.96875 C -0.910156 -2.988281 -1.007812 -3.015625 -1.125 -3.046875 C -1.25 -3.085938 -1.375 -3.128906 -1.5 -3.171875 C -1.632812 -3.210938 -1.765625 -3.253906 -1.890625 -3.296875 C -2.015625 -3.335938 -2.117188 -3.375 -2.203125 -3.40625 L -6.34375 -4.84375 L -6.34375 -5.953125 Z M 0 -3.59375 \"/>\n",
       "</g>\n",
       "<g id=\"glyph-2-7\">\n",
       "<path d=\"M 0 -3.546875 C 0.382812 -3.390625 0.726562 -3.234375 1.03125 -3.078125 C 1.34375 -2.929688 1.601562 -2.757812 1.8125 -2.5625 C 2.03125 -2.375 2.195312 -2.160156 2.3125 -1.921875 C 2.425781 -1.691406 2.484375 -1.425781 2.484375 -1.125 C 2.484375 -0.988281 2.476562 -0.863281 2.46875 -0.75 C 2.46875 -0.632812 2.453125 -0.515625 2.421875 -0.390625 L 1.640625 -0.390625 C 1.648438 -0.460938 1.65625 -0.546875 1.65625 -0.640625 C 1.664062 -0.734375 1.671875 -0.816406 1.671875 -0.890625 C 1.671875 -1.191406 1.554688 -1.472656 1.328125 -1.734375 C 1.097656 -2.003906 0.726562 -2.238281 0.21875 -2.4375 L -0.03125 -2.546875 L -6.34375 -0.03125 L -6.34375 -1.15625 L -2.84375 -2.484375 C -2.726562 -2.523438 -2.582031 -2.578125 -2.40625 -2.640625 C -2.238281 -2.703125 -2.066406 -2.757812 -1.890625 -2.8125 C -1.710938 -2.875 -1.550781 -2.925781 -1.40625 -2.96875 C -1.269531 -3.019531 -1.1875 -3.050781 -1.15625 -3.0625 C -1.195312 -3.070312 -1.28125 -3.097656 -1.40625 -3.140625 C -1.53125 -3.191406 -1.671875 -3.242188 -1.828125 -3.296875 C -1.984375 -3.359375 -2.140625 -3.414062 -2.296875 -3.46875 C -2.460938 -3.53125 -2.601562 -3.582031 -2.71875 -3.625 L -6.34375 -4.859375 L -6.34375 -5.984375 Z M 0 -3.546875 \"/>\n",
       "</g>\n",
       "<g id=\"glyph-2-8\">\n",
       "<path d=\"M -4.125 -6.203125 C -3.332031 -6.203125 -2.664062 -6.125 -2.125 -5.96875 C -1.582031 -5.820312 -1.144531 -5.617188 -0.8125 -5.359375 C -0.476562 -5.097656 -0.238281 -4.789062 -0.09375 -4.4375 C 0.0507812 -4.09375 0.125 -3.722656 0.125 -3.328125 C 0.125 -2.921875 0.0507812 -2.539062 -0.09375 -2.1875 C -0.238281 -1.84375 -0.476562 -1.539062 -0.8125 -1.28125 C -1.144531 -1.03125 -1.582031 -0.832031 -2.125 -0.6875 C -2.664062 -0.539062 -3.332031 -0.46875 -4.125 -0.46875 C -4.957031 -0.46875 -5.644531 -0.539062 -6.1875 -0.6875 C -6.738281 -0.832031 -7.175781 -1.035156 -7.5 -1.296875 C -7.820312 -1.554688 -8.046875 -1.859375 -8.171875 -2.203125 C -8.304688 -2.554688 -8.375 -2.941406 -8.375 -3.359375 C -8.375 -3.753906 -8.304688 -4.125 -8.171875 -4.46875 C -8.046875 -4.8125 -7.820312 -5.113281 -7.5 -5.375 C -7.175781 -5.632812 -6.738281 -5.835938 -6.1875 -5.984375 C -5.644531 -6.128906 -4.957031 -6.203125 -4.125 -6.203125 Z M -4.125 -5.140625 C -4.78125 -5.140625 -5.328125 -5.097656 -5.765625 -5.015625 C -6.203125 -4.941406 -6.550781 -4.828125 -6.8125 -4.671875 C -7.070312 -4.515625 -7.253906 -4.328125 -7.359375 -4.109375 C -7.472656 -3.890625 -7.53125 -3.640625 -7.53125 -3.359375 C -7.53125 -3.054688 -7.472656 -2.789062 -7.359375 -2.5625 C -7.253906 -2.34375 -7.070312 -2.15625 -6.8125 -2 C -6.550781 -1.84375 -6.203125 -1.722656 -5.765625 -1.640625 C -5.328125 -1.566406 -4.78125 -1.53125 -4.125 -1.53125 C -3.5 -1.53125 -2.96875 -1.570312 -2.53125 -1.65625 C -2.09375 -1.738281 -1.742188 -1.851562 -1.484375 -2 C -1.222656 -2.15625 -1.035156 -2.34375 -0.921875 -2.5625 C -0.804688 -2.789062 -0.75 -3.046875 -0.75 -3.328125 C -0.75 -3.609375 -0.804688 -3.859375 -0.921875 -4.078125 C -1.035156 -4.304688 -1.222656 -4.492188 -1.484375 -4.640625 C -1.742188 -4.796875 -2.09375 -4.914062 -2.53125 -5 C -2.96875 -5.09375 -3.5 -5.140625 -4.125 -5.140625 Z M -4.125 -5.140625 \"/>\n",
       "</g>\n",
       "<g id=\"glyph-2-9\">\n",
       "<path d=\"M 0 -1.09375 L -1.28125 -1.09375 L -1.28125 -2.234375 L 0 -2.234375 Z M 0 -1.09375 \"/>\n",
       "</g>\n",
       "<g id=\"glyph-2-10\">\n",
       "<path d=\"M 0 -0.609375 L -0.75 -0.609375 C -1.207031 -0.804688 -1.609375 -1.046875 -1.953125 -1.328125 C -2.304688 -1.617188 -2.625 -1.921875 -2.90625 -2.234375 C -3.1875 -2.554688 -3.445312 -2.867188 -3.6875 -3.171875 C -3.9375 -3.484375 -4.179688 -3.765625 -4.421875 -4.015625 C -4.660156 -4.265625 -4.910156 -4.46875 -5.171875 -4.625 C -5.441406 -4.78125 -5.742188 -4.859375 -6.078125 -4.859375 C -6.316406 -4.859375 -6.523438 -4.820312 -6.703125 -4.75 C -6.878906 -4.675781 -7.023438 -4.570312 -7.140625 -4.4375 C -7.265625 -4.3125 -7.359375 -4.15625 -7.421875 -3.96875 C -7.484375 -3.78125 -7.515625 -3.578125 -7.515625 -3.359375 C -7.515625 -3.140625 -7.484375 -2.9375 -7.421875 -2.75 C -7.367188 -2.570312 -7.28125 -2.410156 -7.15625 -2.265625 C -7.039062 -2.117188 -6.894531 -2 -6.71875 -1.90625 C -6.550781 -1.8125 -6.351562 -1.753906 -6.125 -1.734375 L -6.21875 -0.65625 C -6.507812 -0.6875 -6.785156 -0.765625 -7.046875 -0.890625 C -7.316406 -1.023438 -7.550781 -1.203125 -7.75 -1.421875 C -7.945312 -1.648438 -8.097656 -1.921875 -8.203125 -2.234375 C -8.316406 -2.554688 -8.375 -2.929688 -8.375 -3.359375 C -8.375 -3.765625 -8.328125 -4.125 -8.234375 -4.4375 C -8.140625 -4.757812 -7.992188 -5.03125 -7.796875 -5.25 C -7.609375 -5.476562 -7.375 -5.648438 -7.09375 -5.765625 C -6.8125 -5.878906 -6.488281 -5.9375 -6.125 -5.9375 C -5.84375 -5.9375 -5.578125 -5.882812 -5.328125 -5.78125 C -5.078125 -5.6875 -4.835938 -5.554688 -4.609375 -5.390625 C -4.378906 -5.222656 -4.160156 -5.03125 -3.953125 -4.8125 C -3.742188 -4.59375 -3.535156 -4.363281 -3.328125 -4.125 C -3.128906 -3.894531 -2.929688 -3.65625 -2.734375 -3.40625 C -2.535156 -3.164062 -2.335938 -2.9375 -2.140625 -2.71875 C -1.941406 -2.507812 -1.738281 -2.320312 -1.53125 -2.15625 C -1.332031 -1.988281 -1.117188 -1.859375 -0.890625 -1.765625 L -0.890625 -6.078125 L 0 -6.078125 Z M 0 -0.609375 \"/>\n",
       "</g>\n",
       "<g id=\"glyph-2-11\">\n",
       "<path d=\"M -1.875 -5.15625 L 0 -5.15625 L 0 -4.171875 L -1.875 -4.171875 L -1.875 -0.28125 L -2.6875 -0.28125 L -8.25 -4.0625 L -8.25 -5.15625 L -2.703125 -5.15625 L -2.703125 -6.328125 L -1.875 -6.328125 Z M -7.0625 -4.171875 C -7.039062 -4.160156 -7.003906 -4.140625 -6.953125 -4.109375 C -6.898438 -4.078125 -6.835938 -4.039062 -6.765625 -4 C -6.691406 -3.957031 -6.617188 -3.914062 -6.546875 -3.875 C -6.472656 -3.84375 -6.414062 -3.8125 -6.375 -3.78125 L -3.25 -1.65625 C -3.21875 -1.632812 -3.175781 -1.601562 -3.125 -1.5625 C -3.070312 -1.53125 -3.019531 -1.492188 -2.96875 -1.453125 C -2.914062 -1.421875 -2.863281 -1.382812 -2.8125 -1.34375 C -2.769531 -1.300781 -2.734375 -1.269531 -2.703125 -1.25 L -2.703125 -4.171875 Z M -7.0625 -4.171875 \"/>\n",
       "</g>\n",
       "<g id=\"glyph-2-12\">\n",
       "<path d=\"M -2.703125 -6.140625 C -2.285156 -6.140625 -1.90625 -6.082031 -1.5625 -5.96875 C -1.21875 -5.851562 -0.921875 -5.679688 -0.671875 -5.453125 C -0.421875 -5.234375 -0.222656 -4.957031 -0.078125 -4.625 C 0.0546875 -4.289062 0.125 -3.910156 0.125 -3.484375 C 0.125 -3.003906 0.03125 -2.582031 -0.15625 -2.21875 C -0.34375 -1.863281 -0.609375 -1.566406 -0.953125 -1.328125 C -1.296875 -1.085938 -1.71875 -0.90625 -2.21875 -0.78125 C -2.726562 -0.664062 -3.300781 -0.609375 -3.9375 -0.609375 C -4.675781 -0.609375 -5.320312 -0.675781 -5.875 -0.8125 C -6.425781 -0.945312 -6.882812 -1.140625 -7.25 -1.390625 C -7.625 -1.648438 -7.90625 -1.960938 -8.09375 -2.328125 C -8.28125 -2.691406 -8.375 -3.101562 -8.375 -3.5625 C -8.375 -3.84375 -8.34375 -4.101562 -8.28125 -4.34375 C -8.226562 -4.59375 -8.132812 -4.816406 -8 -5.015625 C -7.875 -5.222656 -7.703125 -5.398438 -7.484375 -5.546875 C -7.273438 -5.703125 -7.015625 -5.828125 -6.703125 -5.921875 L -6.515625 -4.90625 C -6.867188 -4.800781 -7.125 -4.628906 -7.28125 -4.390625 C -7.445312 -4.148438 -7.53125 -3.867188 -7.53125 -3.546875 C -7.53125 -3.265625 -7.457031 -3.003906 -7.3125 -2.765625 C -7.175781 -2.535156 -6.972656 -2.335938 -6.703125 -2.171875 C -6.429688 -2.003906 -6.085938 -1.875 -5.671875 -1.78125 C -5.265625 -1.695312 -4.789062 -1.65625 -4.25 -1.65625 C -4.601562 -1.851562 -4.875 -2.125 -5.0625 -2.46875 C -5.25 -2.8125 -5.34375 -3.207031 -5.34375 -3.65625 C -5.34375 -4.03125 -5.28125 -4.367188 -5.15625 -4.671875 C -5.03125 -4.984375 -4.851562 -5.25 -4.625 -5.46875 C -4.40625 -5.6875 -4.128906 -5.851562 -3.796875 -5.96875 C -3.472656 -6.082031 -3.109375 -6.140625 -2.703125 -6.140625 Z M -2.65625 -5.078125 C -2.9375 -5.078125 -3.191406 -5.039062 -3.421875 -4.96875 C -3.660156 -4.894531 -3.859375 -4.785156 -4.015625 -4.640625 C -4.179688 -4.503906 -4.304688 -4.332031 -4.390625 -4.125 C -4.484375 -3.925781 -4.53125 -3.6875 -4.53125 -3.40625 C -4.53125 -3.21875 -4.5 -3.023438 -4.4375 -2.828125 C -4.382812 -2.628906 -4.289062 -2.453125 -4.15625 -2.296875 C -4.03125 -2.140625 -3.863281 -2.007812 -3.65625 -1.90625 C -3.457031 -1.8125 -3.207031 -1.765625 -2.90625 -1.765625 C -2.601562 -1.765625 -2.316406 -1.800781 -2.046875 -1.875 C -1.785156 -1.957031 -1.554688 -2.070312 -1.359375 -2.21875 C -1.171875 -2.363281 -1.019531 -2.539062 -0.90625 -2.75 C -0.789062 -2.957031 -0.734375 -3.191406 -0.734375 -3.453125 C -0.734375 -3.703125 -0.773438 -3.925781 -0.859375 -4.125 C -0.953125 -4.332031 -1.082031 -4.503906 -1.25 -4.640625 C -1.414062 -4.785156 -1.613281 -4.894531 -1.84375 -4.96875 C -2.082031 -5.039062 -2.351562 -5.078125 -2.65625 -5.078125 Z M -2.65625 -5.078125 \"/>\n",
       "</g>\n",
       "<g id=\"glyph-2-13\">\n",
       "<path d=\"M -2.296875 -6.15625 C -1.953125 -6.15625 -1.628906 -6.097656 -1.328125 -5.984375 C -1.035156 -5.867188 -0.78125 -5.695312 -0.5625 -5.46875 C -0.351562 -5.25 -0.1875 -4.957031 -0.0625 -4.59375 C 0.0625 -4.238281 0.125 -3.820312 0.125 -3.34375 C 0.125 -2.851562 0.0625 -2.429688 -0.0625 -2.078125 C -0.1875 -1.722656 -0.351562 -1.429688 -0.5625 -1.203125 C -0.78125 -0.972656 -1.035156 -0.800781 -1.328125 -0.6875 C -1.617188 -0.570312 -1.941406 -0.515625 -2.296875 -0.515625 C -2.597656 -0.515625 -2.863281 -0.5625 -3.09375 -0.65625 C -3.332031 -0.75 -3.535156 -0.875 -3.703125 -1.03125 C -3.867188 -1.1875 -4.003906 -1.363281 -4.109375 -1.5625 C -4.210938 -1.757812 -4.28125 -1.960938 -4.3125 -2.171875 L -4.34375 -2.171875 C -4.394531 -1.941406 -4.476562 -1.734375 -4.59375 -1.546875 C -4.71875 -1.367188 -4.863281 -1.21875 -5.03125 -1.09375 C -5.207031 -0.96875 -5.398438 -0.875 -5.609375 -0.8125 C -5.816406 -0.75 -6.035156 -0.71875 -6.265625 -0.71875 C -6.554688 -0.71875 -6.828125 -0.769531 -7.078125 -0.875 C -7.335938 -0.988281 -7.5625 -1.15625 -7.75 -1.375 C -7.945312 -1.59375 -8.097656 -1.863281 -8.203125 -2.1875 C -8.316406 -2.507812 -8.375 -2.882812 -8.375 -3.3125 C -8.375 -3.757812 -8.316406 -4.148438 -8.203125 -4.484375 C -8.097656 -4.816406 -7.945312 -5.085938 -7.75 -5.296875 C -7.550781 -5.515625 -7.320312 -5.675781 -7.0625 -5.78125 C -6.8125 -5.894531 -6.539062 -5.953125 -6.25 -5.953125 C -6.019531 -5.953125 -5.800781 -5.914062 -5.59375 -5.84375 C -5.394531 -5.78125 -5.207031 -5.6875 -5.03125 -5.5625 C -4.863281 -5.445312 -4.71875 -5.296875 -4.59375 -5.109375 C -4.476562 -4.929688 -4.398438 -4.722656 -4.359375 -4.484375 L -4.328125 -4.484375 C -4.285156 -4.722656 -4.210938 -4.941406 -4.109375 -5.140625 C -4.015625 -5.347656 -3.878906 -5.523438 -3.703125 -5.671875 C -3.535156 -5.816406 -3.332031 -5.929688 -3.09375 -6.015625 C -2.863281 -6.109375 -2.597656 -6.15625 -2.296875 -6.15625 Z M -6.1875 -4.859375 C -6.394531 -4.859375 -6.582031 -4.828125 -6.75 -4.765625 C -6.925781 -4.710938 -7.078125 -4.625 -7.203125 -4.5 C -7.328125 -4.382812 -7.421875 -4.226562 -7.484375 -4.03125 C -7.554688 -3.84375 -7.59375 -3.601562 -7.59375 -3.3125 C -7.59375 -3.039062 -7.554688 -2.804688 -7.484375 -2.609375 C -7.421875 -2.421875 -7.328125 -2.265625 -7.203125 -2.140625 C -7.078125 -2.015625 -6.925781 -1.925781 -6.75 -1.875 C -6.582031 -1.820312 -6.394531 -1.796875 -6.1875 -1.796875 C -6.03125 -1.796875 -5.863281 -1.816406 -5.6875 -1.859375 C -5.519531 -1.898438 -5.363281 -1.976562 -5.21875 -2.09375 C -5.082031 -2.207031 -4.96875 -2.363281 -4.875 -2.5625 C -4.78125 -2.757812 -4.734375 -3.015625 -4.734375 -3.328125 C -4.734375 -3.660156 -4.78125 -3.925781 -4.875 -4.125 C -4.96875 -4.332031 -5.082031 -4.488281 -5.21875 -4.59375 C -5.363281 -4.695312 -5.519531 -4.765625 -5.6875 -4.796875 C -5.863281 -4.835938 -6.03125 -4.859375 -6.1875 -4.859375 Z M -2.40625 -5.0625 C -2.601562 -5.0625 -2.796875 -5.03125 -2.984375 -4.96875 C -3.171875 -4.914062 -3.332031 -4.820312 -3.46875 -4.6875 C -3.613281 -4.5625 -3.726562 -4.382812 -3.8125 -4.15625 C -3.90625 -3.9375 -3.953125 -3.65625 -3.953125 -3.3125 C -3.953125 -3.007812 -3.90625 -2.75 -3.8125 -2.53125 C -3.726562 -2.3125 -3.613281 -2.132812 -3.46875 -2 C -3.320312 -1.863281 -3.15625 -1.765625 -2.96875 -1.703125 C -2.78125 -1.640625 -2.582031 -1.609375 -2.375 -1.609375 C -2.125 -1.609375 -1.894531 -1.640625 -1.6875 -1.703125 C -1.476562 -1.765625 -1.296875 -1.863281 -1.140625 -2 C -0.992188 -2.132812 -0.878906 -2.3125 -0.796875 -2.53125 C -0.710938 -2.757812 -0.671875 -3.035156 -0.671875 -3.359375 C -0.671875 -3.671875 -0.710938 -3.9375 -0.796875 -4.15625 C -0.878906 -4.375 -0.992188 -4.550781 -1.140625 -4.6875 C -1.296875 -4.820312 -1.476562 -4.914062 -1.6875 -4.96875 C -1.90625 -5.03125 -2.144531 -5.0625 -2.40625 -5.0625 Z M -2.40625 -5.0625 \"/>\n",
       "</g>\n",
       "<g id=\"glyph-2-14\">\n",
       "<path d=\"M 0 -0.921875 L -0.890625 -0.921875 L -0.890625 -3.015625 L -7.25 -3.015625 L -5.921875 -1.15625 L -6.921875 -1.15625 L -8.25 -3.109375 L -8.25 -4.078125 L -0.890625 -4.078125 L -0.890625 -6.09375 L 0 -6.09375 Z M 0 -0.921875 \"/>\n",
       "</g>\n",
       "</g>\n",
       "<clipPath id=\"clip-0\">\n",
       "<path clip-rule=\"nonzero\" d=\"M 59.039062 30.238281 L 545.757812 30.238281 L 545.757812 516.957031 L 59.039062 516.957031 Z M 59.039062 30.238281 \"/>\n",
       "</clipPath>\n",
       "</defs>\n",
       "<rect x=\"-57.6\" y=\"-57.6\" width=\"691.2\" height=\"691.2\" fill=\"rgb(100%, 100%, 100%)\" fill-opacity=\"1\"/>\n",
       "<g fill=\"rgb(0%, 0%, 0%)\" fill-opacity=\"1\">\n",
       "<use xlink:href=\"#glyph-0-0\" x=\"169.398438\" y=\"19.15625\"/>\n",
       "<use xlink:href=\"#glyph-0-1\" x=\"179.398438\" y=\"19.15625\"/>\n",
       "<use xlink:href=\"#glyph-0-2\" x=\"190.398438\" y=\"19.15625\"/>\n",
       "<use xlink:href=\"#glyph-0-3\" x=\"200.398438\" y=\"19.15625\"/>\n",
       "<use xlink:href=\"#glyph-0-2\" x=\"204.398438\" y=\"19.15625\"/>\n",
       "<use xlink:href=\"#glyph-0-4\" x=\"214.398438\" y=\"19.15625\"/>\n",
       "<use xlink:href=\"#glyph-0-5\" x=\"223.398438\" y=\"19.15625\"/>\n",
       "<use xlink:href=\"#glyph-0-6\" x=\"229.398438\" y=\"19.15625\"/>\n",
       "<use xlink:href=\"#glyph-0-7\" x=\"237.398438\" y=\"19.15625\"/>\n",
       "<use xlink:href=\"#glyph-0-8\" x=\"245.398438\" y=\"19.15625\"/>\n",
       "<use xlink:href=\"#glyph-0-3\" x=\"253.398438\" y=\"19.15625\"/>\n",
       "<use xlink:href=\"#glyph-0-9\" x=\"257.398438\" y=\"19.15625\"/>\n",
       "<use xlink:href=\"#glyph-0-10\" x=\"262.398438\" y=\"19.15625\"/>\n",
       "<use xlink:href=\"#glyph-0-5\" x=\"271.398438\" y=\"19.15625\"/>\n",
       "<use xlink:href=\"#glyph-0-3\" x=\"277.398438\" y=\"19.15625\"/>\n",
       "<use xlink:href=\"#glyph-0-11\" x=\"281.398438\" y=\"19.15625\"/>\n",
       "<use xlink:href=\"#glyph-0-5\" x=\"291.398438\" y=\"19.15625\"/>\n",
       "<use xlink:href=\"#glyph-0-7\" x=\"297.398438\" y=\"19.15625\"/>\n",
       "<use xlink:href=\"#glyph-0-12\" x=\"305.398438\" y=\"19.15625\"/>\n",
       "<use xlink:href=\"#glyph-0-8\" x=\"313.398438\" y=\"19.15625\"/>\n",
       "<use xlink:href=\"#glyph-0-13\" x=\"321.398438\" y=\"19.15625\"/>\n",
       "<use xlink:href=\"#glyph-0-3\" x=\"326.398438\" y=\"19.15625\"/>\n",
       "<use xlink:href=\"#glyph-0-2\" x=\"330.398438\" y=\"19.15625\"/>\n",
       "<use xlink:href=\"#glyph-0-12\" x=\"340.398438\" y=\"19.15625\"/>\n",
       "<use xlink:href=\"#glyph-0-14\" x=\"348.398438\" y=\"19.15625\"/>\n",
       "<use xlink:href=\"#glyph-0-15\" x=\"357.398438\" y=\"19.15625\"/>\n",
       "<use xlink:href=\"#glyph-0-7\" x=\"365.398438\" y=\"19.15625\"/>\n",
       "<use xlink:href=\"#glyph-0-5\" x=\"373.398438\" y=\"19.15625\"/>\n",
       "<use xlink:href=\"#glyph-0-3\" x=\"379.398438\" y=\"19.15625\"/>\n",
       "<use xlink:href=\"#glyph-0-16\" x=\"383.398438\" y=\"19.15625\"/>\n",
       "<use xlink:href=\"#glyph-0-12\" x=\"393.398438\" y=\"19.15625\"/>\n",
       "<use xlink:href=\"#glyph-0-13\" x=\"401.398438\" y=\"19.15625\"/>\n",
       "<use xlink:href=\"#glyph-0-12\" x=\"406.398438\" y=\"19.15625\"/>\n",
       "<use xlink:href=\"#glyph-0-8\" x=\"414.398438\" y=\"19.15625\"/>\n",
       "<use xlink:href=\"#glyph-0-7\" x=\"422.398438\" y=\"19.15625\"/>\n",
       "<use xlink:href=\"#glyph-0-13\" x=\"430.398438\" y=\"19.15625\"/>\n",
       "</g>\n",
       "<g fill=\"rgb(0%, 0%, 0%)\" fill-opacity=\"1\">\n",
       "<use xlink:href=\"#glyph-1-0\" x=\"274.898438\" y=\"564.34375\"/>\n",
       "<use xlink:href=\"#glyph-1-1\" x=\"282.898438\" y=\"564.34375\"/>\n",
       "<use xlink:href=\"#glyph-1-2\" x=\"289.898438\" y=\"564.34375\"/>\n",
       "<use xlink:href=\"#glyph-1-3\" x=\"296.898438\" y=\"564.34375\"/>\n",
       "<use xlink:href=\"#glyph-1-4\" x=\"302.898438\" y=\"564.34375\"/>\n",
       "<use xlink:href=\"#glyph-1-5\" x=\"305.898438\" y=\"564.34375\"/>\n",
       "<use xlink:href=\"#glyph-1-4\" x=\"308.898438\" y=\"564.34375\"/>\n",
       "<use xlink:href=\"#glyph-1-3\" x=\"311.898438\" y=\"564.34375\"/>\n",
       "<use xlink:href=\"#glyph-1-4\" x=\"317.898438\" y=\"564.34375\"/>\n",
       "<use xlink:href=\"#glyph-1-6\" x=\"320.898438\" y=\"564.34375\"/>\n",
       "<use xlink:href=\"#glyph-1-7\" x=\"323.898438\" y=\"564.34375\"/>\n",
       "</g>\n",
       "<g fill=\"rgb(0%, 0%, 0%)\" fill-opacity=\"1\">\n",
       "<use xlink:href=\"#glyph-2-0\" x=\"20.023438\" y=\"301.101562\"/>\n",
       "<use xlink:href=\"#glyph-2-1\" x=\"20.023438\" y=\"293.101562\"/>\n",
       "<use xlink:href=\"#glyph-2-2\" x=\"20.023438\" y=\"286.101562\"/>\n",
       "<use xlink:href=\"#glyph-2-3\" x=\"20.023438\" y=\"279.101562\"/>\n",
       "<use xlink:href=\"#glyph-2-4\" x=\"20.023438\" y=\"273.101562\"/>\n",
       "<use xlink:href=\"#glyph-2-5\" x=\"20.023438\" y=\"270.101562\"/>\n",
       "<use xlink:href=\"#glyph-2-4\" x=\"20.023438\" y=\"267.101562\"/>\n",
       "<use xlink:href=\"#glyph-2-6\" x=\"20.023438\" y=\"264.101562\"/>\n",
       "<use xlink:href=\"#glyph-2-4\" x=\"20.023438\" y=\"258.101562\"/>\n",
       "<use xlink:href=\"#glyph-2-5\" x=\"20.023438\" y=\"255.101562\"/>\n",
       "<use xlink:href=\"#glyph-2-7\" x=\"20.023438\" y=\"252.101562\"/>\n",
       "</g>\n",
       "<path fill=\"none\" stroke-width=\"0.75\" stroke-linecap=\"round\" stroke-linejoin=\"round\" stroke=\"rgb(0%, 0%, 0%)\" stroke-opacity=\"1\" stroke-miterlimit=\"10\" d=\"M 59.039062 516.960938 L 545.761719 516.960938 L 545.761719 30.238281 L 59.039062 30.238281 Z M 59.039062 516.960938 \"/>\n",
       "<path fill=\"none\" stroke-width=\"0.75\" stroke-linecap=\"round\" stroke-linejoin=\"round\" stroke=\"rgb(0%, 0%, 0%)\" stroke-opacity=\"1\" stroke-miterlimit=\"10\" d=\"M 527.734375 516.960938 L 77.066406 516.960938 \"/>\n",
       "<path fill=\"none\" stroke-width=\"0.75\" stroke-linecap=\"round\" stroke-linejoin=\"round\" stroke=\"rgb(0%, 0%, 0%)\" stroke-opacity=\"1\" stroke-miterlimit=\"10\" d=\"M 527.734375 516.960938 L 527.734375 524.160156 \"/>\n",
       "<path fill=\"none\" stroke-width=\"0.75\" stroke-linecap=\"round\" stroke-linejoin=\"round\" stroke=\"rgb(0%, 0%, 0%)\" stroke-opacity=\"1\" stroke-miterlimit=\"10\" d=\"M 437.601562 516.960938 L 437.601562 524.160156 \"/>\n",
       "<path fill=\"none\" stroke-width=\"0.75\" stroke-linecap=\"round\" stroke-linejoin=\"round\" stroke=\"rgb(0%, 0%, 0%)\" stroke-opacity=\"1\" stroke-miterlimit=\"10\" d=\"M 347.464844 516.960938 L 347.464844 524.160156 \"/>\n",
       "<path fill=\"none\" stroke-width=\"0.75\" stroke-linecap=\"round\" stroke-linejoin=\"round\" stroke=\"rgb(0%, 0%, 0%)\" stroke-opacity=\"1\" stroke-miterlimit=\"10\" d=\"M 257.332031 516.960938 L 257.332031 524.160156 \"/>\n",
       "<path fill=\"none\" stroke-width=\"0.75\" stroke-linecap=\"round\" stroke-linejoin=\"round\" stroke=\"rgb(0%, 0%, 0%)\" stroke-opacity=\"1\" stroke-miterlimit=\"10\" d=\"M 167.199219 516.960938 L 167.199219 524.160156 \"/>\n",
       "<path fill=\"none\" stroke-width=\"0.75\" stroke-linecap=\"round\" stroke-linejoin=\"round\" stroke=\"rgb(0%, 0%, 0%)\" stroke-opacity=\"1\" stroke-miterlimit=\"10\" d=\"M 77.066406 516.960938 L 77.066406 524.160156 \"/>\n",
       "<g fill=\"rgb(0%, 0%, 0%)\" fill-opacity=\"1\">\n",
       "<use xlink:href=\"#glyph-1-8\" x=\"68.566406\" y=\"542.742188\"/>\n",
       "<use xlink:href=\"#glyph-1-9\" x=\"75.566406\" y=\"542.742188\"/>\n",
       "<use xlink:href=\"#glyph-1-10\" x=\"78.566406\" y=\"542.742188\"/>\n",
       "</g>\n",
       "<g fill=\"rgb(0%, 0%, 0%)\" fill-opacity=\"1\">\n",
       "<use xlink:href=\"#glyph-1-10\" x=\"158.699219\" y=\"542.742188\"/>\n",
       "<use xlink:href=\"#glyph-1-9\" x=\"165.699219\" y=\"542.742188\"/>\n",
       "<use xlink:href=\"#glyph-1-11\" x=\"168.699219\" y=\"542.742188\"/>\n",
       "</g>\n",
       "<g fill=\"rgb(0%, 0%, 0%)\" fill-opacity=\"1\">\n",
       "<use xlink:href=\"#glyph-1-10\" x=\"248.832031\" y=\"542.742188\"/>\n",
       "<use xlink:href=\"#glyph-1-9\" x=\"255.832031\" y=\"542.742188\"/>\n",
       "<use xlink:href=\"#glyph-1-12\" x=\"258.832031\" y=\"542.742188\"/>\n",
       "</g>\n",
       "<g fill=\"rgb(0%, 0%, 0%)\" fill-opacity=\"1\">\n",
       "<use xlink:href=\"#glyph-1-10\" x=\"338.964844\" y=\"542.742188\"/>\n",
       "<use xlink:href=\"#glyph-1-9\" x=\"345.964844\" y=\"542.742188\"/>\n",
       "<use xlink:href=\"#glyph-1-13\" x=\"348.964844\" y=\"542.742188\"/>\n",
       "</g>\n",
       "<g fill=\"rgb(0%, 0%, 0%)\" fill-opacity=\"1\">\n",
       "<use xlink:href=\"#glyph-1-10\" x=\"429.101562\" y=\"542.742188\"/>\n",
       "<use xlink:href=\"#glyph-1-9\" x=\"436.101562\" y=\"542.742188\"/>\n",
       "<use xlink:href=\"#glyph-1-14\" x=\"439.101562\" y=\"542.742188\"/>\n",
       "</g>\n",
       "<g fill=\"rgb(0%, 0%, 0%)\" fill-opacity=\"1\">\n",
       "<use xlink:href=\"#glyph-1-10\" x=\"519.234375\" y=\"542.742188\"/>\n",
       "<use xlink:href=\"#glyph-1-9\" x=\"526.234375\" y=\"542.742188\"/>\n",
       "<use xlink:href=\"#glyph-1-10\" x=\"529.234375\" y=\"542.742188\"/>\n",
       "</g>\n",
       "<path fill=\"none\" stroke-width=\"0.75\" stroke-linecap=\"round\" stroke-linejoin=\"round\" stroke=\"rgb(0%, 0%, 0%)\" stroke-opacity=\"1\" stroke-miterlimit=\"10\" d=\"M 59.039062 498.933594 L 59.039062 48.265625 \"/>\n",
       "<path fill=\"none\" stroke-width=\"0.75\" stroke-linecap=\"round\" stroke-linejoin=\"round\" stroke=\"rgb(0%, 0%, 0%)\" stroke-opacity=\"1\" stroke-miterlimit=\"10\" d=\"M 59.039062 498.933594 L 51.839844 498.933594 \"/>\n",
       "<path fill=\"none\" stroke-width=\"0.75\" stroke-linecap=\"round\" stroke-linejoin=\"round\" stroke=\"rgb(0%, 0%, 0%)\" stroke-opacity=\"1\" stroke-miterlimit=\"10\" d=\"M 59.039062 408.800781 L 51.839844 408.800781 \"/>\n",
       "<path fill=\"none\" stroke-width=\"0.75\" stroke-linecap=\"round\" stroke-linejoin=\"round\" stroke=\"rgb(0%, 0%, 0%)\" stroke-opacity=\"1\" stroke-miterlimit=\"10\" d=\"M 59.039062 318.667969 L 51.839844 318.667969 \"/>\n",
       "<path fill=\"none\" stroke-width=\"0.75\" stroke-linecap=\"round\" stroke-linejoin=\"round\" stroke=\"rgb(0%, 0%, 0%)\" stroke-opacity=\"1\" stroke-miterlimit=\"10\" d=\"M 59.039062 228.535156 L 51.839844 228.535156 \"/>\n",
       "<path fill=\"none\" stroke-width=\"0.75\" stroke-linecap=\"round\" stroke-linejoin=\"round\" stroke=\"rgb(0%, 0%, 0%)\" stroke-opacity=\"1\" stroke-miterlimit=\"10\" d=\"M 59.039062 138.398438 L 51.839844 138.398438 \"/>\n",
       "<path fill=\"none\" stroke-width=\"0.75\" stroke-linecap=\"round\" stroke-linejoin=\"round\" stroke=\"rgb(0%, 0%, 0%)\" stroke-opacity=\"1\" stroke-miterlimit=\"10\" d=\"M 59.039062 48.265625 L 51.839844 48.265625 \"/>\n",
       "<g fill=\"rgb(0%, 0%, 0%)\" fill-opacity=\"1\">\n",
       "<use xlink:href=\"#glyph-2-8\" x=\"41.625\" y=\"507.433594\"/>\n",
       "<use xlink:href=\"#glyph-2-9\" x=\"41.625\" y=\"500.433594\"/>\n",
       "<use xlink:href=\"#glyph-2-8\" x=\"41.625\" y=\"497.433594\"/>\n",
       "</g>\n",
       "<g fill=\"rgb(0%, 0%, 0%)\" fill-opacity=\"1\">\n",
       "<use xlink:href=\"#glyph-2-8\" x=\"41.625\" y=\"417.300781\"/>\n",
       "<use xlink:href=\"#glyph-2-9\" x=\"41.625\" y=\"410.300781\"/>\n",
       "<use xlink:href=\"#glyph-2-10\" x=\"41.625\" y=\"407.300781\"/>\n",
       "</g>\n",
       "<g fill=\"rgb(0%, 0%, 0%)\" fill-opacity=\"1\">\n",
       "<use xlink:href=\"#glyph-2-8\" x=\"41.625\" y=\"327.167969\"/>\n",
       "<use xlink:href=\"#glyph-2-9\" x=\"41.625\" y=\"320.167969\"/>\n",
       "<use xlink:href=\"#glyph-2-11\" x=\"41.625\" y=\"317.167969\"/>\n",
       "</g>\n",
       "<g fill=\"rgb(0%, 0%, 0%)\" fill-opacity=\"1\">\n",
       "<use xlink:href=\"#glyph-2-8\" x=\"41.625\" y=\"237.035156\"/>\n",
       "<use xlink:href=\"#glyph-2-9\" x=\"41.625\" y=\"230.035156\"/>\n",
       "<use xlink:href=\"#glyph-2-12\" x=\"41.625\" y=\"227.035156\"/>\n",
       "</g>\n",
       "<g fill=\"rgb(0%, 0%, 0%)\" fill-opacity=\"1\">\n",
       "<use xlink:href=\"#glyph-2-8\" x=\"41.625\" y=\"146.898438\"/>\n",
       "<use xlink:href=\"#glyph-2-9\" x=\"41.625\" y=\"139.898438\"/>\n",
       "<use xlink:href=\"#glyph-2-13\" x=\"41.625\" y=\"136.898438\"/>\n",
       "</g>\n",
       "<g fill=\"rgb(0%, 0%, 0%)\" fill-opacity=\"1\">\n",
       "<use xlink:href=\"#glyph-2-14\" x=\"41.625\" y=\"56.765625\"/>\n",
       "<use xlink:href=\"#glyph-2-9\" x=\"41.625\" y=\"49.765625\"/>\n",
       "<use xlink:href=\"#glyph-2-8\" x=\"41.625\" y=\"46.765625\"/>\n",
       "</g>\n",
       "<g clip-path=\"url(#clip-0)\">\n",
       "<path fill=\"none\" stroke-width=\"0.75\" stroke-linecap=\"round\" stroke-linejoin=\"round\" stroke=\"rgb(66.27451%, 66.27451%, 66.27451%)\" stroke-opacity=\"1\" stroke-miterlimit=\"10\" d=\"M 59.039062 516.960938 L 545.761719 30.238281 \"/>\n",
       "</g>\n",
       "<path fill=\"none\" stroke-width=\"2.25\" stroke-linecap=\"round\" stroke-linejoin=\"round\" stroke=\"rgb(0%, 0%, 100%)\" stroke-opacity=\"1\" stroke-dasharray=\"9 9\" stroke-miterlimit=\"10\" d=\"M 527.734375 48.265625 L 157.109375 48.265625 L 157.109375 51.507812 L 139.707031 51.507812 L 139.707031 54.75 L 131.007812 54.75 L 131.007812 57.992188 L 122.308594 57.992188 L 122.308594 64.476562 L 90.988281 64.476562 L 90.988281 70.960938 L 85.765625 70.960938 L 85.765625 83.929688 L 82.285156 83.929688 L 82.285156 90.414062 L 80.546875 90.414062 L 80.546875 106.625 L 78.808594 106.625 L 78.808594 113.109375 L 77.066406 113.109375 L 77.066406 498.933594 \"/>\n",
       "<g fill=\"rgb(0%, 0%, 100%)\" fill-opacity=\"1\">\n",
       "<use xlink:href=\"#glyph-1-15\" x=\"302.398438\" y=\"282.464844\"/>\n",
       "<use xlink:href=\"#glyph-1-16\" x=\"310.398438\" y=\"282.464844\"/>\n",
       "<use xlink:href=\"#glyph-1-17\" x=\"319.398438\" y=\"282.464844\"/>\n",
       "<use xlink:href=\"#glyph-1-18\" x=\"328.398438\" y=\"282.464844\"/>\n",
       "<use xlink:href=\"#glyph-1-19\" x=\"331.398438\" y=\"282.464844\"/>\n",
       "<use xlink:href=\"#glyph-1-10\" x=\"334.398438\" y=\"282.464844\"/>\n",
       "<use xlink:href=\"#glyph-1-9\" x=\"341.398438\" y=\"282.464844\"/>\n",
       "<use xlink:href=\"#glyph-1-20\" x=\"344.398438\" y=\"282.464844\"/>\n",
       "<use xlink:href=\"#glyph-1-20\" x=\"351.398438\" y=\"282.464844\"/>\n",
       "<use xlink:href=\"#glyph-1-13\" x=\"358.398438\" y=\"282.464844\"/>\n",
       "</g>\n",
       "</svg>\n"
      ],
      "text/plain": [
       "Plot with title “ROC Curves for Breast Cancer Dataset”"
      ]
     },
     "metadata": {
      "application/pdf": {
       "height": 480,
       "width": 480
      },
      "image/jpeg": {
       "height": 480,
       "width": 480
      },
      "image/png": {
       "height": 480,
       "width": 480
      },
      "image/svg+xml": {
       "height": 480,
       "isolated": true,
       "width": 480
      }
     },
     "output_type": "display_data"
    }
   ],
   "source": [
    "options(repr.plot.width = 8, repr.plot.height = 8) # Adjust these numbers so the plot looks good in your desktop.\n",
    "\n",
    "# ROC_full_log <- roc(\n",
    "#   response = ...,\n",
    "#   predictor = ...\n",
    "# )\n",
    "# plot(...,\n",
    "#   print.auc = TRUE, col = \"blue\", lwd = 3, lty = 2,\n",
    "#   main = \"ROC Curves for Breast Cancer Dataset\"\n",
    "# )\n",
    "\n",
    "# your code here\n",
    "ROC_full_log <- roc(\n",
    "  response = breast_cancer_train$target,\n",
    "  predictor = predict(breast_cancer_logistic_model, newdata=breast_cancer_train, type = \"response\")\n",
    ")\n",
    "plot(ROC_full_log,\n",
    "  print.auc = TRUE, col = \"blue\", lwd = 3, lty = 2,\n",
    "  main = \"ROC Curves for Breast Cancer Dataset\"\n",
    ")"
   ]
  },
  {
   "cell_type": "code",
   "execution_count": 29,
   "metadata": {
    "deletable": false,
    "editable": false,
    "nbgrader": {
     "cell_type": "code",
     "checksum": "8516440801e74c7dee6de2c68206d603",
     "grade": true,
     "grade_id": "cell-dc1845ad5804f178",
     "locked": true,
     "points": 1,
     "schema_version": 3,
     "solution": false,
     "task": false
    },
    "tags": []
   },
   "outputs": [
    {
     "name": "stdout",
     "output_type": "stream",
     "text": [
      "\u001b[32mTest passed\u001b[39m 🎉\n",
      "\u001b[32mTest passed\u001b[39m 😸\n",
      "[1] \"Success!\"\n"
     ]
    }
   ],
   "source": [
    "test_1.11()"
   ]
  },
  {
   "cell_type": "markdown",
   "metadata": {
    "deletable": false,
    "editable": false,
    "nbgrader": {
     "cell_type": "markdown",
     "checksum": "c931fa3783ef2544eddc6d1d992c2b5a",
     "grade": false,
     "grade_id": "cell-ce7b18eb07e85907",
     "locked": true,
     "schema_version": 3,
     "solution": false,
     "task": false
    }
   },
   "source": [
    "One last comment for this worksheet is that here we have used the training data to obtain the confusion matrix. As we know, the training data will most probably be underestimating our error. A much better approach would be to use a cross-validation or the test set to make a similar analysis. \n",
    "\n",
    "We abstained from this step to focus on the concepts but, in the tutorial, we will use cross-validation to evaluate the prediction accuracy of different classifiers."
   ]
  }
 ],
 "metadata": {
  "jupytext": {
   "formats": "ipynb,Rmd"
  },
  "kernelspec": {
   "display_name": "R",
   "language": "R",
   "name": "ir"
  },
  "language_info": {
   "codemirror_mode": "r",
   "file_extension": ".r",
   "mimetype": "text/x-r-source",
   "name": "R",
   "pygments_lexer": "r",
   "version": "4.2.3"
  }
 },
 "nbformat": 4,
 "nbformat_minor": 4
}
