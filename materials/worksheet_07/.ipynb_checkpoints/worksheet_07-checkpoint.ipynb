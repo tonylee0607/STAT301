{
 "cells": [
  {
   "cell_type": "markdown",
   "metadata": {
    "deletable": false,
    "editable": false,
    "nbgrader": {
     "cell_type": "markdown",
     "checksum": "32a95fc7dd24d9e80a38f71eb7348506",
     "grade": false,
     "grade_id": "cell-f1e1d845873036f4",
     "locked": true,
     "schema_version": 3,
     "solution": false,
     "task": false
    }
   },
   "source": [
    "# Worksheet 7: Model Evaluation and Model Selection"
   ]
  },
  {
   "cell_type": "markdown",
   "metadata": {
    "deletable": false,
    "editable": false,
    "nbgrader": {
     "cell_type": "markdown",
     "checksum": "4f368f4a802e15bd991322bf16951c73",
     "grade": false,
     "grade_id": "cell-82d9926086d47a80",
     "locked": true,
     "schema_version": 3,
     "solution": false,
     "task": false
    }
   },
   "source": [
    "#### Lecture and Tutorial Learning Goals:\n",
    "After completing this week's lecture and tutorial work, you will be able to:\n",
    "\n",
    "1. List model metrics that are suitable for evaluation of a statistical model developed to make inference about the data-generating mechanism (e.g., $R^2$, $\\text{AIC}$, Likelihood ratio test/$F$-test), their strengths and limitations, as well as how they are calculated.\n",
    "2. Write a computer script to calculate these model metrics. Interpret and communicate the results from that computer script.\n",
    "3. Explain the algorithms for the following variable selection methods:\n",
    "\n",
    "    - $F$-test to compare nested models.\n",
    "    - Forward selection.\n",
    "    - Backward selection."
   ]
  },
  {
   "cell_type": "code",
   "execution_count": 1,
   "metadata": {
    "deletable": false,
    "editable": false,
    "nbgrader": {
     "cell_type": "code",
     "checksum": "1b1929b686c9a0d8acade85a115075cc",
     "grade": false,
     "grade_id": "cell-a2a153352bc44a68",
     "locked": true,
     "schema_version": 3,
     "solution": false,
     "task": false
    },
    "tags": []
   },
   "outputs": [
    {
     "name": "stderr",
     "output_type": "stream",
     "text": [
      "── \u001b[1mAttaching core tidyverse packages\u001b[22m ──────────────────────── tidyverse 2.0.0 ──\n",
      "\u001b[32m✔\u001b[39m \u001b[34mdplyr    \u001b[39m 1.1.4     \u001b[32m✔\u001b[39m \u001b[34mreadr    \u001b[39m 2.1.4\n",
      "\u001b[32m✔\u001b[39m \u001b[34mforcats  \u001b[39m 1.0.0     \u001b[32m✔\u001b[39m \u001b[34mstringr  \u001b[39m 1.5.1\n",
      "\u001b[32m✔\u001b[39m \u001b[34mggplot2  \u001b[39m 3.4.4     \u001b[32m✔\u001b[39m \u001b[34mtibble   \u001b[39m 3.2.1\n",
      "\u001b[32m✔\u001b[39m \u001b[34mlubridate\u001b[39m 1.9.3     \u001b[32m✔\u001b[39m \u001b[34mtidyr    \u001b[39m 1.3.0\n",
      "\u001b[32m✔\u001b[39m \u001b[34mpurrr    \u001b[39m 1.0.2     \n",
      "── \u001b[1mConflicts\u001b[22m ────────────────────────────────────────── tidyverse_conflicts() ──\n",
      "\u001b[31m✖\u001b[39m \u001b[34mdplyr\u001b[39m::\u001b[32mfilter()\u001b[39m masks \u001b[34mstats\u001b[39m::filter()\n",
      "\u001b[31m✖\u001b[39m \u001b[34mdplyr\u001b[39m::\u001b[32mlag()\u001b[39m    masks \u001b[34mstats\u001b[39m::lag()\n",
      "\u001b[36mℹ\u001b[39m Use the conflicted package (\u001b[3m\u001b[34m<http://conflicted.r-lib.org/>\u001b[39m\u001b[23m) to force all conflicts to become errors\n",
      "\n",
      "Attaching package: ‘testthat’\n",
      "\n",
      "\n",
      "The following object is masked from ‘package:dplyr’:\n",
      "\n",
      "    matches\n",
      "\n",
      "\n",
      "The following object is masked from ‘package:purrr’:\n",
      "\n",
      "    is_null\n",
      "\n",
      "\n",
      "The following objects are masked from ‘package:readr’:\n",
      "\n",
      "    edition_get, local_edition\n",
      "\n",
      "\n",
      "The following object is masked from ‘package:tidyr’:\n",
      "\n",
      "    matches\n",
      "\n",
      "\n"
     ]
    }
   ],
   "source": [
    "# Run this cell before continuing.\n",
    "library(tidyverse)\n",
    "library(repr)\n",
    "library(broom)\n",
    "library(leaps)\n",
    "library(moderndive)\n",
    "source(\"tests_worksheet_07.R\")"
   ]
  },
  {
   "cell_type": "markdown",
   "metadata": {
    "deletable": false,
    "editable": false,
    "nbgrader": {
     "cell_type": "markdown",
     "checksum": "21a8dd22ad3be8c594d51bbde1d3ccc8",
     "grade": false,
     "grade_id": "cell-30d72e348848492c",
     "locked": true,
     "schema_version": 3,
     "solution": false,
     "task": false
    }
   },
   "source": [
    "# PART I: Model Evaluation of Generative Models"
   ]
  },
  {
   "cell_type": "markdown",
   "metadata": {
    "deletable": false,
    "editable": false,
    "nbgrader": {
     "cell_type": "markdown",
     "checksum": "83aa997a555a3c0e7a7a69886b6f8619",
     "grade": false,
     "grade_id": "cell-459184ff51dbea84",
     "locked": true,
     "schema_version": 3,
     "solution": false,
     "task": false
    }
   },
   "source": [
    "In this worksheet you will learn different methods to evaluate and select appropriate models to make inference about the data-generating mechanism. In other words, the main goal is to estimate and evaluate generative models."
   ]
  },
  {
   "cell_type": "markdown",
   "metadata": {
    "deletable": false,
    "editable": false,
    "nbgrader": {
     "cell_type": "markdown",
     "checksum": "86519b01e29e13e3710c3754c064c647",
     "grade": false,
     "grade_id": "cell-9be71f65643c5906",
     "locked": true,
     "schema_version": 3,
     "solution": false,
     "task": false
    }
   },
   "source": [
    "## Case Study: protein vs mRNA\n",
    "\n",
    "In this section we will continue working with the case study from Biology to learn how to examine the goodness of the fitted model and choose among different nested models. The data and some of the discussions related to this case were published in Nature (see citations below).\n",
    "\n",
    "In 2014, a research group claimed to find a \"predictive model\", which can be used to predict protein from mRNA expression!! \n",
    "\n",
    "> Wilhelm, M. et al. Mass-spectrometry-based draft of the human proteome. Nature 509, 582–587 (2014)\n",
    "\n",
    "Although their hypotheses were funded in the Central Dogma of Biology, most experimental results have shown very low correlation values between protein and mRNA values. \n",
    "\n",
    "Further examination of their analysis has shwon that their data do not support their claims:\n",
    "\n",
    "> Paper from my research group: Fortelny N, Overall CM, Pavlidis P, Freue GVC. Can we predict protein from mRNA levels? Nature. 2017 Jul 26;547(7664):E19-E20. doi: 10.1038/nature22293.\n",
    "\n",
    "We'll use data from this group submitted to the Journal to (re)analyse their data and evalute different models using concepts learned in this course.\n",
    "\n",
    "### Data\n",
    "\n",
    "Many proteins were not detected by the technology used due to values below limits of detection and the protein dataset contains many missing values!! For simplicity, we will use **a set of 1392 genes** that were measured in **all 12 tissues** and thus contain complete data on both protein and mRNA sets. \n",
    "\n",
    "*Run the cell below before continuing to read in the data and take a peek at it.* "
   ]
  },
  {
   "cell_type": "code",
   "execution_count": 2,
   "metadata": {
    "deletable": false,
    "editable": false,
    "nbgrader": {
     "cell_type": "code",
     "checksum": "292b5084366a95ec55f6d34ab90c9e36",
     "grade": false,
     "grade_id": "cell-c3a6eba286971086",
     "locked": true,
     "schema_version": 3,
     "solution": false,
     "task": false
    },
    "tags": []
   },
   "outputs": [
    {
     "name": "stdout",
     "output_type": "stream",
     "text": [
      "'data.frame':\t16704 obs. of  4 variables:\n",
      " $ gene  : Factor w/ 1392 levels \"ENSG00000000419\",..: 1 2 3 4 5 6 7 8 9 10 ...\n",
      " $ tissue: Factor w/ 12 levels \"adrenal.gland\",..: 12 12 12 12 12 12 12 12 12 12 ...\n",
      " $ prot  : num  9.97e-06 3.63e-05 1.69e-05 6.75e-05 5.55e-05 ...\n",
      " $ mrna  : num  3.44e-05 1.42e-05 1.92e-05 3.64e-05 3.89e-05 ...\n"
     ]
    },
    {
     "data": {
      "text/html": [
       "<table class=\"dataframe\">\n",
       "<caption>A data.frame: 3 × 4</caption>\n",
       "<thead>\n",
       "\t<tr><th></th><th scope=col>gene</th><th scope=col>tissue</th><th scope=col>prot</th><th scope=col>mrna</th></tr>\n",
       "\t<tr><th></th><th scope=col>&lt;fct&gt;</th><th scope=col>&lt;fct&gt;</th><th scope=col>&lt;dbl&gt;</th><th scope=col>&lt;dbl&gt;</th></tr>\n",
       "</thead>\n",
       "<tbody>\n",
       "\t<tr><th scope=row>1</th><td>ENSG00000000419</td><td>uterus</td><td>9.966484e-06</td><td>3.44e-05</td></tr>\n",
       "\t<tr><th scope=row>3</th><td>ENSG00000000971</td><td>uterus</td><td>3.633516e-05</td><td>1.42e-05</td></tr>\n",
       "\t<tr><th scope=row>5</th><td>ENSG00000001084</td><td>uterus</td><td>1.693588e-05</td><td>1.92e-05</td></tr>\n",
       "</tbody>\n",
       "</table>\n"
      ],
      "text/latex": [
       "A data.frame: 3 × 4\n",
       "\\begin{tabular}{r|llll}\n",
       "  & gene & tissue & prot & mrna\\\\\n",
       "  & <fct> & <fct> & <dbl> & <dbl>\\\\\n",
       "\\hline\n",
       "\t1 & ENSG00000000419 & uterus & 9.966484e-06 & 3.44e-05\\\\\n",
       "\t3 & ENSG00000000971 & uterus & 3.633516e-05 & 1.42e-05\\\\\n",
       "\t5 & ENSG00000001084 & uterus & 1.693588e-05 & 1.92e-05\\\\\n",
       "\\end{tabular}\n"
      ],
      "text/markdown": [
       "\n",
       "A data.frame: 3 × 4\n",
       "\n",
       "| <!--/--> | gene &lt;fct&gt; | tissue &lt;fct&gt; | prot &lt;dbl&gt; | mrna &lt;dbl&gt; |\n",
       "|---|---|---|---|---|\n",
       "| 1 | ENSG00000000419 | uterus | 9.966484e-06 | 3.44e-05 |\n",
       "| 3 | ENSG00000000971 | uterus | 3.633516e-05 | 1.42e-05 |\n",
       "| 5 | ENSG00000001084 | uterus | 1.693588e-05 | 1.92e-05 |\n",
       "\n"
      ],
      "text/plain": [
       "  gene            tissue prot         mrna    \n",
       "1 ENSG00000000419 uterus 9.966484e-06 3.44e-05\n",
       "3 ENSG00000000971 uterus 3.633516e-05 1.42e-05\n",
       "5 ENSG00000001084 uterus 1.693588e-05 1.92e-05"
      ]
     },
     "metadata": {},
     "output_type": "display_data"
    },
    {
     "data": {
      "text/html": [
       "<table class=\"dataframe\">\n",
       "<caption>A data.frame: 3 × 4</caption>\n",
       "<thead>\n",
       "\t<tr><th></th><th scope=col>gene</th><th scope=col>tissue</th><th scope=col>prot</th><th scope=col>mrna</th></tr>\n",
       "\t<tr><th></th><th scope=col>&lt;fct&gt;</th><th scope=col>&lt;fct&gt;</th><th scope=col>&lt;dbl&gt;</th><th scope=col>&lt;dbl&gt;</th></tr>\n",
       "</thead>\n",
       "<tbody>\n",
       "\t<tr><th scope=row>57882</th><td>ENSG00000262246</td><td>esophagus</td><td>3.337902e-05</td><td>6.90e-06</td></tr>\n",
       "\t<tr><th scope=row>57886</th><td>ENSG00000269190</td><td>esophagus</td><td>3.703505e-06</td><td>7.80e-06</td></tr>\n",
       "\t<tr><th scope=row>57888</th><td>ENSG00000272325</td><td>esophagus</td><td>2.574201e-05</td><td>1.35e-05</td></tr>\n",
       "</tbody>\n",
       "</table>\n"
      ],
      "text/latex": [
       "A data.frame: 3 × 4\n",
       "\\begin{tabular}{r|llll}\n",
       "  & gene & tissue & prot & mrna\\\\\n",
       "  & <fct> & <fct> & <dbl> & <dbl>\\\\\n",
       "\\hline\n",
       "\t57882 & ENSG00000262246 & esophagus & 3.337902e-05 & 6.90e-06\\\\\n",
       "\t57886 & ENSG00000269190 & esophagus & 3.703505e-06 & 7.80e-06\\\\\n",
       "\t57888 & ENSG00000272325 & esophagus & 2.574201e-05 & 1.35e-05\\\\\n",
       "\\end{tabular}\n"
      ],
      "text/markdown": [
       "\n",
       "A data.frame: 3 × 4\n",
       "\n",
       "| <!--/--> | gene &lt;fct&gt; | tissue &lt;fct&gt; | prot &lt;dbl&gt; | mrna &lt;dbl&gt; |\n",
       "|---|---|---|---|---|\n",
       "| 57882 | ENSG00000262246 | esophagus | 3.337902e-05 | 6.90e-06 |\n",
       "| 57886 | ENSG00000269190 | esophagus | 3.703505e-06 | 7.80e-06 |\n",
       "| 57888 | ENSG00000272325 | esophagus | 2.574201e-05 | 1.35e-05 |\n",
       "\n"
      ],
      "text/plain": [
       "      gene            tissue    prot         mrna    \n",
       "57882 ENSG00000262246 esophagus 3.337902e-05 6.90e-06\n",
       "57886 ENSG00000269190 esophagus 3.703505e-06 7.80e-06\n",
       "57888 ENSG00000272325 esophagus 2.574201e-05 1.35e-05"
      ]
     },
     "metadata": {},
     "output_type": "display_data"
    }
   ],
   "source": [
    "# Read and take a look at the data.\n",
    "dat_bio <- read.csv(\"data/nature_dat.csv\", row.names = 1, stringsAsFactors=TRUE)\n",
    "str(dat_bio)\n",
    "head(dat_bio,3)\n",
    "tail(dat_bio,3)"
   ]
  },
  {
   "cell_type": "markdown",
   "metadata": {
    "deletable": false,
    "editable": false,
    "nbgrader": {
     "cell_type": "markdown",
     "checksum": "1df774dff238548a24ca978a6a5cc4ad",
     "grade": false,
     "grade_id": "cell-e6b7bf58e2eb7a77",
     "locked": true,
     "schema_version": 3,
     "solution": false,
     "task": false
    }
   },
   "source": [
    "In this long format dataset, we can think that we have **1392 datasets**, one for each gene!\n",
    "\n",
    "> each dataset contains **12 observations**, one per tissue, and 2 variables, `prot` and `mrna`, along with an accession number for the gene (`gene`, an ID for each gene) and the name of the tissue (`tissue`, that works as an ID for each observation).\n",
    "\n",
    "*Run the cell below to get the data for gene ENSG00000085733.* "
   ]
  },
  {
   "cell_type": "code",
   "execution_count": 3,
   "metadata": {
    "deletable": false,
    "editable": false,
    "nbgrader": {
     "cell_type": "code",
     "checksum": "6ed8fd2d104ef35339e78069dc2e039c",
     "grade": false,
     "grade_id": "cell-28e85de12a1890ed",
     "locked": true,
     "schema_version": 3,
     "solution": false,
     "task": false
    },
    "tags": []
   },
   "outputs": [
    {
     "data": {
      "text/html": [
       "<table class=\"dataframe\">\n",
       "<caption>A data.frame: 12 × 4</caption>\n",
       "<thead>\n",
       "\t<tr><th></th><th scope=col>gene</th><th scope=col>tissue</th><th scope=col>prot</th><th scope=col>mrna</th></tr>\n",
       "\t<tr><th></th><th scope=col>&lt;fct&gt;</th><th scope=col>&lt;fct&gt;</th><th scope=col>&lt;dbl&gt;</th><th scope=col>&lt;dbl&gt;</th></tr>\n",
       "</thead>\n",
       "<tbody>\n",
       "\t<tr><th scope=row>585</th><td>ENSG00000085733</td><td>uterus        </td><td>1.648298e-06</td><td>0.0001278</td></tr>\n",
       "\t<tr><th scope=row>5409</th><td>ENSG00000085733</td><td>kidney        </td><td>1.349573e-05</td><td>0.0000673</td></tr>\n",
       "\t<tr><th scope=row>10233</th><td>ENSG00000085733</td><td>testis        </td><td>4.069264e-05</td><td>0.0000862</td></tr>\n",
       "\t<tr><th scope=row>15057</th><td>ENSG00000085733</td><td>pancreas      </td><td>9.279162e-06</td><td>0.0000358</td></tr>\n",
       "\t<tr><th scope=row>19881</th><td>ENSG00000085733</td><td>stomach       </td><td>2.254923e-05</td><td>0.0001167</td></tr>\n",
       "\t<tr><th scope=row>24705</th><td>ENSG00000085733</td><td>prostate      </td><td>6.259907e-06</td><td>0.0000931</td></tr>\n",
       "\t<tr><th scope=row>29529</th><td>ENSG00000085733</td><td>ovary         </td><td>8.225857e-05</td><td>0.0001345</td></tr>\n",
       "\t<tr><th scope=row>34353</th><td>ENSG00000085733</td><td>thyroid.gland </td><td>5.948111e-07</td><td>0.0000885</td></tr>\n",
       "\t<tr><th scope=row>39177</th><td>ENSG00000085733</td><td>adrenal.gland </td><td>2.461557e-05</td><td>0.0001172</td></tr>\n",
       "\t<tr><th scope=row>44001</th><td>ENSG00000085733</td><td>salivary.gland</td><td>6.050506e-05</td><td>0.0000661</td></tr>\n",
       "\t<tr><th scope=row>48825</th><td>ENSG00000085733</td><td>spleen        </td><td>1.854525e-05</td><td>0.0000661</td></tr>\n",
       "\t<tr><th scope=row>53649</th><td>ENSG00000085733</td><td>esophagus     </td><td>1.872389e-05</td><td>0.0000857</td></tr>\n",
       "</tbody>\n",
       "</table>\n"
      ],
      "text/latex": [
       "A data.frame: 12 × 4\n",
       "\\begin{tabular}{r|llll}\n",
       "  & gene & tissue & prot & mrna\\\\\n",
       "  & <fct> & <fct> & <dbl> & <dbl>\\\\\n",
       "\\hline\n",
       "\t585 & ENSG00000085733 & uterus         & 1.648298e-06 & 0.0001278\\\\\n",
       "\t5409 & ENSG00000085733 & kidney         & 1.349573e-05 & 0.0000673\\\\\n",
       "\t10233 & ENSG00000085733 & testis         & 4.069264e-05 & 0.0000862\\\\\n",
       "\t15057 & ENSG00000085733 & pancreas       & 9.279162e-06 & 0.0000358\\\\\n",
       "\t19881 & ENSG00000085733 & stomach        & 2.254923e-05 & 0.0001167\\\\\n",
       "\t24705 & ENSG00000085733 & prostate       & 6.259907e-06 & 0.0000931\\\\\n",
       "\t29529 & ENSG00000085733 & ovary          & 8.225857e-05 & 0.0001345\\\\\n",
       "\t34353 & ENSG00000085733 & thyroid.gland  & 5.948111e-07 & 0.0000885\\\\\n",
       "\t39177 & ENSG00000085733 & adrenal.gland  & 2.461557e-05 & 0.0001172\\\\\n",
       "\t44001 & ENSG00000085733 & salivary.gland & 6.050506e-05 & 0.0000661\\\\\n",
       "\t48825 & ENSG00000085733 & spleen         & 1.854525e-05 & 0.0000661\\\\\n",
       "\t53649 & ENSG00000085733 & esophagus      & 1.872389e-05 & 0.0000857\\\\\n",
       "\\end{tabular}\n"
      ],
      "text/markdown": [
       "\n",
       "A data.frame: 12 × 4\n",
       "\n",
       "| <!--/--> | gene &lt;fct&gt; | tissue &lt;fct&gt; | prot &lt;dbl&gt; | mrna &lt;dbl&gt; |\n",
       "|---|---|---|---|---|\n",
       "| 585 | ENSG00000085733 | uterus         | 1.648298e-06 | 0.0001278 |\n",
       "| 5409 | ENSG00000085733 | kidney         | 1.349573e-05 | 0.0000673 |\n",
       "| 10233 | ENSG00000085733 | testis         | 4.069264e-05 | 0.0000862 |\n",
       "| 15057 | ENSG00000085733 | pancreas       | 9.279162e-06 | 0.0000358 |\n",
       "| 19881 | ENSG00000085733 | stomach        | 2.254923e-05 | 0.0001167 |\n",
       "| 24705 | ENSG00000085733 | prostate       | 6.259907e-06 | 0.0000931 |\n",
       "| 29529 | ENSG00000085733 | ovary          | 8.225857e-05 | 0.0001345 |\n",
       "| 34353 | ENSG00000085733 | thyroid.gland  | 5.948111e-07 | 0.0000885 |\n",
       "| 39177 | ENSG00000085733 | adrenal.gland  | 2.461557e-05 | 0.0001172 |\n",
       "| 44001 | ENSG00000085733 | salivary.gland | 6.050506e-05 | 0.0000661 |\n",
       "| 48825 | ENSG00000085733 | spleen         | 1.854525e-05 | 0.0000661 |\n",
       "| 53649 | ENSG00000085733 | esophagus      | 1.872389e-05 | 0.0000857 |\n",
       "\n"
      ],
      "text/plain": [
       "      gene            tissue         prot         mrna     \n",
       "585   ENSG00000085733 uterus         1.648298e-06 0.0001278\n",
       "5409  ENSG00000085733 kidney         1.349573e-05 0.0000673\n",
       "10233 ENSG00000085733 testis         4.069264e-05 0.0000862\n",
       "15057 ENSG00000085733 pancreas       9.279162e-06 0.0000358\n",
       "19881 ENSG00000085733 stomach        2.254923e-05 0.0001167\n",
       "24705 ENSG00000085733 prostate       6.259907e-06 0.0000931\n",
       "29529 ENSG00000085733 ovary          8.225857e-05 0.0001345\n",
       "34353 ENSG00000085733 thyroid.gland  5.948111e-07 0.0000885\n",
       "39177 ENSG00000085733 adrenal.gland  2.461557e-05 0.0001172\n",
       "44001 ENSG00000085733 salivary.gland 6.050506e-05 0.0000661\n",
       "48825 ENSG00000085733 spleen         1.854525e-05 0.0000661\n",
       "53649 ENSG00000085733 esophagus      1.872389e-05 0.0000857"
      ]
     },
     "metadata": {},
     "output_type": "display_data"
    }
   ],
   "source": [
    "dat_ENSG00000085733 <- dat_bio  %>% subset(gene == \"ENSG00000085733\") \n",
    "dat_ENSG00000085733"
   ]
  },
  {
   "cell_type": "markdown",
   "metadata": {
    "deletable": false,
    "editable": false,
    "nbgrader": {
     "cell_type": "markdown",
     "checksum": "a200797af0d235c2390652c2fa70624f",
     "grade": false,
     "grade_id": "cell-4135e761a8664bad",
     "locked": true,
     "schema_version": 3,
     "solution": false,
     "task": false
    }
   },
   "source": [
    "### Models and Estimation\n",
    "\n",
    "In the paper, the authors used a linear regression to estimate the relation between protein and mRNA levels *per gene*, and used that model to predict protein levels *per gene*.\n",
    "\n",
    "> it will be important at a later phase of the analysis to note that models are *gene-specific*\n",
    "\n",
    "**Gene-specific models**: for each gene they estimated the following model (for simplicity we do not use a subscript $g$)  \n",
    "\n",
    "$$\\text{prot}_{t} = \\beta_1 \\; \\times \\text{mrna}_{t} + \\varepsilon_t$$ \n",
    "\n",
    "where $\\hat{\\beta}_1 = median_t(\\text{mrna}_{t}/\\text{prot}_{t})$\n",
    "\n",
    "> $prot_{t}$ and $mrna_{t}$ are the protein and mRNA levels of a gene $g$ in tissue $t$, respectively\n",
    "\n",
    "<font color=\"blue\"> Note that these models do not contain an intercept! and they were not estimated by LS.</font> \n",
    "    \n",
    "While in general different models and estimation methods can be used to analyze the same data, it is important to evaluate the results according to the assumptions and the methodology used. \n",
    "    \n",
    "**In this worksheet we will use this dataset to estimate different models and evaluate their fit to the data.**"
   ]
  },
  {
   "cell_type": "markdown",
   "metadata": {
    "deletable": false,
    "editable": false,
    "nbgrader": {
     "cell_type": "markdown",
     "checksum": "9cdb56ca4b66f4c701038cc35d4ed5aa",
     "grade": false,
     "grade_id": "cell-f76d01efb9d4c744",
     "locked": true,
     "schema_version": 3,
     "solution": false,
     "task": false
    }
   },
   "source": [
    "### 1. Gene-specific SLR for one selected gene\n",
    "\n",
    "For each gene we will use LS to estimate the following SLR (for simplicity we do not use a subscript $g$)  \n",
    "\n",
    "$$prot_{t} = \\beta_0 +\\beta_1 \\; \\times mrna_{t} + \\varepsilon$$ \n",
    "\n",
    "where $\\hat{\\beta}_1$ is estimated by LS"
   ]
  },
  {
   "cell_type": "markdown",
   "metadata": {
    "deletable": false,
    "editable": false,
    "nbgrader": {
     "cell_type": "markdown",
     "checksum": "582ef7625b84736b7daad8d5ffe78213",
     "grade": false,
     "grade_id": "cell-b6e85c5927c1dc25",
     "locked": true,
     "schema_version": 3,
     "solution": false,
     "task": false
    },
    "tags": []
   },
   "source": [
    "**Question 1.0: Visualization of the estimated line**\n",
    "<br>{points: 1}\n",
    "\n",
    "Using data from gene ENSG00000085733 in `dat_ENSG00000085733`, we can plot `prot` versus `mrna` **with points** and add the estimated SLR. The `ggplot()` object's name will be `SLR_ENSG00000085733_plot`\n",
    "\n",
    "*Fill out those parts indicated with `...`, uncomment the corresponding code in the cell below, and run it.*"
   ]
  },
  {
   "cell_type": "code",
   "execution_count": 4,
   "metadata": {
    "deletable": false,
    "nbgrader": {
     "cell_type": "code",
     "checksum": "7e5c37866bec72275dff358c61b63778",
     "grade": false,
     "grade_id": "cell-c23cc58da9842616",
     "locked": false,
     "schema_version": 3,
     "solution": true,
     "task": false
    },
    "tags": []
   },
   "outputs": [
    {
     "name": "stderr",
     "output_type": "stream",
     "text": [
      "\u001b[1m\u001b[22m`geom_smooth()` using formula = 'y ~ x'\n"
     ]
    },
    {
     "data": {
      "application/pdf": "[encoded data removed]",
      "image/jpeg": "[encoded data removed]",
      "image/png": "[encoded data removed]",
      "image/svg+xml": [
       "<?xml version=\"1.0\" encoding=\"UTF-8\"?>\n",
       "<svg xmlns=\"http://www.w3.org/2000/svg\" xmlns:xlink=\"http://www.w3.org/1999/xlink\" width=\"432\" height=\"216\" viewBox=\"0 0 432 216\">\n",
       "<defs>\n",
       "<g>\n",
       "<g id=\"glyph-0-0\">\n",
       "<path d=\"M 4.140625 -2.75 C 4.140625 -2.226562 4.085938 -1.785156 3.984375 -1.421875 C 3.890625 -1.054688 3.753906 -0.765625 3.578125 -0.546875 C 3.398438 -0.328125 3.191406 -0.164062 2.953125 -0.0625 C 2.722656 0.03125 2.476562 0.078125 2.21875 0.078125 C 1.945312 0.078125 1.695312 0.03125 1.46875 -0.0625 C 1.238281 -0.164062 1.035156 -0.328125 0.859375 -0.546875 C 0.691406 -0.765625 0.554688 -1.050781 0.453125 -1.40625 C 0.359375 -1.769531 0.3125 -2.21875 0.3125 -2.75 C 0.3125 -3.3125 0.359375 -3.769531 0.453125 -4.125 C 0.554688 -4.488281 0.691406 -4.78125 0.859375 -5 C 1.035156 -5.21875 1.238281 -5.367188 1.46875 -5.453125 C 1.707031 -5.546875 1.960938 -5.59375 2.234375 -5.59375 C 2.503906 -5.59375 2.753906 -5.546875 2.984375 -5.453125 C 3.210938 -5.367188 3.410156 -5.21875 3.578125 -5 C 3.753906 -4.78125 3.890625 -4.488281 3.984375 -4.125 C 4.085938 -3.769531 4.140625 -3.3125 4.140625 -2.75 Z M 3.421875 -2.75 C 3.421875 -3.1875 3.394531 -3.550781 3.34375 -3.84375 C 3.289062 -4.132812 3.210938 -4.363281 3.109375 -4.53125 C 3.015625 -4.707031 2.890625 -4.832031 2.734375 -4.90625 C 2.585938 -4.976562 2.421875 -5.015625 2.234375 -5.015625 C 2.035156 -5.015625 1.859375 -4.976562 1.703125 -4.90625 C 1.554688 -4.832031 1.429688 -4.707031 1.328125 -4.53125 C 1.234375 -4.363281 1.160156 -4.132812 1.109375 -3.84375 C 1.054688 -3.550781 1.03125 -3.1875 1.03125 -2.75 C 1.03125 -2.332031 1.054688 -1.976562 1.109375 -1.6875 C 1.160156 -1.394531 1.238281 -1.160156 1.34375 -0.984375 C 1.445312 -0.816406 1.570312 -0.691406 1.71875 -0.609375 C 1.863281 -0.535156 2.03125 -0.5 2.21875 -0.5 C 2.40625 -0.5 2.570312 -0.535156 2.71875 -0.609375 C 2.875 -0.691406 3 -0.816406 3.09375 -0.984375 C 3.195312 -1.160156 3.273438 -1.394531 3.328125 -1.6875 C 3.390625 -1.976562 3.421875 -2.332031 3.421875 -2.75 Z M 3.421875 -2.75 \"/>\n",
       "</g>\n",
       "<g id=\"glyph-0-1\">\n",
       "<path d=\"M 1.078125 -1.96875 C 1.078125 -1.75 1.097656 -1.546875 1.140625 -1.359375 C 1.191406 -1.171875 1.265625 -1.007812 1.359375 -0.875 C 1.453125 -0.738281 1.570312 -0.632812 1.71875 -0.5625 C 1.875 -0.488281 2.054688 -0.453125 2.265625 -0.453125 C 2.566406 -0.453125 2.804688 -0.507812 2.984375 -0.625 C 3.171875 -0.75 3.296875 -0.90625 3.359375 -1.09375 L 3.984375 -0.921875 C 3.941406 -0.804688 3.878906 -0.6875 3.796875 -0.5625 C 3.710938 -0.445312 3.601562 -0.34375 3.46875 -0.25 C 3.34375 -0.15625 3.179688 -0.078125 2.984375 -0.015625 C 2.785156 0.046875 2.546875 0.078125 2.265625 0.078125 C 1.640625 0.078125 1.160156 -0.109375 0.828125 -0.484375 C 0.503906 -0.859375 0.34375 -1.410156 0.34375 -2.140625 C 0.34375 -2.535156 0.390625 -2.867188 0.484375 -3.140625 C 0.585938 -3.421875 0.722656 -3.644531 0.890625 -3.8125 C 1.066406 -3.988281 1.269531 -4.113281 1.5 -4.1875 C 1.726562 -4.269531 1.972656 -4.3125 2.234375 -4.3125 C 2.585938 -4.3125 2.882812 -4.253906 3.125 -4.140625 C 3.363281 -4.023438 3.550781 -3.863281 3.6875 -3.65625 C 3.832031 -3.457031 3.9375 -3.21875 4 -2.9375 C 4.0625 -2.664062 4.09375 -2.375 4.09375 -2.0625 L 4.09375 -1.96875 Z M 3.375 -2.5 C 3.332031 -2.945312 3.21875 -3.269531 3.03125 -3.46875 C 2.84375 -3.675781 2.570312 -3.78125 2.21875 -3.78125 C 2.101562 -3.78125 1.976562 -3.757812 1.84375 -3.71875 C 1.71875 -3.6875 1.597656 -3.625 1.484375 -3.53125 C 1.378906 -3.4375 1.289062 -3.304688 1.21875 -3.140625 C 1.144531 -2.972656 1.101562 -2.757812 1.09375 -2.5 Z M 3.375 -2.5 \"/>\n",
       "</g>\n",
       "<g id=\"glyph-0-2\">\n",
       "<path d=\"M 2.625 -2.375 L 2.625 -0.703125 L 2.046875 -0.703125 L 2.046875 -2.375 L 0.390625 -2.375 L 0.390625 -2.953125 L 2.046875 -2.953125 L 2.046875 -4.625 L 2.625 -4.625 L 2.625 -2.953125 L 4.28125 -2.953125 L 4.28125 -2.375 Z M 2.625 -2.375 \"/>\n",
       "</g>\n",
       "<g id=\"glyph-0-3\">\n",
       "<path d=\"M 0.40625 0 L 0.40625 -0.5 C 0.539062 -0.800781 0.703125 -1.066406 0.890625 -1.296875 C 1.078125 -1.535156 1.273438 -1.75 1.484375 -1.9375 C 1.703125 -2.125 1.914062 -2.296875 2.125 -2.453125 C 2.332031 -2.617188 2.519531 -2.78125 2.6875 -2.9375 C 2.851562 -3.101562 2.984375 -3.273438 3.078125 -3.453125 C 3.179688 -3.628906 3.234375 -3.832031 3.234375 -4.0625 C 3.234375 -4.21875 3.207031 -4.351562 3.15625 -4.46875 C 3.113281 -4.582031 3.046875 -4.679688 2.953125 -4.765625 C 2.867188 -4.847656 2.765625 -4.910156 2.640625 -4.953125 C 2.523438 -4.992188 2.390625 -5.015625 2.234375 -5.015625 C 2.097656 -5.015625 1.96875 -4.992188 1.84375 -4.953125 C 1.71875 -4.910156 1.601562 -4.847656 1.5 -4.765625 C 1.40625 -4.691406 1.328125 -4.597656 1.265625 -4.484375 C 1.210938 -4.367188 1.175781 -4.234375 1.15625 -4.078125 L 0.4375 -4.140625 C 0.457031 -4.335938 0.507812 -4.523438 0.59375 -4.703125 C 0.6875 -4.878906 0.804688 -5.03125 0.953125 -5.15625 C 1.109375 -5.289062 1.289062 -5.394531 1.5 -5.46875 C 1.707031 -5.550781 1.953125 -5.59375 2.234375 -5.59375 C 2.503906 -5.59375 2.742188 -5.554688 2.953125 -5.484375 C 3.171875 -5.421875 3.351562 -5.328125 3.5 -5.203125 C 3.65625 -5.078125 3.769531 -4.921875 3.84375 -4.734375 C 3.925781 -4.546875 3.96875 -4.328125 3.96875 -4.078125 C 3.96875 -3.890625 3.929688 -3.710938 3.859375 -3.546875 C 3.796875 -3.378906 3.707031 -3.21875 3.59375 -3.0625 C 3.488281 -2.914062 3.363281 -2.769531 3.21875 -2.625 C 3.070312 -2.488281 2.914062 -2.351562 2.75 -2.21875 C 2.59375 -2.09375 2.429688 -1.960938 2.265625 -1.828125 C 2.109375 -1.691406 1.957031 -1.554688 1.8125 -1.421875 C 1.675781 -1.296875 1.550781 -1.164062 1.4375 -1.03125 C 1.320312 -0.894531 1.234375 -0.75 1.171875 -0.59375 L 4.046875 -0.59375 L 4.046875 0 Z M 0.40625 0 \"/>\n",
       "</g>\n",
       "<g id=\"glyph-0-4\">\n",
       "<path d=\"M 0.359375 -1.8125 L 0.359375 -2.4375 L 2.3125 -2.4375 L 2.3125 -1.8125 Z M 0.359375 -1.8125 \"/>\n",
       "</g>\n",
       "<g id=\"glyph-0-5\">\n",
       "<path d=\"M 4.109375 -1.796875 C 4.109375 -1.515625 4.066406 -1.257812 3.984375 -1.03125 C 3.898438 -0.800781 3.773438 -0.601562 3.609375 -0.4375 C 3.453125 -0.28125 3.25 -0.15625 3 -0.0625 C 2.757812 0.03125 2.476562 0.078125 2.15625 0.078125 C 1.875 0.078125 1.625 0.046875 1.40625 -0.015625 C 1.1875 -0.0859375 1.003906 -0.179688 0.859375 -0.296875 C 0.710938 -0.421875 0.59375 -0.5625 0.5 -0.71875 C 0.414062 -0.875 0.359375 -1.046875 0.328125 -1.234375 L 1.03125 -1.3125 C 1.0625 -1.207031 1.101562 -1.101562 1.15625 -1 C 1.207031 -0.90625 1.273438 -0.820312 1.359375 -0.75 C 1.453125 -0.675781 1.5625 -0.613281 1.6875 -0.5625 C 1.820312 -0.519531 1.984375 -0.5 2.171875 -0.5 C 2.359375 -0.5 2.523438 -0.523438 2.671875 -0.578125 C 2.816406 -0.640625 2.941406 -0.722656 3.046875 -0.828125 C 3.160156 -0.941406 3.242188 -1.078125 3.296875 -1.234375 C 3.359375 -1.390625 3.390625 -1.570312 3.390625 -1.78125 C 3.390625 -1.945312 3.359375 -2.097656 3.296875 -2.234375 C 3.242188 -2.378906 3.164062 -2.503906 3.0625 -2.609375 C 2.96875 -2.710938 2.84375 -2.789062 2.6875 -2.84375 C 2.539062 -2.90625 2.375 -2.9375 2.1875 -2.9375 C 2.070312 -2.9375 1.960938 -2.925781 1.859375 -2.90625 C 1.765625 -2.882812 1.675781 -2.851562 1.59375 -2.8125 C 1.507812 -2.78125 1.429688 -2.738281 1.359375 -2.6875 C 1.296875 -2.644531 1.234375 -2.597656 1.171875 -2.546875 L 0.484375 -2.546875 L 0.671875 -5.5 L 3.796875 -5.5 L 3.796875 -4.90625 L 1.3125 -4.90625 L 1.203125 -3.15625 C 1.328125 -3.257812 1.484375 -3.34375 1.671875 -3.40625 C 1.859375 -3.476562 2.082031 -3.515625 2.34375 -3.515625 C 2.613281 -3.515625 2.859375 -3.472656 3.078125 -3.390625 C 3.296875 -3.304688 3.476562 -3.1875 3.625 -3.03125 C 3.78125 -2.882812 3.898438 -2.703125 3.984375 -2.484375 C 4.066406 -2.273438 4.109375 -2.046875 4.109375 -1.796875 Z M 4.109375 -1.796875 \"/>\n",
       "</g>\n",
       "<g id=\"glyph-0-6\">\n",
       "<path d=\"M 3.4375 -1.25 L 3.4375 0 L 2.78125 0 L 2.78125 -1.25 L 0.1875 -1.25 L 0.1875 -1.796875 L 2.703125 -5.5 L 3.4375 -5.5 L 3.4375 -1.796875 L 4.21875 -1.796875 L 4.21875 -1.25 Z M 2.78125 -4.71875 C 2.769531 -4.695312 2.753906 -4.664062 2.734375 -4.625 C 2.710938 -4.59375 2.6875 -4.550781 2.65625 -4.5 C 2.632812 -4.457031 2.609375 -4.410156 2.578125 -4.359375 C 2.554688 -4.316406 2.535156 -4.28125 2.515625 -4.25 L 1.109375 -2.171875 C 1.097656 -2.148438 1.078125 -2.117188 1.046875 -2.078125 C 1.023438 -2.046875 1 -2.015625 0.96875 -1.984375 C 0.945312 -1.953125 0.921875 -1.914062 0.890625 -1.875 C 0.867188 -1.84375 0.847656 -1.816406 0.828125 -1.796875 L 2.78125 -1.796875 Z M 2.78125 -4.71875 \"/>\n",
       "</g>\n",
       "<g id=\"glyph-0-7\">\n",
       "<path d=\"M 4.09375 -1.796875 C 4.09375 -1.523438 4.054688 -1.273438 3.984375 -1.046875 C 3.910156 -0.816406 3.796875 -0.617188 3.640625 -0.453125 C 3.492188 -0.285156 3.304688 -0.15625 3.078125 -0.0625 C 2.859375 0.03125 2.609375 0.078125 2.328125 0.078125 C 2.003906 0.078125 1.722656 0.015625 1.484375 -0.109375 C 1.242188 -0.234375 1.039062 -0.410156 0.875 -0.640625 C 0.71875 -0.867188 0.597656 -1.148438 0.515625 -1.484375 C 0.441406 -1.816406 0.40625 -2.195312 0.40625 -2.625 C 0.40625 -3.113281 0.445312 -3.539062 0.53125 -3.90625 C 0.625 -4.28125 0.753906 -4.59375 0.921875 -4.84375 C 1.097656 -5.09375 1.304688 -5.28125 1.546875 -5.40625 C 1.796875 -5.53125 2.070312 -5.59375 2.375 -5.59375 C 2.5625 -5.59375 2.738281 -5.570312 2.90625 -5.53125 C 3.070312 -5.488281 3.21875 -5.421875 3.34375 -5.328125 C 3.476562 -5.242188 3.597656 -5.128906 3.703125 -4.984375 C 3.804688 -4.847656 3.890625 -4.675781 3.953125 -4.46875 L 3.28125 -4.34375 C 3.207031 -4.582031 3.085938 -4.753906 2.921875 -4.859375 C 2.765625 -4.960938 2.582031 -5.015625 2.375 -5.015625 C 2.175781 -5.015625 2 -4.96875 1.84375 -4.875 C 1.6875 -4.789062 1.550781 -4.65625 1.4375 -4.46875 C 1.332031 -4.289062 1.25 -4.0625 1.1875 -3.78125 C 1.132812 -3.507812 1.109375 -3.191406 1.109375 -2.828125 C 1.234375 -3.066406 1.410156 -3.25 1.640625 -3.375 C 1.878906 -3.5 2.144531 -3.5625 2.4375 -3.5625 C 2.6875 -3.5625 2.910156 -3.519531 3.109375 -3.4375 C 3.316406 -3.351562 3.492188 -3.234375 3.640625 -3.078125 C 3.785156 -2.929688 3.894531 -2.75 3.96875 -2.53125 C 4.050781 -2.3125 4.09375 -2.066406 4.09375 -1.796875 Z M 3.390625 -1.765625 C 3.390625 -1.960938 3.363281 -2.132812 3.3125 -2.28125 C 3.269531 -2.4375 3.203125 -2.566406 3.109375 -2.671875 C 3.015625 -2.785156 2.894531 -2.867188 2.75 -2.921875 C 2.613281 -2.984375 2.457031 -3.015625 2.28125 -3.015625 C 2.144531 -3.015625 2.007812 -2.992188 1.875 -2.953125 C 1.75 -2.921875 1.632812 -2.863281 1.53125 -2.78125 C 1.425781 -2.695312 1.335938 -2.582031 1.265625 -2.4375 C 1.203125 -2.300781 1.171875 -2.132812 1.171875 -1.9375 C 1.171875 -1.738281 1.195312 -1.550781 1.25 -1.375 C 1.300781 -1.195312 1.375 -1.039062 1.46875 -0.90625 C 1.570312 -0.78125 1.691406 -0.675781 1.828125 -0.59375 C 1.972656 -0.519531 2.128906 -0.484375 2.296875 -0.484375 C 2.460938 -0.484375 2.613281 -0.515625 2.75 -0.578125 C 2.882812 -0.640625 3 -0.722656 3.09375 -0.828125 C 3.1875 -0.941406 3.257812 -1.078125 3.3125 -1.234375 C 3.363281 -1.390625 3.390625 -1.566406 3.390625 -1.765625 Z M 3.390625 -1.765625 \"/>\n",
       "</g>\n",
       "<g id=\"glyph-0-8\">\n",
       "<path d=\"M 4.109375 -1.53125 C 4.109375 -1.300781 4.066406 -1.085938 3.984375 -0.890625 C 3.910156 -0.691406 3.796875 -0.519531 3.640625 -0.375 C 3.492188 -0.238281 3.300781 -0.128906 3.0625 -0.046875 C 2.832031 0.0351562 2.554688 0.078125 2.234375 0.078125 C 1.910156 0.078125 1.628906 0.0351562 1.390625 -0.046875 C 1.148438 -0.128906 0.953125 -0.238281 0.796875 -0.375 C 0.648438 -0.519531 0.535156 -0.691406 0.453125 -0.890625 C 0.378906 -1.085938 0.34375 -1.300781 0.34375 -1.53125 C 0.34375 -1.726562 0.375 -1.90625 0.4375 -2.0625 C 0.5 -2.21875 0.582031 -2.351562 0.6875 -2.46875 C 0.789062 -2.582031 0.90625 -2.671875 1.03125 -2.734375 C 1.164062 -2.804688 1.304688 -2.851562 1.453125 -2.875 L 1.453125 -2.890625 C 1.296875 -2.929688 1.15625 -2.988281 1.03125 -3.0625 C 0.914062 -3.144531 0.816406 -3.242188 0.734375 -3.359375 C 0.648438 -3.472656 0.585938 -3.597656 0.546875 -3.734375 C 0.503906 -3.878906 0.484375 -4.023438 0.484375 -4.171875 C 0.484375 -4.367188 0.519531 -4.550781 0.59375 -4.71875 C 0.664062 -4.894531 0.773438 -5.046875 0.921875 -5.171875 C 1.066406 -5.296875 1.242188 -5.394531 1.453125 -5.46875 C 1.671875 -5.550781 1.925781 -5.59375 2.21875 -5.59375 C 2.507812 -5.59375 2.765625 -5.550781 2.984375 -5.46875 C 3.210938 -5.394531 3.394531 -5.289062 3.53125 -5.15625 C 3.675781 -5.03125 3.785156 -4.878906 3.859375 -4.703125 C 3.929688 -4.535156 3.96875 -4.359375 3.96875 -4.171875 C 3.96875 -4.015625 3.945312 -3.867188 3.90625 -3.734375 C 3.863281 -3.597656 3.800781 -3.472656 3.71875 -3.359375 C 3.632812 -3.242188 3.53125 -3.144531 3.40625 -3.0625 C 3.289062 -2.988281 3.148438 -2.9375 2.984375 -2.90625 L 2.984375 -2.890625 C 3.148438 -2.859375 3.300781 -2.804688 3.4375 -2.734375 C 3.570312 -2.671875 3.6875 -2.582031 3.78125 -2.46875 C 3.882812 -2.351562 3.960938 -2.21875 4.015625 -2.0625 C 4.078125 -1.90625 4.109375 -1.726562 4.109375 -1.53125 Z M 3.234375 -4.125 C 3.234375 -4.269531 3.210938 -4.398438 3.171875 -4.515625 C 3.140625 -4.628906 3.082031 -4.722656 3 -4.796875 C 2.925781 -4.878906 2.820312 -4.941406 2.6875 -4.984375 C 2.5625 -5.035156 2.40625 -5.0625 2.21875 -5.0625 C 2.03125 -5.0625 1.867188 -5.035156 1.734375 -4.984375 C 1.609375 -4.941406 1.503906 -4.878906 1.421875 -4.796875 C 1.347656 -4.722656 1.289062 -4.628906 1.25 -4.515625 C 1.21875 -4.398438 1.203125 -4.269531 1.203125 -4.125 C 1.203125 -4.019531 1.210938 -3.910156 1.234375 -3.796875 C 1.265625 -3.679688 1.316406 -3.578125 1.390625 -3.484375 C 1.472656 -3.390625 1.578125 -3.3125 1.703125 -3.25 C 1.835938 -3.1875 2.007812 -3.15625 2.21875 -3.15625 C 2.4375 -3.15625 2.613281 -3.1875 2.75 -3.25 C 2.882812 -3.3125 2.988281 -3.390625 3.0625 -3.484375 C 3.132812 -3.578125 3.179688 -3.679688 3.203125 -3.796875 C 3.222656 -3.910156 3.234375 -4.019531 3.234375 -4.125 Z M 3.375 -1.609375 C 3.375 -1.734375 3.351562 -1.859375 3.3125 -1.984375 C 3.28125 -2.109375 3.21875 -2.21875 3.125 -2.3125 C 3.039062 -2.40625 2.921875 -2.484375 2.765625 -2.546875 C 2.617188 -2.609375 2.4375 -2.640625 2.21875 -2.640625 C 2.007812 -2.640625 1.832031 -2.609375 1.6875 -2.546875 C 1.539062 -2.484375 1.421875 -2.40625 1.328125 -2.3125 C 1.242188 -2.21875 1.179688 -2.109375 1.140625 -1.984375 C 1.097656 -1.859375 1.078125 -1.726562 1.078125 -1.59375 C 1.078125 -1.414062 1.097656 -1.257812 1.140625 -1.125 C 1.179688 -0.988281 1.242188 -0.867188 1.328125 -0.765625 C 1.421875 -0.660156 1.539062 -0.582031 1.6875 -0.53125 C 1.84375 -0.476562 2.023438 -0.453125 2.234375 -0.453125 C 2.453125 -0.453125 2.632812 -0.476562 2.78125 -0.53125 C 2.925781 -0.582031 3.039062 -0.660156 3.125 -0.765625 C 3.21875 -0.867188 3.28125 -0.988281 3.3125 -1.125 C 3.351562 -1.269531 3.375 -1.429688 3.375 -1.609375 Z M 3.375 -1.609375 \"/>\n",
       "</g>\n",
       "<g id=\"glyph-0-9\">\n",
       "<path d=\"M 0.734375 0 L 0.734375 -0.859375 L 1.5 -0.859375 L 1.5 0 Z M 0.734375 0 \"/>\n",
       "</g>\n",
       "<g id=\"glyph-0-10\">\n",
       "<path d=\"M 4.078125 -2.859375 C 4.078125 -2.367188 4.03125 -1.941406 3.9375 -1.578125 C 3.84375 -1.210938 3.707031 -0.90625 3.53125 -0.65625 C 3.363281 -0.414062 3.15625 -0.234375 2.90625 -0.109375 C 2.664062 0.015625 2.390625 0.078125 2.078125 0.078125 C 1.867188 0.078125 1.675781 0.0546875 1.5 0.015625 C 1.332031 -0.0234375 1.179688 -0.09375 1.046875 -0.1875 C 0.921875 -0.28125 0.8125 -0.398438 0.71875 -0.546875 C 0.625 -0.691406 0.546875 -0.867188 0.484375 -1.078125 L 1.15625 -1.171875 C 1.226562 -0.941406 1.34375 -0.769531 1.5 -0.65625 C 1.65625 -0.539062 1.851562 -0.484375 2.09375 -0.484375 C 2.28125 -0.484375 2.453125 -0.53125 2.609375 -0.625 C 2.765625 -0.71875 2.898438 -0.851562 3.015625 -1.03125 C 3.128906 -1.207031 3.21875 -1.429688 3.28125 -1.703125 C 3.34375 -1.972656 3.375 -2.289062 3.375 -2.65625 C 3.320312 -2.53125 3.25 -2.421875 3.15625 -2.328125 C 3.0625 -2.234375 2.953125 -2.148438 2.828125 -2.078125 C 2.703125 -2.015625 2.566406 -1.960938 2.421875 -1.921875 C 2.285156 -1.890625 2.148438 -1.875 2.015625 -1.875 C 1.765625 -1.875 1.535156 -1.921875 1.328125 -2.015625 C 1.128906 -2.109375 0.957031 -2.234375 0.8125 -2.390625 C 0.675781 -2.554688 0.566406 -2.75 0.484375 -2.96875 C 0.410156 -3.195312 0.375 -3.453125 0.375 -3.734375 C 0.375 -4.015625 0.414062 -4.269531 0.5 -4.5 C 0.582031 -4.726562 0.703125 -4.921875 0.859375 -5.078125 C 1.015625 -5.242188 1.207031 -5.367188 1.4375 -5.453125 C 1.664062 -5.546875 1.921875 -5.59375 2.203125 -5.59375 C 2.816406 -5.59375 3.28125 -5.363281 3.59375 -4.90625 C 3.914062 -4.457031 4.078125 -3.773438 4.078125 -2.859375 Z M 3.3125 -3.546875 C 3.3125 -3.742188 3.285156 -3.929688 3.234375 -4.109375 C 3.179688 -4.296875 3.109375 -4.453125 3.015625 -4.578125 C 2.921875 -4.710938 2.800781 -4.816406 2.65625 -4.890625 C 2.519531 -4.972656 2.363281 -5.015625 2.1875 -5.015625 C 2.019531 -5.015625 1.867188 -4.984375 1.734375 -4.921875 C 1.597656 -4.867188 1.484375 -4.785156 1.390625 -4.671875 C 1.296875 -4.554688 1.222656 -4.421875 1.171875 -4.265625 C 1.117188 -4.109375 1.09375 -3.929688 1.09375 -3.734375 C 1.09375 -3.546875 1.113281 -3.375 1.15625 -3.21875 C 1.207031 -3.0625 1.273438 -2.925781 1.359375 -2.8125 C 1.453125 -2.695312 1.566406 -2.601562 1.703125 -2.53125 C 1.835938 -2.46875 1.992188 -2.4375 2.171875 -2.4375 C 2.304688 -2.4375 2.441406 -2.457031 2.578125 -2.5 C 2.710938 -2.539062 2.832031 -2.609375 2.9375 -2.703125 C 3.039062 -2.796875 3.128906 -2.910156 3.203125 -3.046875 C 3.273438 -3.191406 3.3125 -3.359375 3.3125 -3.546875 Z M 3.3125 -3.546875 \"/>\n",
       "</g>\n",
       "<g id=\"glyph-0-11\">\n",
       "<path d=\"M 0.609375 0 L 0.609375 -0.59375 L 2.015625 -0.59375 L 2.015625 -4.828125 L 0.765625 -3.953125 L 0.765625 -4.609375 L 2.078125 -5.5 L 2.71875 -5.5 L 2.71875 -0.59375 L 4.0625 -0.59375 L 4.0625 0 Z M 0.609375 0 \"/>\n",
       "</g>\n",
       "<g id=\"glyph-1-0\">\n",
       "<path d=\"M 3.8125 0 L 3.8125 -2.96875 C 3.8125 -3.164062 3.796875 -3.347656 3.765625 -3.515625 C 3.734375 -3.691406 3.6875 -3.84375 3.625 -3.96875 C 3.5625 -4.09375 3.476562 -4.1875 3.375 -4.25 C 3.28125 -4.320312 3.160156 -4.359375 3.015625 -4.359375 C 2.867188 -4.359375 2.738281 -4.320312 2.625 -4.25 C 2.507812 -4.175781 2.410156 -4.070312 2.328125 -3.9375 C 2.242188 -3.800781 2.179688 -3.640625 2.140625 -3.453125 C 2.097656 -3.265625 2.078125 -3.054688 2.078125 -2.828125 L 2.078125 0 L 0.703125 0 L 0.703125 -4.109375 C 0.703125 -4.210938 0.695312 -4.328125 0.6875 -4.453125 C 0.6875 -4.578125 0.679688 -4.691406 0.671875 -4.796875 C 0.671875 -4.910156 0.671875 -5.007812 0.671875 -5.09375 C 0.671875 -5.175781 0.664062 -5.238281 0.65625 -5.28125 L 1.96875 -5.28125 C 1.976562 -5.238281 1.984375 -5.175781 1.984375 -5.09375 C 1.992188 -5.007812 2 -4.914062 2 -4.8125 C 2.007812 -4.707031 2.015625 -4.601562 2.015625 -4.5 C 2.023438 -4.394531 2.03125 -4.304688 2.03125 -4.234375 L 2.046875 -4.234375 C 2.222656 -4.640625 2.4375 -4.929688 2.6875 -5.109375 C 2.9375 -5.296875 3.238281 -5.390625 3.59375 -5.390625 C 3.988281 -5.390625 4.3125 -5.289062 4.5625 -5.09375 C 4.8125 -4.894531 4.976562 -4.609375 5.0625 -4.234375 L 5.09375 -4.234375 C 5.1875 -4.453125 5.285156 -4.632812 5.390625 -4.78125 C 5.503906 -4.925781 5.625 -5.039062 5.75 -5.125 C 5.882812 -5.21875 6.03125 -5.285156 6.1875 -5.328125 C 6.34375 -5.367188 6.507812 -5.390625 6.6875 -5.390625 C 6.976562 -5.390625 7.222656 -5.335938 7.421875 -5.234375 C 7.617188 -5.128906 7.78125 -4.984375 7.90625 -4.796875 C 8.03125 -4.617188 8.117188 -4.40625 8.171875 -4.15625 C 8.234375 -3.90625 8.265625 -3.640625 8.265625 -3.359375 L 8.265625 0 L 6.90625 0 L 6.90625 -2.96875 C 6.90625 -3.164062 6.890625 -3.347656 6.859375 -3.515625 C 6.835938 -3.691406 6.796875 -3.84375 6.734375 -3.96875 C 6.671875 -4.09375 6.585938 -4.1875 6.484375 -4.25 C 6.378906 -4.320312 6.253906 -4.359375 6.109375 -4.359375 C 5.972656 -4.359375 5.847656 -4.320312 5.734375 -4.25 C 5.617188 -4.175781 5.519531 -4.078125 5.4375 -3.953125 C 5.351562 -3.828125 5.289062 -3.671875 5.25 -3.484375 C 5.207031 -3.304688 5.179688 -3.109375 5.171875 -2.890625 L 5.171875 0 Z M 3.8125 0 \"/>\n",
       "</g>\n",
       "<g id=\"glyph-1-1\">\n",
       "<path d=\"M 5.390625 0 L 3.796875 -2.609375 L 2.109375 -2.609375 L 2.109375 0 L 0.671875 0 L 0.671875 -6.875 L 4.109375 -6.875 C 4.535156 -6.875 4.910156 -6.828125 5.234375 -6.734375 C 5.554688 -6.640625 5.820312 -6.503906 6.03125 -6.328125 C 6.25 -6.148438 6.410156 -5.929688 6.515625 -5.671875 C 6.617188 -5.421875 6.671875 -5.140625 6.671875 -4.828125 C 6.671875 -4.566406 6.632812 -4.328125 6.5625 -4.109375 C 6.488281 -3.898438 6.382812 -3.710938 6.25 -3.546875 C 6.113281 -3.390625 5.953125 -3.253906 5.765625 -3.140625 C 5.578125 -3.023438 5.375 -2.941406 5.15625 -2.890625 L 7.015625 0 Z M 5.21875 -4.765625 C 5.21875 -5.109375 5.109375 -5.359375 4.890625 -5.515625 C 4.671875 -5.679688 4.359375 -5.765625 3.953125 -5.765625 L 2.109375 -5.765625 L 2.109375 -3.734375 L 4 -3.734375 C 4.207031 -3.734375 4.390625 -3.753906 4.546875 -3.796875 C 4.703125 -3.847656 4.828125 -3.921875 4.921875 -4.015625 C 5.023438 -4.109375 5.097656 -4.21875 5.140625 -4.34375 C 5.191406 -4.476562 5.21875 -4.617188 5.21875 -4.765625 Z M 5.21875 -4.765625 \"/>\n",
       "</g>\n",
       "<g id=\"glyph-1-2\">\n",
       "<path d=\"M 4.859375 0 L 1.859375 -5.296875 C 1.878906 -5.148438 1.894531 -5.007812 1.90625 -4.875 C 1.914062 -4.75 1.925781 -4.613281 1.9375 -4.46875 C 1.945312 -4.320312 1.953125 -4.1875 1.953125 -4.0625 L 1.953125 0 L 0.671875 0 L 0.671875 -6.875 L 2.3125 -6.875 L 5.359375 -1.53125 C 5.335938 -1.675781 5.320312 -1.820312 5.3125 -1.96875 C 5.300781 -2.09375 5.289062 -2.234375 5.28125 -2.390625 C 5.269531 -2.554688 5.265625 -2.71875 5.265625 -2.875 L 5.265625 -6.875 L 6.546875 -6.875 L 6.546875 0 Z M 4.859375 0 \"/>\n",
       "</g>\n",
       "<g id=\"glyph-1-3\">\n",
       "<path d=\"M 5.53125 0 L 4.921875 -1.765625 L 2.296875 -1.765625 L 1.6875 0 L 0.25 0 L 2.765625 -6.875 L 4.453125 -6.875 L 6.953125 0 Z M 3.921875 -4.8125 C 3.878906 -4.925781 3.835938 -5.039062 3.796875 -5.15625 C 3.765625 -5.28125 3.734375 -5.390625 3.703125 -5.484375 C 3.679688 -5.578125 3.660156 -5.65625 3.640625 -5.71875 C 3.617188 -5.78125 3.609375 -5.816406 3.609375 -5.828125 C 3.609375 -5.816406 3.597656 -5.78125 3.578125 -5.71875 C 3.566406 -5.65625 3.546875 -5.578125 3.515625 -5.484375 C 3.484375 -5.390625 3.445312 -5.28125 3.40625 -5.15625 C 3.375 -5.039062 3.335938 -4.925781 3.296875 -4.8125 L 2.625 -2.84375 L 4.59375 -2.84375 Z M 3.921875 -4.8125 \"/>\n",
       "</g>\n",
       "<g id=\"glyph-2-0\">\n",
       "<path d=\"M -4.703125 -6.328125 C -4.410156 -6.328125 -4.125 -6.273438 -3.84375 -6.171875 C -3.570312 -6.078125 -3.328125 -5.925781 -3.109375 -5.71875 C -2.898438 -5.519531 -2.734375 -5.257812 -2.609375 -4.9375 C -2.484375 -4.625 -2.421875 -4.25 -2.421875 -3.8125 L -2.421875 -2.109375 L 0 -2.109375 L 0 -0.671875 L -6.875 -0.671875 L -6.875 -3.765625 C -6.875 -4.203125 -6.820312 -4.582031 -6.71875 -4.90625 C -6.613281 -5.226562 -6.460938 -5.492188 -6.265625 -5.703125 C -6.078125 -5.910156 -5.847656 -6.066406 -5.578125 -6.171875 C -5.316406 -6.273438 -5.023438 -6.328125 -4.703125 -6.328125 Z M -4.671875 -4.875 C -5.023438 -4.875 -5.296875 -4.765625 -5.484375 -4.546875 C -5.671875 -4.335938 -5.765625 -4.019531 -5.765625 -3.59375 L -5.765625 -2.109375 L -3.53125 -2.109375 L -3.53125 -3.640625 C -3.53125 -3.847656 -3.554688 -4.03125 -3.609375 -4.1875 C -3.671875 -4.34375 -3.75 -4.472656 -3.84375 -4.578125 C -3.945312 -4.679688 -4.066406 -4.753906 -4.203125 -4.796875 C -4.347656 -4.847656 -4.503906 -4.875 -4.671875 -4.875 Z M -4.671875 -4.875 \"/>\n",
       "</g>\n",
       "<g id=\"glyph-2-1\">\n",
       "<path d=\"M 0 -0.703125 L -4.046875 -0.703125 C -4.160156 -0.703125 -4.28125 -0.695312 -4.40625 -0.6875 C -4.53125 -0.6875 -4.648438 -0.679688 -4.765625 -0.671875 C -4.878906 -0.671875 -4.984375 -0.671875 -5.078125 -0.671875 C -5.171875 -0.671875 -5.238281 -0.664062 -5.28125 -0.65625 L -5.28125 -1.96875 C -5.238281 -1.976562 -5.171875 -1.984375 -5.078125 -1.984375 C -4.984375 -1.992188 -4.878906 -2 -4.765625 -2 C -4.648438 -2.007812 -4.535156 -2.015625 -4.421875 -2.015625 C -4.316406 -2.023438 -4.226562 -2.03125 -4.15625 -2.03125 L -4.15625 -2.046875 C -4.34375 -2.117188 -4.507812 -2.1875 -4.65625 -2.25 C -4.8125 -2.320312 -4.941406 -2.40625 -5.046875 -2.5 C -5.160156 -2.59375 -5.242188 -2.703125 -5.296875 -2.828125 C -5.359375 -2.960938 -5.390625 -3.125 -5.390625 -3.3125 C -5.390625 -3.394531 -5.378906 -3.472656 -5.359375 -3.546875 C -5.347656 -3.628906 -5.332031 -3.691406 -5.3125 -3.734375 L -4.171875 -3.734375 C -4.179688 -3.648438 -4.191406 -3.5625 -4.203125 -3.46875 C -4.222656 -3.382812 -4.234375 -3.28125 -4.234375 -3.15625 C -4.234375 -2.8125 -4.09375 -2.546875 -3.8125 -2.359375 C -3.539062 -2.171875 -3.132812 -2.078125 -2.59375 -2.078125 L 0 -2.078125 Z M 0 -0.703125 \"/>\n",
       "</g>\n",
       "<g id=\"glyph-2-2\">\n",
       "<path d=\"M -2.640625 -5.71875 C -2.242188 -5.71875 -1.875 -5.660156 -1.53125 -5.546875 C -1.195312 -5.429688 -0.910156 -5.257812 -0.671875 -5.03125 C -0.429688 -4.8125 -0.242188 -4.535156 -0.109375 -4.203125 C 0.0234375 -3.867188 0.09375 -3.476562 0.09375 -3.03125 C 0.09375 -2.601562 0.03125 -2.222656 -0.09375 -1.890625 C -0.226562 -1.566406 -0.414062 -1.289062 -0.65625 -1.0625 C -0.90625 -0.84375 -1.195312 -0.675781 -1.53125 -0.5625 C -1.863281 -0.445312 -2.234375 -0.390625 -2.640625 -0.390625 C -3.035156 -0.390625 -3.398438 -0.441406 -3.734375 -0.546875 C -4.066406 -0.660156 -4.351562 -0.828125 -4.59375 -1.046875 C -4.84375 -1.265625 -5.035156 -1.539062 -5.171875 -1.875 C -5.304688 -2.21875 -5.375 -2.613281 -5.375 -3.0625 C -5.375 -3.539062 -5.304688 -3.945312 -5.171875 -4.28125 C -5.035156 -4.613281 -4.847656 -4.882812 -4.609375 -5.09375 C -4.367188 -5.3125 -4.082031 -5.46875 -3.75 -5.5625 C -3.414062 -5.664062 -3.046875 -5.71875 -2.640625 -5.71875 Z M -2.640625 -4.28125 C -3.273438 -4.28125 -3.734375 -4.175781 -4.015625 -3.96875 C -4.296875 -3.769531 -4.4375 -3.472656 -4.4375 -3.078125 C -4.4375 -2.671875 -4.289062 -2.359375 -4 -2.140625 C -3.71875 -1.929688 -3.265625 -1.828125 -2.640625 -1.828125 C -2.328125 -1.828125 -2.054688 -1.851562 -1.828125 -1.90625 C -1.597656 -1.96875 -1.410156 -2.050781 -1.265625 -2.15625 C -1.117188 -2.257812 -1.007812 -2.382812 -0.9375 -2.53125 C -0.875 -2.675781 -0.84375 -2.835938 -0.84375 -3.015625 C -0.84375 -3.222656 -0.875 -3.40625 -0.9375 -3.5625 C -1.007812 -3.71875 -1.117188 -3.847656 -1.265625 -3.953125 C -1.410156 -4.054688 -1.597656 -4.132812 -1.828125 -4.1875 C -2.054688 -4.25 -2.328125 -4.28125 -2.640625 -4.28125 Z M -2.640625 -4.28125 \"/>\n",
       "</g>\n",
       "<g id=\"glyph-2-3\">\n",
       "<path d=\"M 0.09375 -2.046875 C 0.09375 -1.648438 -0.015625 -1.34375 -0.234375 -1.125 C -0.460938 -0.90625 -0.796875 -0.796875 -1.234375 -0.796875 L -4.359375 -0.796875 L -4.359375 -0.125 L -5.28125 -0.125 L -5.28125 -0.859375 L -6.53125 -1.296875 L -6.53125 -2.15625 L -5.28125 -2.15625 L -5.28125 -3.15625 L -4.359375 -3.15625 L -4.359375 -2.15625 L -1.609375 -2.15625 C -1.347656 -2.15625 -1.15625 -2.203125 -1.03125 -2.296875 C -0.914062 -2.390625 -0.859375 -2.539062 -0.859375 -2.75 C -0.859375 -2.832031 -0.863281 -2.90625 -0.875 -2.96875 C -0.894531 -3.039062 -0.910156 -3.117188 -0.921875 -3.203125 L -0.078125 -3.203125 C -0.0234375 -3.035156 0.015625 -2.859375 0.046875 -2.671875 C 0.078125 -2.484375 0.09375 -2.273438 0.09375 -2.046875 Z M 0.09375 -2.046875 \"/>\n",
       "</g>\n",
       "<g id=\"glyph-2-4\">\n",
       "<path d=\"M 0.09375 -2.859375 C 0.09375 -2.484375 0.0390625 -2.140625 -0.0625 -1.828125 C -0.175781 -1.523438 -0.347656 -1.265625 -0.578125 -1.046875 C -0.804688 -0.835938 -1.09375 -0.675781 -1.4375 -0.5625 C -1.789062 -0.445312 -2.203125 -0.390625 -2.671875 -0.390625 C -3.171875 -0.390625 -3.59375 -0.457031 -3.9375 -0.59375 C -4.28125 -0.726562 -4.554688 -0.910156 -4.765625 -1.140625 C -4.984375 -1.367188 -5.140625 -1.632812 -5.234375 -1.9375 C -5.328125 -2.238281 -5.375 -2.550781 -5.375 -2.875 C -5.375 -3.289062 -5.300781 -3.644531 -5.15625 -3.9375 C -5.019531 -4.238281 -4.820312 -4.484375 -4.5625 -4.671875 C -4.300781 -4.859375 -3.988281 -4.992188 -3.625 -5.078125 C -3.257812 -5.171875 -2.859375 -5.21875 -2.421875 -5.21875 L -2.375 -5.21875 L -2.375 -1.828125 C -2.15625 -1.828125 -1.945312 -1.847656 -1.75 -1.890625 C -1.5625 -1.929688 -1.398438 -1.992188 -1.265625 -2.078125 C -1.128906 -2.171875 -1.019531 -2.285156 -0.9375 -2.421875 C -0.863281 -2.554688 -0.828125 -2.726562 -0.828125 -2.9375 C -0.828125 -3.175781 -0.875 -3.367188 -0.96875 -3.515625 C -1.070312 -3.671875 -1.234375 -3.78125 -1.453125 -3.84375 L -1.34375 -5.140625 C -1.1875 -5.078125 -1.023438 -4.992188 -0.859375 -4.890625 C -0.691406 -4.785156 -0.535156 -4.644531 -0.390625 -4.46875 C -0.253906 -4.289062 -0.140625 -4.070312 -0.046875 -3.8125 C 0.046875 -3.550781 0.09375 -3.234375 0.09375 -2.859375 Z M -4.515625 -2.859375 C -4.515625 -2.722656 -4.488281 -2.59375 -4.4375 -2.46875 C -4.394531 -2.34375 -4.320312 -2.234375 -4.21875 -2.140625 C -4.113281 -2.054688 -3.976562 -1.984375 -3.8125 -1.921875 C -3.65625 -1.867188 -3.460938 -1.84375 -3.234375 -1.84375 L -3.234375 -3.890625 C -3.660156 -3.867188 -3.976562 -3.765625 -4.1875 -3.578125 C -4.40625 -3.398438 -4.515625 -3.160156 -4.515625 -2.859375 Z M -4.515625 -2.859375 \"/>\n",
       "</g>\n",
       "<g id=\"glyph-2-5\">\n",
       "<path d=\"M -6.234375 -0.703125 L -7.25 -0.703125 L -7.25 -2.078125 L -6.234375 -2.078125 Z M 0 -0.703125 L -5.28125 -0.703125 L -5.28125 -2.078125 L 0 -2.078125 Z M 0 -0.703125 \"/>\n",
       "</g>\n",
       "<g id=\"glyph-2-6\">\n",
       "<path d=\"M 0 -4.125 L -2.96875 -4.125 C -3.164062 -4.125 -3.347656 -4.109375 -3.515625 -4.078125 C -3.691406 -4.046875 -3.84375 -3.988281 -3.96875 -3.90625 C -4.09375 -3.832031 -4.1875 -3.734375 -4.25 -3.609375 C -4.320312 -3.492188 -4.359375 -3.347656 -4.359375 -3.171875 C -4.359375 -3.015625 -4.320312 -2.867188 -4.25 -2.734375 C -4.175781 -2.597656 -4.070312 -2.476562 -3.9375 -2.375 C -3.800781 -2.28125 -3.640625 -2.207031 -3.453125 -2.15625 C -3.265625 -2.101562 -3.054688 -2.078125 -2.828125 -2.078125 L 0 -2.078125 L 0 -0.703125 L -4.109375 -0.703125 C -4.210938 -0.703125 -4.328125 -0.695312 -4.453125 -0.6875 C -4.578125 -0.6875 -4.691406 -0.679688 -4.796875 -0.671875 C -4.910156 -0.671875 -5.007812 -0.671875 -5.09375 -0.671875 C -5.175781 -0.671875 -5.238281 -0.664062 -5.28125 -0.65625 L -5.28125 -1.96875 C -5.238281 -1.976562 -5.175781 -1.984375 -5.09375 -1.984375 C -5.007812 -1.992188 -4.914062 -2 -4.8125 -2 C -4.707031 -2.007812 -4.601562 -2.015625 -4.5 -2.015625 C -4.394531 -2.023438 -4.304688 -2.03125 -4.234375 -2.03125 L -4.234375 -2.046875 C -4.640625 -2.234375 -4.929688 -2.46875 -5.109375 -2.75 C -5.296875 -3.03125 -5.390625 -3.363281 -5.390625 -3.75 C -5.390625 -4.070312 -5.335938 -4.34375 -5.234375 -4.5625 C -5.128906 -4.78125 -4.984375 -4.957031 -4.796875 -5.09375 C -4.617188 -5.226562 -4.40625 -5.328125 -4.15625 -5.390625 C -3.90625 -5.453125 -3.640625 -5.484375 -3.359375 -5.484375 L 0 -5.484375 Z M 0 -4.125 \"/>\n",
       "</g>\n",
       "<g id=\"glyph-2-7\">\n",
       "</g>\n",
       "<g id=\"glyph-2-8\">\n",
       "<path d=\"M 0 -0.671875 L -6.875 -0.671875 L -6.875 -2.109375 L -1.109375 -2.109375 L -1.109375 -5.796875 L 0 -5.796875 Z M 0 -0.671875 \"/>\n",
       "</g>\n",
       "<g id=\"glyph-2-9\">\n",
       "<path d=\"M -1.109375 -2.765625 L -5.28125 -4.078125 L -5.28125 -5.515625 L 0 -3.5625 L 0 -1.921875 L -5.28125 -0.046875 L -5.28125 -1.484375 Z M -1.109375 -2.765625 \"/>\n",
       "</g>\n",
       "<g id=\"glyph-2-10\">\n",
       "<path d=\"M 0 -0.703125 L -7.25 -0.703125 L -7.25 -2.078125 L 0 -2.078125 Z M 0 -0.703125 \"/>\n",
       "</g>\n",
       "<g id=\"glyph-2-11\">\n",
       "<path d=\"M 0 -0.671875 L -6.875 -0.671875 L -6.875 -2.109375 L 0 -2.109375 Z M 0 -0.671875 \"/>\n",
       "</g>\n",
       "<g id=\"glyph-3-0\">\n",
       "<path d=\"M 7.53125 -2.375 C 7.53125 -2 7.460938 -1.65625 7.328125 -1.34375 C 7.191406 -1.039062 6.976562 -0.78125 6.6875 -0.5625 C 6.40625 -0.34375 6.039062 -0.171875 5.59375 -0.046875 C 5.144531 0.0664062 4.613281 0.125 4 0.125 C 3.445312 0.125 2.960938 0.078125 2.546875 -0.015625 C 2.128906 -0.117188 1.769531 -0.265625 1.46875 -0.453125 C 1.175781 -0.648438 0.9375 -0.890625 0.75 -1.171875 C 0.5625 -1.453125 0.425781 -1.78125 0.34375 -2.15625 L 2.015625 -2.421875 C 2.066406 -2.242188 2.132812 -2.078125 2.21875 -1.921875 C 2.3125 -1.765625 2.4375 -1.628906 2.59375 -1.515625 C 2.75 -1.410156 2.945312 -1.328125 3.1875 -1.265625 C 3.425781 -1.203125 3.710938 -1.171875 4.046875 -1.171875 C 4.628906 -1.171875 5.078125 -1.257812 5.390625 -1.4375 C 5.703125 -1.625 5.859375 -1.90625 5.859375 -2.28125 C 5.859375 -2.507812 5.796875 -2.691406 5.671875 -2.828125 C 5.546875 -2.972656 5.378906 -3.09375 5.171875 -3.1875 C 4.960938 -3.28125 4.722656 -3.359375 4.453125 -3.421875 C 4.179688 -3.484375 3.898438 -3.546875 3.609375 -3.609375 C 3.378906 -3.660156 3.144531 -3.71875 2.90625 -3.78125 C 2.675781 -3.84375 2.453125 -3.910156 2.234375 -3.984375 C 2.023438 -4.066406 1.828125 -4.164062 1.640625 -4.28125 C 1.453125 -4.394531 1.289062 -4.535156 1.15625 -4.703125 C 1.03125 -4.867188 0.925781 -5.0625 0.84375 -5.28125 C 0.769531 -5.507812 0.734375 -5.773438 0.734375 -6.078125 C 0.734375 -6.484375 0.8125 -6.832031 0.96875 -7.125 C 1.132812 -7.414062 1.363281 -7.65625 1.65625 -7.84375 C 1.945312 -8.03125 2.296875 -8.164062 2.703125 -8.25 C 3.109375 -8.332031 3.546875 -8.375 4.015625 -8.375 C 4.554688 -8.375 5.019531 -8.332031 5.40625 -8.25 C 5.789062 -8.164062 6.113281 -8.035156 6.375 -7.859375 C 6.632812 -7.691406 6.835938 -7.476562 6.984375 -7.21875 C 7.140625 -6.957031 7.25 -6.65625 7.3125 -6.3125 L 5.640625 -6.078125 C 5.554688 -6.429688 5.378906 -6.695312 5.109375 -6.875 C 4.847656 -7.0625 4.472656 -7.15625 3.984375 -7.15625 C 3.679688 -7.15625 3.425781 -7.128906 3.21875 -7.078125 C 3.019531 -7.023438 2.859375 -6.953125 2.734375 -6.859375 C 2.617188 -6.773438 2.535156 -6.671875 2.484375 -6.546875 C 2.441406 -6.429688 2.421875 -6.304688 2.421875 -6.171875 C 2.421875 -5.960938 2.46875 -5.789062 2.5625 -5.65625 C 2.65625 -5.53125 2.789062 -5.421875 2.96875 -5.328125 C 3.144531 -5.242188 3.351562 -5.171875 3.59375 -5.109375 C 3.84375 -5.054688 4.113281 -5 4.40625 -4.9375 C 4.664062 -4.882812 4.921875 -4.828125 5.171875 -4.765625 C 5.429688 -4.703125 5.675781 -4.628906 5.90625 -4.546875 C 6.132812 -4.460938 6.347656 -4.363281 6.546875 -4.25 C 6.742188 -4.132812 6.914062 -3.988281 7.0625 -3.8125 C 7.207031 -3.644531 7.320312 -3.441406 7.40625 -3.203125 C 7.488281 -2.972656 7.53125 -2.695312 7.53125 -2.375 Z M 7.53125 -2.375 \"/>\n",
       "</g>\n",
       "<g id=\"glyph-3-1\">\n",
       "<path d=\"M 2.296875 0.125 C 1.992188 0.125 1.722656 0.0820312 1.484375 0 C 1.242188 -0.09375 1.039062 -0.21875 0.875 -0.375 C 0.707031 -0.539062 0.578125 -0.742188 0.484375 -0.984375 C 0.398438 -1.222656 0.359375 -1.492188 0.359375 -1.796875 C 0.359375 -2.171875 0.421875 -2.484375 0.546875 -2.734375 C 0.679688 -2.992188 0.859375 -3.203125 1.078125 -3.359375 C 1.304688 -3.515625 1.570312 -3.628906 1.875 -3.703125 C 2.1875 -3.773438 2.515625 -3.816406 2.859375 -3.828125 L 4.21875 -3.84375 L 4.21875 -4.171875 C 4.21875 -4.398438 4.195312 -4.585938 4.15625 -4.734375 C 4.113281 -4.890625 4.050781 -5.015625 3.96875 -5.109375 C 3.894531 -5.210938 3.800781 -5.285156 3.6875 -5.328125 C 3.570312 -5.367188 3.441406 -5.390625 3.296875 -5.390625 C 3.160156 -5.390625 3.035156 -5.375 2.921875 -5.34375 C 2.816406 -5.320312 2.722656 -5.273438 2.640625 -5.203125 C 2.566406 -5.140625 2.503906 -5.050781 2.453125 -4.9375 C 2.410156 -4.820312 2.378906 -4.675781 2.359375 -4.5 L 0.640625 -4.578125 C 0.679688 -4.859375 0.765625 -5.109375 0.890625 -5.328125 C 1.015625 -5.554688 1.1875 -5.753906 1.40625 -5.921875 C 1.632812 -6.097656 1.910156 -6.226562 2.234375 -6.3125 C 2.554688 -6.40625 2.929688 -6.453125 3.359375 -6.453125 C 3.753906 -6.453125 4.101562 -6.40625 4.40625 -6.3125 C 4.71875 -6.21875 4.984375 -6.070312 5.203125 -5.875 C 5.421875 -5.675781 5.582031 -5.4375 5.6875 -5.15625 C 5.800781 -4.875 5.859375 -4.550781 5.859375 -4.1875 L 5.859375 -1.875 C 5.859375 -1.726562 5.863281 -1.59375 5.875 -1.46875 C 5.894531 -1.351562 5.921875 -1.253906 5.953125 -1.171875 C 5.992188 -1.097656 6.046875 -1.039062 6.109375 -1 C 6.179688 -0.957031 6.273438 -0.9375 6.390625 -0.9375 C 6.515625 -0.9375 6.632812 -0.945312 6.75 -0.96875 L 6.75 -0.078125 C 6.65625 -0.0546875 6.566406 -0.0351562 6.484375 -0.015625 C 6.410156 0.00390625 6.332031 0.0195312 6.25 0.03125 C 6.175781 0.0390625 6.09375 0.0507812 6 0.0625 C 5.914062 0.0703125 5.816406 0.078125 5.703125 0.078125 C 5.285156 0.078125 4.976562 -0.0234375 4.78125 -0.234375 C 4.582031 -0.441406 4.460938 -0.738281 4.421875 -1.125 L 4.390625 -1.125 C 4.171875 -0.738281 3.890625 -0.429688 3.546875 -0.203125 C 3.203125 0.015625 2.785156 0.125 2.296875 0.125 Z M 4.21875 -2.9375 L 3.375 -2.921875 C 3.195312 -2.910156 3.03125 -2.894531 2.875 -2.875 C 2.71875 -2.851562 2.578125 -2.804688 2.453125 -2.734375 C 2.335938 -2.671875 2.242188 -2.570312 2.171875 -2.4375 C 2.097656 -2.3125 2.0625 -2.140625 2.0625 -1.921875 C 2.0625 -1.617188 2.128906 -1.394531 2.265625 -1.25 C 2.410156 -1.101562 2.597656 -1.03125 2.828125 -1.03125 C 3.035156 -1.03125 3.222656 -1.070312 3.390625 -1.15625 C 3.566406 -1.25 3.710938 -1.367188 3.828125 -1.515625 C 3.953125 -1.660156 4.046875 -1.828125 4.109375 -2.015625 C 4.179688 -2.210938 4.21875 -2.410156 4.21875 -2.609375 Z M 4.21875 -2.9375 \"/>\n",
       "</g>\n",
       "<g id=\"glyph-3-2\">\n",
       "<path d=\"M 4.578125 0 L 4.578125 -3.5625 C 4.578125 -3.800781 4.554688 -4.023438 4.515625 -4.234375 C 4.484375 -4.441406 4.429688 -4.617188 4.359375 -4.765625 C 4.285156 -4.910156 4.1875 -5.023438 4.0625 -5.109375 C 3.9375 -5.191406 3.785156 -5.234375 3.609375 -5.234375 C 3.441406 -5.234375 3.289062 -5.1875 3.15625 -5.09375 C 3.019531 -5.007812 2.898438 -4.882812 2.796875 -4.71875 C 2.703125 -4.5625 2.625 -4.367188 2.5625 -4.140625 C 2.507812 -3.910156 2.484375 -3.664062 2.484375 -3.40625 L 2.484375 0 L 0.84375 0 L 0.84375 -4.921875 C 0.84375 -5.054688 0.835938 -5.195312 0.828125 -5.34375 C 0.828125 -5.488281 0.820312 -5.625 0.8125 -5.75 C 0.8125 -5.882812 0.804688 -6.003906 0.796875 -6.109375 C 0.796875 -6.210938 0.796875 -6.289062 0.796875 -6.34375 L 2.359375 -6.34375 C 2.367188 -6.289062 2.375 -6.210938 2.375 -6.109375 C 2.382812 -6.003906 2.394531 -5.890625 2.40625 -5.765625 C 2.414062 -5.640625 2.421875 -5.515625 2.421875 -5.390625 C 2.429688 -5.265625 2.4375 -5.160156 2.4375 -5.078125 L 2.46875 -5.078125 C 2.664062 -5.566406 2.914062 -5.921875 3.21875 -6.140625 C 3.519531 -6.359375 3.882812 -6.46875 4.3125 -6.46875 C 4.789062 -6.46875 5.175781 -6.347656 5.46875 -6.109375 C 5.769531 -5.867188 5.972656 -5.523438 6.078125 -5.078125 L 6.109375 -5.078125 C 6.222656 -5.335938 6.34375 -5.554688 6.46875 -5.734375 C 6.601562 -5.910156 6.75 -6.050781 6.90625 -6.15625 C 7.0625 -6.269531 7.234375 -6.347656 7.421875 -6.390625 C 7.609375 -6.441406 7.8125 -6.46875 8.03125 -6.46875 C 8.375 -6.46875 8.664062 -6.40625 8.90625 -6.28125 C 9.144531 -6.15625 9.335938 -5.984375 9.484375 -5.765625 C 9.640625 -5.546875 9.75 -5.285156 9.8125 -4.984375 C 9.882812 -4.691406 9.921875 -4.375 9.921875 -4.03125 L 9.921875 0 L 8.296875 0 L 8.296875 -3.5625 C 8.296875 -3.800781 8.273438 -4.023438 8.234375 -4.234375 C 8.203125 -4.441406 8.148438 -4.617188 8.078125 -4.765625 C 8.003906 -4.910156 7.90625 -5.023438 7.78125 -5.109375 C 7.65625 -5.191406 7.503906 -5.234375 7.328125 -5.234375 C 7.160156 -5.234375 7.007812 -5.1875 6.875 -5.09375 C 6.75 -5.007812 6.632812 -4.890625 6.53125 -4.734375 C 6.425781 -4.585938 6.347656 -4.40625 6.296875 -4.1875 C 6.242188 -3.976562 6.210938 -3.738281 6.203125 -3.46875 L 6.203125 0 Z M 4.578125 0 \"/>\n",
       "</g>\n",
       "<g id=\"glyph-3-3\">\n",
       "<path d=\"M 6.84375 -3.203125 C 6.84375 -2.722656 6.789062 -2.28125 6.6875 -1.875 C 6.59375 -1.46875 6.445312 -1.113281 6.25 -0.8125 C 6.050781 -0.519531 5.796875 -0.289062 5.484375 -0.125 C 5.179688 0.0390625 4.820312 0.125 4.40625 0.125 C 4.21875 0.125 4.03125 0.101562 3.84375 0.0625 C 3.65625 0.0195312 3.476562 -0.0390625 3.3125 -0.125 C 3.144531 -0.21875 2.988281 -0.332031 2.84375 -0.46875 C 2.707031 -0.613281 2.585938 -0.796875 2.484375 -1.015625 L 2.453125 -1.015625 C 2.453125 -0.992188 2.453125 -0.941406 2.453125 -0.859375 C 2.460938 -0.785156 2.46875 -0.695312 2.46875 -0.59375 C 2.476562 -0.488281 2.484375 -0.378906 2.484375 -0.265625 C 2.484375 -0.148438 2.484375 -0.0390625 2.484375 0.0625 L 2.484375 2.484375 L 0.84375 2.484375 L 0.84375 -4.875 C 0.84375 -5.207031 0.835938 -5.5 0.828125 -5.75 C 0.816406 -6 0.804688 -6.195312 0.796875 -6.34375 L 2.390625 -6.34375 C 2.398438 -6.3125 2.410156 -6.253906 2.421875 -6.171875 C 2.429688 -6.097656 2.4375 -6.007812 2.4375 -5.90625 C 2.445312 -5.8125 2.453125 -5.707031 2.453125 -5.59375 C 2.460938 -5.488281 2.46875 -5.394531 2.46875 -5.3125 L 2.484375 -5.3125 C 2.679688 -5.726562 2.953125 -6.023438 3.296875 -6.203125 C 3.648438 -6.378906 4.054688 -6.46875 4.515625 -6.46875 C 4.910156 -6.46875 5.253906 -6.382812 5.546875 -6.21875 C 5.847656 -6.0625 6.09375 -5.835938 6.28125 -5.546875 C 6.46875 -5.253906 6.609375 -4.910156 6.703125 -4.515625 C 6.796875 -4.117188 6.84375 -3.679688 6.84375 -3.203125 Z M 5.125 -3.203125 C 5.125 -3.921875 5.015625 -4.453125 4.796875 -4.796875 C 4.578125 -5.148438 4.25 -5.328125 3.8125 -5.328125 C 3.644531 -5.328125 3.476562 -5.289062 3.3125 -5.21875 C 3.15625 -5.15625 3.015625 -5.039062 2.890625 -4.875 C 2.765625 -4.707031 2.660156 -4.484375 2.578125 -4.203125 C 2.503906 -3.929688 2.46875 -3.582031 2.46875 -3.15625 C 2.46875 -2.738281 2.503906 -2.390625 2.578125 -2.109375 C 2.660156 -1.835938 2.765625 -1.617188 2.890625 -1.453125 C 3.015625 -1.296875 3.15625 -1.179688 3.3125 -1.109375 C 3.476562 -1.046875 3.640625 -1.015625 3.796875 -1.015625 C 4.015625 -1.015625 4.203125 -1.054688 4.359375 -1.140625 C 4.523438 -1.222656 4.664062 -1.351562 4.78125 -1.53125 C 4.894531 -1.707031 4.976562 -1.929688 5.03125 -2.203125 C 5.09375 -2.484375 5.125 -2.816406 5.125 -3.203125 Z M 5.125 -3.203125 \"/>\n",
       "</g>\n",
       "<g id=\"glyph-3-4\">\n",
       "<path d=\"M 0.84375 0 L 0.84375 -8.703125 L 2.484375 -8.703125 L 2.484375 0 Z M 0.84375 0 \"/>\n",
       "</g>\n",
       "<g id=\"glyph-3-5\">\n",
       "<path d=\"M 3.4375 0.125 C 2.976562 0.125 2.566406 0.0546875 2.203125 -0.078125 C 1.835938 -0.210938 1.523438 -0.414062 1.265625 -0.6875 C 1.003906 -0.96875 0.804688 -1.316406 0.671875 -1.734375 C 0.535156 -2.148438 0.46875 -2.640625 0.46875 -3.203125 C 0.46875 -3.804688 0.546875 -4.3125 0.703125 -4.71875 C 0.867188 -5.132812 1.085938 -5.472656 1.359375 -5.734375 C 1.640625 -5.992188 1.957031 -6.175781 2.3125 -6.28125 C 2.675781 -6.394531 3.054688 -6.453125 3.453125 -6.453125 C 3.953125 -6.453125 4.378906 -6.363281 4.734375 -6.1875 C 5.085938 -6.019531 5.378906 -5.78125 5.609375 -5.46875 C 5.835938 -5.15625 6.003906 -4.78125 6.109375 -4.34375 C 6.210938 -3.90625 6.265625 -3.425781 6.265625 -2.90625 L 6.265625 -2.859375 L 2.203125 -2.859375 C 2.203125 -2.585938 2.222656 -2.335938 2.265625 -2.109375 C 2.316406 -1.878906 2.394531 -1.679688 2.5 -1.515625 C 2.601562 -1.347656 2.738281 -1.21875 2.90625 -1.125 C 3.070312 -1.03125 3.273438 -0.984375 3.515625 -0.984375 C 3.804688 -0.984375 4.039062 -1.046875 4.21875 -1.171875 C 4.40625 -1.296875 4.539062 -1.484375 4.625 -1.734375 L 6.171875 -1.609375 C 6.097656 -1.429688 6 -1.238281 5.875 -1.03125 C 5.75 -0.832031 5.578125 -0.644531 5.359375 -0.46875 C 5.148438 -0.300781 4.890625 -0.160156 4.578125 -0.046875 C 4.265625 0.0664062 3.882812 0.125 3.4375 0.125 Z M 3.4375 -5.421875 C 3.269531 -5.421875 3.113281 -5.390625 2.96875 -5.328125 C 2.820312 -5.273438 2.691406 -5.1875 2.578125 -5.0625 C 2.472656 -4.9375 2.382812 -4.773438 2.3125 -4.578125 C 2.25 -4.390625 2.210938 -4.160156 2.203125 -3.890625 L 4.671875 -3.890625 C 4.640625 -4.398438 4.515625 -4.78125 4.296875 -5.03125 C 4.085938 -5.289062 3.800781 -5.421875 3.4375 -5.421875 Z M 3.4375 -5.421875 \"/>\n",
       "</g>\n",
       "<g id=\"glyph-3-6\">\n",
       "</g>\n",
       "<g id=\"glyph-3-7\">\n",
       "<path d=\"M 4.953125 0 L 4.953125 -3.5625 C 4.953125 -3.800781 4.929688 -4.023438 4.890625 -4.234375 C 4.847656 -4.441406 4.78125 -4.617188 4.6875 -4.765625 C 4.601562 -4.910156 4.488281 -5.023438 4.34375 -5.109375 C 4.195312 -5.191406 4.019531 -5.234375 3.8125 -5.234375 C 3.613281 -5.234375 3.429688 -5.1875 3.265625 -5.09375 C 3.109375 -5.007812 2.96875 -4.882812 2.84375 -4.71875 C 2.726562 -4.5625 2.640625 -4.367188 2.578125 -4.140625 C 2.515625 -3.910156 2.484375 -3.664062 2.484375 -3.40625 L 2.484375 0 L 0.84375 0 L 0.84375 -4.921875 C 0.84375 -5.054688 0.835938 -5.195312 0.828125 -5.34375 C 0.828125 -5.488281 0.820312 -5.625 0.8125 -5.75 C 0.8125 -5.882812 0.804688 -6.003906 0.796875 -6.109375 C 0.796875 -6.210938 0.796875 -6.289062 0.796875 -6.34375 L 2.359375 -6.34375 C 2.367188 -6.289062 2.375 -6.210938 2.375 -6.109375 C 2.382812 -6.003906 2.394531 -5.890625 2.40625 -5.765625 C 2.414062 -5.640625 2.421875 -5.515625 2.421875 -5.390625 C 2.429688 -5.265625 2.4375 -5.160156 2.4375 -5.078125 L 2.46875 -5.078125 C 2.6875 -5.566406 2.960938 -5.921875 3.296875 -6.140625 C 3.628906 -6.359375 4.03125 -6.46875 4.5 -6.46875 C 4.882812 -6.46875 5.207031 -6.40625 5.46875 -6.28125 C 5.726562 -6.15625 5.941406 -5.984375 6.109375 -5.765625 C 6.273438 -5.546875 6.394531 -5.285156 6.46875 -4.984375 C 6.550781 -4.691406 6.59375 -4.375 6.59375 -4.03125 L 6.59375 0 Z M 4.953125 0 \"/>\n",
       "</g>\n",
       "<g id=\"glyph-3-8\">\n",
       "<path d=\"M 4.953125 0 C 4.941406 -0.03125 4.929688 -0.0820312 4.921875 -0.15625 C 4.910156 -0.238281 4.898438 -0.332031 4.890625 -0.4375 C 4.878906 -0.539062 4.867188 -0.644531 4.859375 -0.75 C 4.859375 -0.851562 4.859375 -0.945312 4.859375 -1.03125 L 4.828125 -1.03125 C 4.640625 -0.625 4.375 -0.328125 4.03125 -0.140625 C 3.6875 0.0351562 3.28125 0.125 2.8125 0.125 C 2.40625 0.125 2.054688 0.0390625 1.765625 -0.125 C 1.484375 -0.289062 1.242188 -0.519531 1.046875 -0.8125 C 0.859375 -1.101562 0.71875 -1.445312 0.625 -1.84375 C 0.539062 -2.25 0.5 -2.691406 0.5 -3.171875 C 0.5 -3.648438 0.546875 -4.085938 0.640625 -4.484375 C 0.734375 -4.890625 0.878906 -5.238281 1.078125 -5.53125 C 1.273438 -5.820312 1.523438 -6.046875 1.828125 -6.203125 C 2.140625 -6.367188 2.507812 -6.453125 2.9375 -6.453125 C 3.132812 -6.453125 3.328125 -6.429688 3.515625 -6.390625 C 3.710938 -6.347656 3.894531 -6.28125 4.0625 -6.1875 C 4.226562 -6.101562 4.375 -5.988281 4.5 -5.84375 C 4.632812 -5.707031 4.75 -5.539062 4.84375 -5.34375 L 4.859375 -5.34375 C 4.859375 -5.375 4.859375 -5.425781 4.859375 -5.5 C 4.859375 -5.582031 4.859375 -5.671875 4.859375 -5.765625 C 4.859375 -5.867188 4.851562 -5.972656 4.84375 -6.078125 C 4.84375 -6.179688 4.84375 -6.28125 4.84375 -6.375 L 4.84375 -8.703125 L 6.5 -8.703125 L 6.5 -1.390625 C 6.5 -1.078125 6.503906 -0.800781 6.515625 -0.5625 C 6.523438 -0.320312 6.535156 -0.132812 6.546875 0 Z M 4.875 -3.203125 C 4.875 -3.617188 4.832031 -3.960938 4.75 -4.234375 C 4.675781 -4.515625 4.570312 -4.734375 4.4375 -4.890625 C 4.3125 -5.054688 4.164062 -5.171875 4 -5.234375 C 3.84375 -5.304688 3.679688 -5.34375 3.515625 -5.34375 C 3.304688 -5.34375 3.117188 -5.300781 2.953125 -5.21875 C 2.796875 -5.132812 2.660156 -5.003906 2.546875 -4.828125 C 2.429688 -4.648438 2.34375 -4.425781 2.28125 -4.15625 C 2.226562 -3.882812 2.203125 -3.554688 2.203125 -3.171875 C 2.203125 -1.734375 2.632812 -1.015625 3.5 -1.015625 C 3.664062 -1.015625 3.832031 -1.046875 4 -1.109375 C 4.164062 -1.179688 4.3125 -1.300781 4.4375 -1.46875 C 4.5625 -1.632812 4.664062 -1.859375 4.75 -2.140625 C 4.832031 -2.429688 4.875 -2.785156 4.875 -3.203125 Z M 4.875 -3.203125 \"/>\n",
       "</g>\n",
       "<g id=\"glyph-3-9\">\n",
       "<path d=\"M 0.796875 0 L 0.796875 -8.25 L 7.296875 -8.25 L 7.296875 -6.921875 L 2.53125 -6.921875 L 2.53125 -4.84375 L 6.9375 -4.84375 L 6.9375 -3.515625 L 2.53125 -3.515625 L 2.53125 -1.34375 L 7.53125 -1.34375 L 7.53125 0 Z M 0.796875 0 \"/>\n",
       "</g>\n",
       "<g id=\"glyph-3-10\">\n",
       "<path d=\"M 6.1875 -1.859375 C 6.1875 -1.546875 6.117188 -1.269531 5.984375 -1.03125 C 5.859375 -0.789062 5.675781 -0.582031 5.4375 -0.40625 C 5.195312 -0.238281 4.898438 -0.109375 4.546875 -0.015625 C 4.191406 0.078125 3.789062 0.125 3.34375 0.125 C 2.945312 0.125 2.582031 0.09375 2.25 0.03125 C 1.925781 -0.03125 1.640625 -0.128906 1.390625 -0.265625 C 1.148438 -0.398438 0.945312 -0.570312 0.78125 -0.78125 C 0.625 -1 0.503906 -1.265625 0.421875 -1.578125 L 1.875 -1.796875 C 1.914062 -1.617188 1.976562 -1.472656 2.0625 -1.359375 C 2.144531 -1.253906 2.242188 -1.171875 2.359375 -1.109375 C 2.484375 -1.054688 2.625 -1.019531 2.78125 -1 C 2.945312 -0.976562 3.132812 -0.96875 3.34375 -0.96875 C 3.53125 -0.96875 3.703125 -0.976562 3.859375 -1 C 4.023438 -1.019531 4.164062 -1.054688 4.28125 -1.109375 C 4.40625 -1.171875 4.5 -1.25 4.5625 -1.34375 C 4.632812 -1.4375 4.671875 -1.554688 4.671875 -1.703125 C 4.671875 -1.867188 4.625 -2 4.53125 -2.09375 C 4.4375 -2.1875 4.304688 -2.265625 4.140625 -2.328125 C 3.972656 -2.390625 3.773438 -2.441406 3.546875 -2.484375 C 3.328125 -2.523438 3.085938 -2.578125 2.828125 -2.640625 C 2.566406 -2.691406 2.304688 -2.757812 2.046875 -2.84375 C 1.785156 -2.925781 1.550781 -3.035156 1.34375 -3.171875 C 1.144531 -3.316406 0.984375 -3.5 0.859375 -3.71875 C 0.734375 -3.9375 0.671875 -4.210938 0.671875 -4.546875 C 0.671875 -4.847656 0.726562 -5.113281 0.84375 -5.34375 C 0.96875 -5.582031 1.140625 -5.785156 1.359375 -5.953125 C 1.585938 -6.117188 1.867188 -6.242188 2.203125 -6.328125 C 2.535156 -6.421875 2.921875 -6.46875 3.359375 -6.46875 C 3.703125 -6.46875 4.019531 -6.429688 4.3125 -6.359375 C 4.613281 -6.296875 4.878906 -6.195312 5.109375 -6.0625 C 5.347656 -5.925781 5.546875 -5.75 5.703125 -5.53125 C 5.859375 -5.3125 5.96875 -5.050781 6.03125 -4.75 L 4.578125 -4.59375 C 4.546875 -4.75 4.492188 -4.875 4.421875 -4.96875 C 4.359375 -5.070312 4.273438 -5.148438 4.171875 -5.203125 C 4.066406 -5.265625 3.945312 -5.304688 3.8125 -5.328125 C 3.675781 -5.359375 3.523438 -5.375 3.359375 -5.375 C 2.960938 -5.375 2.664062 -5.320312 2.46875 -5.21875 C 2.28125 -5.113281 2.1875 -4.945312 2.1875 -4.71875 C 2.1875 -4.570312 2.222656 -4.457031 2.296875 -4.375 C 2.378906 -4.289062 2.492188 -4.21875 2.640625 -4.15625 C 2.785156 -4.101562 2.957031 -4.054688 3.15625 -4.015625 C 3.363281 -3.972656 3.585938 -3.921875 3.828125 -3.859375 C 4.117188 -3.796875 4.40625 -3.722656 4.6875 -3.640625 C 4.96875 -3.554688 5.21875 -3.441406 5.4375 -3.296875 C 5.664062 -3.148438 5.847656 -2.960938 5.984375 -2.734375 C 6.117188 -2.503906 6.1875 -2.210938 6.1875 -1.859375 Z M 6.1875 -1.859375 \"/>\n",
       "</g>\n",
       "<g id=\"glyph-3-11\">\n",
       "<path d=\"M 2.46875 0.109375 C 1.976562 0.109375 1.601562 -0.0195312 1.34375 -0.28125 C 1.082031 -0.550781 0.953125 -0.953125 0.953125 -1.484375 L 0.953125 -5.234375 L 0.140625 -5.234375 L 0.140625 -6.34375 L 1.03125 -6.34375 L 1.546875 -7.828125 L 2.578125 -7.828125 L 2.578125 -6.34375 L 3.78125 -6.34375 L 3.78125 -5.234375 L 2.578125 -5.234375 L 2.578125 -1.9375 C 2.578125 -1.625 2.632812 -1.394531 2.75 -1.25 C 2.875 -1.101562 3.054688 -1.03125 3.296875 -1.03125 C 3.398438 -1.03125 3.492188 -1.035156 3.578125 -1.046875 C 3.660156 -1.066406 3.75 -1.085938 3.84375 -1.109375 L 3.84375 -0.09375 C 3.644531 -0.03125 3.429688 0.015625 3.203125 0.046875 C 2.972656 0.0859375 2.726562 0.109375 2.46875 0.109375 Z M 2.46875 0.109375 \"/>\n",
       "</g>\n",
       "<g id=\"glyph-3-12\">\n",
       "<path d=\"M 0.84375 -7.484375 L 0.84375 -8.703125 L 2.484375 -8.703125 L 2.484375 -7.484375 Z M 0.84375 0 L 0.84375 -6.34375 L 2.484375 -6.34375 L 2.484375 0 Z M 0.84375 0 \"/>\n",
       "</g>\n",
       "<g id=\"glyph-3-13\">\n",
       "<path d=\"M 0.796875 0 L 0.796875 -8.25 L 2.53125 -8.25 L 2.53125 -1.34375 L 6.96875 -1.34375 L 6.96875 0 Z M 0.796875 0 \"/>\n",
       "</g>\n",
       "<g id=\"glyph-3-14\">\n",
       "<path d=\"M 6.46875 0 L 4.5625 -3.140625 L 2.53125 -3.140625 L 2.53125 0 L 0.796875 0 L 0.796875 -8.25 L 4.921875 -8.25 C 5.441406 -8.25 5.894531 -8.191406 6.28125 -8.078125 C 6.664062 -7.960938 6.984375 -7.796875 7.234375 -7.578125 C 7.492188 -7.367188 7.6875 -7.113281 7.8125 -6.8125 C 7.945312 -6.507812 8.015625 -6.171875 8.015625 -5.796875 C 8.015625 -5.484375 7.96875 -5.195312 7.875 -4.9375 C 7.78125 -4.6875 7.648438 -4.460938 7.484375 -4.265625 C 7.328125 -4.066406 7.132812 -3.898438 6.90625 -3.765625 C 6.6875 -3.628906 6.445312 -3.53125 6.1875 -3.46875 L 8.421875 0 Z M 6.265625 -5.71875 C 6.265625 -6.125 6.132812 -6.425781 5.875 -6.625 C 5.613281 -6.820312 5.238281 -6.921875 4.75 -6.921875 L 2.53125 -6.921875 L 2.53125 -4.484375 L 4.796875 -4.484375 C 5.054688 -4.484375 5.273438 -4.507812 5.453125 -4.5625 C 5.640625 -4.625 5.789062 -4.710938 5.90625 -4.828125 C 6.03125 -4.941406 6.117188 -5.070312 6.171875 -5.21875 C 6.234375 -5.375 6.265625 -5.539062 6.265625 -5.71875 Z M 6.265625 -5.71875 \"/>\n",
       "</g>\n",
       "<g id=\"glyph-3-15\">\n",
       "<path d=\"M 2.765625 -5.234375 L 2.765625 0 L 1.125 0 L 1.125 -5.234375 L 0.203125 -5.234375 L 0.203125 -6.34375 L 1.125 -6.34375 L 1.125 -7 C 1.125 -7.238281 1.15625 -7.460938 1.21875 -7.671875 C 1.28125 -7.878906 1.378906 -8.054688 1.515625 -8.203125 C 1.660156 -8.359375 1.847656 -8.476562 2.078125 -8.5625 C 2.316406 -8.65625 2.617188 -8.703125 2.984375 -8.703125 C 3.171875 -8.703125 3.351562 -8.691406 3.53125 -8.671875 C 3.707031 -8.648438 3.867188 -8.628906 4.015625 -8.609375 L 4.015625 -7.546875 C 3.953125 -7.554688 3.875 -7.566406 3.78125 -7.578125 C 3.695312 -7.585938 3.617188 -7.59375 3.546875 -7.59375 C 3.390625 -7.59375 3.257812 -7.578125 3.15625 -7.546875 C 3.0625 -7.515625 2.984375 -7.46875 2.921875 -7.40625 C 2.867188 -7.34375 2.828125 -7.265625 2.796875 -7.171875 C 2.773438 -7.078125 2.765625 -6.96875 2.765625 -6.84375 L 2.765625 -6.34375 L 4.015625 -6.34375 L 4.015625 -5.234375 Z M 2.765625 -5.234375 \"/>\n",
       "</g>\n",
       "<g id=\"glyph-3-16\">\n",
       "<path d=\"M 6.859375 -3.171875 C 6.859375 -2.691406 6.789062 -2.25 6.65625 -1.84375 C 6.519531 -1.445312 6.316406 -1.101562 6.046875 -0.8125 C 5.785156 -0.519531 5.453125 -0.289062 5.046875 -0.125 C 4.640625 0.0390625 4.171875 0.125 3.640625 0.125 C 3.117188 0.125 2.660156 0.046875 2.265625 -0.109375 C 1.878906 -0.273438 1.550781 -0.503906 1.28125 -0.796875 C 1.007812 -1.085938 0.804688 -1.429688 0.671875 -1.828125 C 0.535156 -2.234375 0.46875 -2.679688 0.46875 -3.171875 C 0.46875 -3.648438 0.53125 -4.085938 0.65625 -4.484375 C 0.789062 -4.890625 0.988281 -5.238281 1.25 -5.53125 C 1.519531 -5.820312 1.851562 -6.046875 2.25 -6.203125 C 2.65625 -6.367188 3.128906 -6.453125 3.671875 -6.453125 C 4.242188 -6.453125 4.726562 -6.367188 5.125 -6.203125 C 5.53125 -6.046875 5.859375 -5.820312 6.109375 -5.53125 C 6.367188 -5.238281 6.554688 -4.890625 6.671875 -4.484375 C 6.796875 -4.085938 6.859375 -3.648438 6.859375 -3.171875 Z M 5.140625 -3.171875 C 5.140625 -3.929688 5.015625 -4.476562 4.765625 -4.8125 C 4.523438 -5.15625 4.171875 -5.328125 3.703125 -5.328125 C 3.210938 -5.328125 2.835938 -5.15625 2.578125 -4.8125 C 2.328125 -4.46875 2.203125 -3.921875 2.203125 -3.171875 C 2.203125 -2.796875 2.234375 -2.46875 2.296875 -2.1875 C 2.367188 -1.914062 2.46875 -1.691406 2.59375 -1.515625 C 2.71875 -1.347656 2.867188 -1.222656 3.046875 -1.140625 C 3.222656 -1.054688 3.414062 -1.015625 3.625 -1.015625 C 3.863281 -1.015625 4.078125 -1.054688 4.265625 -1.140625 C 4.453125 -1.222656 4.609375 -1.347656 4.734375 -1.515625 C 4.867188 -1.691406 4.96875 -1.914062 5.03125 -2.1875 C 5.101562 -2.46875 5.140625 -2.796875 5.140625 -3.171875 Z M 5.140625 -3.171875 \"/>\n",
       "</g>\n",
       "<g id=\"glyph-3-17\">\n",
       "<path d=\"M 0.84375 0 L 0.84375 -4.859375 C 0.84375 -4.992188 0.835938 -5.132812 0.828125 -5.28125 C 0.828125 -5.4375 0.820312 -5.582031 0.8125 -5.71875 C 0.8125 -5.863281 0.804688 -5.988281 0.796875 -6.09375 C 0.796875 -6.207031 0.796875 -6.289062 0.796875 -6.34375 L 2.359375 -6.34375 C 2.367188 -6.289062 2.375 -6.207031 2.375 -6.09375 C 2.382812 -5.976562 2.394531 -5.851562 2.40625 -5.71875 C 2.414062 -5.582031 2.421875 -5.445312 2.421875 -5.3125 C 2.429688 -5.175781 2.4375 -5.066406 2.4375 -4.984375 L 2.46875 -4.984375 C 2.539062 -5.210938 2.617188 -5.414062 2.703125 -5.59375 C 2.785156 -5.78125 2.882812 -5.9375 3 -6.0625 C 3.113281 -6.195312 3.25 -6.296875 3.40625 -6.359375 C 3.5625 -6.429688 3.753906 -6.46875 3.984375 -6.46875 C 4.078125 -6.46875 4.171875 -6.457031 4.265625 -6.4375 C 4.359375 -6.414062 4.429688 -6.394531 4.484375 -6.375 L 4.484375 -5 C 4.378906 -5.019531 4.273438 -5.039062 4.171875 -5.0625 C 4.066406 -5.082031 3.9375 -5.09375 3.78125 -5.09375 C 3.375 -5.09375 3.054688 -4.925781 2.828125 -4.59375 C 2.597656 -4.257812 2.484375 -3.765625 2.484375 -3.109375 L 2.484375 0 Z M 0.84375 0 \"/>\n",
       "</g>\n",
       "<g id=\"glyph-3-18\">\n",
       "<path d=\"M 3.5 2.546875 C 3.070312 2.546875 2.695312 2.503906 2.375 2.421875 C 2.0625 2.335938 1.789062 2.21875 1.5625 2.0625 C 1.34375 1.914062 1.164062 1.738281 1.03125 1.53125 C 0.894531 1.320312 0.800781 1.09375 0.75 0.84375 L 2.40625 0.640625 C 2.457031 0.898438 2.582031 1.097656 2.78125 1.234375 C 2.976562 1.378906 3.234375 1.453125 3.546875 1.453125 C 3.734375 1.453125 3.90625 1.425781 4.0625 1.375 C 4.226562 1.320312 4.367188 1.226562 4.484375 1.09375 C 4.609375 0.96875 4.703125 0.796875 4.765625 0.578125 C 4.828125 0.367188 4.859375 0.101562 4.859375 -0.21875 C 4.859375 -0.320312 4.859375 -0.429688 4.859375 -0.546875 C 4.859375 -0.660156 4.859375 -0.765625 4.859375 -0.859375 C 4.867188 -0.972656 4.875 -1.078125 4.875 -1.171875 L 4.859375 -1.171875 C 4.671875 -0.765625 4.398438 -0.46875 4.046875 -0.28125 C 3.703125 -0.101562 3.289062 -0.015625 2.8125 -0.015625 C 2.414062 -0.015625 2.070312 -0.09375 1.78125 -0.25 C 1.488281 -0.40625 1.242188 -0.625 1.046875 -0.90625 C 0.859375 -1.195312 0.71875 -1.535156 0.625 -1.921875 C 0.539062 -2.316406 0.5 -2.75 0.5 -3.21875 C 0.5 -3.707031 0.546875 -4.148438 0.640625 -4.546875 C 0.734375 -4.941406 0.878906 -5.28125 1.078125 -5.5625 C 1.285156 -5.851562 1.539062 -6.078125 1.84375 -6.234375 C 2.15625 -6.390625 2.519531 -6.46875 2.9375 -6.46875 C 3.363281 -6.46875 3.742188 -6.375 4.078125 -6.1875 C 4.410156 -6.007812 4.671875 -5.722656 4.859375 -5.328125 L 4.890625 -5.328125 C 4.890625 -5.398438 4.890625 -5.488281 4.890625 -5.59375 C 4.898438 -5.707031 4.90625 -5.8125 4.90625 -5.90625 C 4.914062 -6.007812 4.925781 -6.097656 4.9375 -6.171875 C 4.945312 -6.253906 4.957031 -6.3125 4.96875 -6.34375 L 6.53125 -6.34375 C 6.519531 -6.195312 6.507812 -6 6.5 -5.75 C 6.5 -5.5 6.5 -5.207031 6.5 -4.875 L 6.5 -0.1875 C 6.5 0.269531 6.429688 0.671875 6.296875 1.015625 C 6.160156 1.359375 5.960938 1.640625 5.703125 1.859375 C 5.453125 2.085938 5.140625 2.257812 4.765625 2.375 C 4.390625 2.488281 3.96875 2.546875 3.5 2.546875 Z M 4.875 -3.265625 C 4.875 -3.660156 4.832031 -3.988281 4.75 -4.25 C 4.675781 -4.519531 4.578125 -4.734375 4.453125 -4.890625 C 4.328125 -5.054688 4.179688 -5.171875 4.015625 -5.234375 C 3.859375 -5.296875 3.695312 -5.328125 3.53125 -5.328125 C 3.320312 -5.328125 3.132812 -5.285156 2.96875 -5.203125 C 2.800781 -5.128906 2.660156 -5.003906 2.546875 -4.828125 C 2.441406 -4.660156 2.359375 -4.441406 2.296875 -4.171875 C 2.234375 -3.910156 2.203125 -3.59375 2.203125 -3.21875 C 2.203125 -2.539062 2.3125 -2.023438 2.53125 -1.671875 C 2.75 -1.328125 3.078125 -1.15625 3.515625 -1.15625 C 3.679688 -1.15625 3.84375 -1.1875 4 -1.25 C 4.164062 -1.3125 4.3125 -1.421875 4.4375 -1.578125 C 4.570312 -1.742188 4.675781 -1.960938 4.75 -2.234375 C 4.832031 -2.503906 4.875 -2.847656 4.875 -3.265625 Z M 4.875 -3.265625 \"/>\n",
       "</g>\n",
       "<g id=\"glyph-3-19\">\n",
       "<path d=\"M 5.828125 0 L 2.234375 -6.359375 C 2.253906 -6.179688 2.269531 -6.007812 2.28125 -5.84375 C 2.300781 -5.695312 2.316406 -5.535156 2.328125 -5.359375 C 2.335938 -5.191406 2.34375 -5.03125 2.34375 -4.875 L 2.34375 0 L 0.796875 0 L 0.796875 -8.25 L 2.78125 -8.25 L 6.421875 -1.84375 C 6.410156 -2.007812 6.394531 -2.179688 6.375 -2.359375 C 6.363281 -2.515625 6.351562 -2.6875 6.34375 -2.875 C 6.332031 -3.070312 6.328125 -3.265625 6.328125 -3.453125 L 6.328125 -8.25 L 7.859375 -8.25 L 7.859375 0 Z M 5.828125 0 \"/>\n",
       "</g>\n",
       "<g id=\"glyph-3-20\">\n",
       "<path d=\"M 4.71875 -1.234375 C 4.96875 -1.234375 5.207031 -1.253906 5.4375 -1.296875 C 5.675781 -1.335938 5.890625 -1.390625 6.078125 -1.453125 C 6.273438 -1.515625 6.453125 -1.585938 6.609375 -1.671875 C 6.773438 -1.753906 6.910156 -1.84375 7.015625 -1.9375 L 7.015625 -3.078125 L 5 -3.078125 L 5 -4.359375 L 8.59375 -4.359375 L 8.59375 -1.3125 C 8.40625 -1.125 8.175781 -0.941406 7.90625 -0.765625 C 7.644531 -0.597656 7.347656 -0.445312 7.015625 -0.3125 C 6.679688 -0.1875 6.316406 -0.0820312 5.921875 0 C 5.535156 0.0820312 5.117188 0.125 4.671875 0.125 C 3.941406 0.125 3.3125 0.0195312 2.78125 -0.1875 C 2.257812 -0.40625 1.828125 -0.707031 1.484375 -1.09375 C 1.148438 -1.476562 0.898438 -1.929688 0.734375 -2.453125 C 0.578125 -2.972656 0.5 -3.546875 0.5 -4.171875 C 0.5 -4.816406 0.582031 -5.394531 0.75 -5.90625 C 0.925781 -6.425781 1.1875 -6.867188 1.53125 -7.234375 C 1.882812 -7.597656 2.320312 -7.878906 2.84375 -8.078125 C 3.375 -8.273438 4 -8.375 4.71875 -8.375 C 5.238281 -8.375 5.695312 -8.320312 6.09375 -8.21875 C 6.5 -8.125 6.851562 -7.984375 7.15625 -7.796875 C 7.46875 -7.609375 7.722656 -7.378906 7.921875 -7.109375 C 8.128906 -6.847656 8.296875 -6.554688 8.421875 -6.234375 L 6.828125 -5.75 C 6.753906 -5.914062 6.65625 -6.078125 6.53125 -6.234375 C 6.414062 -6.390625 6.269531 -6.523438 6.09375 -6.640625 C 5.925781 -6.753906 5.726562 -6.84375 5.5 -6.90625 C 5.269531 -6.976562 5.007812 -7.015625 4.71875 -7.015625 C 4.289062 -7.015625 3.921875 -6.945312 3.609375 -6.8125 C 3.296875 -6.675781 3.035156 -6.484375 2.828125 -6.234375 C 2.628906 -5.984375 2.476562 -5.679688 2.375 -5.328125 C 2.28125 -4.984375 2.234375 -4.597656 2.234375 -4.171875 C 2.234375 -3.734375 2.28125 -3.332031 2.375 -2.96875 C 2.476562 -2.613281 2.628906 -2.304688 2.828125 -2.046875 C 3.035156 -1.796875 3.296875 -1.597656 3.609375 -1.453125 C 3.921875 -1.304688 4.289062 -1.234375 4.71875 -1.234375 Z M 4.71875 -1.234375 \"/>\n",
       "</g>\n",
       "<g id=\"glyph-3-21\">\n",
       "<path d=\"M 6.1875 -4.125 C 6.1875 -3.34375 6.113281 -2.679688 5.96875 -2.140625 C 5.820312 -1.597656 5.617188 -1.160156 5.359375 -0.828125 C 5.109375 -0.492188 4.804688 -0.25 4.453125 -0.09375 C 4.109375 0.0507812 3.726562 0.125 3.3125 0.125 C 2.894531 0.125 2.507812 0.0507812 2.15625 -0.09375 C 1.8125 -0.238281 1.515625 -0.476562 1.265625 -0.8125 C 1.015625 -1.144531 0.816406 -1.582031 0.671875 -2.125 C 0.535156 -2.664062 0.46875 -3.332031 0.46875 -4.125 C 0.46875 -4.957031 0.535156 -5.644531 0.671875 -6.1875 C 0.816406 -6.738281 1.015625 -7.175781 1.265625 -7.5 C 1.523438 -7.820312 1.832031 -8.046875 2.1875 -8.171875 C 2.539062 -8.304688 2.929688 -8.375 3.359375 -8.375 C 3.765625 -8.375 4.140625 -8.304688 4.484375 -8.171875 C 4.828125 -8.046875 5.125 -7.820312 5.375 -7.5 C 5.625 -7.175781 5.820312 -6.738281 5.96875 -6.1875 C 6.113281 -5.644531 6.1875 -4.957031 6.1875 -4.125 Z M 4.53125 -4.125 C 4.53125 -4.707031 4.507812 -5.1875 4.46875 -5.5625 C 4.425781 -5.945312 4.359375 -6.253906 4.265625 -6.484375 C 4.171875 -6.710938 4.046875 -6.867188 3.890625 -6.953125 C 3.742188 -7.046875 3.5625 -7.09375 3.34375 -7.09375 C 3.113281 -7.09375 2.921875 -7.046875 2.765625 -6.953125 C 2.609375 -6.859375 2.484375 -6.695312 2.390625 -6.46875 C 2.296875 -6.25 2.226562 -5.945312 2.1875 -5.5625 C 2.144531 -5.1875 2.125 -4.707031 2.125 -4.125 C 2.125 -3.5625 2.144531 -3.085938 2.1875 -2.703125 C 2.226562 -2.328125 2.296875 -2.023438 2.390625 -1.796875 C 2.484375 -1.566406 2.601562 -1.40625 2.75 -1.3125 C 2.90625 -1.21875 3.097656 -1.171875 3.328125 -1.171875 C 3.535156 -1.171875 3.71875 -1.21875 3.875 -1.3125 C 4.03125 -1.40625 4.15625 -1.566406 4.25 -1.796875 C 4.34375 -2.023438 4.410156 -2.328125 4.453125 -2.703125 C 4.503906 -3.085938 4.53125 -3.5625 4.53125 -4.125 Z M 4.53125 -4.125 \"/>\n",
       "</g>\n",
       "<g id=\"glyph-3-22\">\n",
       "<path d=\"M 6.3125 -2.328125 C 6.3125 -1.972656 6.25 -1.644531 6.125 -1.34375 C 6.007812 -1.039062 5.832031 -0.78125 5.59375 -0.5625 C 5.351562 -0.351562 5.046875 -0.1875 4.671875 -0.0625 C 4.296875 0.0625 3.851562 0.125 3.34375 0.125 C 2.832031 0.125 2.390625 0.0625 2.015625 -0.0625 C 1.648438 -0.1875 1.34375 -0.351562 1.09375 -0.5625 C 0.851562 -0.78125 0.671875 -1.035156 0.546875 -1.328125 C 0.429688 -1.628906 0.375 -1.957031 0.375 -2.3125 C 0.375 -2.613281 0.421875 -2.878906 0.515625 -3.109375 C 0.609375 -3.347656 0.734375 -3.550781 0.890625 -3.71875 C 1.046875 -3.882812 1.222656 -4.015625 1.421875 -4.109375 C 1.628906 -4.210938 1.84375 -4.28125 2.0625 -4.3125 L 2.0625 -4.34375 C 1.832031 -4.394531 1.625 -4.476562 1.4375 -4.59375 C 1.257812 -4.707031 1.101562 -4.847656 0.96875 -5.015625 C 0.84375 -5.179688 0.742188 -5.363281 0.671875 -5.5625 C 0.609375 -5.757812 0.578125 -5.96875 0.578125 -6.1875 C 0.578125 -6.519531 0.632812 -6.820312 0.75 -7.09375 C 0.875 -7.363281 1.050781 -7.59375 1.28125 -7.78125 C 1.507812 -7.96875 1.796875 -8.113281 2.140625 -8.21875 C 2.484375 -8.320312 2.878906 -8.375 3.328125 -8.375 C 3.804688 -8.375 4.21875 -8.320312 4.5625 -8.21875 C 4.914062 -8.113281 5.203125 -7.960938 5.421875 -7.765625 C 5.648438 -7.578125 5.816406 -7.347656 5.921875 -7.078125 C 6.035156 -6.804688 6.09375 -6.507812 6.09375 -6.1875 C 6.09375 -5.96875 6.054688 -5.753906 5.984375 -5.546875 C 5.921875 -5.347656 5.828125 -5.164062 5.703125 -5 C 5.578125 -4.84375 5.421875 -4.707031 5.234375 -4.59375 C 5.046875 -4.476562 4.832031 -4.398438 4.59375 -4.359375 L 4.59375 -4.328125 C 4.84375 -4.285156 5.070312 -4.210938 5.28125 -4.109375 C 5.488281 -4.015625 5.664062 -3.882812 5.8125 -3.71875 C 5.96875 -3.550781 6.085938 -3.347656 6.171875 -3.109375 C 6.265625 -2.878906 6.3125 -2.617188 6.3125 -2.328125 Z M 4.40625 -6.09375 C 4.40625 -6.257812 4.382812 -6.410156 4.34375 -6.546875 C 4.3125 -6.679688 4.253906 -6.800781 4.171875 -6.90625 C 4.097656 -7.007812 3.988281 -7.085938 3.84375 -7.140625 C 3.707031 -7.191406 3.535156 -7.21875 3.328125 -7.21875 C 3.117188 -7.21875 2.945312 -7.191406 2.8125 -7.140625 C 2.675781 -7.085938 2.566406 -7.007812 2.484375 -6.90625 C 2.398438 -6.800781 2.335938 -6.679688 2.296875 -6.546875 C 2.265625 -6.410156 2.25 -6.257812 2.25 -6.09375 C 2.25 -5.945312 2.265625 -5.800781 2.296875 -5.65625 C 2.328125 -5.519531 2.378906 -5.394531 2.453125 -5.28125 C 2.535156 -5.175781 2.644531 -5.085938 2.78125 -5.015625 C 2.925781 -4.941406 3.109375 -4.90625 3.328125 -4.90625 C 3.566406 -4.90625 3.753906 -4.941406 3.890625 -5.015625 C 4.035156 -5.085938 4.144531 -5.179688 4.21875 -5.296875 C 4.300781 -5.410156 4.351562 -5.535156 4.375 -5.671875 C 4.394531 -5.816406 4.40625 -5.957031 4.40625 -6.09375 Z M 4.59375 -2.46875 C 4.59375 -2.632812 4.570312 -2.796875 4.53125 -2.953125 C 4.5 -3.109375 4.4375 -3.242188 4.34375 -3.359375 C 4.25 -3.484375 4.117188 -3.578125 3.953125 -3.640625 C 3.785156 -3.710938 3.570312 -3.75 3.3125 -3.75 C 3.070312 -3.75 2.875 -3.710938 2.71875 -3.640625 C 2.5625 -3.578125 2.4375 -3.484375 2.34375 -3.359375 C 2.25 -3.234375 2.179688 -3.09375 2.140625 -2.9375 C 2.097656 -2.78125 2.078125 -2.613281 2.078125 -2.4375 C 2.078125 -2.226562 2.097656 -2.035156 2.140625 -1.859375 C 2.179688 -1.691406 2.25 -1.546875 2.34375 -1.421875 C 2.445312 -1.304688 2.578125 -1.210938 2.734375 -1.140625 C 2.898438 -1.078125 3.109375 -1.046875 3.359375 -1.046875 C 3.609375 -1.046875 3.8125 -1.078125 3.96875 -1.140625 C 4.125 -1.210938 4.25 -1.3125 4.34375 -1.4375 C 4.4375 -1.5625 4.5 -1.707031 4.53125 -1.875 C 4.570312 -2.050781 4.59375 -2.25 4.59375 -2.46875 Z M 4.59375 -2.46875 \"/>\n",
       "</g>\n",
       "<g id=\"glyph-3-23\">\n",
       "<path d=\"M 6.34375 -2.75 C 6.34375 -2.332031 6.273438 -1.945312 6.140625 -1.59375 C 6.015625 -1.25 5.820312 -0.945312 5.5625 -0.6875 C 5.300781 -0.4375 4.976562 -0.238281 4.59375 -0.09375 C 4.21875 0.0507812 3.78125 0.125 3.28125 0.125 C 2.820312 0.125 2.421875 0.0664062 2.078125 -0.046875 C 1.734375 -0.160156 1.441406 -0.316406 1.203125 -0.515625 C 0.960938 -0.710938 0.773438 -0.941406 0.640625 -1.203125 C 0.515625 -1.472656 0.425781 -1.757812 0.375 -2.0625 L 2.015625 -2.203125 C 2.046875 -2.066406 2.085938 -1.9375 2.140625 -1.8125 C 2.203125 -1.695312 2.28125 -1.59375 2.375 -1.5 C 2.476562 -1.40625 2.601562 -1.328125 2.75 -1.265625 C 2.90625 -1.210938 3.085938 -1.1875 3.296875 -1.1875 C 3.710938 -1.1875 4.039062 -1.316406 4.28125 -1.578125 C 4.519531 -1.835938 4.640625 -2.21875 4.640625 -2.71875 C 4.640625 -2.9375 4.609375 -3.128906 4.546875 -3.296875 C 4.492188 -3.472656 4.410156 -3.625 4.296875 -3.75 C 4.179688 -3.875 4.039062 -3.96875 3.875 -4.03125 C 3.71875 -4.101562 3.535156 -4.140625 3.328125 -4.140625 C 3.054688 -4.140625 2.832031 -4.085938 2.65625 -3.984375 C 2.476562 -3.878906 2.332031 -3.753906 2.21875 -3.609375 L 0.609375 -3.609375 L 0.890625 -8.25 L 5.859375 -8.25 L 5.859375 -7.03125 L 2.390625 -7.03125 L 2.25 -4.953125 C 2.414062 -5.085938 2.625 -5.207031 2.875 -5.3125 C 3.125 -5.414062 3.414062 -5.46875 3.75 -5.46875 C 4.15625 -5.46875 4.519531 -5.398438 4.84375 -5.265625 C 5.164062 -5.140625 5.4375 -4.957031 5.65625 -4.71875 C 5.875 -4.476562 6.039062 -4.191406 6.15625 -3.859375 C 6.28125 -3.523438 6.34375 -3.15625 6.34375 -2.75 Z M 6.34375 -2.75 \"/>\n",
       "</g>\n",
       "<g id=\"glyph-3-24\">\n",
       "<path d=\"M 6.140625 -6.953125 C 5.773438 -6.367188 5.425781 -5.800781 5.09375 -5.25 C 4.757812 -4.695312 4.46875 -4.140625 4.21875 -3.578125 C 3.976562 -3.023438 3.785156 -2.453125 3.640625 -1.859375 C 3.503906 -1.273438 3.4375 -0.65625 3.4375 0 L 1.71875 0 C 1.71875 -0.65625 1.796875 -1.273438 1.953125 -1.859375 C 2.109375 -2.453125 2.316406 -3.023438 2.578125 -3.578125 C 2.847656 -4.140625 3.15625 -4.691406 3.5 -5.234375 C 3.851562 -5.773438 4.226562 -6.332031 4.625 -6.90625 L 0.515625 -6.90625 L 0.515625 -8.25 L 6.140625 -8.25 Z M 6.140625 -6.953125 \"/>\n",
       "</g>\n",
       "<g id=\"glyph-3-25\">\n",
       "<path d=\"M 6.234375 -2.296875 C 6.234375 -1.921875 6.171875 -1.582031 6.046875 -1.28125 C 5.929688 -0.976562 5.75 -0.722656 5.5 -0.515625 C 5.257812 -0.304688 4.953125 -0.144531 4.578125 -0.03125 C 4.210938 0.0820312 3.789062 0.140625 3.3125 0.140625 C 2.769531 0.140625 2.3125 0.0703125 1.9375 -0.0625 C 1.570312 -0.207031 1.269531 -0.390625 1.03125 -0.609375 C 0.800781 -0.835938 0.625 -1.09375 0.5 -1.375 C 0.382812 -1.664062 0.3125 -1.957031 0.28125 -2.25 L 1.953125 -2.390625 C 1.972656 -2.210938 2.015625 -2.050781 2.078125 -1.90625 C 2.148438 -1.757812 2.238281 -1.632812 2.34375 -1.53125 C 2.457031 -1.425781 2.59375 -1.34375 2.75 -1.28125 C 2.90625 -1.226562 3.09375 -1.203125 3.3125 -1.203125 C 3.695312 -1.203125 4 -1.296875 4.21875 -1.484375 C 4.4375 -1.679688 4.546875 -1.984375 4.546875 -2.390625 C 4.546875 -2.640625 4.492188 -2.835938 4.390625 -2.984375 C 4.296875 -3.128906 4.164062 -3.242188 4 -3.328125 C 3.84375 -3.410156 3.671875 -3.460938 3.484375 -3.484375 C 3.304688 -3.515625 3.132812 -3.53125 2.96875 -3.53125 L 2.390625 -3.53125 L 2.390625 -4.859375 L 2.9375 -4.859375 C 3.101562 -4.859375 3.269531 -4.875 3.4375 -4.90625 C 3.601562 -4.9375 3.753906 -4.992188 3.890625 -5.078125 C 4.035156 -5.160156 4.148438 -5.273438 4.234375 -5.421875 C 4.316406 -5.566406 4.359375 -5.753906 4.359375 -5.984375 C 4.359375 -6.316406 4.265625 -6.578125 4.078125 -6.765625 C 3.890625 -6.960938 3.613281 -7.0625 3.25 -7.0625 C 2.90625 -7.0625 2.628906 -6.96875 2.421875 -6.78125 C 2.210938 -6.59375 2.09375 -6.328125 2.0625 -5.984375 L 0.421875 -6.109375 C 0.460938 -6.492188 0.566406 -6.828125 0.734375 -7.109375 C 0.898438 -7.398438 1.109375 -7.640625 1.359375 -7.828125 C 1.609375 -8.015625 1.894531 -8.148438 2.21875 -8.234375 C 2.550781 -8.328125 2.90625 -8.375 3.28125 -8.375 C 3.757812 -8.375 4.171875 -8.316406 4.515625 -8.203125 C 4.867188 -8.085938 5.15625 -7.929688 5.375 -7.734375 C 5.601562 -7.535156 5.769531 -7.300781 5.875 -7.03125 C 5.976562 -6.769531 6.03125 -6.488281 6.03125 -6.1875 C 6.03125 -5.9375 5.992188 -5.707031 5.921875 -5.5 C 5.847656 -5.289062 5.738281 -5.101562 5.59375 -4.9375 C 5.457031 -4.769531 5.273438 -4.628906 5.046875 -4.515625 C 4.828125 -4.398438 4.566406 -4.3125 4.265625 -4.25 L 4.265625 -4.21875 C 4.609375 -4.1875 4.90625 -4.113281 5.15625 -4 C 5.40625 -3.882812 5.609375 -3.738281 5.765625 -3.5625 C 5.921875 -3.394531 6.035156 -3.203125 6.109375 -2.984375 C 6.191406 -2.765625 6.234375 -2.535156 6.234375 -2.296875 Z M 6.234375 -2.296875 \"/>\n",
       "</g>\n",
       "</g>\n",
       "<clipPath id=\"clip-0\">\n",
       "<path clip-rule=\"nonzero\" d=\"M 43.152344 22.957031 L 426.523438 22.957031 L 426.523438 185.847656 L 43.152344 185.847656 Z M 43.152344 22.957031 \"/>\n",
       "</clipPath>\n",
       "<clipPath id=\"clip-1\">\n",
       "<path clip-rule=\"nonzero\" d=\"M 43.152344 161 L 426.523438 161 L 426.523438 162 L 43.152344 162 Z M 43.152344 161 \"/>\n",
       "</clipPath>\n",
       "<clipPath id=\"clip-2\">\n",
       "<path clip-rule=\"nonzero\" d=\"M 43.152344 124 L 426.523438 124 L 426.523438 126 L 43.152344 126 Z M 43.152344 124 \"/>\n",
       "</clipPath>\n",
       "<clipPath id=\"clip-3\">\n",
       "<path clip-rule=\"nonzero\" d=\"M 43.152344 88 L 426.523438 88 L 426.523438 90 L 43.152344 90 Z M 43.152344 88 \"/>\n",
       "</clipPath>\n",
       "<clipPath id=\"clip-4\">\n",
       "<path clip-rule=\"nonzero\" d=\"M 43.152344 52 L 426.523438 52 L 426.523438 53 L 43.152344 53 Z M 43.152344 52 \"/>\n",
       "</clipPath>\n",
       "<clipPath id=\"clip-5\">\n",
       "<path clip-rule=\"nonzero\" d=\"M 92 22.957031 L 94 22.957031 L 94 185.847656 L 92 185.847656 Z M 92 22.957031 \"/>\n",
       "</clipPath>\n",
       "<clipPath id=\"clip-6\">\n",
       "<path clip-rule=\"nonzero\" d=\"M 198 22.957031 L 200 22.957031 L 200 185.847656 L 198 185.847656 Z M 198 22.957031 \"/>\n",
       "</clipPath>\n",
       "<clipPath id=\"clip-7\">\n",
       "<path clip-rule=\"nonzero\" d=\"M 304 22.957031 L 306 22.957031 L 306 185.847656 L 304 185.847656 Z M 304 22.957031 \"/>\n",
       "</clipPath>\n",
       "<clipPath id=\"clip-8\">\n",
       "<path clip-rule=\"nonzero\" d=\"M 410 22.957031 L 412 22.957031 L 412 185.847656 L 410 185.847656 Z M 410 22.957031 \"/>\n",
       "</clipPath>\n",
       "<clipPath id=\"clip-9\">\n",
       "<path clip-rule=\"nonzero\" d=\"M 43.152344 178 L 426.523438 178 L 426.523438 181 L 43.152344 181 Z M 43.152344 178 \"/>\n",
       "</clipPath>\n",
       "<clipPath id=\"clip-10\">\n",
       "<path clip-rule=\"nonzero\" d=\"M 43.152344 142 L 426.523438 142 L 426.523438 144 L 43.152344 144 Z M 43.152344 142 \"/>\n",
       "</clipPath>\n",
       "<clipPath id=\"clip-11\">\n",
       "<path clip-rule=\"nonzero\" d=\"M 43.152344 106 L 426.523438 106 L 426.523438 108 L 43.152344 108 Z M 43.152344 106 \"/>\n",
       "</clipPath>\n",
       "<clipPath id=\"clip-12\">\n",
       "<path clip-rule=\"nonzero\" d=\"M 43.152344 70 L 426.523438 70 L 426.523438 72 L 43.152344 72 Z M 43.152344 70 \"/>\n",
       "</clipPath>\n",
       "<clipPath id=\"clip-13\">\n",
       "<path clip-rule=\"nonzero\" d=\"M 43.152344 33 L 426.523438 33 L 426.523438 35 L 43.152344 35 Z M 43.152344 33 \"/>\n",
       "</clipPath>\n",
       "<clipPath id=\"clip-14\">\n",
       "<path clip-rule=\"nonzero\" d=\"M 145 22.957031 L 147 22.957031 L 147 185.847656 L 145 185.847656 Z M 145 22.957031 \"/>\n",
       "</clipPath>\n",
       "<clipPath id=\"clip-15\">\n",
       "<path clip-rule=\"nonzero\" d=\"M 251 22.957031 L 253 22.957031 L 253 185.847656 L 251 185.847656 Z M 251 22.957031 \"/>\n",
       "</clipPath>\n",
       "<clipPath id=\"clip-16\">\n",
       "<path clip-rule=\"nonzero\" d=\"M 357 22.957031 L 359 22.957031 L 359 185.847656 L 357 185.847656 Z M 357 22.957031 \"/>\n",
       "</clipPath>\n",
       "</defs>\n",
       "<rect x=\"-43.2\" y=\"-21.6\" width=\"518.4\" height=\"259.2\" fill=\"rgb(100%, 100%, 100%)\" fill-opacity=\"1\"/>\n",
       "<rect x=\"-43.2\" y=\"-21.6\" width=\"518.4\" height=\"259.2\" fill=\"rgb(100%, 100%, 100%)\" fill-opacity=\"1\"/>\n",
       "<path fill=\"none\" stroke-width=\"1.066978\" stroke-linecap=\"round\" stroke-linejoin=\"round\" stroke=\"rgb(100%, 100%, 100%)\" stroke-opacity=\"1\" stroke-miterlimit=\"10\" d=\"M 0 216 L 432 216 L 432 0 L 0 0 Z M 0 216 \"/>\n",
       "<g clip-path=\"url(#clip-0)\">\n",
       "<path fill-rule=\"nonzero\" fill=\"rgb(92.156863%, 92.156863%, 92.156863%)\" fill-opacity=\"1\" d=\"M 43.152344 185.847656 L 426.523438 185.847656 L 426.523438 22.957031 L 43.152344 22.957031 Z M 43.152344 185.847656 \"/>\n",
       "</g>\n",
       "<g clip-path=\"url(#clip-1)\">\n",
       "<path fill=\"none\" stroke-width=\"0.533489\" stroke-linecap=\"butt\" stroke-linejoin=\"round\" stroke=\"rgb(100%, 100%, 100%)\" stroke-opacity=\"1\" stroke-miterlimit=\"10\" d=\"M 43.152344 161.390625 L 426.519531 161.390625 \"/>\n",
       "</g>\n",
       "<g clip-path=\"url(#clip-2)\">\n",
       "<path fill=\"none\" stroke-width=\"0.533489\" stroke-linecap=\"butt\" stroke-linejoin=\"round\" stroke=\"rgb(100%, 100%, 100%)\" stroke-opacity=\"1\" stroke-miterlimit=\"10\" d=\"M 43.152344 125.125 L 426.519531 125.125 \"/>\n",
       "</g>\n",
       "<g clip-path=\"url(#clip-3)\">\n",
       "<path fill=\"none\" stroke-width=\"0.533489\" stroke-linecap=\"butt\" stroke-linejoin=\"round\" stroke=\"rgb(100%, 100%, 100%)\" stroke-opacity=\"1\" stroke-miterlimit=\"10\" d=\"M 43.152344 88.859375 L 426.519531 88.859375 \"/>\n",
       "</g>\n",
       "<g clip-path=\"url(#clip-4)\">\n",
       "<path fill=\"none\" stroke-width=\"0.533489\" stroke-linecap=\"butt\" stroke-linejoin=\"round\" stroke=\"rgb(100%, 100%, 100%)\" stroke-opacity=\"1\" stroke-miterlimit=\"10\" d=\"M 43.152344 52.589844 L 426.519531 52.589844 \"/>\n",
       "</g>\n",
       "<g clip-path=\"url(#clip-5)\">\n",
       "<path fill=\"none\" stroke-width=\"0.533489\" stroke-linecap=\"butt\" stroke-linejoin=\"round\" stroke=\"rgb(100%, 100%, 100%)\" stroke-opacity=\"1\" stroke-miterlimit=\"10\" d=\"M 93.0625 185.847656 L 93.0625 22.957031 \"/>\n",
       "</g>\n",
       "<g clip-path=\"url(#clip-6)\">\n",
       "<path fill=\"none\" stroke-width=\"0.533489\" stroke-linecap=\"butt\" stroke-linejoin=\"round\" stroke=\"rgb(100%, 100%, 100%)\" stroke-opacity=\"1\" stroke-miterlimit=\"10\" d=\"M 198.996094 185.847656 L 198.996094 22.957031 \"/>\n",
       "</g>\n",
       "<g clip-path=\"url(#clip-7)\">\n",
       "<path fill=\"none\" stroke-width=\"0.533489\" stroke-linecap=\"butt\" stroke-linejoin=\"round\" stroke=\"rgb(100%, 100%, 100%)\" stroke-opacity=\"1\" stroke-miterlimit=\"10\" d=\"M 304.925781 185.847656 L 304.925781 22.957031 \"/>\n",
       "</g>\n",
       "<g clip-path=\"url(#clip-8)\">\n",
       "<path fill=\"none\" stroke-width=\"0.533489\" stroke-linecap=\"butt\" stroke-linejoin=\"round\" stroke=\"rgb(100%, 100%, 100%)\" stroke-opacity=\"1\" stroke-miterlimit=\"10\" d=\"M 410.859375 185.847656 L 410.859375 22.957031 \"/>\n",
       "</g>\n",
       "<g clip-path=\"url(#clip-9)\">\n",
       "<path fill=\"none\" stroke-width=\"1.066978\" stroke-linecap=\"butt\" stroke-linejoin=\"round\" stroke=\"rgb(100%, 100%, 100%)\" stroke-opacity=\"1\" stroke-miterlimit=\"10\" d=\"M 43.152344 179.523438 L 426.519531 179.523438 \"/>\n",
       "</g>\n",
       "<g clip-path=\"url(#clip-10)\">\n",
       "<path fill=\"none\" stroke-width=\"1.066978\" stroke-linecap=\"butt\" stroke-linejoin=\"round\" stroke=\"rgb(100%, 100%, 100%)\" stroke-opacity=\"1\" stroke-miterlimit=\"10\" d=\"M 43.152344 143.257812 L 426.519531 143.257812 \"/>\n",
       "</g>\n",
       "<g clip-path=\"url(#clip-11)\">\n",
       "<path fill=\"none\" stroke-width=\"1.066978\" stroke-linecap=\"butt\" stroke-linejoin=\"round\" stroke=\"rgb(100%, 100%, 100%)\" stroke-opacity=\"1\" stroke-miterlimit=\"10\" d=\"M 43.152344 106.992188 L 426.519531 106.992188 \"/>\n",
       "</g>\n",
       "<g clip-path=\"url(#clip-12)\">\n",
       "<path fill=\"none\" stroke-width=\"1.066978\" stroke-linecap=\"butt\" stroke-linejoin=\"round\" stroke=\"rgb(100%, 100%, 100%)\" stroke-opacity=\"1\" stroke-miterlimit=\"10\" d=\"M 43.152344 70.726562 L 426.519531 70.726562 \"/>\n",
       "</g>\n",
       "<g clip-path=\"url(#clip-13)\">\n",
       "<path fill=\"none\" stroke-width=\"1.066978\" stroke-linecap=\"butt\" stroke-linejoin=\"round\" stroke=\"rgb(100%, 100%, 100%)\" stroke-opacity=\"1\" stroke-miterlimit=\"10\" d=\"M 43.152344 34.457031 L 426.519531 34.457031 \"/>\n",
       "</g>\n",
       "<g clip-path=\"url(#clip-14)\">\n",
       "<path fill=\"none\" stroke-width=\"1.066978\" stroke-linecap=\"butt\" stroke-linejoin=\"round\" stroke=\"rgb(100%, 100%, 100%)\" stroke-opacity=\"1\" stroke-miterlimit=\"10\" d=\"M 146.027344 185.847656 L 146.027344 22.957031 \"/>\n",
       "</g>\n",
       "<g clip-path=\"url(#clip-15)\">\n",
       "<path fill=\"none\" stroke-width=\"1.066978\" stroke-linecap=\"butt\" stroke-linejoin=\"round\" stroke=\"rgb(100%, 100%, 100%)\" stroke-opacity=\"1\" stroke-miterlimit=\"10\" d=\"M 251.960938 185.847656 L 251.960938 22.957031 \"/>\n",
       "</g>\n",
       "<g clip-path=\"url(#clip-16)\">\n",
       "<path fill=\"none\" stroke-width=\"1.066978\" stroke-linecap=\"butt\" stroke-linejoin=\"round\" stroke=\"rgb(100%, 100%, 100%)\" stroke-opacity=\"1\" stroke-miterlimit=\"10\" d=\"M 357.894531 185.847656 L 357.894531 22.957031 \"/>\n",
       "</g>\n",
       "<path fill-rule=\"nonzero\" fill=\"rgb(0%, 0%, 0%)\" fill-opacity=\"1\" stroke-width=\"0.708661\" stroke-linecap=\"round\" stroke-linejoin=\"round\" stroke=\"rgb(0%, 0%, 0%)\" stroke-opacity=\"1\" stroke-miterlimit=\"10\" d=\"M 387.390625 176.535156 C 387.390625 179.140625 383.480469 179.140625 383.480469 176.535156 C 383.480469 173.929688 387.390625 173.929688 387.390625 176.535156 \"/>\n",
       "<path fill-rule=\"nonzero\" fill=\"rgb(0%, 0%, 0%)\" fill-opacity=\"1\" stroke-width=\"0.708661\" stroke-linecap=\"round\" stroke-linejoin=\"round\" stroke=\"rgb(0%, 0%, 0%)\" stroke-opacity=\"1\" stroke-miterlimit=\"10\" d=\"M 173.761719 155.050781 C 173.761719 157.65625 169.851562 157.65625 169.851562 155.050781 C 169.851562 152.445312 173.761719 152.445312 173.761719 155.050781 \"/>\n",
       "<path fill-rule=\"nonzero\" fill=\"rgb(0%, 0%, 0%)\" fill-opacity=\"1\" stroke-width=\"0.708661\" stroke-linecap=\"round\" stroke-linejoin=\"round\" stroke=\"rgb(0%, 0%, 0%)\" stroke-opacity=\"1\" stroke-miterlimit=\"10\" d=\"M 240.5 105.734375 C 240.5 108.339844 236.589844 108.339844 236.589844 105.734375 C 236.589844 103.128906 240.5 103.128906 240.5 105.734375 \"/>\n",
       "<path fill-rule=\"nonzero\" fill=\"rgb(0%, 0%, 0%)\" fill-opacity=\"1\" stroke-width=\"0.708661\" stroke-linecap=\"round\" stroke-linejoin=\"round\" stroke=\"rgb(0%, 0%, 0%)\" stroke-opacity=\"1\" stroke-miterlimit=\"10\" d=\"M 62.53125 162.699219 C 62.53125 165.304688 58.621094 165.304688 58.621094 162.699219 C 58.621094 160.089844 62.53125 160.089844 62.53125 162.699219 \"/>\n",
       "<path fill-rule=\"nonzero\" fill=\"rgb(0%, 0%, 0%)\" fill-opacity=\"1\" stroke-width=\"0.708661\" stroke-linecap=\"round\" stroke-linejoin=\"round\" stroke=\"rgb(0%, 0%, 0%)\" stroke-opacity=\"1\" stroke-miterlimit=\"10\" d=\"M 348.195312 138.636719 C 348.195312 141.242188 344.285156 141.242188 344.285156 138.636719 C 344.285156 136.027344 348.195312 136.027344 348.195312 138.636719 \"/>\n",
       "<path fill-rule=\"nonzero\" fill=\"rgb(0%, 0%, 0%)\" fill-opacity=\"1\" stroke-width=\"0.708661\" stroke-linecap=\"round\" stroke-linejoin=\"round\" stroke=\"rgb(0%, 0%, 0%)\" stroke-opacity=\"1\" stroke-miterlimit=\"10\" d=\"M 264.863281 168.171875 C 264.863281 170.777344 260.953125 170.777344 260.953125 168.171875 C 260.953125 165.566406 264.863281 165.566406 264.863281 168.171875 \"/>\n",
       "<path fill-rule=\"nonzero\" fill=\"rgb(0%, 0%, 0%)\" fill-opacity=\"1\" stroke-width=\"0.708661\" stroke-linecap=\"round\" stroke-linejoin=\"round\" stroke=\"rgb(0%, 0%, 0%)\" stroke-opacity=\"1\" stroke-miterlimit=\"10\" d=\"M 411.050781 30.363281 C 411.050781 32.96875 407.140625 32.96875 407.140625 30.363281 C 407.140625 27.757812 411.050781 27.757812 411.050781 30.363281 \"/>\n",
       "<path fill-rule=\"nonzero\" fill=\"rgb(0%, 0%, 0%)\" fill-opacity=\"1\" stroke-width=\"0.708661\" stroke-linecap=\"round\" stroke-linejoin=\"round\" stroke=\"rgb(0%, 0%, 0%)\" stroke-opacity=\"1\" stroke-miterlimit=\"10\" d=\"M 248.621094 178.445312 C 248.621094 181.050781 244.710938 181.050781 244.710938 178.445312 C 244.710938 175.839844 248.621094 175.839844 248.621094 178.445312 \"/>\n",
       "<path fill-rule=\"nonzero\" fill=\"rgb(0%, 0%, 0%)\" fill-opacity=\"1\" stroke-width=\"0.708661\" stroke-linecap=\"round\" stroke-linejoin=\"round\" stroke=\"rgb(0%, 0%, 0%)\" stroke-opacity=\"1\" stroke-miterlimit=\"10\" d=\"M 349.960938 134.886719 C 349.960938 137.496094 346.050781 137.496094 346.050781 134.886719 C 346.050781 132.28125 349.960938 132.28125 349.960938 134.886719 \"/>\n",
       "<path fill-rule=\"nonzero\" fill=\"rgb(0%, 0%, 0%)\" fill-opacity=\"1\" stroke-width=\"0.708661\" stroke-linecap=\"round\" stroke-linejoin=\"round\" stroke=\"rgb(0%, 0%, 0%)\" stroke-opacity=\"1\" stroke-miterlimit=\"10\" d=\"M 169.523438 69.808594 C 169.523438 72.414062 165.613281 72.414062 165.613281 69.808594 C 165.613281 67.203125 169.523438 67.203125 169.523438 69.808594 \"/>\n",
       "<path fill-rule=\"nonzero\" fill=\"rgb(0%, 0%, 0%)\" fill-opacity=\"1\" stroke-width=\"0.708661\" stroke-linecap=\"round\" stroke-linejoin=\"round\" stroke=\"rgb(0%, 0%, 0%)\" stroke-opacity=\"1\" stroke-miterlimit=\"10\" d=\"M 169.523438 145.894531 C 169.523438 148.5 165.613281 148.5 165.613281 145.894531 C 165.613281 143.289062 169.523438 143.289062 169.523438 145.894531 \"/>\n",
       "<path fill-rule=\"nonzero\" fill=\"rgb(0%, 0%, 0%)\" fill-opacity=\"1\" stroke-width=\"0.708661\" stroke-linecap=\"round\" stroke-linejoin=\"round\" stroke=\"rgb(0%, 0%, 0%)\" stroke-opacity=\"1\" stroke-miterlimit=\"10\" d=\"M 238.734375 145.570312 C 238.734375 148.179688 234.824219 148.179688 234.824219 145.570312 C 234.824219 142.964844 238.734375 142.964844 238.734375 145.570312 \"/>\n",
       "<path fill=\"none\" stroke-width=\"3.200935\" stroke-linecap=\"butt\" stroke-linejoin=\"round\" stroke=\"rgb(20%, 40%, 100%)\" stroke-opacity=\"1\" stroke-miterlimit=\"10\" d=\"M 60.578125 154.691406 L 69.398438 153.761719 L 73.8125 153.292969 L 82.632812 152.363281 L 87.046875 151.894531 L 91.457031 151.429688 L 95.871094 150.964844 L 100.28125 150.496094 L 104.691406 150.03125 L 109.105469 149.566406 L 113.515625 149.101562 L 117.925781 148.632812 L 122.339844 148.167969 L 126.75 147.703125 L 131.164062 147.234375 L 139.984375 146.304688 L 144.398438 145.835938 L 153.21875 144.90625 L 157.632812 144.4375 L 162.042969 143.972656 L 166.457031 143.507812 L 170.867188 143.039062 L 175.277344 142.574219 L 179.691406 142.109375 L 184.101562 141.640625 L 188.511719 141.175781 L 192.925781 140.710938 L 197.335938 140.242188 L 201.75 139.777344 L 206.160156 139.3125 L 210.570312 138.84375 L 214.984375 138.378906 L 219.394531 137.914062 L 223.804688 137.445312 L 228.21875 136.980469 L 232.628906 136.515625 L 237.042969 136.046875 L 245.863281 135.117188 L 250.277344 134.648438 L 259.097656 133.71875 L 263.511719 133.25 L 267.921875 132.785156 L 272.335938 132.320312 L 276.746094 131.851562 L 281.15625 131.386719 L 285.570312 130.921875 L 289.980469 130.453125 L 294.390625 129.988281 L 298.804688 129.523438 L 303.214844 129.058594 L 307.628906 128.589844 L 316.449219 127.660156 L 320.863281 127.191406 L 329.683594 126.261719 L 334.097656 125.792969 L 338.507812 125.328125 L 342.921875 124.863281 L 347.332031 124.394531 L 351.742188 123.929688 L 356.15625 123.464844 L 360.566406 122.996094 L 364.976562 122.53125 L 369.390625 122.066406 L 373.800781 121.597656 L 378.214844 121.132812 L 382.625 120.667969 L 387.035156 120.199219 L 391.449219 119.734375 L 395.859375 119.269531 L 400.269531 118.800781 L 404.683594 118.335938 L 409.09375 117.871094 \"/>\n",
       "<g fill=\"rgb(30.196078%, 30.196078%, 30.196078%)\" fill-opacity=\"1\">\n",
       "<use xlink:href=\"#glyph-0-0\" x=\"17.21875\" y=\"181.765625\"/>\n",
       "<use xlink:href=\"#glyph-0-1\" x=\"21.21875\" y=\"181.765625\"/>\n",
       "<use xlink:href=\"#glyph-0-2\" x=\"25.21875\" y=\"181.765625\"/>\n",
       "<use xlink:href=\"#glyph-0-0\" x=\"30.21875\" y=\"181.765625\"/>\n",
       "<use xlink:href=\"#glyph-0-0\" x=\"34.21875\" y=\"181.765625\"/>\n",
       "</g>\n",
       "<g fill=\"rgb(30.196078%, 30.196078%, 30.196078%)\" fill-opacity=\"1\">\n",
       "<use xlink:href=\"#glyph-0-3\" x=\"19.21875\" y=\"145.5\"/>\n",
       "<use xlink:href=\"#glyph-0-1\" x=\"23.21875\" y=\"145.5\"/>\n",
       "<use xlink:href=\"#glyph-0-4\" x=\"27.21875\" y=\"145.5\"/>\n",
       "<use xlink:href=\"#glyph-0-0\" x=\"30.21875\" y=\"145.5\"/>\n",
       "<use xlink:href=\"#glyph-0-5\" x=\"34.21875\" y=\"145.5\"/>\n",
       "</g>\n",
       "<g fill=\"rgb(30.196078%, 30.196078%, 30.196078%)\" fill-opacity=\"1\">\n",
       "<use xlink:href=\"#glyph-0-6\" x=\"19.21875\" y=\"109.234375\"/>\n",
       "<use xlink:href=\"#glyph-0-1\" x=\"23.21875\" y=\"109.234375\"/>\n",
       "<use xlink:href=\"#glyph-0-4\" x=\"27.21875\" y=\"109.234375\"/>\n",
       "<use xlink:href=\"#glyph-0-0\" x=\"30.21875\" y=\"109.234375\"/>\n",
       "<use xlink:href=\"#glyph-0-5\" x=\"34.21875\" y=\"109.234375\"/>\n",
       "</g>\n",
       "<g fill=\"rgb(30.196078%, 30.196078%, 30.196078%)\" fill-opacity=\"1\">\n",
       "<use xlink:href=\"#glyph-0-7\" x=\"19.21875\" y=\"72.96875\"/>\n",
       "<use xlink:href=\"#glyph-0-1\" x=\"23.21875\" y=\"72.96875\"/>\n",
       "<use xlink:href=\"#glyph-0-4\" x=\"27.21875\" y=\"72.96875\"/>\n",
       "<use xlink:href=\"#glyph-0-0\" x=\"30.21875\" y=\"72.96875\"/>\n",
       "<use xlink:href=\"#glyph-0-5\" x=\"34.21875\" y=\"72.96875\"/>\n",
       "</g>\n",
       "<g fill=\"rgb(30.196078%, 30.196078%, 30.196078%)\" fill-opacity=\"1\">\n",
       "<use xlink:href=\"#glyph-0-8\" x=\"19.21875\" y=\"36.699219\"/>\n",
       "<use xlink:href=\"#glyph-0-1\" x=\"23.21875\" y=\"36.699219\"/>\n",
       "<use xlink:href=\"#glyph-0-4\" x=\"27.21875\" y=\"36.699219\"/>\n",
       "<use xlink:href=\"#glyph-0-0\" x=\"30.21875\" y=\"36.699219\"/>\n",
       "<use xlink:href=\"#glyph-0-5\" x=\"34.21875\" y=\"36.699219\"/>\n",
       "</g>\n",
       "<path fill=\"none\" stroke-width=\"1.066978\" stroke-linecap=\"butt\" stroke-linejoin=\"round\" stroke=\"rgb(20%, 20%, 20%)\" stroke-opacity=\"1\" stroke-miterlimit=\"10\" d=\"M 40.410156 179.523438 L 43.152344 179.523438 \"/>\n",
       "<path fill=\"none\" stroke-width=\"1.066978\" stroke-linecap=\"butt\" stroke-linejoin=\"round\" stroke=\"rgb(20%, 20%, 20%)\" stroke-opacity=\"1\" stroke-miterlimit=\"10\" d=\"M 40.410156 143.257812 L 43.152344 143.257812 \"/>\n",
       "<path fill=\"none\" stroke-width=\"1.066978\" stroke-linecap=\"butt\" stroke-linejoin=\"round\" stroke=\"rgb(20%, 20%, 20%)\" stroke-opacity=\"1\" stroke-miterlimit=\"10\" d=\"M 40.410156 106.992188 L 43.152344 106.992188 \"/>\n",
       "<path fill=\"none\" stroke-width=\"1.066978\" stroke-linecap=\"butt\" stroke-linejoin=\"round\" stroke=\"rgb(20%, 20%, 20%)\" stroke-opacity=\"1\" stroke-miterlimit=\"10\" d=\"M 40.410156 70.726562 L 43.152344 70.726562 \"/>\n",
       "<path fill=\"none\" stroke-width=\"1.066978\" stroke-linecap=\"butt\" stroke-linejoin=\"round\" stroke=\"rgb(20%, 20%, 20%)\" stroke-opacity=\"1\" stroke-miterlimit=\"10\" d=\"M 40.410156 34.457031 L 43.152344 34.457031 \"/>\n",
       "<path fill=\"none\" stroke-width=\"1.066978\" stroke-linecap=\"butt\" stroke-linejoin=\"round\" stroke=\"rgb(20%, 20%, 20%)\" stroke-opacity=\"1\" stroke-miterlimit=\"10\" d=\"M 146.027344 188.589844 L 146.027344 185.847656 \"/>\n",
       "<path fill=\"none\" stroke-width=\"1.066978\" stroke-linecap=\"butt\" stroke-linejoin=\"round\" stroke=\"rgb(20%, 20%, 20%)\" stroke-opacity=\"1\" stroke-miterlimit=\"10\" d=\"M 251.960938 188.589844 L 251.960938 185.847656 \"/>\n",
       "<path fill=\"none\" stroke-width=\"1.066978\" stroke-linecap=\"butt\" stroke-linejoin=\"round\" stroke=\"rgb(20%, 20%, 20%)\" stroke-opacity=\"1\" stroke-miterlimit=\"10\" d=\"M 357.894531 188.589844 L 357.894531 185.847656 \"/>\n",
       "<g fill=\"rgb(30.196078%, 30.196078%, 30.196078%)\" fill-opacity=\"1\">\n",
       "<use xlink:href=\"#glyph-0-0\" x=\"133.027344\" y=\"196.023438\"/>\n",
       "<use xlink:href=\"#glyph-0-9\" x=\"137.027344\" y=\"196.023438\"/>\n",
       "<use xlink:href=\"#glyph-0-0\" x=\"139.027344\" y=\"196.023438\"/>\n",
       "<use xlink:href=\"#glyph-0-0\" x=\"143.027344\" y=\"196.023438\"/>\n",
       "<use xlink:href=\"#glyph-0-0\" x=\"147.027344\" y=\"196.023438\"/>\n",
       "<use xlink:href=\"#glyph-0-0\" x=\"151.027344\" y=\"196.023438\"/>\n",
       "<use xlink:href=\"#glyph-0-7\" x=\"155.027344\" y=\"196.023438\"/>\n",
       "</g>\n",
       "<g fill=\"rgb(30.196078%, 30.196078%, 30.196078%)\" fill-opacity=\"1\">\n",
       "<use xlink:href=\"#glyph-0-0\" x=\"238.960938\" y=\"196.023438\"/>\n",
       "<use xlink:href=\"#glyph-0-9\" x=\"242.960938\" y=\"196.023438\"/>\n",
       "<use xlink:href=\"#glyph-0-0\" x=\"244.960938\" y=\"196.023438\"/>\n",
       "<use xlink:href=\"#glyph-0-0\" x=\"248.960938\" y=\"196.023438\"/>\n",
       "<use xlink:href=\"#glyph-0-0\" x=\"252.960938\" y=\"196.023438\"/>\n",
       "<use xlink:href=\"#glyph-0-0\" x=\"256.960938\" y=\"196.023438\"/>\n",
       "<use xlink:href=\"#glyph-0-10\" x=\"260.960938\" y=\"196.023438\"/>\n",
       "</g>\n",
       "<g fill=\"rgb(30.196078%, 30.196078%, 30.196078%)\" fill-opacity=\"1\">\n",
       "<use xlink:href=\"#glyph-0-0\" x=\"344.894531\" y=\"196.023438\"/>\n",
       "<use xlink:href=\"#glyph-0-9\" x=\"348.894531\" y=\"196.023438\"/>\n",
       "<use xlink:href=\"#glyph-0-0\" x=\"350.894531\" y=\"196.023438\"/>\n",
       "<use xlink:href=\"#glyph-0-0\" x=\"354.894531\" y=\"196.023438\"/>\n",
       "<use xlink:href=\"#glyph-0-0\" x=\"358.894531\" y=\"196.023438\"/>\n",
       "<use xlink:href=\"#glyph-0-11\" x=\"362.894531\" y=\"196.023438\"/>\n",
       "<use xlink:href=\"#glyph-0-3\" x=\"366.894531\" y=\"196.023438\"/>\n",
       "</g>\n",
       "<g fill=\"rgb(0%, 0%, 0%)\" fill-opacity=\"1\">\n",
       "<use xlink:href=\"#glyph-1-0\" x=\"219.835938\" y=\"207.572266\"/>\n",
       "<use xlink:href=\"#glyph-1-1\" x=\"228.835938\" y=\"207.572266\"/>\n",
       "<use xlink:href=\"#glyph-1-2\" x=\"235.835938\" y=\"207.572266\"/>\n",
       "<use xlink:href=\"#glyph-1-3\" x=\"242.835938\" y=\"207.572266\"/>\n",
       "</g>\n",
       "<g fill=\"rgb(0%, 0%, 0%)\" fill-opacity=\"1\">\n",
       "<use xlink:href=\"#glyph-2-0\" x=\"11.533203\" y=\"139.902344\"/>\n",
       "<use xlink:href=\"#glyph-2-1\" x=\"11.533203\" y=\"132.902344\"/>\n",
       "<use xlink:href=\"#glyph-2-2\" x=\"11.533203\" y=\"128.902344\"/>\n",
       "<use xlink:href=\"#glyph-2-3\" x=\"11.533203\" y=\"122.902344\"/>\n",
       "<use xlink:href=\"#glyph-2-4\" x=\"11.533203\" y=\"119.902344\"/>\n",
       "<use xlink:href=\"#glyph-2-5\" x=\"11.533203\" y=\"113.902344\"/>\n",
       "<use xlink:href=\"#glyph-2-6\" x=\"11.533203\" y=\"110.902344\"/>\n",
       "<use xlink:href=\"#glyph-2-7\" x=\"11.533203\" y=\"104.902344\"/>\n",
       "<use xlink:href=\"#glyph-2-8\" x=\"11.533203\" y=\"101.902344\"/>\n",
       "<use xlink:href=\"#glyph-2-4\" x=\"11.533203\" y=\"95.902344\"/>\n",
       "<use xlink:href=\"#glyph-2-9\" x=\"11.533203\" y=\"89.902344\"/>\n",
       "<use xlink:href=\"#glyph-2-4\" x=\"11.533203\" y=\"83.902344\"/>\n",
       "<use xlink:href=\"#glyph-2-10\" x=\"11.533203\" y=\"77.902344\"/>\n",
       "<use xlink:href=\"#glyph-2-11\" x=\"11.533203\" y=\"74.902344\"/>\n",
       "<use xlink:href=\"#glyph-2-7\" x=\"11.533203\" y=\"71.902344\"/>\n",
       "</g>\n",
       "<g fill=\"rgb(0%, 0%, 0%)\" fill-opacity=\"1\">\n",
       "<use xlink:href=\"#glyph-3-0\" x=\"43.152344\" y=\"14.34375\"/>\n",
       "<use xlink:href=\"#glyph-3-1\" x=\"51.152344\" y=\"14.34375\"/>\n",
       "<use xlink:href=\"#glyph-3-2\" x=\"58.152344\" y=\"14.34375\"/>\n",
       "<use xlink:href=\"#glyph-3-3\" x=\"69.152344\" y=\"14.34375\"/>\n",
       "<use xlink:href=\"#glyph-3-4\" x=\"76.152344\" y=\"14.34375\"/>\n",
       "<use xlink:href=\"#glyph-3-5\" x=\"79.152344\" y=\"14.34375\"/>\n",
       "<use xlink:href=\"#glyph-3-6\" x=\"86.152344\" y=\"14.34375\"/>\n",
       "<use xlink:href=\"#glyph-3-1\" x=\"89.152344\" y=\"14.34375\"/>\n",
       "<use xlink:href=\"#glyph-3-7\" x=\"96.152344\" y=\"14.34375\"/>\n",
       "<use xlink:href=\"#glyph-3-8\" x=\"103.152344\" y=\"14.34375\"/>\n",
       "<use xlink:href=\"#glyph-3-6\" x=\"110.152344\" y=\"14.34375\"/>\n",
       "<use xlink:href=\"#glyph-3-9\" x=\"113.152344\" y=\"14.34375\"/>\n",
       "<use xlink:href=\"#glyph-3-10\" x=\"121.152344\" y=\"14.34375\"/>\n",
       "<use xlink:href=\"#glyph-3-11\" x=\"128.152344\" y=\"14.34375\"/>\n",
       "<use xlink:href=\"#glyph-3-12\" x=\"132.152344\" y=\"14.34375\"/>\n",
       "<use xlink:href=\"#glyph-3-2\" x=\"135.152344\" y=\"14.34375\"/>\n",
       "<use xlink:href=\"#glyph-3-1\" x=\"146.152344\" y=\"14.34375\"/>\n",
       "<use xlink:href=\"#glyph-3-11\" x=\"153.152344\" y=\"14.34375\"/>\n",
       "<use xlink:href=\"#glyph-3-5\" x=\"157.152344\" y=\"14.34375\"/>\n",
       "<use xlink:href=\"#glyph-3-8\" x=\"164.152344\" y=\"14.34375\"/>\n",
       "<use xlink:href=\"#glyph-3-6\" x=\"171.152344\" y=\"14.34375\"/>\n",
       "<use xlink:href=\"#glyph-3-0\" x=\"174.152344\" y=\"14.34375\"/>\n",
       "<use xlink:href=\"#glyph-3-13\" x=\"182.152344\" y=\"14.34375\"/>\n",
       "<use xlink:href=\"#glyph-3-14\" x=\"189.152344\" y=\"14.34375\"/>\n",
       "<use xlink:href=\"#glyph-3-6\" x=\"198.152344\" y=\"14.34375\"/>\n",
       "<use xlink:href=\"#glyph-3-15\" x=\"201.152344\" y=\"14.34375\"/>\n",
       "<use xlink:href=\"#glyph-3-16\" x=\"205.152344\" y=\"14.34375\"/>\n",
       "<use xlink:href=\"#glyph-3-17\" x=\"212.152344\" y=\"14.34375\"/>\n",
       "<use xlink:href=\"#glyph-3-6\" x=\"217.152344\" y=\"14.34375\"/>\n",
       "<use xlink:href=\"#glyph-3-18\" x=\"220.152344\" y=\"14.34375\"/>\n",
       "<use xlink:href=\"#glyph-3-5\" x=\"227.152344\" y=\"14.34375\"/>\n",
       "<use xlink:href=\"#glyph-3-7\" x=\"234.152344\" y=\"14.34375\"/>\n",
       "<use xlink:href=\"#glyph-3-5\" x=\"241.152344\" y=\"14.34375\"/>\n",
       "<use xlink:href=\"#glyph-3-6\" x=\"248.152344\" y=\"14.34375\"/>\n",
       "<use xlink:href=\"#glyph-3-9\" x=\"251.152344\" y=\"14.34375\"/>\n",
       "<use xlink:href=\"#glyph-3-19\" x=\"259.152344\" y=\"14.34375\"/>\n",
       "<use xlink:href=\"#glyph-3-0\" x=\"268.152344\" y=\"14.34375\"/>\n",
       "<use xlink:href=\"#glyph-3-20\" x=\"276.152344\" y=\"14.34375\"/>\n",
       "<use xlink:href=\"#glyph-3-21\" x=\"285.152344\" y=\"14.34375\"/>\n",
       "<use xlink:href=\"#glyph-3-21\" x=\"292.152344\" y=\"14.34375\"/>\n",
       "<use xlink:href=\"#glyph-3-21\" x=\"299.152344\" y=\"14.34375\"/>\n",
       "<use xlink:href=\"#glyph-3-21\" x=\"306.152344\" y=\"14.34375\"/>\n",
       "<use xlink:href=\"#glyph-3-21\" x=\"313.152344\" y=\"14.34375\"/>\n",
       "<use xlink:href=\"#glyph-3-21\" x=\"320.152344\" y=\"14.34375\"/>\n",
       "<use xlink:href=\"#glyph-3-22\" x=\"327.152344\" y=\"14.34375\"/>\n",
       "<use xlink:href=\"#glyph-3-23\" x=\"334.152344\" y=\"14.34375\"/>\n",
       "<use xlink:href=\"#glyph-3-24\" x=\"341.152344\" y=\"14.34375\"/>\n",
       "<use xlink:href=\"#glyph-3-25\" x=\"348.152344\" y=\"14.34375\"/>\n",
       "<use xlink:href=\"#glyph-3-25\" x=\"355.152344\" y=\"14.34375\"/>\n",
       "</g>\n",
       "</svg>\n"
      ],
      "text/plain": [
       "plot without title"
      ]
     },
     "metadata": {
      "application/pdf": {
       "height": 180,
       "width": 360
      },
      "image/jpeg": {
       "height": 180,
       "width": 360
      },
      "image/png": {
       "height": 180,
       "width": 360
      },
      "image/svg+xml": {
       "height": 180,
       "isolated": true,
       "width": 360
      }
     },
     "output_type": "display_data"
    }
   ],
   "source": [
    "options(repr.plot.width = 6, repr.plot.height = 3) # Adjust these numbers so the plot looks good in your desktop.\n",
    "\n",
    "# SLR_ENSG00000085733_plot <- ggplot(..., aes(..., ...)) +\n",
    "#   ...() +\n",
    "#   ...(..., se = FALSE, linewidth = 1.5) +\n",
    "#   xlab(...) +\n",
    "#   ylab(...) +\n",
    "#   ggtitle(\"Sample and Estimated SLR for gene ENSG00000085733\") +\n",
    "#   theme(\n",
    "#     text = element_text(size = 10),\n",
    "#     plot.title = element_text(face = \"bold\"),\n",
    "#     axis.title = element_text(face = \"bold\")\n",
    "#   )\n",
    "\n",
    "#SLR_ENSG00000085733_plot\n",
    "\n",
    "# your code here\n",
    "SLR_ENSG00000085733_plot <- ggplot(dat_ENSG00000085733, aes(mrna, prot)) +\n",
    "  geom_point() +\n",
    "  geom_smooth(method = \"lm\", se = FALSE, linewidth = 1.5) +\n",
    "  xlab(\"mRNA\") +\n",
    "  ylab(\"Protein LevelI \") +\n",
    "  ggtitle(\"Sample and Estimated SLR for gene ENSG00000085733\") +\n",
    "  theme(\n",
    "    text = element_text(size = 10),\n",
    "    plot.title = element_text(face = \"bold\"),\n",
    "    axis.title = element_text(face = \"bold\")\n",
    "  )\n",
    "\n",
    "SLR_ENSG00000085733_plot"
   ]
  },
  {
   "cell_type": "code",
   "execution_count": 5,
   "metadata": {
    "deletable": false,
    "editable": false,
    "nbgrader": {
     "cell_type": "code",
     "checksum": "4751fc19fd84bf62cacaa3488aad2cab",
     "grade": true,
     "grade_id": "cell-f1a69250e199ce6c",
     "locked": true,
     "points": 1,
     "schema_version": 3,
     "solution": false,
     "task": false
    },
    "tags": []
   },
   "outputs": [
    {
     "name": "stdout",
     "output_type": "stream",
     "text": [
      "\u001b[32mTest passed\u001b[39m 🎉\n",
      "\u001b[32mTest passed\u001b[39m 🎉\n",
      "\u001b[32mTest passed\u001b[39m 🎊\n",
      "\u001b[32mTest passed\u001b[39m 😸\n",
      "\u001b[32mTest passed\u001b[39m 😀\n",
      "\u001b[32mTest passed\u001b[39m 🌈\n",
      "\u001b[32mTest passed\u001b[39m 🥳\n",
      "\u001b[32mTest passed\u001b[39m 🎉\n",
      "[1] \"Success!\"\n"
     ]
    }
   ],
   "source": [
    "test_1.0()"
   ]
  },
  {
   "cell_type": "markdown",
   "metadata": {
    "deletable": false,
    "editable": false,
    "nbgrader": {
     "cell_type": "markdown",
     "checksum": "4458a0fc569aa37699422862d7119534",
     "grade": false,
     "grade_id": "cell-38b13dc576bc33ab",
     "locked": true,
     "schema_version": 3,
     "solution": false,
     "task": false
    },
    "tags": []
   },
   "source": [
    "**Question 1.1**\n",
    "<br>{points: 3}\n",
    "\n",
    "For the selected gene:\n",
    "\n",
    "- 1.1.0 Use `lm()` to obtain the LS estimated coefficients for the selected gene. Call the model `SLR_ENSG00000085733`. \n",
    "\n",
    "- 1.1.1 Use `tidy()` to store all inference quantities from this model in an objected called `SLR_ENSG00000085733_results`.\n",
    "\n",
    "- 1.1.2 Use `augment` to obtain residuals and fitted values from the estimated SLR. Add all the output to the original dataset. \n",
    "\n",
    "*Fill out those parts indicated with `...`, uncomment the corresponding code in the cell below, and run it.*"
   ]
  },
  {
   "cell_type": "code",
   "execution_count": 6,
   "metadata": {
    "deletable": false,
    "nbgrader": {
     "cell_type": "code",
     "checksum": "d68f0d343af4f4aa94693c7fc5c62c1d",
     "grade": false,
     "grade_id": "cell-c05f3277a48ee808",
     "locked": false,
     "schema_version": 3,
     "solution": true,
     "task": false
    },
    "tags": []
   },
   "outputs": [
    {
     "data": {
      "text/html": [
       "<table class=\"dataframe\">\n",
       "<caption>A tibble: 2 × 5</caption>\n",
       "<thead>\n",
       "\t<tr><th scope=col>term</th><th scope=col>estimate</th><th scope=col>std.error</th><th scope=col>statistic</th><th scope=col>p.value</th></tr>\n",
       "\t<tr><th scope=col>&lt;chr&gt;</th><th scope=col>&lt;dbl&gt;</th><th scope=col>&lt;dbl&gt;</th><th scope=col>&lt;dbl&gt;</th><th scope=col>&lt;dbl&gt;</th></tr>\n",
       "</thead>\n",
       "<tbody>\n",
       "\t<tr><td>(Intercept)</td><td>6.327928e-06</td><td>2.446664e-05</td><td>0.2586349</td><td>0.8011625</td></tr>\n",
       "\t<tr><td>mrna       </td><td>2.057447e-01</td><td>2.583776e-01</td><td>0.7962945</td><td>0.4443536</td></tr>\n",
       "</tbody>\n",
       "</table>\n"
      ],
      "text/latex": [
       "A tibble: 2 × 5\n",
       "\\begin{tabular}{lllll}\n",
       " term & estimate & std.error & statistic & p.value\\\\\n",
       " <chr> & <dbl> & <dbl> & <dbl> & <dbl>\\\\\n",
       "\\hline\n",
       "\t (Intercept) & 6.327928e-06 & 2.446664e-05 & 0.2586349 & 0.8011625\\\\\n",
       "\t mrna        & 2.057447e-01 & 2.583776e-01 & 0.7962945 & 0.4443536\\\\\n",
       "\\end{tabular}\n"
      ],
      "text/markdown": [
       "\n",
       "A tibble: 2 × 5\n",
       "\n",
       "| term &lt;chr&gt; | estimate &lt;dbl&gt; | std.error &lt;dbl&gt; | statistic &lt;dbl&gt; | p.value &lt;dbl&gt; |\n",
       "|---|---|---|---|---|\n",
       "| (Intercept) | 6.327928e-06 | 2.446664e-05 | 0.2586349 | 0.8011625 |\n",
       "| mrna        | 2.057447e-01 | 2.583776e-01 | 0.7962945 | 0.4443536 |\n",
       "\n"
      ],
      "text/plain": [
       "  term        estimate     std.error    statistic p.value  \n",
       "1 (Intercept) 6.327928e-06 2.446664e-05 0.2586349 0.8011625\n",
       "2 mrna        2.057447e-01 2.583776e-01 0.7962945 0.4443536"
      ]
     },
     "metadata": {},
     "output_type": "display_data"
    },
    {
     "data": {
      "text/html": [
       "<table class=\"dataframe\">\n",
       "<caption>A tibble: 3 × 9</caption>\n",
       "<thead>\n",
       "\t<tr><th scope=col>.rownames</th><th scope=col>prot</th><th scope=col>mrna</th><th scope=col>.fitted</th><th scope=col>.resid</th><th scope=col>.hat</th><th scope=col>.sigma</th><th scope=col>.cooksd</th><th scope=col>.std.resid</th></tr>\n",
       "\t<tr><th scope=col>&lt;chr&gt;</th><th scope=col>&lt;dbl&gt;</th><th scope=col>&lt;dbl&gt;</th><th scope=col>&lt;dbl&gt;</th><th scope=col>&lt;dbl&gt;</th><th scope=col>&lt;dbl&gt;</th><th scope=col>&lt;dbl&gt;</th><th scope=col>&lt;dbl&gt;</th><th scope=col>&lt;dbl&gt;</th></tr>\n",
       "</thead>\n",
       "<tbody>\n",
       "\t<tr><td>585  </td><td>1.648298e-06</td><td>0.0001278</td><td>3.262210e-05</td><td>-3.097380e-05</td><td>0.23044194</td><td>2.379394e-05</td><td>0.294313366</td><td>-1.4020385</td></tr>\n",
       "\t<tr><td>5409 </td><td>1.349573e-05</td><td>0.0000673</td><td>2.017455e-05</td><td>-6.678819e-06</td><td>0.13958462</td><td>2.643688e-05</td><td>0.006630753</td><td>-0.2859116</td></tr>\n",
       "\t<tr><td>10233</td><td>4.069264e-05</td><td>0.0000862</td><td>2.406312e-05</td><td> 1.662952e-05</td><td>0.08520497</td><td>2.590522e-05</td><td>0.022198258</td><td> 0.6904049</td></tr>\n",
       "</tbody>\n",
       "</table>\n"
      ],
      "text/latex": [
       "A tibble: 3 × 9\n",
       "\\begin{tabular}{lllllllll}\n",
       " .rownames & prot & mrna & .fitted & .resid & .hat & .sigma & .cooksd & .std.resid\\\\\n",
       " <chr> & <dbl> & <dbl> & <dbl> & <dbl> & <dbl> & <dbl> & <dbl> & <dbl>\\\\\n",
       "\\hline\n",
       "\t 585   & 1.648298e-06 & 0.0001278 & 3.262210e-05 & -3.097380e-05 & 0.23044194 & 2.379394e-05 & 0.294313366 & -1.4020385\\\\\n",
       "\t 5409  & 1.349573e-05 & 0.0000673 & 2.017455e-05 & -6.678819e-06 & 0.13958462 & 2.643688e-05 & 0.006630753 & -0.2859116\\\\\n",
       "\t 10233 & 4.069264e-05 & 0.0000862 & 2.406312e-05 &  1.662952e-05 & 0.08520497 & 2.590522e-05 & 0.022198258 &  0.6904049\\\\\n",
       "\\end{tabular}\n"
      ],
      "text/markdown": [
       "\n",
       "A tibble: 3 × 9\n",
       "\n",
       "| .rownames &lt;chr&gt; | prot &lt;dbl&gt; | mrna &lt;dbl&gt; | .fitted &lt;dbl&gt; | .resid &lt;dbl&gt; | .hat &lt;dbl&gt; | .sigma &lt;dbl&gt; | .cooksd &lt;dbl&gt; | .std.resid &lt;dbl&gt; |\n",
       "|---|---|---|---|---|---|---|---|---|\n",
       "| 585   | 1.648298e-06 | 0.0001278 | 3.262210e-05 | -3.097380e-05 | 0.23044194 | 2.379394e-05 | 0.294313366 | -1.4020385 |\n",
       "| 5409  | 1.349573e-05 | 0.0000673 | 2.017455e-05 | -6.678819e-06 | 0.13958462 | 2.643688e-05 | 0.006630753 | -0.2859116 |\n",
       "| 10233 | 4.069264e-05 | 0.0000862 | 2.406312e-05 |  1.662952e-05 | 0.08520497 | 2.590522e-05 | 0.022198258 |  0.6904049 |\n",
       "\n"
      ],
      "text/plain": [
       "  .rownames prot         mrna      .fitted      .resid        .hat      \n",
       "1 585       1.648298e-06 0.0001278 3.262210e-05 -3.097380e-05 0.23044194\n",
       "2 5409      1.349573e-05 0.0000673 2.017455e-05 -6.678819e-06 0.13958462\n",
       "3 10233     4.069264e-05 0.0000862 2.406312e-05  1.662952e-05 0.08520497\n",
       "  .sigma       .cooksd     .std.resid\n",
       "1 2.379394e-05 0.294313366 -1.4020385\n",
       "2 2.643688e-05 0.006630753 -0.2859116\n",
       "3 2.590522e-05 0.022198258  0.6904049"
      ]
     },
     "metadata": {},
     "output_type": "display_data"
    }
   ],
   "source": [
    "# SLR_ENSG00000085733 <- lm(...,...)\n",
    "# SLR_ENSG00000085733_results <- ...(...)\n",
    "# dat_ENSG00000085733 <- ...(SLR_ENSG00000085733)\n",
    "\n",
    "# SLR_ENSG00000085733_results\n",
    "# head(dat_ENSG00000085733,3)\n",
    "\n",
    "# your code here\n",
    "SLR_ENSG00000085733 <- lm(prot ~ mrna, data = dat_ENSG00000085733)\n",
    "SLR_ENSG00000085733_results <- tidy(SLR_ENSG00000085733)\n",
    "dat_ENSG00000085733 <- augment(SLR_ENSG00000085733)\n",
    "\n",
    "SLR_ENSG00000085733_results\n",
    "head(dat_ENSG00000085733,3)\n"
   ]
  },
  {
   "cell_type": "code",
   "execution_count": 7,
   "metadata": {
    "deletable": false,
    "editable": false,
    "nbgrader": {
     "cell_type": "code",
     "checksum": "3d9255ea44370a1a850df30a7a94d06e",
     "grade": true,
     "grade_id": "cell-5ea5ee0592297e4b",
     "locked": true,
     "points": 3,
     "schema_version": 3,
     "solution": false,
     "task": false
    },
    "tags": []
   },
   "outputs": [
    {
     "name": "stdout",
     "output_type": "stream",
     "text": [
      "\u001b[32mTest passed\u001b[39m 🌈\n",
      "\u001b[32mTest passed\u001b[39m 🥳\n",
      "[1] \"Success!\"\n",
      "\u001b[32mTest passed\u001b[39m 🌈\n",
      "\u001b[32mTest passed\u001b[39m 🌈\n",
      "[1] \"Success!\"\n",
      "\u001b[32mTest passed\u001b[39m 😸\n",
      "\u001b[32mTest passed\u001b[39m 😀\n",
      "\u001b[32mTest passed\u001b[39m 😸\n",
      "\u001b[32mTest passed\u001b[39m 😀\n",
      "\u001b[32mTest passed\u001b[39m 🥇\n",
      "\u001b[32mTest passed\u001b[39m 🎉\n",
      "\u001b[32mTest passed\u001b[39m 🎉\n",
      "\u001b[32mTest passed\u001b[39m 🎊\n",
      "[1] \"Success!\"\n",
      "\u001b[32mTest passed\u001b[39m 🥇\n",
      "\u001b[32mTest passed\u001b[39m 🥳\n",
      "\u001b[32mTest passed\u001b[39m 🎊\n",
      "\u001b[32mTest passed\u001b[39m 🎊\n",
      "\u001b[32mTest passed\u001b[39m 🎉\n",
      "\u001b[32mTest passed\u001b[39m 🥳\n",
      "[1] \"Success!\"\n"
     ]
    }
   ],
   "source": [
    "test_1.1.0()\n",
    "test_1.1.1()\n",
    "test_1.1.2()"
   ]
  },
  {
   "cell_type": "markdown",
   "metadata": {
    "deletable": false,
    "editable": false,
    "nbgrader": {
     "cell_type": "markdown",
     "checksum": "6cd654b4b56edcc8f363b2711ac2d65b",
     "grade": false,
     "grade_id": "cell-b0306ce9b39255e8",
     "locked": true,
     "schema_version": 3,
     "solution": false,
     "task": false
    },
    "tags": []
   },
   "source": [
    "**Question 1.2**\n",
    "<br>{points: 2}\n",
    "\n",
    "1.2.0 For the selected gene, use `glance()` to obtain goodness of fit measurements and tests for the fitted model `SLR_ENSG00000085733`. Store the results in an object called `SLR_ENSG00000085733_gof`.\n",
    "\n",
    "1.2.1 Compute the $R^2$, the adjusted $R^2$ and the standard deviation of the error term, $\\sigma$. Note that you will need the residuals and the standard deviation of the observed protein values, as well as the sample size to compute these measures. Are your results the same as those computed by `glance()`?? *Assign your answer to an object called answer1.2.1 Your answer should be either \"true\" or \"false\", surrounded by quotes.*\n",
    "\n",
    "*Fill out those parts indicated with `...`, uncomment the corresponding code in the cell below, and run it.*"
   ]
  },
  {
   "cell_type": "code",
   "execution_count": 8,
   "metadata": {
    "deletable": false,
    "nbgrader": {
     "cell_type": "code",
     "checksum": "7f2dae5fb38918058b61abd298b6f7f5",
     "grade": false,
     "grade_id": "cell-52f593f50e45adde",
     "locked": false,
     "schema_version": 3,
     "solution": true,
     "task": false
    },
    "tags": []
   },
   "outputs": [
    {
     "data": {
      "text/html": [
       "<table class=\"dataframe\">\n",
       "<caption>A tibble: 1 × 12</caption>\n",
       "<thead>\n",
       "\t<tr><th scope=col>r.squared</th><th scope=col>adj.r.squared</th><th scope=col>sigma</th><th scope=col>statistic</th><th scope=col>p.value</th><th scope=col>df</th><th scope=col>logLik</th><th scope=col>AIC</th><th scope=col>BIC</th><th scope=col>deviance</th><th scope=col>df.residual</th><th scope=col>nobs</th></tr>\n",
       "\t<tr><th scope=col>&lt;dbl&gt;</th><th scope=col>&lt;dbl&gt;</th><th scope=col>&lt;dbl&gt;</th><th scope=col>&lt;dbl&gt;</th><th scope=col>&lt;dbl&gt;</th><th scope=col>&lt;dbl&gt;</th><th scope=col>&lt;dbl&gt;</th><th scope=col>&lt;dbl&gt;</th><th scope=col>&lt;dbl&gt;</th><th scope=col>&lt;dbl&gt;</th><th scope=col>&lt;int&gt;</th><th scope=col>&lt;int&gt;</th></tr>\n",
       "</thead>\n",
       "<tbody>\n",
       "\t<tr><td>0.0596276</td><td>-0.03440964</td><td>2.518337e-05</td><td>0.634085</td><td>0.4443536</td><td>1</td><td>111.1386</td><td>-216.2772</td><td>-214.8225</td><td>6.342023e-09</td><td>10</td><td>12</td></tr>\n",
       "</tbody>\n",
       "</table>\n"
      ],
      "text/latex": [
       "A tibble: 1 × 12\n",
       "\\begin{tabular}{llllllllllll}\n",
       " r.squared & adj.r.squared & sigma & statistic & p.value & df & logLik & AIC & BIC & deviance & df.residual & nobs\\\\\n",
       " <dbl> & <dbl> & <dbl> & <dbl> & <dbl> & <dbl> & <dbl> & <dbl> & <dbl> & <dbl> & <int> & <int>\\\\\n",
       "\\hline\n",
       "\t 0.0596276 & -0.03440964 & 2.518337e-05 & 0.634085 & 0.4443536 & 1 & 111.1386 & -216.2772 & -214.8225 & 6.342023e-09 & 10 & 12\\\\\n",
       "\\end{tabular}\n"
      ],
      "text/markdown": [
       "\n",
       "A tibble: 1 × 12\n",
       "\n",
       "| r.squared &lt;dbl&gt; | adj.r.squared &lt;dbl&gt; | sigma &lt;dbl&gt; | statistic &lt;dbl&gt; | p.value &lt;dbl&gt; | df &lt;dbl&gt; | logLik &lt;dbl&gt; | AIC &lt;dbl&gt; | BIC &lt;dbl&gt; | deviance &lt;dbl&gt; | df.residual &lt;int&gt; | nobs &lt;int&gt; |\n",
       "|---|---|---|---|---|---|---|---|---|---|---|---|\n",
       "| 0.0596276 | -0.03440964 | 2.518337e-05 | 0.634085 | 0.4443536 | 1 | 111.1386 | -216.2772 | -214.8225 | 6.342023e-09 | 10 | 12 |\n",
       "\n"
      ],
      "text/plain": [
       "  r.squared adj.r.squared sigma        statistic p.value   df logLik  \n",
       "1 0.0596276 -0.03440964   2.518337e-05 0.634085  0.4443536 1  111.1386\n",
       "  AIC       BIC       deviance     df.residual nobs\n",
       "1 -216.2772 -214.8225 6.342023e-09 10          12  "
      ]
     },
     "metadata": {},
     "output_type": "display_data"
    },
    {
     "data": {
      "text/html": [
       "<table class=\"dataframe\">\n",
       "<caption>A tibble: 1 × 5</caption>\n",
       "<thead>\n",
       "\t<tr><th scope=col>RSS</th><th scope=col>TSS</th><th scope=col>myR2</th><th scope=col>my.adjR2</th><th scope=col>my.sigma</th></tr>\n",
       "\t<tr><th scope=col>&lt;dbl&gt;</th><th scope=col>&lt;dbl&gt;</th><th scope=col>&lt;dbl&gt;</th><th scope=col>&lt;dbl&gt;</th><th scope=col>&lt;dbl&gt;</th></tr>\n",
       "</thead>\n",
       "<tbody>\n",
       "\t<tr><td>6.342023e-09</td><td>6.342023e-09</td><td>0</td><td>-0.1</td><td>2.518337e-05</td></tr>\n",
       "</tbody>\n",
       "</table>\n"
      ],
      "text/latex": [
       "A tibble: 1 × 5\n",
       "\\begin{tabular}{lllll}\n",
       " RSS & TSS & myR2 & my.adjR2 & my.sigma\\\\\n",
       " <dbl> & <dbl> & <dbl> & <dbl> & <dbl>\\\\\n",
       "\\hline\n",
       "\t 6.342023e-09 & 6.342023e-09 & 0 & -0.1 & 2.518337e-05\\\\\n",
       "\\end{tabular}\n"
      ],
      "text/markdown": [
       "\n",
       "A tibble: 1 × 5\n",
       "\n",
       "| RSS &lt;dbl&gt; | TSS &lt;dbl&gt; | myR2 &lt;dbl&gt; | my.adjR2 &lt;dbl&gt; | my.sigma &lt;dbl&gt; |\n",
       "|---|---|---|---|---|\n",
       "| 6.342023e-09 | 6.342023e-09 | 0 | -0.1 | 2.518337e-05 |\n",
       "\n"
      ],
      "text/plain": [
       "  RSS          TSS          myR2 my.adjR2 my.sigma    \n",
       "1 6.342023e-09 6.342023e-09 0    -0.1     2.518337e-05"
      ]
     },
     "metadata": {},
     "output_type": "display_data"
    }
   ],
   "source": [
    "# n_tissues <- ...\n",
    "\n",
    "# SLR_ENSG00000085733_gof <- ...(...)\n",
    "# my_gof <- dat_ENSG00000085733 %>% \n",
    "#  summarize(RSS= sum(...^2),TSS=...(...)^2*(n_tissues - 1),\n",
    "#            myR2 = 1- .../..., my.adjR2 = 1- (.../(...))/(.../(...)),\n",
    "#            my.sigma = sqrt(.../(...)))\n",
    "# answer1.2.1 <- ...\n",
    "\n",
    "\n",
    "#SLR_ENSG00000085733_gof\n",
    "#my_gof\n",
    "\n",
    "# your code here\n",
    "n_tissues <- 12\n",
    "\n",
    "SLR_ENSG00000085733_gof <- glance(SLR_ENSG00000085733)\n",
    "\n",
    "my_gof <- dat_ENSG00000085733 %>% \n",
    " summarize(RSS= sum(.resid^2),TSS=sd(.resid)^2*(n_tissues - 1),\n",
    "           myR2 = 1- RSS/TSS, my.adjR2 = 1- (RSS/(n_tissues - 2))/(TSS/(n_tissues - 1)),\n",
    "           my.sigma = sqrt(RSS/((n_tissues - 2))))\n",
    "\n",
    "answer1.2.1 <- \"true\"\n",
    "\n",
    "\n",
    "SLR_ENSG00000085733_gof\n",
    "my_gof"
   ]
  },
  {
   "cell_type": "code",
   "execution_count": 9,
   "metadata": {
    "deletable": false,
    "editable": false,
    "nbgrader": {
     "cell_type": "code",
     "checksum": "d478330b9495ba71ac5d2dcec82293b9",
     "grade": true,
     "grade_id": "cell-d76ca69750b31b53",
     "locked": true,
     "points": 2,
     "schema_version": 3,
     "solution": false,
     "task": false
    },
    "tags": []
   },
   "outputs": [
    {
     "name": "stdout",
     "output_type": "stream",
     "text": [
      "\u001b[32mTest passed\u001b[39m 🎉\n",
      "\u001b[32mTest passed\u001b[39m 🥇\n",
      "\u001b[32mTest passed\u001b[39m 🥇\n",
      "\u001b[32mTest passed\u001b[39m 🥇\n",
      "\u001b[32mTest passed\u001b[39m 🎊\n",
      "[1] \"Success!\"\n",
      "\u001b[32mTest passed\u001b[39m 🎉\n",
      "\u001b[32mTest passed\u001b[39m 😀\n",
      "\u001b[32mTest passed\u001b[39m 😸\n",
      "[1] \"Success!\"\n"
     ]
    }
   ],
   "source": [
    "test_1.2.0()\n",
    "test_1.2.1()"
   ]
  },
  {
   "cell_type": "markdown",
   "metadata": {
    "deletable": false,
    "editable": false,
    "nbgrader": {
     "cell_type": "markdown",
     "checksum": "0e2179f415844da3905c0056f72414f1",
     "grade": false,
     "grade_id": "cell-eaa6c4456b1dcd1b",
     "locked": true,
     "schema_version": 3,
     "solution": false,
     "task": false
    },
    "tags": []
   },
   "source": [
    "**Question 1.3**\n",
    "<br>{points: 1}\n",
    "\n",
    "The output of `glance()` includes a $p$-value corresponding to a hypothesis test that compares the proposed SLR $\\text{prot}_t=\\beta_0 + \\beta_1 \\text{mrna}_{t} + \\varepsilon_t$ with a reduced (null) model. Which of the following models is the null model in this comparison?\n",
    "\n",
    "**A.** $\\text{prot}_t=\\beta_0 + \\varepsilon_t$ \n",
    "\n",
    "**B.** $\\text{prot}_t=\\beta_0 + \\beta_1 \\text{gene}_{t} + \\varepsilon_t$ \n",
    "\n",
    "**C.** $\\text{prot}_t=\\beta_0 + \\beta_1 \\text{gene}_{t} + \\beta_2 \\text{mrna}_{t} + \\varepsilon_t$ \n",
    "\n",
    "*Assign your answer to an object called `answer1.3`. Your answer should be one of `\"A\"`, `\"B\"`, or `\"C\"` surrounded by quotes.*"
   ]
  },
  {
   "cell_type": "code",
   "execution_count": 10,
   "metadata": {
    "deletable": false,
    "nbgrader": {
     "cell_type": "code",
     "checksum": "11143cdba8a0594ae5b7d8e0d0988e99",
     "grade": false,
     "grade_id": "cell-7ff1d5b6dd3bb3ca",
     "locked": false,
     "schema_version": 3,
     "solution": true,
     "task": false
    },
    "tags": []
   },
   "outputs": [],
   "source": [
    "# answer1.3 <-\n",
    "\n",
    "# your code here\n",
    "answer1.3 <- \"A\""
   ]
  },
  {
   "cell_type": "code",
   "execution_count": 11,
   "metadata": {
    "deletable": false,
    "editable": false,
    "nbgrader": {
     "cell_type": "code",
     "checksum": "cbe32f9a2dfff992cb423d0fbf8030cd",
     "grade": true,
     "grade_id": "cell-20e11a935946c142",
     "locked": true,
     "points": 1,
     "schema_version": 3,
     "solution": false,
     "task": false
    },
    "tags": []
   },
   "outputs": [
    {
     "name": "stdout",
     "output_type": "stream",
     "text": [
      "\u001b[32mTest passed\u001b[39m 🎉\n",
      "\u001b[32mTest passed\u001b[39m 🎉\n",
      "\u001b[32mTest passed\u001b[39m 🎊\n",
      "[1] \"Success!\"\n"
     ]
    }
   ],
   "source": [
    "test_1.3()"
   ]
  },
  {
   "cell_type": "markdown",
   "metadata": {
    "deletable": false,
    "editable": false,
    "nbgrader": {
     "cell_type": "markdown",
     "checksum": "cee41168900f3c0907cc1c82db76477a",
     "grade": false,
     "grade_id": "cell-c02c0296af3d1722",
     "locked": true,
     "schema_version": 3,
     "solution": false,
     "task": false
    },
    "tags": []
   },
   "source": [
    "**Question 1.4**\n",
    "<br>{points: 1}\n",
    "\n",
    "Select the code(s) that can be used to compute the same test as that included in the output of `glance()`:\n",
    "\n",
    "**A.** `anova(lm(prot~ 1, dat_ENSG00000085733))`\n",
    "\n",
    "**B.** `anova(lm(prot~1, dat_ENSG00000085733), lm(prot~ mrna, dat_ENSG00000085733))`\n",
    "\n",
    "**C.** `tidy(lm(prot~ mrna, dat_ENSG00000085733)) %>% filter(term == 'mrna') %>% pull(p.value)`\n",
    "\n",
    "*Assign your answer to an object called `answer1.4`. Your answers have to be included in a single string indicating the correct options in alphabetical order and surrounded by quotes (e.g., `\"ABC\"` indicates you are selecting the three options).*"
   ]
  },
  {
   "cell_type": "code",
   "execution_count": 12,
   "metadata": {
    "deletable": false,
    "nbgrader": {
     "cell_type": "code",
     "checksum": "728382fc4ac5538f845c1ff17683b97a",
     "grade": false,
     "grade_id": "cell-1cfade5ebf2dbb30",
     "locked": false,
     "schema_version": 3,
     "solution": true,
     "task": false
    },
    "tags": []
   },
   "outputs": [],
   "source": [
    "# answer1.4 <-\n",
    "\n",
    "# your code here\n",
    "answer1.4 <- \"BC\""
   ]
  },
  {
   "cell_type": "code",
   "execution_count": 13,
   "metadata": {
    "deletable": false,
    "editable": false,
    "nbgrader": {
     "cell_type": "code",
     "checksum": "fa867f05809ea5adcfc0855dd5532830",
     "grade": true,
     "grade_id": "cell-10712f928dbb5402",
     "locked": true,
     "points": 1,
     "schema_version": 3,
     "solution": false,
     "task": false
    },
    "tags": []
   },
   "outputs": [
    {
     "name": "stdout",
     "output_type": "stream",
     "text": [
      "\u001b[32mTest passed\u001b[39m 🌈\n",
      "\u001b[32mTest passed\u001b[39m 🎊\n",
      "\u001b[32mTest passed\u001b[39m 😸\n",
      "[1] \"Success!\"\n"
     ]
    }
   ],
   "source": [
    "test_1.4()"
   ]
  },
  {
   "cell_type": "markdown",
   "metadata": {
    "deletable": false,
    "editable": false,
    "nbgrader": {
     "cell_type": "markdown",
     "checksum": "930566279f8eabd5330607d43759cbf2",
     "grade": false,
     "grade_id": "cell-ffbd231cc330cd79",
     "locked": true,
     "schema_version": 3,
     "solution": false,
     "task": false
    },
    "tags": []
   },
   "source": [
    "**Question 1.5**\n",
    "<br>{points: 1}\n",
    "\n",
    "Based on the results of the goodness-of-fit measurements obtained for the estimated SLR for gene dat_ENSG00000085733, select all the claims that are true:\n",
    "\n",
    "**A.** These results suggest that for the selected gene, a gene-specific model explains less than 6% of the observed variation in protein abundance. \n",
    "\n",
    "**B.** A gene-specific model fits the data well. \n",
    "\n",
    "**C.** It now becomes possible to predict protein abundance in any given tissue with good accuracy from the measured mRNA for any gene.  \n",
    "\n",
    "**D.** There is not enough evidence that the gene-specific SLR using `mrna` as an input is better than using the average protein level to predict protein abundances.\n",
    "\n",
    "*Assign your answer to an object called `answer1.5`. Your answers have to be included in a single string indicating the correct options in alphabetical order and surrounded by quotes (e.g., `\"ABCD\"` indicates you are selecting the four options).*"
   ]
  },
  {
   "cell_type": "code",
   "execution_count": 14,
   "metadata": {
    "deletable": false,
    "nbgrader": {
     "cell_type": "code",
     "checksum": "8aad39343967ae2bb280ba3ed5f64c55",
     "grade": false,
     "grade_id": "cell-ab28b7843d179481",
     "locked": false,
     "schema_version": 3,
     "solution": true,
     "task": false
    },
    "tags": []
   },
   "outputs": [],
   "source": [
    "# answer1.5 <-\n",
    "\n",
    "# your code here\n",
    "answer1.5 <- \"AD\""
   ]
  },
  {
   "cell_type": "code",
   "execution_count": 15,
   "metadata": {
    "deletable": false,
    "editable": false,
    "nbgrader": {
     "cell_type": "code",
     "checksum": "d841f78852406c4b6a15dc5db922e815",
     "grade": true,
     "grade_id": "cell-afa5092f5e23c8f0",
     "locked": true,
     "points": 1,
     "schema_version": 3,
     "solution": false,
     "task": false
    },
    "tags": []
   },
   "outputs": [
    {
     "name": "stdout",
     "output_type": "stream",
     "text": [
      "\u001b[32mTest passed\u001b[39m 🎉\n",
      "\u001b[32mTest passed\u001b[39m 🥇\n",
      "\u001b[32mTest passed\u001b[39m 🥳\n",
      "[1] \"Success!\"\n"
     ]
    }
   ],
   "source": [
    "test_1.5()"
   ]
  },
  {
   "cell_type": "markdown",
   "metadata": {
    "deletable": false,
    "editable": false,
    "nbgrader": {
     "cell_type": "markdown",
     "checksum": "83d6fdde21a1b29b0de5b48aacd31c96",
     "grade": false,
     "grade_id": "cell-68e9eecc55019cda",
     "locked": true,
     "schema_version": 3,
     "solution": false,
     "task": false
    }
   },
   "source": [
    "### F-test and t-test for a SLR\n",
    "\n",
    "Note that in this simple case, the only difference between the reduced and the full model is the term with $\\beta_1$\n",
    "\n",
    "> we are testing if $\\beta_1$ is different from zero!! $H_0: \\beta_1 = 0$\n",
    "\n",
    "Same as before!! \n",
    "\n",
    "> Note the $p$-values are the same. This is not a coincidence! \n",
    "\n",
    "When we test only one parameter: $t^2 = F$"
   ]
  },
  {
   "cell_type": "markdown",
   "metadata": {
    "deletable": false,
    "editable": false,
    "nbgrader": {
     "cell_type": "markdown",
     "checksum": "908564d57570382d4767d01327f93183",
     "grade": false,
     "grade_id": "cell-4166dc30d7557b4f",
     "locked": true,
     "schema_version": 3,
     "solution": false,
     "task": false
    }
   },
   "source": [
    "### 2. Many gene-specific SLR models\n",
    "\n",
    "**Remember that this is *only 1* gene in the dataset but there are 1391 more genes!!** Results may be different for other genes."
   ]
  },
  {
   "cell_type": "markdown",
   "metadata": {
    "deletable": false,
    "editable": false,
    "nbgrader": {
     "cell_type": "markdown",
     "checksum": "75d1437fcb399b7b080cd5b5d583c709",
     "grade": false,
     "grade_id": "cell-79247febad83752b",
     "locked": true,
     "schema_version": 3,
     "solution": false,
     "task": false
    }
   },
   "source": [
    "**Question 2.0**\n",
    "<br>{points: 1}\n",
    "\n",
    "In this problem you will: \n",
    "\n",
    "- fit 1392 SLR, one for each gene in the dataset using `lm()` and `group_by()`\n",
    "\n",
    "- compute the $R^2$ for each gene and estimated SLR using the function `glance()`\n",
    "\n",
    "- select the columns `gene`, `r.squared` and `p.value`. Store them in an object called `summary_gof`\n",
    "\n",
    "*Fill out those parts indicated with `...`, uncomment the corresponding code in the cell below, and run it.*"
   ]
  },
  {
   "cell_type": "code",
   "execution_count": 16,
   "metadata": {
    "deletable": false,
    "nbgrader": {
     "cell_type": "code",
     "checksum": "7fb65b02b72986b01d775ea2fbb9cdb3",
     "grade": false,
     "grade_id": "cell-30b40631b6494c74",
     "locked": false,
     "schema_version": 3,
     "solution": true,
     "task": false
    },
    "tags": []
   },
   "outputs": [
    {
     "data": {
      "text/html": [
       "<table class=\"dataframe\">\n",
       "<caption>A grouped_df: 3 × 3</caption>\n",
       "<thead>\n",
       "\t<tr><th scope=col>gene</th><th scope=col>r.squared</th><th scope=col>p.value</th></tr>\n",
       "\t<tr><th scope=col>&lt;fct&gt;</th><th scope=col>&lt;dbl&gt;</th><th scope=col>&lt;dbl&gt;</th></tr>\n",
       "</thead>\n",
       "<tbody>\n",
       "\t<tr><td>ENSG00000262246</td><td>0.87320854</td><td>8.528309e-06</td></tr>\n",
       "\t<tr><td>ENSG00000269190</td><td>0.01385553</td><td>7.156094e-01</td></tr>\n",
       "\t<tr><td>ENSG00000272325</td><td>0.02304601</td><td>6.376515e-01</td></tr>\n",
       "</tbody>\n",
       "</table>\n"
      ],
      "text/latex": [
       "A grouped\\_df: 3 × 3\n",
       "\\begin{tabular}{lll}\n",
       " gene & r.squared & p.value\\\\\n",
       " <fct> & <dbl> & <dbl>\\\\\n",
       "\\hline\n",
       "\t ENSG00000262246 & 0.87320854 & 8.528309e-06\\\\\n",
       "\t ENSG00000269190 & 0.01385553 & 7.156094e-01\\\\\n",
       "\t ENSG00000272325 & 0.02304601 & 6.376515e-01\\\\\n",
       "\\end{tabular}\n"
      ],
      "text/markdown": [
       "\n",
       "A grouped_df: 3 × 3\n",
       "\n",
       "| gene &lt;fct&gt; | r.squared &lt;dbl&gt; | p.value &lt;dbl&gt; |\n",
       "|---|---|---|\n",
       "| ENSG00000262246 | 0.87320854 | 8.528309e-06 |\n",
       "| ENSG00000269190 | 0.01385553 | 7.156094e-01 |\n",
       "| ENSG00000272325 | 0.02304601 | 6.376515e-01 |\n",
       "\n"
      ],
      "text/plain": [
       "  gene            r.squared  p.value     \n",
       "1 ENSG00000262246 0.87320854 8.528309e-06\n",
       "2 ENSG00000269190 0.01385553 7.156094e-01\n",
       "3 ENSG00000272325 0.02304601 6.376515e-01"
      ]
     },
     "metadata": {},
     "output_type": "display_data"
    }
   ],
   "source": [
    "#dat_glance <- dat_bio  %>% \n",
    "#  group_by(...)  %>% \n",
    "#  do(glance(...(... ~ ..., data = .))) \n",
    "\n",
    "#summary_gof <- dat_glance %>% \n",
    "#  select(..., ..., ...)\n",
    "\n",
    "#tail(summary_gof, 3)\n",
    "\n",
    "# your code here\n",
    "dat_glance <- dat_bio  %>% \n",
    " group_by(gene)  %>% \n",
    " do(glance(lm(prot ~ mrna, data = .))) \n",
    "\n",
    "summary_gof <- dat_glance %>% \n",
    " select(gene, r.squared, p.value)\n",
    "\n",
    "tail(summary_gof, 3)"
   ]
  },
  {
   "cell_type": "code",
   "execution_count": 17,
   "metadata": {
    "deletable": false,
    "editable": false,
    "nbgrader": {
     "cell_type": "code",
     "checksum": "2ade93ad6cb031a3b2a438d3bc9f1bf3",
     "grade": true,
     "grade_id": "cell-b3ad10a8f196443d",
     "locked": true,
     "points": 1,
     "schema_version": 3,
     "solution": false,
     "task": false
    },
    "tags": []
   },
   "outputs": [
    {
     "name": "stdout",
     "output_type": "stream",
     "text": [
      "\u001b[32mTest passed\u001b[39m 🎉\n",
      "\u001b[32mTest passed\u001b[39m 😸\n",
      "\u001b[32mTest passed\u001b[39m 😀\n",
      "\u001b[32mTest passed\u001b[39m 🎉\n",
      "\u001b[32mTest passed\u001b[39m 🌈\n",
      "\u001b[32mTest passed\u001b[39m 🎉\n",
      "[1] \"Success!\"\n"
     ]
    }
   ],
   "source": [
    "test_2.0()"
   ]
  },
  {
   "cell_type": "markdown",
   "metadata": {
    "deletable": false,
    "editable": false,
    "nbgrader": {
     "cell_type": "markdown",
     "checksum": "f0340da0db2dab543befffc93b207ff4",
     "grade": false,
     "grade_id": "cell-dfaabf410163976a",
     "locked": true,
     "schema_version": 3,
     "solution": false,
     "task": false
    }
   },
   "source": [
    "#### Visualization of results \n",
    "\n",
    "We have computed 1392 coefficients of determination, one for each *gene-specific* fitted model. Let's visualize the results using a histogram of the coefficients of determination"
   ]
  },
  {
   "cell_type": "code",
   "execution_count": 18,
   "metadata": {
    "deletable": false,
    "editable": false,
    "nbgrader": {
     "cell_type": "code",
     "checksum": "f2387f1139267b98a1fcfb4d13b7d3a5",
     "grade": false,
     "grade_id": "cell-0dd8c3a8d46da2f2",
     "locked": true,
     "schema_version": 3,
     "solution": false,
     "task": false
    },
    "tags": []
   },
   "outputs": [
    {
     "name": "stderr",
     "output_type": "stream",
     "text": [
      "Warning message:\n",
      "“\u001b[1m\u001b[22mRemoved 2 rows containing missing values (`geom_bar()`).”\n"
     ]
    },
    {
     "data": {
      "application/pdf": "[encoded data removed]",
      "image/jpeg": "[encoded data removed]",
      "image/png": "[encoded data removed]",
      "image/svg+xml": [
       "<?xml version=\"1.0\" encoding=\"UTF-8\"?>\n",
       "<svg xmlns=\"http://www.w3.org/2000/svg\" xmlns:xlink=\"http://www.w3.org/1999/xlink\" width=\"432\" height=\"216\" viewBox=\"0 0 432 216\">\n",
       "<defs>\n",
       "<g>\n",
       "<g id=\"glyph-0-0\">\n",
       "<path d=\"M 4.546875 -3.03125 C 4.546875 -2.445312 4.488281 -1.957031 4.375 -1.5625 C 4.269531 -1.164062 4.117188 -0.84375 3.921875 -0.59375 C 3.734375 -0.351562 3.507812 -0.179688 3.25 -0.078125 C 3 0.0234375 2.726562 0.078125 2.4375 0.078125 C 2.144531 0.078125 1.867188 0.0234375 1.609375 -0.078125 C 1.359375 -0.179688 1.140625 -0.351562 0.953125 -0.59375 C 0.765625 -0.84375 0.613281 -1.164062 0.5 -1.5625 C 0.394531 -1.957031 0.34375 -2.445312 0.34375 -3.03125 C 0.34375 -3.632812 0.394531 -4.132812 0.5 -4.53125 C 0.613281 -4.9375 0.765625 -5.257812 0.953125 -5.5 C 1.140625 -5.738281 1.359375 -5.90625 1.609375 -6 C 1.867188 -6.09375 2.15625 -6.140625 2.46875 -6.140625 C 2.75 -6.140625 3.015625 -6.09375 3.265625 -6 C 3.523438 -5.90625 3.75 -5.738281 3.9375 -5.5 C 4.125 -5.257812 4.269531 -4.9375 4.375 -4.53125 C 4.488281 -4.132812 4.546875 -3.632812 4.546875 -3.03125 Z M 3.765625 -3.03125 C 3.765625 -3.507812 3.734375 -3.90625 3.671875 -4.21875 C 3.617188 -4.539062 3.535156 -4.796875 3.421875 -4.984375 C 3.304688 -5.179688 3.164062 -5.316406 3 -5.390625 C 2.84375 -5.472656 2.664062 -5.515625 2.46875 -5.515625 C 2.25 -5.515625 2.054688 -5.472656 1.890625 -5.390625 C 1.722656 -5.316406 1.582031 -5.179688 1.46875 -4.984375 C 1.351562 -4.796875 1.265625 -4.539062 1.203125 -4.21875 C 1.148438 -3.90625 1.125 -3.507812 1.125 -3.03125 C 1.125 -2.5625 1.148438 -2.164062 1.203125 -1.84375 C 1.265625 -1.53125 1.351562 -1.273438 1.46875 -1.078125 C 1.582031 -0.890625 1.71875 -0.753906 1.875 -0.671875 C 2.039062 -0.585938 2.226562 -0.546875 2.4375 -0.546875 C 2.644531 -0.546875 2.828125 -0.585938 2.984375 -0.671875 C 3.148438 -0.753906 3.289062 -0.890625 3.40625 -1.078125 C 3.519531 -1.273438 3.609375 -1.53125 3.671875 -1.84375 C 3.734375 -2.164062 3.765625 -2.5625 3.765625 -3.03125 Z M 3.765625 -3.03125 \"/>\n",
       "</g>\n",
       "<g id=\"glyph-0-1\">\n",
       "<path d=\"M 0.671875 0 L 0.671875 -0.65625 L 2.21875 -0.65625 L 2.21875 -5.3125 L 0.84375 -4.34375 L 0.84375 -5.0625 L 2.28125 -6.046875 L 2.984375 -6.046875 L 2.984375 -0.65625 L 4.46875 -0.65625 L 4.46875 0 Z M 0.671875 0 \"/>\n",
       "</g>\n",
       "<g id=\"glyph-0-2\">\n",
       "<path d=\"M 0.4375 0 L 0.4375 -0.546875 C 0.582031 -0.878906 0.757812 -1.171875 0.96875 -1.421875 C 1.1875 -1.679688 1.410156 -1.914062 1.640625 -2.125 C 1.867188 -2.332031 2.097656 -2.523438 2.328125 -2.703125 C 2.554688 -2.878906 2.757812 -3.054688 2.9375 -3.234375 C 3.125 -3.410156 3.273438 -3.597656 3.390625 -3.796875 C 3.503906 -3.992188 3.5625 -4.210938 3.5625 -4.453125 C 3.5625 -4.628906 3.535156 -4.78125 3.484375 -4.90625 C 3.429688 -5.039062 3.351562 -5.148438 3.25 -5.234375 C 3.15625 -5.328125 3.039062 -5.394531 2.90625 -5.4375 C 2.769531 -5.476562 2.617188 -5.5 2.453125 -5.5 C 2.296875 -5.5 2.148438 -5.476562 2.015625 -5.4375 C 1.878906 -5.394531 1.757812 -5.332031 1.65625 -5.25 C 1.550781 -5.164062 1.460938 -5.054688 1.390625 -4.921875 C 1.328125 -4.796875 1.285156 -4.648438 1.265625 -4.484375 L 0.484375 -4.5625 C 0.503906 -4.78125 0.5625 -4.984375 0.65625 -5.171875 C 0.75 -5.359375 0.878906 -5.523438 1.046875 -5.671875 C 1.210938 -5.816406 1.410156 -5.929688 1.640625 -6.015625 C 1.878906 -6.097656 2.148438 -6.140625 2.453125 -6.140625 C 2.753906 -6.140625 3.019531 -6.101562 3.25 -6.03125 C 3.488281 -5.957031 3.6875 -5.847656 3.84375 -5.703125 C 4.007812 -5.566406 4.132812 -5.394531 4.21875 -5.1875 C 4.3125 -4.988281 4.359375 -4.753906 4.359375 -4.484375 C 4.359375 -4.273438 4.320312 -4.078125 4.25 -3.890625 C 4.175781 -3.710938 4.078125 -3.539062 3.953125 -3.375 C 3.828125 -3.207031 3.6875 -3.046875 3.53125 -2.890625 C 3.375 -2.742188 3.207031 -2.59375 3.03125 -2.4375 C 2.851562 -2.289062 2.675781 -2.144531 2.5 -2 C 2.320312 -1.863281 2.15625 -1.722656 2 -1.578125 C 1.84375 -1.429688 1.703125 -1.28125 1.578125 -1.125 C 1.453125 -0.976562 1.359375 -0.820312 1.296875 -0.65625 L 4.453125 -0.65625 L 4.453125 0 Z M 0.4375 0 \"/>\n",
       "</g>\n",
       "<g id=\"glyph-0-3\">\n",
       "<path d=\"M 4.5 -1.671875 C 4.5 -1.390625 4.453125 -1.140625 4.359375 -0.921875 C 4.273438 -0.703125 4.144531 -0.519531 3.96875 -0.375 C 3.800781 -0.226562 3.585938 -0.113281 3.328125 -0.03125 C 3.078125 0.0390625 2.785156 0.078125 2.453125 0.078125 C 2.078125 0.078125 1.757812 0.0351562 1.5 -0.046875 C 1.25 -0.140625 1.039062 -0.265625 0.875 -0.421875 C 0.707031 -0.578125 0.582031 -0.75 0.5 -0.9375 C 0.414062 -1.132812 0.359375 -1.34375 0.328125 -1.5625 L 1.140625 -1.625 C 1.160156 -1.46875 1.203125 -1.320312 1.265625 -1.1875 C 1.328125 -1.0625 1.410156 -0.945312 1.515625 -0.84375 C 1.617188 -0.75 1.75 -0.675781 1.90625 -0.625 C 2.0625 -0.570312 2.242188 -0.546875 2.453125 -0.546875 C 2.835938 -0.546875 3.140625 -0.640625 3.359375 -0.828125 C 3.585938 -1.023438 3.703125 -1.316406 3.703125 -1.703125 C 3.703125 -1.921875 3.648438 -2.097656 3.546875 -2.234375 C 3.453125 -2.367188 3.332031 -2.472656 3.1875 -2.546875 C 3.039062 -2.628906 2.878906 -2.679688 2.703125 -2.703125 C 2.523438 -2.734375 2.363281 -2.75 2.21875 -2.75 L 1.78125 -2.75 L 1.78125 -3.421875 L 2.203125 -3.421875 C 2.347656 -3.421875 2.5 -3.429688 2.65625 -3.453125 C 2.820312 -3.484375 2.96875 -3.535156 3.09375 -3.609375 C 3.226562 -3.691406 3.335938 -3.800781 3.421875 -3.9375 C 3.503906 -4.070312 3.546875 -4.242188 3.546875 -4.453125 C 3.546875 -4.773438 3.445312 -5.03125 3.25 -5.21875 C 3.0625 -5.40625 2.78125 -5.5 2.40625 -5.5 C 2.070312 -5.5 1.796875 -5.410156 1.578125 -5.234375 C 1.367188 -5.066406 1.25 -4.820312 1.21875 -4.5 L 0.4375 -4.5625 C 0.46875 -4.832031 0.539062 -5.066406 0.65625 -5.265625 C 0.769531 -5.460938 0.914062 -5.625 1.09375 -5.75 C 1.269531 -5.882812 1.46875 -5.984375 1.6875 -6.046875 C 1.914062 -6.109375 2.160156 -6.140625 2.421875 -6.140625 C 2.753906 -6.140625 3.039062 -6.097656 3.28125 -6.015625 C 3.53125 -5.929688 3.734375 -5.816406 3.890625 -5.671875 C 4.046875 -5.523438 4.160156 -5.351562 4.234375 -5.15625 C 4.304688 -4.96875 4.34375 -4.765625 4.34375 -4.546875 C 4.34375 -4.367188 4.316406 -4.203125 4.265625 -4.046875 C 4.210938 -3.890625 4.132812 -3.75 4.03125 -3.625 C 3.9375 -3.5 3.804688 -3.390625 3.640625 -3.296875 C 3.484375 -3.210938 3.296875 -3.148438 3.078125 -3.109375 L 3.078125 -3.09375 C 3.316406 -3.0625 3.523438 -3.003906 3.703125 -2.921875 C 3.890625 -2.835938 4.039062 -2.734375 4.15625 -2.609375 C 4.269531 -2.484375 4.351562 -2.335938 4.40625 -2.171875 C 4.46875 -2.015625 4.5 -1.847656 4.5 -1.671875 Z M 4.5 -1.671875 \"/>\n",
       "</g>\n",
       "<g id=\"glyph-0-4\">\n",
       "<path d=\"M 3.78125 -1.375 L 3.78125 0 L 3.046875 0 L 3.046875 -1.375 L 0.203125 -1.375 L 0.203125 -1.96875 L 2.96875 -6.046875 L 3.78125 -6.046875 L 3.78125 -1.984375 L 4.640625 -1.984375 L 4.640625 -1.375 Z M 3.046875 -5.1875 C 3.046875 -5.164062 3.035156 -5.132812 3.015625 -5.09375 C 2.992188 -5.050781 2.96875 -5.003906 2.9375 -4.953125 C 2.90625 -4.898438 2.875 -4.847656 2.84375 -4.796875 C 2.8125 -4.742188 2.785156 -4.703125 2.765625 -4.671875 L 1.21875 -2.390625 C 1.195312 -2.359375 1.171875 -2.320312 1.140625 -2.28125 C 1.117188 -2.25 1.09375 -2.210938 1.0625 -2.171875 C 1.039062 -2.140625 1.015625 -2.101562 0.984375 -2.0625 C 0.953125 -2.03125 0.929688 -2.003906 0.921875 -1.984375 L 3.046875 -1.984375 Z M 3.046875 -5.1875 \"/>\n",
       "</g>\n",
       "<g id=\"glyph-0-5\">\n",
       "<path d=\"M 0.796875 0 L 0.796875 -0.9375 L 1.640625 -0.9375 L 1.640625 0 Z M 0.796875 0 \"/>\n",
       "</g>\n",
       "<g id=\"glyph-0-6\">\n",
       "<path d=\"M 4.515625 -1.96875 C 4.515625 -1.664062 4.46875 -1.390625 4.375 -1.140625 C 4.289062 -0.890625 4.15625 -0.671875 3.96875 -0.484375 C 3.789062 -0.304688 3.566406 -0.164062 3.296875 -0.0625 C 3.035156 0.03125 2.726562 0.078125 2.375 0.078125 C 2.0625 0.078125 1.785156 0.0390625 1.546875 -0.03125 C 1.304688 -0.101562 1.101562 -0.203125 0.9375 -0.328125 C 0.78125 -0.460938 0.648438 -0.613281 0.546875 -0.78125 C 0.453125 -0.957031 0.390625 -1.148438 0.359375 -1.359375 L 1.140625 -1.4375 C 1.171875 -1.320312 1.210938 -1.210938 1.265625 -1.109375 C 1.328125 -1.003906 1.40625 -0.910156 1.5 -0.828125 C 1.601562 -0.742188 1.722656 -0.675781 1.859375 -0.625 C 2.003906 -0.570312 2.179688 -0.546875 2.390625 -0.546875 C 2.585938 -0.546875 2.769531 -0.578125 2.9375 -0.640625 C 3.101562 -0.703125 3.242188 -0.789062 3.359375 -0.90625 C 3.472656 -1.03125 3.5625 -1.175781 3.625 -1.34375 C 3.6875 -1.519531 3.71875 -1.722656 3.71875 -1.953125 C 3.71875 -2.140625 3.6875 -2.3125 3.625 -2.46875 C 3.570312 -2.625 3.488281 -2.757812 3.375 -2.875 C 3.257812 -2.988281 3.117188 -3.078125 2.953125 -3.140625 C 2.796875 -3.203125 2.613281 -3.234375 2.40625 -3.234375 C 2.28125 -3.234375 2.160156 -3.21875 2.046875 -3.1875 C 1.941406 -3.164062 1.84375 -3.132812 1.75 -3.09375 C 1.65625 -3.0625 1.570312 -3.015625 1.5 -2.953125 C 1.425781 -2.898438 1.351562 -2.847656 1.28125 -2.796875 L 0.53125 -2.796875 L 0.734375 -6.046875 L 4.171875 -6.046875 L 4.171875 -5.390625 L 1.4375 -5.390625 L 1.3125 -3.46875 C 1.457031 -3.582031 1.628906 -3.675781 1.828125 -3.75 C 2.035156 -3.820312 2.28125 -3.859375 2.5625 -3.859375 C 2.863281 -3.859375 3.132812 -3.8125 3.375 -3.71875 C 3.613281 -3.632812 3.816406 -3.503906 3.984375 -3.328125 C 4.160156 -3.160156 4.289062 -2.960938 4.375 -2.734375 C 4.46875 -2.503906 4.515625 -2.25 4.515625 -1.96875 Z M 4.515625 -1.96875 \"/>\n",
       "</g>\n",
       "<g id=\"glyph-0-7\">\n",
       "<path d=\"M 4.453125 -5.421875 C 4.148438 -4.960938 3.867188 -4.515625 3.609375 -4.078125 C 3.359375 -3.648438 3.140625 -3.21875 2.953125 -2.78125 C 2.773438 -2.351562 2.632812 -1.910156 2.53125 -1.453125 C 2.425781 -0.992188 2.375 -0.507812 2.375 0 L 1.5625 0 C 1.5625 -0.476562 1.617188 -0.953125 1.734375 -1.421875 C 1.847656 -1.890625 2.003906 -2.347656 2.203125 -2.796875 C 2.398438 -3.242188 2.625 -3.679688 2.875 -4.109375 C 3.132812 -4.546875 3.410156 -4.972656 3.703125 -5.390625 L 0.453125 -5.390625 L 0.453125 -6.046875 L 4.453125 -6.046875 Z M 4.453125 -5.421875 \"/>\n",
       "</g>\n",
       "<g id=\"glyph-1-0\">\n",
       "<path d=\"M 6.25 0 L 4.28125 -3.140625 L 1.921875 -3.140625 L 1.921875 0 L 0.90625 0 L 0.90625 -7.5625 L 4.46875 -7.5625 C 4.894531 -7.5625 5.273438 -7.507812 5.609375 -7.40625 C 5.941406 -7.3125 6.21875 -7.171875 6.4375 -6.984375 C 6.664062 -6.804688 6.835938 -6.582031 6.953125 -6.3125 C 7.078125 -6.039062 7.140625 -5.738281 7.140625 -5.40625 C 7.140625 -5.164062 7.101562 -4.925781 7.03125 -4.6875 C 6.957031 -4.457031 6.84375 -4.242188 6.6875 -4.046875 C 6.539062 -3.859375 6.351562 -3.691406 6.125 -3.546875 C 5.894531 -3.410156 5.613281 -3.316406 5.28125 -3.265625 L 7.4375 0 Z M 6.109375 -5.390625 C 6.109375 -5.617188 6.066406 -5.816406 5.984375 -5.984375 C 5.898438 -6.148438 5.785156 -6.289062 5.640625 -6.40625 C 5.492188 -6.519531 5.3125 -6.601562 5.09375 -6.65625 C 4.875 -6.71875 4.628906 -6.75 4.359375 -6.75 L 1.921875 -6.75 L 1.921875 -3.953125 L 4.40625 -3.953125 C 4.695312 -3.953125 4.945312 -3.988281 5.15625 -4.0625 C 5.375 -4.132812 5.550781 -4.234375 5.6875 -4.359375 C 5.832031 -4.492188 5.9375 -4.648438 6 -4.828125 C 6.070312 -5.003906 6.109375 -5.191406 6.109375 -5.390625 Z M 6.109375 -5.390625 \"/>\n",
       "</g>\n",
       "<g id=\"glyph-1-1\">\n",
       "<path d=\"M 5.109375 -1.609375 C 5.109375 -1.335938 5.050781 -1.09375 4.9375 -0.875 C 4.832031 -0.664062 4.679688 -0.488281 4.484375 -0.34375 C 4.285156 -0.195312 4.039062 -0.0820312 3.75 0 C 3.457031 0.0703125 3.125 0.109375 2.75 0.109375 C 2.40625 0.109375 2.097656 0.0820312 1.828125 0.03125 C 1.554688 -0.0195312 1.316406 -0.101562 1.109375 -0.21875 C 0.910156 -0.332031 0.742188 -0.484375 0.609375 -0.671875 C 0.472656 -0.859375 0.375 -1.085938 0.3125 -1.359375 L 1.15625 -1.53125 C 1.238281 -1.21875 1.410156 -0.988281 1.671875 -0.84375 C 1.929688 -0.695312 2.289062 -0.625 2.75 -0.625 C 2.957031 -0.625 3.144531 -0.640625 3.3125 -0.671875 C 3.488281 -0.703125 3.640625 -0.75 3.765625 -0.8125 C 3.890625 -0.882812 3.984375 -0.976562 4.046875 -1.09375 C 4.117188 -1.207031 4.15625 -1.351562 4.15625 -1.53125 C 4.15625 -1.707031 4.113281 -1.847656 4.03125 -1.953125 C 3.957031 -2.066406 3.84375 -2.160156 3.6875 -2.234375 C 3.539062 -2.316406 3.363281 -2.382812 3.15625 -2.4375 C 2.945312 -2.5 2.71875 -2.5625 2.46875 -2.625 C 2.238281 -2.6875 2.007812 -2.753906 1.78125 -2.828125 C 1.550781 -2.898438 1.34375 -3 1.15625 -3.125 C 0.96875 -3.25 0.816406 -3.398438 0.703125 -3.578125 C 0.585938 -3.765625 0.53125 -4 0.53125 -4.28125 C 0.53125 -4.8125 0.71875 -5.210938 1.09375 -5.484375 C 1.476562 -5.765625 2.03125 -5.90625 2.75 -5.90625 C 3.394531 -5.90625 3.90625 -5.789062 4.28125 -5.5625 C 4.65625 -5.332031 4.894531 -4.972656 5 -4.484375 L 4.125 -4.375 C 4.09375 -4.519531 4.035156 -4.644531 3.953125 -4.75 C 3.867188 -4.851562 3.765625 -4.9375 3.640625 -5 C 3.515625 -5.0625 3.375 -5.101562 3.21875 -5.125 C 3.070312 -5.15625 2.914062 -5.171875 2.75 -5.171875 C 2.3125 -5.171875 1.988281 -5.101562 1.78125 -4.96875 C 1.582031 -4.84375 1.484375 -4.644531 1.484375 -4.375 C 1.484375 -4.21875 1.519531 -4.085938 1.59375 -3.984375 C 1.664062 -3.878906 1.769531 -3.789062 1.90625 -3.71875 C 2.050781 -3.65625 2.21875 -3.597656 2.40625 -3.546875 C 2.601562 -3.492188 2.816406 -3.4375 3.046875 -3.375 C 3.203125 -3.332031 3.359375 -3.289062 3.515625 -3.25 C 3.679688 -3.207031 3.835938 -3.15625 3.984375 -3.09375 C 4.140625 -3.03125 4.285156 -2.957031 4.421875 -2.875 C 4.554688 -2.789062 4.671875 -2.6875 4.765625 -2.5625 C 4.867188 -2.445312 4.953125 -2.3125 5.015625 -2.15625 C 5.078125 -2 5.109375 -1.816406 5.109375 -1.609375 Z M 5.109375 -1.609375 \"/>\n",
       "</g>\n",
       "<g id=\"glyph-1-2\">\n",
       "<path d=\"M 2.59375 0.109375 C 1.863281 0.109375 1.328125 -0.140625 0.984375 -0.640625 C 0.640625 -1.140625 0.46875 -1.882812 0.46875 -2.875 C 0.46875 -3.882812 0.640625 -4.644531 0.984375 -5.15625 C 1.335938 -5.664062 1.875 -5.921875 2.59375 -5.921875 C 2.832031 -5.921875 3.046875 -5.898438 3.234375 -5.859375 C 3.421875 -5.816406 3.585938 -5.75 3.734375 -5.65625 C 3.878906 -5.570312 4.003906 -5.46875 4.109375 -5.34375 C 4.222656 -5.21875 4.320312 -5.070312 4.40625 -4.90625 L 4.421875 -4.90625 C 4.421875 -5 4.421875 -5.097656 4.421875 -5.203125 C 4.429688 -5.316406 4.4375 -5.421875 4.4375 -5.515625 C 4.445312 -5.609375 4.453125 -5.691406 4.453125 -5.765625 C 4.460938 -5.835938 4.472656 -5.878906 4.484375 -5.890625 L 5.421875 -5.890625 C 5.410156 -5.828125 5.398438 -5.664062 5.390625 -5.40625 C 5.378906 -5.144531 5.375 -4.773438 5.375 -4.296875 L 5.375 2.28125 L 4.40625 2.28125 L 4.40625 -0.078125 C 4.40625 -0.171875 4.40625 -0.265625 4.40625 -0.359375 C 4.414062 -0.460938 4.421875 -0.5625 4.421875 -0.65625 C 4.421875 -0.75 4.425781 -0.847656 4.4375 -0.953125 L 4.421875 -0.953125 C 4.328125 -0.773438 4.222656 -0.617188 4.109375 -0.484375 C 3.992188 -0.347656 3.863281 -0.234375 3.71875 -0.140625 C 3.570312 -0.0546875 3.40625 0.00390625 3.21875 0.046875 C 3.039062 0.0859375 2.832031 0.109375 2.59375 0.109375 Z M 4.40625 -2.96875 C 4.40625 -3.394531 4.367188 -3.75 4.296875 -4.03125 C 4.222656 -4.320312 4.117188 -4.550781 3.984375 -4.71875 C 3.847656 -4.894531 3.6875 -5.019531 3.5 -5.09375 C 3.3125 -5.164062 3.097656 -5.203125 2.859375 -5.203125 C 2.609375 -5.203125 2.394531 -5.15625 2.21875 -5.0625 C 2.039062 -4.976562 1.898438 -4.835938 1.796875 -4.640625 C 1.691406 -4.453125 1.613281 -4.210938 1.5625 -3.921875 C 1.507812 -3.640625 1.484375 -3.300781 1.484375 -2.90625 C 1.484375 -2.519531 1.503906 -2.179688 1.546875 -1.890625 C 1.597656 -1.609375 1.675781 -1.375 1.78125 -1.1875 C 1.894531 -1 2.035156 -0.859375 2.203125 -0.765625 C 2.378906 -0.679688 2.59375 -0.640625 2.84375 -0.640625 C 3.0625 -0.640625 3.265625 -0.671875 3.453125 -0.734375 C 3.640625 -0.804688 3.800781 -0.925781 3.9375 -1.09375 C 4.082031 -1.269531 4.195312 -1.507812 4.28125 -1.8125 C 4.363281 -2.113281 4.40625 -2.5 4.40625 -2.96875 Z M 4.40625 -2.96875 \"/>\n",
       "</g>\n",
       "<g id=\"glyph-2-0\">\n",
       "<path d=\"M -6.84375 -4.25 C -6.84375 -3.820312 -6.769531 -3.441406 -6.625 -3.109375 C -6.476562 -2.773438 -6.273438 -2.492188 -6.015625 -2.265625 C -5.753906 -2.046875 -5.4375 -1.878906 -5.0625 -1.765625 C -4.6875 -1.648438 -4.269531 -1.59375 -3.8125 -1.59375 C -3.363281 -1.59375 -2.945312 -1.65625 -2.5625 -1.78125 C -2.1875 -1.90625 -1.863281 -2.082031 -1.59375 -2.3125 C -1.320312 -2.550781 -1.109375 -2.835938 -0.953125 -3.171875 C -0.804688 -3.503906 -0.734375 -3.878906 -0.734375 -4.296875 C -0.734375 -4.585938 -0.769531 -4.851562 -0.84375 -5.09375 C -0.925781 -5.34375 -1.035156 -5.5625 -1.171875 -5.75 C -1.316406 -5.945312 -1.484375 -6.125 -1.671875 -6.28125 C -1.859375 -6.4375 -2.070312 -6.570312 -2.3125 -6.6875 L -1.890625 -7.53125 C -1.609375 -7.394531 -1.34375 -7.222656 -1.09375 -7.015625 C -0.851562 -6.816406 -0.644531 -6.582031 -0.46875 -6.3125 C -0.289062 -6.039062 -0.148438 -5.734375 -0.046875 -5.390625 C 0.0546875 -5.046875 0.109375 -4.664062 0.109375 -4.25 C 0.109375 -3.632812 0.0078125 -3.097656 -0.1875 -2.640625 C -0.382812 -2.179688 -0.65625 -1.796875 -1 -1.484375 C -1.351562 -1.171875 -1.769531 -0.9375 -2.25 -0.78125 C -2.726562 -0.632812 -3.25 -0.5625 -3.8125 -0.5625 C -4.40625 -0.5625 -4.941406 -0.640625 -5.421875 -0.796875 C -5.898438 -0.960938 -6.304688 -1.203125 -6.640625 -1.515625 C -6.972656 -1.828125 -7.226562 -2.210938 -7.40625 -2.671875 C -7.59375 -3.128906 -7.6875 -3.65625 -7.6875 -4.25 C -7.6875 -5.050781 -7.523438 -5.722656 -7.203125 -6.265625 C -6.890625 -6.804688 -6.425781 -7.203125 -5.8125 -7.453125 L -5.484375 -6.484375 C -5.660156 -6.410156 -5.828125 -6.3125 -5.984375 -6.1875 C -6.148438 -6.070312 -6.296875 -5.921875 -6.421875 -5.734375 C -6.554688 -5.554688 -6.660156 -5.34375 -6.734375 -5.09375 C -6.804688 -4.851562 -6.84375 -4.570312 -6.84375 -4.25 Z M -6.84375 -4.25 \"/>\n",
       "</g>\n",
       "<g id=\"glyph-2-1\">\n",
       "<path d=\"M -2.90625 -5.65625 C -1.894531 -5.65625 -1.140625 -5.429688 -0.640625 -4.984375 C -0.140625 -4.535156 0.109375 -3.882812 0.109375 -3.03125 C 0.109375 -2.625 0.046875 -2.257812 -0.078125 -1.9375 C -0.203125 -1.625 -0.390625 -1.359375 -0.640625 -1.140625 C -0.890625 -0.921875 -1.203125 -0.753906 -1.578125 -0.640625 C -1.953125 -0.523438 -2.394531 -0.46875 -2.90625 -0.46875 C -4.914062 -0.46875 -5.921875 -1.332031 -5.921875 -3.0625 C -5.921875 -3.519531 -5.859375 -3.910156 -5.734375 -4.234375 C -5.609375 -4.566406 -5.421875 -4.835938 -5.171875 -5.046875 C -4.921875 -5.253906 -4.601562 -5.40625 -4.21875 -5.5 C -3.84375 -5.601562 -3.40625 -5.65625 -2.90625 -5.65625 Z M -2.90625 -4.640625 C -3.363281 -4.640625 -3.738281 -4.601562 -4.03125 -4.53125 C -4.320312 -4.46875 -4.554688 -4.367188 -4.734375 -4.234375 C -4.910156 -4.097656 -5.03125 -3.929688 -5.09375 -3.734375 C -5.164062 -3.546875 -5.203125 -3.328125 -5.203125 -3.078125 C -5.203125 -2.835938 -5.164062 -2.613281 -5.09375 -2.40625 C -5.019531 -2.207031 -4.894531 -2.039062 -4.71875 -1.90625 C -4.539062 -1.769531 -4.304688 -1.664062 -4.015625 -1.59375 C -3.722656 -1.519531 -3.351562 -1.484375 -2.90625 -1.484375 C -2.457031 -1.484375 -2.082031 -1.519531 -1.78125 -1.59375 C -1.488281 -1.675781 -1.253906 -1.785156 -1.078125 -1.921875 C -0.910156 -2.054688 -0.789062 -2.21875 -0.71875 -2.40625 C -0.644531 -2.59375 -0.609375 -2.800781 -0.609375 -3.03125 C -0.609375 -3.269531 -0.640625 -3.488281 -0.703125 -3.6875 C -0.773438 -3.894531 -0.898438 -4.066406 -1.078125 -4.203125 C -1.253906 -4.347656 -1.488281 -4.457031 -1.78125 -4.53125 C -2.082031 -4.601562 -2.457031 -4.640625 -2.90625 -4.640625 Z M -2.90625 -4.640625 \"/>\n",
       "</g>\n",
       "<g id=\"glyph-2-2\">\n",
       "<path d=\"M -5.8125 -1.6875 L -2.125 -1.6875 C -1.84375 -1.6875 -1.609375 -1.707031 -1.421875 -1.75 C -1.234375 -1.789062 -1.078125 -1.859375 -0.953125 -1.953125 C -0.835938 -2.046875 -0.753906 -2.164062 -0.703125 -2.3125 C -0.660156 -2.46875 -0.640625 -2.660156 -0.640625 -2.890625 C -0.640625 -3.117188 -0.675781 -3.320312 -0.75 -3.5 C -0.832031 -3.6875 -0.953125 -3.84375 -1.109375 -3.96875 C -1.265625 -4.101562 -1.453125 -4.207031 -1.671875 -4.28125 C -1.898438 -4.351562 -2.15625 -4.390625 -2.4375 -4.390625 L -5.8125 -4.390625 L -5.8125 -5.359375 L -1.234375 -5.359375 C -1.117188 -5.359375 -0.992188 -5.359375 -0.859375 -5.359375 C -0.722656 -5.359375 -0.59375 -5.359375 -0.46875 -5.359375 C -0.351562 -5.367188 -0.25 -5.375 -0.15625 -5.375 C -0.0703125 -5.375 -0.0195312 -5.378906 0 -5.390625 L 0 -4.46875 C -0.0195312 -4.46875 -0.0664062 -4.460938 -0.140625 -4.453125 C -0.222656 -4.453125 -0.3125 -4.445312 -0.40625 -4.4375 C -0.507812 -4.4375 -0.613281 -4.4375 -0.71875 -4.4375 C -0.832031 -4.4375 -0.925781 -4.4375 -1 -4.4375 L -1 -4.421875 C -0.820312 -4.328125 -0.664062 -4.222656 -0.53125 -4.109375 C -0.394531 -3.992188 -0.28125 -3.863281 -0.1875 -3.71875 C -0.09375 -3.570312 -0.0195312 -3.40625 0.03125 -3.21875 C 0.0820312 -3.03125 0.109375 -2.8125 0.109375 -2.5625 C 0.109375 -2.238281 0.0703125 -1.957031 0 -1.71875 C -0.0820312 -1.488281 -0.207031 -1.296875 -0.375 -1.140625 C -0.539062 -0.992188 -0.75 -0.882812 -1 -0.8125 C -1.257812 -0.75 -1.570312 -0.71875 -1.9375 -0.71875 L -5.8125 -0.71875 Z M -5.8125 -1.6875 \"/>\n",
       "</g>\n",
       "<g id=\"glyph-2-3\">\n",
       "<path d=\"M 0 -4.4375 L -3.6875 -4.4375 C -3.96875 -4.4375 -4.203125 -4.414062 -4.390625 -4.375 C -4.578125 -4.332031 -4.726562 -4.265625 -4.84375 -4.171875 C -4.96875 -4.078125 -5.050781 -3.953125 -5.09375 -3.796875 C -5.144531 -3.648438 -5.171875 -3.460938 -5.171875 -3.234375 C -5.171875 -3.003906 -5.128906 -2.796875 -5.046875 -2.609375 C -4.972656 -2.429688 -4.859375 -2.273438 -4.703125 -2.140625 C -4.546875 -2.003906 -4.351562 -1.898438 -4.125 -1.828125 C -3.90625 -1.765625 -3.65625 -1.734375 -3.375 -1.734375 L 0 -1.734375 L 0 -0.765625 L -4.578125 -0.765625 C -4.691406 -0.765625 -4.816406 -0.757812 -4.953125 -0.75 C -5.085938 -0.75 -5.210938 -0.75 -5.328125 -0.75 C -5.453125 -0.75 -5.554688 -0.742188 -5.640625 -0.734375 C -5.734375 -0.734375 -5.789062 -0.734375 -5.8125 -0.734375 L -5.8125 -1.640625 C -5.789062 -1.648438 -5.738281 -1.65625 -5.65625 -1.65625 C -5.582031 -1.65625 -5.492188 -1.65625 -5.390625 -1.65625 C -5.296875 -1.664062 -5.191406 -1.671875 -5.078125 -1.671875 C -4.972656 -1.679688 -4.882812 -1.6875 -4.8125 -1.6875 L -4.8125 -1.703125 C -4.988281 -1.796875 -5.144531 -1.894531 -5.28125 -2 C -5.414062 -2.113281 -5.53125 -2.242188 -5.625 -2.390625 C -5.71875 -2.535156 -5.789062 -2.703125 -5.84375 -2.890625 C -5.894531 -3.085938 -5.921875 -3.3125 -5.921875 -3.5625 C -5.921875 -3.882812 -5.878906 -4.160156 -5.796875 -4.390625 C -5.722656 -4.628906 -5.601562 -4.820312 -5.4375 -4.96875 C -5.269531 -5.113281 -5.054688 -5.222656 -4.796875 -5.296875 C -4.535156 -5.367188 -4.226562 -5.40625 -3.875 -5.40625 L 0 -5.40625 Z M 0 -4.4375 \"/>\n",
       "</g>\n",
       "<g id=\"glyph-2-4\">\n",
       "<path d=\"M -0.046875 -2.96875 C -0.00390625 -2.820312 0.0234375 -2.671875 0.046875 -2.515625 C 0.078125 -2.367188 0.09375 -2.195312 0.09375 -2 C 0.09375 -1.226562 -0.347656 -0.84375 -1.234375 -0.84375 L -5.109375 -0.84375 L -5.109375 -0.171875 L -5.8125 -0.171875 L -5.8125 -0.875 L -7.109375 -1.15625 L -7.109375 -1.8125 L -5.8125 -1.8125 L -5.8125 -2.875 L -5.109375 -2.875 L -5.109375 -1.8125 L -1.4375 -1.8125 C -1.15625 -1.8125 -0.957031 -1.851562 -0.84375 -1.9375 C -0.738281 -2.03125 -0.6875 -2.191406 -0.6875 -2.421875 C -0.6875 -2.515625 -0.691406 -2.601562 -0.703125 -2.6875 C -0.710938 -2.769531 -0.726562 -2.863281 -0.75 -2.96875 Z M -0.046875 -2.96875 \"/>\n",
       "</g>\n",
       "<g id=\"glyph-3-0\">\n",
       "<path d=\"M 7.5 0 L 5.140625 -3.765625 L 2.3125 -3.765625 L 2.3125 0 L 1.078125 0 L 1.078125 -9.078125 L 5.359375 -9.078125 C 5.867188 -9.078125 6.320312 -9.019531 6.71875 -8.90625 C 7.125 -8.789062 7.460938 -8.617188 7.734375 -8.390625 C 8.003906 -8.171875 8.207031 -7.898438 8.34375 -7.578125 C 8.488281 -7.253906 8.5625 -6.890625 8.5625 -6.484375 C 8.5625 -6.191406 8.519531 -5.90625 8.4375 -5.625 C 8.351562 -5.351562 8.21875 -5.097656 8.03125 -4.859375 C 7.851562 -4.628906 7.625 -4.429688 7.34375 -4.265625 C 7.070312 -4.097656 6.738281 -3.976562 6.34375 -3.90625 L 8.921875 0 Z M 7.328125 -6.46875 C 7.328125 -6.75 7.28125 -6.988281 7.1875 -7.1875 C 7.09375 -7.382812 6.953125 -7.550781 6.765625 -7.6875 C 6.585938 -7.820312 6.367188 -7.921875 6.109375 -7.984375 C 5.847656 -8.054688 5.554688 -8.09375 5.234375 -8.09375 L 2.3125 -8.09375 L 2.3125 -4.75 L 5.28125 -4.75 C 5.632812 -4.75 5.941406 -4.789062 6.203125 -4.875 C 6.460938 -4.96875 6.671875 -5.085938 6.828125 -5.234375 C 6.992188 -5.390625 7.117188 -5.570312 7.203125 -5.78125 C 7.285156 -6 7.328125 -6.226562 7.328125 -6.46875 Z M 7.328125 -6.46875 \"/>\n",
       "</g>\n",
       "<g id=\"glyph-3-1\">\n",
       "<path d=\"M 6.125 -1.921875 C 6.125 -1.597656 6.0625 -1.304688 5.9375 -1.046875 C 5.8125 -0.796875 5.625 -0.582031 5.375 -0.40625 C 5.132812 -0.226562 4.835938 -0.09375 4.484375 0 C 4.140625 0.0820312 3.742188 0.125 3.296875 0.125 C 2.890625 0.125 2.523438 0.09375 2.203125 0.03125 C 1.878906 -0.03125 1.59375 -0.128906 1.34375 -0.265625 C 1.101562 -0.398438 0.898438 -0.578125 0.734375 -0.796875 C 0.566406 -1.023438 0.445312 -1.304688 0.375 -1.640625 L 1.390625 -1.84375 C 1.492188 -1.46875 1.695312 -1.191406 2 -1.015625 C 2.3125 -0.835938 2.742188 -0.75 3.296875 -0.75 C 3.546875 -0.75 3.773438 -0.765625 3.984375 -0.796875 C 4.191406 -0.835938 4.367188 -0.898438 4.515625 -0.984375 C 4.671875 -1.066406 4.789062 -1.175781 4.875 -1.3125 C 4.957031 -1.457031 5 -1.632812 5 -1.84375 C 5 -2.050781 4.945312 -2.222656 4.84375 -2.359375 C 4.75 -2.492188 4.613281 -2.601562 4.4375 -2.6875 C 4.257812 -2.78125 4.046875 -2.859375 3.796875 -2.921875 C 3.546875 -2.992188 3.269531 -3.070312 2.96875 -3.15625 C 2.6875 -3.226562 2.40625 -3.304688 2.125 -3.390625 C 1.851562 -3.484375 1.609375 -3.601562 1.390625 -3.75 C 1.171875 -3.90625 0.988281 -4.09375 0.84375 -4.3125 C 0.707031 -4.53125 0.640625 -4.800781 0.640625 -5.125 C 0.640625 -5.757812 0.863281 -6.242188 1.3125 -6.578125 C 1.769531 -6.910156 2.4375 -7.078125 3.3125 -7.078125 C 4.082031 -7.078125 4.691406 -6.941406 5.140625 -6.671875 C 5.597656 -6.398438 5.882812 -5.96875 6 -5.375 L 4.953125 -5.25 C 4.921875 -5.425781 4.851562 -5.578125 4.75 -5.703125 C 4.644531 -5.828125 4.519531 -5.925781 4.375 -6 C 4.226562 -6.070312 4.0625 -6.125 3.875 -6.15625 C 3.695312 -6.1875 3.507812 -6.203125 3.3125 -6.203125 C 2.78125 -6.203125 2.390625 -6.125 2.140625 -5.96875 C 1.890625 -5.8125 1.765625 -5.570312 1.765625 -5.25 C 1.765625 -5.0625 1.8125 -4.90625 1.90625 -4.78125 C 2 -4.65625 2.128906 -4.550781 2.296875 -4.46875 C 2.460938 -4.382812 2.660156 -4.3125 2.890625 -4.25 C 3.128906 -4.1875 3.382812 -4.125 3.65625 -4.0625 C 3.84375 -4.007812 4.03125 -3.957031 4.21875 -3.90625 C 4.414062 -3.851562 4.601562 -3.785156 4.78125 -3.703125 C 4.96875 -3.628906 5.140625 -3.539062 5.296875 -3.4375 C 5.460938 -3.34375 5.601562 -3.222656 5.71875 -3.078125 C 5.84375 -2.941406 5.941406 -2.773438 6.015625 -2.578125 C 6.085938 -2.390625 6.125 -2.171875 6.125 -1.921875 Z M 6.125 -1.921875 \"/>\n",
       "</g>\n",
       "<g id=\"glyph-3-2\">\n",
       "<path d=\"M 3.125 0.125 C 2.238281 0.125 1.585938 -0.171875 1.171875 -0.765625 C 0.753906 -1.359375 0.546875 -2.253906 0.546875 -3.453125 C 0.546875 -4.671875 0.757812 -5.582031 1.1875 -6.1875 C 1.613281 -6.800781 2.257812 -7.109375 3.125 -7.109375 C 3.40625 -7.109375 3.65625 -7.082031 3.875 -7.03125 C 4.101562 -6.976562 4.300781 -6.898438 4.46875 -6.796875 C 4.644531 -6.691406 4.796875 -6.566406 4.921875 -6.421875 C 5.054688 -6.273438 5.179688 -6.097656 5.296875 -5.890625 L 5.3125 -5.890625 C 5.3125 -5.992188 5.3125 -6.113281 5.3125 -6.25 C 5.320312 -6.382812 5.328125 -6.507812 5.328125 -6.625 C 5.335938 -6.738281 5.347656 -6.835938 5.359375 -6.921875 C 5.367188 -7.003906 5.378906 -7.050781 5.390625 -7.0625 L 6.5 -7.0625 C 6.488281 -6.988281 6.476562 -6.796875 6.46875 -6.484375 C 6.457031 -6.179688 6.453125 -5.738281 6.453125 -5.15625 L 6.453125 2.734375 L 5.296875 2.734375 L 5.296875 -0.09375 C 5.296875 -0.207031 5.296875 -0.320312 5.296875 -0.4375 C 5.296875 -0.5625 5.300781 -0.675781 5.3125 -0.78125 C 5.3125 -0.894531 5.3125 -1.015625 5.3125 -1.140625 C 5.195312 -0.921875 5.070312 -0.726562 4.9375 -0.5625 C 4.800781 -0.40625 4.644531 -0.273438 4.46875 -0.171875 C 4.289062 -0.0664062 4.09375 0.00390625 3.875 0.046875 C 3.65625 0.0976562 3.40625 0.125 3.125 0.125 Z M 5.296875 -3.578125 C 5.296875 -4.078125 5.25 -4.5 5.15625 -4.84375 C 5.070312 -5.1875 4.945312 -5.460938 4.78125 -5.671875 C 4.625 -5.878906 4.429688 -6.023438 4.203125 -6.109375 C 3.972656 -6.203125 3.71875 -6.25 3.4375 -6.25 C 3.132812 -6.25 2.878906 -6.191406 2.671875 -6.078125 C 2.460938 -5.972656 2.289062 -5.804688 2.15625 -5.578125 C 2.019531 -5.347656 1.921875 -5.0625 1.859375 -4.71875 C 1.796875 -4.375 1.765625 -3.96875 1.765625 -3.5 C 1.765625 -3.03125 1.796875 -2.625 1.859375 -2.28125 C 1.921875 -1.9375 2.015625 -1.648438 2.140625 -1.421875 C 2.273438 -1.203125 2.445312 -1.035156 2.65625 -0.921875 C 2.863281 -0.816406 3.117188 -0.765625 3.421875 -0.765625 C 3.671875 -0.765625 3.910156 -0.800781 4.140625 -0.875 C 4.367188 -0.957031 4.566406 -1.101562 4.734375 -1.3125 C 4.910156 -1.519531 5.046875 -1.804688 5.140625 -2.171875 C 5.242188 -2.535156 5.296875 -3.003906 5.296875 -3.578125 Z M 5.296875 -3.578125 \"/>\n",
       "</g>\n",
       "<g id=\"glyph-3-3\">\n",
       "</g>\n",
       "<g id=\"glyph-3-4\">\n",
       "<path d=\"M 6.78125 -3.5 C 6.78125 -2.269531 6.507812 -1.359375 5.96875 -0.765625 C 5.4375 -0.171875 4.660156 0.125 3.640625 0.125 C 3.148438 0.125 2.710938 0.0507812 2.328125 -0.09375 C 1.953125 -0.238281 1.628906 -0.460938 1.359375 -0.765625 C 1.097656 -1.066406 0.894531 -1.441406 0.75 -1.890625 C 0.613281 -2.347656 0.546875 -2.882812 0.546875 -3.5 C 0.546875 -5.90625 1.59375 -7.109375 3.6875 -7.109375 C 4.226562 -7.109375 4.691406 -7.03125 5.078125 -6.875 C 5.472656 -6.726562 5.796875 -6.503906 6.046875 -6.203125 C 6.296875 -5.898438 6.476562 -5.519531 6.59375 -5.0625 C 6.71875 -4.613281 6.78125 -4.09375 6.78125 -3.5 Z M 5.5625 -3.5 C 5.5625 -4.039062 5.519531 -4.484375 5.4375 -4.828125 C 5.351562 -5.179688 5.226562 -5.460938 5.0625 -5.671875 C 4.90625 -5.890625 4.710938 -6.039062 4.484375 -6.125 C 4.253906 -6.207031 3.992188 -6.25 3.703125 -6.25 C 3.398438 -6.25 3.128906 -6.203125 2.890625 -6.109375 C 2.660156 -6.023438 2.457031 -5.875 2.28125 -5.65625 C 2.113281 -5.445312 1.984375 -5.164062 1.890625 -4.8125 C 1.804688 -4.457031 1.765625 -4.019531 1.765625 -3.5 C 1.765625 -2.957031 1.8125 -2.507812 1.90625 -2.15625 C 2.007812 -1.800781 2.140625 -1.515625 2.296875 -1.296875 C 2.460938 -1.085938 2.660156 -0.941406 2.890625 -0.859375 C 3.117188 -0.773438 3.363281 -0.734375 3.625 -0.734375 C 3.925781 -0.734375 4.195312 -0.773438 4.4375 -0.859375 C 4.675781 -0.941406 4.878906 -1.085938 5.046875 -1.296875 C 5.210938 -1.503906 5.335938 -1.785156 5.421875 -2.140625 C 5.515625 -2.503906 5.5625 -2.957031 5.5625 -3.5 Z M 5.5625 -3.5 \"/>\n",
       "</g>\n",
       "<g id=\"glyph-3-5\">\n",
       "<path d=\"M 2.328125 -6.125 L 2.328125 0 L 1.171875 0 L 1.171875 -6.125 L 0.1875 -6.125 L 0.1875 -6.96875 L 1.171875 -6.96875 L 1.171875 -7.765625 C 1.171875 -8.015625 1.191406 -8.25 1.234375 -8.46875 C 1.285156 -8.6875 1.375 -8.875 1.5 -9.03125 C 1.625 -9.195312 1.796875 -9.320312 2.015625 -9.40625 C 2.234375 -9.5 2.519531 -9.546875 2.875 -9.546875 C 3.007812 -9.546875 3.148438 -9.539062 3.296875 -9.53125 C 3.441406 -9.519531 3.570312 -9.503906 3.6875 -9.484375 L 3.6875 -8.59375 C 3.613281 -8.601562 3.523438 -8.613281 3.421875 -8.625 C 3.328125 -8.632812 3.242188 -8.640625 3.171875 -8.640625 C 2.992188 -8.640625 2.847656 -8.613281 2.734375 -8.5625 C 2.628906 -8.519531 2.546875 -8.453125 2.484375 -8.359375 C 2.421875 -8.273438 2.378906 -8.171875 2.359375 -8.046875 C 2.335938 -7.921875 2.328125 -7.769531 2.328125 -7.59375 L 2.328125 -6.96875 L 3.6875 -6.96875 L 3.6875 -6.125 Z M 2.328125 -6.125 \"/>\n",
       "</g>\n",
       "<g id=\"glyph-3-6\">\n",
       "<path d=\"M 3.53125 2.734375 C 3.132812 2.734375 2.78125 2.691406 2.46875 2.609375 C 2.15625 2.535156 1.890625 2.421875 1.671875 2.265625 C 1.453125 2.109375 1.273438 1.925781 1.140625 1.71875 C 1.003906 1.507812 0.90625 1.273438 0.84375 1.015625 L 2.015625 0.84375 C 2.085938 1.164062 2.253906 1.414062 2.515625 1.59375 C 2.785156 1.769531 3.132812 1.859375 3.5625 1.859375 C 3.820312 1.859375 4.0625 1.820312 4.28125 1.75 C 4.5 1.675781 4.679688 1.554688 4.828125 1.390625 C 4.972656 1.234375 5.085938 1.023438 5.171875 0.765625 C 5.253906 0.503906 5.296875 0.191406 5.296875 -0.171875 L 5.296875 -1.296875 L 5.28125 -1.296875 C 5.195312 -1.117188 5.09375 -0.945312 4.96875 -0.78125 C 4.84375 -0.625 4.6875 -0.484375 4.5 -0.359375 C 4.320312 -0.234375 4.109375 -0.132812 3.859375 -0.0625 C 3.617188 0.0078125 3.347656 0.046875 3.046875 0.046875 C 2.597656 0.046875 2.21875 -0.0234375 1.90625 -0.171875 C 1.59375 -0.316406 1.332031 -0.535156 1.125 -0.828125 C 0.925781 -1.128906 0.78125 -1.5 0.6875 -1.9375 C 0.59375 -2.382812 0.546875 -2.894531 0.546875 -3.46875 C 0.546875 -4.03125 0.59375 -4.535156 0.6875 -4.984375 C 0.78125 -5.429688 0.929688 -5.8125 1.140625 -6.125 C 1.347656 -6.4375 1.617188 -6.671875 1.953125 -6.828125 C 2.285156 -6.992188 2.691406 -7.078125 3.171875 -7.078125 C 3.660156 -7.078125 4.085938 -6.960938 4.453125 -6.734375 C 4.816406 -6.515625 5.097656 -6.195312 5.296875 -5.78125 L 5.3125 -5.78125 C 5.3125 -5.882812 5.3125 -6.003906 5.3125 -6.140625 C 5.320312 -6.273438 5.328125 -6.398438 5.328125 -6.515625 C 5.335938 -6.640625 5.347656 -6.742188 5.359375 -6.828125 C 5.367188 -6.910156 5.378906 -6.957031 5.390625 -6.96875 L 6.484375 -6.96875 C 6.484375 -6.9375 6.476562 -6.875 6.46875 -6.78125 C 6.46875 -6.6875 6.460938 -6.570312 6.453125 -6.4375 C 6.453125 -6.3125 6.453125 -6.171875 6.453125 -6.015625 C 6.453125 -5.859375 6.453125 -5.695312 6.453125 -5.53125 L 6.453125 -0.203125 C 6.453125 0.773438 6.210938 1.507812 5.734375 2 C 5.253906 2.488281 4.519531 2.734375 3.53125 2.734375 Z M 5.296875 -3.484375 C 5.296875 -3.972656 5.242188 -4.390625 5.140625 -4.734375 C 5.035156 -5.078125 4.894531 -5.359375 4.71875 -5.578125 C 4.550781 -5.796875 4.351562 -5.957031 4.125 -6.0625 C 3.90625 -6.164062 3.679688 -6.21875 3.453125 -6.21875 C 3.160156 -6.21875 2.90625 -6.164062 2.6875 -6.0625 C 2.476562 -5.957031 2.300781 -5.796875 2.15625 -5.578125 C 2.019531 -5.359375 1.914062 -5.070312 1.84375 -4.71875 C 1.78125 -4.375 1.75 -3.960938 1.75 -3.484375 C 1.75 -2.984375 1.78125 -2.5625 1.84375 -2.21875 C 1.914062 -1.875 2.019531 -1.597656 2.15625 -1.390625 C 2.289062 -1.179688 2.460938 -1.03125 2.671875 -0.9375 C 2.890625 -0.851562 3.144531 -0.8125 3.4375 -0.8125 C 3.664062 -0.8125 3.890625 -0.859375 4.109375 -0.953125 C 4.335938 -1.054688 4.539062 -1.210938 4.71875 -1.421875 C 4.894531 -1.640625 5.035156 -1.914062 5.140625 -2.25 C 5.242188 -2.59375 5.296875 -3.003906 5.296875 -3.484375 Z M 5.296875 -3.484375 \"/>\n",
       "</g>\n",
       "<g id=\"glyph-3-7\">\n",
       "<path d=\"M 1.78125 -3.25 C 1.78125 -2.875 1.816406 -2.53125 1.890625 -2.21875 C 1.960938 -1.914062 2.078125 -1.65625 2.234375 -1.4375 C 2.390625 -1.21875 2.585938 -1.046875 2.828125 -0.921875 C 3.078125 -0.796875 3.375 -0.734375 3.71875 -0.734375 C 4.226562 -0.734375 4.632812 -0.832031 4.9375 -1.03125 C 5.238281 -1.238281 5.441406 -1.5 5.546875 -1.8125 L 6.5625 -1.515625 C 6.488281 -1.328125 6.382812 -1.132812 6.25 -0.9375 C 6.125 -0.738281 5.953125 -0.5625 5.734375 -0.40625 C 5.515625 -0.25 5.238281 -0.117188 4.90625 -0.015625 C 4.582031 0.078125 4.1875 0.125 3.71875 0.125 C 2.6875 0.125 1.898438 -0.179688 1.359375 -0.796875 C 0.828125 -1.410156 0.5625 -2.320312 0.5625 -3.53125 C 0.5625 -4.1875 0.640625 -4.738281 0.796875 -5.1875 C 0.960938 -5.644531 1.1875 -6.015625 1.46875 -6.296875 C 1.757812 -6.578125 2.09375 -6.78125 2.46875 -6.90625 C 2.84375 -7.039062 3.25 -7.109375 3.6875 -7.109375 C 4.269531 -7.109375 4.753906 -7.007812 5.140625 -6.8125 C 5.535156 -6.625 5.851562 -6.363281 6.09375 -6.03125 C 6.332031 -5.695312 6.5 -5.304688 6.59375 -4.859375 C 6.695312 -4.410156 6.75 -3.921875 6.75 -3.390625 L 6.75 -3.25 Z M 5.5625 -4.125 C 5.488281 -4.863281 5.296875 -5.398438 4.984375 -5.734375 C 4.679688 -6.078125 4.238281 -6.25 3.65625 -6.25 C 3.46875 -6.25 3.265625 -6.21875 3.046875 -6.15625 C 2.835938 -6.09375 2.640625 -5.976562 2.453125 -5.8125 C 2.273438 -5.65625 2.125 -5.441406 2 -5.171875 C 1.875 -4.898438 1.804688 -4.550781 1.796875 -4.125 Z M 5.5625 -4.125 \"/>\n",
       "</g>\n",
       "<g id=\"glyph-3-8\">\n",
       "<path d=\"M 5.3125 0 L 5.3125 -4.421875 C 5.3125 -4.765625 5.285156 -5.046875 5.234375 -5.265625 C 5.191406 -5.492188 5.113281 -5.675781 5 -5.8125 C 4.882812 -5.957031 4.734375 -6.054688 4.546875 -6.109375 C 4.367188 -6.171875 4.144531 -6.203125 3.875 -6.203125 C 3.601562 -6.203125 3.351562 -6.15625 3.125 -6.0625 C 2.90625 -5.96875 2.71875 -5.828125 2.5625 -5.640625 C 2.40625 -5.460938 2.285156 -5.238281 2.203125 -4.96875 C 2.117188 -4.695312 2.078125 -4.390625 2.078125 -4.046875 L 2.078125 0 L 0.921875 0 L 0.921875 -5.484375 C 0.921875 -5.628906 0.914062 -5.78125 0.90625 -5.9375 C 0.90625 -6.101562 0.898438 -6.257812 0.890625 -6.40625 C 0.890625 -6.550781 0.890625 -6.675781 0.890625 -6.78125 C 0.890625 -6.882812 0.882812 -6.945312 0.875 -6.96875 L 1.96875 -6.96875 C 1.976562 -6.945312 1.984375 -6.890625 1.984375 -6.796875 C 1.984375 -6.703125 1.988281 -6.59375 2 -6.46875 C 2.007812 -6.351562 2.015625 -6.226562 2.015625 -6.09375 C 2.023438 -5.96875 2.03125 -5.863281 2.03125 -5.78125 L 2.046875 -5.78125 C 2.160156 -5.976562 2.28125 -6.160156 2.40625 -6.328125 C 2.539062 -6.492188 2.695312 -6.632812 2.875 -6.75 C 3.050781 -6.863281 3.253906 -6.953125 3.484375 -7.015625 C 3.710938 -7.078125 3.976562 -7.109375 4.28125 -7.109375 C 4.664062 -7.109375 4.992188 -7.0625 5.265625 -6.96875 C 5.546875 -6.875 5.773438 -6.726562 5.953125 -6.53125 C 6.140625 -6.332031 6.273438 -6.078125 6.359375 -5.765625 C 6.441406 -5.453125 6.484375 -5.078125 6.484375 -4.640625 L 6.484375 0 Z M 5.3125 0 \"/>\n",
       "</g>\n",
       "<g id=\"glyph-3-9\">\n",
       "<path d=\"M 0.59375 -2.984375 L 0.59375 -4.015625 L 3.8125 -4.015625 L 3.8125 -2.984375 Z M 0.59375 -2.984375 \"/>\n",
       "</g>\n",
       "<g id=\"glyph-3-10\">\n",
       "<path d=\"M 6.78125 -3.515625 C 6.78125 -2.992188 6.738281 -2.507812 6.65625 -2.0625 C 6.570312 -1.613281 6.429688 -1.226562 6.234375 -0.90625 C 6.035156 -0.582031 5.769531 -0.328125 5.4375 -0.140625 C 5.101562 0.0351562 4.695312 0.125 4.21875 0.125 C 3.71875 0.125 3.28125 0.03125 2.90625 -0.15625 C 2.539062 -0.34375 2.257812 -0.648438 2.0625 -1.078125 L 2.03125 -1.078125 C 2.03125 -1.066406 2.03125 -1.023438 2.03125 -0.953125 C 2.03125 -0.890625 2.03125 -0.804688 2.03125 -0.703125 C 2.039062 -0.597656 2.046875 -0.484375 2.046875 -0.359375 C 2.046875 -0.234375 2.046875 -0.109375 2.046875 0.015625 L 2.046875 2.734375 L 0.890625 2.734375 L 0.890625 -5.546875 C 0.890625 -5.710938 0.890625 -5.875 0.890625 -6.03125 C 0.890625 -6.1875 0.882812 -6.328125 0.875 -6.453125 C 0.875 -6.578125 0.867188 -6.6875 0.859375 -6.78125 C 0.859375 -6.875 0.851562 -6.9375 0.84375 -6.96875 L 1.96875 -6.96875 C 1.976562 -6.957031 1.984375 -6.910156 1.984375 -6.828125 C 1.992188 -6.753906 2 -6.660156 2 -6.546875 C 2.007812 -6.441406 2.015625 -6.328125 2.015625 -6.203125 C 2.023438 -6.078125 2.03125 -5.960938 2.03125 -5.859375 L 2.0625 -5.859375 C 2.164062 -6.078125 2.285156 -6.265625 2.421875 -6.421875 C 2.566406 -6.578125 2.726562 -6.707031 2.90625 -6.8125 C 3.082031 -6.914062 3.273438 -6.988281 3.484375 -7.03125 C 3.703125 -7.070312 3.945312 -7.09375 4.21875 -7.09375 C 4.695312 -7.09375 5.101562 -7.003906 5.4375 -6.828125 C 5.769531 -6.660156 6.035156 -6.421875 6.234375 -6.109375 C 6.429688 -5.796875 6.570312 -5.421875 6.65625 -4.984375 C 6.738281 -4.546875 6.78125 -4.054688 6.78125 -3.515625 Z M 5.5625 -3.5 C 5.5625 -3.925781 5.535156 -4.304688 5.484375 -4.640625 C 5.441406 -4.972656 5.351562 -5.253906 5.21875 -5.484375 C 5.09375 -5.722656 4.925781 -5.898438 4.71875 -6.015625 C 4.507812 -6.140625 4.242188 -6.203125 3.921875 -6.203125 C 3.671875 -6.203125 3.429688 -6.164062 3.203125 -6.09375 C 2.972656 -6.019531 2.769531 -5.878906 2.59375 -5.671875 C 2.425781 -5.460938 2.289062 -5.175781 2.1875 -4.8125 C 2.09375 -4.457031 2.046875 -3.988281 2.046875 -3.40625 C 2.046875 -2.90625 2.085938 -2.484375 2.171875 -2.140625 C 2.253906 -1.804688 2.375 -1.53125 2.53125 -1.3125 C 2.6875 -1.101562 2.878906 -0.953125 3.109375 -0.859375 C 3.347656 -0.773438 3.613281 -0.734375 3.90625 -0.734375 C 4.226562 -0.734375 4.492188 -0.796875 4.703125 -0.921875 C 4.921875 -1.046875 5.09375 -1.222656 5.21875 -1.453125 C 5.351562 -1.691406 5.441406 -1.984375 5.484375 -2.328125 C 5.535156 -2.671875 5.5625 -3.0625 5.5625 -3.5 Z M 5.5625 -3.5 \"/>\n",
       "</g>\n",
       "<g id=\"glyph-3-11\">\n",
       "<path d=\"M 1.765625 -3.515625 C 1.765625 -3.117188 1.796875 -2.753906 1.859375 -2.421875 C 1.921875 -2.085938 2.019531 -1.796875 2.15625 -1.546875 C 2.289062 -1.304688 2.46875 -1.117188 2.6875 -0.984375 C 2.914062 -0.847656 3.195312 -0.78125 3.53125 -0.78125 C 3.945312 -0.78125 4.289062 -0.890625 4.5625 -1.109375 C 4.84375 -1.335938 5.015625 -1.6875 5.078125 -2.15625 L 6.25 -2.078125 C 6.21875 -1.785156 6.132812 -1.503906 6 -1.234375 C 5.875 -0.972656 5.695312 -0.738281 5.46875 -0.53125 C 5.25 -0.332031 4.976562 -0.171875 4.65625 -0.046875 C 4.34375 0.0664062 3.976562 0.125 3.5625 0.125 C 3.019531 0.125 2.554688 0.0351562 2.171875 -0.140625 C 1.785156 -0.328125 1.472656 -0.582031 1.234375 -0.90625 C 1.003906 -1.238281 0.832031 -1.625 0.71875 -2.0625 C 0.613281 -2.5 0.5625 -2.976562 0.5625 -3.5 C 0.5625 -3.96875 0.597656 -4.378906 0.671875 -4.734375 C 0.753906 -5.097656 0.863281 -5.410156 1 -5.671875 C 1.144531 -5.941406 1.3125 -6.164062 1.5 -6.34375 C 1.6875 -6.53125 1.890625 -6.675781 2.109375 -6.78125 C 2.328125 -6.894531 2.554688 -6.976562 2.796875 -7.03125 C 3.046875 -7.082031 3.296875 -7.109375 3.546875 -7.109375 C 3.941406 -7.109375 4.289062 -7.050781 4.59375 -6.9375 C 4.894531 -6.832031 5.15625 -6.6875 5.375 -6.5 C 5.601562 -6.3125 5.785156 -6.085938 5.921875 -5.828125 C 6.054688 -5.578125 6.15625 -5.304688 6.21875 -5.015625 L 5.015625 -4.9375 C 4.960938 -5.320312 4.8125 -5.628906 4.5625 -5.859375 C 4.320312 -6.085938 3.972656 -6.203125 3.515625 -6.203125 C 3.191406 -6.203125 2.914062 -6.144531 2.6875 -6.03125 C 2.46875 -5.914062 2.289062 -5.75 2.15625 -5.53125 C 2.019531 -5.3125 1.921875 -5.035156 1.859375 -4.703125 C 1.796875 -4.367188 1.765625 -3.972656 1.765625 -3.515625 Z M 1.765625 -3.515625 \"/>\n",
       "</g>\n",
       "<g id=\"glyph-3-12\">\n",
       "<path d=\"M 0.890625 -8.453125 L 0.890625 -9.5625 L 2.046875 -9.5625 L 2.046875 -8.453125 Z M 0.890625 0 L 0.890625 -6.96875 L 2.046875 -6.96875 L 2.046875 0 Z M 0.890625 0 \"/>\n",
       "</g>\n",
       "<g id=\"glyph-3-13\">\n",
       "<path d=\"M 1.078125 0 L 1.078125 -9.078125 L 2.3125 -9.078125 L 2.3125 -1 L 6.90625 -1 L 6.90625 0 Z M 1.078125 0 \"/>\n",
       "</g>\n",
       "<g id=\"glyph-3-14\">\n",
       "<path d=\"M 8.203125 -2.515625 C 8.203125 -2.128906 8.125 -1.773438 7.96875 -1.453125 C 7.820312 -1.128906 7.59375 -0.847656 7.28125 -0.609375 C 6.976562 -0.378906 6.59375 -0.195312 6.125 -0.0625 C 5.65625 0.0625 5.097656 0.125 4.453125 0.125 C 3.316406 0.125 2.429688 -0.0703125 1.796875 -0.46875 C 1.171875 -0.863281 0.769531 -1.429688 0.59375 -2.171875 L 1.796875 -2.421875 C 1.847656 -2.179688 1.9375 -1.960938 2.0625 -1.765625 C 2.1875 -1.578125 2.351562 -1.410156 2.5625 -1.265625 C 2.78125 -1.128906 3.046875 -1.019531 3.359375 -0.9375 C 3.671875 -0.863281 4.050781 -0.828125 4.5 -0.828125 C 4.863281 -0.828125 5.195312 -0.859375 5.5 -0.921875 C 5.800781 -0.984375 6.0625 -1.078125 6.28125 -1.203125 C 6.5 -1.335938 6.671875 -1.503906 6.796875 -1.703125 C 6.921875 -1.910156 6.984375 -2.15625 6.984375 -2.4375 C 6.984375 -2.738281 6.914062 -2.976562 6.78125 -3.15625 C 6.644531 -3.34375 6.453125 -3.492188 6.203125 -3.609375 C 5.960938 -3.734375 5.671875 -3.835938 5.328125 -3.921875 C 4.992188 -4.003906 4.617188 -4.09375 4.203125 -4.1875 C 3.953125 -4.25 3.695312 -4.3125 3.4375 -4.375 C 3.1875 -4.4375 2.941406 -4.515625 2.703125 -4.609375 C 2.472656 -4.703125 2.253906 -4.8125 2.046875 -4.9375 C 1.835938 -5.0625 1.65625 -5.207031 1.5 -5.375 C 1.351562 -5.550781 1.238281 -5.753906 1.15625 -5.984375 C 1.070312 -6.222656 1.03125 -6.488281 1.03125 -6.78125 C 1.03125 -7.21875 1.113281 -7.585938 1.28125 -7.890625 C 1.457031 -8.203125 1.695312 -8.457031 2 -8.65625 C 2.3125 -8.851562 2.675781 -8.992188 3.09375 -9.078125 C 3.519531 -9.171875 3.976562 -9.21875 4.46875 -9.21875 C 5.03125 -9.21875 5.507812 -9.171875 5.90625 -9.078125 C 6.3125 -8.992188 6.648438 -8.863281 6.921875 -8.6875 C 7.203125 -8.507812 7.425781 -8.289062 7.59375 -8.03125 C 7.757812 -7.769531 7.890625 -7.46875 7.984375 -7.125 L 6.78125 -6.921875 C 6.71875 -7.140625 6.628906 -7.332031 6.515625 -7.5 C 6.398438 -7.675781 6.25 -7.820312 6.0625 -7.9375 C 5.882812 -8.050781 5.660156 -8.140625 5.390625 -8.203125 C 5.128906 -8.265625 4.820312 -8.296875 4.46875 -8.296875 C 4.039062 -8.296875 3.679688 -8.253906 3.390625 -8.171875 C 3.109375 -8.097656 2.878906 -7.992188 2.703125 -7.859375 C 2.535156 -7.734375 2.410156 -7.582031 2.328125 -7.40625 C 2.253906 -7.238281 2.21875 -7.054688 2.21875 -6.859375 C 2.21875 -6.585938 2.285156 -6.363281 2.421875 -6.1875 C 2.554688 -6.007812 2.738281 -5.863281 2.96875 -5.75 C 3.207031 -5.632812 3.476562 -5.535156 3.78125 -5.453125 C 4.082031 -5.378906 4.40625 -5.304688 4.75 -5.234375 C 5.03125 -5.160156 5.3125 -5.09375 5.59375 -5.03125 C 5.875 -4.96875 6.140625 -4.890625 6.390625 -4.796875 C 6.640625 -4.703125 6.875 -4.59375 7.09375 -4.46875 C 7.320312 -4.34375 7.515625 -4.1875 7.671875 -4 C 7.835938 -3.820312 7.96875 -3.609375 8.0625 -3.359375 C 8.15625 -3.117188 8.203125 -2.835938 8.203125 -2.515625 Z M 8.203125 -2.515625 \"/>\n",
       "</g>\n",
       "<g id=\"glyph-3-15\">\n",
       "<path d=\"M 4.953125 0 L 4.953125 -4.421875 C 4.953125 -4.765625 4.929688 -5.046875 4.890625 -5.265625 C 4.847656 -5.492188 4.773438 -5.675781 4.671875 -5.8125 C 4.566406 -5.957031 4.429688 -6.054688 4.265625 -6.109375 C 4.109375 -6.171875 3.910156 -6.203125 3.671875 -6.203125 C 3.429688 -6.203125 3.210938 -6.15625 3.015625 -6.0625 C 2.816406 -5.96875 2.644531 -5.828125 2.5 -5.640625 C 2.363281 -5.460938 2.253906 -5.238281 2.171875 -4.96875 C 2.097656 -4.695312 2.0625 -4.390625 2.0625 -4.046875 L 2.0625 0 L 0.921875 0 L 0.921875 -5.484375 C 0.921875 -5.628906 0.914062 -5.78125 0.90625 -5.9375 C 0.90625 -6.101562 0.898438 -6.257812 0.890625 -6.40625 C 0.890625 -6.550781 0.890625 -6.675781 0.890625 -6.78125 C 0.890625 -6.882812 0.882812 -6.945312 0.875 -6.96875 L 1.96875 -6.96875 C 1.976562 -6.945312 1.984375 -6.890625 1.984375 -6.796875 C 1.984375 -6.703125 1.988281 -6.59375 2 -6.46875 C 2.007812 -6.351562 2.015625 -6.226562 2.015625 -6.09375 C 2.023438 -5.96875 2.03125 -5.863281 2.03125 -5.78125 L 2.046875 -5.78125 C 2.148438 -5.976562 2.257812 -6.160156 2.375 -6.328125 C 2.5 -6.492188 2.640625 -6.632812 2.796875 -6.75 C 2.960938 -6.863281 3.148438 -6.953125 3.359375 -7.015625 C 3.566406 -7.078125 3.804688 -7.109375 4.078125 -7.109375 C 4.609375 -7.109375 5.023438 -7 5.328125 -6.78125 C 5.640625 -6.570312 5.851562 -6.238281 5.96875 -5.78125 L 6 -5.78125 C 6.101562 -5.976562 6.21875 -6.160156 6.34375 -6.328125 C 6.46875 -6.492188 6.613281 -6.632812 6.78125 -6.75 C 6.957031 -6.863281 7.15625 -6.953125 7.375 -7.015625 C 7.59375 -7.078125 7.835938 -7.109375 8.109375 -7.109375 C 8.460938 -7.109375 8.765625 -7.0625 9.015625 -6.96875 C 9.273438 -6.875 9.484375 -6.726562 9.640625 -6.53125 C 9.804688 -6.332031 9.925781 -6.078125 10 -5.765625 C 10.082031 -5.453125 10.125 -5.078125 10.125 -4.640625 L 10.125 0 L 8.984375 0 L 8.984375 -4.421875 C 8.984375 -4.765625 8.957031 -5.046875 8.90625 -5.265625 C 8.863281 -5.492188 8.789062 -5.675781 8.6875 -5.8125 C 8.59375 -5.957031 8.460938 -6.054688 8.296875 -6.109375 C 8.140625 -6.171875 7.941406 -6.203125 7.703125 -6.203125 C 7.460938 -6.203125 7.242188 -6.15625 7.046875 -6.0625 C 6.847656 -5.976562 6.675781 -5.84375 6.53125 -5.65625 C 6.394531 -5.476562 6.285156 -5.253906 6.203125 -4.984375 C 6.128906 -4.710938 6.09375 -4.398438 6.09375 -4.046875 L 6.09375 0 Z M 4.953125 0 \"/>\n",
       "</g>\n",
       "<g id=\"glyph-3-16\">\n",
       "<path d=\"M 5.296875 -1.125 C 5.078125 -0.675781 4.789062 -0.351562 4.4375 -0.15625 C 4.082031 0.03125 3.644531 0.125 3.125 0.125 C 2.238281 0.125 1.585938 -0.171875 1.171875 -0.765625 C 0.753906 -1.359375 0.546875 -2.253906 0.546875 -3.453125 C 0.546875 -5.890625 1.40625 -7.109375 3.125 -7.109375 C 3.644531 -7.109375 4.082031 -7.007812 4.4375 -6.8125 C 4.789062 -6.625 5.078125 -6.316406 5.296875 -5.890625 L 5.3125 -5.890625 C 5.3125 -5.929688 5.304688 -6 5.296875 -6.09375 C 5.296875 -6.1875 5.296875 -6.28125 5.296875 -6.375 C 5.296875 -6.476562 5.296875 -6.578125 5.296875 -6.671875 C 5.296875 -6.765625 5.296875 -6.828125 5.296875 -6.859375 L 5.296875 -9.5625 L 6.453125 -9.5625 L 6.453125 -1.4375 C 6.453125 -1.269531 6.453125 -1.109375 6.453125 -0.953125 C 6.453125 -0.796875 6.453125 -0.648438 6.453125 -0.515625 C 6.460938 -0.390625 6.46875 -0.28125 6.46875 -0.1875 C 6.476562 -0.101562 6.484375 -0.0390625 6.484375 0 L 5.390625 0 C 5.378906 -0.0390625 5.367188 -0.0976562 5.359375 -0.171875 C 5.347656 -0.253906 5.335938 -0.347656 5.328125 -0.453125 C 5.328125 -0.554688 5.320312 -0.664062 5.3125 -0.78125 C 5.3125 -0.894531 5.3125 -1.007812 5.3125 -1.125 Z M 1.765625 -3.5 C 1.765625 -3.007812 1.796875 -2.59375 1.859375 -2.25 C 1.921875 -1.90625 2.019531 -1.625 2.15625 -1.40625 C 2.289062 -1.1875 2.457031 -1.023438 2.65625 -0.921875 C 2.863281 -0.816406 3.117188 -0.765625 3.421875 -0.765625 C 3.722656 -0.765625 3.988281 -0.8125 4.21875 -0.90625 C 4.457031 -1.007812 4.65625 -1.171875 4.8125 -1.390625 C 4.96875 -1.617188 5.085938 -1.910156 5.171875 -2.265625 C 5.253906 -2.617188 5.296875 -3.054688 5.296875 -3.578125 C 5.296875 -4.066406 5.253906 -4.484375 5.171875 -4.828125 C 5.085938 -5.171875 4.96875 -5.445312 4.8125 -5.65625 C 4.65625 -5.863281 4.457031 -6.015625 4.21875 -6.109375 C 3.988281 -6.203125 3.726562 -6.25 3.4375 -6.25 C 3.144531 -6.25 2.894531 -6.195312 2.6875 -6.09375 C 2.488281 -6 2.316406 -5.84375 2.171875 -5.625 C 2.035156 -5.40625 1.929688 -5.117188 1.859375 -4.765625 C 1.796875 -4.410156 1.765625 -3.988281 1.765625 -3.5 Z M 1.765625 -3.5 \"/>\n",
       "</g>\n",
       "<g id=\"glyph-3-17\">\n",
       "<path d=\"M 0.890625 0 L 0.890625 -9.5625 L 2.046875 -9.5625 L 2.046875 0 Z M 0.890625 0 \"/>\n",
       "</g>\n",
       "</g>\n",
       "<clipPath id=\"clip-0\">\n",
       "<path clip-rule=\"nonzero\" d=\"M 38.152344 23.957031 L 426.523438 23.957031 L 426.523438 183.847656 L 38.152344 183.847656 Z M 38.152344 23.957031 \"/>\n",
       "</clipPath>\n",
       "<clipPath id=\"clip-1\">\n",
       "<path clip-rule=\"nonzero\" d=\"M 38.152344 158 L 426.523438 158 L 426.523438 159 L 38.152344 159 Z M 38.152344 158 \"/>\n",
       "</clipPath>\n",
       "<clipPath id=\"clip-2\">\n",
       "<path clip-rule=\"nonzero\" d=\"M 38.152344 122 L 426.523438 122 L 426.523438 123 L 38.152344 123 Z M 38.152344 122 \"/>\n",
       "</clipPath>\n",
       "<clipPath id=\"clip-3\">\n",
       "<path clip-rule=\"nonzero\" d=\"M 38.152344 85 L 426.523438 85 L 426.523438 87 L 38.152344 87 Z M 38.152344 85 \"/>\n",
       "</clipPath>\n",
       "<clipPath id=\"clip-4\">\n",
       "<path clip-rule=\"nonzero\" d=\"M 38.152344 49 L 426.523438 49 L 426.523438 51 L 38.152344 51 Z M 38.152344 49 \"/>\n",
       "</clipPath>\n",
       "<clipPath id=\"clip-5\">\n",
       "<path clip-rule=\"nonzero\" d=\"M 99 23.957031 L 101 23.957031 L 101 183.847656 L 99 183.847656 Z M 99 23.957031 \"/>\n",
       "</clipPath>\n",
       "<clipPath id=\"clip-6\">\n",
       "<path clip-rule=\"nonzero\" d=\"M 187 23.957031 L 189 23.957031 L 189 183.847656 L 187 183.847656 Z M 187 23.957031 \"/>\n",
       "</clipPath>\n",
       "<clipPath id=\"clip-7\">\n",
       "<path clip-rule=\"nonzero\" d=\"M 276 23.957031 L 277 23.957031 L 277 183.847656 L 276 183.847656 Z M 276 23.957031 \"/>\n",
       "</clipPath>\n",
       "<clipPath id=\"clip-8\">\n",
       "<path clip-rule=\"nonzero\" d=\"M 364 23.957031 L 365 23.957031 L 365 183.847656 L 364 183.847656 Z M 364 23.957031 \"/>\n",
       "</clipPath>\n",
       "<clipPath id=\"clip-9\">\n",
       "<path clip-rule=\"nonzero\" d=\"M 38.152344 176 L 426.523438 176 L 426.523438 178 L 38.152344 178 Z M 38.152344 176 \"/>\n",
       "</clipPath>\n",
       "<clipPath id=\"clip-10\">\n",
       "<path clip-rule=\"nonzero\" d=\"M 38.152344 139 L 426.523438 139 L 426.523438 141 L 38.152344 141 Z M 38.152344 139 \"/>\n",
       "</clipPath>\n",
       "<clipPath id=\"clip-11\">\n",
       "<path clip-rule=\"nonzero\" d=\"M 38.152344 103 L 426.523438 103 L 426.523438 105 L 38.152344 105 Z M 38.152344 103 \"/>\n",
       "</clipPath>\n",
       "<clipPath id=\"clip-12\">\n",
       "<path clip-rule=\"nonzero\" d=\"M 38.152344 67 L 426.523438 67 L 426.523438 69 L 38.152344 69 Z M 38.152344 67 \"/>\n",
       "</clipPath>\n",
       "<clipPath id=\"clip-13\">\n",
       "<path clip-rule=\"nonzero\" d=\"M 38.152344 31 L 426.523438 31 L 426.523438 33 L 38.152344 33 Z M 38.152344 31 \"/>\n",
       "</clipPath>\n",
       "<clipPath id=\"clip-14\">\n",
       "<path clip-rule=\"nonzero\" d=\"M 55 23.957031 L 57 23.957031 L 57 183.847656 L 55 183.847656 Z M 55 23.957031 \"/>\n",
       "</clipPath>\n",
       "<clipPath id=\"clip-15\">\n",
       "<path clip-rule=\"nonzero\" d=\"M 143 23.957031 L 145 23.957031 L 145 183.847656 L 143 183.847656 Z M 143 23.957031 \"/>\n",
       "</clipPath>\n",
       "<clipPath id=\"clip-16\">\n",
       "<path clip-rule=\"nonzero\" d=\"M 231 23.957031 L 233 23.957031 L 233 183.847656 L 231 183.847656 Z M 231 23.957031 \"/>\n",
       "</clipPath>\n",
       "<clipPath id=\"clip-17\">\n",
       "<path clip-rule=\"nonzero\" d=\"M 320 23.957031 L 322 23.957031 L 322 183.847656 L 320 183.847656 Z M 320 23.957031 \"/>\n",
       "</clipPath>\n",
       "<clipPath id=\"clip-18\">\n",
       "<path clip-rule=\"nonzero\" d=\"M 408 23.957031 L 410 23.957031 L 410 183.847656 L 408 183.847656 Z M 408 23.957031 \"/>\n",
       "</clipPath>\n",
       "<clipPath id=\"clip-19\">\n",
       "<path clip-rule=\"nonzero\" d=\"M 91 23.957031 L 93 23.957031 L 93 183.847656 L 91 183.847656 Z M 91 23.957031 \"/>\n",
       "</clipPath>\n",
       "</defs>\n",
       "<rect x=\"-43.2\" y=\"-21.6\" width=\"518.4\" height=\"259.2\" fill=\"rgb(100%, 100%, 100%)\" fill-opacity=\"1\"/>\n",
       "<rect x=\"-43.2\" y=\"-21.6\" width=\"518.4\" height=\"259.2\" fill=\"rgb(100%, 100%, 100%)\" fill-opacity=\"1\"/>\n",
       "<path fill=\"none\" stroke-width=\"1.066978\" stroke-linecap=\"round\" stroke-linejoin=\"round\" stroke=\"rgb(100%, 100%, 100%)\" stroke-opacity=\"1\" stroke-miterlimit=\"10\" d=\"M 0 216 L 432 216 L 432 0 L 0 0 Z M 0 216 \"/>\n",
       "<g clip-path=\"url(#clip-0)\">\n",
       "<path fill-rule=\"nonzero\" fill=\"rgb(92.156863%, 92.156863%, 92.156863%)\" fill-opacity=\"1\" d=\"M 38.152344 183.847656 L 426.523438 183.847656 L 426.523438 23.957031 L 38.152344 23.957031 Z M 38.152344 183.847656 \"/>\n",
       "</g>\n",
       "<g clip-path=\"url(#clip-1)\">\n",
       "<path fill=\"none\" stroke-width=\"0.533489\" stroke-linecap=\"butt\" stroke-linejoin=\"round\" stroke=\"rgb(100%, 100%, 100%)\" stroke-opacity=\"1\" stroke-miterlimit=\"10\" d=\"M 38.152344 158.503906 L 426.519531 158.503906 \"/>\n",
       "</g>\n",
       "<g clip-path=\"url(#clip-2)\">\n",
       "<path fill=\"none\" stroke-width=\"0.533489\" stroke-linecap=\"butt\" stroke-linejoin=\"round\" stroke=\"rgb(100%, 100%, 100%)\" stroke-opacity=\"1\" stroke-miterlimit=\"10\" d=\"M 38.152344 122.34375 L 426.519531 122.34375 \"/>\n",
       "</g>\n",
       "<g clip-path=\"url(#clip-3)\">\n",
       "<path fill=\"none\" stroke-width=\"0.533489\" stroke-linecap=\"butt\" stroke-linejoin=\"round\" stroke=\"rgb(100%, 100%, 100%)\" stroke-opacity=\"1\" stroke-miterlimit=\"10\" d=\"M 38.152344 86.1875 L 426.519531 86.1875 \"/>\n",
       "</g>\n",
       "<g clip-path=\"url(#clip-4)\">\n",
       "<path fill=\"none\" stroke-width=\"0.533489\" stroke-linecap=\"butt\" stroke-linejoin=\"round\" stroke=\"rgb(100%, 100%, 100%)\" stroke-opacity=\"1\" stroke-miterlimit=\"10\" d=\"M 38.152344 50.027344 L 426.519531 50.027344 \"/>\n",
       "</g>\n",
       "<g clip-path=\"url(#clip-5)\">\n",
       "<path fill=\"none\" stroke-width=\"0.533489\" stroke-linecap=\"butt\" stroke-linejoin=\"round\" stroke=\"rgb(100%, 100%, 100%)\" stroke-opacity=\"1\" stroke-miterlimit=\"10\" d=\"M 99.9375 183.847656 L 99.9375 23.957031 \"/>\n",
       "</g>\n",
       "<g clip-path=\"url(#clip-6)\">\n",
       "<path fill=\"none\" stroke-width=\"0.533489\" stroke-linecap=\"butt\" stroke-linejoin=\"round\" stroke=\"rgb(100%, 100%, 100%)\" stroke-opacity=\"1\" stroke-miterlimit=\"10\" d=\"M 188.203125 183.847656 L 188.203125 23.957031 \"/>\n",
       "</g>\n",
       "<g clip-path=\"url(#clip-7)\">\n",
       "<path fill=\"none\" stroke-width=\"0.533489\" stroke-linecap=\"butt\" stroke-linejoin=\"round\" stroke=\"rgb(100%, 100%, 100%)\" stroke-opacity=\"1\" stroke-miterlimit=\"10\" d=\"M 276.46875 183.847656 L 276.46875 23.957031 \"/>\n",
       "</g>\n",
       "<g clip-path=\"url(#clip-8)\">\n",
       "<path fill=\"none\" stroke-width=\"0.533489\" stroke-linecap=\"butt\" stroke-linejoin=\"round\" stroke=\"rgb(100%, 100%, 100%)\" stroke-opacity=\"1\" stroke-miterlimit=\"10\" d=\"M 364.734375 183.847656 L 364.734375 23.957031 \"/>\n",
       "</g>\n",
       "<g clip-path=\"url(#clip-9)\">\n",
       "<path fill=\"none\" stroke-width=\"1.066978\" stroke-linecap=\"butt\" stroke-linejoin=\"round\" stroke=\"rgb(100%, 100%, 100%)\" stroke-opacity=\"1\" stroke-miterlimit=\"10\" d=\"M 38.152344 176.582031 L 426.519531 176.582031 \"/>\n",
       "</g>\n",
       "<g clip-path=\"url(#clip-10)\">\n",
       "<path fill=\"none\" stroke-width=\"1.066978\" stroke-linecap=\"butt\" stroke-linejoin=\"round\" stroke=\"rgb(100%, 100%, 100%)\" stroke-opacity=\"1\" stroke-miterlimit=\"10\" d=\"M 38.152344 140.421875 L 426.519531 140.421875 \"/>\n",
       "</g>\n",
       "<g clip-path=\"url(#clip-11)\">\n",
       "<path fill=\"none\" stroke-width=\"1.066978\" stroke-linecap=\"butt\" stroke-linejoin=\"round\" stroke=\"rgb(100%, 100%, 100%)\" stroke-opacity=\"1\" stroke-miterlimit=\"10\" d=\"M 38.152344 104.265625 L 426.519531 104.265625 \"/>\n",
       "</g>\n",
       "<g clip-path=\"url(#clip-12)\">\n",
       "<path fill=\"none\" stroke-width=\"1.066978\" stroke-linecap=\"butt\" stroke-linejoin=\"round\" stroke=\"rgb(100%, 100%, 100%)\" stroke-opacity=\"1\" stroke-miterlimit=\"10\" d=\"M 38.152344 68.109375 L 426.519531 68.109375 \"/>\n",
       "</g>\n",
       "<g clip-path=\"url(#clip-13)\">\n",
       "<path fill=\"none\" stroke-width=\"1.066978\" stroke-linecap=\"butt\" stroke-linejoin=\"round\" stroke=\"rgb(100%, 100%, 100%)\" stroke-opacity=\"1\" stroke-miterlimit=\"10\" d=\"M 38.152344 31.949219 L 426.519531 31.949219 \"/>\n",
       "</g>\n",
       "<g clip-path=\"url(#clip-14)\">\n",
       "<path fill=\"none\" stroke-width=\"1.066978\" stroke-linecap=\"butt\" stroke-linejoin=\"round\" stroke=\"rgb(100%, 100%, 100%)\" stroke-opacity=\"1\" stroke-miterlimit=\"10\" d=\"M 55.804688 183.847656 L 55.804688 23.957031 \"/>\n",
       "</g>\n",
       "<g clip-path=\"url(#clip-15)\">\n",
       "<path fill=\"none\" stroke-width=\"1.066978\" stroke-linecap=\"butt\" stroke-linejoin=\"round\" stroke=\"rgb(100%, 100%, 100%)\" stroke-opacity=\"1\" stroke-miterlimit=\"10\" d=\"M 144.070312 183.847656 L 144.070312 23.957031 \"/>\n",
       "</g>\n",
       "<g clip-path=\"url(#clip-16)\">\n",
       "<path fill=\"none\" stroke-width=\"1.066978\" stroke-linecap=\"butt\" stroke-linejoin=\"round\" stroke=\"rgb(100%, 100%, 100%)\" stroke-opacity=\"1\" stroke-miterlimit=\"10\" d=\"M 232.335938 183.847656 L 232.335938 23.957031 \"/>\n",
       "</g>\n",
       "<g clip-path=\"url(#clip-17)\">\n",
       "<path fill=\"none\" stroke-width=\"1.066978\" stroke-linecap=\"butt\" stroke-linejoin=\"round\" stroke=\"rgb(100%, 100%, 100%)\" stroke-opacity=\"1\" stroke-miterlimit=\"10\" d=\"M 320.601562 183.847656 L 320.601562 23.957031 \"/>\n",
       "</g>\n",
       "<g clip-path=\"url(#clip-18)\">\n",
       "<path fill=\"none\" stroke-width=\"1.066978\" stroke-linecap=\"butt\" stroke-linejoin=\"round\" stroke=\"rgb(100%, 100%, 100%)\" stroke-opacity=\"1\" stroke-miterlimit=\"10\" d=\"M 408.867188 183.847656 L 408.867188 23.957031 \"/>\n",
       "</g>\n",
       "<path fill-rule=\"nonzero\" fill=\"rgb(34.901961%, 34.901961%, 34.901961%)\" fill-opacity=\"1\" stroke-width=\"1.066978\" stroke-linecap=\"butt\" stroke-linejoin=\"miter\" stroke=\"rgb(0%, 0%, 50.196078%)\" stroke-opacity=\"1\" stroke-miterlimit=\"10\" d=\"M 65.09375 176.582031 L 83.675781 176.582031 L 83.675781 93.058594 L 65.09375 93.058594 Z M 65.09375 176.582031 \"/>\n",
       "<path fill-rule=\"nonzero\" fill=\"rgb(34.901961%, 34.901961%, 34.901961%)\" fill-opacity=\"1\" stroke-width=\"1.066978\" stroke-linecap=\"butt\" stroke-linejoin=\"miter\" stroke=\"rgb(0%, 0%, 50.196078%)\" stroke-opacity=\"1\" stroke-miterlimit=\"10\" d=\"M 83.675781 176.582031 L 102.257812 176.582031 L 102.257812 127.046875 L 83.675781 127.046875 Z M 83.675781 176.582031 \"/>\n",
       "<path fill-rule=\"nonzero\" fill=\"rgb(34.901961%, 34.901961%, 34.901961%)\" fill-opacity=\"1\" stroke-width=\"1.066978\" stroke-linecap=\"butt\" stroke-linejoin=\"miter\" stroke=\"rgb(0%, 0%, 50.196078%)\" stroke-opacity=\"1\" stroke-miterlimit=\"10\" d=\"M 102.257812 176.582031 L 120.839844 176.582031 L 120.839844 138.253906 L 102.257812 138.253906 Z M 102.257812 176.582031 \"/>\n",
       "<path fill-rule=\"nonzero\" fill=\"rgb(34.901961%, 34.901961%, 34.901961%)\" fill-opacity=\"1\" stroke-width=\"1.066978\" stroke-linecap=\"butt\" stroke-linejoin=\"miter\" stroke=\"rgb(0%, 0%, 50.196078%)\" stroke-opacity=\"1\" stroke-miterlimit=\"10\" d=\"M 120.84375 176.582031 L 139.425781 176.582031 L 139.425781 145.847656 L 120.84375 145.847656 Z M 120.84375 176.582031 \"/>\n",
       "<path fill-rule=\"nonzero\" fill=\"rgb(34.901961%, 34.901961%, 34.901961%)\" fill-opacity=\"1\" stroke-width=\"1.066978\" stroke-linecap=\"butt\" stroke-linejoin=\"miter\" stroke=\"rgb(0%, 0%, 50.196078%)\" stroke-opacity=\"1\" stroke-miterlimit=\"10\" d=\"M 139.425781 176.582031 L 158.007812 176.582031 L 158.007812 151.269531 L 139.425781 151.269531 Z M 139.425781 176.582031 \"/>\n",
       "<path fill-rule=\"nonzero\" fill=\"rgb(34.901961%, 34.901961%, 34.901961%)\" fill-opacity=\"1\" stroke-width=\"1.066978\" stroke-linecap=\"butt\" stroke-linejoin=\"miter\" stroke=\"rgb(0%, 0%, 50.196078%)\" stroke-opacity=\"1\" stroke-miterlimit=\"10\" d=\"M 158.007812 176.582031 L 176.589844 176.582031 L 176.589844 155.25 L 158.007812 155.25 Z M 158.007812 176.582031 \"/>\n",
       "<path fill-rule=\"nonzero\" fill=\"rgb(34.901961%, 34.901961%, 34.901961%)\" fill-opacity=\"1\" stroke-width=\"1.066978\" stroke-linecap=\"butt\" stroke-linejoin=\"miter\" stroke=\"rgb(0%, 0%, 50.196078%)\" stroke-opacity=\"1\" stroke-miterlimit=\"10\" d=\"M 176.589844 176.582031 L 195.171875 176.582031 L 195.171875 161.757812 L 176.589844 161.757812 Z M 176.589844 176.582031 \"/>\n",
       "<path fill-rule=\"nonzero\" fill=\"rgb(34.901961%, 34.901961%, 34.901961%)\" fill-opacity=\"1\" stroke-width=\"1.066978\" stroke-linecap=\"butt\" stroke-linejoin=\"miter\" stroke=\"rgb(0%, 0%, 50.196078%)\" stroke-opacity=\"1\" stroke-miterlimit=\"10\" d=\"M 195.171875 176.582031 L 213.753906 176.582031 L 213.753906 162.84375 L 195.171875 162.84375 Z M 195.171875 176.582031 \"/>\n",
       "<path fill-rule=\"nonzero\" fill=\"rgb(34.901961%, 34.901961%, 34.901961%)\" fill-opacity=\"1\" stroke-width=\"1.066978\" stroke-linecap=\"butt\" stroke-linejoin=\"miter\" stroke=\"rgb(0%, 0%, 50.196078%)\" stroke-opacity=\"1\" stroke-miterlimit=\"10\" d=\"M 213.753906 176.582031 L 232.335938 176.582031 L 232.335938 166.097656 L 213.753906 166.097656 Z M 213.753906 176.582031 \"/>\n",
       "<path fill-rule=\"nonzero\" fill=\"rgb(34.901961%, 34.901961%, 34.901961%)\" fill-opacity=\"1\" stroke-width=\"1.066978\" stroke-linecap=\"butt\" stroke-linejoin=\"miter\" stroke=\"rgb(0%, 0%, 50.196078%)\" stroke-opacity=\"1\" stroke-miterlimit=\"10\" d=\"M 232.335938 176.582031 L 250.917969 176.582031 L 250.917969 164.648438 L 232.335938 164.648438 Z M 232.335938 176.582031 \"/>\n",
       "<path fill-rule=\"nonzero\" fill=\"rgb(34.901961%, 34.901961%, 34.901961%)\" fill-opacity=\"1\" stroke-width=\"1.066978\" stroke-linecap=\"butt\" stroke-linejoin=\"miter\" stroke=\"rgb(0%, 0%, 50.196078%)\" stroke-opacity=\"1\" stroke-miterlimit=\"10\" d=\"M 250.917969 176.582031 L 269.5 176.582031 L 269.5 166.097656 L 250.917969 166.097656 Z M 250.917969 176.582031 \"/>\n",
       "<path fill-rule=\"nonzero\" fill=\"rgb(34.901961%, 34.901961%, 34.901961%)\" fill-opacity=\"1\" stroke-width=\"1.066978\" stroke-linecap=\"butt\" stroke-linejoin=\"miter\" stroke=\"rgb(0%, 0%, 50.196078%)\" stroke-opacity=\"1\" stroke-miterlimit=\"10\" d=\"M 269.5 176.582031 L 288.082031 176.582031 L 288.082031 166.457031 L 269.5 166.457031 Z M 269.5 176.582031 \"/>\n",
       "<path fill-rule=\"nonzero\" fill=\"rgb(34.901961%, 34.901961%, 34.901961%)\" fill-opacity=\"1\" stroke-width=\"1.066978\" stroke-linecap=\"butt\" stroke-linejoin=\"miter\" stroke=\"rgb(0%, 0%, 50.196078%)\" stroke-opacity=\"1\" stroke-miterlimit=\"10\" d=\"M 288.082031 176.582031 L 306.664062 176.582031 L 306.664062 171.160156 L 288.082031 171.160156 Z M 288.082031 176.582031 \"/>\n",
       "<path fill-rule=\"nonzero\" fill=\"rgb(34.901961%, 34.901961%, 34.901961%)\" fill-opacity=\"1\" stroke-width=\"1.066978\" stroke-linecap=\"butt\" stroke-linejoin=\"miter\" stroke=\"rgb(0%, 0%, 50.196078%)\" stroke-opacity=\"1\" stroke-miterlimit=\"10\" d=\"M 306.664062 176.582031 L 325.246094 176.582031 L 325.246094 170.433594 L 306.664062 170.433594 Z M 306.664062 176.582031 \"/>\n",
       "<path fill-rule=\"nonzero\" fill=\"rgb(34.901961%, 34.901961%, 34.901961%)\" fill-opacity=\"1\" stroke-width=\"1.066978\" stroke-linecap=\"butt\" stroke-linejoin=\"miter\" stroke=\"rgb(0%, 0%, 50.196078%)\" stroke-opacity=\"1\" stroke-miterlimit=\"10\" d=\"M 325.246094 176.582031 L 343.828125 176.582031 L 343.828125 171.519531 L 325.246094 171.519531 Z M 325.246094 176.582031 \"/>\n",
       "<path fill-rule=\"nonzero\" fill=\"rgb(34.901961%, 34.901961%, 34.901961%)\" fill-opacity=\"1\" stroke-width=\"1.066978\" stroke-linecap=\"butt\" stroke-linejoin=\"miter\" stroke=\"rgb(0%, 0%, 50.196078%)\" stroke-opacity=\"1\" stroke-miterlimit=\"10\" d=\"M 343.828125 176.582031 L 362.410156 176.582031 L 362.410156 169.710938 L 343.828125 169.710938 Z M 343.828125 176.582031 \"/>\n",
       "<path fill-rule=\"nonzero\" fill=\"rgb(34.901961%, 34.901961%, 34.901961%)\" fill-opacity=\"1\" stroke-width=\"1.066978\" stroke-linecap=\"butt\" stroke-linejoin=\"miter\" stroke=\"rgb(0%, 0%, 50.196078%)\" stroke-opacity=\"1\" stroke-miterlimit=\"10\" d=\"M 362.410156 176.582031 L 380.992188 176.582031 L 380.992188 171.160156 L 362.410156 171.160156 Z M 362.410156 176.582031 \"/>\n",
       "<path fill-rule=\"nonzero\" fill=\"rgb(34.901961%, 34.901961%, 34.901961%)\" fill-opacity=\"1\" stroke-width=\"1.066978\" stroke-linecap=\"butt\" stroke-linejoin=\"miter\" stroke=\"rgb(0%, 0%, 50.196078%)\" stroke-opacity=\"1\" stroke-miterlimit=\"10\" d=\"M 380.992188 176.582031 L 399.574219 176.582031 L 399.574219 170.074219 L 380.992188 170.074219 Z M 380.992188 176.582031 \"/>\n",
       "<g clip-path=\"url(#clip-19)\">\n",
       "<path fill=\"none\" stroke-width=\"1.066978\" stroke-linecap=\"butt\" stroke-linejoin=\"round\" stroke=\"rgb(100%, 0%, 0%)\" stroke-opacity=\"1\" stroke-miterlimit=\"10\" d=\"M 91.839844 183.847656 L 91.839844 23.957031 \"/>\n",
       "</g>\n",
       "<g fill=\"rgb(30.196078%, 30.196078%, 30.196078%)\" fill-opacity=\"1\">\n",
       "<use xlink:href=\"#glyph-0-0\" x=\"28.21875\" y=\"180.047852\"/>\n",
       "</g>\n",
       "<g fill=\"rgb(30.196078%, 30.196078%, 30.196078%)\" fill-opacity=\"1\">\n",
       "<use xlink:href=\"#glyph-0-1\" x=\"18.21875\" y=\"143.887695\"/>\n",
       "<use xlink:href=\"#glyph-0-0\" x=\"23.21875\" y=\"143.887695\"/>\n",
       "<use xlink:href=\"#glyph-0-0\" x=\"28.21875\" y=\"143.887695\"/>\n",
       "</g>\n",
       "<g fill=\"rgb(30.196078%, 30.196078%, 30.196078%)\" fill-opacity=\"1\">\n",
       "<use xlink:href=\"#glyph-0-2\" x=\"18.21875\" y=\"107.731445\"/>\n",
       "<use xlink:href=\"#glyph-0-0\" x=\"23.21875\" y=\"107.731445\"/>\n",
       "<use xlink:href=\"#glyph-0-0\" x=\"28.21875\" y=\"107.731445\"/>\n",
       "</g>\n",
       "<g fill=\"rgb(30.196078%, 30.196078%, 30.196078%)\" fill-opacity=\"1\">\n",
       "<use xlink:href=\"#glyph-0-3\" x=\"18.21875\" y=\"71.575195\"/>\n",
       "<use xlink:href=\"#glyph-0-0\" x=\"23.21875\" y=\"71.575195\"/>\n",
       "<use xlink:href=\"#glyph-0-0\" x=\"28.21875\" y=\"71.575195\"/>\n",
       "</g>\n",
       "<g fill=\"rgb(30.196078%, 30.196078%, 30.196078%)\" fill-opacity=\"1\">\n",
       "<use xlink:href=\"#glyph-0-4\" x=\"18.21875\" y=\"35.415039\"/>\n",
       "<use xlink:href=\"#glyph-0-0\" x=\"23.21875\" y=\"35.415039\"/>\n",
       "<use xlink:href=\"#glyph-0-0\" x=\"28.21875\" y=\"35.415039\"/>\n",
       "</g>\n",
       "<path fill=\"none\" stroke-width=\"1.066978\" stroke-linecap=\"butt\" stroke-linejoin=\"round\" stroke=\"rgb(20%, 20%, 20%)\" stroke-opacity=\"1\" stroke-miterlimit=\"10\" d=\"M 35.410156 176.582031 L 38.152344 176.582031 \"/>\n",
       "<path fill=\"none\" stroke-width=\"1.066978\" stroke-linecap=\"butt\" stroke-linejoin=\"round\" stroke=\"rgb(20%, 20%, 20%)\" stroke-opacity=\"1\" stroke-miterlimit=\"10\" d=\"M 35.410156 140.421875 L 38.152344 140.421875 \"/>\n",
       "<path fill=\"none\" stroke-width=\"1.066978\" stroke-linecap=\"butt\" stroke-linejoin=\"round\" stroke=\"rgb(20%, 20%, 20%)\" stroke-opacity=\"1\" stroke-miterlimit=\"10\" d=\"M 35.410156 104.265625 L 38.152344 104.265625 \"/>\n",
       "<path fill=\"none\" stroke-width=\"1.066978\" stroke-linecap=\"butt\" stroke-linejoin=\"round\" stroke=\"rgb(20%, 20%, 20%)\" stroke-opacity=\"1\" stroke-miterlimit=\"10\" d=\"M 35.410156 68.109375 L 38.152344 68.109375 \"/>\n",
       "<path fill=\"none\" stroke-width=\"1.066978\" stroke-linecap=\"butt\" stroke-linejoin=\"round\" stroke=\"rgb(20%, 20%, 20%)\" stroke-opacity=\"1\" stroke-miterlimit=\"10\" d=\"M 35.410156 31.949219 L 38.152344 31.949219 \"/>\n",
       "<path fill=\"none\" stroke-width=\"1.066978\" stroke-linecap=\"butt\" stroke-linejoin=\"round\" stroke=\"rgb(20%, 20%, 20%)\" stroke-opacity=\"1\" stroke-miterlimit=\"10\" d=\"M 55.804688 186.589844 L 55.804688 183.847656 \"/>\n",
       "<path fill=\"none\" stroke-width=\"1.066978\" stroke-linecap=\"butt\" stroke-linejoin=\"round\" stroke=\"rgb(20%, 20%, 20%)\" stroke-opacity=\"1\" stroke-miterlimit=\"10\" d=\"M 144.070312 186.589844 L 144.070312 183.847656 \"/>\n",
       "<path fill=\"none\" stroke-width=\"1.066978\" stroke-linecap=\"butt\" stroke-linejoin=\"round\" stroke=\"rgb(20%, 20%, 20%)\" stroke-opacity=\"1\" stroke-miterlimit=\"10\" d=\"M 232.335938 186.589844 L 232.335938 183.847656 \"/>\n",
       "<path fill=\"none\" stroke-width=\"1.066978\" stroke-linecap=\"butt\" stroke-linejoin=\"round\" stroke=\"rgb(20%, 20%, 20%)\" stroke-opacity=\"1\" stroke-miterlimit=\"10\" d=\"M 320.601562 186.589844 L 320.601562 183.847656 \"/>\n",
       "<path fill=\"none\" stroke-width=\"1.066978\" stroke-linecap=\"butt\" stroke-linejoin=\"round\" stroke=\"rgb(20%, 20%, 20%)\" stroke-opacity=\"1\" stroke-miterlimit=\"10\" d=\"M 408.867188 186.589844 L 408.867188 183.847656 \"/>\n",
       "<g fill=\"rgb(30.196078%, 30.196078%, 30.196078%)\" fill-opacity=\"1\">\n",
       "<use xlink:href=\"#glyph-0-0\" x=\"47.304688\" y=\"195.74707\"/>\n",
       "<use xlink:href=\"#glyph-0-5\" x=\"52.304688\" y=\"195.74707\"/>\n",
       "<use xlink:href=\"#glyph-0-0\" x=\"54.304688\" y=\"195.74707\"/>\n",
       "<use xlink:href=\"#glyph-0-0\" x=\"59.304688\" y=\"195.74707\"/>\n",
       "</g>\n",
       "<g fill=\"rgb(30.196078%, 30.196078%, 30.196078%)\" fill-opacity=\"1\">\n",
       "<use xlink:href=\"#glyph-0-0\" x=\"135.570312\" y=\"195.74707\"/>\n",
       "<use xlink:href=\"#glyph-0-5\" x=\"140.570312\" y=\"195.74707\"/>\n",
       "<use xlink:href=\"#glyph-0-2\" x=\"142.570312\" y=\"195.74707\"/>\n",
       "<use xlink:href=\"#glyph-0-6\" x=\"147.570312\" y=\"195.74707\"/>\n",
       "</g>\n",
       "<g fill=\"rgb(30.196078%, 30.196078%, 30.196078%)\" fill-opacity=\"1\">\n",
       "<use xlink:href=\"#glyph-0-0\" x=\"223.835938\" y=\"195.74707\"/>\n",
       "<use xlink:href=\"#glyph-0-5\" x=\"228.835938\" y=\"195.74707\"/>\n",
       "<use xlink:href=\"#glyph-0-6\" x=\"230.835938\" y=\"195.74707\"/>\n",
       "<use xlink:href=\"#glyph-0-0\" x=\"235.835938\" y=\"195.74707\"/>\n",
       "</g>\n",
       "<g fill=\"rgb(30.196078%, 30.196078%, 30.196078%)\" fill-opacity=\"1\">\n",
       "<use xlink:href=\"#glyph-0-0\" x=\"312.101562\" y=\"195.74707\"/>\n",
       "<use xlink:href=\"#glyph-0-5\" x=\"317.101562\" y=\"195.74707\"/>\n",
       "<use xlink:href=\"#glyph-0-7\" x=\"319.101562\" y=\"195.74707\"/>\n",
       "<use xlink:href=\"#glyph-0-6\" x=\"324.101562\" y=\"195.74707\"/>\n",
       "</g>\n",
       "<g fill=\"rgb(30.196078%, 30.196078%, 30.196078%)\" fill-opacity=\"1\">\n",
       "<use xlink:href=\"#glyph-0-1\" x=\"400.367188\" y=\"195.74707\"/>\n",
       "<use xlink:href=\"#glyph-0-5\" x=\"405.367188\" y=\"195.74707\"/>\n",
       "<use xlink:href=\"#glyph-0-0\" x=\"407.367188\" y=\"195.74707\"/>\n",
       "<use xlink:href=\"#glyph-0-0\" x=\"412.367188\" y=\"195.74707\"/>\n",
       "</g>\n",
       "<g fill=\"rgb(0%, 0%, 0%)\" fill-opacity=\"1\">\n",
       "<use xlink:href=\"#glyph-1-0\" x=\"222.335938\" y=\"208.477539\"/>\n",
       "<use xlink:href=\"#glyph-1-1\" x=\"230.335938\" y=\"208.477539\"/>\n",
       "<use xlink:href=\"#glyph-1-2\" x=\"236.335938\" y=\"208.477539\"/>\n",
       "</g>\n",
       "<g fill=\"rgb(0%, 0%, 0%)\" fill-opacity=\"1\">\n",
       "<use xlink:href=\"#glyph-2-0\" x=\"13.438477\" y=\"118.402344\"/>\n",
       "<use xlink:href=\"#glyph-2-1\" x=\"13.438477\" y=\"110.402344\"/>\n",
       "<use xlink:href=\"#glyph-2-2\" x=\"13.438477\" y=\"104.402344\"/>\n",
       "<use xlink:href=\"#glyph-2-3\" x=\"13.438477\" y=\"98.402344\"/>\n",
       "<use xlink:href=\"#glyph-2-4\" x=\"13.438477\" y=\"92.402344\"/>\n",
       "</g>\n",
       "<g fill=\"rgb(0%, 0%, 0%)\" fill-opacity=\"1\">\n",
       "<use xlink:href=\"#glyph-3-0\" x=\"38.152344\" y=\"15.429688\"/>\n",
       "<use xlink:href=\"#glyph-3-1\" x=\"48.152344\" y=\"15.429688\"/>\n",
       "<use xlink:href=\"#glyph-3-2\" x=\"55.152344\" y=\"15.429688\"/>\n",
       "<use xlink:href=\"#glyph-3-3\" x=\"62.152344\" y=\"15.429688\"/>\n",
       "<use xlink:href=\"#glyph-3-4\" x=\"66.152344\" y=\"15.429688\"/>\n",
       "<use xlink:href=\"#glyph-3-5\" x=\"73.152344\" y=\"15.429688\"/>\n",
       "<use xlink:href=\"#glyph-3-3\" x=\"77.152344\" y=\"15.429688\"/>\n",
       "<use xlink:href=\"#glyph-3-6\" x=\"81.152344\" y=\"15.429688\"/>\n",
       "<use xlink:href=\"#glyph-3-7\" x=\"88.152344\" y=\"15.429688\"/>\n",
       "<use xlink:href=\"#glyph-3-8\" x=\"95.152344\" y=\"15.429688\"/>\n",
       "<use xlink:href=\"#glyph-3-7\" x=\"102.152344\" y=\"15.429688\"/>\n",
       "<use xlink:href=\"#glyph-3-9\" x=\"109.152344\" y=\"15.429688\"/>\n",
       "<use xlink:href=\"#glyph-3-1\" x=\"113.152344\" y=\"15.429688\"/>\n",
       "<use xlink:href=\"#glyph-3-10\" x=\"120.152344\" y=\"15.429688\"/>\n",
       "<use xlink:href=\"#glyph-3-7\" x=\"127.152344\" y=\"15.429688\"/>\n",
       "<use xlink:href=\"#glyph-3-11\" x=\"134.152344\" y=\"15.429688\"/>\n",
       "<use xlink:href=\"#glyph-3-12\" x=\"141.152344\" y=\"15.429688\"/>\n",
       "<use xlink:href=\"#glyph-3-5\" x=\"144.152344\" y=\"15.429688\"/>\n",
       "<use xlink:href=\"#glyph-3-12\" x=\"148.152344\" y=\"15.429688\"/>\n",
       "<use xlink:href=\"#glyph-3-11\" x=\"151.152344\" y=\"15.429688\"/>\n",
       "<use xlink:href=\"#glyph-3-3\" x=\"158.152344\" y=\"15.429688\"/>\n",
       "<use xlink:href=\"#glyph-3-13\" x=\"162.152344\" y=\"15.429688\"/>\n",
       "<use xlink:href=\"#glyph-3-14\" x=\"169.152344\" y=\"15.429688\"/>\n",
       "<use xlink:href=\"#glyph-3-3\" x=\"178.152344\" y=\"15.429688\"/>\n",
       "<use xlink:href=\"#glyph-3-15\" x=\"182.152344\" y=\"15.429688\"/>\n",
       "<use xlink:href=\"#glyph-3-4\" x=\"193.152344\" y=\"15.429688\"/>\n",
       "<use xlink:href=\"#glyph-3-16\" x=\"200.152344\" y=\"15.429688\"/>\n",
       "<use xlink:href=\"#glyph-3-7\" x=\"207.152344\" y=\"15.429688\"/>\n",
       "<use xlink:href=\"#glyph-3-17\" x=\"214.152344\" y=\"15.429688\"/>\n",
       "<use xlink:href=\"#glyph-3-1\" x=\"217.152344\" y=\"15.429688\"/>\n",
       "</g>\n",
       "</svg>\n"
      ],
      "text/plain": [
       "plot without title"
      ]
     },
     "metadata": {
      "application/pdf": {
       "height": 180,
       "width": 360
      },
      "image/jpeg": {
       "height": 180,
       "width": 360
      },
      "image/png": {
       "height": 180,
       "width": 360
      },
      "image/svg+xml": {
       "height": 180,
       "isolated": true,
       "width": 360
      }
     },
     "output_type": "display_data"
    }
   ],
   "source": [
    "hist_slr_r2 <- summary_gof  %>% \n",
    "  ggplot(aes(x=r.squared)) + \n",
    "  geom_histogram(color=\"navy\", bins=20) + \n",
    "  geom_vline(xintercept=median(summary_gof$r.squared, na.rm=T),color=\"red\")+\n",
    "  labs(\n",
    "    title = \"Rsq of gene-specific LS models\",\n",
    "    x = \"Rsq\",\n",
    "    y = \"Count\")+\n",
    "  xlim(0, 1)\n",
    "\n",
    "hist_slr_r2"
   ]
  },
  {
   "cell_type": "markdown",
   "metadata": {
    "deletable": false,
    "editable": false,
    "nbgrader": {
     "cell_type": "markdown",
     "checksum": "255c30f672974a6c5da04649537677f8",
     "grade": false,
     "grade_id": "cell-d9d98e89fc0d5560",
     "locked": true,
     "schema_version": 3,
     "solution": false,
     "task": false
    }
   },
   "source": [
    "**Question 2.1**\n",
    "<br>{points: 1}\n",
    "\n",
    "In the following claims, a \"gene-specific model\" refers to a SLR using `mrna` as an input variable and estimated by LS for each gene.\n",
    "\n",
    "Select all the claims that are true based on the $R^2$ computed for each gene.\n",
    "\n",
    "**A.** These results suggest that the quality of the proposed models vary greatly across genes. For some genes, a gene-specific model explains more than 80% of the observed variation in protein abundance. However, for more than half of the genes it explains less than 15% of the observed variation in protein levels.\n",
    "\n",
    "**B.** For the majority of the genes, a gene-specific model fits the data well. \n",
    "\n",
    "**C.** With the suggested gene-specific models, it now becomes possible to predict protein abundance in any given tissue with good accuracy from the measured mRNA for any gene.  \n",
    "\n",
    "**D.** For gene ENSG00000262246, the gene-specific model explains approximately 87% of the observed variation in protein abundance, making `mrna` statistically significant.\n",
    "\n",
    "*Assign your answer to an object called `answer2.1`. Your answer should be one of `\"A\"`, `\"B\"`, `\"C\"`, or `\"D\"` surrounded by quotes.*"
   ]
  },
  {
   "cell_type": "code",
   "execution_count": 19,
   "metadata": {
    "deletable": false,
    "nbgrader": {
     "cell_type": "code",
     "checksum": "aee3be7ba3ee12297ac4dfdd3e19c5de",
     "grade": false,
     "grade_id": "cell-6f09b9a6725554ff",
     "locked": false,
     "schema_version": 3,
     "solution": true,
     "task": false
    },
    "tags": []
   },
   "outputs": [],
   "source": [
    "# answer2.1 <- \n",
    "\n",
    "# your code here\n",
    "answer2.1 <- \"A\""
   ]
  },
  {
   "cell_type": "code",
   "execution_count": 20,
   "metadata": {
    "deletable": false,
    "editable": false,
    "nbgrader": {
     "cell_type": "code",
     "checksum": "54a6eb0b45ed4f1fd8bd0ccd0d107bbe",
     "grade": true,
     "grade_id": "cell-7c63e0b50f9f1aca",
     "locked": true,
     "points": 1,
     "schema_version": 3,
     "solution": false,
     "task": false
    },
    "tags": []
   },
   "outputs": [
    {
     "name": "stdout",
     "output_type": "stream",
     "text": [
      "\u001b[32mTest passed\u001b[39m 🎉\n",
      "\u001b[32mTest passed\u001b[39m 🥳\n",
      "\u001b[32mTest passed\u001b[39m 😀\n",
      "[1] \"Success!\"\n"
     ]
    }
   ],
   "source": [
    "test_2.1()"
   ]
  },
  {
   "cell_type": "markdown",
   "metadata": {
    "deletable": false,
    "editable": false,
    "nbgrader": {
     "cell_type": "markdown",
     "checksum": "4a4295d29c89c93b84a23de22d3b2acd",
     "grade": false,
     "grade_id": "cell-e0a944bf45f4d345",
     "locked": true,
     "schema_version": 3,
     "solution": false,
     "task": false
    },
    "tags": []
   },
   "source": [
    "**Question 2.2**\n",
    "<br>{points: 1}\n",
    "\n",
    "The $R^2$ provides a measure for the goodness-of-fit for each model but is not a statistical test. In this exercise, you will examine the $p$-values from the $F$-tests for each gene. Each of these tests compares the full model with an intercept-only model. For these simple particular models, the null hypothesis is:\n",
    "\n",
    "$H_0: \\beta_1 = 0$\n",
    "\n",
    "Plot a histogram of the $p$-values from all gene-specific SLR. Add a solid vertical line with the median of the $p$-values displayed and a dotted line for a threshold value of 0.05.\n",
    "\n",
    "*Fill out those parts indicated with `...`, uncomment the corresponding code in the cell below, and run it.*"
   ]
  },
  {
   "cell_type": "code",
   "execution_count": 21,
   "metadata": {
    "deletable": false,
    "nbgrader": {
     "cell_type": "code",
     "checksum": "b5dbd96fb6fb0f001649ad0672d89843",
     "grade": false,
     "grade_id": "cell-44d9b6ea19ad3cb8",
     "locked": false,
     "schema_version": 3,
     "solution": true,
     "task": false
    },
    "tags": []
   },
   "outputs": [
    {
     "name": "stderr",
     "output_type": "stream",
     "text": [
      "Warning message:\n",
      "“\u001b[1m\u001b[22mRemoved 2 rows containing missing values (`geom_bar()`).”\n"
     ]
    },
    {
     "data": {
      "application/pdf": "[encoded data removed]",
      "image/jpeg": "[encoded data removed]",
      "image/png": "[encoded data removed]",
      "image/svg+xml": [
       "<?xml version=\"1.0\" encoding=\"UTF-8\"?>\n",
       "<svg xmlns=\"http://www.w3.org/2000/svg\" xmlns:xlink=\"http://www.w3.org/1999/xlink\" width=\"432\" height=\"216\" viewBox=\"0 0 432 216\">\n",
       "<defs>\n",
       "<g>\n",
       "<g id=\"glyph-0-0\">\n",
       "<path d=\"M 4.546875 -3.03125 C 4.546875 -2.445312 4.488281 -1.957031 4.375 -1.5625 C 4.269531 -1.164062 4.117188 -0.84375 3.921875 -0.59375 C 3.734375 -0.351562 3.507812 -0.179688 3.25 -0.078125 C 3 0.0234375 2.726562 0.078125 2.4375 0.078125 C 2.144531 0.078125 1.867188 0.0234375 1.609375 -0.078125 C 1.359375 -0.179688 1.140625 -0.351562 0.953125 -0.59375 C 0.765625 -0.84375 0.613281 -1.164062 0.5 -1.5625 C 0.394531 -1.957031 0.34375 -2.445312 0.34375 -3.03125 C 0.34375 -3.632812 0.394531 -4.132812 0.5 -4.53125 C 0.613281 -4.9375 0.765625 -5.257812 0.953125 -5.5 C 1.140625 -5.738281 1.359375 -5.90625 1.609375 -6 C 1.867188 -6.09375 2.15625 -6.140625 2.46875 -6.140625 C 2.75 -6.140625 3.015625 -6.09375 3.265625 -6 C 3.523438 -5.90625 3.75 -5.738281 3.9375 -5.5 C 4.125 -5.257812 4.269531 -4.9375 4.375 -4.53125 C 4.488281 -4.132812 4.546875 -3.632812 4.546875 -3.03125 Z M 3.765625 -3.03125 C 3.765625 -3.507812 3.734375 -3.90625 3.671875 -4.21875 C 3.617188 -4.539062 3.535156 -4.796875 3.421875 -4.984375 C 3.304688 -5.179688 3.164062 -5.316406 3 -5.390625 C 2.84375 -5.472656 2.664062 -5.515625 2.46875 -5.515625 C 2.25 -5.515625 2.054688 -5.472656 1.890625 -5.390625 C 1.722656 -5.316406 1.582031 -5.179688 1.46875 -4.984375 C 1.351562 -4.796875 1.265625 -4.539062 1.203125 -4.21875 C 1.148438 -3.90625 1.125 -3.507812 1.125 -3.03125 C 1.125 -2.5625 1.148438 -2.164062 1.203125 -1.84375 C 1.265625 -1.53125 1.351562 -1.273438 1.46875 -1.078125 C 1.582031 -0.890625 1.71875 -0.753906 1.875 -0.671875 C 2.039062 -0.585938 2.226562 -0.546875 2.4375 -0.546875 C 2.644531 -0.546875 2.828125 -0.585938 2.984375 -0.671875 C 3.148438 -0.753906 3.289062 -0.890625 3.40625 -1.078125 C 3.519531 -1.273438 3.609375 -1.53125 3.671875 -1.84375 C 3.734375 -2.164062 3.765625 -2.5625 3.765625 -3.03125 Z M 3.765625 -3.03125 \"/>\n",
       "</g>\n",
       "<g id=\"glyph-0-1\">\n",
       "<path d=\"M 0.671875 0 L 0.671875 -0.65625 L 2.21875 -0.65625 L 2.21875 -5.3125 L 0.84375 -4.34375 L 0.84375 -5.0625 L 2.28125 -6.046875 L 2.984375 -6.046875 L 2.984375 -0.65625 L 4.46875 -0.65625 L 4.46875 0 Z M 0.671875 0 \"/>\n",
       "</g>\n",
       "<g id=\"glyph-0-2\">\n",
       "<path d=\"M 0.4375 0 L 0.4375 -0.546875 C 0.582031 -0.878906 0.757812 -1.171875 0.96875 -1.421875 C 1.1875 -1.679688 1.410156 -1.914062 1.640625 -2.125 C 1.867188 -2.332031 2.097656 -2.523438 2.328125 -2.703125 C 2.554688 -2.878906 2.757812 -3.054688 2.9375 -3.234375 C 3.125 -3.410156 3.273438 -3.597656 3.390625 -3.796875 C 3.503906 -3.992188 3.5625 -4.210938 3.5625 -4.453125 C 3.5625 -4.628906 3.535156 -4.78125 3.484375 -4.90625 C 3.429688 -5.039062 3.351562 -5.148438 3.25 -5.234375 C 3.15625 -5.328125 3.039062 -5.394531 2.90625 -5.4375 C 2.769531 -5.476562 2.617188 -5.5 2.453125 -5.5 C 2.296875 -5.5 2.148438 -5.476562 2.015625 -5.4375 C 1.878906 -5.394531 1.757812 -5.332031 1.65625 -5.25 C 1.550781 -5.164062 1.460938 -5.054688 1.390625 -4.921875 C 1.328125 -4.796875 1.285156 -4.648438 1.265625 -4.484375 L 0.484375 -4.5625 C 0.503906 -4.78125 0.5625 -4.984375 0.65625 -5.171875 C 0.75 -5.359375 0.878906 -5.523438 1.046875 -5.671875 C 1.210938 -5.816406 1.410156 -5.929688 1.640625 -6.015625 C 1.878906 -6.097656 2.148438 -6.140625 2.453125 -6.140625 C 2.753906 -6.140625 3.019531 -6.101562 3.25 -6.03125 C 3.488281 -5.957031 3.6875 -5.847656 3.84375 -5.703125 C 4.007812 -5.566406 4.132812 -5.394531 4.21875 -5.1875 C 4.3125 -4.988281 4.359375 -4.753906 4.359375 -4.484375 C 4.359375 -4.273438 4.320312 -4.078125 4.25 -3.890625 C 4.175781 -3.710938 4.078125 -3.539062 3.953125 -3.375 C 3.828125 -3.207031 3.6875 -3.046875 3.53125 -2.890625 C 3.375 -2.742188 3.207031 -2.59375 3.03125 -2.4375 C 2.851562 -2.289062 2.675781 -2.144531 2.5 -2 C 2.320312 -1.863281 2.15625 -1.722656 2 -1.578125 C 1.84375 -1.429688 1.703125 -1.28125 1.578125 -1.125 C 1.453125 -0.976562 1.359375 -0.820312 1.296875 -0.65625 L 4.453125 -0.65625 L 4.453125 0 Z M 0.4375 0 \"/>\n",
       "</g>\n",
       "<g id=\"glyph-0-3\">\n",
       "<path d=\"M 0.796875 0 L 0.796875 -0.9375 L 1.640625 -0.9375 L 1.640625 0 Z M 0.796875 0 \"/>\n",
       "</g>\n",
       "<g id=\"glyph-0-4\">\n",
       "<path d=\"M 4.515625 -1.96875 C 4.515625 -1.664062 4.46875 -1.390625 4.375 -1.140625 C 4.289062 -0.890625 4.15625 -0.671875 3.96875 -0.484375 C 3.789062 -0.304688 3.566406 -0.164062 3.296875 -0.0625 C 3.035156 0.03125 2.726562 0.078125 2.375 0.078125 C 2.0625 0.078125 1.785156 0.0390625 1.546875 -0.03125 C 1.304688 -0.101562 1.101562 -0.203125 0.9375 -0.328125 C 0.78125 -0.460938 0.648438 -0.613281 0.546875 -0.78125 C 0.453125 -0.957031 0.390625 -1.148438 0.359375 -1.359375 L 1.140625 -1.4375 C 1.171875 -1.320312 1.210938 -1.210938 1.265625 -1.109375 C 1.328125 -1.003906 1.40625 -0.910156 1.5 -0.828125 C 1.601562 -0.742188 1.722656 -0.675781 1.859375 -0.625 C 2.003906 -0.570312 2.179688 -0.546875 2.390625 -0.546875 C 2.585938 -0.546875 2.769531 -0.578125 2.9375 -0.640625 C 3.101562 -0.703125 3.242188 -0.789062 3.359375 -0.90625 C 3.472656 -1.03125 3.5625 -1.175781 3.625 -1.34375 C 3.6875 -1.519531 3.71875 -1.722656 3.71875 -1.953125 C 3.71875 -2.140625 3.6875 -2.3125 3.625 -2.46875 C 3.570312 -2.625 3.488281 -2.757812 3.375 -2.875 C 3.257812 -2.988281 3.117188 -3.078125 2.953125 -3.140625 C 2.796875 -3.203125 2.613281 -3.234375 2.40625 -3.234375 C 2.28125 -3.234375 2.160156 -3.21875 2.046875 -3.1875 C 1.941406 -3.164062 1.84375 -3.132812 1.75 -3.09375 C 1.65625 -3.0625 1.570312 -3.015625 1.5 -2.953125 C 1.425781 -2.898438 1.351562 -2.847656 1.28125 -2.796875 L 0.53125 -2.796875 L 0.734375 -6.046875 L 4.171875 -6.046875 L 4.171875 -5.390625 L 1.4375 -5.390625 L 1.3125 -3.46875 C 1.457031 -3.582031 1.628906 -3.675781 1.828125 -3.75 C 2.035156 -3.820312 2.28125 -3.859375 2.5625 -3.859375 C 2.863281 -3.859375 3.132812 -3.8125 3.375 -3.71875 C 3.613281 -3.632812 3.816406 -3.503906 3.984375 -3.328125 C 4.160156 -3.160156 4.289062 -2.960938 4.375 -2.734375 C 4.46875 -2.503906 4.515625 -2.25 4.515625 -1.96875 Z M 4.515625 -1.96875 \"/>\n",
       "</g>\n",
       "<g id=\"glyph-0-5\">\n",
       "<path d=\"M 4.453125 -5.421875 C 4.148438 -4.960938 3.867188 -4.515625 3.609375 -4.078125 C 3.359375 -3.648438 3.140625 -3.21875 2.953125 -2.78125 C 2.773438 -2.351562 2.632812 -1.910156 2.53125 -1.453125 C 2.425781 -0.992188 2.375 -0.507812 2.375 0 L 1.5625 0 C 1.5625 -0.476562 1.617188 -0.953125 1.734375 -1.421875 C 1.847656 -1.890625 2.003906 -2.347656 2.203125 -2.796875 C 2.398438 -3.242188 2.625 -3.679688 2.875 -4.109375 C 3.132812 -4.546875 3.410156 -4.972656 3.703125 -5.390625 L 0.453125 -5.390625 L 0.453125 -6.046875 L 4.453125 -6.046875 Z M 4.453125 -5.421875 \"/>\n",
       "</g>\n",
       "<g id=\"glyph-1-0\">\n",
       "<path d=\"M 5.65625 -2.9375 C 5.65625 -2.488281 5.617188 -2.078125 5.546875 -1.703125 C 5.472656 -1.335938 5.351562 -1.019531 5.1875 -0.75 C 5.019531 -0.476562 4.800781 -0.265625 4.53125 -0.109375 C 4.257812 0.0351562 3.921875 0.109375 3.515625 0.109375 C 3.097656 0.109375 2.734375 0.03125 2.421875 -0.125 C 2.109375 -0.28125 1.875 -0.539062 1.71875 -0.90625 L 1.6875 -0.90625 C 1.6875 -0.894531 1.6875 -0.859375 1.6875 -0.796875 C 1.695312 -0.742188 1.703125 -0.675781 1.703125 -0.59375 C 1.703125 -0.507812 1.703125 -0.410156 1.703125 -0.296875 C 1.703125 -0.191406 1.703125 -0.0859375 1.703125 0.015625 L 1.703125 2.28125 L 0.734375 2.28125 L 0.734375 -4.625 C 0.734375 -4.757812 0.734375 -4.890625 0.734375 -5.015625 C 0.734375 -5.148438 0.726562 -5.269531 0.71875 -5.375 C 0.71875 -5.476562 0.71875 -5.566406 0.71875 -5.640625 C 0.71875 -5.722656 0.710938 -5.78125 0.703125 -5.8125 L 1.640625 -5.8125 C 1.648438 -5.800781 1.65625 -5.765625 1.65625 -5.703125 C 1.664062 -5.640625 1.671875 -5.5625 1.671875 -5.46875 C 1.679688 -5.375 1.6875 -5.273438 1.6875 -5.171875 C 1.695312 -5.066406 1.703125 -4.96875 1.703125 -4.875 L 1.71875 -4.875 C 1.8125 -5.0625 1.914062 -5.21875 2.03125 -5.34375 C 2.144531 -5.476562 2.273438 -5.585938 2.421875 -5.671875 C 2.566406 -5.753906 2.726562 -5.8125 2.90625 -5.84375 C 3.09375 -5.882812 3.296875 -5.90625 3.515625 -5.90625 C 3.921875 -5.90625 4.257812 -5.832031 4.53125 -5.6875 C 4.800781 -5.550781 5.019531 -5.351562 5.1875 -5.09375 C 5.351562 -4.832031 5.472656 -4.519531 5.546875 -4.15625 C 5.617188 -3.789062 5.65625 -3.382812 5.65625 -2.9375 Z M 4.640625 -2.90625 C 4.640625 -3.269531 4.617188 -3.585938 4.578125 -3.859375 C 4.535156 -4.140625 4.457031 -4.375 4.34375 -4.5625 C 4.238281 -4.757812 4.097656 -4.910156 3.921875 -5.015625 C 3.753906 -5.117188 3.535156 -5.171875 3.265625 -5.171875 C 3.054688 -5.171875 2.851562 -5.140625 2.65625 -5.078125 C 2.46875 -5.015625 2.300781 -4.894531 2.15625 -4.71875 C 2.019531 -4.550781 1.910156 -4.316406 1.828125 -4.015625 C 1.742188 -3.710938 1.703125 -3.320312 1.703125 -2.84375 C 1.703125 -2.425781 1.734375 -2.070312 1.796875 -1.78125 C 1.867188 -1.5 1.96875 -1.269531 2.09375 -1.09375 C 2.226562 -0.925781 2.394531 -0.800781 2.59375 -0.71875 C 2.789062 -0.644531 3.015625 -0.609375 3.265625 -0.609375 C 3.523438 -0.609375 3.742188 -0.660156 3.921875 -0.765625 C 4.097656 -0.867188 4.238281 -1.019531 4.34375 -1.21875 C 4.457031 -1.414062 4.535156 -1.65625 4.578125 -1.9375 C 4.617188 -2.21875 4.640625 -2.539062 4.640625 -2.90625 Z M 4.640625 -2.90625 \"/>\n",
       "</g>\n",
       "<g id=\"glyph-1-1\">\n",
       "<path d=\"M 3.296875 0 L 2.15625 0 L 0.03125 -5.8125 L 1.0625 -5.8125 L 2.34375 -2.03125 C 2.375 -1.945312 2.40625 -1.847656 2.4375 -1.734375 C 2.46875 -1.628906 2.5 -1.515625 2.53125 -1.390625 C 2.570312 -1.265625 2.609375 -1.144531 2.640625 -1.03125 C 2.671875 -0.925781 2.695312 -0.832031 2.71875 -0.75 C 2.738281 -0.832031 2.765625 -0.925781 2.796875 -1.03125 C 2.835938 -1.144531 2.875 -1.257812 2.90625 -1.375 C 2.9375 -1.5 2.972656 -1.617188 3.015625 -1.734375 C 3.054688 -1.847656 3.085938 -1.941406 3.109375 -2.015625 L 4.4375 -5.8125 L 5.46875 -5.8125 Z M 3.296875 0 \"/>\n",
       "</g>\n",
       "<g id=\"glyph-1-2\">\n",
       "<path d=\"M 2.21875 0.109375 C 1.632812 0.109375 1.195312 -0.0390625 0.90625 -0.34375 C 0.613281 -0.65625 0.46875 -1.082031 0.46875 -1.625 C 0.46875 -2.007812 0.539062 -2.320312 0.6875 -2.5625 C 0.832031 -2.8125 1.019531 -3.003906 1.25 -3.140625 C 1.488281 -3.285156 1.757812 -3.382812 2.0625 -3.4375 C 2.363281 -3.488281 2.664062 -3.519531 2.96875 -3.53125 L 4.28125 -3.546875 L 4.28125 -3.859375 C 4.28125 -4.097656 4.253906 -4.300781 4.203125 -4.46875 C 4.148438 -4.644531 4.070312 -4.78125 3.96875 -4.875 C 3.863281 -4.976562 3.734375 -5.054688 3.578125 -5.109375 C 3.429688 -5.160156 3.25 -5.1875 3.03125 -5.1875 C 2.84375 -5.1875 2.671875 -5.171875 2.515625 -5.140625 C 2.367188 -5.117188 2.238281 -5.070312 2.125 -5 C 2.019531 -4.925781 1.929688 -4.828125 1.859375 -4.703125 C 1.796875 -4.585938 1.753906 -4.441406 1.734375 -4.265625 L 0.71875 -4.34375 C 0.757812 -4.570312 0.828125 -4.78125 0.921875 -4.96875 C 1.023438 -5.164062 1.171875 -5.332031 1.359375 -5.46875 C 1.546875 -5.613281 1.773438 -5.722656 2.046875 -5.796875 C 2.328125 -5.878906 2.664062 -5.921875 3.0625 -5.921875 C 3.789062 -5.921875 4.335938 -5.753906 4.703125 -5.421875 C 5.078125 -5.085938 5.265625 -4.601562 5.265625 -3.96875 L 5.265625 -1.46875 C 5.265625 -1.175781 5.300781 -0.957031 5.375 -0.8125 C 5.445312 -0.664062 5.585938 -0.59375 5.796875 -0.59375 C 5.847656 -0.59375 5.898438 -0.597656 5.953125 -0.609375 C 6.015625 -0.617188 6.070312 -0.628906 6.125 -0.640625 L 6.125 -0.03125 C 6 0 5.875 0.0195312 5.75 0.03125 C 5.632812 0.0390625 5.507812 0.046875 5.375 0.046875 C 5.1875 0.046875 5.023438 0.0234375 4.890625 -0.015625 C 4.765625 -0.0664062 4.660156 -0.140625 4.578125 -0.234375 C 4.492188 -0.335938 4.429688 -0.460938 4.390625 -0.609375 C 4.347656 -0.753906 4.320312 -0.921875 4.3125 -1.109375 L 4.28125 -1.109375 C 4.175781 -0.921875 4.0625 -0.75 3.9375 -0.59375 C 3.8125 -0.445312 3.664062 -0.320312 3.5 -0.21875 C 3.34375 -0.113281 3.15625 -0.0351562 2.9375 0.015625 C 2.726562 0.078125 2.488281 0.109375 2.21875 0.109375 Z M 2.4375 -0.625 C 2.75 -0.625 3.019531 -0.675781 3.25 -0.78125 C 3.476562 -0.894531 3.671875 -1.039062 3.828125 -1.21875 C 3.984375 -1.394531 4.097656 -1.585938 4.171875 -1.796875 C 4.242188 -2.003906 4.28125 -2.203125 4.28125 -2.390625 L 4.28125 -2.875 L 3.21875 -2.84375 C 2.988281 -2.84375 2.765625 -2.828125 2.546875 -2.796875 C 2.335938 -2.765625 2.148438 -2.703125 1.984375 -2.609375 C 1.828125 -2.523438 1.703125 -2.398438 1.609375 -2.234375 C 1.515625 -2.078125 1.46875 -1.867188 1.46875 -1.609375 C 1.46875 -1.296875 1.550781 -1.050781 1.71875 -0.875 C 1.882812 -0.707031 2.125 -0.625 2.4375 -0.625 Z M 2.4375 -0.625 \"/>\n",
       "</g>\n",
       "<g id=\"glyph-1-3\">\n",
       "<path d=\"M 0.734375 0 L 0.734375 -7.96875 L 1.703125 -7.96875 L 1.703125 0 Z M 0.734375 0 \"/>\n",
       "</g>\n",
       "<g id=\"glyph-1-4\">\n",
       "<path d=\"M 1.6875 -5.8125 L 1.6875 -2.125 C 1.6875 -1.84375 1.707031 -1.609375 1.75 -1.421875 C 1.789062 -1.234375 1.859375 -1.078125 1.953125 -0.953125 C 2.046875 -0.835938 2.164062 -0.753906 2.3125 -0.703125 C 2.46875 -0.660156 2.660156 -0.640625 2.890625 -0.640625 C 3.117188 -0.640625 3.320312 -0.675781 3.5 -0.75 C 3.6875 -0.832031 3.84375 -0.953125 3.96875 -1.109375 C 4.101562 -1.265625 4.207031 -1.453125 4.28125 -1.671875 C 4.351562 -1.898438 4.390625 -2.15625 4.390625 -2.4375 L 4.390625 -5.8125 L 5.359375 -5.8125 L 5.359375 -1.234375 C 5.359375 -1.117188 5.359375 -0.992188 5.359375 -0.859375 C 5.359375 -0.722656 5.359375 -0.59375 5.359375 -0.46875 C 5.367188 -0.351562 5.375 -0.25 5.375 -0.15625 C 5.375 -0.0703125 5.378906 -0.0195312 5.390625 0 L 4.46875 0 C 4.46875 -0.0195312 4.460938 -0.0664062 4.453125 -0.140625 C 4.453125 -0.222656 4.445312 -0.3125 4.4375 -0.40625 C 4.4375 -0.507812 4.4375 -0.613281 4.4375 -0.71875 C 4.4375 -0.832031 4.4375 -0.925781 4.4375 -1 L 4.421875 -1 C 4.328125 -0.820312 4.222656 -0.664062 4.109375 -0.53125 C 3.992188 -0.394531 3.863281 -0.28125 3.71875 -0.1875 C 3.570312 -0.09375 3.40625 -0.0195312 3.21875 0.03125 C 3.03125 0.0820312 2.8125 0.109375 2.5625 0.109375 C 2.238281 0.109375 1.957031 0.0703125 1.71875 0 C 1.488281 -0.0820312 1.296875 -0.207031 1.140625 -0.375 C 0.992188 -0.539062 0.882812 -0.75 0.8125 -1 C 0.75 -1.257812 0.71875 -1.570312 0.71875 -1.9375 L 0.71875 -5.8125 Z M 1.6875 -5.8125 \"/>\n",
       "</g>\n",
       "<g id=\"glyph-1-5\">\n",
       "<path d=\"M 1.484375 -2.703125 C 1.484375 -2.398438 1.515625 -2.117188 1.578125 -1.859375 C 1.640625 -1.609375 1.734375 -1.390625 1.859375 -1.203125 C 1.992188 -1.015625 2.160156 -0.867188 2.359375 -0.765625 C 2.566406 -0.671875 2.816406 -0.625 3.109375 -0.625 C 3.523438 -0.625 3.859375 -0.707031 4.109375 -0.875 C 4.359375 -1.039062 4.53125 -1.253906 4.625 -1.515625 L 5.46875 -1.265625 C 5.40625 -1.109375 5.316406 -0.945312 5.203125 -0.78125 C 5.097656 -0.613281 4.953125 -0.460938 4.765625 -0.328125 C 4.585938 -0.203125 4.363281 -0.0976562 4.09375 -0.015625 C 3.820312 0.0664062 3.492188 0.109375 3.109375 0.109375 C 2.242188 0.109375 1.585938 -0.144531 1.140625 -0.65625 C 0.691406 -1.164062 0.46875 -1.925781 0.46875 -2.9375 C 0.46875 -3.488281 0.535156 -3.953125 0.671875 -4.328125 C 0.804688 -4.703125 0.988281 -5.007812 1.21875 -5.25 C 1.457031 -5.488281 1.734375 -5.660156 2.046875 -5.765625 C 2.367188 -5.867188 2.707031 -5.921875 3.0625 -5.921875 C 3.550781 -5.921875 3.957031 -5.84375 4.28125 -5.6875 C 4.613281 -5.53125 4.878906 -5.3125 5.078125 -5.03125 C 5.273438 -4.75 5.414062 -4.421875 5.5 -4.046875 C 5.582031 -3.671875 5.625 -3.265625 5.625 -2.828125 L 5.625 -2.703125 Z M 4.625 -3.4375 C 4.570312 -4.050781 4.414062 -4.5 4.15625 -4.78125 C 3.90625 -5.0625 3.535156 -5.203125 3.046875 -5.203125 C 2.890625 -5.203125 2.722656 -5.175781 2.546875 -5.125 C 2.367188 -5.070312 2.203125 -4.976562 2.046875 -4.84375 C 1.898438 -4.71875 1.773438 -4.539062 1.671875 -4.3125 C 1.566406 -4.082031 1.507812 -3.789062 1.5 -3.4375 Z M 4.625 -3.4375 \"/>\n",
       "</g>\n",
       "<g id=\"glyph-2-0\">\n",
       "<path d=\"M -6.84375 -4.25 C -6.84375 -3.820312 -6.769531 -3.441406 -6.625 -3.109375 C -6.476562 -2.773438 -6.273438 -2.492188 -6.015625 -2.265625 C -5.753906 -2.046875 -5.4375 -1.878906 -5.0625 -1.765625 C -4.6875 -1.648438 -4.269531 -1.59375 -3.8125 -1.59375 C -3.363281 -1.59375 -2.945312 -1.65625 -2.5625 -1.78125 C -2.1875 -1.90625 -1.863281 -2.082031 -1.59375 -2.3125 C -1.320312 -2.550781 -1.109375 -2.835938 -0.953125 -3.171875 C -0.804688 -3.503906 -0.734375 -3.878906 -0.734375 -4.296875 C -0.734375 -4.585938 -0.769531 -4.851562 -0.84375 -5.09375 C -0.925781 -5.34375 -1.035156 -5.5625 -1.171875 -5.75 C -1.316406 -5.945312 -1.484375 -6.125 -1.671875 -6.28125 C -1.859375 -6.4375 -2.070312 -6.570312 -2.3125 -6.6875 L -1.890625 -7.53125 C -1.609375 -7.394531 -1.34375 -7.222656 -1.09375 -7.015625 C -0.851562 -6.816406 -0.644531 -6.582031 -0.46875 -6.3125 C -0.289062 -6.039062 -0.148438 -5.734375 -0.046875 -5.390625 C 0.0546875 -5.046875 0.109375 -4.664062 0.109375 -4.25 C 0.109375 -3.632812 0.0078125 -3.097656 -0.1875 -2.640625 C -0.382812 -2.179688 -0.65625 -1.796875 -1 -1.484375 C -1.351562 -1.171875 -1.769531 -0.9375 -2.25 -0.78125 C -2.726562 -0.632812 -3.25 -0.5625 -3.8125 -0.5625 C -4.40625 -0.5625 -4.941406 -0.640625 -5.421875 -0.796875 C -5.898438 -0.960938 -6.304688 -1.203125 -6.640625 -1.515625 C -6.972656 -1.828125 -7.226562 -2.210938 -7.40625 -2.671875 C -7.59375 -3.128906 -7.6875 -3.65625 -7.6875 -4.25 C -7.6875 -5.050781 -7.523438 -5.722656 -7.203125 -6.265625 C -6.890625 -6.804688 -6.425781 -7.203125 -5.8125 -7.453125 L -5.484375 -6.484375 C -5.660156 -6.410156 -5.828125 -6.3125 -5.984375 -6.1875 C -6.148438 -6.070312 -6.296875 -5.921875 -6.421875 -5.734375 C -6.554688 -5.554688 -6.660156 -5.34375 -6.734375 -5.09375 C -6.804688 -4.851562 -6.84375 -4.570312 -6.84375 -4.25 Z M -6.84375 -4.25 \"/>\n",
       "</g>\n",
       "<g id=\"glyph-2-1\">\n",
       "<path d=\"M -2.90625 -5.65625 C -1.894531 -5.65625 -1.140625 -5.429688 -0.640625 -4.984375 C -0.140625 -4.535156 0.109375 -3.882812 0.109375 -3.03125 C 0.109375 -2.625 0.046875 -2.257812 -0.078125 -1.9375 C -0.203125 -1.625 -0.390625 -1.359375 -0.640625 -1.140625 C -0.890625 -0.921875 -1.203125 -0.753906 -1.578125 -0.640625 C -1.953125 -0.523438 -2.394531 -0.46875 -2.90625 -0.46875 C -4.914062 -0.46875 -5.921875 -1.332031 -5.921875 -3.0625 C -5.921875 -3.519531 -5.859375 -3.910156 -5.734375 -4.234375 C -5.609375 -4.566406 -5.421875 -4.835938 -5.171875 -5.046875 C -4.921875 -5.253906 -4.601562 -5.40625 -4.21875 -5.5 C -3.84375 -5.601562 -3.40625 -5.65625 -2.90625 -5.65625 Z M -2.90625 -4.640625 C -3.363281 -4.640625 -3.738281 -4.601562 -4.03125 -4.53125 C -4.320312 -4.46875 -4.554688 -4.367188 -4.734375 -4.234375 C -4.910156 -4.097656 -5.03125 -3.929688 -5.09375 -3.734375 C -5.164062 -3.546875 -5.203125 -3.328125 -5.203125 -3.078125 C -5.203125 -2.835938 -5.164062 -2.613281 -5.09375 -2.40625 C -5.019531 -2.207031 -4.894531 -2.039062 -4.71875 -1.90625 C -4.539062 -1.769531 -4.304688 -1.664062 -4.015625 -1.59375 C -3.722656 -1.519531 -3.351562 -1.484375 -2.90625 -1.484375 C -2.457031 -1.484375 -2.082031 -1.519531 -1.78125 -1.59375 C -1.488281 -1.675781 -1.253906 -1.785156 -1.078125 -1.921875 C -0.910156 -2.054688 -0.789062 -2.21875 -0.71875 -2.40625 C -0.644531 -2.59375 -0.609375 -2.800781 -0.609375 -3.03125 C -0.609375 -3.269531 -0.640625 -3.488281 -0.703125 -3.6875 C -0.773438 -3.894531 -0.898438 -4.066406 -1.078125 -4.203125 C -1.253906 -4.347656 -1.488281 -4.457031 -1.78125 -4.53125 C -2.082031 -4.601562 -2.457031 -4.640625 -2.90625 -4.640625 Z M -2.90625 -4.640625 \"/>\n",
       "</g>\n",
       "<g id=\"glyph-2-2\">\n",
       "<path d=\"M -5.8125 -1.6875 L -2.125 -1.6875 C -1.84375 -1.6875 -1.609375 -1.707031 -1.421875 -1.75 C -1.234375 -1.789062 -1.078125 -1.859375 -0.953125 -1.953125 C -0.835938 -2.046875 -0.753906 -2.164062 -0.703125 -2.3125 C -0.660156 -2.46875 -0.640625 -2.660156 -0.640625 -2.890625 C -0.640625 -3.117188 -0.675781 -3.320312 -0.75 -3.5 C -0.832031 -3.6875 -0.953125 -3.84375 -1.109375 -3.96875 C -1.265625 -4.101562 -1.453125 -4.207031 -1.671875 -4.28125 C -1.898438 -4.351562 -2.15625 -4.390625 -2.4375 -4.390625 L -5.8125 -4.390625 L -5.8125 -5.359375 L -1.234375 -5.359375 C -1.117188 -5.359375 -0.992188 -5.359375 -0.859375 -5.359375 C -0.722656 -5.359375 -0.59375 -5.359375 -0.46875 -5.359375 C -0.351562 -5.367188 -0.25 -5.375 -0.15625 -5.375 C -0.0703125 -5.375 -0.0195312 -5.378906 0 -5.390625 L 0 -4.46875 C -0.0195312 -4.46875 -0.0664062 -4.460938 -0.140625 -4.453125 C -0.222656 -4.453125 -0.3125 -4.445312 -0.40625 -4.4375 C -0.507812 -4.4375 -0.613281 -4.4375 -0.71875 -4.4375 C -0.832031 -4.4375 -0.925781 -4.4375 -1 -4.4375 L -1 -4.421875 C -0.820312 -4.328125 -0.664062 -4.222656 -0.53125 -4.109375 C -0.394531 -3.992188 -0.28125 -3.863281 -0.1875 -3.71875 C -0.09375 -3.570312 -0.0195312 -3.40625 0.03125 -3.21875 C 0.0820312 -3.03125 0.109375 -2.8125 0.109375 -2.5625 C 0.109375 -2.238281 0.0703125 -1.957031 0 -1.71875 C -0.0820312 -1.488281 -0.207031 -1.296875 -0.375 -1.140625 C -0.539062 -0.992188 -0.75 -0.882812 -1 -0.8125 C -1.257812 -0.75 -1.570312 -0.71875 -1.9375 -0.71875 L -5.8125 -0.71875 Z M -5.8125 -1.6875 \"/>\n",
       "</g>\n",
       "<g id=\"glyph-2-3\">\n",
       "<path d=\"M 0 -4.4375 L -3.6875 -4.4375 C -3.96875 -4.4375 -4.203125 -4.414062 -4.390625 -4.375 C -4.578125 -4.332031 -4.726562 -4.265625 -4.84375 -4.171875 C -4.96875 -4.078125 -5.050781 -3.953125 -5.09375 -3.796875 C -5.144531 -3.648438 -5.171875 -3.460938 -5.171875 -3.234375 C -5.171875 -3.003906 -5.128906 -2.796875 -5.046875 -2.609375 C -4.972656 -2.429688 -4.859375 -2.273438 -4.703125 -2.140625 C -4.546875 -2.003906 -4.351562 -1.898438 -4.125 -1.828125 C -3.90625 -1.765625 -3.65625 -1.734375 -3.375 -1.734375 L 0 -1.734375 L 0 -0.765625 L -4.578125 -0.765625 C -4.691406 -0.765625 -4.816406 -0.757812 -4.953125 -0.75 C -5.085938 -0.75 -5.210938 -0.75 -5.328125 -0.75 C -5.453125 -0.75 -5.554688 -0.742188 -5.640625 -0.734375 C -5.734375 -0.734375 -5.789062 -0.734375 -5.8125 -0.734375 L -5.8125 -1.640625 C -5.789062 -1.648438 -5.738281 -1.65625 -5.65625 -1.65625 C -5.582031 -1.65625 -5.492188 -1.65625 -5.390625 -1.65625 C -5.296875 -1.664062 -5.191406 -1.671875 -5.078125 -1.671875 C -4.972656 -1.679688 -4.882812 -1.6875 -4.8125 -1.6875 L -4.8125 -1.703125 C -4.988281 -1.796875 -5.144531 -1.894531 -5.28125 -2 C -5.414062 -2.113281 -5.53125 -2.242188 -5.625 -2.390625 C -5.71875 -2.535156 -5.789062 -2.703125 -5.84375 -2.890625 C -5.894531 -3.085938 -5.921875 -3.3125 -5.921875 -3.5625 C -5.921875 -3.882812 -5.878906 -4.160156 -5.796875 -4.390625 C -5.722656 -4.628906 -5.601562 -4.820312 -5.4375 -4.96875 C -5.269531 -5.113281 -5.054688 -5.222656 -4.796875 -5.296875 C -4.535156 -5.367188 -4.226562 -5.40625 -3.875 -5.40625 L 0 -5.40625 Z M 0 -4.4375 \"/>\n",
       "</g>\n",
       "<g id=\"glyph-2-4\">\n",
       "<path d=\"M -0.046875 -2.96875 C -0.00390625 -2.820312 0.0234375 -2.671875 0.046875 -2.515625 C 0.078125 -2.367188 0.09375 -2.195312 0.09375 -2 C 0.09375 -1.226562 -0.347656 -0.84375 -1.234375 -0.84375 L -5.109375 -0.84375 L -5.109375 -0.171875 L -5.8125 -0.171875 L -5.8125 -0.875 L -7.109375 -1.15625 L -7.109375 -1.8125 L -5.8125 -1.8125 L -5.8125 -2.875 L -5.109375 -2.875 L -5.109375 -1.8125 L -1.4375 -1.8125 C -1.15625 -1.8125 -0.957031 -1.851562 -0.84375 -1.9375 C -0.738281 -2.03125 -0.6875 -2.191406 -0.6875 -2.421875 C -0.6875 -2.515625 -0.691406 -2.601562 -0.703125 -2.6875 C -0.710938 -2.769531 -0.726562 -2.863281 -0.75 -2.96875 Z M -0.046875 -2.96875 \"/>\n",
       "</g>\n",
       "<g id=\"glyph-3-0\">\n",
       "<path d=\"M 2.3125 -8.078125 L 2.3125 -4.703125 L 7.375 -4.703125 L 7.375 -3.6875 L 2.3125 -3.6875 L 2.3125 0 L 1.078125 0 L 1.078125 -9.078125 L 7.53125 -9.078125 L 7.53125 -8.078125 Z M 2.3125 -8.078125 \"/>\n",
       "</g>\n",
       "<g id=\"glyph-3-1\">\n",
       "<path d=\"M 0.59375 -2.984375 L 0.59375 -4.015625 L 3.8125 -4.015625 L 3.8125 -2.984375 Z M 0.59375 -2.984375 \"/>\n",
       "</g>\n",
       "<g id=\"glyph-3-2\">\n",
       "<path d=\"M 3.578125 -0.046875 C 3.398438 -0.00390625 3.21875 0.03125 3.03125 0.0625 C 2.851562 0.09375 2.640625 0.109375 2.390625 0.109375 C 1.460938 0.109375 1 -0.414062 1 -1.46875 L 1 -6.125 L 0.203125 -6.125 L 0.203125 -6.96875 L 1.046875 -6.96875 L 1.390625 -8.53125 L 2.171875 -8.53125 L 2.171875 -6.96875 L 3.453125 -6.96875 L 3.453125 -6.125 L 2.171875 -6.125 L 2.171875 -1.734375 C 2.171875 -1.390625 2.222656 -1.148438 2.328125 -1.015625 C 2.441406 -0.878906 2.632812 -0.8125 2.90625 -0.8125 C 3.007812 -0.8125 3.113281 -0.820312 3.21875 -0.84375 C 3.332031 -0.863281 3.453125 -0.882812 3.578125 -0.90625 Z M 3.578125 -0.046875 \"/>\n",
       "</g>\n",
       "<g id=\"glyph-3-3\">\n",
       "<path d=\"M 1.78125 -3.25 C 1.78125 -2.875 1.816406 -2.53125 1.890625 -2.21875 C 1.960938 -1.914062 2.078125 -1.65625 2.234375 -1.4375 C 2.390625 -1.21875 2.585938 -1.046875 2.828125 -0.921875 C 3.078125 -0.796875 3.375 -0.734375 3.71875 -0.734375 C 4.226562 -0.734375 4.632812 -0.832031 4.9375 -1.03125 C 5.238281 -1.238281 5.441406 -1.5 5.546875 -1.8125 L 6.5625 -1.515625 C 6.488281 -1.328125 6.382812 -1.132812 6.25 -0.9375 C 6.125 -0.738281 5.953125 -0.5625 5.734375 -0.40625 C 5.515625 -0.25 5.238281 -0.117188 4.90625 -0.015625 C 4.582031 0.078125 4.1875 0.125 3.71875 0.125 C 2.6875 0.125 1.898438 -0.179688 1.359375 -0.796875 C 0.828125 -1.410156 0.5625 -2.320312 0.5625 -3.53125 C 0.5625 -4.1875 0.640625 -4.738281 0.796875 -5.1875 C 0.960938 -5.644531 1.1875 -6.015625 1.46875 -6.296875 C 1.757812 -6.578125 2.09375 -6.78125 2.46875 -6.90625 C 2.84375 -7.039062 3.25 -7.109375 3.6875 -7.109375 C 4.269531 -7.109375 4.753906 -7.007812 5.140625 -6.8125 C 5.535156 -6.625 5.851562 -6.363281 6.09375 -6.03125 C 6.332031 -5.695312 6.5 -5.304688 6.59375 -4.859375 C 6.695312 -4.410156 6.75 -3.921875 6.75 -3.390625 L 6.75 -3.25 Z M 5.5625 -4.125 C 5.488281 -4.863281 5.296875 -5.398438 4.984375 -5.734375 C 4.679688 -6.078125 4.238281 -6.25 3.65625 -6.25 C 3.46875 -6.25 3.265625 -6.21875 3.046875 -6.15625 C 2.835938 -6.09375 2.640625 -5.976562 2.453125 -5.8125 C 2.273438 -5.65625 2.125 -5.441406 2 -5.171875 C 1.875 -4.898438 1.804688 -4.550781 1.796875 -4.125 Z M 5.5625 -4.125 \"/>\n",
       "</g>\n",
       "<g id=\"glyph-3-4\">\n",
       "<path d=\"M 6.125 -1.921875 C 6.125 -1.597656 6.0625 -1.304688 5.9375 -1.046875 C 5.8125 -0.796875 5.625 -0.582031 5.375 -0.40625 C 5.132812 -0.226562 4.835938 -0.09375 4.484375 0 C 4.140625 0.0820312 3.742188 0.125 3.296875 0.125 C 2.890625 0.125 2.523438 0.09375 2.203125 0.03125 C 1.878906 -0.03125 1.59375 -0.128906 1.34375 -0.265625 C 1.101562 -0.398438 0.898438 -0.578125 0.734375 -0.796875 C 0.566406 -1.023438 0.445312 -1.304688 0.375 -1.640625 L 1.390625 -1.84375 C 1.492188 -1.46875 1.695312 -1.191406 2 -1.015625 C 2.3125 -0.835938 2.742188 -0.75 3.296875 -0.75 C 3.546875 -0.75 3.773438 -0.765625 3.984375 -0.796875 C 4.191406 -0.835938 4.367188 -0.898438 4.515625 -0.984375 C 4.671875 -1.066406 4.789062 -1.175781 4.875 -1.3125 C 4.957031 -1.457031 5 -1.632812 5 -1.84375 C 5 -2.050781 4.945312 -2.222656 4.84375 -2.359375 C 4.75 -2.492188 4.613281 -2.601562 4.4375 -2.6875 C 4.257812 -2.78125 4.046875 -2.859375 3.796875 -2.921875 C 3.546875 -2.992188 3.269531 -3.070312 2.96875 -3.15625 C 2.6875 -3.226562 2.40625 -3.304688 2.125 -3.390625 C 1.851562 -3.484375 1.609375 -3.601562 1.390625 -3.75 C 1.171875 -3.90625 0.988281 -4.09375 0.84375 -4.3125 C 0.707031 -4.53125 0.640625 -4.800781 0.640625 -5.125 C 0.640625 -5.757812 0.863281 -6.242188 1.3125 -6.578125 C 1.769531 -6.910156 2.4375 -7.078125 3.3125 -7.078125 C 4.082031 -7.078125 4.691406 -6.941406 5.140625 -6.671875 C 5.597656 -6.398438 5.882812 -5.96875 6 -5.375 L 4.953125 -5.25 C 4.921875 -5.425781 4.851562 -5.578125 4.75 -5.703125 C 4.644531 -5.828125 4.519531 -5.925781 4.375 -6 C 4.226562 -6.070312 4.0625 -6.125 3.875 -6.15625 C 3.695312 -6.1875 3.507812 -6.203125 3.3125 -6.203125 C 2.78125 -6.203125 2.390625 -6.125 2.140625 -5.96875 C 1.890625 -5.8125 1.765625 -5.570312 1.765625 -5.25 C 1.765625 -5.0625 1.8125 -4.90625 1.90625 -4.78125 C 2 -4.65625 2.128906 -4.550781 2.296875 -4.46875 C 2.460938 -4.382812 2.660156 -4.3125 2.890625 -4.25 C 3.128906 -4.1875 3.382812 -4.125 3.65625 -4.0625 C 3.84375 -4.007812 4.03125 -3.957031 4.21875 -3.90625 C 4.414062 -3.851562 4.601562 -3.785156 4.78125 -3.703125 C 4.96875 -3.628906 5.140625 -3.539062 5.296875 -3.4375 C 5.460938 -3.34375 5.601562 -3.222656 5.71875 -3.078125 C 5.84375 -2.941406 5.941406 -2.773438 6.015625 -2.578125 C 6.085938 -2.390625 6.125 -2.171875 6.125 -1.921875 Z M 6.125 -1.921875 \"/>\n",
       "</g>\n",
       "<g id=\"glyph-3-5\">\n",
       "</g>\n",
       "<g id=\"glyph-3-6\">\n",
       "<path d=\"M 6.78125 -3.5 C 6.78125 -2.269531 6.507812 -1.359375 5.96875 -0.765625 C 5.4375 -0.171875 4.660156 0.125 3.640625 0.125 C 3.148438 0.125 2.710938 0.0507812 2.328125 -0.09375 C 1.953125 -0.238281 1.628906 -0.460938 1.359375 -0.765625 C 1.097656 -1.066406 0.894531 -1.441406 0.75 -1.890625 C 0.613281 -2.347656 0.546875 -2.882812 0.546875 -3.5 C 0.546875 -5.90625 1.59375 -7.109375 3.6875 -7.109375 C 4.226562 -7.109375 4.691406 -7.03125 5.078125 -6.875 C 5.472656 -6.726562 5.796875 -6.503906 6.046875 -6.203125 C 6.296875 -5.898438 6.476562 -5.519531 6.59375 -5.0625 C 6.71875 -4.613281 6.78125 -4.09375 6.78125 -3.5 Z M 5.5625 -3.5 C 5.5625 -4.039062 5.519531 -4.484375 5.4375 -4.828125 C 5.351562 -5.179688 5.226562 -5.460938 5.0625 -5.671875 C 4.90625 -5.890625 4.710938 -6.039062 4.484375 -6.125 C 4.253906 -6.207031 3.992188 -6.25 3.703125 -6.25 C 3.398438 -6.25 3.128906 -6.203125 2.890625 -6.109375 C 2.660156 -6.023438 2.457031 -5.875 2.28125 -5.65625 C 2.113281 -5.445312 1.984375 -5.164062 1.890625 -4.8125 C 1.804688 -4.457031 1.765625 -4.019531 1.765625 -3.5 C 1.765625 -2.957031 1.8125 -2.507812 1.90625 -2.15625 C 2.007812 -1.800781 2.140625 -1.515625 2.296875 -1.296875 C 2.460938 -1.085938 2.660156 -0.941406 2.890625 -0.859375 C 3.117188 -0.773438 3.363281 -0.734375 3.625 -0.734375 C 3.925781 -0.734375 4.195312 -0.773438 4.4375 -0.859375 C 4.675781 -0.941406 4.878906 -1.085938 5.046875 -1.296875 C 5.210938 -1.503906 5.335938 -1.785156 5.421875 -2.140625 C 5.515625 -2.503906 5.5625 -2.957031 5.5625 -3.5 Z M 5.5625 -3.5 \"/>\n",
       "</g>\n",
       "<g id=\"glyph-3-7\">\n",
       "<path d=\"M 2.328125 -6.125 L 2.328125 0 L 1.171875 0 L 1.171875 -6.125 L 0.1875 -6.125 L 0.1875 -6.96875 L 1.171875 -6.96875 L 1.171875 -7.765625 C 1.171875 -8.015625 1.191406 -8.25 1.234375 -8.46875 C 1.285156 -8.6875 1.375 -8.875 1.5 -9.03125 C 1.625 -9.195312 1.796875 -9.320312 2.015625 -9.40625 C 2.234375 -9.5 2.519531 -9.546875 2.875 -9.546875 C 3.007812 -9.546875 3.148438 -9.539062 3.296875 -9.53125 C 3.441406 -9.519531 3.570312 -9.503906 3.6875 -9.484375 L 3.6875 -8.59375 C 3.613281 -8.601562 3.523438 -8.613281 3.421875 -8.625 C 3.328125 -8.632812 3.242188 -8.640625 3.171875 -8.640625 C 2.992188 -8.640625 2.847656 -8.613281 2.734375 -8.5625 C 2.628906 -8.519531 2.546875 -8.453125 2.484375 -8.359375 C 2.421875 -8.273438 2.378906 -8.171875 2.359375 -8.046875 C 2.335938 -7.921875 2.328125 -7.769531 2.328125 -7.59375 L 2.328125 -6.96875 L 3.6875 -6.96875 L 3.6875 -6.125 Z M 2.328125 -6.125 \"/>\n",
       "</g>\n",
       "<g id=\"glyph-3-8\">\n",
       "<path d=\"M 3.53125 2.734375 C 3.132812 2.734375 2.78125 2.691406 2.46875 2.609375 C 2.15625 2.535156 1.890625 2.421875 1.671875 2.265625 C 1.453125 2.109375 1.273438 1.925781 1.140625 1.71875 C 1.003906 1.507812 0.90625 1.273438 0.84375 1.015625 L 2.015625 0.84375 C 2.085938 1.164062 2.253906 1.414062 2.515625 1.59375 C 2.785156 1.769531 3.132812 1.859375 3.5625 1.859375 C 3.820312 1.859375 4.0625 1.820312 4.28125 1.75 C 4.5 1.675781 4.679688 1.554688 4.828125 1.390625 C 4.972656 1.234375 5.085938 1.023438 5.171875 0.765625 C 5.253906 0.503906 5.296875 0.191406 5.296875 -0.171875 L 5.296875 -1.296875 L 5.28125 -1.296875 C 5.195312 -1.117188 5.09375 -0.945312 4.96875 -0.78125 C 4.84375 -0.625 4.6875 -0.484375 4.5 -0.359375 C 4.320312 -0.234375 4.109375 -0.132812 3.859375 -0.0625 C 3.617188 0.0078125 3.347656 0.046875 3.046875 0.046875 C 2.597656 0.046875 2.21875 -0.0234375 1.90625 -0.171875 C 1.59375 -0.316406 1.332031 -0.535156 1.125 -0.828125 C 0.925781 -1.128906 0.78125 -1.5 0.6875 -1.9375 C 0.59375 -2.382812 0.546875 -2.894531 0.546875 -3.46875 C 0.546875 -4.03125 0.59375 -4.535156 0.6875 -4.984375 C 0.78125 -5.429688 0.929688 -5.8125 1.140625 -6.125 C 1.347656 -6.4375 1.617188 -6.671875 1.953125 -6.828125 C 2.285156 -6.992188 2.691406 -7.078125 3.171875 -7.078125 C 3.660156 -7.078125 4.085938 -6.960938 4.453125 -6.734375 C 4.816406 -6.515625 5.097656 -6.195312 5.296875 -5.78125 L 5.3125 -5.78125 C 5.3125 -5.882812 5.3125 -6.003906 5.3125 -6.140625 C 5.320312 -6.273438 5.328125 -6.398438 5.328125 -6.515625 C 5.335938 -6.640625 5.347656 -6.742188 5.359375 -6.828125 C 5.367188 -6.910156 5.378906 -6.957031 5.390625 -6.96875 L 6.484375 -6.96875 C 6.484375 -6.9375 6.476562 -6.875 6.46875 -6.78125 C 6.46875 -6.6875 6.460938 -6.570312 6.453125 -6.4375 C 6.453125 -6.3125 6.453125 -6.171875 6.453125 -6.015625 C 6.453125 -5.859375 6.453125 -5.695312 6.453125 -5.53125 L 6.453125 -0.203125 C 6.453125 0.773438 6.210938 1.507812 5.734375 2 C 5.253906 2.488281 4.519531 2.734375 3.53125 2.734375 Z M 5.296875 -3.484375 C 5.296875 -3.972656 5.242188 -4.390625 5.140625 -4.734375 C 5.035156 -5.078125 4.894531 -5.359375 4.71875 -5.578125 C 4.550781 -5.796875 4.351562 -5.957031 4.125 -6.0625 C 3.90625 -6.164062 3.679688 -6.21875 3.453125 -6.21875 C 3.160156 -6.21875 2.90625 -6.164062 2.6875 -6.0625 C 2.476562 -5.957031 2.300781 -5.796875 2.15625 -5.578125 C 2.019531 -5.359375 1.914062 -5.070312 1.84375 -4.71875 C 1.78125 -4.375 1.75 -3.960938 1.75 -3.484375 C 1.75 -2.984375 1.78125 -2.5625 1.84375 -2.21875 C 1.914062 -1.875 2.019531 -1.597656 2.15625 -1.390625 C 2.289062 -1.179688 2.460938 -1.03125 2.671875 -0.9375 C 2.890625 -0.851562 3.144531 -0.8125 3.4375 -0.8125 C 3.664062 -0.8125 3.890625 -0.859375 4.109375 -0.953125 C 4.335938 -1.054688 4.539062 -1.210938 4.71875 -1.421875 C 4.894531 -1.640625 5.035156 -1.914062 5.140625 -2.25 C 5.242188 -2.59375 5.296875 -3.003906 5.296875 -3.484375 Z M 5.296875 -3.484375 \"/>\n",
       "</g>\n",
       "<g id=\"glyph-3-9\">\n",
       "<path d=\"M 5.3125 0 L 5.3125 -4.421875 C 5.3125 -4.765625 5.285156 -5.046875 5.234375 -5.265625 C 5.191406 -5.492188 5.113281 -5.675781 5 -5.8125 C 4.882812 -5.957031 4.734375 -6.054688 4.546875 -6.109375 C 4.367188 -6.171875 4.144531 -6.203125 3.875 -6.203125 C 3.601562 -6.203125 3.351562 -6.15625 3.125 -6.0625 C 2.90625 -5.96875 2.71875 -5.828125 2.5625 -5.640625 C 2.40625 -5.460938 2.285156 -5.238281 2.203125 -4.96875 C 2.117188 -4.695312 2.078125 -4.390625 2.078125 -4.046875 L 2.078125 0 L 0.921875 0 L 0.921875 -5.484375 C 0.921875 -5.628906 0.914062 -5.78125 0.90625 -5.9375 C 0.90625 -6.101562 0.898438 -6.257812 0.890625 -6.40625 C 0.890625 -6.550781 0.890625 -6.675781 0.890625 -6.78125 C 0.890625 -6.882812 0.882812 -6.945312 0.875 -6.96875 L 1.96875 -6.96875 C 1.976562 -6.945312 1.984375 -6.890625 1.984375 -6.796875 C 1.984375 -6.703125 1.988281 -6.59375 2 -6.46875 C 2.007812 -6.351562 2.015625 -6.226562 2.015625 -6.09375 C 2.023438 -5.96875 2.03125 -5.863281 2.03125 -5.78125 L 2.046875 -5.78125 C 2.160156 -5.976562 2.28125 -6.160156 2.40625 -6.328125 C 2.539062 -6.492188 2.695312 -6.632812 2.875 -6.75 C 3.050781 -6.863281 3.253906 -6.953125 3.484375 -7.015625 C 3.710938 -7.078125 3.976562 -7.109375 4.28125 -7.109375 C 4.664062 -7.109375 4.992188 -7.0625 5.265625 -6.96875 C 5.546875 -6.875 5.773438 -6.726562 5.953125 -6.53125 C 6.140625 -6.332031 6.273438 -6.078125 6.359375 -5.765625 C 6.441406 -5.453125 6.484375 -5.078125 6.484375 -4.640625 L 6.484375 0 Z M 5.3125 0 \"/>\n",
       "</g>\n",
       "<g id=\"glyph-3-10\">\n",
       "<path d=\"M 6.78125 -3.515625 C 6.78125 -2.992188 6.738281 -2.507812 6.65625 -2.0625 C 6.570312 -1.613281 6.429688 -1.226562 6.234375 -0.90625 C 6.035156 -0.582031 5.769531 -0.328125 5.4375 -0.140625 C 5.101562 0.0351562 4.695312 0.125 4.21875 0.125 C 3.71875 0.125 3.28125 0.03125 2.90625 -0.15625 C 2.539062 -0.34375 2.257812 -0.648438 2.0625 -1.078125 L 2.03125 -1.078125 C 2.03125 -1.066406 2.03125 -1.023438 2.03125 -0.953125 C 2.03125 -0.890625 2.03125 -0.804688 2.03125 -0.703125 C 2.039062 -0.597656 2.046875 -0.484375 2.046875 -0.359375 C 2.046875 -0.234375 2.046875 -0.109375 2.046875 0.015625 L 2.046875 2.734375 L 0.890625 2.734375 L 0.890625 -5.546875 C 0.890625 -5.710938 0.890625 -5.875 0.890625 -6.03125 C 0.890625 -6.1875 0.882812 -6.328125 0.875 -6.453125 C 0.875 -6.578125 0.867188 -6.6875 0.859375 -6.78125 C 0.859375 -6.875 0.851562 -6.9375 0.84375 -6.96875 L 1.96875 -6.96875 C 1.976562 -6.957031 1.984375 -6.910156 1.984375 -6.828125 C 1.992188 -6.753906 2 -6.660156 2 -6.546875 C 2.007812 -6.441406 2.015625 -6.328125 2.015625 -6.203125 C 2.023438 -6.078125 2.03125 -5.960938 2.03125 -5.859375 L 2.0625 -5.859375 C 2.164062 -6.078125 2.285156 -6.265625 2.421875 -6.421875 C 2.566406 -6.578125 2.726562 -6.707031 2.90625 -6.8125 C 3.082031 -6.914062 3.273438 -6.988281 3.484375 -7.03125 C 3.703125 -7.070312 3.945312 -7.09375 4.21875 -7.09375 C 4.695312 -7.09375 5.101562 -7.003906 5.4375 -6.828125 C 5.769531 -6.660156 6.035156 -6.421875 6.234375 -6.109375 C 6.429688 -5.796875 6.570312 -5.421875 6.65625 -4.984375 C 6.738281 -4.546875 6.78125 -4.054688 6.78125 -3.515625 Z M 5.5625 -3.5 C 5.5625 -3.925781 5.535156 -4.304688 5.484375 -4.640625 C 5.441406 -4.972656 5.351562 -5.253906 5.21875 -5.484375 C 5.09375 -5.722656 4.925781 -5.898438 4.71875 -6.015625 C 4.507812 -6.140625 4.242188 -6.203125 3.921875 -6.203125 C 3.671875 -6.203125 3.429688 -6.164062 3.203125 -6.09375 C 2.972656 -6.019531 2.769531 -5.878906 2.59375 -5.671875 C 2.425781 -5.460938 2.289062 -5.175781 2.1875 -4.8125 C 2.09375 -4.457031 2.046875 -3.988281 2.046875 -3.40625 C 2.046875 -2.90625 2.085938 -2.484375 2.171875 -2.140625 C 2.253906 -1.804688 2.375 -1.53125 2.53125 -1.3125 C 2.6875 -1.101562 2.878906 -0.953125 3.109375 -0.859375 C 3.347656 -0.773438 3.613281 -0.734375 3.90625 -0.734375 C 4.226562 -0.734375 4.492188 -0.796875 4.703125 -0.921875 C 4.921875 -1.046875 5.09375 -1.222656 5.21875 -1.453125 C 5.351562 -1.691406 5.441406 -1.984375 5.484375 -2.328125 C 5.535156 -2.671875 5.5625 -3.0625 5.5625 -3.5 Z M 5.5625 -3.5 \"/>\n",
       "</g>\n",
       "<g id=\"glyph-3-11\">\n",
       "<path d=\"M 1.765625 -3.515625 C 1.765625 -3.117188 1.796875 -2.753906 1.859375 -2.421875 C 1.921875 -2.085938 2.019531 -1.796875 2.15625 -1.546875 C 2.289062 -1.304688 2.46875 -1.117188 2.6875 -0.984375 C 2.914062 -0.847656 3.195312 -0.78125 3.53125 -0.78125 C 3.945312 -0.78125 4.289062 -0.890625 4.5625 -1.109375 C 4.84375 -1.335938 5.015625 -1.6875 5.078125 -2.15625 L 6.25 -2.078125 C 6.21875 -1.785156 6.132812 -1.503906 6 -1.234375 C 5.875 -0.972656 5.695312 -0.738281 5.46875 -0.53125 C 5.25 -0.332031 4.976562 -0.171875 4.65625 -0.046875 C 4.34375 0.0664062 3.976562 0.125 3.5625 0.125 C 3.019531 0.125 2.554688 0.0351562 2.171875 -0.140625 C 1.785156 -0.328125 1.472656 -0.582031 1.234375 -0.90625 C 1.003906 -1.238281 0.832031 -1.625 0.71875 -2.0625 C 0.613281 -2.5 0.5625 -2.976562 0.5625 -3.5 C 0.5625 -3.96875 0.597656 -4.378906 0.671875 -4.734375 C 0.753906 -5.097656 0.863281 -5.410156 1 -5.671875 C 1.144531 -5.941406 1.3125 -6.164062 1.5 -6.34375 C 1.6875 -6.53125 1.890625 -6.675781 2.109375 -6.78125 C 2.328125 -6.894531 2.554688 -6.976562 2.796875 -7.03125 C 3.046875 -7.082031 3.296875 -7.109375 3.546875 -7.109375 C 3.941406 -7.109375 4.289062 -7.050781 4.59375 -6.9375 C 4.894531 -6.832031 5.15625 -6.6875 5.375 -6.5 C 5.601562 -6.3125 5.785156 -6.085938 5.921875 -5.828125 C 6.054688 -5.578125 6.15625 -5.304688 6.21875 -5.015625 L 5.015625 -4.9375 C 4.960938 -5.320312 4.8125 -5.628906 4.5625 -5.859375 C 4.320312 -6.085938 3.972656 -6.203125 3.515625 -6.203125 C 3.191406 -6.203125 2.914062 -6.144531 2.6875 -6.03125 C 2.46875 -5.914062 2.289062 -5.75 2.15625 -5.53125 C 2.019531 -5.3125 1.921875 -5.035156 1.859375 -4.703125 C 1.796875 -4.367188 1.765625 -3.972656 1.765625 -3.515625 Z M 1.765625 -3.515625 \"/>\n",
       "</g>\n",
       "<g id=\"glyph-3-12\">\n",
       "<path d=\"M 0.890625 -8.453125 L 0.890625 -9.5625 L 2.046875 -9.5625 L 2.046875 -8.453125 Z M 0.890625 0 L 0.890625 -6.96875 L 2.046875 -6.96875 L 2.046875 0 Z M 0.890625 0 \"/>\n",
       "</g>\n",
       "<g id=\"glyph-3-13\">\n",
       "<path d=\"M 1.078125 0 L 1.078125 -9.078125 L 2.3125 -9.078125 L 2.3125 -1 L 6.90625 -1 L 6.90625 0 Z M 1.078125 0 \"/>\n",
       "</g>\n",
       "<g id=\"glyph-3-14\">\n",
       "<path d=\"M 8.203125 -2.515625 C 8.203125 -2.128906 8.125 -1.773438 7.96875 -1.453125 C 7.820312 -1.128906 7.59375 -0.847656 7.28125 -0.609375 C 6.976562 -0.378906 6.59375 -0.195312 6.125 -0.0625 C 5.65625 0.0625 5.097656 0.125 4.453125 0.125 C 3.316406 0.125 2.429688 -0.0703125 1.796875 -0.46875 C 1.171875 -0.863281 0.769531 -1.429688 0.59375 -2.171875 L 1.796875 -2.421875 C 1.847656 -2.179688 1.9375 -1.960938 2.0625 -1.765625 C 2.1875 -1.578125 2.351562 -1.410156 2.5625 -1.265625 C 2.78125 -1.128906 3.046875 -1.019531 3.359375 -0.9375 C 3.671875 -0.863281 4.050781 -0.828125 4.5 -0.828125 C 4.863281 -0.828125 5.195312 -0.859375 5.5 -0.921875 C 5.800781 -0.984375 6.0625 -1.078125 6.28125 -1.203125 C 6.5 -1.335938 6.671875 -1.503906 6.796875 -1.703125 C 6.921875 -1.910156 6.984375 -2.15625 6.984375 -2.4375 C 6.984375 -2.738281 6.914062 -2.976562 6.78125 -3.15625 C 6.644531 -3.34375 6.453125 -3.492188 6.203125 -3.609375 C 5.960938 -3.734375 5.671875 -3.835938 5.328125 -3.921875 C 4.992188 -4.003906 4.617188 -4.09375 4.203125 -4.1875 C 3.953125 -4.25 3.695312 -4.3125 3.4375 -4.375 C 3.1875 -4.4375 2.941406 -4.515625 2.703125 -4.609375 C 2.472656 -4.703125 2.253906 -4.8125 2.046875 -4.9375 C 1.835938 -5.0625 1.65625 -5.207031 1.5 -5.375 C 1.351562 -5.550781 1.238281 -5.753906 1.15625 -5.984375 C 1.070312 -6.222656 1.03125 -6.488281 1.03125 -6.78125 C 1.03125 -7.21875 1.113281 -7.585938 1.28125 -7.890625 C 1.457031 -8.203125 1.695312 -8.457031 2 -8.65625 C 2.3125 -8.851562 2.675781 -8.992188 3.09375 -9.078125 C 3.519531 -9.171875 3.976562 -9.21875 4.46875 -9.21875 C 5.03125 -9.21875 5.507812 -9.171875 5.90625 -9.078125 C 6.3125 -8.992188 6.648438 -8.863281 6.921875 -8.6875 C 7.203125 -8.507812 7.425781 -8.289062 7.59375 -8.03125 C 7.757812 -7.769531 7.890625 -7.46875 7.984375 -7.125 L 6.78125 -6.921875 C 6.71875 -7.140625 6.628906 -7.332031 6.515625 -7.5 C 6.398438 -7.675781 6.25 -7.820312 6.0625 -7.9375 C 5.882812 -8.050781 5.660156 -8.140625 5.390625 -8.203125 C 5.128906 -8.265625 4.820312 -8.296875 4.46875 -8.296875 C 4.039062 -8.296875 3.679688 -8.253906 3.390625 -8.171875 C 3.109375 -8.097656 2.878906 -7.992188 2.703125 -7.859375 C 2.535156 -7.734375 2.410156 -7.582031 2.328125 -7.40625 C 2.253906 -7.238281 2.21875 -7.054688 2.21875 -6.859375 C 2.21875 -6.585938 2.285156 -6.363281 2.421875 -6.1875 C 2.554688 -6.007812 2.738281 -5.863281 2.96875 -5.75 C 3.207031 -5.632812 3.476562 -5.535156 3.78125 -5.453125 C 4.082031 -5.378906 4.40625 -5.304688 4.75 -5.234375 C 5.03125 -5.160156 5.3125 -5.09375 5.59375 -5.03125 C 5.875 -4.96875 6.140625 -4.890625 6.390625 -4.796875 C 6.640625 -4.703125 6.875 -4.59375 7.09375 -4.46875 C 7.320312 -4.34375 7.515625 -4.1875 7.671875 -4 C 7.835938 -3.820312 7.96875 -3.609375 8.0625 -3.359375 C 8.15625 -3.117188 8.203125 -2.835938 8.203125 -2.515625 Z M 8.203125 -2.515625 \"/>\n",
       "</g>\n",
       "<g id=\"glyph-3-15\">\n",
       "<path d=\"M 4.953125 0 L 4.953125 -4.421875 C 4.953125 -4.765625 4.929688 -5.046875 4.890625 -5.265625 C 4.847656 -5.492188 4.773438 -5.675781 4.671875 -5.8125 C 4.566406 -5.957031 4.429688 -6.054688 4.265625 -6.109375 C 4.109375 -6.171875 3.910156 -6.203125 3.671875 -6.203125 C 3.429688 -6.203125 3.210938 -6.15625 3.015625 -6.0625 C 2.816406 -5.96875 2.644531 -5.828125 2.5 -5.640625 C 2.363281 -5.460938 2.253906 -5.238281 2.171875 -4.96875 C 2.097656 -4.695312 2.0625 -4.390625 2.0625 -4.046875 L 2.0625 0 L 0.921875 0 L 0.921875 -5.484375 C 0.921875 -5.628906 0.914062 -5.78125 0.90625 -5.9375 C 0.90625 -6.101562 0.898438 -6.257812 0.890625 -6.40625 C 0.890625 -6.550781 0.890625 -6.675781 0.890625 -6.78125 C 0.890625 -6.882812 0.882812 -6.945312 0.875 -6.96875 L 1.96875 -6.96875 C 1.976562 -6.945312 1.984375 -6.890625 1.984375 -6.796875 C 1.984375 -6.703125 1.988281 -6.59375 2 -6.46875 C 2.007812 -6.351562 2.015625 -6.226562 2.015625 -6.09375 C 2.023438 -5.96875 2.03125 -5.863281 2.03125 -5.78125 L 2.046875 -5.78125 C 2.148438 -5.976562 2.257812 -6.160156 2.375 -6.328125 C 2.5 -6.492188 2.640625 -6.632812 2.796875 -6.75 C 2.960938 -6.863281 3.148438 -6.953125 3.359375 -7.015625 C 3.566406 -7.078125 3.804688 -7.109375 4.078125 -7.109375 C 4.609375 -7.109375 5.023438 -7 5.328125 -6.78125 C 5.640625 -6.570312 5.851562 -6.238281 5.96875 -5.78125 L 6 -5.78125 C 6.101562 -5.976562 6.21875 -6.160156 6.34375 -6.328125 C 6.46875 -6.492188 6.613281 -6.632812 6.78125 -6.75 C 6.957031 -6.863281 7.15625 -6.953125 7.375 -7.015625 C 7.59375 -7.078125 7.835938 -7.109375 8.109375 -7.109375 C 8.460938 -7.109375 8.765625 -7.0625 9.015625 -6.96875 C 9.273438 -6.875 9.484375 -6.726562 9.640625 -6.53125 C 9.804688 -6.332031 9.925781 -6.078125 10 -5.765625 C 10.082031 -5.453125 10.125 -5.078125 10.125 -4.640625 L 10.125 0 L 8.984375 0 L 8.984375 -4.421875 C 8.984375 -4.765625 8.957031 -5.046875 8.90625 -5.265625 C 8.863281 -5.492188 8.789062 -5.675781 8.6875 -5.8125 C 8.59375 -5.957031 8.460938 -6.054688 8.296875 -6.109375 C 8.140625 -6.171875 7.941406 -6.203125 7.703125 -6.203125 C 7.460938 -6.203125 7.242188 -6.15625 7.046875 -6.0625 C 6.847656 -5.976562 6.675781 -5.84375 6.53125 -5.65625 C 6.394531 -5.476562 6.285156 -5.253906 6.203125 -4.984375 C 6.128906 -4.710938 6.09375 -4.398438 6.09375 -4.046875 L 6.09375 0 Z M 4.953125 0 \"/>\n",
       "</g>\n",
       "<g id=\"glyph-3-16\">\n",
       "<path d=\"M 5.296875 -1.125 C 5.078125 -0.675781 4.789062 -0.351562 4.4375 -0.15625 C 4.082031 0.03125 3.644531 0.125 3.125 0.125 C 2.238281 0.125 1.585938 -0.171875 1.171875 -0.765625 C 0.753906 -1.359375 0.546875 -2.253906 0.546875 -3.453125 C 0.546875 -5.890625 1.40625 -7.109375 3.125 -7.109375 C 3.644531 -7.109375 4.082031 -7.007812 4.4375 -6.8125 C 4.789062 -6.625 5.078125 -6.316406 5.296875 -5.890625 L 5.3125 -5.890625 C 5.3125 -5.929688 5.304688 -6 5.296875 -6.09375 C 5.296875 -6.1875 5.296875 -6.28125 5.296875 -6.375 C 5.296875 -6.476562 5.296875 -6.578125 5.296875 -6.671875 C 5.296875 -6.765625 5.296875 -6.828125 5.296875 -6.859375 L 5.296875 -9.5625 L 6.453125 -9.5625 L 6.453125 -1.4375 C 6.453125 -1.269531 6.453125 -1.109375 6.453125 -0.953125 C 6.453125 -0.796875 6.453125 -0.648438 6.453125 -0.515625 C 6.460938 -0.390625 6.46875 -0.28125 6.46875 -0.1875 C 6.476562 -0.101562 6.484375 -0.0390625 6.484375 0 L 5.390625 0 C 5.378906 -0.0390625 5.367188 -0.0976562 5.359375 -0.171875 C 5.347656 -0.253906 5.335938 -0.347656 5.328125 -0.453125 C 5.328125 -0.554688 5.320312 -0.664062 5.3125 -0.78125 C 5.3125 -0.894531 5.3125 -1.007812 5.3125 -1.125 Z M 1.765625 -3.5 C 1.765625 -3.007812 1.796875 -2.59375 1.859375 -2.25 C 1.921875 -1.90625 2.019531 -1.625 2.15625 -1.40625 C 2.289062 -1.1875 2.457031 -1.023438 2.65625 -0.921875 C 2.863281 -0.816406 3.117188 -0.765625 3.421875 -0.765625 C 3.722656 -0.765625 3.988281 -0.8125 4.21875 -0.90625 C 4.457031 -1.007812 4.65625 -1.171875 4.8125 -1.390625 C 4.96875 -1.617188 5.085938 -1.910156 5.171875 -2.265625 C 5.253906 -2.617188 5.296875 -3.054688 5.296875 -3.578125 C 5.296875 -4.066406 5.253906 -4.484375 5.171875 -4.828125 C 5.085938 -5.171875 4.96875 -5.445312 4.8125 -5.65625 C 4.65625 -5.863281 4.457031 -6.015625 4.21875 -6.109375 C 3.988281 -6.203125 3.726562 -6.25 3.4375 -6.25 C 3.144531 -6.25 2.894531 -6.195312 2.6875 -6.09375 C 2.488281 -6 2.316406 -5.84375 2.171875 -5.625 C 2.035156 -5.40625 1.929688 -5.117188 1.859375 -4.765625 C 1.796875 -4.410156 1.765625 -3.988281 1.765625 -3.5 Z M 1.765625 -3.5 \"/>\n",
       "</g>\n",
       "<g id=\"glyph-3-17\">\n",
       "<path d=\"M 0.890625 0 L 0.890625 -9.5625 L 2.046875 -9.5625 L 2.046875 0 Z M 0.890625 0 \"/>\n",
       "</g>\n",
       "</g>\n",
       "<clipPath id=\"clip-0\">\n",
       "<path clip-rule=\"nonzero\" d=\"M 38.152344 23.957031 L 426.523438 23.957031 L 426.523438 183.847656 L 38.152344 183.847656 Z M 38.152344 23.957031 \"/>\n",
       "</clipPath>\n",
       "<clipPath id=\"clip-1\">\n",
       "<path clip-rule=\"nonzero\" d=\"M 38.152344 148 L 426.523438 148 L 426.523438 149 L 38.152344 149 Z M 38.152344 148 \"/>\n",
       "</clipPath>\n",
       "<clipPath id=\"clip-2\">\n",
       "<path clip-rule=\"nonzero\" d=\"M 38.152344 91 L 426.523438 91 L 426.523438 93 L 38.152344 93 Z M 38.152344 91 \"/>\n",
       "</clipPath>\n",
       "<clipPath id=\"clip-3\">\n",
       "<path clip-rule=\"nonzero\" d=\"M 38.152344 35 L 426.523438 35 L 426.523438 36 L 38.152344 36 Z M 38.152344 35 \"/>\n",
       "</clipPath>\n",
       "<clipPath id=\"clip-4\">\n",
       "<path clip-rule=\"nonzero\" d=\"M 99 23.957031 L 101 23.957031 L 101 183.847656 L 99 183.847656 Z M 99 23.957031 \"/>\n",
       "</clipPath>\n",
       "<clipPath id=\"clip-5\">\n",
       "<path clip-rule=\"nonzero\" d=\"M 187 23.957031 L 189 23.957031 L 189 183.847656 L 187 183.847656 Z M 187 23.957031 \"/>\n",
       "</clipPath>\n",
       "<clipPath id=\"clip-6\">\n",
       "<path clip-rule=\"nonzero\" d=\"M 276 23.957031 L 277 23.957031 L 277 183.847656 L 276 183.847656 Z M 276 23.957031 \"/>\n",
       "</clipPath>\n",
       "<clipPath id=\"clip-7\">\n",
       "<path clip-rule=\"nonzero\" d=\"M 364 23.957031 L 365 23.957031 L 365 183.847656 L 364 183.847656 Z M 364 23.957031 \"/>\n",
       "</clipPath>\n",
       "<clipPath id=\"clip-8\">\n",
       "<path clip-rule=\"nonzero\" d=\"M 38.152344 176 L 426.523438 176 L 426.523438 178 L 38.152344 178 Z M 38.152344 176 \"/>\n",
       "</clipPath>\n",
       "<clipPath id=\"clip-9\">\n",
       "<path clip-rule=\"nonzero\" d=\"M 38.152344 119 L 426.523438 119 L 426.523438 121 L 38.152344 121 Z M 38.152344 119 \"/>\n",
       "</clipPath>\n",
       "<clipPath id=\"clip-10\">\n",
       "<path clip-rule=\"nonzero\" d=\"M 38.152344 63 L 426.523438 63 L 426.523438 65 L 38.152344 65 Z M 38.152344 63 \"/>\n",
       "</clipPath>\n",
       "<clipPath id=\"clip-11\">\n",
       "<path clip-rule=\"nonzero\" d=\"M 55 23.957031 L 57 23.957031 L 57 183.847656 L 55 183.847656 Z M 55 23.957031 \"/>\n",
       "</clipPath>\n",
       "<clipPath id=\"clip-12\">\n",
       "<path clip-rule=\"nonzero\" d=\"M 143 23.957031 L 145 23.957031 L 145 183.847656 L 143 183.847656 Z M 143 23.957031 \"/>\n",
       "</clipPath>\n",
       "<clipPath id=\"clip-13\">\n",
       "<path clip-rule=\"nonzero\" d=\"M 231 23.957031 L 233 23.957031 L 233 183.847656 L 231 183.847656 Z M 231 23.957031 \"/>\n",
       "</clipPath>\n",
       "<clipPath id=\"clip-14\">\n",
       "<path clip-rule=\"nonzero\" d=\"M 320 23.957031 L 322 23.957031 L 322 183.847656 L 320 183.847656 Z M 320 23.957031 \"/>\n",
       "</clipPath>\n",
       "<clipPath id=\"clip-15\">\n",
       "<path clip-rule=\"nonzero\" d=\"M 408 23.957031 L 410 23.957031 L 410 183.847656 L 408 183.847656 Z M 408 23.957031 \"/>\n",
       "</clipPath>\n",
       "<clipPath id=\"clip-16\">\n",
       "<path clip-rule=\"nonzero\" d=\"M 165 23.957031 L 167 23.957031 L 167 183.847656 L 165 183.847656 Z M 165 23.957031 \"/>\n",
       "</clipPath>\n",
       "<clipPath id=\"clip-17\">\n",
       "<path clip-rule=\"nonzero\" d=\"M 72 23.957031 L 74 23.957031 L 74 183.847656 L 72 183.847656 Z M 72 23.957031 \"/>\n",
       "</clipPath>\n",
       "</defs>\n",
       "<rect x=\"-43.2\" y=\"-21.6\" width=\"518.4\" height=\"259.2\" fill=\"rgb(100%, 100%, 100%)\" fill-opacity=\"1\"/>\n",
       "<rect x=\"-43.2\" y=\"-21.6\" width=\"518.4\" height=\"259.2\" fill=\"rgb(100%, 100%, 100%)\" fill-opacity=\"1\"/>\n",
       "<path fill=\"none\" stroke-width=\"1.066978\" stroke-linecap=\"round\" stroke-linejoin=\"round\" stroke=\"rgb(100%, 100%, 100%)\" stroke-opacity=\"1\" stroke-miterlimit=\"10\" d=\"M 0 216 L 432 216 L 432 0 L 0 0 Z M 0 216 \"/>\n",
       "<g clip-path=\"url(#clip-0)\">\n",
       "<path fill-rule=\"nonzero\" fill=\"rgb(92.156863%, 92.156863%, 92.156863%)\" fill-opacity=\"1\" d=\"M 38.152344 183.847656 L 426.523438 183.847656 L 426.523438 23.957031 L 38.152344 23.957031 Z M 38.152344 183.847656 \"/>\n",
       "</g>\n",
       "<g clip-path=\"url(#clip-1)\">\n",
       "<path fill=\"none\" stroke-width=\"0.533489\" stroke-linecap=\"butt\" stroke-linejoin=\"round\" stroke=\"rgb(100%, 100%, 100%)\" stroke-opacity=\"1\" stroke-miterlimit=\"10\" d=\"M 38.152344 148.410156 L 426.519531 148.410156 \"/>\n",
       "</g>\n",
       "<g clip-path=\"url(#clip-2)\">\n",
       "<path fill=\"none\" stroke-width=\"0.533489\" stroke-linecap=\"butt\" stroke-linejoin=\"round\" stroke=\"rgb(100%, 100%, 100%)\" stroke-opacity=\"1\" stroke-miterlimit=\"10\" d=\"M 38.152344 92.074219 L 426.519531 92.074219 \"/>\n",
       "</g>\n",
       "<g clip-path=\"url(#clip-3)\">\n",
       "<path fill=\"none\" stroke-width=\"0.533489\" stroke-linecap=\"butt\" stroke-linejoin=\"round\" stroke=\"rgb(100%, 100%, 100%)\" stroke-opacity=\"1\" stroke-miterlimit=\"10\" d=\"M 38.152344 35.734375 L 426.519531 35.734375 \"/>\n",
       "</g>\n",
       "<g clip-path=\"url(#clip-4)\">\n",
       "<path fill=\"none\" stroke-width=\"0.533489\" stroke-linecap=\"butt\" stroke-linejoin=\"round\" stroke=\"rgb(100%, 100%, 100%)\" stroke-opacity=\"1\" stroke-miterlimit=\"10\" d=\"M 99.9375 183.847656 L 99.9375 23.957031 \"/>\n",
       "</g>\n",
       "<g clip-path=\"url(#clip-5)\">\n",
       "<path fill=\"none\" stroke-width=\"0.533489\" stroke-linecap=\"butt\" stroke-linejoin=\"round\" stroke=\"rgb(100%, 100%, 100%)\" stroke-opacity=\"1\" stroke-miterlimit=\"10\" d=\"M 188.203125 183.847656 L 188.203125 23.957031 \"/>\n",
       "</g>\n",
       "<g clip-path=\"url(#clip-6)\">\n",
       "<path fill=\"none\" stroke-width=\"0.533489\" stroke-linecap=\"butt\" stroke-linejoin=\"round\" stroke=\"rgb(100%, 100%, 100%)\" stroke-opacity=\"1\" stroke-miterlimit=\"10\" d=\"M 276.46875 183.847656 L 276.46875 23.957031 \"/>\n",
       "</g>\n",
       "<g clip-path=\"url(#clip-7)\">\n",
       "<path fill=\"none\" stroke-width=\"0.533489\" stroke-linecap=\"butt\" stroke-linejoin=\"round\" stroke=\"rgb(100%, 100%, 100%)\" stroke-opacity=\"1\" stroke-miterlimit=\"10\" d=\"M 364.734375 183.847656 L 364.734375 23.957031 \"/>\n",
       "</g>\n",
       "<g clip-path=\"url(#clip-8)\">\n",
       "<path fill=\"none\" stroke-width=\"1.066978\" stroke-linecap=\"butt\" stroke-linejoin=\"round\" stroke=\"rgb(100%, 100%, 100%)\" stroke-opacity=\"1\" stroke-miterlimit=\"10\" d=\"M 38.152344 176.582031 L 426.519531 176.582031 \"/>\n",
       "</g>\n",
       "<g clip-path=\"url(#clip-9)\">\n",
       "<path fill=\"none\" stroke-width=\"1.066978\" stroke-linecap=\"butt\" stroke-linejoin=\"round\" stroke=\"rgb(100%, 100%, 100%)\" stroke-opacity=\"1\" stroke-miterlimit=\"10\" d=\"M 38.152344 120.242188 L 426.519531 120.242188 \"/>\n",
       "</g>\n",
       "<g clip-path=\"url(#clip-10)\">\n",
       "<path fill=\"none\" stroke-width=\"1.066978\" stroke-linecap=\"butt\" stroke-linejoin=\"round\" stroke=\"rgb(100%, 100%, 100%)\" stroke-opacity=\"1\" stroke-miterlimit=\"10\" d=\"M 38.152344 63.902344 L 426.519531 63.902344 \"/>\n",
       "</g>\n",
       "<g clip-path=\"url(#clip-11)\">\n",
       "<path fill=\"none\" stroke-width=\"1.066978\" stroke-linecap=\"butt\" stroke-linejoin=\"round\" stroke=\"rgb(100%, 100%, 100%)\" stroke-opacity=\"1\" stroke-miterlimit=\"10\" d=\"M 55.804688 183.847656 L 55.804688 23.957031 \"/>\n",
       "</g>\n",
       "<g clip-path=\"url(#clip-12)\">\n",
       "<path fill=\"none\" stroke-width=\"1.066978\" stroke-linecap=\"butt\" stroke-linejoin=\"round\" stroke=\"rgb(100%, 100%, 100%)\" stroke-opacity=\"1\" stroke-miterlimit=\"10\" d=\"M 144.070312 183.847656 L 144.070312 23.957031 \"/>\n",
       "</g>\n",
       "<g clip-path=\"url(#clip-13)\">\n",
       "<path fill=\"none\" stroke-width=\"1.066978\" stroke-linecap=\"butt\" stroke-linejoin=\"round\" stroke=\"rgb(100%, 100%, 100%)\" stroke-opacity=\"1\" stroke-miterlimit=\"10\" d=\"M 232.335938 183.847656 L 232.335938 23.957031 \"/>\n",
       "</g>\n",
       "<g clip-path=\"url(#clip-14)\">\n",
       "<path fill=\"none\" stroke-width=\"1.066978\" stroke-linecap=\"butt\" stroke-linejoin=\"round\" stroke=\"rgb(100%, 100%, 100%)\" stroke-opacity=\"1\" stroke-miterlimit=\"10\" d=\"M 320.601562 183.847656 L 320.601562 23.957031 \"/>\n",
       "</g>\n",
       "<g clip-path=\"url(#clip-15)\">\n",
       "<path fill=\"none\" stroke-width=\"1.066978\" stroke-linecap=\"butt\" stroke-linejoin=\"round\" stroke=\"rgb(100%, 100%, 100%)\" stroke-opacity=\"1\" stroke-miterlimit=\"10\" d=\"M 408.867188 183.847656 L 408.867188 23.957031 \"/>\n",
       "</g>\n",
       "<path fill-rule=\"nonzero\" fill=\"rgb(34.901961%, 34.901961%, 34.901961%)\" fill-opacity=\"1\" stroke-width=\"1.066978\" stroke-linecap=\"butt\" stroke-linejoin=\"miter\" stroke=\"rgb(0%, 0%, 50.196078%)\" stroke-opacity=\"1\" stroke-miterlimit=\"10\" d=\"M 65.09375 176.582031 L 83.675781 176.582031 L 83.675781 109.539062 L 65.09375 109.539062 Z M 65.09375 176.582031 \"/>\n",
       "<path fill-rule=\"nonzero\" fill=\"rgb(34.901961%, 34.901961%, 34.901961%)\" fill-opacity=\"1\" stroke-width=\"1.066978\" stroke-linecap=\"butt\" stroke-linejoin=\"miter\" stroke=\"rgb(0%, 0%, 50.196078%)\" stroke-opacity=\"1\" stroke-miterlimit=\"10\" d=\"M 83.675781 176.582031 L 102.257812 176.582031 L 102.257812 123.625 L 83.675781 123.625 Z M 83.675781 176.582031 \"/>\n",
       "<path fill-rule=\"nonzero\" fill=\"rgb(34.901961%, 34.901961%, 34.901961%)\" fill-opacity=\"1\" stroke-width=\"1.066978\" stroke-linecap=\"butt\" stroke-linejoin=\"miter\" stroke=\"rgb(0%, 0%, 50.196078%)\" stroke-opacity=\"1\" stroke-miterlimit=\"10\" d=\"M 102.257812 176.582031 L 120.839844 176.582031 L 120.839844 137.144531 L 102.257812 137.144531 Z M 102.257812 176.582031 \"/>\n",
       "<path fill-rule=\"nonzero\" fill=\"rgb(34.901961%, 34.901961%, 34.901961%)\" fill-opacity=\"1\" stroke-width=\"1.066978\" stroke-linecap=\"butt\" stroke-linejoin=\"miter\" stroke=\"rgb(0%, 0%, 50.196078%)\" stroke-opacity=\"1\" stroke-miterlimit=\"10\" d=\"M 120.84375 176.582031 L 139.425781 176.582031 L 139.425781 139.398438 L 120.84375 139.398438 Z M 120.84375 176.582031 \"/>\n",
       "<path fill-rule=\"nonzero\" fill=\"rgb(34.901961%, 34.901961%, 34.901961%)\" fill-opacity=\"1\" stroke-width=\"1.066978\" stroke-linecap=\"butt\" stroke-linejoin=\"miter\" stroke=\"rgb(0%, 0%, 50.196078%)\" stroke-opacity=\"1\" stroke-miterlimit=\"10\" d=\"M 139.425781 176.582031 L 158.007812 176.582031 L 158.007812 136.582031 L 139.425781 136.582031 Z M 139.425781 176.582031 \"/>\n",
       "<path fill-rule=\"nonzero\" fill=\"rgb(34.901961%, 34.901961%, 34.901961%)\" fill-opacity=\"1\" stroke-width=\"1.066978\" stroke-linecap=\"butt\" stroke-linejoin=\"miter\" stroke=\"rgb(0%, 0%, 50.196078%)\" stroke-opacity=\"1\" stroke-miterlimit=\"10\" d=\"M 158.007812 176.582031 L 176.589844 176.582031 L 176.589844 151.792969 L 158.007812 151.792969 Z M 158.007812 176.582031 \"/>\n",
       "<path fill-rule=\"nonzero\" fill=\"rgb(34.901961%, 34.901961%, 34.901961%)\" fill-opacity=\"1\" stroke-width=\"1.066978\" stroke-linecap=\"butt\" stroke-linejoin=\"miter\" stroke=\"rgb(0%, 0%, 50.196078%)\" stroke-opacity=\"1\" stroke-miterlimit=\"10\" d=\"M 176.589844 176.582031 L 195.171875 176.582031 L 195.171875 145.59375 L 176.589844 145.59375 Z M 176.589844 176.582031 \"/>\n",
       "<path fill-rule=\"nonzero\" fill=\"rgb(34.901961%, 34.901961%, 34.901961%)\" fill-opacity=\"1\" stroke-width=\"1.066978\" stroke-linecap=\"butt\" stroke-linejoin=\"miter\" stroke=\"rgb(0%, 0%, 50.196078%)\" stroke-opacity=\"1\" stroke-miterlimit=\"10\" d=\"M 195.171875 176.582031 L 213.753906 176.582031 L 213.753906 142.777344 L 195.171875 142.777344 Z M 195.171875 176.582031 \"/>\n",
       "<path fill-rule=\"nonzero\" fill=\"rgb(34.901961%, 34.901961%, 34.901961%)\" fill-opacity=\"1\" stroke-width=\"1.066978\" stroke-linecap=\"butt\" stroke-linejoin=\"miter\" stroke=\"rgb(0%, 0%, 50.196078%)\" stroke-opacity=\"1\" stroke-miterlimit=\"10\" d=\"M 213.753906 176.582031 L 232.335938 176.582031 L 232.335938 143.90625 L 213.753906 143.90625 Z M 213.753906 176.582031 \"/>\n",
       "<path fill-rule=\"nonzero\" fill=\"rgb(34.901961%, 34.901961%, 34.901961%)\" fill-opacity=\"1\" stroke-width=\"1.066978\" stroke-linecap=\"butt\" stroke-linejoin=\"miter\" stroke=\"rgb(0%, 0%, 50.196078%)\" stroke-opacity=\"1\" stroke-miterlimit=\"10\" d=\"M 232.335938 176.582031 L 250.917969 176.582031 L 250.917969 151.230469 L 232.335938 151.230469 Z M 232.335938 176.582031 \"/>\n",
       "<path fill-rule=\"nonzero\" fill=\"rgb(34.901961%, 34.901961%, 34.901961%)\" fill-opacity=\"1\" stroke-width=\"1.066978\" stroke-linecap=\"butt\" stroke-linejoin=\"miter\" stroke=\"rgb(0%, 0%, 50.196078%)\" stroke-opacity=\"1\" stroke-miterlimit=\"10\" d=\"M 250.917969 176.582031 L 269.5 176.582031 L 269.5 152.355469 L 250.917969 152.355469 Z M 250.917969 176.582031 \"/>\n",
       "<path fill-rule=\"nonzero\" fill=\"rgb(34.901961%, 34.901961%, 34.901961%)\" fill-opacity=\"1\" stroke-width=\"1.066978\" stroke-linecap=\"butt\" stroke-linejoin=\"miter\" stroke=\"rgb(0%, 0%, 50.196078%)\" stroke-opacity=\"1\" stroke-miterlimit=\"10\" d=\"M 269.5 176.582031 L 288.082031 176.582031 L 288.082031 152.355469 L 269.5 152.355469 Z M 269.5 176.582031 \"/>\n",
       "<path fill-rule=\"nonzero\" fill=\"rgb(34.901961%, 34.901961%, 34.901961%)\" fill-opacity=\"1\" stroke-width=\"1.066978\" stroke-linecap=\"butt\" stroke-linejoin=\"miter\" stroke=\"rgb(0%, 0%, 50.196078%)\" stroke-opacity=\"1\" stroke-miterlimit=\"10\" d=\"M 288.082031 176.582031 L 306.664062 176.582031 L 306.664062 143.34375 L 288.082031 143.34375 Z M 288.082031 176.582031 \"/>\n",
       "<path fill-rule=\"nonzero\" fill=\"rgb(34.901961%, 34.901961%, 34.901961%)\" fill-opacity=\"1\" stroke-width=\"1.066978\" stroke-linecap=\"butt\" stroke-linejoin=\"miter\" stroke=\"rgb(0%, 0%, 50.196078%)\" stroke-opacity=\"1\" stroke-miterlimit=\"10\" d=\"M 306.664062 176.582031 L 325.246094 176.582031 L 325.246094 146.160156 L 306.664062 146.160156 Z M 306.664062 176.582031 \"/>\n",
       "<path fill-rule=\"nonzero\" fill=\"rgb(34.901961%, 34.901961%, 34.901961%)\" fill-opacity=\"1\" stroke-width=\"1.066978\" stroke-linecap=\"butt\" stroke-linejoin=\"miter\" stroke=\"rgb(0%, 0%, 50.196078%)\" stroke-opacity=\"1\" stroke-miterlimit=\"10\" d=\"M 325.246094 176.582031 L 343.828125 176.582031 L 343.828125 143.90625 L 325.246094 143.90625 Z M 325.246094 176.582031 \"/>\n",
       "<path fill-rule=\"nonzero\" fill=\"rgb(34.901961%, 34.901961%, 34.901961%)\" fill-opacity=\"1\" stroke-width=\"1.066978\" stroke-linecap=\"butt\" stroke-linejoin=\"miter\" stroke=\"rgb(0%, 0%, 50.196078%)\" stroke-opacity=\"1\" stroke-miterlimit=\"10\" d=\"M 343.828125 176.582031 L 362.410156 176.582031 L 362.410156 143.34375 L 343.828125 143.34375 Z M 343.828125 176.582031 \"/>\n",
       "<path fill-rule=\"nonzero\" fill=\"rgb(34.901961%, 34.901961%, 34.901961%)\" fill-opacity=\"1\" stroke-width=\"1.066978\" stroke-linecap=\"butt\" stroke-linejoin=\"miter\" stroke=\"rgb(0%, 0%, 50.196078%)\" stroke-opacity=\"1\" stroke-miterlimit=\"10\" d=\"M 362.410156 176.582031 L 380.992188 176.582031 L 380.992188 149.539062 L 362.410156 149.539062 Z M 362.410156 176.582031 \"/>\n",
       "<path fill-rule=\"nonzero\" fill=\"rgb(34.901961%, 34.901961%, 34.901961%)\" fill-opacity=\"1\" stroke-width=\"1.066978\" stroke-linecap=\"butt\" stroke-linejoin=\"miter\" stroke=\"rgb(0%, 0%, 50.196078%)\" stroke-opacity=\"1\" stroke-miterlimit=\"10\" d=\"M 380.992188 176.582031 L 399.574219 176.582031 L 399.574219 144.46875 L 380.992188 144.46875 Z M 380.992188 176.582031 \"/>\n",
       "<g clip-path=\"url(#clip-16)\">\n",
       "<path fill=\"none\" stroke-width=\"1.066978\" stroke-linecap=\"butt\" stroke-linejoin=\"round\" stroke=\"rgb(100%, 0%, 0%)\" stroke-opacity=\"1\" stroke-miterlimit=\"10\" d=\"M 165.75 183.847656 L 165.75 23.957031 \"/>\n",
       "</g>\n",
       "<g clip-path=\"url(#clip-17)\">\n",
       "<path fill=\"none\" stroke-width=\"1.066978\" stroke-linecap=\"butt\" stroke-linejoin=\"round\" stroke=\"rgb(0%, 100%, 0%)\" stroke-opacity=\"1\" stroke-dasharray=\"4.267913 4.267913\" stroke-miterlimit=\"10\" d=\"M 73.457031 183.847656 L 73.457031 23.957031 \"/>\n",
       "</g>\n",
       "<g fill=\"rgb(30.196078%, 30.196078%, 30.196078%)\" fill-opacity=\"1\">\n",
       "<use xlink:href=\"#glyph-0-0\" x=\"28.21875\" y=\"180.047852\"/>\n",
       "</g>\n",
       "<g fill=\"rgb(30.196078%, 30.196078%, 30.196078%)\" fill-opacity=\"1\">\n",
       "<use xlink:href=\"#glyph-0-1\" x=\"18.21875\" y=\"123.708008\"/>\n",
       "<use xlink:href=\"#glyph-0-0\" x=\"23.21875\" y=\"123.708008\"/>\n",
       "<use xlink:href=\"#glyph-0-0\" x=\"28.21875\" y=\"123.708008\"/>\n",
       "</g>\n",
       "<g fill=\"rgb(30.196078%, 30.196078%, 30.196078%)\" fill-opacity=\"1\">\n",
       "<use xlink:href=\"#glyph-0-2\" x=\"18.21875\" y=\"67.368164\"/>\n",
       "<use xlink:href=\"#glyph-0-0\" x=\"23.21875\" y=\"67.368164\"/>\n",
       "<use xlink:href=\"#glyph-0-0\" x=\"28.21875\" y=\"67.368164\"/>\n",
       "</g>\n",
       "<path fill=\"none\" stroke-width=\"1.066978\" stroke-linecap=\"butt\" stroke-linejoin=\"round\" stroke=\"rgb(20%, 20%, 20%)\" stroke-opacity=\"1\" stroke-miterlimit=\"10\" d=\"M 35.410156 176.582031 L 38.152344 176.582031 \"/>\n",
       "<path fill=\"none\" stroke-width=\"1.066978\" stroke-linecap=\"butt\" stroke-linejoin=\"round\" stroke=\"rgb(20%, 20%, 20%)\" stroke-opacity=\"1\" stroke-miterlimit=\"10\" d=\"M 35.410156 120.242188 L 38.152344 120.242188 \"/>\n",
       "<path fill=\"none\" stroke-width=\"1.066978\" stroke-linecap=\"butt\" stroke-linejoin=\"round\" stroke=\"rgb(20%, 20%, 20%)\" stroke-opacity=\"1\" stroke-miterlimit=\"10\" d=\"M 35.410156 63.902344 L 38.152344 63.902344 \"/>\n",
       "<path fill=\"none\" stroke-width=\"1.066978\" stroke-linecap=\"butt\" stroke-linejoin=\"round\" stroke=\"rgb(20%, 20%, 20%)\" stroke-opacity=\"1\" stroke-miterlimit=\"10\" d=\"M 55.804688 186.589844 L 55.804688 183.847656 \"/>\n",
       "<path fill=\"none\" stroke-width=\"1.066978\" stroke-linecap=\"butt\" stroke-linejoin=\"round\" stroke=\"rgb(20%, 20%, 20%)\" stroke-opacity=\"1\" stroke-miterlimit=\"10\" d=\"M 144.070312 186.589844 L 144.070312 183.847656 \"/>\n",
       "<path fill=\"none\" stroke-width=\"1.066978\" stroke-linecap=\"butt\" stroke-linejoin=\"round\" stroke=\"rgb(20%, 20%, 20%)\" stroke-opacity=\"1\" stroke-miterlimit=\"10\" d=\"M 232.335938 186.589844 L 232.335938 183.847656 \"/>\n",
       "<path fill=\"none\" stroke-width=\"1.066978\" stroke-linecap=\"butt\" stroke-linejoin=\"round\" stroke=\"rgb(20%, 20%, 20%)\" stroke-opacity=\"1\" stroke-miterlimit=\"10\" d=\"M 320.601562 186.589844 L 320.601562 183.847656 \"/>\n",
       "<path fill=\"none\" stroke-width=\"1.066978\" stroke-linecap=\"butt\" stroke-linejoin=\"round\" stroke=\"rgb(20%, 20%, 20%)\" stroke-opacity=\"1\" stroke-miterlimit=\"10\" d=\"M 408.867188 186.589844 L 408.867188 183.847656 \"/>\n",
       "<g fill=\"rgb(30.196078%, 30.196078%, 30.196078%)\" fill-opacity=\"1\">\n",
       "<use xlink:href=\"#glyph-0-0\" x=\"47.304688\" y=\"195.74707\"/>\n",
       "<use xlink:href=\"#glyph-0-3\" x=\"52.304688\" y=\"195.74707\"/>\n",
       "<use xlink:href=\"#glyph-0-0\" x=\"54.304688\" y=\"195.74707\"/>\n",
       "<use xlink:href=\"#glyph-0-0\" x=\"59.304688\" y=\"195.74707\"/>\n",
       "</g>\n",
       "<g fill=\"rgb(30.196078%, 30.196078%, 30.196078%)\" fill-opacity=\"1\">\n",
       "<use xlink:href=\"#glyph-0-0\" x=\"135.570312\" y=\"195.74707\"/>\n",
       "<use xlink:href=\"#glyph-0-3\" x=\"140.570312\" y=\"195.74707\"/>\n",
       "<use xlink:href=\"#glyph-0-2\" x=\"142.570312\" y=\"195.74707\"/>\n",
       "<use xlink:href=\"#glyph-0-4\" x=\"147.570312\" y=\"195.74707\"/>\n",
       "</g>\n",
       "<g fill=\"rgb(30.196078%, 30.196078%, 30.196078%)\" fill-opacity=\"1\">\n",
       "<use xlink:href=\"#glyph-0-0\" x=\"223.835938\" y=\"195.74707\"/>\n",
       "<use xlink:href=\"#glyph-0-3\" x=\"228.835938\" y=\"195.74707\"/>\n",
       "<use xlink:href=\"#glyph-0-4\" x=\"230.835938\" y=\"195.74707\"/>\n",
       "<use xlink:href=\"#glyph-0-0\" x=\"235.835938\" y=\"195.74707\"/>\n",
       "</g>\n",
       "<g fill=\"rgb(30.196078%, 30.196078%, 30.196078%)\" fill-opacity=\"1\">\n",
       "<use xlink:href=\"#glyph-0-0\" x=\"312.101562\" y=\"195.74707\"/>\n",
       "<use xlink:href=\"#glyph-0-3\" x=\"317.101562\" y=\"195.74707\"/>\n",
       "<use xlink:href=\"#glyph-0-5\" x=\"319.101562\" y=\"195.74707\"/>\n",
       "<use xlink:href=\"#glyph-0-4\" x=\"324.101562\" y=\"195.74707\"/>\n",
       "</g>\n",
       "<g fill=\"rgb(30.196078%, 30.196078%, 30.196078%)\" fill-opacity=\"1\">\n",
       "<use xlink:href=\"#glyph-0-1\" x=\"400.367188\" y=\"195.74707\"/>\n",
       "<use xlink:href=\"#glyph-0-3\" x=\"405.367188\" y=\"195.74707\"/>\n",
       "<use xlink:href=\"#glyph-0-0\" x=\"407.367188\" y=\"195.74707\"/>\n",
       "<use xlink:href=\"#glyph-0-0\" x=\"412.367188\" y=\"195.74707\"/>\n",
       "</g>\n",
       "<g fill=\"rgb(0%, 0%, 0%)\" fill-opacity=\"1\">\n",
       "<use xlink:href=\"#glyph-1-0\" x=\"216.335938\" y=\"208.477539\"/>\n",
       "<use xlink:href=\"#glyph-1-1\" x=\"222.335938\" y=\"208.477539\"/>\n",
       "<use xlink:href=\"#glyph-1-2\" x=\"228.335938\" y=\"208.477539\"/>\n",
       "<use xlink:href=\"#glyph-1-3\" x=\"234.335938\" y=\"208.477539\"/>\n",
       "<use xlink:href=\"#glyph-1-4\" x=\"236.335938\" y=\"208.477539\"/>\n",
       "<use xlink:href=\"#glyph-1-5\" x=\"242.335938\" y=\"208.477539\"/>\n",
       "</g>\n",
       "<g fill=\"rgb(0%, 0%, 0%)\" fill-opacity=\"1\">\n",
       "<use xlink:href=\"#glyph-2-0\" x=\"13.438477\" y=\"118.402344\"/>\n",
       "<use xlink:href=\"#glyph-2-1\" x=\"13.438477\" y=\"110.402344\"/>\n",
       "<use xlink:href=\"#glyph-2-2\" x=\"13.438477\" y=\"104.402344\"/>\n",
       "<use xlink:href=\"#glyph-2-3\" x=\"13.438477\" y=\"98.402344\"/>\n",
       "<use xlink:href=\"#glyph-2-4\" x=\"13.438477\" y=\"92.402344\"/>\n",
       "</g>\n",
       "<g fill=\"rgb(0%, 0%, 0%)\" fill-opacity=\"1\">\n",
       "<use xlink:href=\"#glyph-3-0\" x=\"38.152344\" y=\"15.429688\"/>\n",
       "<use xlink:href=\"#glyph-3-1\" x=\"46.152344\" y=\"15.429688\"/>\n",
       "<use xlink:href=\"#glyph-3-2\" x=\"50.152344\" y=\"15.429688\"/>\n",
       "<use xlink:href=\"#glyph-3-3\" x=\"54.152344\" y=\"15.429688\"/>\n",
       "<use xlink:href=\"#glyph-3-4\" x=\"61.152344\" y=\"15.429688\"/>\n",
       "<use xlink:href=\"#glyph-3-2\" x=\"68.152344\" y=\"15.429688\"/>\n",
       "<use xlink:href=\"#glyph-3-5\" x=\"72.152344\" y=\"15.429688\"/>\n",
       "<use xlink:href=\"#glyph-3-6\" x=\"76.152344\" y=\"15.429688\"/>\n",
       "<use xlink:href=\"#glyph-3-7\" x=\"83.152344\" y=\"15.429688\"/>\n",
       "<use xlink:href=\"#glyph-3-5\" x=\"87.152344\" y=\"15.429688\"/>\n",
       "<use xlink:href=\"#glyph-3-8\" x=\"91.152344\" y=\"15.429688\"/>\n",
       "<use xlink:href=\"#glyph-3-3\" x=\"98.152344\" y=\"15.429688\"/>\n",
       "<use xlink:href=\"#glyph-3-9\" x=\"105.152344\" y=\"15.429688\"/>\n",
       "<use xlink:href=\"#glyph-3-3\" x=\"112.152344\" y=\"15.429688\"/>\n",
       "<use xlink:href=\"#glyph-3-1\" x=\"119.152344\" y=\"15.429688\"/>\n",
       "<use xlink:href=\"#glyph-3-4\" x=\"123.152344\" y=\"15.429688\"/>\n",
       "<use xlink:href=\"#glyph-3-10\" x=\"130.152344\" y=\"15.429688\"/>\n",
       "<use xlink:href=\"#glyph-3-3\" x=\"137.152344\" y=\"15.429688\"/>\n",
       "<use xlink:href=\"#glyph-3-11\" x=\"144.152344\" y=\"15.429688\"/>\n",
       "<use xlink:href=\"#glyph-3-12\" x=\"151.152344\" y=\"15.429688\"/>\n",
       "<use xlink:href=\"#glyph-3-7\" x=\"154.152344\" y=\"15.429688\"/>\n",
       "<use xlink:href=\"#glyph-3-12\" x=\"158.152344\" y=\"15.429688\"/>\n",
       "<use xlink:href=\"#glyph-3-11\" x=\"161.152344\" y=\"15.429688\"/>\n",
       "<use xlink:href=\"#glyph-3-5\" x=\"168.152344\" y=\"15.429688\"/>\n",
       "<use xlink:href=\"#glyph-3-13\" x=\"172.152344\" y=\"15.429688\"/>\n",
       "<use xlink:href=\"#glyph-3-14\" x=\"179.152344\" y=\"15.429688\"/>\n",
       "<use xlink:href=\"#glyph-3-5\" x=\"188.152344\" y=\"15.429688\"/>\n",
       "<use xlink:href=\"#glyph-3-15\" x=\"192.152344\" y=\"15.429688\"/>\n",
       "<use xlink:href=\"#glyph-3-6\" x=\"203.152344\" y=\"15.429688\"/>\n",
       "<use xlink:href=\"#glyph-3-16\" x=\"210.152344\" y=\"15.429688\"/>\n",
       "<use xlink:href=\"#glyph-3-3\" x=\"217.152344\" y=\"15.429688\"/>\n",
       "<use xlink:href=\"#glyph-3-17\" x=\"224.152344\" y=\"15.429688\"/>\n",
       "<use xlink:href=\"#glyph-3-4\" x=\"227.152344\" y=\"15.429688\"/>\n",
       "</g>\n",
       "</svg>\n"
      ],
      "text/plain": [
       "plot without title"
      ]
     },
     "metadata": {
      "application/pdf": {
       "height": 180,
       "width": 360
      },
      "image/jpeg": {
       "height": 180,
       "width": 360
      },
      "image/png": {
       "height": 180,
       "width": 360
      },
      "image/svg+xml": {
       "height": 180,
       "isolated": true,
       "width": 360
      }
     },
     "output_type": "display_data"
    }
   ],
   "source": [
    "#hist_slr_F <- summary_gof  %>% \n",
    "#  ggplot(aes(x = ...)) + \n",
    "#  geom_...(color = \"navy\", bins = 20) + \n",
    "#  geom_...(xintercept = median(summary_gof$..., na.rm = T), color = \"red\") +\n",
    "#  ...(xintercept = ..., linetype = 2, color = \"green\") +\n",
    "#  labs(\n",
    "#    title = \"F-test of gene-specific LS models\",\n",
    "#    x = \"pvalue\",\n",
    "#    y = \"Count\")+\n",
    "#  xlim(0, 1)\n",
    "\n",
    "#hist_slr_F\n",
    "\n",
    "# your code here\n",
    "hist_slr_F <- summary_gof  %>% \n",
    " ggplot(aes(x = p.value)) + \n",
    " geom_histogram(color = \"navy\", bins = 20) + \n",
    " geom_vline(xintercept = median(summary_gof$p.value, na.rm = T), color = \"red\") +\n",
    " geom_vline(xintercept = 0.05, linetype = 2, color = \"green\") +\n",
    " labs(\n",
    "   title = \"F-test of gene-specific LS models\",\n",
    "   x = \"pvalue\",\n",
    "   y = \"Count\")+\n",
    " xlim(0, 1)\n",
    "\n",
    "hist_slr_F"
   ]
  },
  {
   "cell_type": "code",
   "execution_count": 22,
   "metadata": {
    "deletable": false,
    "editable": false,
    "nbgrader": {
     "cell_type": "code",
     "checksum": "9ba91a3dd74528012f8537d6b435421d",
     "grade": true,
     "grade_id": "cell-0232ba9327c6a3f6",
     "locked": true,
     "points": 1,
     "schema_version": 3,
     "solution": false,
     "task": false
    },
    "tags": []
   },
   "outputs": [
    {
     "name": "stdout",
     "output_type": "stream",
     "text": [
      "\u001b[32mTest passed\u001b[39m 😀\n",
      "\u001b[32mTest passed\u001b[39m 😸\n",
      "\u001b[32mTest passed\u001b[39m 🥳\n",
      "\u001b[32mTest passed\u001b[39m 🥳\n",
      "\u001b[32mTest passed\u001b[39m 🥳\n",
      "\u001b[32mTest passed\u001b[39m 🌈\n",
      "\u001b[32mTest passed\u001b[39m 🎊\n",
      "\u001b[32mTest passed\u001b[39m 🌈\n",
      "[1] \"Success!\"\n"
     ]
    }
   ],
   "source": [
    "test_2.2()"
   ]
  },
  {
   "cell_type": "markdown",
   "metadata": {
    "deletable": false,
    "editable": false,
    "nbgrader": {
     "cell_type": "markdown",
     "checksum": "c8f46d89ab776749d8de6ebf24c8a366",
     "grade": false,
     "grade_id": "cell-c580661242549a2e",
     "locked": true,
     "schema_version": 3,
     "solution": false,
     "task": false
    },
    "tags": []
   },
   "source": [
    "**Question 2.3**\n",
    "<br>{points: 1}\n",
    "\n",
    "Looking at the histogram in **Question 2.2** we conclude that for the majority of the genes, a gene-specific model with `mrna` as an input is significantly better than an intercept-only model.\n",
    "\n",
    "**TRUE or FALSE??** \n",
    "\n",
    "*Assign your answer to an object called answer2.3 Your answer should be either \"true\" or \"false\", surrounded by quotes.*"
   ]
  },
  {
   "cell_type": "code",
   "execution_count": 23,
   "metadata": {
    "deletable": false,
    "nbgrader": {
     "cell_type": "code",
     "checksum": "68e9645270ed37b30ad3c6d22d789577",
     "grade": false,
     "grade_id": "cell-8af3f1c68b0e62a7",
     "locked": false,
     "schema_version": 3,
     "solution": true,
     "task": false
    },
    "tags": []
   },
   "outputs": [],
   "source": [
    "# answer2.3 <- \n",
    "\n",
    "# your code here\n",
    "answer2.3 <- \"false\""
   ]
  },
  {
   "cell_type": "code",
   "execution_count": 24,
   "metadata": {
    "deletable": false,
    "editable": false,
    "nbgrader": {
     "cell_type": "code",
     "checksum": "f28686ab5939b130b9995dd5e535c520",
     "grade": true,
     "grade_id": "cell-f2bf502e0b4969cb",
     "locked": true,
     "points": 1,
     "schema_version": 3,
     "solution": false,
     "task": false
    },
    "tags": []
   },
   "outputs": [
    {
     "name": "stdout",
     "output_type": "stream",
     "text": [
      "\u001b[32mTest passed\u001b[39m 🌈\n",
      "\u001b[32mTest passed\u001b[39m 😀\n",
      "\u001b[32mTest passed\u001b[39m 🎊\n",
      "[1] \"Success!\"\n"
     ]
    }
   ],
   "source": [
    "test_2.3()"
   ]
  },
  {
   "cell_type": "markdown",
   "metadata": {
    "deletable": false,
    "editable": false,
    "nbgrader": {
     "cell_type": "markdown",
     "checksum": "2ede91b8bd2933d19e7e7ef698318129",
     "grade": false,
     "grade_id": "cell-5a3e26705d4f1410",
     "locked": true,
     "schema_version": 3,
     "solution": false,
     "task": false
    },
    "tags": []
   },
   "source": [
    "### 3. Other LR models\n",
    "\n",
    "The authors claimed that it is fundamental to consider different models for different genes and in the previous exercises you fit different models grouping the data by levels of `gene`. However, in previous worksheets we noticed that we can fit different LRs for each level of a categorical variable, simultaneously, adding dummy variables in the model!!. For simplicity, we will use a dataset with only 3 genes, called `dat_3genes`.  \n",
    "\n",
    "Let's first outline different models that can be considered to model data from different genes."
   ]
  },
  {
   "cell_type": "markdown",
   "metadata": {
    "deletable": false,
    "editable": false,
    "nbgrader": {
     "cell_type": "markdown",
     "checksum": "2a6b3fdf0bffe6e6cd11b4a6d2379c78",
     "grade": false,
     "grade_id": "cell-0e0703b41e37a2f6",
     "locked": true,
     "schema_version": 3,
     "solution": false,
     "task": false
    },
    "tags": []
   },
   "source": [
    "**Question 3.0**\n",
    "<br>{points: 1}\n",
    "\n",
    "Consider the following models:\n",
    "\n",
    "- model.1: $\\text{prot}_t=\\beta_0 + \\varepsilon_t$ \n",
    "\n",
    "- model.2:  $\\text{prot}_t=\\beta_0 + \\beta_1 \\text{mrna}_{t} + \\varepsilon_t$ \n",
    "\n",
    "- model.3:  $\\text{prot}_t=\\beta_0 + \\beta_2 \\text{gene2}_{t} + \\beta_3 \\text{gene3}_{t} + \\varepsilon_t$ \n",
    "\n",
    "- model.4:  $\\text{prot}_t=\\beta_0 + \\beta_1 \\text{mrna}_{t} + \\beta_2 \\text{gene2}_{t} + \\beta_3 \\text{gene3}_{t} + \\varepsilon_t$ \n",
    "\n",
    "- model.5:  $\\text{prot}_t=\\beta_0 + \\beta_1 \\text{mrna}_{t} + \\beta_2 \\text{gene2}_{t} + \\beta_3 \\text{gene3}_{t} + \\beta_4 \\text{gene2}_{t}\\text{mrna}_{t} + \\beta_5 \\text{gene3}_{t}\\text{mrna}_{t} + \\varepsilon_t$ \n",
    "\n",
    "In previous worksheets, you've learned how to fit and interpret these models. Match the equations to the codes you can use to estimate these models using `dat_3genes`:\n",
    "\n",
    "**A.** `lm(prot ~ mrna * gene, dat_3genes)`\n",
    "\n",
    "**B.** `lm(prot ~ gene, dat_3genes)`\n",
    "\n",
    "**C.** `lm(prot ~ mrna + gene, dat_3genes)`\n",
    "\n",
    "**D.** `lm(prot ~ 1, dat_3genes)`\n",
    "\n",
    "**E.** `lm(prot ~ mrna, dat_3genes)`\n",
    "\n",
    "\n",
    "*Assign your answers to the objects `model.1`, `model.2`, `model.3`, `model.4`, and `model.5`. Your answer should each be a single character (`\"A\"`, `\"B\"`, `\"C\"`, `\"D\"`, or `\"E\"`) surrounded by quotes.*"
   ]
  },
  {
   "cell_type": "code",
   "execution_count": 25,
   "metadata": {
    "deletable": false,
    "nbgrader": {
     "cell_type": "code",
     "checksum": "04a5d3f7772844189eb56a46f23e6b2e",
     "grade": false,
     "grade_id": "cell-a9eead27577f67a5",
     "locked": false,
     "schema_version": 3,
     "solution": true,
     "task": false
    },
    "tags": []
   },
   "outputs": [],
   "source": [
    "# model.1 <- ...\n",
    "# model.2 <- ...\n",
    "# model.3 <- ...\n",
    "# model.4 <- ...\n",
    "# model.5 <- ...\n",
    "\n",
    "# your code here\n",
    "model.1 <- \"D\"\n",
    "model.2 <- \"E\"\n",
    "model.3 <- \"B\"\n",
    "model.4 <- \"C\"\n",
    "model.5 <- \"A\""
   ]
  },
  {
   "cell_type": "code",
   "execution_count": 26,
   "metadata": {
    "deletable": false,
    "editable": false,
    "nbgrader": {
     "cell_type": "code",
     "checksum": "ae4191e0c3cc7c166e54ff67bfb7447c",
     "grade": true,
     "grade_id": "cell-eb9a5dd6f9b891ce",
     "locked": true,
     "points": 1,
     "schema_version": 3,
     "solution": false,
     "task": false
    },
    "tags": []
   },
   "outputs": [
    {
     "name": "stdout",
     "output_type": "stream",
     "text": [
      "\u001b[32mTest passed\u001b[39m 🥇\n",
      "\u001b[32mTest passed\u001b[39m 🎊\n",
      "\u001b[32mTest passed\u001b[39m 🎉\n",
      "\u001b[32mTest passed\u001b[39m 😸\n",
      "\u001b[32mTest passed\u001b[39m 🌈\n",
      "[1] \"Success!\"\n"
     ]
    }
   ],
   "source": [
    "test_3.0()"
   ]
  },
  {
   "cell_type": "markdown",
   "metadata": {
    "deletable": false,
    "editable": false,
    "nbgrader": {
     "cell_type": "markdown",
     "checksum": "2f4676e25d7acf0b37a867d08634d825",
     "grade": false,
     "grade_id": "cell-47b313837db7eed1",
     "locked": true,
     "schema_version": 3,
     "solution": false,
     "task": false
    },
    "tags": []
   },
   "source": [
    "Let's randomly select 3 genes to run some analyses:"
   ]
  },
  {
   "cell_type": "code",
   "execution_count": 27,
   "metadata": {
    "deletable": false,
    "editable": false,
    "nbgrader": {
     "cell_type": "code",
     "checksum": "aa87ab5b2fb674429d7b064c5a19562a",
     "grade": false,
     "grade_id": "cell-5ca588daa7120836",
     "locked": true,
     "schema_version": 3,
     "solution": false,
     "task": false
    },
    "tags": []
   },
   "outputs": [],
   "source": [
    "#run this cell\n",
    "set.seed(561)\n",
    "dat_3genes <- dat_bio  %>%  \n",
    "         subset(gene %in% sample(gene,3)) "
   ]
  },
  {
   "cell_type": "markdown",
   "metadata": {
    "deletable": false,
    "editable": false,
    "nbgrader": {
     "cell_type": "markdown",
     "checksum": "b26d2d473bc583dbd39b4fe2c2352225",
     "grade": false,
     "grade_id": "cell-b274ebba90dde81b",
     "locked": true,
     "schema_version": 3,
     "solution": false,
     "task": false
    },
    "tags": []
   },
   "source": [
    "**Question 3.1**\n",
    "<br>{points: 2}\n",
    "\n",
    "Using the data from the 3 selected genes in `dat_3genes`, fit a model with interaction terms (`model.5`). Store the results in an object called `mlr_3genes_int`.\n",
    "\n",
    "Use `tidy()` to obtain a table with results from the LS estimation and inference, call the output `mlr_3genes_int_results`.\n",
    "\n",
    "Use `glance()` to obtain goodness-of-fit  for this model, call the output `mlr_3genes_int_gof`. "
   ]
  },
  {
   "cell_type": "code",
   "execution_count": 28,
   "metadata": {
    "deletable": false,
    "nbgrader": {
     "cell_type": "code",
     "checksum": "3a8c537cd3627f73c1cdd3e9d0f31966",
     "grade": false,
     "grade_id": "cell-5f1240b71f992980",
     "locked": false,
     "schema_version": 3,
     "solution": true,
     "task": false
    },
    "tags": []
   },
   "outputs": [
    {
     "data": {
      "text/html": [
       "<table class=\"dataframe\">\n",
       "<caption>A tibble: 6 × 5</caption>\n",
       "<thead>\n",
       "\t<tr><th scope=col>term</th><th scope=col>estimate</th><th scope=col>std.error</th><th scope=col>statistic</th><th scope=col>p.value</th></tr>\n",
       "\t<tr><th scope=col>&lt;chr&gt;</th><th scope=col>&lt;dbl&gt;</th><th scope=col>&lt;dbl&gt;</th><th scope=col>&lt;dbl&gt;</th><th scope=col>&lt;dbl&gt;</th></tr>\n",
       "</thead>\n",
       "<tbody>\n",
       "\t<tr><td>(Intercept)             </td><td> 6.327928e-06</td><td>5.577621e-05</td><td> 0.1134521</td><td>0.9104280</td></tr>\n",
       "\t<tr><td>geneENSG00000143553     </td><td> 3.201698e-05</td><td>8.589540e-05</td><td> 0.3727439</td><td>0.7119597</td></tr>\n",
       "\t<tr><td>geneENSG00000168497     </td><td> 6.906928e-05</td><td>6.174779e-05</td><td> 1.1185709</td><td>0.2722003</td></tr>\n",
       "\t<tr><td>mrna                    </td><td> 2.057447e-01</td><td>5.890193e-01</td><td> 0.3493004</td><td>0.7293038</td></tr>\n",
       "\t<tr><td>geneENSG00000143553:mrna</td><td>-1.031184e+00</td><td>2.753427e+00</td><td>-0.3745094</td><td>0.7106597</td></tr>\n",
       "\t<tr><td>geneENSG00000168497:mrna</td><td> 8.982580e-01</td><td>8.473966e-01</td><td> 1.0600207</td><td>0.2975953</td></tr>\n",
       "</tbody>\n",
       "</table>\n"
      ],
      "text/latex": [
       "A tibble: 6 × 5\n",
       "\\begin{tabular}{lllll}\n",
       " term & estimate & std.error & statistic & p.value\\\\\n",
       " <chr> & <dbl> & <dbl> & <dbl> & <dbl>\\\\\n",
       "\\hline\n",
       "\t (Intercept)              &  6.327928e-06 & 5.577621e-05 &  0.1134521 & 0.9104280\\\\\n",
       "\t geneENSG00000143553      &  3.201698e-05 & 8.589540e-05 &  0.3727439 & 0.7119597\\\\\n",
       "\t geneENSG00000168497      &  6.906928e-05 & 6.174779e-05 &  1.1185709 & 0.2722003\\\\\n",
       "\t mrna                     &  2.057447e-01 & 5.890193e-01 &  0.3493004 & 0.7293038\\\\\n",
       "\t geneENSG00000143553:mrna & -1.031184e+00 & 2.753427e+00 & -0.3745094 & 0.7106597\\\\\n",
       "\t geneENSG00000168497:mrna &  8.982580e-01 & 8.473966e-01 &  1.0600207 & 0.2975953\\\\\n",
       "\\end{tabular}\n"
      ],
      "text/markdown": [
       "\n",
       "A tibble: 6 × 5\n",
       "\n",
       "| term &lt;chr&gt; | estimate &lt;dbl&gt; | std.error &lt;dbl&gt; | statistic &lt;dbl&gt; | p.value &lt;dbl&gt; |\n",
       "|---|---|---|---|---|\n",
       "| (Intercept)              |  6.327928e-06 | 5.577621e-05 |  0.1134521 | 0.9104280 |\n",
       "| geneENSG00000143553      |  3.201698e-05 | 8.589540e-05 |  0.3727439 | 0.7119597 |\n",
       "| geneENSG00000168497      |  6.906928e-05 | 6.174779e-05 |  1.1185709 | 0.2722003 |\n",
       "| mrna                     |  2.057447e-01 | 5.890193e-01 |  0.3493004 | 0.7293038 |\n",
       "| geneENSG00000143553:mrna | -1.031184e+00 | 2.753427e+00 | -0.3745094 | 0.7106597 |\n",
       "| geneENSG00000168497:mrna |  8.982580e-01 | 8.473966e-01 |  1.0600207 | 0.2975953 |\n",
       "\n"
      ],
      "text/plain": [
       "  term                     estimate      std.error    statistic  p.value  \n",
       "1 (Intercept)               6.327928e-06 5.577621e-05  0.1134521 0.9104280\n",
       "2 geneENSG00000143553       3.201698e-05 8.589540e-05  0.3727439 0.7119597\n",
       "3 geneENSG00000168497       6.906928e-05 6.174779e-05  1.1185709 0.2722003\n",
       "4 mrna                      2.057447e-01 5.890193e-01  0.3493004 0.7293038\n",
       "5 geneENSG00000143553:mrna -1.031184e+00 2.753427e+00 -0.3745094 0.7106597\n",
       "6 geneENSG00000168497:mrna  8.982580e-01 8.473966e-01  1.0600207 0.2975953"
      ]
     },
     "metadata": {},
     "output_type": "display_data"
    },
    {
     "data": {
      "text/html": [
       "<table class=\"dataframe\">\n",
       "<caption>A tibble: 1 × 12</caption>\n",
       "<thead>\n",
       "\t<tr><th scope=col>r.squared</th><th scope=col>adj.r.squared</th><th scope=col>sigma</th><th scope=col>statistic</th><th scope=col>p.value</th><th scope=col>df</th><th scope=col>logLik</th><th scope=col>AIC</th><th scope=col>BIC</th><th scope=col>deviance</th><th scope=col>df.residual</th><th scope=col>nobs</th></tr>\n",
       "\t<tr><th scope=col>&lt;dbl&gt;</th><th scope=col>&lt;dbl&gt;</th><th scope=col>&lt;dbl&gt;</th><th scope=col>&lt;dbl&gt;</th><th scope=col>&lt;dbl&gt;</th><th scope=col>&lt;dbl&gt;</th><th scope=col>&lt;dbl&gt;</th><th scope=col>&lt;dbl&gt;</th><th scope=col>&lt;dbl&gt;</th><th scope=col>&lt;dbl&gt;</th><th scope=col>&lt;dbl&gt;</th><th scope=col>&lt;dbl&gt;</th></tr>\n",
       "</thead>\n",
       "<tbody>\n",
       "\t<tr><td>0.441</td><td>0.347</td><td>0</td><td>4.725</td><td>0.003</td><td>5</td><td>303.75</td><td>-593.501</td><td>-582.416</td><td>0</td><td>30</td><td>36</td></tr>\n",
       "</tbody>\n",
       "</table>\n"
      ],
      "text/latex": [
       "A tibble: 1 × 12\n",
       "\\begin{tabular}{llllllllllll}\n",
       " r.squared & adj.r.squared & sigma & statistic & p.value & df & logLik & AIC & BIC & deviance & df.residual & nobs\\\\\n",
       " <dbl> & <dbl> & <dbl> & <dbl> & <dbl> & <dbl> & <dbl> & <dbl> & <dbl> & <dbl> & <dbl> & <dbl>\\\\\n",
       "\\hline\n",
       "\t 0.441 & 0.347 & 0 & 4.725 & 0.003 & 5 & 303.75 & -593.501 & -582.416 & 0 & 30 & 36\\\\\n",
       "\\end{tabular}\n"
      ],
      "text/markdown": [
       "\n",
       "A tibble: 1 × 12\n",
       "\n",
       "| r.squared &lt;dbl&gt; | adj.r.squared &lt;dbl&gt; | sigma &lt;dbl&gt; | statistic &lt;dbl&gt; | p.value &lt;dbl&gt; | df &lt;dbl&gt; | logLik &lt;dbl&gt; | AIC &lt;dbl&gt; | BIC &lt;dbl&gt; | deviance &lt;dbl&gt; | df.residual &lt;dbl&gt; | nobs &lt;dbl&gt; |\n",
       "|---|---|---|---|---|---|---|---|---|---|---|---|\n",
       "| 0.441 | 0.347 | 0 | 4.725 | 0.003 | 5 | 303.75 | -593.501 | -582.416 | 0 | 30 | 36 |\n",
       "\n"
      ],
      "text/plain": [
       "  r.squared adj.r.squared sigma statistic p.value df logLik AIC      BIC     \n",
       "1 0.441     0.347         0     4.725     0.003   5  303.75 -593.501 -582.416\n",
       "  deviance df.residual nobs\n",
       "1 0        30          36  "
      ]
     },
     "metadata": {},
     "output_type": "display_data"
    }
   ],
   "source": [
    "#mlr_3genes_int <- ...(...~ ..., data = ...)\n",
    "#mlr_3genes_int_results <- tidy(...)\n",
    "#mlr_3genes_int_gof <- glance(...) %>% round(3)\n",
    "\n",
    "#mlr_3genes_int_results\n",
    "#mlr_3genes_int_gof\n",
    "\n",
    "# your code here\n",
    "mlr_3genes_int <- lm(prot ~ gene * mrna, data = dat_3genes)\n",
    "mlr_3genes_int_results <- tidy(mlr_3genes_int)\n",
    "mlr_3genes_int_gof <- glance(mlr_3genes_int) %>% round(3)\n",
    "\n",
    "mlr_3genes_int_results\n",
    "mlr_3genes_int_gof"
   ]
  },
  {
   "cell_type": "code",
   "execution_count": 29,
   "metadata": {
    "deletable": false,
    "editable": false,
    "nbgrader": {
     "cell_type": "code",
     "checksum": "811028de20b0990dde2b4836a137c3fd",
     "grade": true,
     "grade_id": "cell-17675f9b1e991ece",
     "locked": true,
     "points": 2,
     "schema_version": 3,
     "solution": false,
     "task": false
    },
    "tags": []
   },
   "outputs": [
    {
     "name": "stdout",
     "output_type": "stream",
     "text": [
      "\u001b[32mTest passed\u001b[39m 🌈\n",
      "\u001b[32mTest passed\u001b[39m 🥇\n",
      "\u001b[32mTest passed\u001b[39m 🎉\n",
      "\u001b[32mTest passed\u001b[39m 🥇\n",
      "\u001b[32mTest passed\u001b[39m 🥳\n",
      "\u001b[32mTest passed\u001b[39m 🥇\n",
      "\u001b[32mTest passed\u001b[39m 😸\n",
      "\u001b[32mTest passed\u001b[39m 🎉\n",
      "[1] \"Success!\"\n",
      "\u001b[32mTest passed\u001b[39m 🥇\n",
      "\u001b[32mTest passed\u001b[39m 😸\n",
      "\u001b[32mTest passed\u001b[39m 😸\n",
      "\u001b[32mTest passed\u001b[39m 😀\n",
      "\u001b[32mTest passed\u001b[39m 🎉\n",
      "[1] \"Success!\"\n"
     ]
    }
   ],
   "source": [
    "test_3.1.0()\n",
    "test_3.1.1()"
   ]
  },
  {
   "cell_type": "markdown",
   "metadata": {
    "deletable": false,
    "editable": false,
    "nbgrader": {
     "cell_type": "markdown",
     "checksum": "e9ae0fa15d617762d0212b055858a116",
     "grade": false,
     "grade_id": "cell-0b072a63d9248e64",
     "locked": true,
     "schema_version": 3,
     "solution": false,
     "task": false
    },
    "tags": []
   },
   "source": [
    "**Question 3.2**\n",
    "<br>{points: 1}\n",
    "\n",
    "The output of `glance()` for the model with interaction includes the $p$-value of a test of hypothesis. Which null hypothesis is tested?\n",
    "\n",
    "**A.** $H_0: \\beta_2 = \\beta_3 = 0$ vs. $H_1: \\text{at least one } \\beta_j \\neq 0 \\text{ (for } $j = 2, 3$ \\text{)}$\n",
    "\n",
    "**B.** $H_0: \\beta_4 = \\beta_5 = 0$ vs. $H_1: \\text{at least one } \\beta_j \\neq 0 \\text{ (for } $j = 4, 5$ \\text{)}$\n",
    "\n",
    "**C.** $H_0: \\beta_0 = \\beta_1 = \\beta_2 = \\beta_3 = \\beta_4 = \\beta_5 = 0$ vs. $H_1: \\text{at least one } \\beta_j \\neq 0 \\text{ (for } $j = 0, 1, 2, 3, 4, 5$ \\text{)}$\n",
    "\n",
    "**D.** $H_0: \\beta_1 = \\beta_2 = \\beta_3 = \\beta_4 = \\beta_5 = 0$ vs. $H_1: \\text{at least one } \\beta_j \\neq 0 \\text{ (for } $j = 1, 2, 3, 4, 5$ \\text{)}$\n",
    "\n",
    "**E.** $H_0: \\hat{\\beta}_2 = \\hat{\\beta}_3 = 0$ vs. $H_1: \\text{at least one } \\hat{\\beta}_j \\neq 0 \\text{ (for } $j = 2, 3$ \\text{)}$\n",
    "\n",
    "*Assign your answer to an object called `answer3.2`. Your answer should be one of `\"A\"`, `\"B\"`, `\"C\"`, `\"D\"` or `\"E\"` surrounded by quotes.*"
   ]
  },
  {
   "cell_type": "code",
   "execution_count": 30,
   "metadata": {
    "deletable": false,
    "nbgrader": {
     "cell_type": "code",
     "checksum": "c2c82524372c48166aca419fcf19ef78",
     "grade": false,
     "grade_id": "cell-477c4ef09e58a3e4",
     "locked": false,
     "schema_version": 3,
     "solution": true,
     "task": false
    },
    "tags": []
   },
   "outputs": [],
   "source": [
    "# answer3.2 <- \n",
    "\n",
    "# your code here\n",
    "answer3.2 <- \"D\""
   ]
  },
  {
   "cell_type": "code",
   "execution_count": 31,
   "metadata": {
    "deletable": false,
    "editable": false,
    "nbgrader": {
     "cell_type": "code",
     "checksum": "b6a96cf61fd9f1d639a27b1da4c439c2",
     "grade": true,
     "grade_id": "cell-3ea3c3b5606f7047",
     "locked": true,
     "points": 1,
     "schema_version": 3,
     "solution": false,
     "task": false
    },
    "tags": []
   },
   "outputs": [
    {
     "name": "stdout",
     "output_type": "stream",
     "text": [
      "\u001b[32mTest passed\u001b[39m 😀\n",
      "\u001b[32mTest passed\u001b[39m 😀\n",
      "\u001b[32mTest passed\u001b[39m 🎊\n",
      "[1] \"Success!\"\n"
     ]
    }
   ],
   "source": [
    "test_3.2()"
   ]
  },
  {
   "cell_type": "markdown",
   "metadata": {
    "deletable": false,
    "editable": false,
    "nbgrader": {
     "cell_type": "markdown",
     "checksum": "71ee43e989a847a0fdefb0fb38b1bf7e",
     "grade": false,
     "grade_id": "cell-0fbccf4edd998dda",
     "locked": true,
     "schema_version": 3,
     "solution": false,
     "task": false
    }
   },
   "source": [
    "**Question 3.3**\n",
    "<br>{points: 1}\n",
    "\n",
    "Use the function `anova()` to reproduce this test using `dat_3genes`. \n",
    "\n",
    "Store $F$-test and its correspoinding $p$-value in an object called `Ftest_3genes_interaction`.\n",
    "\n",
    "*Fill out those parts indicated with `...`, uncomment the corresponding code in the cell below, and run it.*"
   ]
  },
  {
   "cell_type": "code",
   "execution_count": 32,
   "metadata": {
    "deletable": false,
    "nbgrader": {
     "cell_type": "code",
     "checksum": "66c6d43c59e00bed57f0aa34cc381aed",
     "grade": false,
     "grade_id": "cell-20ab328a3e81d820",
     "locked": false,
     "schema_version": 3,
     "solution": true,
     "task": false
    },
    "tags": []
   },
   "outputs": [
    {
     "data": {
      "text/html": [
       "<table class=\"dataframe\">\n",
       "<caption>A anova: 2 × 6</caption>\n",
       "<thead>\n",
       "\t<tr><th></th><th scope=col>Res.Df</th><th scope=col>RSS</th><th scope=col>Df</th><th scope=col>Sum of Sq</th><th scope=col>F</th><th scope=col>Pr(&gt;F)</th></tr>\n",
       "\t<tr><th></th><th scope=col>&lt;dbl&gt;</th><th scope=col>&lt;dbl&gt;</th><th scope=col>&lt;dbl&gt;</th><th scope=col>&lt;dbl&gt;</th><th scope=col>&lt;dbl&gt;</th><th scope=col>&lt;dbl&gt;</th></tr>\n",
       "</thead>\n",
       "<tbody>\n",
       "\t<tr><th scope=row>1</th><td>35</td><td>1.767428e-07</td><td>NA</td><td>          NA</td><td>      NA</td><td>         NA</td></tr>\n",
       "\t<tr><th scope=row>2</th><td>30</td><td>9.887768e-08</td><td> 5</td><td>7.786513e-08</td><td>4.724937</td><td>0.002663059</td></tr>\n",
       "</tbody>\n",
       "</table>\n"
      ],
      "text/latex": [
       "A anova: 2 × 6\n",
       "\\begin{tabular}{r|llllll}\n",
       "  & Res.Df & RSS & Df & Sum of Sq & F & Pr(>F)\\\\\n",
       "  & <dbl> & <dbl> & <dbl> & <dbl> & <dbl> & <dbl>\\\\\n",
       "\\hline\n",
       "\t1 & 35 & 1.767428e-07 & NA &           NA &       NA &          NA\\\\\n",
       "\t2 & 30 & 9.887768e-08 &  5 & 7.786513e-08 & 4.724937 & 0.002663059\\\\\n",
       "\\end{tabular}\n"
      ],
      "text/markdown": [
       "\n",
       "A anova: 2 × 6\n",
       "\n",
       "| <!--/--> | Res.Df &lt;dbl&gt; | RSS &lt;dbl&gt; | Df &lt;dbl&gt; | Sum of Sq &lt;dbl&gt; | F &lt;dbl&gt; | Pr(&gt;F) &lt;dbl&gt; |\n",
       "|---|---|---|---|---|---|---|\n",
       "| 1 | 35 | 1.767428e-07 | NA |           NA |       NA |          NA |\n",
       "| 2 | 30 | 9.887768e-08 |  5 | 7.786513e-08 | 4.724937 | 0.002663059 |\n",
       "\n"
      ],
      "text/plain": [
       "  Res.Df RSS          Df Sum of Sq    F        Pr(>F)     \n",
       "1 35     1.767428e-07 NA           NA       NA          NA\n",
       "2 30     9.887768e-08  5 7.786513e-08 4.724937 0.002663059"
      ]
     },
     "metadata": {},
     "output_type": "display_data"
    }
   ],
   "source": [
    "# Ftest_3genes_interaction  <- ...(..., ...)  \n",
    "\n",
    "# Ftest_3genes_interaction \n",
    "\n",
    "# your code here\n",
    "m1 <- lm(prot ~ 1, data = dat_3genes)\n",
    "m2 <- lm(prot ~ gene * mrna, data = dat_3genes)\n",
    "Ftest_3genes_interaction  <- anova(m1, m2)  \n",
    "\n",
    "Ftest_3genes_interaction "
   ]
  },
  {
   "cell_type": "code",
   "execution_count": 33,
   "metadata": {
    "deletable": false,
    "editable": false,
    "nbgrader": {
     "cell_type": "code",
     "checksum": "3b5e90460e339d7911a7904361823c0d",
     "grade": true,
     "grade_id": "cell-727820da4a4d0b48",
     "locked": true,
     "points": 1,
     "schema_version": 3,
     "solution": false,
     "task": false
    },
    "tags": []
   },
   "outputs": [
    {
     "name": "stdout",
     "output_type": "stream",
     "text": [
      "\u001b[32mTest passed\u001b[39m 🎊\n",
      "\u001b[32mTest passed\u001b[39m 🥇\n",
      "[1] \"Success!\"\n"
     ]
    }
   ],
   "source": [
    "test_3.3()"
   ]
  },
  {
   "cell_type": "markdown",
   "metadata": {
    "deletable": false,
    "editable": false,
    "nbgrader": {
     "cell_type": "markdown",
     "checksum": "ba3c2b620a634433ad4964d5bec9b3ae",
     "grade": false,
     "grade_id": "cell-533bd8c35b5c0851",
     "locked": true,
     "schema_version": 3,
     "solution": false,
     "task": false
    },
    "tags": []
   },
   "source": [
    "**Question 3.4**\n",
    "<br>{points: 1}\n",
    "\n",
    "Which of the following claims is correct based on the results from  **Question 3.3**.\n",
    "\n",
    "**A.** The three linear regressions are statistically significant.\n",
    "\n",
    "**B.** There is enough evidence to reject the null hypothesis that the model with interaction terms (`model.5`) is equivalent to an intercept-only model (`model.1`)\n",
    "\n",
    "**C.** `mrna` is statistically significant.\n",
    "\n",
    "\n",
    "*Assign your answer to an object called `answer3.4`. Your answer should be one of `\"A\"`, `\"B\"`, or `\"C\"` surrounded by quotes.*"
   ]
  },
  {
   "cell_type": "code",
   "execution_count": 34,
   "metadata": {
    "deletable": false,
    "nbgrader": {
     "cell_type": "code",
     "checksum": "3dad10375d65566579fcfc8e6964e067",
     "grade": false,
     "grade_id": "cell-a0b0accd3b2e1b8a",
     "locked": false,
     "schema_version": 3,
     "solution": true,
     "task": false
    },
    "tags": []
   },
   "outputs": [],
   "source": [
    "# answer3.4 <- \n",
    "\n",
    "# your code here\n",
    "answer3.4 <- \"B\""
   ]
  },
  {
   "cell_type": "code",
   "execution_count": 35,
   "metadata": {
    "deletable": false,
    "editable": false,
    "nbgrader": {
     "cell_type": "code",
     "checksum": "993db9c546703951bea6de80add12f76",
     "grade": true,
     "grade_id": "cell-a3ca37511dc2b2ad",
     "locked": true,
     "points": 1,
     "schema_version": 3,
     "solution": false,
     "task": false
    },
    "tags": []
   },
   "outputs": [
    {
     "name": "stdout",
     "output_type": "stream",
     "text": [
      "\u001b[32mTest passed\u001b[39m 🌈\n",
      "\u001b[32mTest passed\u001b[39m 🎊\n",
      "\u001b[32mTest passed\u001b[39m 😸\n",
      "[1] \"Success!\"\n"
     ]
    }
   ],
   "source": [
    "test_3.4()"
   ]
  },
  {
   "cell_type": "markdown",
   "metadata": {
    "deletable": false,
    "editable": false,
    "nbgrader": {
     "cell_type": "markdown",
     "checksum": "d31dc70f79ae385b73aabab993ab9656",
     "grade": false,
     "grade_id": "cell-b7a372995c317f97",
     "locked": true,
     "schema_version": 3,
     "solution": false,
     "task": false
    },
    "tags": []
   },
   "source": [
    "### How does the interaction model fit the data?\n",
    "\n",
    "Results from **Question 3.1** suggests that `model.5` does not fit the data well, even if it is better than the intercept-only model. Only 41% of the variation observed in protein levels is explained by the model! While the $p$-value from `glance()` indicates that there is enough evidence to reject $H_0$, it still doesn't mean that `mrna` is a relevant variable. Let's compare this model with other models. "
   ]
  },
  {
   "cell_type": "markdown",
   "metadata": {
    "deletable": false,
    "editable": false,
    "nbgrader": {
     "cell_type": "markdown",
     "checksum": "3c05f05189ab6b6dad0e965eac25b5d1",
     "grade": false,
     "grade_id": "cell-b46cc7938531182c",
     "locked": true,
     "schema_version": 3,
     "solution": false,
     "task": false
    },
    "tags": []
   },
   "source": [
    "To examine that question let's compare the following nested models:\n",
    "\n",
    "$$\\textbf{reduced}:\\text{prot}_t=\\beta_0 + \\beta_2 \\text{gene2}_{t} + \\beta_3 \\text{gene3}_{t} + \\varepsilon_t$$\n",
    "\n",
    "$$\\textbf{full}:\\text{prot}_t = \\beta_0 + \\beta_1 \\text{mrna}_{t} + \\beta_2 \\text{gene2}_{t}  + \\beta_3 \\text{gene3}_{t}  + \\beta_4 \\text{gene2}_{t}  \\text{mrna}_{t} + \\beta_5 \\text{gene3}_{t}  \\text{mrna}_{t} +\\varepsilon_t$$"
   ]
  },
  {
   "cell_type": "markdown",
   "metadata": {
    "deletable": false,
    "editable": false,
    "nbgrader": {
     "cell_type": "markdown",
     "checksum": "e09c706c3b6bfd4bfe1170e1ba6f4572",
     "grade": false,
     "grade_id": "cell-c52a18cc8af85c36",
     "locked": true,
     "schema_version": 3,
     "solution": false,
     "task": false
    }
   },
   "source": [
    "**Question 3.5**\n",
    "<br>{points: 1}\n",
    "\n",
    "An $F$-test can be used to test *simultaneously* whether the additional parameters in the full model are zero. Which hypotheses need to be tested using an $F$-test?\n",
    "\n",
    "**A.** $H_0: \\beta_2 = \\beta_3 = 0$ vs. $H_1: \\text{at least one } \\beta_j \\neq 0 \\text{ (for } $j = 2, 3$ \\text{)}$\n",
    "\n",
    "**B.** $H_0: \\beta_1 = \\beta_4 = \\beta_5 = 0$ vs. $H_1: \\text{at least one } \\beta_j \\neq 0 \\text{ (for } $j = 1, 4, 5$ \\text{)}$\n",
    "\n",
    "**C.** $H_0: \\beta_0 = \\beta_1 = \\beta_2 = \\beta_3 = \\beta_4 = \\beta_5 = 0$ vs. $H_1: \\text{at least one } \\beta_j \\neq 0 \\text{ (for } $j = 0, 1, 2, 3, 4, 5$ \\text{)}$\n",
    "\n",
    "**D.** $H_0: \\beta_1 = \\beta_2 = \\beta_3 = \\beta_4 = \\beta_5 = 0$ vs. $H_1: \\text{at least one } \\beta_j \\neq 0 \\text{ (for } $j = 1, 2, 3, 4, 5$ \\text{)}$\n",
    "\n",
    "**E.** $H_0: \\hat{\\beta}_2 = \\hat{\\beta}_3 = 0$ vs. $H_1: \\text{at least one } \\hat{\\beta}_j \\neq 0 \\text{ (for } $j = 2, 3$ \\text{)}$\n",
    "\n",
    "*Assign your answer to an object called `answer3.5`. Your answer should be one of `\"A\"`, `\"B\"`, `\"C\"`, \"D\"` or `\"E\"` surrounded by quotes.*"
   ]
  },
  {
   "cell_type": "code",
   "execution_count": 36,
   "metadata": {
    "deletable": false,
    "nbgrader": {
     "cell_type": "code",
     "checksum": "9c58fcaf117a23cfa106fd30bc723ca7",
     "grade": false,
     "grade_id": "cell-b5723b1752ac1294",
     "locked": false,
     "schema_version": 3,
     "solution": true,
     "task": false
    },
    "tags": []
   },
   "outputs": [],
   "source": [
    "# answer3.5 <- \n",
    "\n",
    "# your code here\n",
    "answer3.5 <- \"B\""
   ]
  },
  {
   "cell_type": "code",
   "execution_count": 37,
   "metadata": {
    "deletable": false,
    "editable": false,
    "nbgrader": {
     "cell_type": "code",
     "checksum": "f5b516f9593a0157f21221e5917ca6fa",
     "grade": true,
     "grade_id": "cell-c1bf7a0bc0c2ef25",
     "locked": true,
     "points": 1,
     "schema_version": 3,
     "solution": false,
     "task": false
    },
    "tags": []
   },
   "outputs": [
    {
     "name": "stdout",
     "output_type": "stream",
     "text": [
      "\u001b[32mTest passed\u001b[39m 🥳\n",
      "\u001b[32mTest passed\u001b[39m 🎉\n",
      "\u001b[32mTest passed\u001b[39m 🎉\n",
      "[1] \"Success!\"\n"
     ]
    }
   ],
   "source": [
    "test_3.5()"
   ]
  },
  {
   "cell_type": "markdown",
   "metadata": {
    "deletable": false,
    "editable": false,
    "nbgrader": {
     "cell_type": "markdown",
     "checksum": "14f71cf4fae75856318f9fc112fc43c7",
     "grade": false,
     "grade_id": "cell-377ceb2f92921288",
     "locked": true,
     "schema_version": 3,
     "solution": false,
     "task": false
    }
   },
   "source": [
    "**Question 3.6**\n",
    "<br>{points: 1}\n",
    "\n",
    "The following hypotheses compare the reduced (`model.3` without `mrna`) and the full model (`model.5` with interaction) stated above.\n",
    "\n",
    "Select the code that you can use to test these hypotheses.\n",
    "\n",
    "**A.** `tidy(lm(prot ~ gene * mrna, dat_3genes))`\n",
    "\n",
    "**B.** `tidy(lm(prot ~ gene + mrna, dat_3genes))`\n",
    "\n",
    "**C.** `glance(lm(prot ~ gene * mrna, dat_3genes))`\n",
    "\n",
    "**D.** `glance(lm(prot ~ gene + mrna, dat_3genes))`\n",
    "\n",
    "**E.** `anova(lm(prot ~ gene, dat_3genes), lm(prot ~ gene * mrna, dat_3genes))`\n",
    "\n",
    "\n",
    "*Assign your answer to an object called `answer3.6`. Your answer should be one of `\"A\"`, `\"B\"`, `\"C\"`, `\"D\"`, or `\"E\"` surrounded by quotes.*"
   ]
  },
  {
   "cell_type": "code",
   "execution_count": 38,
   "metadata": {
    "deletable": false,
    "nbgrader": {
     "cell_type": "code",
     "checksum": "8c0e14f1843980216c0e8460cbc48e6a",
     "grade": false,
     "grade_id": "cell-9d0d4fac52a22f63",
     "locked": false,
     "schema_version": 3,
     "solution": true,
     "task": false
    },
    "tags": []
   },
   "outputs": [],
   "source": [
    "# answer3.6 <- \n",
    "\n",
    "# your code here\n",
    "answer3.6 <- \"E\""
   ]
  },
  {
   "cell_type": "code",
   "execution_count": 39,
   "metadata": {
    "deletable": false,
    "editable": false,
    "nbgrader": {
     "cell_type": "code",
     "checksum": "6a7fa961cc60b98871472411c53a1766",
     "grade": true,
     "grade_id": "cell-6c817e4c8dcc41ee",
     "locked": true,
     "points": 1,
     "schema_version": 3,
     "solution": false,
     "task": false
    },
    "tags": []
   },
   "outputs": [
    {
     "name": "stdout",
     "output_type": "stream",
     "text": [
      "\u001b[32mTest passed\u001b[39m 🎉\n",
      "\u001b[32mTest passed\u001b[39m 🥇\n",
      "\u001b[32mTest passed\u001b[39m 😀\n",
      "[1] \"Success!\"\n"
     ]
    }
   ],
   "source": [
    "test_3.6()"
   ]
  },
  {
   "cell_type": "markdown",
   "metadata": {
    "deletable": false,
    "editable": false,
    "nbgrader": {
     "cell_type": "markdown",
     "checksum": "835cdcfc245c9055cecd8b6860f9a9b7",
     "grade": false,
     "grade_id": "cell-2876dc9f0b8a015a",
     "locked": true,
     "schema_version": 3,
     "solution": false,
     "task": false
    },
    "tags": []
   },
   "source": [
    "**Question 3.7**\n",
    "<br>{points: 1}\n",
    "\n",
    "Use the function `anova()` to run the test from **Question 3.5**. Store your results in an object called `Ftest_3genes_mrna`. Your output should be a table of size (2 x 6)\n",
    "\n",
    "*Fill out those parts indicated with `...`, uncomment the corresponding code in the cell below, and run it.*"
   ]
  },
  {
   "cell_type": "code",
   "execution_count": 40,
   "metadata": {
    "deletable": false,
    "nbgrader": {
     "cell_type": "code",
     "checksum": "9863449eade2d72a694a5d825427d552",
     "grade": false,
     "grade_id": "cell-a290ce6bc1a11890",
     "locked": false,
     "schema_version": 3,
     "solution": true,
     "task": false
    },
    "tags": []
   },
   "outputs": [
    {
     "data": {
      "text/html": [
       "<table class=\"dataframe\">\n",
       "<caption>A anova: 2 × 6</caption>\n",
       "<thead>\n",
       "\t<tr><th></th><th scope=col>Res.Df</th><th scope=col>RSS</th><th scope=col>Df</th><th scope=col>Sum of Sq</th><th scope=col>F</th><th scope=col>Pr(&gt;F)</th></tr>\n",
       "\t<tr><th></th><th scope=col>&lt;dbl&gt;</th><th scope=col>&lt;dbl&gt;</th><th scope=col>&lt;dbl&gt;</th><th scope=col>&lt;dbl&gt;</th><th scope=col>&lt;dbl&gt;</th><th scope=col>&lt;dbl&gt;</th></tr>\n",
       "</thead>\n",
       "<tbody>\n",
       "\t<tr><th scope=row>1</th><td>33</td><td>1.104141e-07</td><td>NA</td><td>          NA</td><td>      NA</td><td>       NA</td></tr>\n",
       "\t<tr><th scope=row>2</th><td>30</td><td>9.887768e-08</td><td> 3</td><td>1.153643e-08</td><td>1.166737</td><td>0.3387594</td></tr>\n",
       "</tbody>\n",
       "</table>\n"
      ],
      "text/latex": [
       "A anova: 2 × 6\n",
       "\\begin{tabular}{r|llllll}\n",
       "  & Res.Df & RSS & Df & Sum of Sq & F & Pr(>F)\\\\\n",
       "  & <dbl> & <dbl> & <dbl> & <dbl> & <dbl> & <dbl>\\\\\n",
       "\\hline\n",
       "\t1 & 33 & 1.104141e-07 & NA &           NA &       NA &        NA\\\\\n",
       "\t2 & 30 & 9.887768e-08 &  3 & 1.153643e-08 & 1.166737 & 0.3387594\\\\\n",
       "\\end{tabular}\n"
      ],
      "text/markdown": [
       "\n",
       "A anova: 2 × 6\n",
       "\n",
       "| <!--/--> | Res.Df &lt;dbl&gt; | RSS &lt;dbl&gt; | Df &lt;dbl&gt; | Sum of Sq &lt;dbl&gt; | F &lt;dbl&gt; | Pr(&gt;F) &lt;dbl&gt; |\n",
       "|---|---|---|---|---|---|---|\n",
       "| 1 | 33 | 1.104141e-07 | NA |           NA |       NA |        NA |\n",
       "| 2 | 30 | 9.887768e-08 |  3 | 1.153643e-08 | 1.166737 | 0.3387594 |\n",
       "\n"
      ],
      "text/plain": [
       "  Res.Df RSS          Df Sum of Sq    F        Pr(>F)   \n",
       "1 33     1.104141e-07 NA           NA       NA        NA\n",
       "2 30     9.887768e-08  3 1.153643e-08 1.166737 0.3387594"
      ]
     },
     "metadata": {},
     "output_type": "display_data"
    }
   ],
   "source": [
    "#[write your code here]\n",
    "#Ftest_3genes_mrna\n",
    "\n",
    "# your code here\n",
    "Ftest_3genes_mrna <- anova(lm(prot ~ gene, dat_3genes), lm(prot ~ gene * mrna, dat_3genes))\n",
    "Ftest_3genes_mrna"
   ]
  },
  {
   "cell_type": "code",
   "execution_count": 41,
   "metadata": {
    "deletable": false,
    "editable": false,
    "nbgrader": {
     "cell_type": "code",
     "checksum": "a1586b962e6c9c7009c6fcd76f6d83a1",
     "grade": true,
     "grade_id": "cell-4f1cde48cac3b95a",
     "locked": true,
     "points": 1,
     "schema_version": 3,
     "solution": false,
     "task": false
    },
    "tags": []
   },
   "outputs": [
    {
     "name": "stdout",
     "output_type": "stream",
     "text": [
      "\u001b[32mTest passed\u001b[39m 🥳\n",
      "\u001b[32mTest passed\u001b[39m 😀\n",
      "[1] \"Success!\"\n"
     ]
    }
   ],
   "source": [
    "test_3.7()"
   ]
  },
  {
   "cell_type": "markdown",
   "metadata": {
    "deletable": false,
    "editable": false,
    "nbgrader": {
     "cell_type": "markdown",
     "checksum": "4e1eb1439f737a1675cba60edaff47ba",
     "grade": false,
     "grade_id": "cell-1de0636f42b700c8",
     "locked": true,
     "schema_version": 3,
     "solution": false,
     "task": false
    },
    "tags": []
   },
   "source": [
    "#### Conclusions from the analysis\n",
    "\n",
    "While the authors claimed that \"***it now becomes possible to predict protein abundance in any given tissue with good accuracy from the measured mRNA abundance***\" as long as we consider different models for different genes, the test above does not provide enough evidence to support this hypothesis (at least for the 3 genes selected). Note that the complex model with different LR for each genes is not significantly different than a model without mRNA!! Most of the variation in the data seems to be explained by the variable `gene`!"
   ]
  },
  {
   "cell_type": "markdown",
   "metadata": {
    "deletable": false,
    "editable": false,
    "nbgrader": {
     "cell_type": "markdown",
     "checksum": "00ecdf3d78cd4b12c4017eb80f675ad7",
     "grade": false,
     "grade_id": "cell-a7f0358b7a8d93f7",
     "locked": true,
     "schema_version": 3,
     "solution": false,
     "task": false
    }
   },
   "source": [
    "## Conclusions of PART I\n",
    "\n",
    "#### Evaluation of Models when the main goal is estimation and inference:\n",
    "\n",
    "- The $R^2$, coefficient of determination, can be used to compared the sum of squares of the residuals of the fitted model with that of the null model\n",
    "\n",
    "\n",
    "- The $R^2$ is usually interpreted as the part of the variation in the response explained by the model\n",
    "\n",
    "\n",
    "- Many definitions and interpretations of the $R^2$ are for LS estimators of LR containing an intercept\n",
    "\n",
    "\n",
    "- The $R^2$ is not a test and it does not provide a probabilistic result and it's distribution is unknown!\n",
    "\n",
    "\n",
    "- Instead, we can use an $F$ test, also refer as ANOVA, to compare nested models\n",
    "\n",
    "    - tests the simultaneous significance of additional coefficients of the full model (not in the reduced model)\n",
    "    \n",
    "    - in particular, we can use it to test the significance of the fitted model over the null model\n",
    "    \n",
    "\n",
    "- These $F$ tests can be used to select variables!! since we are comparing and testing how the fit changes as we select variables\n",
    "\n",
    "#### Evaluation of Models when the main goal is prediction:\n",
    "\n",
    "- The test MSE is a natural measure to compare new responses from a test set with the predicted values $\\hat{y}_i$ from the LR estimated with training data\n",
    "\n",
    "- The $R^2$ based on test data can also be used but it should not be called a \"coefficient of determination\" "
   ]
  }
 ],
 "metadata": {
  "jupytext": {
   "formats": "ipynb,Rmd"
  },
  "kernelspec": {
   "display_name": "R",
   "language": "R",
   "name": "ir"
  },
  "language_info": {
   "codemirror_mode": "r",
   "file_extension": ".r",
   "mimetype": "text/x-r-source",
   "name": "R",
   "pygments_lexer": "r",
   "version": "4.2.3"
  },
  "latex_envs": {
   "LaTeX_envs_menu_present": true,
   "autoclose": false,
   "autocomplete": true,
   "bibliofile": "biblio.bib",
   "cite_by": "apalike",
   "current_citInitial": 1,
   "eqLabelWithNumbers": true,
   "eqNumInitial": 1,
   "hotkeys": {
    "equation": "Ctrl-E",
    "itemize": "Ctrl-I"
   },
   "labels_anchors": false,
   "latex_user_defs": false,
   "report_style_numbering": false,
   "user_envs_cfg": false
  }
 },
 "nbformat": 4,
 "nbformat_minor": 4
}
