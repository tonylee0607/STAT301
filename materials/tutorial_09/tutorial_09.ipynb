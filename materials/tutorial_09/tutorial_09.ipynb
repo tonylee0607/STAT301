{
 "cells": [
  {
   "cell_type": "markdown",
   "metadata": {
    "deletable": false,
    "editable": false,
    "nbgrader": {
     "cell_type": "markdown",
     "checksum": "856b1661d1bc13ead2eca8ede9b80648",
     "grade": false,
     "grade_id": "cell-f1e1d845873036f4",
     "locked": true,
     "schema_version": 3,
     "solution": false,
     "task": false
    }
   },
   "source": [
    "# Tutorial 9: Prediction and Model Selection"
   ]
  },
  {
   "cell_type": "markdown",
   "metadata": {
    "deletable": false,
    "editable": false,
    "nbgrader": {
     "cell_type": "markdown",
     "checksum": "b75f7897e60da07def4120a33c44b828",
     "grade": false,
     "grade_id": "cell-34b6d6e1de870f0a",
     "locked": true,
     "schema_version": 3,
     "solution": false,
     "task": false
    }
   },
   "source": [
    "#### Lecture and Tutorial Learning Goals:\n",
    "\n",
    "By the end of this section, students will be able to:\n",
    "\n",
    "- Explain the difference between confidence intervals for prediction and prediction confidence intervals and what elements need to be estimated to construct these intervals.\n",
    "\n",
    "- Write a computer script to calculate these intervals. Interpret and communicate the results from that computer script.\n",
    "\n",
    "- Give an example of a question that can be answered by predictive modelling.\n",
    "\n",
    "- Explain the algorithms for the following variable selection methods: • Forward selection • Backward selection\n",
    "\n",
    "- Explain when a linear regression is an appropriate model to predict new outcomes based on new values of the input variables.\n",
    "\n",
    "- List model metrics that are suitable for evaluation of a statistical model developed for the purpose of predictive modelling (e.g., RMSE), as well as how they are calculated.\n",
    "\n",
    "- Discuss how different estimation methods can result in different predictions."
   ]
  },
  {
   "cell_type": "code",
   "execution_count": 1,
   "metadata": {
    "deletable": false,
    "editable": false,
    "nbgrader": {
     "cell_type": "code",
     "checksum": "c925a5aec069dc734d72f02c9a8372f8",
     "grade": false,
     "grade_id": "cell-a2a153352bc44a68",
     "locked": true,
     "schema_version": 3,
     "solution": false,
     "task": false
    },
    "tags": []
   },
   "outputs": [
    {
     "name": "stderr",
     "output_type": "stream",
     "text": [
      "── \u001b[1mAttaching core tidyverse packages\u001b[22m ──────────────────────── tidyverse 2.0.0 ──\n",
      "\u001b[32m✔\u001b[39m \u001b[34mdplyr    \u001b[39m 1.1.4     \u001b[32m✔\u001b[39m \u001b[34mreadr    \u001b[39m 2.1.4\n",
      "\u001b[32m✔\u001b[39m \u001b[34mforcats  \u001b[39m 1.0.0     \u001b[32m✔\u001b[39m \u001b[34mstringr  \u001b[39m 1.5.1\n",
      "\u001b[32m✔\u001b[39m \u001b[34mggplot2  \u001b[39m 3.4.4     \u001b[32m✔\u001b[39m \u001b[34mtibble   \u001b[39m 3.2.1\n",
      "\u001b[32m✔\u001b[39m \u001b[34mlubridate\u001b[39m 1.9.3     \u001b[32m✔\u001b[39m \u001b[34mtidyr    \u001b[39m 1.3.0\n",
      "\u001b[32m✔\u001b[39m \u001b[34mpurrr    \u001b[39m 1.0.2     \n",
      "── \u001b[1mConflicts\u001b[22m ────────────────────────────────────────── tidyverse_conflicts() ──\n",
      "\u001b[31m✖\u001b[39m \u001b[34mdplyr\u001b[39m::\u001b[32mfilter()\u001b[39m masks \u001b[34mstats\u001b[39m::filter()\n",
      "\u001b[31m✖\u001b[39m \u001b[34mdplyr\u001b[39m::\u001b[32mlag()\u001b[39m    masks \u001b[34mstats\u001b[39m::lag()\n",
      "\u001b[36mℹ\u001b[39m Use the conflicted package (\u001b[3m\u001b[34m<http://conflicted.r-lib.org/>\u001b[39m\u001b[23m) to force all conflicts to become errors\n",
      "\n",
      "Attaching package: ‘gridExtra’\n",
      "\n",
      "\n",
      "The following object is masked from ‘package:dplyr’:\n",
      "\n",
      "    combine\n",
      "\n",
      "\n",
      "\n",
      "Attaching package: ‘mltools’\n",
      "\n",
      "\n",
      "The following object is masked from ‘package:tidyr’:\n",
      "\n",
      "    replace_na\n",
      "\n",
      "\n",
      "Loading required package: Matrix\n",
      "\n",
      "\n",
      "Attaching package: ‘Matrix’\n",
      "\n",
      "\n",
      "The following objects are masked from ‘package:tidyr’:\n",
      "\n",
      "    expand, pack, unpack\n",
      "\n",
      "\n",
      "Loaded glmnet 4.1-8\n",
      "\n",
      "\n",
      "Attaching package: ‘cowplot’\n",
      "\n",
      "\n",
      "The following object is masked from ‘package:lubridate’:\n",
      "\n",
      "    stamp\n",
      "\n",
      "\n",
      "\n",
      "Attaching package: ‘testthat’\n",
      "\n",
      "\n",
      "The following object is masked from ‘package:dplyr’:\n",
      "\n",
      "    matches\n",
      "\n",
      "\n",
      "The following object is masked from ‘package:purrr’:\n",
      "\n",
      "    is_null\n",
      "\n",
      "\n",
      "The following objects are masked from ‘package:readr’:\n",
      "\n",
      "    edition_get, local_edition\n",
      "\n",
      "\n",
      "The following object is masked from ‘package:tidyr’:\n",
      "\n",
      "    matches\n",
      "\n",
      "\n"
     ]
    }
   ],
   "source": [
    "# Run this cell before continuing.\n",
    "library(tidyverse)\n",
    "library(broom)\n",
    "library(repr)\n",
    "library(infer)\n",
    "library(gridExtra)\n",
    "library(faraway)\n",
    "library(mltools)\n",
    "library(leaps)\n",
    "library(glmnet)\n",
    "library(cowplot)\n",
    "source(\"tests_tutorial_09.R\")"
   ]
  },
  {
   "cell_type": "markdown",
   "metadata": {
    "deletable": false,
    "editable": false,
    "nbgrader": {
     "cell_type": "markdown",
     "checksum": "7c4d7ae442bf171201f2ca59654e8e59",
     "grade": false,
     "grade_id": "cell-b2663beefdcc8af5",
     "locked": true,
     "schema_version": 3,
     "solution": false,
     "task": false
    }
   },
   "source": [
    "## 1. Prediction CI *versus* CI for Prediction\n",
    "\n",
    "In previous lectures we have learned how to estimate LR models and used them to make inference about the population parameters. In this lecture we will learn different concepts related to *prediction*.\n",
    "\n",
    "> **Heads up**: It is important to distinguished between *in-sample* prediction from *out-of-sample* prediction\n",
    "\n",
    "We have seen different measures to compare the *in-sample* values of the response with their corresponding predicted values using a LR to evaluate the goodness of the model.\n",
    "\n",
    "In this first section we are going to recognize and measure the *uncertainty* of these predictions."
   ]
  },
  {
   "cell_type": "markdown",
   "metadata": {
    "deletable": false,
    "editable": false,
    "nbgrader": {
     "cell_type": "markdown",
     "checksum": "05360920fc751d25e6071ef808f7a605",
     "grade": false,
     "grade_id": "cell-6b0d24d7f154f4c7",
     "locked": true,
     "schema_version": 3,
     "solution": false,
     "task": false
    }
   },
   "source": [
    "Let us start by loading the dataset to be used throughout this tutorial. We will use the dataset `fat` from the library `faraway`. You can find detailed information about it in [Johnson (1996)](https://www.tandfonline.com/doi/full/10.1080/10691898.1996.11910505). This dataset contains the percentage of body fat and a whole variety of body measurements (continuous variables) of 252 men. We will use the variable `brozek` as the response variable and a subset 14 variables to build different models. \n",
    "\n",
    "Run the code below to create the working data frame called `fat_sample`."
   ]
  },
  {
   "cell_type": "code",
   "execution_count": 2,
   "metadata": {
    "deletable": false,
    "editable": false,
    "nbgrader": {
     "cell_type": "code",
     "checksum": "db7e0e1b3c320042a8036ec5f52eea75",
     "grade": false,
     "grade_id": "cell-1d7ec8f490a2c3bc",
     "locked": true,
     "schema_version": 3,
     "solution": false,
     "task": false
    },
    "tags": []
   },
   "outputs": [
    {
     "data": {
      "text/html": [
       "<table class=\"dataframe\">\n",
       "<caption>A data.frame: 3 × 15</caption>\n",
       "<thead>\n",
       "\t<tr><th></th><th scope=col>brozek</th><th scope=col>age</th><th scope=col>weight</th><th scope=col>height</th><th scope=col>adipos</th><th scope=col>neck</th><th scope=col>chest</th><th scope=col>abdom</th><th scope=col>hip</th><th scope=col>thigh</th><th scope=col>knee</th><th scope=col>ankle</th><th scope=col>biceps</th><th scope=col>forearm</th><th scope=col>wrist</th></tr>\n",
       "\t<tr><th></th><th scope=col>&lt;dbl&gt;</th><th scope=col>&lt;int&gt;</th><th scope=col>&lt;dbl&gt;</th><th scope=col>&lt;dbl&gt;</th><th scope=col>&lt;dbl&gt;</th><th scope=col>&lt;dbl&gt;</th><th scope=col>&lt;dbl&gt;</th><th scope=col>&lt;dbl&gt;</th><th scope=col>&lt;dbl&gt;</th><th scope=col>&lt;dbl&gt;</th><th scope=col>&lt;dbl&gt;</th><th scope=col>&lt;dbl&gt;</th><th scope=col>&lt;dbl&gt;</th><th scope=col>&lt;dbl&gt;</th><th scope=col>&lt;dbl&gt;</th></tr>\n",
       "</thead>\n",
       "<tbody>\n",
       "\t<tr><th scope=row>1</th><td>12.6</td><td>23</td><td>154.25</td><td>67.75</td><td>23.7</td><td>36.2</td><td>93.1</td><td>85.2</td><td>94.5</td><td>59.0</td><td>37.3</td><td>21.9</td><td>32.0</td><td>27.4</td><td>17.1</td></tr>\n",
       "\t<tr><th scope=row>2</th><td> 6.9</td><td>22</td><td>173.25</td><td>72.25</td><td>23.4</td><td>38.5</td><td>93.6</td><td>83.0</td><td>98.7</td><td>58.7</td><td>37.3</td><td>23.4</td><td>30.5</td><td>28.9</td><td>18.2</td></tr>\n",
       "\t<tr><th scope=row>3</th><td>24.6</td><td>22</td><td>154.00</td><td>66.25</td><td>24.7</td><td>34.0</td><td>95.8</td><td>87.9</td><td>99.2</td><td>59.6</td><td>38.9</td><td>24.0</td><td>28.8</td><td>25.2</td><td>16.6</td></tr>\n",
       "</tbody>\n",
       "</table>\n"
      ],
      "text/latex": [
       "A data.frame: 3 × 15\n",
       "\\begin{tabular}{r|lllllllllllllll}\n",
       "  & brozek & age & weight & height & adipos & neck & chest & abdom & hip & thigh & knee & ankle & biceps & forearm & wrist\\\\\n",
       "  & <dbl> & <int> & <dbl> & <dbl> & <dbl> & <dbl> & <dbl> & <dbl> & <dbl> & <dbl> & <dbl> & <dbl> & <dbl> & <dbl> & <dbl>\\\\\n",
       "\\hline\n",
       "\t1 & 12.6 & 23 & 154.25 & 67.75 & 23.7 & 36.2 & 93.1 & 85.2 & 94.5 & 59.0 & 37.3 & 21.9 & 32.0 & 27.4 & 17.1\\\\\n",
       "\t2 &  6.9 & 22 & 173.25 & 72.25 & 23.4 & 38.5 & 93.6 & 83.0 & 98.7 & 58.7 & 37.3 & 23.4 & 30.5 & 28.9 & 18.2\\\\\n",
       "\t3 & 24.6 & 22 & 154.00 & 66.25 & 24.7 & 34.0 & 95.8 & 87.9 & 99.2 & 59.6 & 38.9 & 24.0 & 28.8 & 25.2 & 16.6\\\\\n",
       "\\end{tabular}\n"
      ],
      "text/markdown": [
       "\n",
       "A data.frame: 3 × 15\n",
       "\n",
       "| <!--/--> | brozek &lt;dbl&gt; | age &lt;int&gt; | weight &lt;dbl&gt; | height &lt;dbl&gt; | adipos &lt;dbl&gt; | neck &lt;dbl&gt; | chest &lt;dbl&gt; | abdom &lt;dbl&gt; | hip &lt;dbl&gt; | thigh &lt;dbl&gt; | knee &lt;dbl&gt; | ankle &lt;dbl&gt; | biceps &lt;dbl&gt; | forearm &lt;dbl&gt; | wrist &lt;dbl&gt; |\n",
       "|---|---|---|---|---|---|---|---|---|---|---|---|---|---|---|---|\n",
       "| 1 | 12.6 | 23 | 154.25 | 67.75 | 23.7 | 36.2 | 93.1 | 85.2 | 94.5 | 59.0 | 37.3 | 21.9 | 32.0 | 27.4 | 17.1 |\n",
       "| 2 |  6.9 | 22 | 173.25 | 72.25 | 23.4 | 38.5 | 93.6 | 83.0 | 98.7 | 58.7 | 37.3 | 23.4 | 30.5 | 28.9 | 18.2 |\n",
       "| 3 | 24.6 | 22 | 154.00 | 66.25 | 24.7 | 34.0 | 95.8 | 87.9 | 99.2 | 59.6 | 38.9 | 24.0 | 28.8 | 25.2 | 16.6 |\n",
       "\n"
      ],
      "text/plain": [
       "  brozek age weight height adipos neck chest abdom hip  thigh knee ankle biceps\n",
       "1 12.6   23  154.25 67.75  23.7   36.2 93.1  85.2  94.5 59.0  37.3 21.9  32.0  \n",
       "2  6.9   22  173.25 72.25  23.4   38.5 93.6  83.0  98.7 58.7  37.3 23.4  30.5  \n",
       "3 24.6   22  154.00 66.25  24.7   34.0 95.8  87.9  99.2 59.6  38.9 24.0  28.8  \n",
       "  forearm wrist\n",
       "1 27.4    17.1 \n",
       "2 28.9    18.2 \n",
       "3 25.2    16.6 "
      ]
     },
     "metadata": {},
     "output_type": "display_data"
    }
   ],
   "source": [
    "fat_sample <- fat %>%\n",
    "  select(\n",
    "    brozek, age, weight, height, adipos, neck, chest, abdom,\n",
    "    hip, thigh, knee, ankle, biceps, forearm, wrist\n",
    "  )\n",
    "\n",
    "head(fat_sample,3)"
   ]
  },
  {
   "cell_type": "markdown",
   "metadata": {
    "deletable": false,
    "editable": false,
    "nbgrader": {
     "cell_type": "markdown",
     "checksum": "38cec0b7286293c3cab0b916a7d122bf",
     "grade": false,
     "grade_id": "cell-2a05a7dad6e0eaf6",
     "locked": true,
     "schema_version": 3,
     "solution": false,
     "task": false
    }
   },
   "source": [
    "The response variable `brozek` is the percent of body fat using Brozek's equation:\n",
    "\n",
    "$$\\texttt{brozek} = \\frac{457}{\\texttt{density}} - 414.2,$$\n",
    "\n",
    "where body `density` is measured in $\\text{g}/\\text{cm}^3$.\n",
    "\n",
    "The 14 input variables are:\n",
    "\n",
    "- `age`: Age in $\\text{years}$.\n",
    "- `weight`: Weight in $\\text{lb}$.\n",
    "- `height`: Height in $\\text{in}$.\n",
    "- `adipos`: Adiposity index in $\\text{kg}/\\text{m}^2$.\n",
    "\n",
    "$$\\texttt{adipos} = \\frac{\\texttt{weight}}{\\texttt{height}^2}$$\n",
    "\n",
    "- `neck`: Neck circumference in $\\text{cm}$.\n",
    "- `chest`: Chest circumference in $\\text{cm}$.\n",
    "- `abdom`: Abdomen circumference at the umbilicus and level with the iliac crest in $\\text{cm}$.\n",
    "- `hip`: Hip circumference in $\\text{cm}$.\n",
    "- `thigh`: Thigh circumference in $\\text{cm}$.\n",
    "- `knee`: Knee circumference in $\\text{cm}$.\n",
    "- `ankle`: Ankle circumference in $\\text{cm}$.\n",
    "- `biceps`: Extended biceps circumference in $\\text{cm}$.\n",
    "- `forearm`: Forearm circumference in $\\text{cm}$.\n",
    "- `wrist`: Wrist circumference distal to the styloid processes in $\\text{cm}$."
   ]
  },
  {
   "cell_type": "markdown",
   "metadata": {
    "deletable": false,
    "editable": false,
    "nbgrader": {
     "cell_type": "markdown",
     "checksum": "f46fd67af11ce6695f4c8dd815aba937",
     "grade": false,
     "grade_id": "cell-942a4a50b59db180",
     "locked": true,
     "schema_version": 3,
     "solution": false,
     "task": false
    }
   },
   "source": [
    "**Question 1.0**\n",
    "<br>{points: 1}\n",
    "\n",
    "Let's start by building a SLR using only `weight` to predict `brozek`.\n",
    "\n",
    "Use the `lm()` function to estimate the SLR. Store this estimated model in the variable `SLR_fat`.\n",
    "\n",
    "*Fill out those parts indicated with ..., uncomment the corresponding code in the cell below, and run it.*"
   ]
  },
  {
   "cell_type": "code",
   "execution_count": 3,
   "metadata": {
    "deletable": false,
    "nbgrader": {
     "cell_type": "code",
     "checksum": "2bfed14ad43e99a75b8020000907be0e",
     "grade": false,
     "grade_id": "cell-cee6d509d573577c",
     "locked": false,
     "schema_version": 3,
     "solution": true,
     "task": false
    },
    "tags": []
   },
   "outputs": [
    {
     "data": {
      "text/plain": [
       "\n",
       "Call:\n",
       "lm(formula = brozek ~ weight, data = fat_sample)\n",
       "\n",
       "Coefficients:\n",
       "(Intercept)       weight  \n",
       "    -9.9952       0.1617  \n"
      ]
     },
     "metadata": {},
     "output_type": "display_data"
    }
   ],
   "source": [
    "# SLR_fat <- ...(..., ...)\n",
    "# SLR_fat\n",
    "\n",
    "# your code here\n",
    "SLR_fat <- lm(brozek ~ weight, data = fat_sample)\n",
    "SLR_fat\n"
   ]
  },
  {
   "cell_type": "code",
   "execution_count": 4,
   "metadata": {
    "deletable": false,
    "editable": false,
    "nbgrader": {
     "cell_type": "code",
     "checksum": "dcad7e97d299f54f096499be4b03849c",
     "grade": true,
     "grade_id": "cell-8134da8c9b28310c",
     "locked": true,
     "points": 1,
     "schema_version": 3,
     "solution": false,
     "task": false
    },
    "tags": []
   },
   "outputs": [
    {
     "name": "stdout",
     "output_type": "stream",
     "text": [
      "\u001b[32mTest passed\u001b[39m 🎊\n",
      "\u001b[32mTest passed\u001b[39m 😸\n",
      "[1] \"Success!\"\n",
      "\u001b[32mTest passed\u001b[39m 😸\n",
      "\u001b[32mTest passed\u001b[39m 🎉\n",
      "[1] \"Success!\"\n"
     ]
    }
   ],
   "source": [
    "test_1.0()"
   ]
  },
  {
   "cell_type": "markdown",
   "metadata": {
    "deletable": false,
    "editable": false,
    "nbgrader": {
     "cell_type": "markdown",
     "checksum": "bdfb0044c730f1b6087c67d196f93302",
     "grade": false,
     "grade_id": "cell-35a25d7e5fb6c3ac",
     "locked": true,
     "schema_version": 3,
     "solution": false,
     "task": false
    }
   },
   "source": [
    "**Question 1.1**\n",
    "<br>{points: 1}\n",
    "\n",
    "In previous lectures, we have learned how to obtain and interpret confidence intervals for the regression parameters. \n",
    "\n",
    "Since the predictions are functions of the estimated LR, they also depend on the sample used! A different sample would have resulted in a different estimated LR and different predictions! As dicussed for the estimation of the regression parameters, we can obtain confidence intervals that take into account the sample-to-sample variation of the predictions as well! \n",
    "\n",
    "There are 2 type of intervals we can construct depending on the quantity we want to predict: *confidence intervals for prediction* and *prediction confidence intervals*\n",
    "\n",
    "> **Heads up**: Isn't this confusing?? \n",
    "\n",
    "Let's start by computing *confidence intervals for prediction*. These are intervals to predict the *average* brozek index for men of different weights. \n",
    "\n",
    "Using `SLR_fat` and `predict`, obtain the asymptotic 95% CIP (confidence intervals for prediction). Create a dataframe, called `fat_cip`, that contains the response, the input, the predictions, and the lower and upper bounds of the intervals for each observation **in that order from left-to-right**. \n",
    "\n",
    "*Fill out those parts indicated with ..., uncomment the corresponding code in the cell below, and run it.*"
   ]
  },
  {
   "cell_type": "code",
   "execution_count": 5,
   "metadata": {
    "deletable": false,
    "nbgrader": {
     "cell_type": "code",
     "checksum": "56742ba1c2126dcfc426979284409f60",
     "grade": false,
     "grade_id": "cell-0718e1af1d8b43a7",
     "locked": false,
     "schema_version": 3,
     "solution": true,
     "task": false
    },
    "tags": []
   },
   "outputs": [
    {
     "data": {
      "text/html": [
       "<table class=\"dataframe\">\n",
       "<caption>A data.frame: 6 × 5</caption>\n",
       "<thead>\n",
       "\t<tr><th></th><th scope=col>brozek</th><th scope=col>weight</th><th scope=col>fit</th><th scope=col>lwr</th><th scope=col>upr</th></tr>\n",
       "\t<tr><th></th><th scope=col>&lt;dbl&gt;</th><th scope=col>&lt;dbl&gt;</th><th scope=col>&lt;dbl&gt;</th><th scope=col>&lt;dbl&gt;</th><th scope=col>&lt;dbl&gt;</th></tr>\n",
       "</thead>\n",
       "<tbody>\n",
       "\t<tr><th scope=row>1</th><td>12.6</td><td>154.25</td><td>14.948</td><td>13.954</td><td>15.943</td></tr>\n",
       "\t<tr><th scope=row>2</th><td> 6.9</td><td>173.25</td><td>18.021</td><td>17.246</td><td>18.796</td></tr>\n",
       "\t<tr><th scope=row>3</th><td>24.6</td><td>154.00</td><td>14.908</td><td>13.909</td><td>15.907</td></tr>\n",
       "\t<tr><th scope=row>4</th><td>10.9</td><td>184.75</td><td>19.881</td><td>19.105</td><td>20.657</td></tr>\n",
       "\t<tr><th scope=row>5</th><td>27.8</td><td>184.25</td><td>19.800</td><td>19.026</td><td>20.573</td></tr>\n",
       "\t<tr><th scope=row>6</th><td>20.6</td><td>210.25</td><td>24.004</td><td>22.890</td><td>25.118</td></tr>\n",
       "</tbody>\n",
       "</table>\n"
      ],
      "text/latex": [
       "A data.frame: 6 × 5\n",
       "\\begin{tabular}{r|lllll}\n",
       "  & brozek & weight & fit & lwr & upr\\\\\n",
       "  & <dbl> & <dbl> & <dbl> & <dbl> & <dbl>\\\\\n",
       "\\hline\n",
       "\t1 & 12.6 & 154.25 & 14.948 & 13.954 & 15.943\\\\\n",
       "\t2 &  6.9 & 173.25 & 18.021 & 17.246 & 18.796\\\\\n",
       "\t3 & 24.6 & 154.00 & 14.908 & 13.909 & 15.907\\\\\n",
       "\t4 & 10.9 & 184.75 & 19.881 & 19.105 & 20.657\\\\\n",
       "\t5 & 27.8 & 184.25 & 19.800 & 19.026 & 20.573\\\\\n",
       "\t6 & 20.6 & 210.25 & 24.004 & 22.890 & 25.118\\\\\n",
       "\\end{tabular}\n"
      ],
      "text/markdown": [
       "\n",
       "A data.frame: 6 × 5\n",
       "\n",
       "| <!--/--> | brozek &lt;dbl&gt; | weight &lt;dbl&gt; | fit &lt;dbl&gt; | lwr &lt;dbl&gt; | upr &lt;dbl&gt; |\n",
       "|---|---|---|---|---|---|\n",
       "| 1 | 12.6 | 154.25 | 14.948 | 13.954 | 15.943 |\n",
       "| 2 |  6.9 | 173.25 | 18.021 | 17.246 | 18.796 |\n",
       "| 3 | 24.6 | 154.00 | 14.908 | 13.909 | 15.907 |\n",
       "| 4 | 10.9 | 184.75 | 19.881 | 19.105 | 20.657 |\n",
       "| 5 | 27.8 | 184.25 | 19.800 | 19.026 | 20.573 |\n",
       "| 6 | 20.6 | 210.25 | 24.004 | 22.890 | 25.118 |\n",
       "\n"
      ],
      "text/plain": [
       "  brozek weight fit    lwr    upr   \n",
       "1 12.6   154.25 14.948 13.954 15.943\n",
       "2  6.9   173.25 18.021 17.246 18.796\n",
       "3 24.6   154.00 14.908 13.909 15.907\n",
       "4 10.9   184.75 19.881 19.105 20.657\n",
       "5 27.8   184.25 19.800 19.026 20.573\n",
       "6 20.6   210.25 24.004 22.890 25.118"
      ]
     },
     "metadata": {},
     "output_type": "display_data"
    }
   ],
   "source": [
    "# fat_cip <- fat_sample  %>% \n",
    "#    select(..., ...) %>% \n",
    "#    cbind(predict(...,interval=\"confidence\",se.fit=TRUE)$fit)  %>% \n",
    "#    mutate_if(is.numeric, round, 3)\n",
    "# head(fat_cip)\n",
    "\n",
    "\n",
    "# your code here\n",
    "fat_cip <- fat_sample  %>% \n",
    "   select(brozek, weight) %>% \n",
    "   cbind(predict(SLR_fat, interval=\"confidence\", se.fit=TRUE)$fit)  %>% \n",
    "   mutate_if(is.numeric, round, 3)\n",
    "head(fat_cip)"
   ]
  },
  {
   "cell_type": "code",
   "execution_count": 6,
   "metadata": {
    "deletable": false,
    "editable": false,
    "nbgrader": {
     "cell_type": "code",
     "checksum": "9160e8ee5bf1fced0ce25c0527f046e2",
     "grade": true,
     "grade_id": "cell-6e10147cc53c2bef",
     "locked": true,
     "points": 1,
     "schema_version": 3,
     "solution": false,
     "task": false
    },
    "tags": []
   },
   "outputs": [
    {
     "name": "stdout",
     "output_type": "stream",
     "text": [
      "\u001b[32mTest passed\u001b[39m 😀\n",
      "\u001b[32mTest passed\u001b[39m 😸\n",
      "\u001b[32mTest passed\u001b[39m 🎊\n",
      "\u001b[32mTest passed\u001b[39m 🎉\n",
      "\u001b[32mTest passed\u001b[39m 🌈\n",
      "\u001b[32mTest passed\u001b[39m 🥳\n",
      "\u001b[32mTest passed\u001b[39m 🥳\n",
      "\u001b[32mTest passed\u001b[39m 🎉\n",
      "\u001b[32mTest passed\u001b[39m 🌈\n",
      "[1] \"Success!\"\n"
     ]
    }
   ],
   "source": [
    "test_1.1()"
   ]
  },
  {
   "cell_type": "markdown",
   "metadata": {
    "deletable": false,
    "editable": false,
    "nbgrader": {
     "cell_type": "markdown",
     "checksum": "8874a14f58ed2fc6367c3e3a7331cc99",
     "grade": false,
     "grade_id": "cell-cc6cc973e47676ca",
     "locked": true,
     "schema_version": 3,
     "solution": false,
     "task": false
    }
   },
   "source": [
    "**Question 1.2**\n",
    "<br>{points: 1}\n",
    "\n",
    "We have just calculated the 95% confidence interval for the mean brozek index for men of different weights in our sample. \n",
    "\n",
    "Provide a brief interpretation for the 95% confidence interval for prediction you have calculated in row 1."
   ]
  },
  {
   "cell_type": "markdown",
   "metadata": {
    "deletable": false,
    "nbgrader": {
     "cell_type": "markdown",
     "checksum": "76aa3983f86e28fd6b60217db682c747",
     "grade": true,
     "grade_id": "cell-cb3333bc637ff1b6",
     "locked": false,
     "points": 1,
     "schema_version": 3,
     "solution": true,
     "task": false
    }
   },
   "source": [
    "> *Your answer goes here.*\n",
    "\n",
    "Row 1: with 95% confidence, the expected value of a brozek of 12.6 percent is between 13954 and 15943 (rounded)."
   ]
  },
  {
   "cell_type": "markdown",
   "metadata": {
    "deletable": false,
    "editable": false,
    "nbgrader": {
     "cell_type": "markdown",
     "checksum": "911eae078702083187991c7e41469d67",
     "grade": false,
     "grade_id": "cell-9323580fb03a9331",
     "locked": true,
     "schema_version": 3,
     "solution": false,
     "task": false
    }
   },
   "source": [
    "**Question 1.3**\n",
    "<br>{points: 1}\n",
    "\n",
    "Let's now compute and interpret *prediction confidence intervals*. These are intervals to predict the (actual) brozek index for men of different weights.  \n",
    "\n",
    "You can use `SLR_fat` and `predict` again to obtain the asymptotic 95% PI (prediction intervals) changing the argument `interval`. Create a dataframe, called `fat_pi`, that contains the response, the input, the predictions, and the lower and upper bounds of the intervals for each observation, **in that order from left to right**.\n",
    "\n",
    "> **Heads up**: read the warning message! since your goal is to predict an actual value, it is important to note that this is not coming from a test set.\n",
    "\n",
    "*Fill out those parts indicated with ..., uncomment the corresponding code in the cell below, and run it.*"
   ]
  },
  {
   "cell_type": "code",
   "execution_count": 7,
   "metadata": {
    "deletable": false,
    "nbgrader": {
     "cell_type": "code",
     "checksum": "bc7261e5b40a55d2668be58b02e3773a",
     "grade": false,
     "grade_id": "cell-3f33d5bcc45086bf",
     "locked": false,
     "schema_version": 3,
     "solution": true,
     "task": false
    },
    "tags": []
   },
   "outputs": [
    {
     "name": "stderr",
     "output_type": "stream",
     "text": [
      "Warning message in predict.lm(SLR_fat, interval = \"prediction\", se.fit = TRUE):\n",
      "“predictions on current data refer to _future_ responses\n",
      "”\n"
     ]
    },
    {
     "data": {
      "text/html": [
       "<table class=\"dataframe\">\n",
       "<caption>A data.frame: 6 × 5</caption>\n",
       "<thead>\n",
       "\t<tr><th></th><th scope=col>brozek</th><th scope=col>weight</th><th scope=col>fit</th><th scope=col>lwr</th><th scope=col>upr</th></tr>\n",
       "\t<tr><th></th><th scope=col>&lt;dbl&gt;</th><th scope=col>&lt;dbl&gt;</th><th scope=col>&lt;dbl&gt;</th><th scope=col>&lt;dbl&gt;</th><th scope=col>&lt;dbl&gt;</th></tr>\n",
       "</thead>\n",
       "<tbody>\n",
       "\t<tr><th scope=row>1</th><td>12.6</td><td>154.25</td><td>14.948</td><td> 2.824</td><td>27.072</td></tr>\n",
       "\t<tr><th scope=row>2</th><td> 6.9</td><td>173.25</td><td>18.021</td><td> 5.913</td><td>30.129</td></tr>\n",
       "\t<tr><th scope=row>3</th><td>24.6</td><td>154.00</td><td>14.908</td><td> 2.784</td><td>27.032</td></tr>\n",
       "\t<tr><th scope=row>4</th><td>10.9</td><td>184.75</td><td>19.881</td><td> 7.773</td><td>31.989</td></tr>\n",
       "\t<tr><th scope=row>5</th><td>27.8</td><td>184.25</td><td>19.800</td><td> 7.692</td><td>31.908</td></tr>\n",
       "\t<tr><th scope=row>6</th><td>20.6</td><td>210.25</td><td>24.004</td><td>11.870</td><td>36.138</td></tr>\n",
       "</tbody>\n",
       "</table>\n"
      ],
      "text/latex": [
       "A data.frame: 6 × 5\n",
       "\\begin{tabular}{r|lllll}\n",
       "  & brozek & weight & fit & lwr & upr\\\\\n",
       "  & <dbl> & <dbl> & <dbl> & <dbl> & <dbl>\\\\\n",
       "\\hline\n",
       "\t1 & 12.6 & 154.25 & 14.948 &  2.824 & 27.072\\\\\n",
       "\t2 &  6.9 & 173.25 & 18.021 &  5.913 & 30.129\\\\\n",
       "\t3 & 24.6 & 154.00 & 14.908 &  2.784 & 27.032\\\\\n",
       "\t4 & 10.9 & 184.75 & 19.881 &  7.773 & 31.989\\\\\n",
       "\t5 & 27.8 & 184.25 & 19.800 &  7.692 & 31.908\\\\\n",
       "\t6 & 20.6 & 210.25 & 24.004 & 11.870 & 36.138\\\\\n",
       "\\end{tabular}\n"
      ],
      "text/markdown": [
       "\n",
       "A data.frame: 6 × 5\n",
       "\n",
       "| <!--/--> | brozek &lt;dbl&gt; | weight &lt;dbl&gt; | fit &lt;dbl&gt; | lwr &lt;dbl&gt; | upr &lt;dbl&gt; |\n",
       "|---|---|---|---|---|---|\n",
       "| 1 | 12.6 | 154.25 | 14.948 |  2.824 | 27.072 |\n",
       "| 2 |  6.9 | 173.25 | 18.021 |  5.913 | 30.129 |\n",
       "| 3 | 24.6 | 154.00 | 14.908 |  2.784 | 27.032 |\n",
       "| 4 | 10.9 | 184.75 | 19.881 |  7.773 | 31.989 |\n",
       "| 5 | 27.8 | 184.25 | 19.800 |  7.692 | 31.908 |\n",
       "| 6 | 20.6 | 210.25 | 24.004 | 11.870 | 36.138 |\n",
       "\n"
      ],
      "text/plain": [
       "  brozek weight fit    lwr    upr   \n",
       "1 12.6   154.25 14.948  2.824 27.072\n",
       "2  6.9   173.25 18.021  5.913 30.129\n",
       "3 24.6   154.00 14.908  2.784 27.032\n",
       "4 10.9   184.75 19.881  7.773 31.989\n",
       "5 27.8   184.25 19.800  7.692 31.908\n",
       "6 20.6   210.25 24.004 11.870 36.138"
      ]
     },
     "metadata": {},
     "output_type": "display_data"
    }
   ],
   "source": [
    "# fat_pi <- fat_sample  %>% \n",
    "#    select(..., ...) %>% \n",
    "#    cbind(predict(...,interval=\"prediction\",se.fit=TRUE)$fit)  %>% \n",
    "#    mutate_if(is.numeric, round, 3)\n",
    "# head(fat_pi)\n",
    "\n",
    "\n",
    "# your code here\n",
    "fat_pi <- fat_sample  %>% \n",
    "   select(brozek, weight) %>% \n",
    "   cbind(predict(SLR_fat,interval=\"prediction\",se.fit=TRUE)$fit)  %>% \n",
    "   mutate_if(is.numeric, round, 3)\n",
    "head(fat_pi)"
   ]
  },
  {
   "cell_type": "code",
   "execution_count": 8,
   "metadata": {
    "deletable": false,
    "editable": false,
    "nbgrader": {
     "cell_type": "code",
     "checksum": "894d58a2c844291a440dff9d59a23f05",
     "grade": true,
     "grade_id": "cell-be96a99bc663b158",
     "locked": true,
     "points": 1,
     "schema_version": 3,
     "solution": false,
     "task": false
    },
    "tags": []
   },
   "outputs": [
    {
     "name": "stdout",
     "output_type": "stream",
     "text": [
      "\u001b[32mTest passed\u001b[39m 🌈\n",
      "\u001b[32mTest passed\u001b[39m 😀\n",
      "\u001b[32mTest passed\u001b[39m 🌈\n",
      "\u001b[32mTest passed\u001b[39m 😀\n",
      "\u001b[32mTest passed\u001b[39m 🎊\n",
      "\u001b[32mTest passed\u001b[39m 😸\n",
      "\u001b[32mTest passed\u001b[39m 🎉\n",
      "\u001b[32mTest passed\u001b[39m 🥇\n",
      "\u001b[32mTest passed\u001b[39m 😸\n",
      "[1] \"Success!\"\n"
     ]
    }
   ],
   "source": [
    "test_1.3()"
   ]
  },
  {
   "cell_type": "markdown",
   "metadata": {
    "deletable": false,
    "editable": false,
    "nbgrader": {
     "cell_type": "markdown",
     "checksum": "c6fc564c42e5b2f04764c663c9ec1029",
     "grade": false,
     "grade_id": "cell-374f140cce1d5d82",
     "locked": true,
     "schema_version": 3,
     "solution": false,
     "task": false
    }
   },
   "source": [
    "**Question 1.4**\n",
    "<br>{points: 1}\n",
    "\n",
    "We have just calculated the 95% prediction interval for the brozek index of men of different weights in our sample. \n",
    "\n",
    "Provide a brief interpretation for the 95% prediction interval you have calculated in row 1.\n",
    "Your interpretation goes here."
   ]
  },
  {
   "cell_type": "markdown",
   "metadata": {
    "deletable": false,
    "nbgrader": {
     "cell_type": "markdown",
     "checksum": "14db4ad991163d443bd534f1d8dd2d72",
     "grade": true,
     "grade_id": "cell-87366ebda6badbdb",
     "locked": false,
     "points": 1,
     "schema_version": 3,
     "solution": true,
     "task": false
    }
   },
   "source": [
    "> *Your answer goes here.*\n",
    "\n",
    "Row 1: with 95% confidence, the value of a brozek of 12.6 percent is between 2824 and 27072 (rounded)."
   ]
  },
  {
   "cell_type": "markdown",
   "metadata": {
    "deletable": false,
    "editable": false,
    "nbgrader": {
     "cell_type": "markdown",
     "checksum": "8f80efa3bd8490cfeaaf62aa5b700d58",
     "grade": false,
     "grade_id": "cell-780c3ffc246875d0",
     "locked": true,
     "schema_version": 3,
     "solution": false,
     "task": false
    }
   },
   "source": [
    "**Question 1.5**\n",
    "<br>{points: 1}\n",
    "\n",
    "Compare the confidence intervals computed in **Question 1.1** with those computed in **Question 1.3** (by row). Which confidence intervals are wider?? Respond and explain why in one or two sentences."
   ]
  },
  {
   "cell_type": "markdown",
   "metadata": {
    "deletable": false,
    "nbgrader": {
     "cell_type": "markdown",
     "checksum": "40a3dd1aba6716fbb04082f830cba039",
     "grade": true,
     "grade_id": "cell-77911512fee34bdd",
     "locked": false,
     "points": 1,
     "schema_version": 3,
     "solution": true,
     "task": false
    }
   },
   "source": [
    "> *Your answer goes here.*\n",
    "\n",
    "Confidence intervals computed in Question 1.1 account for the sample-to-sample variation, whereas the prediction intervals computed in Question 1.3 also account for the uncertainty of individual observations. Therefore, prediction intervals (Q1.3) are wider than confidence intervals (Q1.1)."
   ]
  },
  {
   "cell_type": "markdown",
   "metadata": {
    "deletable": false,
    "editable": false,
    "nbgrader": {
     "cell_type": "markdown",
     "checksum": "8f38aefef6865e9b092ad93474015676",
     "grade": false,
     "grade_id": "cell-9be71f65643c5906",
     "locked": true,
     "schema_version": 3,
     "solution": false,
     "task": false
    }
   },
   "source": [
    "## 2. Predictive Modelling using Linear Regression\n",
    "\n",
    "In this section you will use the LR as a *predictive model*. Predictive models are built and trained to predict *new* observations. Thus, we need two types of datasets: a *training* set and a *test* set. \n",
    "\n",
    "If two independent datasets are not available to build a predictive model, we can:\n",
    "\n",
    "- approximate the *test* MSE\n",
    "\n",
    "or \n",
    "\n",
    "- use the data in hand and split it to create these datasets.\n",
    "\n",
    "In this section, you will split the data to build a predictive model on one part using all available variables and test it on the second part of the data."
   ]
  },
  {
   "cell_type": "markdown",
   "metadata": {
    "deletable": false,
    "editable": false,
    "nbgrader": {
     "cell_type": "markdown",
     "checksum": "df87dfe42087aeef2794ea9bb2478322",
     "grade": false,
     "grade_id": "cell-a04c8e183d2b8b3b",
     "locked": true,
     "schema_version": 3,
     "solution": false,
     "task": false
    },
    "tags": []
   },
   "source": [
    "**Question 2.0**\n",
    "<br>{points: 1}\n",
    "\n",
    "Let's start by randomly splitting `fat_sample` in two sets on a 70-30% basis: `training_fat` (70% of the data) and `testing_fat` (the remaining 30%) and then train a full LR with all the available input variables on the training set.\n",
    "\n",
    "You can do the following:\n",
    "\n",
    "1. Create an `ID` column in `fat_sample` (i.e., `fat_sample$ID`) with the row number corresponding to each man in the sample.\n",
    "\n",
    "2. Use the function `sample_n()` to create `training_fat` (sampling *without* replacement) with 70\\% of the observations coming from `fat_sample`.\n",
    "\n",
    "3. Use `anti_join()` with `fat_sample` and `training_fat` to create `testing_fat` by column `ID`. \n",
    "\n",
    "4. Remove the variable `ID` used to split the data\n",
    "\n",
    "*Fill out those parts indicated with `...`, uncomment the corresponding code in the cell below, and run it.*"
   ]
  },
  {
   "cell_type": "code",
   "execution_count": 9,
   "metadata": {
    "deletable": false,
    "nbgrader": {
     "cell_type": "code",
     "checksum": "7bee7e60350073d03812daf02bdca0e7",
     "grade": false,
     "grade_id": "cell-89cf6aff779ec418",
     "locked": false,
     "schema_version": 3,
     "solution": true,
     "task": false
    },
    "tags": []
   },
   "outputs": [
    {
     "data": {
      "text/html": [
       "<table class=\"dataframe\">\n",
       "<caption>A data.frame: 6 × 15</caption>\n",
       "<thead>\n",
       "\t<tr><th></th><th scope=col>brozek</th><th scope=col>age</th><th scope=col>weight</th><th scope=col>height</th><th scope=col>adipos</th><th scope=col>neck</th><th scope=col>chest</th><th scope=col>abdom</th><th scope=col>hip</th><th scope=col>thigh</th><th scope=col>knee</th><th scope=col>ankle</th><th scope=col>biceps</th><th scope=col>forearm</th><th scope=col>wrist</th></tr>\n",
       "\t<tr><th></th><th scope=col>&lt;dbl&gt;</th><th scope=col>&lt;int&gt;</th><th scope=col>&lt;dbl&gt;</th><th scope=col>&lt;dbl&gt;</th><th scope=col>&lt;dbl&gt;</th><th scope=col>&lt;dbl&gt;</th><th scope=col>&lt;dbl&gt;</th><th scope=col>&lt;dbl&gt;</th><th scope=col>&lt;dbl&gt;</th><th scope=col>&lt;dbl&gt;</th><th scope=col>&lt;dbl&gt;</th><th scope=col>&lt;dbl&gt;</th><th scope=col>&lt;dbl&gt;</th><th scope=col>&lt;dbl&gt;</th><th scope=col>&lt;dbl&gt;</th></tr>\n",
       "</thead>\n",
       "<tbody>\n",
       "\t<tr><th scope=row>159</th><td>12.8</td><td>30</td><td>136.50</td><td>68.75</td><td>20.3</td><td>35.9</td><td> 88.7</td><td> 76.6</td><td> 89.8</td><td>50.1</td><td>34.8</td><td>21.8</td><td>27.0</td><td>34.9</td><td>16.9</td></tr>\n",
       "\t<tr><th scope=row>207</th><td>31.7</td><td>44</td><td>166.00</td><td>65.50</td><td>27.2</td><td>39.1</td><td>100.6</td><td> 93.9</td><td>100.1</td><td>58.9</td><td>37.6</td><td>21.4</td><td>33.1</td><td>29.5</td><td>17.3</td></tr>\n",
       "\t<tr><th scope=row>179</th><td>22.0</td><td>38</td><td>187.25</td><td>69.25</td><td>27.5</td><td>38.0</td><td>102.7</td><td> 92.7</td><td>101.9</td><td>64.7</td><td>39.5</td><td>24.7</td><td>34.8</td><td>30.3</td><td>18.1</td></tr>\n",
       "\t<tr><th scope=row>14</th><td>20.8</td><td>30</td><td>205.25</td><td>71.25</td><td>28.5</td><td>39.4</td><td>104.1</td><td>101.8</td><td>108.6</td><td>66.0</td><td>41.5</td><td>23.7</td><td>36.9</td><td>31.6</td><td>18.8</td></tr>\n",
       "\t<tr><th scope=row>195</th><td>22.3</td><td>42</td><td>162.75</td><td>72.75</td><td>21.6</td><td>35.4</td><td> 92.2</td><td> 85.6</td><td> 96.5</td><td>60.2</td><td>38.9</td><td>22.4</td><td>31.7</td><td>27.1</td><td>17.1</td></tr>\n",
       "\t<tr><th scope=row>170</th><td>16.5</td><td>35</td><td>172.75</td><td>69.50</td><td>25.2</td><td>37.6</td><td> 99.1</td><td> 90.8</td><td> 98.1</td><td>60.1</td><td>39.1</td><td>23.4</td><td>32.5</td><td>29.8</td><td>17.4</td></tr>\n",
       "</tbody>\n",
       "</table>\n"
      ],
      "text/latex": [
       "A data.frame: 6 × 15\n",
       "\\begin{tabular}{r|lllllllllllllll}\n",
       "  & brozek & age & weight & height & adipos & neck & chest & abdom & hip & thigh & knee & ankle & biceps & forearm & wrist\\\\\n",
       "  & <dbl> & <int> & <dbl> & <dbl> & <dbl> & <dbl> & <dbl> & <dbl> & <dbl> & <dbl> & <dbl> & <dbl> & <dbl> & <dbl> & <dbl>\\\\\n",
       "\\hline\n",
       "\t159 & 12.8 & 30 & 136.50 & 68.75 & 20.3 & 35.9 &  88.7 &  76.6 &  89.8 & 50.1 & 34.8 & 21.8 & 27.0 & 34.9 & 16.9\\\\\n",
       "\t207 & 31.7 & 44 & 166.00 & 65.50 & 27.2 & 39.1 & 100.6 &  93.9 & 100.1 & 58.9 & 37.6 & 21.4 & 33.1 & 29.5 & 17.3\\\\\n",
       "\t179 & 22.0 & 38 & 187.25 & 69.25 & 27.5 & 38.0 & 102.7 &  92.7 & 101.9 & 64.7 & 39.5 & 24.7 & 34.8 & 30.3 & 18.1\\\\\n",
       "\t14 & 20.8 & 30 & 205.25 & 71.25 & 28.5 & 39.4 & 104.1 & 101.8 & 108.6 & 66.0 & 41.5 & 23.7 & 36.9 & 31.6 & 18.8\\\\\n",
       "\t195 & 22.3 & 42 & 162.75 & 72.75 & 21.6 & 35.4 &  92.2 &  85.6 &  96.5 & 60.2 & 38.9 & 22.4 & 31.7 & 27.1 & 17.1\\\\\n",
       "\t170 & 16.5 & 35 & 172.75 & 69.50 & 25.2 & 37.6 &  99.1 &  90.8 &  98.1 & 60.1 & 39.1 & 23.4 & 32.5 & 29.8 & 17.4\\\\\n",
       "\\end{tabular}\n"
      ],
      "text/markdown": [
       "\n",
       "A data.frame: 6 × 15\n",
       "\n",
       "| <!--/--> | brozek &lt;dbl&gt; | age &lt;int&gt; | weight &lt;dbl&gt; | height &lt;dbl&gt; | adipos &lt;dbl&gt; | neck &lt;dbl&gt; | chest &lt;dbl&gt; | abdom &lt;dbl&gt; | hip &lt;dbl&gt; | thigh &lt;dbl&gt; | knee &lt;dbl&gt; | ankle &lt;dbl&gt; | biceps &lt;dbl&gt; | forearm &lt;dbl&gt; | wrist &lt;dbl&gt; |\n",
       "|---|---|---|---|---|---|---|---|---|---|---|---|---|---|---|---|\n",
       "| 159 | 12.8 | 30 | 136.50 | 68.75 | 20.3 | 35.9 |  88.7 |  76.6 |  89.8 | 50.1 | 34.8 | 21.8 | 27.0 | 34.9 | 16.9 |\n",
       "| 207 | 31.7 | 44 | 166.00 | 65.50 | 27.2 | 39.1 | 100.6 |  93.9 | 100.1 | 58.9 | 37.6 | 21.4 | 33.1 | 29.5 | 17.3 |\n",
       "| 179 | 22.0 | 38 | 187.25 | 69.25 | 27.5 | 38.0 | 102.7 |  92.7 | 101.9 | 64.7 | 39.5 | 24.7 | 34.8 | 30.3 | 18.1 |\n",
       "| 14 | 20.8 | 30 | 205.25 | 71.25 | 28.5 | 39.4 | 104.1 | 101.8 | 108.6 | 66.0 | 41.5 | 23.7 | 36.9 | 31.6 | 18.8 |\n",
       "| 195 | 22.3 | 42 | 162.75 | 72.75 | 21.6 | 35.4 |  92.2 |  85.6 |  96.5 | 60.2 | 38.9 | 22.4 | 31.7 | 27.1 | 17.1 |\n",
       "| 170 | 16.5 | 35 | 172.75 | 69.50 | 25.2 | 37.6 |  99.1 |  90.8 |  98.1 | 60.1 | 39.1 | 23.4 | 32.5 | 29.8 | 17.4 |\n",
       "\n"
      ],
      "text/plain": [
       "    brozek age weight height adipos neck chest abdom hip   thigh knee ankle\n",
       "159 12.8   30  136.50 68.75  20.3   35.9  88.7  76.6  89.8 50.1  34.8 21.8 \n",
       "207 31.7   44  166.00 65.50  27.2   39.1 100.6  93.9 100.1 58.9  37.6 21.4 \n",
       "179 22.0   38  187.25 69.25  27.5   38.0 102.7  92.7 101.9 64.7  39.5 24.7 \n",
       "14  20.8   30  205.25 71.25  28.5   39.4 104.1 101.8 108.6 66.0  41.5 23.7 \n",
       "195 22.3   42  162.75 72.75  21.6   35.4  92.2  85.6  96.5 60.2  38.9 22.4 \n",
       "170 16.5   35  172.75 69.50  25.2   37.6  99.1  90.8  98.1 60.1  39.1 23.4 \n",
       "    biceps forearm wrist\n",
       "159 27.0   34.9    16.9 \n",
       "207 33.1   29.5    17.3 \n",
       "179 34.8   30.3    18.1 \n",
       "14  36.9   31.6    18.8 \n",
       "195 31.7   27.1    17.1 \n",
       "170 32.5   29.8    17.4 "
      ]
     },
     "metadata": {},
     "output_type": "display_data"
    },
    {
     "data": {
      "text/html": [
       "176"
      ],
      "text/latex": [
       "176"
      ],
      "text/markdown": [
       "176"
      ],
      "text/plain": [
       "[1] 176"
      ]
     },
     "metadata": {},
     "output_type": "display_data"
    },
    {
     "data": {
      "text/html": [
       "<table class=\"dataframe\">\n",
       "<caption>A data.frame: 6 × 15</caption>\n",
       "<thead>\n",
       "\t<tr><th></th><th scope=col>brozek</th><th scope=col>age</th><th scope=col>weight</th><th scope=col>height</th><th scope=col>adipos</th><th scope=col>neck</th><th scope=col>chest</th><th scope=col>abdom</th><th scope=col>hip</th><th scope=col>thigh</th><th scope=col>knee</th><th scope=col>ankle</th><th scope=col>biceps</th><th scope=col>forearm</th><th scope=col>wrist</th></tr>\n",
       "\t<tr><th></th><th scope=col>&lt;dbl&gt;</th><th scope=col>&lt;int&gt;</th><th scope=col>&lt;dbl&gt;</th><th scope=col>&lt;dbl&gt;</th><th scope=col>&lt;dbl&gt;</th><th scope=col>&lt;dbl&gt;</th><th scope=col>&lt;dbl&gt;</th><th scope=col>&lt;dbl&gt;</th><th scope=col>&lt;dbl&gt;</th><th scope=col>&lt;dbl&gt;</th><th scope=col>&lt;dbl&gt;</th><th scope=col>&lt;dbl&gt;</th><th scope=col>&lt;dbl&gt;</th><th scope=col>&lt;dbl&gt;</th><th scope=col>&lt;dbl&gt;</th></tr>\n",
       "</thead>\n",
       "<tbody>\n",
       "\t<tr><th scope=row>2</th><td> 6.9</td><td>22</td><td>173.25</td><td>72.25</td><td>23.4</td><td>38.5</td><td> 93.6</td><td>83.0</td><td> 98.7</td><td>58.7</td><td>37.3</td><td>23.4</td><td>30.5</td><td>28.9</td><td>18.2</td></tr>\n",
       "\t<tr><th scope=row>3</th><td>24.6</td><td>22</td><td>154.00</td><td>66.25</td><td>24.7</td><td>34.0</td><td> 95.8</td><td>87.9</td><td> 99.2</td><td>59.6</td><td>38.9</td><td>24.0</td><td>28.8</td><td>25.2</td><td>16.6</td></tr>\n",
       "\t<tr><th scope=row>10</th><td>12.0</td><td>23</td><td>198.25</td><td>73.50</td><td>25.8</td><td>42.1</td><td> 99.6</td><td>88.6</td><td>104.1</td><td>63.1</td><td>41.7</td><td>25.0</td><td>35.6</td><td>30.0</td><td>19.2</td></tr>\n",
       "\t<tr><th scope=row>12</th><td> 8.5</td><td>27</td><td>216.00</td><td>76.00</td><td>26.3</td><td>39.4</td><td>103.6</td><td>90.9</td><td>107.7</td><td>66.2</td><td>39.2</td><td>25.9</td><td>37.2</td><td>30.2</td><td>19.0</td></tr>\n",
       "\t<tr><th scope=row>15</th><td>21.7</td><td>35</td><td>187.75</td><td>69.50</td><td>27.4</td><td>40.5</td><td>101.3</td><td>96.4</td><td>100.1</td><td>69.0</td><td>39.0</td><td>23.1</td><td>36.1</td><td>30.5</td><td>18.2</td></tr>\n",
       "\t<tr><th scope=row>18</th><td>22.4</td><td>32</td><td>209.25</td><td>71.00</td><td>29.2</td><td>42.1</td><td>107.6</td><td>97.5</td><td>107.0</td><td>66.9</td><td>40.0</td><td>24.4</td><td>38.2</td><td>31.6</td><td>19.3</td></tr>\n",
       "</tbody>\n",
       "</table>\n"
      ],
      "text/latex": [
       "A data.frame: 6 × 15\n",
       "\\begin{tabular}{r|lllllllllllllll}\n",
       "  & brozek & age & weight & height & adipos & neck & chest & abdom & hip & thigh & knee & ankle & biceps & forearm & wrist\\\\\n",
       "  & <dbl> & <int> & <dbl> & <dbl> & <dbl> & <dbl> & <dbl> & <dbl> & <dbl> & <dbl> & <dbl> & <dbl> & <dbl> & <dbl> & <dbl>\\\\\n",
       "\\hline\n",
       "\t2 &  6.9 & 22 & 173.25 & 72.25 & 23.4 & 38.5 &  93.6 & 83.0 &  98.7 & 58.7 & 37.3 & 23.4 & 30.5 & 28.9 & 18.2\\\\\n",
       "\t3 & 24.6 & 22 & 154.00 & 66.25 & 24.7 & 34.0 &  95.8 & 87.9 &  99.2 & 59.6 & 38.9 & 24.0 & 28.8 & 25.2 & 16.6\\\\\n",
       "\t10 & 12.0 & 23 & 198.25 & 73.50 & 25.8 & 42.1 &  99.6 & 88.6 & 104.1 & 63.1 & 41.7 & 25.0 & 35.6 & 30.0 & 19.2\\\\\n",
       "\t12 &  8.5 & 27 & 216.00 & 76.00 & 26.3 & 39.4 & 103.6 & 90.9 & 107.7 & 66.2 & 39.2 & 25.9 & 37.2 & 30.2 & 19.0\\\\\n",
       "\t15 & 21.7 & 35 & 187.75 & 69.50 & 27.4 & 40.5 & 101.3 & 96.4 & 100.1 & 69.0 & 39.0 & 23.1 & 36.1 & 30.5 & 18.2\\\\\n",
       "\t18 & 22.4 & 32 & 209.25 & 71.00 & 29.2 & 42.1 & 107.6 & 97.5 & 107.0 & 66.9 & 40.0 & 24.4 & 38.2 & 31.6 & 19.3\\\\\n",
       "\\end{tabular}\n"
      ],
      "text/markdown": [
       "\n",
       "A data.frame: 6 × 15\n",
       "\n",
       "| <!--/--> | brozek &lt;dbl&gt; | age &lt;int&gt; | weight &lt;dbl&gt; | height &lt;dbl&gt; | adipos &lt;dbl&gt; | neck &lt;dbl&gt; | chest &lt;dbl&gt; | abdom &lt;dbl&gt; | hip &lt;dbl&gt; | thigh &lt;dbl&gt; | knee &lt;dbl&gt; | ankle &lt;dbl&gt; | biceps &lt;dbl&gt; | forearm &lt;dbl&gt; | wrist &lt;dbl&gt; |\n",
       "|---|---|---|---|---|---|---|---|---|---|---|---|---|---|---|---|\n",
       "| 2 |  6.9 | 22 | 173.25 | 72.25 | 23.4 | 38.5 |  93.6 | 83.0 |  98.7 | 58.7 | 37.3 | 23.4 | 30.5 | 28.9 | 18.2 |\n",
       "| 3 | 24.6 | 22 | 154.00 | 66.25 | 24.7 | 34.0 |  95.8 | 87.9 |  99.2 | 59.6 | 38.9 | 24.0 | 28.8 | 25.2 | 16.6 |\n",
       "| 10 | 12.0 | 23 | 198.25 | 73.50 | 25.8 | 42.1 |  99.6 | 88.6 | 104.1 | 63.1 | 41.7 | 25.0 | 35.6 | 30.0 | 19.2 |\n",
       "| 12 |  8.5 | 27 | 216.00 | 76.00 | 26.3 | 39.4 | 103.6 | 90.9 | 107.7 | 66.2 | 39.2 | 25.9 | 37.2 | 30.2 | 19.0 |\n",
       "| 15 | 21.7 | 35 | 187.75 | 69.50 | 27.4 | 40.5 | 101.3 | 96.4 | 100.1 | 69.0 | 39.0 | 23.1 | 36.1 | 30.5 | 18.2 |\n",
       "| 18 | 22.4 | 32 | 209.25 | 71.00 | 29.2 | 42.1 | 107.6 | 97.5 | 107.0 | 66.9 | 40.0 | 24.4 | 38.2 | 31.6 | 19.3 |\n",
       "\n"
      ],
      "text/plain": [
       "   brozek age weight height adipos neck chest abdom hip   thigh knee ankle\n",
       "2   6.9   22  173.25 72.25  23.4   38.5  93.6 83.0   98.7 58.7  37.3 23.4 \n",
       "3  24.6   22  154.00 66.25  24.7   34.0  95.8 87.9   99.2 59.6  38.9 24.0 \n",
       "10 12.0   23  198.25 73.50  25.8   42.1  99.6 88.6  104.1 63.1  41.7 25.0 \n",
       "12  8.5   27  216.00 76.00  26.3   39.4 103.6 90.9  107.7 66.2  39.2 25.9 \n",
       "15 21.7   35  187.75 69.50  27.4   40.5 101.3 96.4  100.1 69.0  39.0 23.1 \n",
       "18 22.4   32  209.25 71.00  29.2   42.1 107.6 97.5  107.0 66.9  40.0 24.4 \n",
       "   biceps forearm wrist\n",
       "2  30.5   28.9    18.2 \n",
       "3  28.8   25.2    16.6 \n",
       "10 35.6   30.0    19.2 \n",
       "12 37.2   30.2    19.0 \n",
       "15 36.1   30.5    18.2 \n",
       "18 38.2   31.6    19.3 "
      ]
     },
     "metadata": {},
     "output_type": "display_data"
    },
    {
     "data": {
      "text/html": [
       "76"
      ],
      "text/latex": [
       "76"
      ],
      "text/markdown": [
       "76"
      ],
      "text/plain": [
       "[1] 76"
      ]
     },
     "metadata": {},
     "output_type": "display_data"
    }
   ],
   "source": [
    "set.seed(123) # DO NOT CHANGE!\n",
    "\n",
    "# fat_sample$ID <- rownames(fat_sample)\n",
    "# training_fat <- ...(..., size = nrow(fat_sample) * 0.70,\n",
    "#   replace = ...\n",
    "# )\n",
    "\n",
    "# testing_fat <- anti_join(...,\n",
    "#   ...,\n",
    "#   by = ...\n",
    "# )\n",
    "\n",
    "# training_fat <- training_fat %>% select(-\"ID\")\n",
    "# testing_fat <- testing_fat %>% select(-\"ID\")\n",
    "\n",
    "# head(training_fat)\n",
    "# nrow(training_fat)\n",
    "\n",
    "# head(testing_fat)\n",
    "# nrow(testing_fat)\n",
    "\n",
    "# your code here\n",
    "fat_sample$ID <- rownames(fat_sample)\n",
    "training_fat <- sample_n(fat_sample, size = nrow(fat_sample) * 0.70,\n",
    "  replace = FALSE\n",
    ")\n",
    "\n",
    "testing_fat <- anti_join(fat_sample,\n",
    "  training_fat,\n",
    "  by = \"ID\"\n",
    ")\n",
    "\n",
    "training_fat <- training_fat %>% select(-\"ID\")\n",
    "testing_fat <- testing_fat %>% select(-\"ID\")\n",
    "\n",
    "head(training_fat)\n",
    "nrow(training_fat)\n",
    "\n",
    "head(testing_fat)\n",
    "nrow(testing_fat)\n"
   ]
  },
  {
   "cell_type": "code",
   "execution_count": 10,
   "metadata": {
    "deletable": false,
    "editable": false,
    "nbgrader": {
     "cell_type": "code",
     "checksum": "6748cd61c28df959deb8623596f9e80a",
     "grade": true,
     "grade_id": "cell-2ff21323a52d80d0",
     "locked": true,
     "points": 1,
     "schema_version": 3,
     "solution": false,
     "task": false
    },
    "tags": []
   },
   "outputs": [
    {
     "name": "stdout",
     "output_type": "stream",
     "text": [
      "\u001b[32mTest passed\u001b[39m 🥇\n",
      "\u001b[32mTest passed\u001b[39m 🥇\n",
      "\u001b[32mTest passed\u001b[39m 🎉\n",
      "\u001b[32mTest passed\u001b[39m 🥇\n",
      "\u001b[32mTest passed\u001b[39m 🎊\n",
      "\u001b[32mTest passed\u001b[39m 🥇\n",
      "\u001b[32mTest passed\u001b[39m 😀\n",
      "\u001b[32mTest passed\u001b[39m 🥳\n",
      "[1] \"Success!\"\n",
      "\u001b[32mTest passed\u001b[39m 😀\n",
      "\u001b[32mTest passed\u001b[39m 🥳\n",
      "\u001b[32mTest passed\u001b[39m 🥇\n",
      "\u001b[32mTest passed\u001b[39m 🥇\n",
      "\u001b[32mTest passed\u001b[39m 😀\n",
      "\u001b[32mTest passed\u001b[39m 🎊\n",
      "\u001b[32mTest passed\u001b[39m 🎊\n",
      "\u001b[32mTest passed\u001b[39m 🥳\n",
      "[1] \"Success!\"\n"
     ]
    }
   ],
   "source": [
    "test_2.0()"
   ]
  },
  {
   "cell_type": "markdown",
   "metadata": {
    "deletable": false,
    "editable": false,
    "nbgrader": {
     "cell_type": "markdown",
     "checksum": "db279f9c8e4bc6ba7ec4f7864daa5161",
     "grade": false,
     "grade_id": "cell-fbdb817d4fecd345",
     "locked": true,
     "schema_version": 3,
     "solution": false,
     "task": false
    }
   },
   "source": [
    "**Question 2.1**\n",
    "<br>{points: 1}\n",
    "\n",
    "Let's start by building a predictive additive LR with *all* **14** inputs. Call this object `fat_full_OLS`. \n",
    "\n",
    "Estimate an additive LR with *all* **14** inputs against the response variable `brozek`  using `lm()` and data from `training_fat`. \n",
    "\n",
    "> **If you write down the input variables, the order should match the column order from `training_fat` to pass the autograding tests**.\n",
    "\n",
    "This will be our baseline model.\n",
    "\n",
    "*Fill out those parts indicated with `...`, uncomment the corresponding code in the cell below, and run it.*"
   ]
  },
  {
   "cell_type": "code",
   "execution_count": 11,
   "metadata": {
    "deletable": false,
    "nbgrader": {
     "cell_type": "code",
     "checksum": "ceca9645a917713ee062067b96e54992",
     "grade": false,
     "grade_id": "cell-7f1e7c7d551ff08a",
     "locked": false,
     "schema_version": 3,
     "solution": true,
     "task": false
    },
    "tags": []
   },
   "outputs": [
    {
     "data": {
      "text/plain": [
       "\n",
       "Call:\n",
       "lm(formula = brozek ~ ., data = training_fat)\n",
       "\n",
       "Coefficients:\n",
       "(Intercept)          age       weight       height       adipos         neck  \n",
       "  -12.67471      0.08101     -0.08122     -0.04235      0.10737     -0.61347  \n",
       "      chest        abdom          hip        thigh         knee        ankle  \n",
       "   -0.13109      0.95090     -0.20715      0.17006      0.08332      0.34849  \n",
       "     biceps      forearm        wrist  \n",
       "    0.19753      0.39584     -1.49116  \n"
      ]
     },
     "metadata": {},
     "output_type": "display_data"
    }
   ],
   "source": [
    "# fat_full_OLS <- lm(...,\n",
    "#   ...\n",
    "# )\n",
    "# fat_full_OLS\n",
    "\n",
    "# your code here\n",
    "fat_full_OLS <- lm(brozek ~ .,\n",
    "  data = training_fat\n",
    ")\n",
    "fat_full_OLS"
   ]
  },
  {
   "cell_type": "code",
   "execution_count": 12,
   "metadata": {
    "deletable": false,
    "editable": false,
    "nbgrader": {
     "cell_type": "code",
     "checksum": "bc4c9257fff76c554c2ce3e33c7d1b6e",
     "grade": true,
     "grade_id": "cell-a73d97e53e776cb3",
     "locked": true,
     "points": 1,
     "schema_version": 3,
     "solution": false,
     "task": false
    },
    "tags": []
   },
   "outputs": [
    {
     "name": "stdout",
     "output_type": "stream",
     "text": [
      "\u001b[32mTest passed\u001b[39m 🥇\n",
      "\u001b[32mTest passed\u001b[39m 🌈\n",
      "[1] \"Success!\"\n"
     ]
    }
   ],
   "source": [
    "test_2.1()"
   ]
  },
  {
   "cell_type": "markdown",
   "metadata": {
    "deletable": false,
    "editable": false,
    "nbgrader": {
     "cell_type": "markdown",
     "checksum": "ce534f3f56b736208bd8a256e8a57dbb",
     "grade": false,
     "grade_id": "cell-4d9aa919aef31dbf",
     "locked": true,
     "schema_version": 3,
     "solution": false,
     "task": false
    }
   },
   "source": [
    "**Question 2.2**\n",
    "<br>{points: 1}\n",
    "\n",
    "Using `predict()` and `fat_full_OLS`, obtain the (out-of-sample) predicted brozek values for men in `testing_fat`. \n",
    "\n",
    "> `second_set_fat` will be used as independent *test data*\n",
    "\n",
    "Store them in a variable called `fat_test_pred_full_OLS`. \n",
    "\n",
    "*Fill out those parts indicated with `...`, uncomment the corresponding code in the cell below, and run it.*"
   ]
  },
  {
   "cell_type": "code",
   "execution_count": 13,
   "metadata": {
    "deletable": false,
    "nbgrader": {
     "cell_type": "code",
     "checksum": "3e268faa9fdebd76f92d8728a88139e5",
     "grade": false,
     "grade_id": "cell-70c8d483741b2f75",
     "locked": false,
     "schema_version": 3,
     "solution": true,
     "task": false
    },
    "tags": []
   },
   "outputs": [
    {
     "data": {
      "text/html": [
       "<style>\n",
       ".dl-inline {width: auto; margin:0; padding: 0}\n",
       ".dl-inline>dt, .dl-inline>dd {float: none; width: auto; display: inline-block}\n",
       ".dl-inline>dt::after {content: \":\\0020\"; padding-right: .5ex}\n",
       ".dl-inline>dt:not(:first-of-type) {padding-left: .5ex}\n",
       "</style><dl class=dl-inline><dt>2</dt><dd>8.64929730473165</dd><dt>3</dt><dd>18.7155218378213</dd><dt>10</dt><dd>9.73997702503388</dd><dt>12</dt><dd>12.4694397911768</dd><dt>15</dt><dd>22.8146018463224</dd><dt>18</dt><dd>18.1534271832039</dd></dl>\n"
      ],
      "text/latex": [
       "\\begin{description*}\n",
       "\\item[2] 8.64929730473165\n",
       "\\item[3] 18.7155218378213\n",
       "\\item[10] 9.73997702503388\n",
       "\\item[12] 12.4694397911768\n",
       "\\item[15] 22.8146018463224\n",
       "\\item[18] 18.1534271832039\n",
       "\\end{description*}\n"
      ],
      "text/markdown": [
       "2\n",
       ":   8.649297304731653\n",
       ":   18.715521837821310\n",
       ":   9.7399770250338812\n",
       ":   12.469439791176815\n",
       ":   22.814601846322418\n",
       ":   18.1534271832039\n",
       "\n"
      ],
      "text/plain": [
       "        2         3        10        12        15        18 \n",
       " 8.649297 18.715522  9.739977 12.469440 22.814602 18.153427 "
      ]
     },
     "metadata": {},
     "output_type": "display_data"
    }
   ],
   "source": [
    "# fat_test_pred_full_OLS <- ...(..., newdata = ...)\n",
    "# head(fat_test_pred_full_OLS)\n",
    "\n",
    "# your code here\n",
    "fat_test_pred_full_OLS <- predict(fat_full_OLS, newdata = testing_fat)\n",
    "head(fat_test_pred_full_OLS)"
   ]
  },
  {
   "cell_type": "code",
   "execution_count": 14,
   "metadata": {
    "deletable": false,
    "editable": false,
    "nbgrader": {
     "cell_type": "code",
     "checksum": "3ed2dfb1d21cef0e6544e4166e7815f9",
     "grade": true,
     "grade_id": "cell-3eecb58f55839272",
     "locked": true,
     "points": 1,
     "schema_version": 3,
     "solution": false,
     "task": false
    },
    "tags": []
   },
   "outputs": [
    {
     "name": "stdout",
     "output_type": "stream",
     "text": [
      "\u001b[32mTest passed\u001b[39m 🥳\n",
      "\u001b[32mTest passed\u001b[39m 🎊\n",
      "[1] \"Success!\"\n"
     ]
    }
   ],
   "source": [
    "test_2.2()"
   ]
  },
  {
   "cell_type": "markdown",
   "metadata": {
    "deletable": false,
    "editable": false,
    "nbgrader": {
     "cell_type": "markdown",
     "checksum": "958df40ef2055a95cf408a2a0c380fef",
     "grade": false,
     "grade_id": "cell-56f3153cb1b8d3f0",
     "locked": true,
     "schema_version": 3,
     "solution": false,
     "task": false
    }
   },
   "source": [
    "**Question 2.3**\n",
    "<br>{points: 1}\n",
    "\n",
    "We will now compute the **Root Mean Squared Error (RMSE)** using data from the test set to evaluate the predictive model. This metric has the same units as the response; and the smaller the value, the better the model.\n",
    "\n",
    "Use the function `rmse()` from the `mltools` package to compute the $\\text{RMSE}_{\\text{test}}$ based on the *predicted* brozed values stored in `fat_test_pred_full_OLS` for men in the test set. Note that the observed brozek values for these men are in `testing_fat$brozek`. \n",
    "\n",
    "Store this metric in a tibble called `fat_RMSE_models` with two columns:\n",
    "\n",
    "- `Model`: The regression model from which we will obtain the prediction accuracy.\n",
    "- `RMSE`: The $\\text{RMSE}_{\\text{test}}$ corresponding to the model.\n",
    "\n",
    "*Fill out those parts indicated with `...`, uncomment the corresponding code in the cell below, and run it.*"
   ]
  },
  {
   "cell_type": "code",
   "execution_count": 15,
   "metadata": {
    "deletable": false,
    "nbgrader": {
     "cell_type": "code",
     "checksum": "7bcc1612572ce306390a94deea3ebe5b",
     "grade": false,
     "grade_id": "cell-c19eea63afd6743e",
     "locked": false,
     "schema_version": 3,
     "solution": true,
     "task": false
    },
    "tags": []
   },
   "outputs": [
    {
     "data": {
      "text/html": [
       "<table class=\"dataframe\">\n",
       "<caption>A tibble: 1 × 2</caption>\n",
       "<thead>\n",
       "\t<tr><th scope=col>Model</th><th scope=col>RMSE</th></tr>\n",
       "\t<tr><th scope=col>&lt;chr&gt;</th><th scope=col>&lt;dbl&gt;</th></tr>\n",
       "</thead>\n",
       "<tbody>\n",
       "\t<tr><td>OLS Full Regression</td><td>3.997984</td></tr>\n",
       "</tbody>\n",
       "</table>\n"
      ],
      "text/latex": [
       "A tibble: 1 × 2\n",
       "\\begin{tabular}{ll}\n",
       " Model & RMSE\\\\\n",
       " <chr> & <dbl>\\\\\n",
       "\\hline\n",
       "\t OLS Full Regression & 3.997984\\\\\n",
       "\\end{tabular}\n"
      ],
      "text/markdown": [
       "\n",
       "A tibble: 1 × 2\n",
       "\n",
       "| Model &lt;chr&gt; | RMSE &lt;dbl&gt; |\n",
       "|---|---|\n",
       "| OLS Full Regression | 3.997984 |\n",
       "\n"
      ],
      "text/plain": [
       "  Model               RMSE    \n",
       "1 OLS Full Regression 3.997984"
      ]
     },
     "metadata": {},
     "output_type": "display_data"
    }
   ],
   "source": [
    "# fat_RMSE_models <- tibble(\n",
    "#   Model = \"OLS Full Regression\",\n",
    "#   RMSE = ...(\n",
    "#     ...,\n",
    "#     ...\n",
    "#   )\n",
    "# )\n",
    "# fat_RMSE_models\n",
    "\n",
    "# your code here\n",
    "fat_RMSE_models <- tibble(\n",
    "  Model = \"OLS Full Regression\",\n",
    "  RMSE = rmse(\n",
    "    fat_test_pred_full_OLS,\n",
    "    testing_fat$brozek\n",
    "  )\n",
    ")\n",
    "head(fat_RMSE_models)\n"
   ]
  },
  {
   "cell_type": "code",
   "execution_count": 16,
   "metadata": {
    "deletable": false,
    "editable": false,
    "nbgrader": {
     "cell_type": "code",
     "checksum": "23b498b7dafa9ed41f83f14807ebd5d6",
     "grade": true,
     "grade_id": "cell-e6a348bb9644998f",
     "locked": true,
     "points": 1,
     "schema_version": 3,
     "solution": false,
     "task": false
    },
    "tags": []
   },
   "outputs": [
    {
     "name": "stdout",
     "output_type": "stream",
     "text": [
      "\u001b[32mTest passed\u001b[39m 🎉\n",
      "\u001b[32mTest passed\u001b[39m 🎊\n",
      "\u001b[32mTest passed\u001b[39m 🥳\n",
      "\u001b[32mTest passed\u001b[39m 😸\n",
      "\u001b[32mTest passed\u001b[39m 😀\n",
      "[1] \"Success!\"\n"
     ]
    }
   ],
   "source": [
    "test_2.3()"
   ]
  },
  {
   "cell_type": "markdown",
   "metadata": {
    "deletable": false,
    "editable": false,
    "nbgrader": {
     "cell_type": "markdown",
     "checksum": "c7e4404ed70927e459457532daec8834",
     "grade": false,
     "grade_id": "cell-b60ff31e0894e27a",
     "locked": true,
     "schema_version": 3,
     "solution": false,
     "task": false
    }
   },
   "source": [
    "## 3. Selecting a predictive model\n",
    "\n",
    "The previous model uses all input variables to predict. However, we may want to select a smaller model by using only a subset of the input variables. The *stepwise selection* algorithms presented in worksheet_09 can be used to build predictive models. \n",
    "\n",
    "A good predictive model would be one that minimizes the *test* MSE. However, we can not use the same set to select the model and evaluate its performance. \n",
    "\n",
    "Metrics such as $C_p$, AIC and BIC are computed with the *training* set and can be used to *approximate* the *test* MSE, without looking at the *test* data. \n",
    "\n",
    "The test set will then be used *only* to assess the predictive performance of the selected model."
   ]
  },
  {
   "cell_type": "markdown",
   "metadata": {
    "deletable": false,
    "editable": false,
    "nbgrader": {
     "cell_type": "markdown",
     "checksum": "51ef1a55489b1f87a9bfbfec83d78aac",
     "grade": false,
     "grade_id": "cell-57191faff6a77cc2",
     "locked": true,
     "schema_version": 3,
     "solution": false,
     "task": false
    }
   },
   "source": [
    "**Question 3.0**\n",
    "<br>{points: 1}\n",
    "\n",
    "Using only the training data in `training_fat`, select a reduced LR using the **forward selection** algorithm. Recall that this method is implemented in the function `regsubsets()` from library `leaps`.\n",
    "\n",
    "The function `regsubsets()` identifies various subsets of input variables selected for models of different sizes. The argument `x` of `regsubsets()` is analogous to `formula` in `lm()`. \n",
    "\n",
    "Create one object using `regsubsets()`with `training_fat` and call it `fat_forward_sel`. We will use `fat_fwd_summary` to check your results.\n",
    "\n",
    "> **Maintain the order of columns seen in `training_fat`**\n",
    "\n",
    "*Fill out those parts indicated with `...`, uncomment the corresponding code in the cell below, and run it.*"
   ]
  },
  {
   "cell_type": "code",
   "execution_count": 17,
   "metadata": {
    "deletable": false,
    "nbgrader": {
     "cell_type": "code",
     "checksum": "bfe27a22e6d0cc81e2886b6fea8f20ce",
     "grade": false,
     "grade_id": "cell-af533e7b226e72ae",
     "locked": false,
     "schema_version": 3,
     "solution": true,
     "task": false
    },
    "tags": []
   },
   "outputs": [
    {
     "data": {
      "text/plain": [
       "Subset selection object\n",
       "Call: regsubsets.formula(x = brozek ~ ., nvmax = 14, data = training_fat, \n",
       "    method = \"forward\")\n",
       "14 Variables  (and intercept)\n",
       "        Forced in Forced out\n",
       "age         FALSE      FALSE\n",
       "weight      FALSE      FALSE\n",
       "height      FALSE      FALSE\n",
       "adipos      FALSE      FALSE\n",
       "neck        FALSE      FALSE\n",
       "chest       FALSE      FALSE\n",
       "abdom       FALSE      FALSE\n",
       "hip         FALSE      FALSE\n",
       "thigh       FALSE      FALSE\n",
       "knee        FALSE      FALSE\n",
       "ankle       FALSE      FALSE\n",
       "biceps      FALSE      FALSE\n",
       "forearm     FALSE      FALSE\n",
       "wrist       FALSE      FALSE\n",
       "1 subsets of each size up to 14\n",
       "Selection Algorithm: forward"
      ]
     },
     "metadata": {},
     "output_type": "display_data"
    }
   ],
   "source": [
    "# fat_forward_sel <- ...(\n",
    "#   ..., ...,\n",
    "#   ...,\n",
    "#   ...\n",
    "# )\n",
    "# fat_forward_sel\n",
    "\n",
    "#fat_fwd_summary <- summary(fat_forward_sel)\n",
    "\n",
    "#fat_fwd_summary <- tibble(\n",
    "#    n_input_variables = 1:14,\n",
    "#    RSS = fat_fwd_summary$rss,\n",
    "#    BIC = fat_fwd_summary$bic,\n",
    "#    Cp = fat_fwd_summary$cp\n",
    "#)\n",
    "\n",
    "# your code here\n",
    "fat_forward_sel <- regsubsets(\n",
    "    x = brozek ~ .,\n",
    "    nvmax = 14,\n",
    "    data = training_fat,\n",
    "    method = \"forward\"\n",
    ")\n",
    "fat_forward_sel\n",
    "\n",
    "fat_fwd_summary <- summary(fat_forward_sel)\n",
    "\n",
    "fat_fwd_summary <- tibble(\n",
    "   n_input_variables = 1:14,\n",
    "   RSS = fat_fwd_summary$rss,\n",
    "   BIC = fat_fwd_summary$bic,\n",
    "   Cp = fat_fwd_summary$cp\n",
    ")\n"
   ]
  },
  {
   "cell_type": "code",
   "execution_count": 18,
   "metadata": {
    "deletable": false,
    "editable": false,
    "nbgrader": {
     "cell_type": "code",
     "checksum": "6605b243ebb915178f2da5fee6d7b324",
     "grade": true,
     "grade_id": "cell-0386d94ee9dd6cff",
     "locked": true,
     "points": 1,
     "schema_version": 3,
     "solution": false,
     "task": false
    },
    "tags": []
   },
   "outputs": [
    {
     "name": "stdout",
     "output_type": "stream",
     "text": [
      "\u001b[32mTest passed\u001b[39m 😀\n",
      "\u001b[32mTest passed\u001b[39m 🥇\n",
      "\u001b[32mTest passed\u001b[39m 🥇\n",
      "\u001b[32mTest passed\u001b[39m 😸\n",
      "\u001b[32mTest passed\u001b[39m 🥳\n",
      "\u001b[32mTest passed\u001b[39m 🥇\n",
      "\u001b[32mTest passed\u001b[39m 🎉\n",
      "[1] \"Success!\"\n"
     ]
    }
   ],
   "source": [
    "test_3.0()"
   ]
  },
  {
   "cell_type": "markdown",
   "metadata": {
    "deletable": false,
    "editable": false,
    "nbgrader": {
     "cell_type": "markdown",
     "checksum": "c7ba30fa5d7e49d90fcf389f9eeeb6e3",
     "grade": false,
     "grade_id": "cell-6b8abdbff4f33676",
     "locked": true,
     "schema_version": 3,
     "solution": false,
     "task": false
    }
   },
   "source": [
    "**Question 3.1**\n",
    "<br>{points: 1}\n",
    "\n",
    "Out of the fourteen best models selected for each size by the *forward* subset algorithm and stored in `fat_forward_sel`, we will select the best one in terms of the *out-of-sample* prediction accuracy, estimated by the Mallow's $C_p$. \n",
    "\n",
    "Use the $C_p$ computed for each model, stored in `fat_forward_summary`, to select the best predictive model and indicate which input variables are in the selected model.\n",
    "\n",
    "> **Heads up:** The most accurate model will have the smallest $C_p$. \n",
    "\n",
    "\n",
    "**A.** `age`.\n",
    "\n",
    "**B.** `weight`.\n",
    "\n",
    "**C.** `height`.\n",
    "\n",
    "**D.** `adipos`.\n",
    "\n",
    "**E.**  `neck`.\n",
    "\n",
    "**F.**  `chest`.\n",
    "\n",
    "**G.**  `abdom`.\n",
    "\n",
    "**H.**  `hip`.\n",
    "\n",
    "**I.**  `thigh`.\n",
    "\n",
    "**J.**  `knee`.\n",
    "\n",
    "**K.**  `ankle`.\n",
    "\n",
    "**L.**  `biceps`.\n",
    "\n",
    "**M.**  `forearm`.\n",
    "\n",
    "**N.**  `wrist`.\n",
    "\n",
    "*Assign your answers to the object `answer3.1`. Your answers have to be included in a single string indicating the correct options **in alphabetical order** and surrounded by quotes.*"
   ]
  },
  {
   "cell_type": "code",
   "execution_count": 19,
   "metadata": {
    "deletable": false,
    "editable": false,
    "nbgrader": {
     "cell_type": "code",
     "checksum": "b1ad5e0f3dd08e4d40bffebf0758763b",
     "grade": false,
     "grade_id": "cell-49636409bed6aad7",
     "locked": true,
     "schema_version": 3,
     "solution": false,
     "task": false
    },
    "tags": []
   },
   "outputs": [
    {
     "data": {
      "text/html": [
       "<table class=\"dataframe\">\n",
       "<caption>A tibble: 14 × 4</caption>\n",
       "<thead>\n",
       "\t<tr><th scope=col>n_input_variables</th><th scope=col>RSS</th><th scope=col>BIC</th><th scope=col>Cp</th></tr>\n",
       "\t<tr><th scope=col>&lt;int&gt;</th><th scope=col>&lt;dbl&gt;</th><th scope=col>&lt;dbl&gt;</th><th scope=col>&lt;dbl&gt;</th></tr>\n",
       "</thead>\n",
       "<tbody>\n",
       "\t<tr><td> 1</td><td>3819.952</td><td>-172.0625</td><td>58.927345</td></tr>\n",
       "\t<tr><td> 2</td><td>3116.230</td><td>-202.7281</td><td>18.385321</td></tr>\n",
       "\t<tr><td> 3</td><td>3003.401</td><td>-204.0482</td><td>13.564448</td></tr>\n",
       "\t<tr><td> 4</td><td>2931.132</td><td>-203.1645</td><td>11.195607</td></tr>\n",
       "\t<tr><td> 5</td><td>2889.050</td><td>-200.5392</td><td>10.651578</td></tr>\n",
       "\t<tr><td> 6</td><td>2803.100</td><td>-200.6842</td><td> 7.455676</td></tr>\n",
       "\t<tr><td> 7</td><td>2761.383</td><td>-198.1527</td><td> 6.933729</td></tr>\n",
       "\t<tr><td> 8</td><td>2727.868</td><td>-195.1314</td><td> 6.907693</td></tr>\n",
       "\t<tr><td> 9</td><td>2705.357</td><td>-191.4194</td><td> 7.546799</td></tr>\n",
       "\t<tr><td>10</td><td>2688.527</td><td>-187.3472</td><td> 8.529381</td></tr>\n",
       "\t<tr><td>11</td><td>2671.857</td><td>-183.2714</td><td> 9.521616</td></tr>\n",
       "\t<tr><td>12</td><td>2665.834</td><td>-178.4981</td><td>11.157546</td></tr>\n",
       "\t<tr><td>13</td><td>2664.675</td><td>-173.4041</td><td>13.087483</td></tr>\n",
       "\t<tr><td>14</td><td>2663.228</td><td>-168.3292</td><td>15.000000</td></tr>\n",
       "</tbody>\n",
       "</table>\n"
      ],
      "text/latex": [
       "A tibble: 14 × 4\n",
       "\\begin{tabular}{llll}\n",
       " n\\_input\\_variables & RSS & BIC & Cp\\\\\n",
       " <int> & <dbl> & <dbl> & <dbl>\\\\\n",
       "\\hline\n",
       "\t  1 & 3819.952 & -172.0625 & 58.927345\\\\\n",
       "\t  2 & 3116.230 & -202.7281 & 18.385321\\\\\n",
       "\t  3 & 3003.401 & -204.0482 & 13.564448\\\\\n",
       "\t  4 & 2931.132 & -203.1645 & 11.195607\\\\\n",
       "\t  5 & 2889.050 & -200.5392 & 10.651578\\\\\n",
       "\t  6 & 2803.100 & -200.6842 &  7.455676\\\\\n",
       "\t  7 & 2761.383 & -198.1527 &  6.933729\\\\\n",
       "\t  8 & 2727.868 & -195.1314 &  6.907693\\\\\n",
       "\t  9 & 2705.357 & -191.4194 &  7.546799\\\\\n",
       "\t 10 & 2688.527 & -187.3472 &  8.529381\\\\\n",
       "\t 11 & 2671.857 & -183.2714 &  9.521616\\\\\n",
       "\t 12 & 2665.834 & -178.4981 & 11.157546\\\\\n",
       "\t 13 & 2664.675 & -173.4041 & 13.087483\\\\\n",
       "\t 14 & 2663.228 & -168.3292 & 15.000000\\\\\n",
       "\\end{tabular}\n"
      ],
      "text/markdown": [
       "\n",
       "A tibble: 14 × 4\n",
       "\n",
       "| n_input_variables &lt;int&gt; | RSS &lt;dbl&gt; | BIC &lt;dbl&gt; | Cp &lt;dbl&gt; |\n",
       "|---|---|---|---|\n",
       "|  1 | 3819.952 | -172.0625 | 58.927345 |\n",
       "|  2 | 3116.230 | -202.7281 | 18.385321 |\n",
       "|  3 | 3003.401 | -204.0482 | 13.564448 |\n",
       "|  4 | 2931.132 | -203.1645 | 11.195607 |\n",
       "|  5 | 2889.050 | -200.5392 | 10.651578 |\n",
       "|  6 | 2803.100 | -200.6842 |  7.455676 |\n",
       "|  7 | 2761.383 | -198.1527 |  6.933729 |\n",
       "|  8 | 2727.868 | -195.1314 |  6.907693 |\n",
       "|  9 | 2705.357 | -191.4194 |  7.546799 |\n",
       "| 10 | 2688.527 | -187.3472 |  8.529381 |\n",
       "| 11 | 2671.857 | -183.2714 |  9.521616 |\n",
       "| 12 | 2665.834 | -178.4981 | 11.157546 |\n",
       "| 13 | 2664.675 | -173.4041 | 13.087483 |\n",
       "| 14 | 2663.228 | -168.3292 | 15.000000 |\n",
       "\n"
      ],
      "text/plain": [
       "   n_input_variables RSS      BIC       Cp       \n",
       "1   1                3819.952 -172.0625 58.927345\n",
       "2   2                3116.230 -202.7281 18.385321\n",
       "3   3                3003.401 -204.0482 13.564448\n",
       "4   4                2931.132 -203.1645 11.195607\n",
       "5   5                2889.050 -200.5392 10.651578\n",
       "6   6                2803.100 -200.6842  7.455676\n",
       "7   7                2761.383 -198.1527  6.933729\n",
       "8   8                2727.868 -195.1314  6.907693\n",
       "9   9                2705.357 -191.4194  7.546799\n",
       "10 10                2688.527 -187.3472  8.529381\n",
       "11 11                2671.857 -183.2714  9.521616\n",
       "12 12                2665.834 -178.4981 11.157546\n",
       "13 13                2664.675 -173.4041 13.087483\n",
       "14 14                2663.228 -168.3292 15.000000"
      ]
     },
     "metadata": {},
     "output_type": "display_data"
    },
    {
     "data": {
      "text/plain": [
       "Subset selection object\n",
       "Call: regsubsets.formula(x = brozek ~ ., nvmax = 14, data = training_fat, \n",
       "    method = \"forward\")\n",
       "14 Variables  (and intercept)\n",
       "        Forced in Forced out\n",
       "age         FALSE      FALSE\n",
       "weight      FALSE      FALSE\n",
       "height      FALSE      FALSE\n",
       "adipos      FALSE      FALSE\n",
       "neck        FALSE      FALSE\n",
       "chest       FALSE      FALSE\n",
       "abdom       FALSE      FALSE\n",
       "hip         FALSE      FALSE\n",
       "thigh       FALSE      FALSE\n",
       "knee        FALSE      FALSE\n",
       "ankle       FALSE      FALSE\n",
       "biceps      FALSE      FALSE\n",
       "forearm     FALSE      FALSE\n",
       "wrist       FALSE      FALSE\n",
       "1 subsets of each size up to 14\n",
       "Selection Algorithm: forward\n",
       "          age weight height adipos neck chest abdom hip thigh knee ankle biceps\n",
       "1  ( 1 )  \" \" \" \"    \" \"    \" \"    \" \"  \" \"   \"*\"   \" \" \" \"   \" \"  \" \"   \" \"   \n",
       "2  ( 1 )  \" \" \"*\"    \" \"    \" \"    \" \"  \" \"   \"*\"   \" \" \" \"   \" \"  \" \"   \" \"   \n",
       "3  ( 1 )  \" \" \"*\"    \" \"    \" \"    \"*\"  \" \"   \"*\"   \" \" \" \"   \" \"  \" \"   \" \"   \n",
       "4  ( 1 )  \" \" \"*\"    \" \"    \" \"    \"*\"  \" \"   \"*\"   \" \" \" \"   \" \"  \" \"   \" \"   \n",
       "5  ( 1 )  \" \" \"*\"    \" \"    \" \"    \"*\"  \" \"   \"*\"   \" \" \" \"   \" \"  \" \"   \" \"   \n",
       "6  ( 1 )  \"*\" \"*\"    \" \"    \" \"    \"*\"  \" \"   \"*\"   \" \" \" \"   \" \"  \" \"   \" \"   \n",
       "7  ( 1 )  \"*\" \"*\"    \" \"    \" \"    \"*\"  \" \"   \"*\"   \" \" \"*\"   \" \"  \" \"   \" \"   \n",
       "8  ( 1 )  \"*\" \"*\"    \" \"    \" \"    \"*\"  \" \"   \"*\"   \" \" \"*\"   \" \"  \"*\"   \" \"   \n",
       "9  ( 1 )  \"*\" \"*\"    \" \"    \" \"    \"*\"  \" \"   \"*\"   \"*\" \"*\"   \" \"  \"*\"   \" \"   \n",
       "10  ( 1 ) \"*\" \"*\"    \" \"    \" \"    \"*\"  \" \"   \"*\"   \"*\" \"*\"   \" \"  \"*\"   \"*\"   \n",
       "11  ( 1 ) \"*\" \"*\"    \" \"    \" \"    \"*\"  \"*\"   \"*\"   \"*\" \"*\"   \" \"  \"*\"   \"*\"   \n",
       "12  ( 1 ) \"*\" \"*\"    \"*\"    \" \"    \"*\"  \"*\"   \"*\"   \"*\" \"*\"   \" \"  \"*\"   \"*\"   \n",
       "13  ( 1 ) \"*\" \"*\"    \"*\"    \"*\"    \"*\"  \"*\"   \"*\"   \"*\" \"*\"   \" \"  \"*\"   \"*\"   \n",
       "14  ( 1 ) \"*\" \"*\"    \"*\"    \"*\"    \"*\"  \"*\"   \"*\"   \"*\" \"*\"   \"*\"  \"*\"   \"*\"   \n",
       "          forearm wrist\n",
       "1  ( 1 )  \" \"     \" \"  \n",
       "2  ( 1 )  \" \"     \" \"  \n",
       "3  ( 1 )  \" \"     \" \"  \n",
       "4  ( 1 )  \"*\"     \" \"  \n",
       "5  ( 1 )  \"*\"     \"*\"  \n",
       "6  ( 1 )  \"*\"     \"*\"  \n",
       "7  ( 1 )  \"*\"     \"*\"  \n",
       "8  ( 1 )  \"*\"     \"*\"  \n",
       "9  ( 1 )  \"*\"     \"*\"  \n",
       "10  ( 1 ) \"*\"     \"*\"  \n",
       "11  ( 1 ) \"*\"     \"*\"  \n",
       "12  ( 1 ) \"*\"     \"*\"  \n",
       "13  ( 1 ) \"*\"     \"*\"  \n",
       "14  ( 1 ) \"*\"     \"*\"  "
      ]
     },
     "metadata": {},
     "output_type": "display_data"
    }
   ],
   "source": [
    "#Run this cell below before continuing.\n",
    "\n",
    "fat_fwd_summary\n",
    "summary(fat_forward_sel)"
   ]
  },
  {
   "cell_type": "code",
   "execution_count": 20,
   "metadata": {
    "deletable": false,
    "nbgrader": {
     "cell_type": "code",
     "checksum": "7c29db216d290a29fe89d86ee5413bbb",
     "grade": false,
     "grade_id": "cell-93df75b1dbcf6f3d",
     "locked": false,
     "schema_version": 3,
     "solution": true,
     "task": false
    },
    "tags": []
   },
   "outputs": [],
   "source": [
    "# answer3.1 <- \n",
    "\n",
    "# your code here\n",
    "answer3.1 <- \"ABEGIKMN\""
   ]
  },
  {
   "cell_type": "code",
   "execution_count": 21,
   "metadata": {
    "deletable": false,
    "editable": false,
    "nbgrader": {
     "cell_type": "code",
     "checksum": "a53b432dc340bf464674733e16e5d424",
     "grade": true,
     "grade_id": "cell-cdaf675d0527f2a3",
     "locked": true,
     "points": 1,
     "schema_version": 3,
     "solution": false,
     "task": false
    },
    "tags": []
   },
   "outputs": [
    {
     "name": "stdout",
     "output_type": "stream",
     "text": [
      "\u001b[32mTest passed\u001b[39m 🥇\n",
      "\u001b[32mTest passed\u001b[39m 😸\n",
      "\u001b[32mTest passed\u001b[39m 😸\n",
      "[1] \"Success!\"\n"
     ]
    }
   ],
   "source": [
    "test_3.1()"
   ]
  },
  {
   "cell_type": "markdown",
   "metadata": {
    "deletable": false,
    "editable": false,
    "nbgrader": {
     "cell_type": "markdown",
     "checksum": "85c64b5885310c2f08597612aa049ba3",
     "grade": false,
     "grade_id": "cell-c2031cb142446eae",
     "locked": true,
     "schema_version": 3,
     "solution": false,
     "task": false
    }
   },
   "source": [
    "**Question 3.2**\n",
    "<br>{points: 1}\n",
    "\n",
    "Use the variables selected by the forward subset algorithm to build a *predictive* model. \n",
    "\n",
    "1. Identify the size of the model that minimizes the $C_P$, call it `cp_min`\n",
    "\n",
    "2. Find the name of the variables for the best model of size `cp_min`, selected by the forward algorithm. Store them in an object called `selected_var`. Do not include the intercept with the variable names. \n",
    "\n",
    "3. Select only those columns and the response `brozek` from `training_fat`. Called the reduced data frames `training_subset`. \n",
    "\n",
    "> The previous step allows you to conveniently fit `lm` on all variables in the data, except the response. Note that the test set can include additional variables that won't be used to predict if not included in the model.\n",
    "\n",
    "4. Train the predictive model using `lm()` and the reduced `training_subset` data. Call it `fat_red_OLS`. \n",
    "\n",
    "*Fill out those parts indicated with `...`, uncomment the corresponding code in the cell below, and run it.*"
   ]
  },
  {
   "cell_type": "code",
   "execution_count": 22,
   "metadata": {
    "deletable": false,
    "nbgrader": {
     "cell_type": "code",
     "checksum": "b91c3df0c1bf42ddf692577e33c791ad",
     "grade": false,
     "grade_id": "cell-e3cdcbe990c76181",
     "locked": false,
     "schema_version": 3,
     "solution": true,
     "task": false
    },
    "tags": []
   },
   "outputs": [
    {
     "data": {
      "text/plain": [
       "\n",
       "Call:\n",
       "lm(formula = brozek ~ ., data = training_subset)\n",
       "\n",
       "Residuals:\n",
       "    Min      1Q  Median      3Q     Max \n",
       "-10.727  -2.851  -0.173   2.894   9.779 \n",
       "\n",
       "Coefficients:\n",
       "             Estimate Std. Error t value Pr(>|t|)    \n",
       "(Intercept) -32.34254   10.43232  -3.100  0.00227 ** \n",
       "age           0.08912    0.03399   2.622  0.00955 ** \n",
       "weight       -0.12138    0.03993  -3.040  0.00275 ** \n",
       "neck         -0.54808    0.26202  -2.092  0.03798 *  \n",
       "abdom         0.88547    0.07769  11.397  < 2e-16 ***\n",
       "thigh         0.19425    0.13019   1.492  0.13758    \n",
       "ankle         0.39202    0.27368   1.432  0.15390    \n",
       "forearm       0.46343    0.18916   2.450  0.01532 *  \n",
       "wrist        -1.42923    0.57360  -2.492  0.01369 *  \n",
       "---\n",
       "Signif. codes:  0 ‘***’ 0.001 ‘**’ 0.01 ‘*’ 0.05 ‘.’ 0.1 ‘ ’ 1\n",
       "\n",
       "Residual standard error: 4.042 on 167 degrees of freedom\n",
       "Multiple R-squared:  0.7467,\tAdjusted R-squared:  0.7345 \n",
       "F-statistic: 61.53 on 8 and 167 DF,  p-value: < 2.2e-16\n"
      ]
     },
     "metadata": {},
     "output_type": "display_data"
    }
   ],
   "source": [
    "# cp_min = which.min(...$Cp) \n",
    "# selected_var <- names(...(fat_forward_sel, ...))[-1]\n",
    "\n",
    "# training_subset <- training_fat %>% select(all_of(selected_var),brozek)\n",
    "\n",
    "# fat_red_OLS <- ...(...,\n",
    "#   ...\n",
    "# )\n",
    "\n",
    "# summary(fat_red_OLS)\n",
    "# your code here\n",
    "cp_min = which.min(fat_fwd_summary$Cp) \n",
    "selected_var <- names(coef(fat_forward_sel, cp_min))[-1]\n",
    "training_subset <- training_fat %>% select(all_of(selected_var),brozek)\n",
    "fat_red_OLS <- lm(brozek ~ .,\n",
    "  data = training_subset\n",
    ")\n",
    "\n",
    "summary(fat_red_OLS)"
   ]
  },
  {
   "cell_type": "code",
   "execution_count": 23,
   "metadata": {
    "deletable": false,
    "editable": false,
    "nbgrader": {
     "cell_type": "code",
     "checksum": "e7c0e3b6e20cce0178735ca8fceeb112",
     "grade": true,
     "grade_id": "cell-4a43c5f1253ecd65",
     "locked": true,
     "points": 1,
     "schema_version": 3,
     "solution": false,
     "task": false
    },
    "tags": []
   },
   "outputs": [
    {
     "name": "stdout",
     "output_type": "stream",
     "text": [
      "\u001b[32mTest passed\u001b[39m 😀\n",
      "\u001b[32mTest passed\u001b[39m 🌈\n",
      "[1] \"Success!\"\n"
     ]
    }
   ],
   "source": [
    "test_3.2()"
   ]
  },
  {
   "cell_type": "markdown",
   "metadata": {
    "deletable": false,
    "editable": false,
    "nbgrader": {
     "cell_type": "markdown",
     "checksum": "a11c8cb0e203113a89d705576857489b",
     "grade": false,
     "grade_id": "cell-c10616960ed7f965",
     "locked": true,
     "schema_version": 3,
     "solution": false,
     "task": false
    }
   },
   "source": [
    "**Question 3.3**\n",
    "<br>{points: 1}\n",
    "\n",
    "Use the trained model `fat_red_OLS` to predict the responses of the test set `testing_fat`, and call the resulting object `fat_test_pred_red_OLS`. \n",
    "\n",
    "*Fill out those parts indicated with `...`, uncomment the corresponding code in the cell below, and run it.*"
   ]
  },
  {
   "cell_type": "code",
   "execution_count": 24,
   "metadata": {
    "deletable": false,
    "nbgrader": {
     "cell_type": "code",
     "checksum": "5ac4a9cdc21984778b157901d0c636fa",
     "grade": false,
     "grade_id": "cell-652be4fb04a3d08f",
     "locked": false,
     "schema_version": 3,
     "solution": true,
     "task": false
    },
    "tags": []
   },
   "outputs": [],
   "source": [
    "# fat_test_pred_red_OLS <- ...(..., ...)\n",
    "\n",
    "# your code here\n",
    "fat_test_pred_red_OLS <- predict(fat_red_OLS, testing_fat)"
   ]
  },
  {
   "cell_type": "code",
   "execution_count": 25,
   "metadata": {
    "deletable": false,
    "editable": false,
    "nbgrader": {
     "cell_type": "code",
     "checksum": "000969da4f9b0ba9b5b918169227dcf9",
     "grade": true,
     "grade_id": "cell-1816fa077859ac09",
     "locked": true,
     "points": 1,
     "schema_version": 3,
     "solution": false,
     "task": false
    },
    "tags": []
   },
   "outputs": [
    {
     "name": "stdout",
     "output_type": "stream",
     "text": [
      "\u001b[32mTest passed\u001b[39m 🥳\n",
      "\u001b[32mTest passed\u001b[39m 🎊\n",
      "[1] \"Success!\"\n"
     ]
    }
   ],
   "source": [
    "test_3.3()"
   ]
  },
  {
   "cell_type": "markdown",
   "metadata": {
    "deletable": false,
    "editable": false,
    "nbgrader": {
     "cell_type": "markdown",
     "checksum": "31f62ebb8bc7352632754ebe0dc45642",
     "grade": false,
     "grade_id": "cell-eaea21affe2555ba",
     "locked": true,
     "schema_version": 3,
     "solution": false,
     "task": false
    }
   },
   "source": [
    "**Question 3.4**\n",
    "<br>{points: 1}\n",
    "\n",
    "Use the function `rmse()` to compute the RMSE of predicted brozek values of men in the test set stored in `fat_test_pred_red_OLS`. Add this metric as another row in the tibble `fat_RMSE_models` with `\"OLS Reduced Regression\"` in the column `Model` and the corresponding $\\text{RMSE}_{\\text{test}}$ in column `RMSE`.\n",
    "\n",
    "*Fill out those parts indicated with `...`, uncomment the corresponding code in the cell below, and run it.*"
   ]
  },
  {
   "cell_type": "code",
   "execution_count": 26,
   "metadata": {
    "deletable": false,
    "nbgrader": {
     "cell_type": "code",
     "checksum": "aeeca48a373c0b125016f873c684c643",
     "grade": false,
     "grade_id": "cell-11bdeb07c5bf1b14",
     "locked": false,
     "schema_version": 3,
     "solution": true,
     "task": false
    },
    "tags": []
   },
   "outputs": [
    {
     "data": {
      "text/html": [
       "<table class=\"dataframe\">\n",
       "<caption>A tibble: 2 × 2</caption>\n",
       "<thead>\n",
       "\t<tr><th scope=col>Model</th><th scope=col>RMSE</th></tr>\n",
       "\t<tr><th scope=col>&lt;chr&gt;</th><th scope=col>&lt;dbl&gt;</th></tr>\n",
       "</thead>\n",
       "<tbody>\n",
       "\t<tr><td>OLS Full Regression   </td><td>3.997984</td></tr>\n",
       "\t<tr><td>OLS Reduced Regression</td><td>3.957596</td></tr>\n",
       "</tbody>\n",
       "</table>\n"
      ],
      "text/latex": [
       "A tibble: 2 × 2\n",
       "\\begin{tabular}{ll}\n",
       " Model & RMSE\\\\\n",
       " <chr> & <dbl>\\\\\n",
       "\\hline\n",
       "\t OLS Full Regression    & 3.997984\\\\\n",
       "\t OLS Reduced Regression & 3.957596\\\\\n",
       "\\end{tabular}\n"
      ],
      "text/markdown": [
       "\n",
       "A tibble: 2 × 2\n",
       "\n",
       "| Model &lt;chr&gt; | RMSE &lt;dbl&gt; |\n",
       "|---|---|\n",
       "| OLS Full Regression    | 3.997984 |\n",
       "| OLS Reduced Regression | 3.957596 |\n",
       "\n"
      ],
      "text/plain": [
       "  Model                  RMSE    \n",
       "1 OLS Full Regression    3.997984\n",
       "2 OLS Reduced Regression 3.957596"
      ]
     },
     "metadata": {},
     "output_type": "display_data"
    }
   ],
   "source": [
    "# fat_RMSE_models <- rbind(\n",
    "#   fat_RMSE_models,\n",
    "#   tibble(\n",
    "#     Model = ...\n",
    "#     RMSE = ...\n",
    "#     )\n",
    "#   )\n",
    "# fat_RMSE_models\n",
    "\n",
    "# your code here\n",
    "fat_RMSE_models <- rbind(\n",
    "  fat_RMSE_models,\n",
    "  tibble(\n",
    "    Model = \"OLS Reduced Regression\",\n",
    "    RMSE = rmse(fat_test_pred_red_OLS,\n",
    "                testing_fat$brozek)\n",
    "    )\n",
    "  )\n",
    "fat_RMSE_models"
   ]
  },
  {
   "cell_type": "code",
   "execution_count": 27,
   "metadata": {
    "deletable": false,
    "editable": false,
    "nbgrader": {
     "cell_type": "code",
     "checksum": "52799ececc7886508dec2ada3d1e2596",
     "grade": true,
     "grade_id": "cell-46381f5f719a7deb",
     "locked": true,
     "points": 1,
     "schema_version": 3,
     "solution": false,
     "task": false
    },
    "tags": []
   },
   "outputs": [
    {
     "name": "stdout",
     "output_type": "stream",
     "text": [
      "\u001b[32mTest passed\u001b[39m 😀\n",
      "\u001b[32mTest passed\u001b[39m 🎊\n",
      "\u001b[32mTest passed\u001b[39m 🥳\n",
      "\u001b[32mTest passed\u001b[39m 🌈\n",
      "\u001b[32mTest passed\u001b[39m 🥇\n",
      "[1] \"Success!\"\n"
     ]
    }
   ],
   "source": [
    "test_3.4()"
   ]
  },
  {
   "cell_type": "markdown",
   "metadata": {
    "deletable": false,
    "editable": false,
    "nbgrader": {
     "cell_type": "markdown",
     "checksum": "3318e7fbeb028d5dfa8333eed3a11a9d",
     "grade": false,
     "grade_id": "cell-740283c4e701a459",
     "locked": true,
     "schema_version": 3,
     "solution": false,
     "task": false
    }
   },
   "source": [
    "**Question 3.5**\n",
    "<br>{points: 1}\n",
    "\n",
    "Based on your results in `fat_RMSE_models`, which model has the best *out-of-sample* prediction performance?\n",
    "\n",
    "**A.** OLS Full Regression.\n",
    "\n",
    "**B.** OLS Reduced Regression.\n",
    "\n",
    "*Assign your answer to an object called `answer3.5`. Your answer should be one of `\"A\"` or `\"B\"` surrounded by quotes.*"
   ]
  },
  {
   "cell_type": "code",
   "execution_count": 28,
   "metadata": {
    "deletable": false,
    "nbgrader": {
     "cell_type": "code",
     "checksum": "a78bef49160827c221ffc231cfadff83",
     "grade": false,
     "grade_id": "cell-70eb6901ab1210b6",
     "locked": false,
     "schema_version": 3,
     "solution": true,
     "task": false
    },
    "tags": []
   },
   "outputs": [],
   "source": [
    "# answer3.5 <- \n",
    "\n",
    "# your code here\n",
    "answer3.5 <- \"B\""
   ]
  },
  {
   "cell_type": "code",
   "execution_count": 29,
   "metadata": {
    "deletable": false,
    "editable": false,
    "nbgrader": {
     "cell_type": "code",
     "checksum": "75fae35fc5e49710e2d5ffd801f1288c",
     "grade": true,
     "grade_id": "cell-9c86e69e26271ed6",
     "locked": true,
     "points": 1,
     "schema_version": 3,
     "solution": false,
     "task": false
    },
    "tags": []
   },
   "outputs": [
    {
     "name": "stdout",
     "output_type": "stream",
     "text": [
      "\u001b[32mTest passed\u001b[39m 😀\n",
      "\u001b[32mTest passed\u001b[39m 😀\n",
      "\u001b[32mTest passed\u001b[39m 😀\n",
      "[1] \"Success!\"\n"
     ]
    }
   ],
   "source": [
    "test_3.5()"
   ]
  },
  {
   "cell_type": "code",
   "execution_count": null,
   "metadata": {},
   "outputs": [],
   "source": []
  }
 ],
 "metadata": {
  "jupytext": {
   "formats": "ipynb,Rmd"
  },
  "kernelspec": {
   "display_name": "R",
   "language": "R",
   "name": "ir"
  },
  "language_info": {
   "codemirror_mode": "r",
   "file_extension": ".r",
   "mimetype": "text/x-r-source",
   "name": "R",
   "pygments_lexer": "r",
   "version": "4.2.3"
  },
  "latex_envs": {
   "LaTeX_envs_menu_present": true,
   "autoclose": false,
   "autocomplete": true,
   "bibliofile": "biblio.bib",
   "cite_by": "apalike",
   "current_citInitial": 1,
   "eqLabelWithNumbers": true,
   "eqNumInitial": 1,
   "hotkeys": {
    "equation": "Ctrl-E",
    "itemize": "Ctrl-I"
   },
   "labels_anchors": false,
   "latex_user_defs": false,
   "report_style_numbering": false,
   "user_envs_cfg": false
  }
 },
 "nbformat": 4,
 "nbformat_minor": 4
}
